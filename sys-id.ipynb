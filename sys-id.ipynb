{
 "cells": [
  {
   "cell_type": "code",
   "execution_count": 1,
   "metadata": {},
   "outputs": [
    {
     "name": "stderr",
     "output_type": "stream",
     "text": [
      "\u001b[32m\u001b[1m   Updating\u001b[22m\u001b[39m registry at `~/.julia/registries/General`\n",
      "######################################################################### 100.0%\n",
      "\u001b[32m\u001b[1m  Resolving\u001b[22m\u001b[39m package versions...\n",
      "\u001b[32m\u001b[1mNo Changes\u001b[22m\u001b[39m to `~/.julia/environments/v1.5/Project.toml`\n",
      "\u001b[32m\u001b[1mNo Changes\u001b[22m\u001b[39m to `~/.julia/environments/v1.5/Manifest.toml`\n",
      "\u001b[32m\u001b[1m  Resolving\u001b[22m\u001b[39m package versions...\n",
      "\u001b[32m\u001b[1mNo Changes\u001b[22m\u001b[39m to `~/.julia/environments/v1.5/Project.toml`\n",
      "\u001b[32m\u001b[1mNo Changes\u001b[22m\u001b[39m to `~/.julia/environments/v1.5/Manifest.toml`\n",
      "\u001b[32m\u001b[1m  Resolving\u001b[22m\u001b[39m package versions...\n",
      "\u001b[32m\u001b[1mNo Changes\u001b[22m\u001b[39m to `~/.julia/environments/v1.5/Project.toml`\n",
      "\u001b[32m\u001b[1mNo Changes\u001b[22m\u001b[39m to `~/.julia/environments/v1.5/Manifest.toml`\n"
     ]
    }
   ],
   "source": [
    "import Pkg\n",
    "Pkg.add(\"Plots\")\n",
    "Pkg.add(\"Distributions\")\n",
    "Pkg.add(\"RandomMatrices\")"
   ]
  },
  {
   "cell_type": "code",
   "execution_count": 2,
   "metadata": {},
   "outputs": [],
   "source": [
    "using Plots\n",
    "using Random, LinearAlgebra\n",
    "default(size=(500,280))\n",
    "using Distributions\n",
    "using RandomMatrices"
   ]
  },
  {
   "cell_type": "code",
   "execution_count": 3,
   "metadata": {},
   "outputs": [
    {
     "data": {
      "text/plain": [
       "average_over_trials (generic function with 1 method)"
      ]
     },
     "execution_count": 3,
     "metadata": {},
     "output_type": "execute_result"
    }
   ],
   "source": [
    "mutable struct LDS\n",
    "    inputDim::Int\n",
    "    stateDim::Int\n",
    "    outputDim::Int\n",
    "    x::Array{Float64,1}\n",
    "    stateCovar::Array{Float64,2}\n",
    "    outputCovar::Array{Float64,2}\n",
    "    A::Array{Float64,2}\n",
    "    B::Array{Float64,2}\n",
    "    C::Array{Float64,2}\n",
    "    D::Array{Float64,2}\n",
    "end\n",
    "\n",
    "function step(lds::LDS, u::Array{Float64,1})\n",
    "    #xi = if (lds.stateCovar == zeros(lds.stateDim,lds.stateDim)) zeros(lds.stateDim) else \n",
    "    #    rand(MvNormal(zeros(lds.stateDim),lds.stateCovar),1) end\n",
    "    local xi\n",
    "    local eta\n",
    "    try\n",
    "        xi = rand(MvNormal(zeros(lds.stateDim),lds.stateCovar),1)\n",
    "    catch y\n",
    "        xi = zeros(lds.stateDim)\n",
    "    end\n",
    "    #eta = if (lds.outputCovar == zeros(lds.outputDim,lds.outputDim)) zeros(lds.outputDim) else\n",
    "    #    rand(MvNormal(zeros(lds.outputDim),lds.outputCovar),1) end\n",
    "    try\n",
    "        eta = rand(MvNormal(zeros(lds.outputDim),lds.outputCovar),1)\n",
    "    catch y\n",
    "        eta = zeros(lds.outputDim)\n",
    "    end\n",
    "    #display((lds.A,lds.x,lds.B,u,xi))\n",
    "    lds.x = lds.A*lds.x + lds.B*u + xi\n",
    "    lds.C*lds.x + lds.D*u + eta \n",
    "end\n",
    "\n",
    "function ksvd(H,k)\n",
    "    svdH = svd(H)\n",
    "    H1 = svdH.U * Diagonal(svdH.S) * Diagonal([(if (i<=k) 1.0 else 0 end) for i in 1:size(H)[2]]) * svdH.Vt\n",
    "    H1\n",
    "end\n",
    "\n",
    "function fmat(f,m,n)\n",
    "    [f(i,j) for i in 1:m, j in 1:n]\n",
    "end\n",
    "\n",
    "function toep(a,b,F)\n",
    "    if length(size(F))==2\n",
    "        F=reshape(F,size(F)[1],1,size(F)[2])\n",
    "    elseif length(size(F))==1\n",
    "        F =reshape(F,size(F)[1],1,1)\n",
    "    end\n",
    "    #display(F)\n",
    "    # starting with index 1 on diagonals\n",
    "    sz = size(F)[2:end]\n",
    "    #because hvcat does h first\n",
    "    tiledMatrix = fmat((i,j)-> if (i<=j) F[j-i+1,:,:] else zeros(sz...) end, b, a)\n",
    "    #tiledMatrix = fmat((i,j)-> if (i>=j) F[i-j+1,:,:] else zeros(sz...) end, a, b)\n",
    "    #display(tiledMatrix)\n",
    "    flatTiles = reshape(tiledMatrix, a*b)\n",
    "    #display(flatTiles)\n",
    "    TF = hvcat(b,flatTiles...)\n",
    "    TF\n",
    "end\n",
    "\n",
    "function least_squares_F(l, us,Y)\n",
    "    t = size(us)[1]\n",
    "    U = toep(t,l+1, us)\n",
    "    #display(U)\n",
    "    #display(U'*U)\n",
    "    #display(Y)\n",
    "    MF = (U'*U) \\ U'*Y\n",
    "    #F = reshape(MF, )\n",
    "    dy = size(Y)[2]\n",
    "    du = size(us)[2]\n",
    "    F = fill(0.0,l+1,dy,du)\n",
    "    #display(MF)\n",
    "    for i=1:l+1\n",
    "        F[i,:,:]=MF[(i-1)*du+1:i*du,:]'\n",
    "    end\n",
    "    F\n",
    "end\n",
    "\n",
    "function collect_data(lds, T)\n",
    "    us = fill(0.0,T,lds.inputDim)\n",
    "    #println(\"us:\")\n",
    "    #println(us)\n",
    "    Y = fill(0.0,T,lds.outputDim)\n",
    "    for t=1:T\n",
    "        u=rand(MvNormal(zeros(lds.inputDim),Matrix(I,lds.inputDim,lds.inputDim)))\n",
    "        us[t,:]=u\n",
    "        Y[t,:] = step(lds,u)\n",
    "    end\n",
    "    #println(us)\n",
    "    return (us,Y)\n",
    "end     \n",
    "\n",
    "function hankel(m,n,F,offset=0)\n",
    "    sz = size(F)\n",
    "    rows = sz[2]\n",
    "    cols = sz[3]\n",
    "    tiledMatrix = fmat((i,j)-> F[i+j-1+offset,:,:], n,m)\n",
    "    flatTiles = reshape(tiledMatrix, m*n)\n",
    "    H = hvcat(n,flatTiles...)\n",
    "    H\n",
    "    #[f[i+j-1] for i in 1:m, j in 1:n]\n",
    "end\n",
    "\n",
    "function diag_avgs(m,n,rows,cols,A)\n",
    "    cat([reshape(mean([A[(i-1)*rows+1:i*rows,(k-i-1)*cols+1:(k-i)*cols] for i in max(1,k-n):min(m,k-1)]),(1,rows,cols)) for k in 2:m+n]...,dims=1)\n",
    "end\n",
    "\n",
    "#will extract up to 3^levels\n",
    "#F should be defined up to 4/3*3^levels-1\n",
    "function hankel_multisvd(levels,r,F)\n",
    "    Ftilde = F[1:3^levels,:,:]\n",
    "    sz = size(F)[2:end]\n",
    "    local Fl\n",
    "    for l=1:levels\n",
    "        s=2*3^(l-1)\n",
    "        H=hankel(s,s,F)\n",
    "        Hr=ksvd(H,r)\n",
    "        #display(Hr)\n",
    "        Fl=diag_avgs(s,s,sz[1],sz[2],Hr)\n",
    "        Ftilde[3^(l-1)+1:3^l,:,:]=Fl[3^(l-1)+1:3^l,:,:]\n",
    "    end\n",
    "    Ftilde2 = Fl[1:3^levels,:,:] # 1 scale only\n",
    "    Ftilde, Ftilde2\n",
    "end\n",
    "\n",
    "function fir(lds,l)\n",
    "    #display([reshape(lds.C*lds.A^(t-1)*lds.B,(1,lds.outputDim,lds.inputDim)) for t=1:l])\n",
    "    cat([reshape(lds.C*lds.A^(t-1)*lds.B,(1,lds.outputDim,lds.inputDim)) for t=1:l]...,dims=1)\n",
    "end\n",
    "\n",
    "function random_orth(d1,d2)\n",
    "    A = rand(Haar(1),max(d1,d2))\n",
    "    A[1:d1,1:d2]\n",
    "end\n",
    "\n",
    "function random_lds(d_u,d,d_y,maxEV)\n",
    "    B = random_orth(d,d_u)\n",
    "    C = random_orth(d_y,d)\n",
    "    A = rand(MvNormal(zeros(d),Matrix(I,d,d)),d)\n",
    "    vals, vecs = eigen(A,sortby=(x->-abs(x)))\n",
    "    A = real.(vecs*Diagonal(vals/abs(vals[1])*maxEV) * inv(vecs))\n",
    "    LDS(\n",
    "        d_u, #inputDim\n",
    "        d, #stateDim\n",
    "        d_y, #outputDim\n",
    "        zeros(d), #x\n",
    "        zeros(d,d), #stateCovar\n",
    "        Matrix{Float64}(I,d_y,d_y), #outputCovar\n",
    "        A, #A\n",
    "        B, #B\n",
    "        C, #C\n",
    "        zeros(d_y,d_u)) #D\n",
    "end\n",
    "\n",
    "function run_experiment_on(lds, T, lossEvery, levels, d;verbose=false,startAt=0)\n",
    "    len = 4*3^(levels-1)-1\n",
    "    display(len)\n",
    "    (us,Y) = collect_data(lds, T)\n",
    "    Ftrue = fir(lds,3^levels)\n",
    "    numPts = Integer((T-startAt)/lossEvery)\n",
    "    errF = fill(0.0,numPts)\n",
    "    errSVD = fill(0.0,numPts)\n",
    "    errMultiSVD = fill(0.0,numPts)\n",
    "    local F\n",
    "    local Ftilde2\n",
    "    local Ftilde\n",
    "    for i=1:Integer((T-startAt)/lossEvery)\n",
    "        us1 = us[1:startAt+i*lossEvery,:]\n",
    "        Y1 = Y[1:startAt+i*lossEvery,:]\n",
    "        F = least_squares_F(len,us1,Y1)\n",
    "        #display((size(F[1:3^levels,:,:]),size(Ftrue)))\n",
    "        #display(F[1:3^levels,:,:]-Ftrue)\n",
    "        #blah = F[1:3^levels,:,:]-Ftrue\n",
    "        #display(norm(blah))\n",
    "        #print(i)\n",
    "        errF[i] = norm(F[1:3^levels,:,:]-Ftrue)\n",
    "        #print(errF[i])\n",
    "        #display((\"F:\",F,size(F)))\n",
    "        #display((\"Ftrue:\",Ftrue))\n",
    "        Ftilde, Ftilde2 = hankel_multisvd(levels,d,F)\n",
    "        errSVD[i] = norm(Ftilde2-Ftrue)\n",
    "        errMultiSVD[i] = norm(Ftilde-Ftrue)\n",
    "        display((startAt+i*lossEvery, errF[i], errSVD[i], errMultiSVD[i]))\n",
    "    end\n",
    "    if verbose\n",
    "        display(\"Ftrue:\")\n",
    "        display(Ftrue)\n",
    "        display(F[1:3^levels,:,:])\n",
    "        display(Ftilde2)\n",
    "        display(Ftilde)\n",
    "    end\n",
    "    (F[1:3^levels,:,:], Ftilde2, Ftilde, errF, errSVD, errMultiSVD)\n",
    "end\n",
    "\n",
    "function run_experiment(T, lossEvery, levels, d_u, d, d_y, maxEV;verbose=false,startAt=0)\n",
    "    run_experiment_on(random_lds(d_u,d,d_y,maxEV),T, lossEvery, levels, d;verbose=false,startAt=startAt)\n",
    "end\n",
    "\n",
    "function graph_experiment(lossEvery,errFs, errSVDs, errMultiSVDs;title=\"Error\",startAt=0)\n",
    "    pts = size(errFs)[2]\n",
    "    errFavg = mean(errFs,dims=1)\n",
    "    errSVDavg = mean(errSVDs,dims=1)\n",
    "    errMultiSVDavg = mean(errMultiSVDs,dims=1)\n",
    "    xs = startAt.+lossEvery*(1:pts)\n",
    "    #display(xs)\n",
    "    #display(errFavg)\n",
    "    #display(cat(errFavg,errSVDavg,errMultiSVDavg,dims=1))\n",
    "    plot(xs,cat(errFavg,errSVDavg,errMultiSVDavg,dims=1)', label = [\"least squares\" \"SVD\" \"multiscale SVD\"], lw=2, xlabel=\"time\", ylabel=\"error\", title=title)\n",
    "end\n",
    "\n",
    "function average_over_trials(d_u,d,d_y,levels,maxEV,trials,T,lossEvery;startAt=0)\n",
    "    pts = Integer((T-startAt)/lossEvery)\n",
    "    errFs = fill(0.0,trials,pts)\n",
    "    errSVDs = fill(0.0,trials,pts)\n",
    "    errMultiSVDs = fill(0.0,trials,pts)\n",
    "    for trial=1:trials\n",
    "        display(trial)\n",
    "        (F, Ftilde2, Ftilde, errF, errSVD, errMultiSVD) = run_experiment(T, lossEvery, levels, d_u,d,d_y,maxEV, verbose=false,startAt=startAt)\n",
    "        errFs[trial,:]=errF\n",
    "        errSVDs[trial,:]=errSVD\n",
    "        errMultiSVDs[trial,:]=errMultiSVD\n",
    "    end\n",
    "    (lossEvery,errFs, errSVDs, errMultiSVDs)\n",
    "end"
   ]
  },
  {
   "cell_type": "code",
   "execution_count": 4,
   "metadata": {},
   "outputs": [
    {
     "data": {
      "text/plain": [
       "1"
      ]
     },
     "metadata": {},
     "output_type": "display_data"
    },
    {
     "data": {
      "text/plain": [
       "35"
      ]
     },
     "metadata": {},
     "output_type": "display_data"
    },
    {
     "data": {
      "text/plain": [
       "(100, 0.6863036048176664, 0.2283582881938174, 0.21920231369168633)"
      ]
     },
     "metadata": {},
     "output_type": "display_data"
    },
    {
     "data": {
      "text/plain": [
       "(200, 0.39548807960431787, 0.19670616535292937, 0.1845482623653914)"
      ]
     },
     "metadata": {},
     "output_type": "display_data"
    },
    {
     "data": {
      "text/plain": [
       "(300, 0.31410620977607306, 0.13014353775426624, 0.14830228295000078)"
      ]
     },
     "metadata": {},
     "output_type": "display_data"
    },
    {
     "data": {
      "text/plain": [
       "(400, 0.2875478104255261, 0.10787590369826805, 0.1292562275816941)"
      ]
     },
     "metadata": {},
     "output_type": "display_data"
    },
    {
     "data": {
      "text/plain": [
       "(500, 0.2742290160449595, 0.10187624031971437, 0.12746086725914313)"
      ]
     },
     "metadata": {},
     "output_type": "display_data"
    },
    {
     "data": {
      "text/plain": [
       "(600, 0.21902756878885574, 0.12065150890370338, 0.12773932085114603)"
      ]
     },
     "metadata": {},
     "output_type": "display_data"
    },
    {
     "data": {
      "text/plain": [
       "(700, 0.21301943131304746, 0.13570670922466355, 0.14930727336508487)"
      ]
     },
     "metadata": {},
     "output_type": "display_data"
    },
    {
     "data": {
      "text/plain": [
       "(800, 0.20529600790126426, 0.11339483735169585, 0.12060238706783225)"
      ]
     },
     "metadata": {},
     "output_type": "display_data"
    },
    {
     "data": {
      "text/plain": [
       "(900, 0.20215467529519235, 0.11733713427415414, 0.11818269603379947)"
      ]
     },
     "metadata": {},
     "output_type": "display_data"
    },
    {
     "data": {
      "text/plain": [
       "(1000, 0.188020139525773, 0.11427315766046489, 0.11132040288770934)"
      ]
     },
     "metadata": {},
     "output_type": "display_data"
    },
    {
     "data": {
      "text/plain": [
       "(1100, 0.1561339058355235, 0.04731069464359403, 0.04633415806221747)"
      ]
     },
     "metadata": {},
     "output_type": "display_data"
    },
    {
     "data": {
      "text/plain": [
       "(1200, 0.15575721954042526, 0.027121148865457037, 0.03874305929214366)"
      ]
     },
     "metadata": {},
     "output_type": "display_data"
    },
    {
     "data": {
      "text/plain": [
       "(1300, 0.15895142566363246, 0.04198277653432338, 0.04740586092318646)"
      ]
     },
     "metadata": {},
     "output_type": "display_data"
    },
    {
     "data": {
      "text/plain": [
       "(1400, 0.14711330839265396, 0.03896084359241496, 0.05300950192938323)"
      ]
     },
     "metadata": {},
     "output_type": "display_data"
    },
    {
     "data": {
      "text/plain": [
       "(1500, 0.15444375012684794, 0.05445986002574805, 0.056986741512128354)"
      ]
     },
     "metadata": {},
     "output_type": "display_data"
    },
    {
     "data": {
      "text/plain": [
       "(1600, 0.14985231014506703, 0.034982063868466765, 0.043279066198626086)"
      ]
     },
     "metadata": {},
     "output_type": "display_data"
    },
    {
     "data": {
      "text/plain": [
       "(1700, 0.14188690746971194, 0.04119712700714384, 0.04434532655139374)"
      ]
     },
     "metadata": {},
     "output_type": "display_data"
    },
    {
     "data": {
      "text/plain": [
       "(1800, 0.1399072716328791, 0.03372431679675638, 0.03947981937182888)"
      ]
     },
     "metadata": {},
     "output_type": "display_data"
    },
    {
     "data": {
      "text/plain": [
       "(1900, 0.13675281180308513, 0.033306092132470676, 0.03838412977906984)"
      ]
     },
     "metadata": {},
     "output_type": "display_data"
    },
    {
     "data": {
      "text/plain": [
       "(2000, 0.13179759998582422, 0.030926873170214125, 0.04049625418780046)"
      ]
     },
     "metadata": {},
     "output_type": "display_data"
    },
    {
     "data": {
      "text/plain": [
       "2"
      ]
     },
     "metadata": {},
     "output_type": "display_data"
    },
    {
     "data": {
      "text/plain": [
       "35"
      ]
     },
     "metadata": {},
     "output_type": "display_data"
    },
    {
     "data": {
      "text/plain": [
       "(100, 0.8612039576833376, 0.3762277047120588, 0.41443525509024254)"
      ]
     },
     "metadata": {},
     "output_type": "display_data"
    },
    {
     "data": {
      "text/plain": [
       "(200, 0.48836051933967906, 0.22054799352256407, 0.30609345270264804)"
      ]
     },
     "metadata": {},
     "output_type": "display_data"
    },
    {
     "data": {
      "text/plain": [
       "(300, 0.4061397865182348, 0.10556590787887157, 0.22403942420543263)"
      ]
     },
     "metadata": {},
     "output_type": "display_data"
    },
    {
     "data": {
      "text/plain": [
       "(400, 0.3450497845103453, 0.09581133856730467, 0.2115774634509563)"
      ]
     },
     "metadata": {},
     "output_type": "display_data"
    },
    {
     "data": {
      "text/plain": [
       "(500, 0.33902315201721434, 0.06302886159695945, 0.1812540512217039)"
      ]
     },
     "metadata": {},
     "output_type": "display_data"
    },
    {
     "data": {
      "text/plain": [
       "(600, 0.313526028867615, 0.046314251884325454, 0.13967698770898326)"
      ]
     },
     "metadata": {},
     "output_type": "display_data"
    },
    {
     "data": {
      "text/plain": [
       "(700, 0.2730023984256248, 0.04883473005949706, 0.1299680536349341)"
      ]
     },
     "metadata": {},
     "output_type": "display_data"
    },
    {
     "data": {
      "text/plain": [
       "(800, 0.21878450608792263, 0.039307977897050476, 0.11466200559589614)"
      ]
     },
     "metadata": {},
     "output_type": "display_data"
    },
    {
     "data": {
      "text/plain": [
       "(900, 0.20485237130241177, 0.04021955564502743, 0.10519796600069505)"
      ]
     },
     "metadata": {},
     "output_type": "display_data"
    },
    {
     "data": {
      "text/plain": [
       "(1000, 0.18377665230580323, 0.04996096132052725, 0.1006233367959712)"
      ]
     },
     "metadata": {},
     "output_type": "display_data"
    },
    {
     "data": {
      "text/plain": [
       "(1100, 0.17556092463461023, 0.048611117880097206, 0.10137355678638568)"
      ]
     },
     "metadata": {},
     "output_type": "display_data"
    },
    {
     "data": {
      "text/plain": [
       "(1200, 0.17310552434599263, 0.04579854451814632, 0.09061759067442857)"
      ]
     },
     "metadata": {},
     "output_type": "display_data"
    },
    {
     "data": {
      "text/plain": [
       "(1300, 0.1589864595845205, 0.0476775820246388, 0.09437518061844337)"
      ]
     },
     "metadata": {},
     "output_type": "display_data"
    },
    {
     "data": {
      "text/plain": [
       "(1400, 0.14990908800953487, 0.045936139459217935, 0.0870008575610074)"
      ]
     },
     "metadata": {},
     "output_type": "display_data"
    },
    {
     "data": {
      "text/plain": [
       "(1500, 0.1508754771413973, 0.05576186719046576, 0.09221062830751243)"
      ]
     },
     "metadata": {},
     "output_type": "display_data"
    },
    {
     "data": {
      "text/plain": [
       "(1600, 0.13800973931882127, 0.05789533091704175, 0.09096027870501937)"
      ]
     },
     "metadata": {},
     "output_type": "display_data"
    },
    {
     "data": {
      "text/plain": [
       "(1700, 0.14151127109992212, 0.05266071720781716, 0.09028212357634566)"
      ]
     },
     "metadata": {},
     "output_type": "display_data"
    },
    {
     "data": {
      "text/plain": [
       "(1800, 0.1175120917898355, 0.048183490816204655, 0.07267576150207374)"
      ]
     },
     "metadata": {},
     "output_type": "display_data"
    },
    {
     "data": {
      "text/plain": [
       "(1900, 0.11129455794817375, 0.04981067087612913, 0.06520883335321054)"
      ]
     },
     "metadata": {},
     "output_type": "display_data"
    },
    {
     "data": {
      "text/plain": [
       "(2000, 0.10982359215691355, 0.04169035401581528, 0.05613320238049949)"
      ]
     },
     "metadata": {},
     "output_type": "display_data"
    },
    {
     "data": {
      "text/plain": [
       "3"
      ]
     },
     "metadata": {},
     "output_type": "display_data"
    },
    {
     "data": {
      "text/plain": [
       "35"
      ]
     },
     "metadata": {},
     "output_type": "display_data"
    },
    {
     "data": {
      "text/plain": [
       "(100, 0.620658992720308, 0.05513745473926429, 0.1858468602514265)"
      ]
     },
     "metadata": {},
     "output_type": "display_data"
    },
    {
     "data": {
      "text/plain": [
       "(200, 0.4194304792141572, 0.10495295109885402, 0.14496967812845785)"
      ]
     },
     "metadata": {},
     "output_type": "display_data"
    },
    {
     "data": {
      "text/plain": [
       "(300, 0.3606635905898483, 0.09797779659991397, 0.12943287300791645)"
      ]
     },
     "metadata": {},
     "output_type": "display_data"
    },
    {
     "data": {
      "text/plain": [
       "(400, 0.2923461893218877, 0.09371659475643308, 0.13560504554564323)"
      ]
     },
     "metadata": {},
     "output_type": "display_data"
    },
    {
     "data": {
      "text/plain": [
       "(500, 0.24254996644957083, 0.08968260788967422, 0.12889807912324264)"
      ]
     },
     "metadata": {},
     "output_type": "display_data"
    },
    {
     "data": {
      "text/plain": [
       "(600, 0.23505482703901998, 0.06603236844115092, 0.12604690837750324)"
      ]
     },
     "metadata": {},
     "output_type": "display_data"
    },
    {
     "data": {
      "text/plain": [
       "(700, 0.22930308677676267, 0.05699862762232693, 0.11484895045074776)"
      ]
     },
     "metadata": {},
     "output_type": "display_data"
    },
    {
     "data": {
      "text/plain": [
       "(800, 0.21680643600183422, 0.06782673209188175, 0.12328662815167982)"
      ]
     },
     "metadata": {},
     "output_type": "display_data"
    },
    {
     "data": {
      "text/plain": [
       "(900, 0.17911994396326397, 0.058239648819749947, 0.112306461253632)"
      ]
     },
     "metadata": {},
     "output_type": "display_data"
    },
    {
     "data": {
      "text/plain": [
       "(1000, 0.16363562152488445, 0.04819202012396955, 0.10272145966959675)"
      ]
     },
     "metadata": {},
     "output_type": "display_data"
    },
    {
     "data": {
      "text/plain": [
       "(1100, 0.1632134722760856, 0.045604882833531056, 0.10540891168048397)"
      ]
     },
     "metadata": {},
     "output_type": "display_data"
    },
    {
     "data": {
      "text/plain": [
       "(1200, 0.15922597827910787, 0.041650081475849504, 0.09653021383731798)"
      ]
     },
     "metadata": {},
     "output_type": "display_data"
    },
    {
     "data": {
      "text/plain": [
       "(1300, 0.14892874057374514, 0.03348727497330606, 0.07764770204826757)"
      ]
     },
     "metadata": {},
     "output_type": "display_data"
    },
    {
     "data": {
      "text/plain": [
       "(1400, 0.1386569924904262, 0.02785163982269362, 0.0731156332940049)"
      ]
     },
     "metadata": {},
     "output_type": "display_data"
    },
    {
     "data": {
      "text/plain": [
       "(1500, 0.13168720153579092, 0.024468651363227296, 0.060665971293489454)"
      ]
     },
     "metadata": {},
     "output_type": "display_data"
    },
    {
     "data": {
      "text/plain": [
       "(1600, 0.12283193438384661, 0.02623486234668802, 0.052117063893041445)"
      ]
     },
     "metadata": {},
     "output_type": "display_data"
    },
    {
     "data": {
      "text/plain": [
       "(1700, 0.12747823669031602, 0.02480058791684173, 0.04574534240552961)"
      ]
     },
     "metadata": {},
     "output_type": "display_data"
    },
    {
     "data": {
      "text/plain": [
       "(1800, 0.11402872149631359, 0.03140268500695182, 0.04156672886259452)"
      ]
     },
     "metadata": {},
     "output_type": "display_data"
    },
    {
     "data": {
      "text/plain": [
       "(1900, 0.1125049685902131, 0.03055263173518068, 0.04278078702372963)"
      ]
     },
     "metadata": {},
     "output_type": "display_data"
    },
    {
     "data": {
      "text/plain": [
       "(2000, 0.10969880262527822, 0.03329869212963742, 0.04609621694253513)"
      ]
     },
     "metadata": {},
     "output_type": "display_data"
    },
    {
     "data": {
      "text/plain": [
       "4"
      ]
     },
     "metadata": {},
     "output_type": "display_data"
    },
    {
     "data": {
      "text/plain": [
       "35"
      ]
     },
     "metadata": {},
     "output_type": "display_data"
    },
    {
     "data": {
      "text/plain": [
       "(100, 0.6628855845945927, 0.15327720391733776, 0.35261215652445255)"
      ]
     },
     "metadata": {},
     "output_type": "display_data"
    },
    {
     "data": {
      "text/plain": [
       "(200, 0.5522115232010321, 0.10029175923871099, 0.2668995891810129)"
      ]
     },
     "metadata": {},
     "output_type": "display_data"
    },
    {
     "data": {
      "text/plain": [
       "(300, 0.3094390142630023, 0.07573008885653251, 0.16598500391157442)"
      ]
     },
     "metadata": {},
     "output_type": "display_data"
    },
    {
     "data": {
      "text/plain": [
       "(400, 0.2545276729937768, 0.05944143543490585, 0.1048276148293007)"
      ]
     },
     "metadata": {},
     "output_type": "display_data"
    },
    {
     "data": {
      "text/plain": [
       "(500, 0.25834979996918256, 0.07416501401540178, 0.11885489279058553)"
      ]
     },
     "metadata": {},
     "output_type": "display_data"
    },
    {
     "data": {
      "text/plain": [
       "(600, 0.20507689289075723, 0.05503042732032727, 0.07181409496206667)"
      ]
     },
     "metadata": {},
     "output_type": "display_data"
    },
    {
     "data": {
      "text/plain": [
       "(700, 0.20793413982934023, 0.04549417360891665, 0.0538160480177852)"
      ]
     },
     "metadata": {},
     "output_type": "display_data"
    },
    {
     "data": {
      "text/plain": [
       "(800, 0.1764804009901985, 0.019818101921184845, 0.03491358056029631)"
      ]
     },
     "metadata": {},
     "output_type": "display_data"
    },
    {
     "data": {
      "text/plain": [
       "(900, 0.16456408228925457, 0.03542365390436146, 0.043180088792065044)"
      ]
     },
     "metadata": {},
     "output_type": "display_data"
    },
    {
     "data": {
      "text/plain": [
       "(1000, 0.13518751891326072, 0.020535394532708532, 0.03128870256695931)"
      ]
     },
     "metadata": {},
     "output_type": "display_data"
    },
    {
     "data": {
      "text/plain": [
       "(1100, 0.12202092181849734, 0.024059682910038654, 0.037986391570745376)"
      ]
     },
     "metadata": {},
     "output_type": "display_data"
    },
    {
     "data": {
      "text/plain": [
       "(1200, 0.12455862112202697, 0.02723676956310063, 0.041447941856107805)"
      ]
     },
     "metadata": {},
     "output_type": "display_data"
    },
    {
     "data": {
      "text/plain": [
       "(1300, 0.13087196066988888, 0.01396480886863278, 0.030301382941131536)"
      ]
     },
     "metadata": {},
     "output_type": "display_data"
    },
    {
     "data": {
      "text/plain": [
       "(1400, 0.11991075385172963, 0.014766660263267457, 0.03609560911054332)"
      ]
     },
     "metadata": {},
     "output_type": "display_data"
    },
    {
     "data": {
      "text/plain": [
       "(1500, 0.1256072282180251, 0.016954076101113328, 0.04027871575117137)"
      ]
     },
     "metadata": {},
     "output_type": "display_data"
    },
    {
     "data": {
      "text/plain": [
       "(1600, 0.12870773889899587, 0.019210612198994594, 0.03638684434211881)"
      ]
     },
     "metadata": {},
     "output_type": "display_data"
    },
    {
     "data": {
      "text/plain": [
       "(1700, 0.12472036807674895, 0.026200458046524325, 0.03559397197730582)"
      ]
     },
     "metadata": {},
     "output_type": "display_data"
    },
    {
     "data": {
      "text/plain": [
       "(1800, 0.12873740767702754, 0.03563350701305521, 0.03613754306578689)"
      ]
     },
     "metadata": {},
     "output_type": "display_data"
    },
    {
     "data": {
      "text/plain": [
       "(1900, 0.12728928374836354, 0.03570723407751384, 0.03871364747257786)"
      ]
     },
     "metadata": {},
     "output_type": "display_data"
    },
    {
     "data": {
      "text/plain": [
       "(2000, 0.11796939078706425, 0.031202382729878117, 0.03798399074515572)"
      ]
     },
     "metadata": {},
     "output_type": "display_data"
    },
    {
     "data": {
      "text/plain": [
       "5"
      ]
     },
     "metadata": {},
     "output_type": "display_data"
    },
    {
     "data": {
      "text/plain": [
       "35"
      ]
     },
     "metadata": {},
     "output_type": "display_data"
    },
    {
     "data": {
      "text/plain": [
       "(100, 0.7783848010631601, 0.17322486487110988, 0.2029940089416236)"
      ]
     },
     "metadata": {},
     "output_type": "display_data"
    },
    {
     "data": {
      "text/plain": [
       "(200, 0.4076085559081851, 0.041979608958360046, 0.11857291682166858)"
      ]
     },
     "metadata": {},
     "output_type": "display_data"
    },
    {
     "data": {
      "text/plain": [
       "(300, 0.31295523424413435, 0.050138700838183364, 0.13874533874376627)"
      ]
     },
     "metadata": {},
     "output_type": "display_data"
    },
    {
     "data": {
      "text/plain": [
       "(400, 0.25588127396568433, 0.04669648319641829, 0.08235432586661852)"
      ]
     },
     "metadata": {},
     "output_type": "display_data"
    },
    {
     "data": {
      "text/plain": [
       "(500, 0.19212961542299295, 0.05393507452021535, 0.09596997246514105)"
      ]
     },
     "metadata": {},
     "output_type": "display_data"
    },
    {
     "data": {
      "text/plain": [
       "(600, 0.1729290091423901, 0.048979380722878135, 0.06593580002587841)"
      ]
     },
     "metadata": {},
     "output_type": "display_data"
    },
    {
     "data": {
      "text/plain": [
       "(700, 0.1752064708761171, 0.019249736089808112, 0.044899910431454276)"
      ]
     },
     "metadata": {},
     "output_type": "display_data"
    },
    {
     "data": {
      "text/plain": [
       "(800, 0.17485324416560727, 0.017685637187031433, 0.04444997532408798)"
      ]
     },
     "metadata": {},
     "output_type": "display_data"
    },
    {
     "data": {
      "text/plain": [
       "(900, 0.1675645757373624, 0.029256555035770952, 0.057407289792853186)"
      ]
     },
     "metadata": {},
     "output_type": "display_data"
    },
    {
     "data": {
      "text/plain": [
       "(1000, 0.1551449982015589, 0.01709940668972494, 0.0438791969606289)"
      ]
     },
     "metadata": {},
     "output_type": "display_data"
    },
    {
     "data": {
      "text/plain": [
       "(1100, 0.15040772690883708, 0.010298953377903495, 0.04173580659607613)"
      ]
     },
     "metadata": {},
     "output_type": "display_data"
    },
    {
     "data": {
      "text/plain": [
       "(1200, 0.143931709293371, 0.008549292464198721, 0.022945857931154074)"
      ]
     },
     "metadata": {},
     "output_type": "display_data"
    },
    {
     "data": {
      "text/plain": [
       "(1300, 0.14182452633321632, 0.014602726655437766, 0.029912085703721152)"
      ]
     },
     "metadata": {},
     "output_type": "display_data"
    },
    {
     "data": {
      "text/plain": [
       "(1400, 0.13553872238450757, 0.017033053380775993, 0.02975057749599635)"
      ]
     },
     "metadata": {},
     "output_type": "display_data"
    },
    {
     "data": {
      "text/plain": [
       "(1500, 0.1325435737806432, 0.018049516525025545, 0.03072497638845716)"
      ]
     },
     "metadata": {},
     "output_type": "display_data"
    },
    {
     "data": {
      "text/plain": [
       "(1600, 0.12959189873090235, 0.012818349327676445, 0.026763298678099016)"
      ]
     },
     "metadata": {},
     "output_type": "display_data"
    },
    {
     "data": {
      "text/plain": [
       "(1700, 0.136502294167176, 0.02075542617200753, 0.027699686670467755)"
      ]
     },
     "metadata": {},
     "output_type": "display_data"
    },
    {
     "data": {
      "text/plain": [
       "(1800, 0.13114392059249122, 0.018893172436718262, 0.02548797595623713)"
      ]
     },
     "metadata": {},
     "output_type": "display_data"
    },
    {
     "data": {
      "text/plain": [
       "(1900, 0.1297552724707037, 0.019971717031585488, 0.023233996613867238)"
      ]
     },
     "metadata": {},
     "output_type": "display_data"
    },
    {
     "data": {
      "text/plain": [
       "(2000, 0.12933021613996187, 0.02670730279767217, 0.03020716286586359)"
      ]
     },
     "metadata": {},
     "output_type": "display_data"
    },
    {
     "data": {
      "text/plain": [
       "6"
      ]
     },
     "metadata": {},
     "output_type": "display_data"
    },
    {
     "data": {
      "text/plain": [
       "35"
      ]
     },
     "metadata": {},
     "output_type": "display_data"
    },
    {
     "data": {
      "text/plain": [
       "(100, 0.9183702575881431, 0.19040839215672262, 0.31093981707989415)"
      ]
     },
     "metadata": {},
     "output_type": "display_data"
    },
    {
     "data": {
      "text/plain": [
       "(200, 0.4548018191253689, 0.09397654058392411, 0.11728831823302953)"
      ]
     },
     "metadata": {},
     "output_type": "display_data"
    },
    {
     "data": {
      "text/plain": [
       "(300, 0.2933623410643117, 0.10462751562135021, 0.0895856920435842)"
      ]
     },
     "metadata": {},
     "output_type": "display_data"
    },
    {
     "data": {
      "text/plain": [
       "(400, 0.23618837551026886, 0.07708477861699597, 0.10493941662758892)"
      ]
     },
     "metadata": {},
     "output_type": "display_data"
    },
    {
     "data": {
      "text/plain": [
       "(500, 0.20874236247853356, 0.07604957924024246, 0.09238498816212971)"
      ]
     },
     "metadata": {},
     "output_type": "display_data"
    },
    {
     "data": {
      "text/plain": [
       "(600, 0.19326430365841718, 0.06282210009840941, 0.08611144274455072)"
      ]
     },
     "metadata": {},
     "output_type": "display_data"
    },
    {
     "data": {
      "text/plain": [
       "(700, 0.16102109856897356, 0.06451286192753164, 0.07761500129537365)"
      ]
     },
     "metadata": {},
     "output_type": "display_data"
    },
    {
     "data": {
      "text/plain": [
       "(800, 0.14693949902221892, 0.05076673995251554, 0.053407464975410074)"
      ]
     },
     "metadata": {},
     "output_type": "display_data"
    },
    {
     "data": {
      "text/plain": [
       "(900, 0.13183036778223725, 0.04391495865059963, 0.055220468015806885)"
      ]
     },
     "metadata": {},
     "output_type": "display_data"
    },
    {
     "data": {
      "text/plain": [
       "(1000, 0.12848160300386471, 0.03755175658166717, 0.041686501028958226)"
      ]
     },
     "metadata": {},
     "output_type": "display_data"
    },
    {
     "data": {
      "text/plain": [
       "(1100, 0.12236716970927912, 0.025161213408101644, 0.03835216923865076)"
      ]
     },
     "metadata": {},
     "output_type": "display_data"
    },
    {
     "data": {
      "text/plain": [
       "(1200, 0.12250038605946892, 0.020011475670440048, 0.040276792290119705)"
      ]
     },
     "metadata": {},
     "output_type": "display_data"
    },
    {
     "data": {
      "text/plain": [
       "(1300, 0.13782005959500154, 0.012681928761688742, 0.038511829963901185)"
      ]
     },
     "metadata": {},
     "output_type": "display_data"
    },
    {
     "data": {
      "text/plain": [
       "(1400, 0.13761221632409326, 0.017050074556171992, 0.028111412489647925)"
      ]
     },
     "metadata": {},
     "output_type": "display_data"
    },
    {
     "data": {
      "text/plain": [
       "(1500, 0.13404214460269556, 0.015973745035584616, 0.021278142976394486)"
      ]
     },
     "metadata": {},
     "output_type": "display_data"
    },
    {
     "data": {
      "text/plain": [
       "(1600, 0.14160374692440295, 0.018361324364751408, 0.030040755847062124)"
      ]
     },
     "metadata": {},
     "output_type": "display_data"
    },
    {
     "data": {
      "text/plain": [
       "(1700, 0.13756846021676986, 0.019154439477401555, 0.03167653692054025)"
      ]
     },
     "metadata": {},
     "output_type": "display_data"
    },
    {
     "data": {
      "text/plain": [
       "(1800, 0.13684848042184167, 0.020956783100496933, 0.027788372819343696)"
      ]
     },
     "metadata": {},
     "output_type": "display_data"
    },
    {
     "data": {
      "text/plain": [
       "(1900, 0.12394075419449822, 0.01429795947620166, 0.020094964876789998)"
      ]
     },
     "metadata": {},
     "output_type": "display_data"
    },
    {
     "data": {
      "text/plain": [
       "(2000, 0.11556224788515881, 0.011731815758403716, 0.014676704027471713)"
      ]
     },
     "metadata": {},
     "output_type": "display_data"
    },
    {
     "data": {
      "text/plain": [
       "7"
      ]
     },
     "metadata": {},
     "output_type": "display_data"
    },
    {
     "data": {
      "text/plain": [
       "35"
      ]
     },
     "metadata": {},
     "output_type": "display_data"
    },
    {
     "data": {
      "text/plain": [
       "(100, 0.5171842960179855, 0.12345315587924746, 0.2384151535789743)"
      ]
     },
     "metadata": {},
     "output_type": "display_data"
    },
    {
     "data": {
      "text/plain": [
       "(200, 0.4089904965756522, 0.09543147354188096, 0.16406430055473012)"
      ]
     },
     "metadata": {},
     "output_type": "display_data"
    },
    {
     "data": {
      "text/plain": [
       "(300, 0.316786774965848, 0.09646693140372817, 0.12502834555240142)"
      ]
     },
     "metadata": {},
     "output_type": "display_data"
    },
    {
     "data": {
      "text/plain": [
       "(400, 0.29257051705712195, 0.08016489530544196, 0.09223680867573393)"
      ]
     },
     "metadata": {},
     "output_type": "display_data"
    },
    {
     "data": {
      "text/plain": [
       "(500, 0.20358278862394677, 0.026611604888012723, 0.04531143284902452)"
      ]
     },
     "metadata": {},
     "output_type": "display_data"
    },
    {
     "data": {
      "text/plain": [
       "(600, 0.19649666395112683, 0.015712609157761407, 0.04549400628126208)"
      ]
     },
     "metadata": {},
     "output_type": "display_data"
    },
    {
     "data": {
      "text/plain": [
       "(700, 0.16147929604277456, 0.009745328363738261, 0.03265456538119739)"
      ]
     },
     "metadata": {},
     "output_type": "display_data"
    },
    {
     "data": {
      "text/plain": [
       "(800, 0.1582806106001486, 0.01866226697509917, 0.0260214871328766)"
      ]
     },
     "metadata": {},
     "output_type": "display_data"
    },
    {
     "data": {
      "text/plain": [
       "(900, 0.16344931648415464, 0.022040300633655703, 0.017367365725977007)"
      ]
     },
     "metadata": {},
     "output_type": "display_data"
    },
    {
     "data": {
      "text/plain": [
       "(1000, 0.1445768229907062, 0.022925310020600945, 0.02929522383560371)"
      ]
     },
     "metadata": {},
     "output_type": "display_data"
    },
    {
     "data": {
      "text/plain": [
       "(1100, 0.15951394135897265, 0.02127331361585748, 0.03481399218489753)"
      ]
     },
     "metadata": {},
     "output_type": "display_data"
    },
    {
     "data": {
      "text/plain": [
       "(1200, 0.1325767731963297, 0.015868641675956023, 0.02612181010852553)"
      ]
     },
     "metadata": {},
     "output_type": "display_data"
    },
    {
     "data": {
      "text/plain": [
       "(1300, 0.12196988537931984, 0.017031686886739013, 0.03449088803298364)"
      ]
     },
     "metadata": {},
     "output_type": "display_data"
    },
    {
     "data": {
      "text/plain": [
       "(1400, 0.11303095972247919, 0.022450920027270317, 0.04179798459784282)"
      ]
     },
     "metadata": {},
     "output_type": "display_data"
    },
    {
     "data": {
      "text/plain": [
       "(1500, 0.11105011268397727, 0.015321883380285799, 0.033542298057259175)"
      ]
     },
     "metadata": {},
     "output_type": "display_data"
    },
    {
     "data": {
      "text/plain": [
       "(1600, 0.11073272011720002, 0.016549254122268292, 0.03684974895795752)"
      ]
     },
     "metadata": {},
     "output_type": "display_data"
    },
    {
     "data": {
      "text/plain": [
       "(1700, 0.10819654814150147, 0.030044331992643197, 0.039728577167242846)"
      ]
     },
     "metadata": {},
     "output_type": "display_data"
    },
    {
     "data": {
      "text/plain": [
       "(1800, 0.10420173665153909, 0.02591446617045712, 0.03680665015669294)"
      ]
     },
     "metadata": {},
     "output_type": "display_data"
    },
    {
     "data": {
      "text/plain": [
       "(1900, 0.10332855043127347, 0.0289661664603122, 0.04004477617560617)"
      ]
     },
     "metadata": {},
     "output_type": "display_data"
    },
    {
     "data": {
      "text/plain": [
       "(2000, 0.10683517995896712, 0.026543257296798316, 0.04048666228806105)"
      ]
     },
     "metadata": {},
     "output_type": "display_data"
    },
    {
     "data": {
      "text/plain": [
       "8"
      ]
     },
     "metadata": {},
     "output_type": "display_data"
    },
    {
     "data": {
      "text/plain": [
       "35"
      ]
     },
     "metadata": {},
     "output_type": "display_data"
    },
    {
     "data": {
      "text/plain": [
       "(100, 0.5244913269011469, 0.20105218613119472, 0.24779742182189077)"
      ]
     },
     "metadata": {},
     "output_type": "display_data"
    },
    {
     "data": {
      "text/plain": [
       "(200, 0.3677188546358906, 0.11731580061155135, 0.1534424741323622)"
      ]
     },
     "metadata": {},
     "output_type": "display_data"
    },
    {
     "data": {
      "text/plain": [
       "(300, 0.2951988519760726, 0.11385700106725027, 0.09918824991957896)"
      ]
     },
     "metadata": {},
     "output_type": "display_data"
    },
    {
     "data": {
      "text/plain": [
       "(400, 0.29390815275039084, 0.061792109168787655, 0.10598465797098375)"
      ]
     },
     "metadata": {},
     "output_type": "display_data"
    },
    {
     "data": {
      "text/plain": [
       "(500, 0.26109364573901644, 0.06521109664677698, 0.11249015129762141)"
      ]
     },
     "metadata": {},
     "output_type": "display_data"
    },
    {
     "data": {
      "text/plain": [
       "(600, 0.19246344119037334, 0.039360125806035776, 0.06459716592340922)"
      ]
     },
     "metadata": {},
     "output_type": "display_data"
    },
    {
     "data": {
      "text/plain": [
       "(700, 0.17700592161700696, 0.019749311205921615, 0.0443894332892161)"
      ]
     },
     "metadata": {},
     "output_type": "display_data"
    },
    {
     "data": {
      "text/plain": [
       "(800, 0.16776014775368067, 0.011846499748424411, 0.04746144108471674)"
      ]
     },
     "metadata": {},
     "output_type": "display_data"
    },
    {
     "data": {
      "text/plain": [
       "(900, 0.1505037324349764, 0.020832128267466814, 0.054327174579890586)"
      ]
     },
     "metadata": {},
     "output_type": "display_data"
    },
    {
     "data": {
      "text/plain": [
       "(1000, 0.14381956785688377, 0.01924098224071152, 0.04772950473707101)"
      ]
     },
     "metadata": {},
     "output_type": "display_data"
    },
    {
     "data": {
      "text/plain": [
       "(1100, 0.13897732840475474, 0.012369780609808577, 0.02740641236770591)"
      ]
     },
     "metadata": {},
     "output_type": "display_data"
    },
    {
     "data": {
      "text/plain": [
       "(1200, 0.1417153596575992, 0.01600389211864133, 0.02089414323625276)"
      ]
     },
     "metadata": {},
     "output_type": "display_data"
    },
    {
     "data": {
      "text/plain": [
       "(1300, 0.13808362635362884, 0.029865638276260792, 0.03447014752217703)"
      ]
     },
     "metadata": {},
     "output_type": "display_data"
    },
    {
     "data": {
      "text/plain": [
       "(1400, 0.1354028881395357, 0.033225850296723855, 0.03873628514384015)"
      ]
     },
     "metadata": {},
     "output_type": "display_data"
    },
    {
     "data": {
      "text/plain": [
       "(1500, 0.128218567700683, 0.03219372053850885, 0.0372885378294869)"
      ]
     },
     "metadata": {},
     "output_type": "display_data"
    },
    {
     "data": {
      "text/plain": [
       "(1600, 0.13162783971944103, 0.021353721153712514, 0.03484412770093793)"
      ]
     },
     "metadata": {},
     "output_type": "display_data"
    },
    {
     "data": {
      "text/plain": [
       "(1700, 0.12672785767590702, 0.029152307966640416, 0.03507513565663948)"
      ]
     },
     "metadata": {},
     "output_type": "display_data"
    },
    {
     "data": {
      "text/plain": [
       "(1800, 0.12038930787829359, 0.022232763536894736, 0.03430304709495503)"
      ]
     },
     "metadata": {},
     "output_type": "display_data"
    },
    {
     "data": {
      "text/plain": [
       "(1900, 0.11957342117503636, 0.029341534426422046, 0.041571789781134814)"
      ]
     },
     "metadata": {},
     "output_type": "display_data"
    },
    {
     "data": {
      "text/plain": [
       "(2000, 0.10755804217918173, 0.04147630949961625, 0.04783296982830963)"
      ]
     },
     "metadata": {},
     "output_type": "display_data"
    },
    {
     "data": {
      "text/plain": [
       "9"
      ]
     },
     "metadata": {},
     "output_type": "display_data"
    },
    {
     "data": {
      "text/plain": [
       "35"
      ]
     },
     "metadata": {},
     "output_type": "display_data"
    },
    {
     "data": {
      "text/plain": [
       "(100, 0.4747308853725668, 0.10302675986993591, 0.11867037588298483)"
      ]
     },
     "metadata": {},
     "output_type": "display_data"
    },
    {
     "data": {
      "text/plain": [
       "(200, 0.3843793114195857, 0.08007679457684451, 0.12227214662048166)"
      ]
     },
     "metadata": {},
     "output_type": "display_data"
    },
    {
     "data": {
      "text/plain": [
       "(300, 0.3356843736727685, 0.05701132705469776, 0.08051528451963279)"
      ]
     },
     "metadata": {},
     "output_type": "display_data"
    },
    {
     "data": {
      "text/plain": [
       "(400, 0.25110208185976984, 0.07208903377568636, 0.06308508807802911)"
      ]
     },
     "metadata": {},
     "output_type": "display_data"
    },
    {
     "data": {
      "text/plain": [
       "(500, 0.2225688937365474, 0.06291829820362423, 0.04905733868112592)"
      ]
     },
     "metadata": {},
     "output_type": "display_data"
    },
    {
     "data": {
      "text/plain": [
       "(600, 0.23689459101341465, 0.07578914966154936, 0.05294623227518609)"
      ]
     },
     "metadata": {},
     "output_type": "display_data"
    },
    {
     "data": {
      "text/plain": [
       "(700, 0.20637885648732365, 0.06065223027511016, 0.039870821737370304)"
      ]
     },
     "metadata": {},
     "output_type": "display_data"
    },
    {
     "data": {
      "text/plain": [
       "(800, 0.21982459841386406, 0.06342664530583693, 0.044783800725557446)"
      ]
     },
     "metadata": {},
     "output_type": "display_data"
    },
    {
     "data": {
      "text/plain": [
       "(900, 0.20249710944631544, 0.059206664132858126, 0.04182208060298013)"
      ]
     },
     "metadata": {},
     "output_type": "display_data"
    },
    {
     "data": {
      "text/plain": [
       "(1000, 0.2032084205802292, 0.060441533264324346, 0.04519167861852219)"
      ]
     },
     "metadata": {},
     "output_type": "display_data"
    },
    {
     "data": {
      "text/plain": [
       "(1100, 0.21122699638452766, 0.05284224001389004, 0.041843470643112717)"
      ]
     },
     "metadata": {},
     "output_type": "display_data"
    },
    {
     "data": {
      "text/plain": [
       "(1200, 0.18915865303030444, 0.04868475116767, 0.03953828779217394)"
      ]
     },
     "metadata": {},
     "output_type": "display_data"
    },
    {
     "data": {
      "text/plain": [
       "(1300, 0.16403653035348573, 0.04294347568478151, 0.03183086563762589)"
      ]
     },
     "metadata": {},
     "output_type": "display_data"
    },
    {
     "data": {
      "text/plain": [
       "(1400, 0.16691735495170099, 0.04519587790908761, 0.03637565187280844)"
      ]
     },
     "metadata": {},
     "output_type": "display_data"
    },
    {
     "data": {
      "text/plain": [
       "(1500, 0.157502461130585, 0.046137494198151434, 0.03928676839957703)"
      ]
     },
     "metadata": {},
     "output_type": "display_data"
    },
    {
     "data": {
      "text/plain": [
       "(1600, 0.1479674413119238, 0.03442282854071586, 0.028470846644399663)"
      ]
     },
     "metadata": {},
     "output_type": "display_data"
    },
    {
     "data": {
      "text/plain": [
       "(1700, 0.1500651967608855, 0.01965528737220906, 0.02402721726050937)"
      ]
     },
     "metadata": {},
     "output_type": "display_data"
    },
    {
     "data": {
      "text/plain": [
       "(1800, 0.142831187949428, 0.019272635990437395, 0.022935472546938705)"
      ]
     },
     "metadata": {},
     "output_type": "display_data"
    },
    {
     "data": {
      "text/plain": [
       "(1900, 0.1416617940850091, 0.017317417205229228, 0.024989163876711167)"
      ]
     },
     "metadata": {},
     "output_type": "display_data"
    },
    {
     "data": {
      "text/plain": [
       "(2000, 0.13205224604182259, 0.017889509897556496, 0.022028812172883938)"
      ]
     },
     "metadata": {},
     "output_type": "display_data"
    },
    {
     "data": {
      "text/plain": [
       "10"
      ]
     },
     "metadata": {},
     "output_type": "display_data"
    },
    {
     "data": {
      "text/plain": [
       "35"
      ]
     },
     "metadata": {},
     "output_type": "display_data"
    },
    {
     "data": {
      "text/plain": [
       "(100, 0.5635346053162872, 0.3417805599625714, 0.29689682210869384)"
      ]
     },
     "metadata": {},
     "output_type": "display_data"
    },
    {
     "data": {
      "text/plain": [
       "(200, 0.39120296870766136, 0.14161937256410953, 0.1415543993117997)"
      ]
     },
     "metadata": {},
     "output_type": "display_data"
    },
    {
     "data": {
      "text/plain": [
       "(300, 0.26693261015537184, 0.10874227634075459, 0.11112473596879748)"
      ]
     },
     "metadata": {},
     "output_type": "display_data"
    },
    {
     "data": {
      "text/plain": [
       "(400, 0.21897887135996114, 0.08556077711357146, 0.07851303115030452)"
      ]
     },
     "metadata": {},
     "output_type": "display_data"
    },
    {
     "data": {
      "text/plain": [
       "(500, 0.2252186314081319, 0.08242284538556408, 0.07577895708537123)"
      ]
     },
     "metadata": {},
     "output_type": "display_data"
    },
    {
     "data": {
      "text/plain": [
       "(600, 0.19398915886974483, 0.07101406612369737, 0.08387161786921778)"
      ]
     },
     "metadata": {},
     "output_type": "display_data"
    },
    {
     "data": {
      "text/plain": [
       "(700, 0.22320576818012772, 0.0598847755592458, 0.09962010341433049)"
      ]
     },
     "metadata": {},
     "output_type": "display_data"
    },
    {
     "data": {
      "text/plain": [
       "(800, 0.21215512660492925, 0.04303596341964253, 0.09686717839965904)"
      ]
     },
     "metadata": {},
     "output_type": "display_data"
    },
    {
     "data": {
      "text/plain": [
       "(900, 0.19884653807119418, 0.04379655260967964, 0.10984114581683586)"
      ]
     },
     "metadata": {},
     "output_type": "display_data"
    },
    {
     "data": {
      "text/plain": [
       "(1000, 0.1922333636945384, 0.0433724888968758, 0.09573425915007662)"
      ]
     },
     "metadata": {},
     "output_type": "display_data"
    },
    {
     "data": {
      "text/plain": [
       "(1100, 0.1786308835162296, 0.05452871237488845, 0.08046743362015402)"
      ]
     },
     "metadata": {},
     "output_type": "display_data"
    },
    {
     "data": {
      "text/plain": [
       "(1200, 0.17423669692391214, 0.046023968242888076, 0.07722948985797383)"
      ]
     },
     "metadata": {},
     "output_type": "display_data"
    },
    {
     "data": {
      "text/plain": [
       "(1300, 0.15761869109781035, 0.03846998591216164, 0.06620546311211337)"
      ]
     },
     "metadata": {},
     "output_type": "display_data"
    },
    {
     "data": {
      "text/plain": [
       "(1400, 0.14567735933987433, 0.027947873455718527, 0.04929838186948528)"
      ]
     },
     "metadata": {},
     "output_type": "display_data"
    },
    {
     "data": {
      "text/plain": [
       "(1500, 0.14270856764623818, 0.03672910820934322, 0.05792274413103609)"
      ]
     },
     "metadata": {},
     "output_type": "display_data"
    },
    {
     "data": {
      "text/plain": [
       "(1600, 0.13889542224657325, 0.03991902517288595, 0.054781332438269874)"
      ]
     },
     "metadata": {},
     "output_type": "display_data"
    },
    {
     "data": {
      "text/plain": [
       "(1700, 0.13338550812983108, 0.035127577447698226, 0.0500502798279164)"
      ]
     },
     "metadata": {},
     "output_type": "display_data"
    },
    {
     "data": {
      "text/plain": [
       "(1800, 0.14040236013477092, 0.03198823337226182, 0.04990099696348575)"
      ]
     },
     "metadata": {},
     "output_type": "display_data"
    },
    {
     "data": {
      "text/plain": [
       "(1900, 0.13763019529818885, 0.031513982859679095, 0.0516563959206346)"
      ]
     },
     "metadata": {},
     "output_type": "display_data"
    },
    {
     "data": {
      "text/plain": [
       "(2000, 0.13319598685383405, 0.02869807268889084, 0.047079744930986364)"
      ]
     },
     "metadata": {},
     "output_type": "display_data"
    },
    {
     "data": {
      "text/plain": [
       "(100, [0.6863036048176664 0.39548807960431787 … 0.13675281180308513 0.13179759998582422; 0.8612039576833376 0.48836051933967906 … 0.11129455794817375 0.10982359215691355; … ; 0.4747308853725668 0.3843793114195857 … 0.1416617940850091 0.13205224604182259; 0.5635346053162872 0.39120296870766136 … 0.13763019529818885 0.13319598685383405], [0.2283582881938174 0.19670616535292937 … 0.033306092132470676 0.030926873170214125; 0.3762277047120588 0.22054799352256407 … 0.04981067087612913 0.04169035401581528; … ; 0.10302675986993591 0.08007679457684451 … 0.017317417205229228 0.017889509897556496; 0.3417805599625714 0.14161937256410953 … 0.031513982859679095 0.02869807268889084], [0.21920231369168633 0.1845482623653914 … 0.03838412977906984 0.04049625418780046; 0.41443525509024254 0.30609345270264804 … 0.06520883335321054 0.05613320238049949; … ; 0.11867037588298483 0.12227214662048166 … 0.024989163876711167 0.022028812172883938; 0.29689682210869384 0.1415543993117997 … 0.0516563959206346 0.047079744930986364])"
      ]
     },
     "execution_count": 4,
     "metadata": {},
     "output_type": "execute_result"
    }
   ],
   "source": [
    "Random.seed!(1)\n",
    "#average_over_trials(d_u,d,d_y,levels,maxEV,trials,T,lossEvery;startAt=0)\n",
    "(lossEvery,errFs, errSVDs, errMultiSVDs)=average_over_trials(1,1,1,3,0.9,10,2000,100;startAt=0)"
   ]
  },
  {
   "cell_type": "code",
   "execution_count": 5,
   "metadata": {},
   "outputs": [
    {
     "data": {
      "image/svg+xml": [
       "<?xml version=\"1.0\" encoding=\"utf-8\"?>\n",
       "<svg xmlns=\"http://www.w3.org/2000/svg\" xmlns:xlink=\"http://www.w3.org/1999/xlink\" width=\"500\" height=\"280\" viewBox=\"0 0 2000 1120\">\n",
       "<defs>\n",
       "  <clipPath id=\"clip720\">\n",
       "    <rect x=\"0\" y=\"0\" width=\"2000\" height=\"1120\"/>\n",
       "  </clipPath>\n",
       "</defs>\n",
       "<path clip-path=\"url(#clip720)\" d=\"\n",
       "M0 1120 L2000 1120 L2000 0 L0 0  Z\n",
       "  \" fill=\"#ffffff\" fill-rule=\"evenodd\" fill-opacity=\"1\"/>\n",
       "<defs>\n",
       "  <clipPath id=\"clip721\">\n",
       "    <rect x=\"400\" y=\"0\" width=\"1401\" height=\"1120\"/>\n",
       "  </clipPath>\n",
       "</defs>\n",
       "<path clip-path=\"url(#clip720)\" d=\"\n",
       "M208.263 961.113 L1952.76 961.113 L1952.76 113.795 L208.263 113.795  Z\n",
       "  \" fill=\"#ffffff\" fill-rule=\"evenodd\" fill-opacity=\"1\"/>\n",
       "<defs>\n",
       "  <clipPath id=\"clip722\">\n",
       "    <rect x=\"208\" y=\"113\" width=\"1745\" height=\"848\"/>\n",
       "  </clipPath>\n",
       "</defs>\n",
       "<polyline clip-path=\"url(#clip722)\" style=\"stroke:#000000; stroke-width:2; stroke-opacity:0.1; fill:none\" points=\"\n",
       "  604.109,961.113 604.109,113.795 \n",
       "  \"/>\n",
       "<polyline clip-path=\"url(#clip722)\" style=\"stroke:#000000; stroke-width:2; stroke-opacity:0.1; fill:none\" points=\"\n",
       "  1037.2,961.113 1037.2,113.795 \n",
       "  \"/>\n",
       "<polyline clip-path=\"url(#clip722)\" style=\"stroke:#000000; stroke-width:2; stroke-opacity:0.1; fill:none\" points=\"\n",
       "  1470.29,961.113 1470.29,113.795 \n",
       "  \"/>\n",
       "<polyline clip-path=\"url(#clip722)\" style=\"stroke:#000000; stroke-width:2; stroke-opacity:0.1; fill:none\" points=\"\n",
       "  1903.38,961.113 1903.38,113.795 \n",
       "  \"/>\n",
       "<polyline clip-path=\"url(#clip720)\" style=\"stroke:#000000; stroke-width:4; stroke-opacity:1; fill:none\" points=\"\n",
       "  208.263,961.113 1952.76,961.113 \n",
       "  \"/>\n",
       "<polyline clip-path=\"url(#clip720)\" style=\"stroke:#000000; stroke-width:4; stroke-opacity:1; fill:none\" points=\"\n",
       "  604.109,961.113 604.109,950.945 \n",
       "  \"/>\n",
       "<polyline clip-path=\"url(#clip720)\" style=\"stroke:#000000; stroke-width:4; stroke-opacity:1; fill:none\" points=\"\n",
       "  1037.2,961.113 1037.2,950.945 \n",
       "  \"/>\n",
       "<polyline clip-path=\"url(#clip720)\" style=\"stroke:#000000; stroke-width:4; stroke-opacity:1; fill:none\" points=\"\n",
       "  1470.29,961.113 1470.29,950.945 \n",
       "  \"/>\n",
       "<polyline clip-path=\"url(#clip720)\" style=\"stroke:#000000; stroke-width:4; stroke-opacity:1; fill:none\" points=\"\n",
       "  1903.38,961.113 1903.38,950.945 \n",
       "  \"/>\n",
       "<path clip-path=\"url(#clip720)\" d=\"M 0 0 M563.727 984.025 L582.083 984.025 L582.083 987.96 L568.009 987.96 L568.009 996.432 Q569.028 996.085 570.046 995.923 Q571.065 995.738 572.083 995.738 Q577.87 995.738 581.25 998.909 Q584.63 1002.08 584.63 1007.5 Q584.63 1013.08 581.157 1016.18 Q577.685 1019.26 571.366 1019.26 Q569.19 1019.26 566.921 1018.89 Q564.676 1018.52 562.269 1017.77 L562.269 1013.08 Q564.352 1014.21 566.574 1014.77 Q568.796 1015.32 571.273 1015.32 Q575.278 1015.32 577.616 1013.21 Q579.954 1011.11 579.954 1007.5 Q579.954 1003.89 577.616 1001.78 Q575.278 999.673 571.273 999.673 Q569.398 999.673 567.523 1000.09 Q565.671 1000.51 563.727 1001.39 L563.727 984.025 Z\" fill=\"#000000\" fill-rule=\"evenodd\" fill-opacity=\"1\" /><path clip-path=\"url(#clip720)\" d=\"M 0 0 M603.843 987.103 Q600.231 987.103 598.403 990.668 Q596.597 994.21 596.597 1001.34 Q596.597 1008.45 598.403 1012.01 Q600.231 1015.55 603.843 1015.55 Q607.477 1015.55 609.282 1012.01 Q611.111 1008.45 611.111 1001.34 Q611.111 994.21 609.282 990.668 Q607.477 987.103 603.843 987.103 M603.843 983.4 Q609.653 983.4 612.708 988.006 Q615.787 992.589 615.787 1001.34 Q615.787 1010.07 612.708 1014.67 Q609.653 1019.26 603.843 1019.26 Q598.032 1019.26 594.954 1014.67 Q591.898 1010.07 591.898 1001.34 Q591.898 992.589 594.954 988.006 Q598.032 983.4 603.843 983.4 Z\" fill=\"#000000\" fill-rule=\"evenodd\" fill-opacity=\"1\" /><path clip-path=\"url(#clip720)\" d=\"M 0 0 M634.004 987.103 Q630.393 987.103 628.565 990.668 Q626.759 994.21 626.759 1001.34 Q626.759 1008.45 628.565 1012.01 Q630.393 1015.55 634.004 1015.55 Q637.639 1015.55 639.444 1012.01 Q641.273 1008.45 641.273 1001.34 Q641.273 994.21 639.444 990.668 Q637.639 987.103 634.004 987.103 M634.004 983.4 Q639.815 983.4 642.87 988.006 Q645.949 992.589 645.949 1001.34 Q645.949 1010.07 642.87 1014.67 Q639.815 1019.26 634.004 1019.26 Q628.194 1019.26 625.116 1014.67 Q622.06 1010.07 622.06 1001.34 Q622.06 992.589 625.116 988.006 Q628.194 983.4 634.004 983.4 Z\" fill=\"#000000\" fill-rule=\"evenodd\" fill-opacity=\"1\" /><path clip-path=\"url(#clip720)\" d=\"M 0 0 M981.726 1014.65 L989.365 1014.65 L989.365 988.284 L981.055 989.951 L981.055 985.691 L989.319 984.025 L993.995 984.025 L993.995 1014.65 L1001.63 1014.65 L1001.63 1018.58 L981.726 1018.58 L981.726 1014.65 Z\" fill=\"#000000\" fill-rule=\"evenodd\" fill-opacity=\"1\" /><path clip-path=\"url(#clip720)\" d=\"M 0 0 M1021.08 987.103 Q1017.47 987.103 1015.64 990.668 Q1013.83 994.21 1013.83 1001.34 Q1013.83 1008.45 1015.64 1012.01 Q1017.47 1015.55 1021.08 1015.55 Q1024.71 1015.55 1026.52 1012.01 Q1028.35 1008.45 1028.35 1001.34 Q1028.35 994.21 1026.52 990.668 Q1024.71 987.103 1021.08 987.103 M1021.08 983.4 Q1026.89 983.4 1029.94 988.006 Q1033.02 992.589 1033.02 1001.34 Q1033.02 1010.07 1029.94 1014.67 Q1026.89 1019.26 1021.08 1019.26 Q1015.27 1019.26 1012.19 1014.67 Q1009.13 1010.07 1009.13 1001.34 Q1009.13 992.589 1012.19 988.006 Q1015.27 983.4 1021.08 983.4 Z\" fill=\"#000000\" fill-rule=\"evenodd\" fill-opacity=\"1\" /><path clip-path=\"url(#clip720)\" d=\"M 0 0 M1051.24 987.103 Q1047.63 987.103 1045.8 990.668 Q1043.99 994.21 1043.99 1001.34 Q1043.99 1008.45 1045.8 1012.01 Q1047.63 1015.55 1051.24 1015.55 Q1054.87 1015.55 1056.68 1012.01 Q1058.51 1008.45 1058.51 1001.34 Q1058.51 994.21 1056.68 990.668 Q1054.87 987.103 1051.24 987.103 M1051.24 983.4 Q1057.05 983.4 1060.11 988.006 Q1063.18 992.589 1063.18 1001.34 Q1063.18 1010.07 1060.11 1014.67 Q1057.05 1019.26 1051.24 1019.26 Q1045.43 1019.26 1042.35 1014.67 Q1039.3 1010.07 1039.3 1001.34 Q1039.3 992.589 1042.35 988.006 Q1045.43 983.4 1051.24 983.4 Z\" fill=\"#000000\" fill-rule=\"evenodd\" fill-opacity=\"1\" /><path clip-path=\"url(#clip720)\" d=\"M 0 0 M1081.4 987.103 Q1077.79 987.103 1075.96 990.668 Q1074.16 994.21 1074.16 1001.34 Q1074.16 1008.45 1075.96 1012.01 Q1077.79 1015.55 1081.4 1015.55 Q1085.04 1015.55 1086.84 1012.01 Q1088.67 1008.45 1088.67 1001.34 Q1088.67 994.21 1086.84 990.668 Q1085.04 987.103 1081.4 987.103 M1081.4 983.4 Q1087.21 983.4 1090.27 988.006 Q1093.35 992.589 1093.35 1001.34 Q1093.35 1010.07 1090.27 1014.67 Q1087.21 1019.26 1081.4 1019.26 Q1075.59 1019.26 1072.51 1014.67 Q1069.46 1010.07 1069.46 1001.34 Q1069.46 992.589 1072.51 988.006 Q1075.59 983.4 1081.4 983.4 Z\" fill=\"#000000\" fill-rule=\"evenodd\" fill-opacity=\"1\" /><path clip-path=\"url(#clip720)\" d=\"M 0 0 M1414.82 1014.65 L1422.46 1014.65 L1422.46 988.284 L1414.15 989.951 L1414.15 985.691 L1422.41 984.025 L1427.09 984.025 L1427.09 1014.65 L1434.72 1014.65 L1434.72 1018.58 L1414.82 1018.58 L1414.82 1014.65 Z\" fill=\"#000000\" fill-rule=\"evenodd\" fill-opacity=\"1\" /><path clip-path=\"url(#clip720)\" d=\"M 0 0 M1444.22 984.025 L1462.57 984.025 L1462.57 987.96 L1448.5 987.96 L1448.5 996.432 Q1449.52 996.085 1450.54 995.923 Q1451.55 995.738 1452.57 995.738 Q1458.36 995.738 1461.74 998.909 Q1465.12 1002.08 1465.12 1007.5 Q1465.12 1013.08 1461.65 1016.18 Q1458.17 1019.26 1451.85 1019.26 Q1449.68 1019.26 1447.41 1018.89 Q1445.16 1018.52 1442.76 1017.77 L1442.76 1013.08 Q1444.84 1014.21 1447.06 1014.77 Q1449.29 1015.32 1451.76 1015.32 Q1455.77 1015.32 1458.1 1013.21 Q1460.44 1011.11 1460.44 1007.5 Q1460.44 1003.89 1458.1 1001.78 Q1455.77 999.673 1451.76 999.673 Q1449.89 999.673 1448.01 1000.09 Q1446.16 1000.51 1444.22 1001.39 L1444.22 984.025 Z\" fill=\"#000000\" fill-rule=\"evenodd\" fill-opacity=\"1\" /><path clip-path=\"url(#clip720)\" d=\"M 0 0 M1484.33 987.103 Q1480.72 987.103 1478.89 990.668 Q1477.09 994.21 1477.09 1001.34 Q1477.09 1008.45 1478.89 1012.01 Q1480.72 1015.55 1484.33 1015.55 Q1487.97 1015.55 1489.77 1012.01 Q1491.6 1008.45 1491.6 1001.34 Q1491.6 994.21 1489.77 990.668 Q1487.97 987.103 1484.33 987.103 M1484.33 983.4 Q1490.14 983.4 1493.2 988.006 Q1496.28 992.589 1496.28 1001.34 Q1496.28 1010.07 1493.2 1014.67 Q1490.14 1019.26 1484.33 1019.26 Q1478.52 1019.26 1475.44 1014.67 Q1472.39 1010.07 1472.39 1001.34 Q1472.39 992.589 1475.44 988.006 Q1478.52 983.4 1484.33 983.4 Z\" fill=\"#000000\" fill-rule=\"evenodd\" fill-opacity=\"1\" /><path clip-path=\"url(#clip720)\" d=\"M 0 0 M1514.49 987.103 Q1510.88 987.103 1509.05 990.668 Q1507.25 994.21 1507.25 1001.34 Q1507.25 1008.45 1509.05 1012.01 Q1510.88 1015.55 1514.49 1015.55 Q1518.13 1015.55 1519.93 1012.01 Q1521.76 1008.45 1521.76 1001.34 Q1521.76 994.21 1519.93 990.668 Q1518.13 987.103 1514.49 987.103 M1514.49 983.4 Q1520.3 983.4 1523.36 988.006 Q1526.44 992.589 1526.44 1001.34 Q1526.44 1010.07 1523.36 1014.67 Q1520.3 1019.26 1514.49 1019.26 Q1508.68 1019.26 1505.6 1014.67 Q1502.55 1010.07 1502.55 1001.34 Q1502.55 992.589 1505.6 988.006 Q1508.68 983.4 1514.49 983.4 Z\" fill=\"#000000\" fill-rule=\"evenodd\" fill-opacity=\"1\" /><path clip-path=\"url(#clip720)\" d=\"M 0 0 M1851.99 1014.65 L1868.31 1014.65 L1868.31 1018.58 L1846.37 1018.58 L1846.37 1014.65 Q1849.03 1011.89 1853.62 1007.27 Q1858.22 1002.61 1859.4 1001.27 Q1861.65 998.747 1862.53 997.011 Q1863.43 995.251 1863.43 993.562 Q1863.43 990.807 1861.49 989.071 Q1859.56 987.335 1856.46 987.335 Q1854.26 987.335 1851.81 988.099 Q1849.38 988.863 1846.6 990.413 L1846.6 985.691 Q1849.43 984.557 1851.88 983.978 Q1854.33 983.4 1856.37 983.4 Q1861.74 983.4 1864.93 986.085 Q1868.13 988.77 1868.13 993.261 Q1868.13 995.39 1867.32 997.312 Q1866.53 999.21 1864.43 1001.8 Q1863.85 1002.47 1860.74 1005.69 Q1857.64 1008.89 1851.99 1014.65 Z\" fill=\"#000000\" fill-rule=\"evenodd\" fill-opacity=\"1\" /><path clip-path=\"url(#clip720)\" d=\"M 0 0 M1888.13 987.103 Q1884.52 987.103 1882.69 990.668 Q1880.88 994.21 1880.88 1001.34 Q1880.88 1008.45 1882.69 1012.01 Q1884.52 1015.55 1888.13 1015.55 Q1891.76 1015.55 1893.57 1012.01 Q1895.4 1008.45 1895.4 1001.34 Q1895.4 994.21 1893.57 990.668 Q1891.76 987.103 1888.13 987.103 M1888.13 983.4 Q1893.94 983.4 1896.99 988.006 Q1900.07 992.589 1900.07 1001.34 Q1900.07 1010.07 1896.99 1014.67 Q1893.94 1019.26 1888.13 1019.26 Q1882.32 1019.26 1879.24 1014.67 Q1876.18 1010.07 1876.18 1001.34 Q1876.18 992.589 1879.24 988.006 Q1882.32 983.4 1888.13 983.4 Z\" fill=\"#000000\" fill-rule=\"evenodd\" fill-opacity=\"1\" /><path clip-path=\"url(#clip720)\" d=\"M 0 0 M1918.29 987.103 Q1914.68 987.103 1912.85 990.668 Q1911.05 994.21 1911.05 1001.34 Q1911.05 1008.45 1912.85 1012.01 Q1914.68 1015.55 1918.29 1015.55 Q1921.93 1015.55 1923.73 1012.01 Q1925.56 1008.45 1925.56 1001.34 Q1925.56 994.21 1923.73 990.668 Q1921.93 987.103 1918.29 987.103 M1918.29 983.4 Q1924.1 983.4 1927.16 988.006 Q1930.24 992.589 1930.24 1001.34 Q1930.24 1010.07 1927.16 1014.67 Q1924.1 1019.26 1918.29 1019.26 Q1912.48 1019.26 1909.4 1014.67 Q1906.35 1010.07 1906.35 1001.34 Q1906.35 992.589 1909.4 988.006 Q1912.48 983.4 1918.29 983.4 Z\" fill=\"#000000\" fill-rule=\"evenodd\" fill-opacity=\"1\" /><path clip-path=\"url(#clip720)\" d=\"M 0 0 M1948.45 987.103 Q1944.84 987.103 1943.01 990.668 Q1941.21 994.21 1941.21 1001.34 Q1941.21 1008.45 1943.01 1012.01 Q1944.84 1015.55 1948.45 1015.55 Q1952.09 1015.55 1953.89 1012.01 Q1955.72 1008.45 1955.72 1001.34 Q1955.72 994.21 1953.89 990.668 Q1952.09 987.103 1948.45 987.103 M1948.45 983.4 Q1954.26 983.4 1957.32 988.006 Q1960.4 992.589 1960.4 1001.34 Q1960.4 1010.07 1957.32 1014.67 Q1954.26 1019.26 1948.45 1019.26 Q1942.64 1019.26 1939.56 1014.67 Q1936.51 1010.07 1936.51 1001.34 Q1936.51 992.589 1939.56 988.006 Q1942.64 983.4 1948.45 983.4 Z\" fill=\"#000000\" fill-rule=\"evenodd\" fill-opacity=\"1\" /><path clip-path=\"url(#clip720)\" d=\"M 0 0 M1019.67 1054.21 L1019.67 1064.33 L1031.73 1064.33 L1031.73 1068.88 L1019.67 1068.88 L1019.67 1088.23 Q1019.67 1092.59 1020.85 1093.83 Q1022.06 1095.08 1025.72 1095.08 L1031.73 1095.08 L1031.73 1099.98 L1025.72 1099.98 Q1018.94 1099.98 1016.36 1097.46 Q1013.78 1094.92 1013.78 1088.23 L1013.78 1068.88 L1009.48 1068.88 L1009.48 1064.33 L1013.78 1064.33 L1013.78 1054.21 L1019.67 1054.21 Z\" fill=\"#000000\" fill-rule=\"evenodd\" fill-opacity=\"1\" /><path clip-path=\"url(#clip720)\" d=\"M 0 0 M1039.43 1064.33 L1045.29 1064.33 L1045.29 1099.98 L1039.43 1099.98 L1039.43 1064.33 M1039.43 1050.45 L1045.29 1050.45 L1045.29 1057.87 L1039.43 1057.87 L1039.43 1050.45 Z\" fill=\"#000000\" fill-rule=\"evenodd\" fill-opacity=\"1\" /><path clip-path=\"url(#clip720)\" d=\"M 0 0 M1085.3 1071.17 Q1087.5 1067.23 1090.55 1065.35 Q1093.61 1063.47 1097.74 1063.47 Q1103.31 1063.47 1106.34 1067.38 Q1109.36 1071.27 1109.36 1078.46 L1109.36 1099.98 L1103.47 1099.98 L1103.47 1078.65 Q1103.47 1073.53 1101.66 1071.04 Q1099.85 1068.56 1096.12 1068.56 Q1091.57 1068.56 1088.93 1071.59 Q1086.29 1074.61 1086.29 1079.83 L1086.29 1099.98 L1080.4 1099.98 L1080.4 1078.65 Q1080.4 1073.5 1078.58 1071.04 Q1076.77 1068.56 1072.98 1068.56 Q1068.49 1068.56 1065.85 1071.62 Q1063.21 1074.64 1063.21 1079.83 L1063.21 1099.98 L1057.32 1099.98 L1057.32 1064.33 L1063.21 1064.33 L1063.21 1069.87 Q1065.22 1066.59 1068.02 1065.03 Q1070.82 1063.47 1074.67 1063.47 Q1078.55 1063.47 1081.26 1065.44 Q1083.99 1067.42 1085.3 1071.17 Z\" fill=\"#000000\" fill-rule=\"evenodd\" fill-opacity=\"1\" /><path clip-path=\"url(#clip720)\" d=\"M 0 0 M1151.53 1080.69 L1151.53 1083.55 L1124.61 1083.55 Q1124.99 1089.6 1128.24 1092.78 Q1131.51 1095.93 1137.34 1095.93 Q1140.71 1095.93 1143.86 1095.11 Q1147.05 1094.28 1150.17 1092.62 L1150.17 1098.16 Q1147.02 1099.5 1143.71 1100.2 Q1140.39 1100.9 1136.99 1100.9 Q1128.46 1100.9 1123.46 1095.93 Q1118.5 1090.97 1118.5 1082.5 Q1118.5 1073.75 1123.21 1068.63 Q1127.95 1063.47 1135.97 1063.47 Q1143.16 1063.47 1147.33 1068.12 Q1151.53 1072.73 1151.53 1080.69 M1145.68 1078.97 Q1145.61 1074.16 1142.97 1071.3 Q1140.36 1068.43 1136.03 1068.43 Q1131.13 1068.43 1128.17 1071.2 Q1125.24 1073.97 1124.8 1079 L1145.68 1078.97 Z\" fill=\"#000000\" fill-rule=\"evenodd\" fill-opacity=\"1\" /><polyline clip-path=\"url(#clip722)\" style=\"stroke:#000000; stroke-width:2; stroke-opacity:0.1; fill:none\" points=\"\n",
       "  208.263,846.373 1952.76,846.373 \n",
       "  \"/>\n",
       "<polyline clip-path=\"url(#clip722)\" style=\"stroke:#000000; stroke-width:2; stroke-opacity:0.1; fill:none\" points=\"\n",
       "  208.263,720.013 1952.76,720.013 \n",
       "  \"/>\n",
       "<polyline clip-path=\"url(#clip722)\" style=\"stroke:#000000; stroke-width:2; stroke-opacity:0.1; fill:none\" points=\"\n",
       "  208.263,593.652 1952.76,593.652 \n",
       "  \"/>\n",
       "<polyline clip-path=\"url(#clip722)\" style=\"stroke:#000000; stroke-width:2; stroke-opacity:0.1; fill:none\" points=\"\n",
       "  208.263,467.292 1952.76,467.292 \n",
       "  \"/>\n",
       "<polyline clip-path=\"url(#clip722)\" style=\"stroke:#000000; stroke-width:2; stroke-opacity:0.1; fill:none\" points=\"\n",
       "  208.263,340.932 1952.76,340.932 \n",
       "  \"/>\n",
       "<polyline clip-path=\"url(#clip722)\" style=\"stroke:#000000; stroke-width:2; stroke-opacity:0.1; fill:none\" points=\"\n",
       "  208.263,214.571 1952.76,214.571 \n",
       "  \"/>\n",
       "<polyline clip-path=\"url(#clip720)\" style=\"stroke:#000000; stroke-width:4; stroke-opacity:1; fill:none\" points=\"\n",
       "  208.263,961.113 208.263,113.795 \n",
       "  \"/>\n",
       "<polyline clip-path=\"url(#clip720)\" style=\"stroke:#000000; stroke-width:4; stroke-opacity:1; fill:none\" points=\"\n",
       "  208.263,846.373 229.197,846.373 \n",
       "  \"/>\n",
       "<polyline clip-path=\"url(#clip720)\" style=\"stroke:#000000; stroke-width:4; stroke-opacity:1; fill:none\" points=\"\n",
       "  208.263,720.013 229.197,720.013 \n",
       "  \"/>\n",
       "<polyline clip-path=\"url(#clip720)\" style=\"stroke:#000000; stroke-width:4; stroke-opacity:1; fill:none\" points=\"\n",
       "  208.263,593.652 229.197,593.652 \n",
       "  \"/>\n",
       "<polyline clip-path=\"url(#clip720)\" style=\"stroke:#000000; stroke-width:4; stroke-opacity:1; fill:none\" points=\"\n",
       "  208.263,467.292 229.197,467.292 \n",
       "  \"/>\n",
       "<polyline clip-path=\"url(#clip720)\" style=\"stroke:#000000; stroke-width:4; stroke-opacity:1; fill:none\" points=\"\n",
       "  208.263,340.932 229.197,340.932 \n",
       "  \"/>\n",
       "<polyline clip-path=\"url(#clip720)\" style=\"stroke:#000000; stroke-width:4; stroke-opacity:1; fill:none\" points=\"\n",
       "  208.263,214.571 229.197,214.571 \n",
       "  \"/>\n",
       "<path clip-path=\"url(#clip720)\" d=\"M 0 0 M122.314 832.172 Q118.703 832.172 116.875 835.737 Q115.069 839.278 115.069 846.408 Q115.069 853.514 116.875 857.079 Q118.703 860.621 122.314 860.621 Q125.949 860.621 127.754 857.079 Q129.583 853.514 129.583 846.408 Q129.583 839.278 127.754 835.737 Q125.949 832.172 122.314 832.172 M122.314 828.468 Q128.124 828.468 131.18 833.075 Q134.259 837.658 134.259 846.408 Q134.259 855.135 131.18 859.741 Q128.124 864.325 122.314 864.325 Q116.504 864.325 113.425 859.741 Q110.37 855.135 110.37 846.408 Q110.37 837.658 113.425 833.075 Q116.504 828.468 122.314 828.468 Z\" fill=\"#000000\" fill-rule=\"evenodd\" fill-opacity=\"1\" /><path clip-path=\"url(#clip720)\" d=\"M 0 0 M142.476 857.774 L147.36 857.774 L147.36 863.653 L142.476 863.653 L142.476 857.774 Z\" fill=\"#000000\" fill-rule=\"evenodd\" fill-opacity=\"1\" /><path clip-path=\"url(#clip720)\" d=\"M 0 0 M158.356 859.718 L165.995 859.718 L165.995 833.353 L157.684 835.019 L157.684 830.76 L165.948 829.093 L170.624 829.093 L170.624 859.718 L178.263 859.718 L178.263 863.653 L158.356 863.653 L158.356 859.718 Z\" fill=\"#000000\" fill-rule=\"evenodd\" fill-opacity=\"1\" /><path clip-path=\"url(#clip720)\" d=\"M 0 0 M122.685 705.812 Q119.074 705.812 117.245 709.376 Q115.439 712.918 115.439 720.048 Q115.439 727.154 117.245 730.719 Q119.074 734.26 122.685 734.26 Q126.319 734.26 128.124 730.719 Q129.953 727.154 129.953 720.048 Q129.953 712.918 128.124 709.376 Q126.319 705.812 122.685 705.812 M122.685 702.108 Q128.495 702.108 131.55 706.714 Q134.629 711.298 134.629 720.048 Q134.629 728.774 131.55 733.381 Q128.495 737.964 122.685 737.964 Q116.875 737.964 113.796 733.381 Q110.74 728.774 110.74 720.048 Q110.74 711.298 113.796 706.714 Q116.875 702.108 122.685 702.108 Z\" fill=\"#000000\" fill-rule=\"evenodd\" fill-opacity=\"1\" /><path clip-path=\"url(#clip720)\" d=\"M 0 0 M142.847 731.413 L147.731 731.413 L147.731 737.293 L142.847 737.293 L142.847 731.413 Z\" fill=\"#000000\" fill-rule=\"evenodd\" fill-opacity=\"1\" /><path clip-path=\"url(#clip720)\" d=\"M 0 0 M161.944 733.358 L178.263 733.358 L178.263 737.293 L156.319 737.293 L156.319 733.358 Q158.981 730.603 163.564 725.974 Q168.171 721.321 169.351 719.978 Q171.596 717.455 172.476 715.719 Q173.379 713.96 173.379 712.27 Q173.379 709.515 171.434 707.779 Q169.513 706.043 166.411 706.043 Q164.212 706.043 161.759 706.807 Q159.328 707.571 156.55 709.122 L156.55 704.4 Q159.374 703.265 161.828 702.687 Q164.282 702.108 166.319 702.108 Q171.689 702.108 174.883 704.793 Q178.078 707.478 178.078 711.969 Q178.078 714.099 177.268 716.02 Q176.481 717.918 174.374 720.511 Q173.795 721.182 170.694 724.399 Q167.592 727.594 161.944 733.358 Z\" fill=\"#000000\" fill-rule=\"evenodd\" fill-opacity=\"1\" /><path clip-path=\"url(#clip720)\" d=\"M 0 0 M121.736 579.451 Q118.124 579.451 116.296 583.016 Q114.49 586.558 114.49 593.687 Q114.49 600.794 116.296 604.358 Q118.124 607.9 121.736 607.9 Q125.37 607.9 127.175 604.358 Q129.004 600.794 129.004 593.687 Q129.004 586.558 127.175 583.016 Q125.37 579.451 121.736 579.451 M121.736 575.747 Q127.546 575.747 130.601 580.354 Q133.68 584.937 133.68 593.687 Q133.68 602.414 130.601 607.02 Q127.546 611.604 121.736 611.604 Q115.925 611.604 112.847 607.02 Q109.791 602.414 109.791 593.687 Q109.791 584.937 112.847 580.354 Q115.925 575.747 121.736 575.747 Z\" fill=\"#000000\" fill-rule=\"evenodd\" fill-opacity=\"1\" /><path clip-path=\"url(#clip720)\" d=\"M 0 0 M141.898 605.053 L146.782 605.053 L146.782 610.932 L141.898 610.932 L141.898 605.053 Z\" fill=\"#000000\" fill-rule=\"evenodd\" fill-opacity=\"1\" /><path clip-path=\"url(#clip720)\" d=\"M 0 0 M171.133 592.298 Q174.49 593.016 176.365 595.284 Q178.263 597.553 178.263 600.886 Q178.263 606.002 174.745 608.803 Q171.226 611.604 164.745 611.604 Q162.569 611.604 160.254 611.164 Q157.962 610.747 155.509 609.891 L155.509 605.377 Q157.453 606.511 159.768 607.09 Q162.083 607.669 164.606 607.669 Q169.004 607.669 171.296 605.933 Q173.61 604.196 173.61 600.886 Q173.61 597.831 171.458 596.118 Q169.328 594.382 165.509 594.382 L161.481 594.382 L161.481 590.539 L165.694 590.539 Q169.143 590.539 170.971 589.173 Q172.8 587.784 172.8 585.192 Q172.8 582.53 170.902 581.118 Q169.027 579.683 165.509 579.683 Q163.587 579.683 161.388 580.099 Q159.189 580.516 156.55 581.396 L156.55 577.229 Q159.212 576.488 161.527 576.118 Q163.865 575.747 165.925 575.747 Q171.249 575.747 174.351 578.178 Q177.453 580.585 177.453 584.706 Q177.453 587.576 175.809 589.567 Q174.166 591.534 171.133 592.298 Z\" fill=\"#000000\" fill-rule=\"evenodd\" fill-opacity=\"1\" /><path clip-path=\"url(#clip720)\" d=\"M 0 0 M120.601 453.091 Q116.99 453.091 115.162 456.656 Q113.356 460.197 113.356 467.327 Q113.356 474.433 115.162 477.998 Q116.99 481.54 120.601 481.54 Q124.236 481.54 126.041 477.998 Q127.87 474.433 127.87 467.327 Q127.87 460.197 126.041 456.656 Q124.236 453.091 120.601 453.091 M120.601 449.387 Q126.411 449.387 129.467 453.994 Q132.546 458.577 132.546 467.327 Q132.546 476.054 129.467 480.66 Q126.411 485.243 120.601 485.243 Q114.791 485.243 111.712 480.66 Q108.657 476.054 108.657 467.327 Q108.657 458.577 111.712 453.994 Q114.791 449.387 120.601 449.387 Z\" fill=\"#000000\" fill-rule=\"evenodd\" fill-opacity=\"1\" /><path clip-path=\"url(#clip720)\" d=\"M 0 0 M140.763 478.693 L145.648 478.693 L145.648 484.572 L140.763 484.572 L140.763 478.693 Z\" fill=\"#000000\" fill-rule=\"evenodd\" fill-opacity=\"1\" /><path clip-path=\"url(#clip720)\" d=\"M 0 0 M168.68 454.086 L156.874 472.535 L168.68 472.535 L168.68 454.086 M167.453 450.012 L173.333 450.012 L173.333 472.535 L178.263 472.535 L178.263 476.424 L173.333 476.424 L173.333 484.572 L168.68 484.572 L168.68 476.424 L153.078 476.424 L153.078 471.91 L167.453 450.012 Z\" fill=\"#000000\" fill-rule=\"evenodd\" fill-opacity=\"1\" /><path clip-path=\"url(#clip720)\" d=\"M 0 0 M122.083 326.73 Q118.472 326.73 116.643 330.295 Q114.837 333.837 114.837 340.966 Q114.837 348.073 116.643 351.638 Q118.472 355.179 122.083 355.179 Q125.717 355.179 127.523 351.638 Q129.351 348.073 129.351 340.966 Q129.351 333.837 127.523 330.295 Q125.717 326.73 122.083 326.73 M122.083 323.027 Q127.893 323.027 130.949 327.633 Q134.027 332.216 134.027 340.966 Q134.027 349.693 130.949 354.3 Q127.893 358.883 122.083 358.883 Q116.273 358.883 113.194 354.3 Q110.138 349.693 110.138 340.966 Q110.138 332.216 113.194 327.633 Q116.273 323.027 122.083 323.027 Z\" fill=\"#000000\" fill-rule=\"evenodd\" fill-opacity=\"1\" /><path clip-path=\"url(#clip720)\" d=\"M 0 0 M142.245 352.332 L147.129 352.332 L147.129 358.212 L142.245 358.212 L142.245 352.332 Z\" fill=\"#000000\" fill-rule=\"evenodd\" fill-opacity=\"1\" /><path clip-path=\"url(#clip720)\" d=\"M 0 0 M157.36 323.652 L175.717 323.652 L175.717 327.587 L161.643 327.587 L161.643 336.059 Q162.661 335.712 163.68 335.55 Q164.698 335.365 165.717 335.365 Q171.504 335.365 174.883 338.536 Q178.263 341.707 178.263 347.124 Q178.263 352.702 174.791 355.804 Q171.319 358.883 164.999 358.883 Q162.823 358.883 160.555 358.513 Q158.309 358.142 155.902 357.402 L155.902 352.702 Q157.985 353.837 160.208 354.392 Q162.43 354.948 164.907 354.948 Q168.911 354.948 171.249 352.841 Q173.587 350.735 173.587 347.124 Q173.587 343.513 171.249 341.406 Q168.911 339.3 164.907 339.3 Q163.032 339.3 161.157 339.716 Q159.305 340.133 157.36 341.013 L157.36 323.652 Z\" fill=\"#000000\" fill-rule=\"evenodd\" fill-opacity=\"1\" /><path clip-path=\"url(#clip720)\" d=\"M 0 0 M120.925 200.37 Q117.314 200.37 115.486 203.935 Q113.68 207.476 113.68 214.606 Q113.68 221.712 115.486 225.277 Q117.314 228.819 120.925 228.819 Q124.56 228.819 126.365 225.277 Q128.194 221.712 128.194 214.606 Q128.194 207.476 126.365 203.935 Q124.56 200.37 120.925 200.37 M120.925 196.666 Q126.736 196.666 129.791 201.273 Q132.87 205.856 132.87 214.606 Q132.87 223.333 129.791 227.939 Q126.736 232.523 120.925 232.523 Q115.115 232.523 112.037 227.939 Q108.981 223.333 108.981 214.606 Q108.981 205.856 112.037 201.273 Q115.115 196.666 120.925 196.666 Z\" fill=\"#000000\" fill-rule=\"evenodd\" fill-opacity=\"1\" /><path clip-path=\"url(#clip720)\" d=\"M 0 0 M141.087 225.972 L145.972 225.972 L145.972 231.851 L141.087 231.851 L141.087 225.972 Z\" fill=\"#000000\" fill-rule=\"evenodd\" fill-opacity=\"1\" /><path clip-path=\"url(#clip720)\" d=\"M 0 0 M166.735 212.708 Q163.587 212.708 161.735 214.861 Q159.907 217.013 159.907 220.763 Q159.907 224.49 161.735 226.666 Q163.587 228.819 166.735 228.819 Q169.883 228.819 171.712 226.666 Q173.564 224.49 173.564 220.763 Q173.564 217.013 171.712 214.861 Q169.883 212.708 166.735 212.708 M176.018 198.055 L176.018 202.314 Q174.258 201.481 172.453 201.041 Q170.671 200.601 168.911 200.601 Q164.282 200.601 161.828 203.726 Q159.397 206.851 159.05 213.171 Q160.416 211.157 162.476 210.092 Q164.536 209.004 167.013 209.004 Q172.221 209.004 175.231 212.175 Q178.263 215.324 178.263 220.763 Q178.263 226.087 175.115 229.305 Q171.967 232.523 166.735 232.523 Q160.74 232.523 157.569 227.939 Q154.397 223.333 154.397 214.606 Q154.397 206.412 158.286 201.551 Q162.175 196.666 168.726 196.666 Q170.485 196.666 172.268 197.014 Q174.073 197.361 176.018 198.055 Z\" fill=\"#000000\" fill-rule=\"evenodd\" fill-opacity=\"1\" /><path clip-path=\"url(#clip720)\" d=\"M 0 0 M45.1129 581.521 L47.9774 581.521 L47.9774 608.448 Q54.0249 608.066 57.2077 604.819 Q60.3587 601.541 60.3587 595.716 Q60.3587 592.342 59.5312 589.191 Q58.7037 586.008 57.0486 582.889 L62.5867 582.889 Q63.9235 586.04 64.6238 589.35 Q65.324 592.661 65.324 596.066 Q65.324 604.596 60.3587 609.593 Q55.3935 614.559 46.9271 614.559 Q38.1742 614.559 33.0499 609.848 Q27.8936 605.106 27.8936 597.085 Q27.8936 589.891 32.5406 585.722 Q37.1557 581.521 45.1129 581.521 M43.3941 587.377 Q38.588 587.441 35.7234 590.082 Q32.8589 592.692 32.8589 597.021 Q32.8589 601.923 35.628 604.883 Q38.397 607.811 43.426 608.257 L43.3941 587.377 Z\" fill=\"#000000\" fill-rule=\"evenodd\" fill-opacity=\"1\" /><path clip-path=\"url(#clip720)\" d=\"M 0 0 M34.2275 551.252 Q33.6546 552.238 33.4 553.416 Q33.1135 554.562 33.1135 555.962 Q33.1135 560.928 36.36 563.601 Q39.5747 566.243 45.6221 566.243 L64.401 566.243 L64.401 572.131 L28.753 572.131 L28.753 566.243 L34.2912 566.243 Q31.0447 564.397 29.4851 561.437 Q27.8936 558.477 27.8936 554.244 Q27.8936 553.639 27.9891 552.907 Q28.0528 552.175 28.2119 551.283 L34.2275 551.252 Z\" fill=\"#000000\" fill-rule=\"evenodd\" fill-opacity=\"1\" /><path clip-path=\"url(#clip720)\" d=\"M 0 0 M34.2275 525.598 Q33.6546 526.585 33.4 527.762 Q33.1135 528.908 33.1135 530.308 Q33.1135 535.274 36.36 537.947 Q39.5747 540.589 45.6221 540.589 L64.401 540.589 L64.401 546.477 L28.753 546.477 L28.753 540.589 L34.2912 540.589 Q31.0447 538.743 29.4851 535.783 Q27.8936 532.823 27.8936 528.59 Q27.8936 527.985 27.9891 527.253 Q28.0528 526.521 28.2119 525.63 L34.2275 525.598 Z\" fill=\"#000000\" fill-rule=\"evenodd\" fill-opacity=\"1\" /><path clip-path=\"url(#clip720)\" d=\"M 0 0 M32.8589 507.074 Q32.8589 511.784 36.551 514.522 Q40.2113 517.259 46.6088 517.259 Q53.0063 517.259 56.6985 514.553 Q60.3587 511.816 60.3587 507.074 Q60.3587 502.395 56.6666 499.658 Q52.9745 496.92 46.6088 496.92 Q40.2749 496.92 36.5828 499.658 Q32.8589 502.395 32.8589 507.074 M27.8936 507.074 Q27.8936 499.435 32.8589 495.074 Q37.8241 490.714 46.6088 490.714 Q55.3617 490.714 60.3587 495.074 Q65.324 499.435 65.324 507.074 Q65.324 514.744 60.3587 519.105 Q55.3617 523.434 46.6088 523.434 Q37.8241 523.434 32.8589 519.105 Q27.8936 514.744 27.8936 507.074 Z\" fill=\"#000000\" fill-rule=\"evenodd\" fill-opacity=\"1\" /><path clip-path=\"url(#clip720)\" d=\"M 0 0 M34.2275 460.349 Q33.6546 461.336 33.4 462.514 Q33.1135 463.66 33.1135 465.06 Q33.1135 470.025 36.36 472.699 Q39.5747 475.341 45.6221 475.341 L64.401 475.341 L64.401 481.229 L28.753 481.229 L28.753 475.341 L34.2912 475.341 Q31.0447 473.495 29.4851 470.534 Q27.8936 467.574 27.8936 463.341 Q27.8936 462.737 27.9891 462.004 Q28.0528 461.272 28.2119 460.381 L34.2275 460.349 Z\" fill=\"#000000\" fill-rule=\"evenodd\" fill-opacity=\"1\" /><path clip-path=\"url(#clip720)\" d=\"M 0 0 M894.938 34.0924 L894.938 9.54393 L902.391 9.54393 L902.391 72.576 L894.938 72.576 L894.938 65.7705 Q892.588 69.8214 888.983 71.8063 Q885.418 73.7508 880.395 73.7508 Q872.171 73.7508 866.986 67.1883 Q861.842 60.6258 861.842 49.9314 Q861.842 39.2371 866.986 32.6746 Q872.171 26.1121 880.395 26.1121 Q885.418 26.1121 888.983 28.0971 Q892.588 30.0415 894.938 34.0924 M869.538 49.9314 Q869.538 58.1548 872.901 62.8538 Q876.303 67.5124 882.218 67.5124 Q888.132 67.5124 891.535 62.8538 Q894.938 58.1548 894.938 49.9314 Q894.938 41.7081 891.535 37.0496 Q888.132 32.3505 882.218 32.3505 Q876.303 32.3505 872.901 37.0496 Q869.538 41.7081 869.538 49.9314 Z\" fill=\"#000000\" fill-rule=\"evenodd\" fill-opacity=\"1\" /><path clip-path=\"url(#clip720)\" d=\"M 0 0 M918.716 34.9026 L970.649 34.9026 L970.649 41.7081 L918.716 41.7081 L918.716 34.9026 M918.716 51.4303 L970.649 51.4303 L970.649 58.3168 L918.716 58.3168 L918.716 51.4303 Z\" fill=\"#000000\" fill-rule=\"evenodd\" fill-opacity=\"1\" /><path clip-path=\"url(#clip720)\" d=\"M 0 0 M989.729 65.6895 L1003.1 65.6895 L1003.1 19.5497 L988.554 22.4663 L988.554 15.0127 L1003.02 12.096 L1011.2 12.096 L1011.2 65.6895 L1024.57 65.6895 L1024.57 72.576 L989.729 72.576 L989.729 65.6895 Z\" fill=\"#000000\" fill-rule=\"evenodd\" fill-opacity=\"1\" /><path clip-path=\"url(#clip720)\" d=\"M 0 0 M1041.94 62.2867 L1050.49 62.2867 L1050.49 69.2543 L1043.85 82.2172 L1038.62 82.2172 L1041.94 69.2543 L1041.94 62.2867 Z\" fill=\"#000000\" fill-rule=\"evenodd\" fill-opacity=\"1\" /><path clip-path=\"url(#clip720)\" d=\"M 0 0 M1093.11 12.096 L1101.29 12.096 L1101.29 65.6895 L1130.74 65.6895 L1130.74 72.576 L1093.11 72.576 L1093.11 12.096 Z\" fill=\"#000000\" fill-rule=\"evenodd\" fill-opacity=\"1\" /><path clip-path=\"url(#clip720)\" d=\"M 0 0 M1139.98 34.9026 L1191.91 34.9026 L1191.91 41.7081 L1139.98 41.7081 L1139.98 34.9026 M1139.98 51.4303 L1191.91 51.4303 L1191.91 58.3168 L1139.98 58.3168 L1139.98 51.4303 Z\" fill=\"#000000\" fill-rule=\"evenodd\" fill-opacity=\"1\" /><path clip-path=\"url(#clip720)\" d=\"M 0 0 M1216.62 65.6895 L1245.18 65.6895 L1245.18 72.576 L1206.78 72.576 L1206.78 65.6895 Q1211.43 60.8689 1219.46 52.7671 Q1227.52 44.6248 1229.58 42.2752 Q1233.51 37.8598 1235.05 34.8216 Q1236.63 31.7429 1236.63 28.7857 Q1236.63 23.9651 1233.23 20.927 Q1229.87 17.8888 1224.44 17.8888 Q1220.59 17.8888 1216.3 19.2256 Q1212.04 20.5624 1207.18 23.2765 L1207.18 15.0127 Q1212.12 13.0277 1216.42 12.015 Q1220.71 11.0023 1224.28 11.0023 Q1233.67 11.0023 1239.26 15.7013 Q1244.85 20.4004 1244.85 28.2591 Q1244.85 31.9859 1243.44 35.3482 Q1242.06 38.6699 1238.37 43.2069 Q1237.36 44.3817 1231.93 50.0125 Q1226.5 55.6027 1216.62 65.6895 Z\" fill=\"#000000\" fill-rule=\"evenodd\" fill-opacity=\"1\" /><path clip-path=\"url(#clip720)\" d=\"M 0 0 M1260.29 12.096 L1299.18 12.096 L1299.18 15.5798 L1277.22 72.576 L1268.67 72.576 L1289.33 18.9825 L1260.29 18.9825 L1260.29 12.096 Z\" fill=\"#000000\" fill-rule=\"evenodd\" fill-opacity=\"1\" /><polyline clip-path=\"url(#clip722)\" style=\"stroke:#009af9; stroke-width:8; stroke-opacity:1; fill:none\" points=\"\n",
       "  257.636,137.776 344.254,433.15 430.872,566.956 517.49,628.01 604.109,665.995 690.727,699.957 777.345,716.531 863.964,733.005 950.582,749.659 1037.2,765.745 \n",
       "  1123.82,773.33 1210.44,781.074 1297.06,788.362 1383.67,797.122 1470.29,799.787 1556.91,803.433 1643.53,804.922 1730.15,811.497 1816.77,815.575 1903.38,821.882 \n",
       "  \n",
       "  \"/>\n",
       "<polyline clip-path=\"url(#clip722)\" style=\"stroke:#e26f46; stroke-width:8; stroke-opacity:1; fill:none\" points=\"\n",
       "  257.636,726.843 344.254,821.999 430.872,853.922 517.49,874.143 604.109,884.799 690.727,896.702 777.345,906.922 863.964,916.406 950.582,913.311 1037.2,917.945 \n",
       "  1123.82,929.511 1210.44,935.211 1297.06,935.747 1383.67,936.036 1470.29,932.797 1556.91,937.132 1643.53,934.984 1730.15,936.316 1816.77,935.99 1903.38,936.068 \n",
       "  \n",
       "  \"/>\n",
       "<polyline clip-path=\"url(#clip722)\" style=\"stroke:#3da44d; stroke-width:8; stroke-opacity:1; fill:none\" points=\"\n",
       "  257.636,645.737 344.254,755.431 430.872,806.956 517.49,832.678 604.109,842.903 690.727,863.529 777.345,873.289 863.964,883.466 950.582,882.405 1037.2,890.666 \n",
       "  1123.82,902.512 1210.44,910.268 1297.06,911.43 1383.67,912.928 1470.29,913.321 1556.91,917.831 1643.53,919.129 1730.15,923.822 1816.77,923.873 1903.38,924.335 \n",
       "  \n",
       "  \"/>\n",
       "<path clip-path=\"url(#clip720)\" d=\"\n",
       "M1350.47 383.959 L1894.61 383.959 L1894.61 142.039 L1350.47 142.039  Z\n",
       "  \" fill=\"#ffffff\" fill-rule=\"evenodd\" fill-opacity=\"1\"/>\n",
       "<polyline clip-path=\"url(#clip720)\" style=\"stroke:#000000; stroke-width:4; stroke-opacity:1; fill:none\" points=\"\n",
       "  1350.47,383.959 1894.61,383.959 1894.61,142.039 1350.47,142.039 1350.47,383.959 \n",
       "  \"/>\n",
       "<polyline clip-path=\"url(#clip720)\" style=\"stroke:#009af9; stroke-width:4; stroke-opacity:1; fill:none\" points=\"\n",
       "  1369.86,202.519 1486.16,202.519 \n",
       "  \"/>\n",
       "<path clip-path=\"url(#clip720)\" d=\"M 0 0 M1505.54 183.781 L1509.8 183.781 L1509.8 219.799 L1505.54 219.799 L1505.54 183.781 Z\" fill=\"#000000\" fill-rule=\"evenodd\" fill-opacity=\"1\" /><path clip-path=\"url(#clip720)\" d=\"M 0 0 M1540.89 205.772 L1540.89 207.855 L1521.3 207.855 Q1521.58 212.253 1523.94 214.568 Q1526.33 216.859 1530.56 216.859 Q1533.02 216.859 1535.31 216.258 Q1537.62 215.656 1539.89 214.452 L1539.89 218.48 Q1537.6 219.452 1535.19 219.961 Q1532.79 220.471 1530.31 220.471 Q1524.11 220.471 1520.47 216.859 Q1516.86 213.248 1516.86 207.091 Q1516.86 200.725 1520.29 196.998 Q1523.73 193.248 1529.57 193.248 Q1534.8 193.248 1537.83 196.628 Q1540.89 199.985 1540.89 205.772 M1536.63 204.522 Q1536.58 201.026 1534.66 198.943 Q1532.76 196.86 1529.61 196.86 Q1526.05 196.86 1523.9 198.873 Q1521.77 200.887 1521.44 204.545 L1536.63 204.522 Z\" fill=\"#000000\" fill-rule=\"evenodd\" fill-opacity=\"1\" /><path clip-path=\"url(#clip720)\" d=\"M 0 0 M1559.66 206.767 Q1554.5 206.767 1552.51 207.947 Q1550.52 209.128 1550.52 211.975 Q1550.52 214.244 1552 215.586 Q1553.5 216.906 1556.07 216.906 Q1559.61 216.906 1561.74 214.406 Q1563.9 211.883 1563.9 207.716 L1563.9 206.767 L1559.66 206.767 M1568.16 205.008 L1568.16 219.799 L1563.9 219.799 L1563.9 215.864 Q1562.44 218.225 1560.26 219.359 Q1558.09 220.471 1554.94 220.471 Q1550.96 220.471 1548.6 218.248 Q1546.26 216.003 1546.26 212.253 Q1546.26 207.878 1549.17 205.656 Q1552.11 203.434 1557.92 203.434 L1563.9 203.434 L1563.9 203.017 Q1563.9 200.077 1561.95 198.48 Q1560.03 196.86 1556.54 196.86 Q1554.31 196.86 1552.21 197.392 Q1550.1 197.924 1548.16 198.989 L1548.16 195.054 Q1550.49 194.151 1552.69 193.711 Q1554.89 193.248 1556.98 193.248 Q1562.6 193.248 1565.38 196.165 Q1568.16 199.082 1568.16 205.008 Z\" fill=\"#000000\" fill-rule=\"evenodd\" fill-opacity=\"1\" /><path clip-path=\"url(#clip720)\" d=\"M 0 0 M1593.46 194.637 L1593.46 198.665 Q1591.65 197.739 1589.71 197.276 Q1587.76 196.813 1585.68 196.813 Q1582.51 196.813 1580.91 197.785 Q1579.34 198.758 1579.34 200.702 Q1579.34 202.184 1580.47 203.04 Q1581.6 203.873 1585.03 204.637 L1586.49 204.961 Q1591.03 205.934 1592.92 207.716 Q1594.85 209.475 1594.85 212.646 Q1594.85 216.258 1591.98 218.364 Q1589.13 220.471 1584.13 220.471 Q1582.04 220.471 1579.78 220.054 Q1577.53 219.66 1575.03 218.85 L1575.03 214.452 Q1577.39 215.679 1579.68 216.304 Q1581.98 216.906 1584.22 216.906 Q1587.23 216.906 1588.85 215.887 Q1590.47 214.846 1590.47 212.971 Q1590.47 211.234 1589.29 210.309 Q1588.13 209.383 1584.17 208.526 L1582.69 208.179 Q1578.73 207.346 1576.98 205.633 Q1575.22 203.897 1575.22 200.887 Q1575.22 197.23 1577.81 195.239 Q1580.4 193.248 1585.17 193.248 Q1587.53 193.248 1589.61 193.596 Q1591.7 193.943 1593.46 194.637 Z\" fill=\"#000000\" fill-rule=\"evenodd\" fill-opacity=\"1\" /><path clip-path=\"url(#clip720)\" d=\"M 0 0 M1605.84 186.512 L1605.84 193.873 L1614.61 193.873 L1614.61 197.184 L1605.84 197.184 L1605.84 211.258 Q1605.84 214.429 1606.7 215.332 Q1607.58 216.234 1610.24 216.234 L1614.61 216.234 L1614.61 219.799 L1610.24 219.799 Q1605.31 219.799 1603.43 217.971 Q1601.56 216.119 1601.56 211.258 L1601.56 197.184 L1598.43 197.184 L1598.43 193.873 L1601.56 193.873 L1601.56 186.512 L1605.84 186.512 Z\" fill=\"#000000\" fill-rule=\"evenodd\" fill-opacity=\"1\" /><path clip-path=\"url(#clip720)\" d=\"M 0 0 M1651.81 194.637 L1651.81 198.665 Q1650.01 197.739 1648.06 197.276 Q1646.12 196.813 1644.04 196.813 Q1640.86 196.813 1639.27 197.785 Q1637.69 198.758 1637.69 200.702 Q1637.69 202.184 1638.83 203.04 Q1639.96 203.873 1643.39 204.637 L1644.85 204.961 Q1649.38 205.934 1651.28 207.716 Q1653.2 209.475 1653.2 212.646 Q1653.2 216.258 1650.33 218.364 Q1647.48 220.471 1642.48 220.471 Q1640.4 220.471 1638.13 220.054 Q1635.89 219.66 1633.39 218.85 L1633.39 214.452 Q1635.75 215.679 1638.04 216.304 Q1640.33 216.906 1642.58 216.906 Q1645.59 216.906 1647.21 215.887 Q1648.83 214.846 1648.83 212.971 Q1648.83 211.234 1647.65 210.309 Q1646.49 209.383 1642.53 208.526 L1641.05 208.179 Q1637.09 207.346 1635.33 205.633 Q1633.57 203.897 1633.57 200.887 Q1633.57 197.23 1636.16 195.239 Q1638.76 193.248 1643.53 193.248 Q1645.89 193.248 1647.97 193.596 Q1650.05 193.943 1651.81 194.637 Z\" fill=\"#000000\" fill-rule=\"evenodd\" fill-opacity=\"1\" /><path clip-path=\"url(#clip720)\" d=\"M 0 0 M1662.53 206.859 Q1662.53 211.559 1664.45 214.244 Q1666.4 216.906 1669.78 216.906 Q1673.16 216.906 1675.1 214.244 Q1677.04 211.559 1677.04 206.859 Q1677.04 202.16 1675.1 199.498 Q1673.16 196.813 1669.78 196.813 Q1666.4 196.813 1664.45 199.498 Q1662.53 202.16 1662.53 206.859 M1677.04 215.91 Q1675.7 218.225 1673.64 219.359 Q1671.6 220.471 1668.73 220.471 Q1664.04 220.471 1661.07 216.721 Q1658.13 212.971 1658.13 206.859 Q1658.13 200.748 1661.07 196.998 Q1664.04 193.248 1668.73 193.248 Q1671.6 193.248 1673.64 194.383 Q1675.7 195.494 1677.04 197.809 L1677.04 193.873 L1681.3 193.873 L1681.3 229.66 L1677.04 229.66 L1677.04 215.91 Z\" fill=\"#000000\" fill-rule=\"evenodd\" fill-opacity=\"1\" /><path clip-path=\"url(#clip720)\" d=\"M 0 0 M1689.64 209.568 L1689.64 193.873 L1693.9 193.873 L1693.9 209.406 Q1693.9 213.086 1695.33 214.938 Q1696.77 216.767 1699.64 216.767 Q1703.09 216.767 1705.08 214.568 Q1707.09 212.369 1707.09 208.572 L1707.09 193.873 L1711.35 193.873 L1711.35 219.799 L1707.09 219.799 L1707.09 215.818 Q1705.54 218.179 1703.48 219.336 Q1701.44 220.471 1698.73 220.471 Q1694.27 220.471 1691.95 217.693 Q1689.64 214.915 1689.64 209.568 M1700.35 193.248 L1700.35 193.248 Z\" fill=\"#000000\" fill-rule=\"evenodd\" fill-opacity=\"1\" /><path clip-path=\"url(#clip720)\" d=\"M 0 0 M1731.91 206.767 Q1726.74 206.767 1724.75 207.947 Q1722.76 209.128 1722.76 211.975 Q1722.76 214.244 1724.24 215.586 Q1725.75 216.906 1728.32 216.906 Q1731.86 216.906 1733.99 214.406 Q1736.14 211.883 1736.14 207.716 L1736.14 206.767 L1731.91 206.767 M1740.4 205.008 L1740.4 219.799 L1736.14 219.799 L1736.14 215.864 Q1734.68 218.225 1732.51 219.359 Q1730.33 220.471 1727.18 220.471 Q1723.2 220.471 1720.84 218.248 Q1718.5 216.003 1718.5 212.253 Q1718.5 207.878 1721.42 205.656 Q1724.36 203.434 1730.17 203.434 L1736.14 203.434 L1736.14 203.017 Q1736.14 200.077 1734.2 198.48 Q1732.28 196.86 1728.78 196.86 Q1726.56 196.86 1724.45 197.392 Q1722.34 197.924 1720.4 198.989 L1720.4 195.054 Q1722.74 194.151 1724.94 193.711 Q1727.14 193.248 1729.22 193.248 Q1734.84 193.248 1737.62 196.165 Q1740.4 199.082 1740.4 205.008 Z\" fill=\"#000000\" fill-rule=\"evenodd\" fill-opacity=\"1\" /><path clip-path=\"url(#clip720)\" d=\"M 0 0 M1764.2 197.855 Q1763.48 197.438 1762.62 197.253 Q1761.79 197.045 1760.77 197.045 Q1757.16 197.045 1755.22 199.406 Q1753.29 201.744 1753.29 206.142 L1753.29 219.799 L1749.01 219.799 L1749.01 193.873 L1753.29 193.873 L1753.29 197.901 Q1754.64 195.54 1756.79 194.406 Q1758.94 193.248 1762.02 193.248 Q1762.46 193.248 1762.99 193.318 Q1763.53 193.364 1764.17 193.48 L1764.2 197.855 Z\" fill=\"#000000\" fill-rule=\"evenodd\" fill-opacity=\"1\" /><path clip-path=\"url(#clip720)\" d=\"M 0 0 M1789.8 205.772 L1789.8 207.855 L1770.22 207.855 Q1770.49 212.253 1772.85 214.568 Q1775.24 216.859 1779.47 216.859 Q1781.93 216.859 1784.22 216.258 Q1786.53 215.656 1788.8 214.452 L1788.8 218.48 Q1786.51 219.452 1784.1 219.961 Q1781.7 220.471 1779.22 220.471 Q1773.02 220.471 1769.38 216.859 Q1765.77 213.248 1765.77 207.091 Q1765.77 200.725 1769.2 196.998 Q1772.65 193.248 1778.48 193.248 Q1783.71 193.248 1786.74 196.628 Q1789.8 199.985 1789.8 205.772 M1785.54 204.522 Q1785.49 201.026 1783.57 198.943 Q1781.67 196.86 1778.53 196.86 Q1774.96 196.86 1772.81 198.873 Q1770.68 200.887 1770.35 204.545 L1785.54 204.522 Z\" fill=\"#000000\" fill-rule=\"evenodd\" fill-opacity=\"1\" /><path clip-path=\"url(#clip720)\" d=\"M 0 0 M1813.32 194.637 L1813.32 198.665 Q1811.51 197.739 1809.57 197.276 Q1807.62 196.813 1805.54 196.813 Q1802.37 196.813 1800.77 197.785 Q1799.2 198.758 1799.2 200.702 Q1799.2 202.184 1800.33 203.04 Q1801.46 203.873 1804.89 204.637 L1806.35 204.961 Q1810.89 205.934 1812.78 207.716 Q1814.71 209.475 1814.71 212.646 Q1814.71 216.258 1811.84 218.364 Q1808.99 220.471 1803.99 220.471 Q1801.9 220.471 1799.64 220.054 Q1797.39 219.66 1794.89 218.85 L1794.89 214.452 Q1797.25 215.679 1799.54 216.304 Q1801.84 216.906 1804.08 216.906 Q1807.09 216.906 1808.71 215.887 Q1810.33 214.846 1810.33 212.971 Q1810.33 211.234 1809.15 210.309 Q1807.99 209.383 1804.03 208.526 L1802.55 208.179 Q1798.59 207.346 1796.84 205.633 Q1795.08 203.897 1795.08 200.887 Q1795.08 197.23 1797.67 195.239 Q1800.26 193.248 1805.03 193.248 Q1807.39 193.248 1809.47 193.596 Q1811.56 193.943 1813.32 194.637 Z\" fill=\"#000000\" fill-rule=\"evenodd\" fill-opacity=\"1\" /><polyline clip-path=\"url(#clip720)\" style=\"stroke:#e26f46; stroke-width:4; stroke-opacity:1; fill:none\" points=\"\n",
       "  1369.86,262.999 1486.16,262.999 \n",
       "  \"/>\n",
       "<path clip-path=\"url(#clip720)\" d=\"M 0 0 M1527.79 246.853 L1527.79 251.414 Q1525.12 250.141 1522.76 249.516 Q1520.4 248.891 1518.2 248.891 Q1514.38 248.891 1512.3 250.372 Q1510.24 251.853 1510.24 254.585 Q1510.24 256.877 1511.61 258.057 Q1512.99 259.215 1516.84 259.932 L1519.66 260.511 Q1524.89 261.506 1527.37 264.029 Q1529.87 266.529 1529.87 270.742 Q1529.87 275.765 1526.49 278.358 Q1523.13 280.951 1516.63 280.951 Q1514.17 280.951 1511.4 280.395 Q1508.64 279.839 1505.68 278.751 L1505.68 273.937 Q1508.53 275.534 1511.26 276.344 Q1513.99 277.154 1516.63 277.154 Q1520.63 277.154 1522.81 275.58 Q1524.98 274.006 1524.98 271.089 Q1524.98 268.543 1523.41 267.108 Q1521.86 265.673 1518.3 264.955 L1515.45 264.4 Q1510.22 263.358 1507.88 261.136 Q1505.54 258.914 1505.54 254.955 Q1505.54 250.372 1508.76 247.733 Q1512 245.094 1517.67 245.094 Q1520.1 245.094 1522.62 245.534 Q1525.15 245.974 1527.79 246.853 Z\" fill=\"#000000\" fill-rule=\"evenodd\" fill-opacity=\"1\" /><path clip-path=\"url(#clip720)\" d=\"M 0 0 M1546.07 280.279 L1532.88 245.719 L1537.76 245.719 L1548.71 274.816 L1559.68 245.719 L1564.54 245.719 L1551.37 280.279 L1546.07 280.279 Z\" fill=\"#000000\" fill-rule=\"evenodd\" fill-opacity=\"1\" /><path clip-path=\"url(#clip720)\" d=\"M 0 0 M1574.27 249.562 L1574.27 276.437 L1579.92 276.437 Q1587.07 276.437 1590.38 273.196 Q1593.71 269.955 1593.71 262.965 Q1593.71 256.02 1590.38 252.803 Q1587.07 249.562 1579.92 249.562 L1574.27 249.562 M1569.59 245.719 L1579.2 245.719 Q1589.24 245.719 1593.94 249.909 Q1598.64 254.076 1598.64 262.965 Q1598.64 271.9 1593.92 276.089 Q1589.2 280.279 1579.2 280.279 L1569.59 280.279 L1569.59 245.719 Z\" fill=\"#000000\" fill-rule=\"evenodd\" fill-opacity=\"1\" /><polyline clip-path=\"url(#clip720)\" style=\"stroke:#3da44d; stroke-width:4; stroke-opacity:1; fill:none\" points=\"\n",
       "  1369.86,323.479 1486.16,323.479 \n",
       "  \"/>\n",
       "<path clip-path=\"url(#clip720)\" d=\"M 0 0 M1525.89 319.81 Q1527.48 316.94 1529.71 315.574 Q1531.93 314.208 1534.94 314.208 Q1538.99 314.208 1541.19 317.056 Q1543.39 319.88 1543.39 325.111 L1543.39 340.759 L1539.11 340.759 L1539.11 325.25 Q1539.11 321.523 1537.79 319.718 Q1536.47 317.912 1533.76 317.912 Q1530.45 317.912 1528.53 320.111 Q1526.61 322.31 1526.61 326.107 L1526.61 340.759 L1522.32 340.759 L1522.32 325.25 Q1522.32 321.5 1521 319.718 Q1519.68 317.912 1516.93 317.912 Q1513.67 317.912 1511.74 320.134 Q1509.82 322.333 1509.82 326.107 L1509.82 340.759 L1505.54 340.759 L1505.54 314.833 L1509.82 314.833 L1509.82 318.861 Q1511.28 316.477 1513.32 315.343 Q1515.36 314.208 1518.16 314.208 Q1520.98 314.208 1522.95 315.644 Q1524.94 317.079 1525.89 319.81 Z\" fill=\"#000000\" fill-rule=\"evenodd\" fill-opacity=\"1\" /><path clip-path=\"url(#clip720)\" d=\"M 0 0 M1551.44 330.528 L1551.44 314.833 L1555.7 314.833 L1555.7 330.366 Q1555.7 334.046 1557.14 335.898 Q1558.57 337.727 1561.44 337.727 Q1564.89 337.727 1566.88 335.528 Q1568.9 333.329 1568.9 329.532 L1568.9 314.833 L1573.16 314.833 L1573.16 340.759 L1568.9 340.759 L1568.9 336.778 Q1567.35 339.139 1565.29 340.296 Q1563.25 341.431 1560.54 341.431 Q1556.07 341.431 1553.76 338.653 Q1551.44 335.875 1551.44 330.528 M1562.16 314.208 L1562.16 314.208 Z\" fill=\"#000000\" fill-rule=\"evenodd\" fill-opacity=\"1\" /><path clip-path=\"url(#clip720)\" d=\"M 0 0 M1581.93 304.741 L1586.19 304.741 L1586.19 340.759 L1581.93 340.759 L1581.93 304.741 Z\" fill=\"#000000\" fill-rule=\"evenodd\" fill-opacity=\"1\" /><path clip-path=\"url(#clip720)\" d=\"M 0 0 M1599.31 307.472 L1599.31 314.833 L1608.09 314.833 L1608.09 318.144 L1599.31 318.144 L1599.31 332.218 Q1599.31 335.389 1600.17 336.292 Q1601.05 337.194 1603.71 337.194 L1608.09 337.194 L1608.09 340.759 L1603.71 340.759 Q1598.78 340.759 1596.91 338.931 Q1595.03 337.079 1595.03 332.218 L1595.03 318.144 L1591.91 318.144 L1591.91 314.833 L1595.03 314.833 L1595.03 307.472 L1599.31 307.472 Z\" fill=\"#000000\" fill-rule=\"evenodd\" fill-opacity=\"1\" /><path clip-path=\"url(#clip720)\" d=\"M 0 0 M1613.69 314.833 L1617.95 314.833 L1617.95 340.759 L1613.69 340.759 L1613.69 314.833 M1613.69 304.741 L1617.95 304.741 L1617.95 310.134 L1613.69 310.134 L1613.69 304.741 Z\" fill=\"#000000\" fill-rule=\"evenodd\" fill-opacity=\"1\" /><path clip-path=\"url(#clip720)\" d=\"M 0 0 M1643.39 315.597 L1643.39 319.625 Q1641.58 318.699 1639.64 318.236 Q1637.69 317.773 1635.61 317.773 Q1632.44 317.773 1630.84 318.745 Q1629.27 319.718 1629.27 321.662 Q1629.27 323.144 1630.4 324 Q1631.54 324.833 1634.96 325.597 L1636.42 325.921 Q1640.96 326.894 1642.85 328.676 Q1644.78 330.435 1644.78 333.606 Q1644.78 337.218 1641.91 339.324 Q1639.06 341.431 1634.06 341.431 Q1631.98 341.431 1629.71 341.014 Q1627.46 340.62 1624.96 339.81 L1624.96 335.412 Q1627.32 336.639 1629.61 337.264 Q1631.91 337.866 1634.15 337.866 Q1637.16 337.866 1638.78 336.847 Q1640.4 335.806 1640.4 333.931 Q1640.4 332.194 1639.22 331.269 Q1638.06 330.343 1634.1 329.486 L1632.62 329.139 Q1628.66 328.306 1626.91 326.593 Q1625.15 324.857 1625.15 321.847 Q1625.15 318.19 1627.74 316.199 Q1630.33 314.208 1635.1 314.208 Q1637.46 314.208 1639.54 314.556 Q1641.63 314.903 1643.39 315.597 Z\" fill=\"#000000\" fill-rule=\"evenodd\" fill-opacity=\"1\" /><path clip-path=\"url(#clip720)\" d=\"M 0 0 M1670.22 315.829 L1670.22 319.81 Q1668.41 318.815 1666.58 318.329 Q1664.78 317.82 1662.92 317.82 Q1658.78 317.82 1656.49 320.458 Q1654.2 323.074 1654.2 327.819 Q1654.2 332.565 1656.49 335.204 Q1658.78 337.819 1662.92 337.819 Q1664.78 337.819 1666.58 337.333 Q1668.41 336.824 1670.22 335.829 L1670.22 339.764 Q1668.43 340.597 1666.51 341.014 Q1664.61 341.431 1662.46 341.431 Q1656.6 341.431 1653.16 337.75 Q1649.71 334.069 1649.71 327.819 Q1649.71 321.477 1653.18 317.843 Q1656.67 314.208 1662.74 314.208 Q1664.71 314.208 1666.58 314.625 Q1668.46 315.019 1670.22 315.829 Z\" fill=\"#000000\" fill-rule=\"evenodd\" fill-opacity=\"1\" /><path clip-path=\"url(#clip720)\" d=\"M 0 0 M1689.41 327.727 Q1684.24 327.727 1682.25 328.907 Q1680.26 330.088 1680.26 332.935 Q1680.26 335.204 1681.74 336.546 Q1683.25 337.866 1685.82 337.866 Q1689.36 337.866 1691.49 335.366 Q1693.64 332.843 1693.64 328.676 L1693.64 327.727 L1689.41 327.727 M1697.9 325.968 L1697.9 340.759 L1693.64 340.759 L1693.64 336.824 Q1692.18 339.185 1690.01 340.319 Q1687.83 341.431 1684.68 341.431 Q1680.7 341.431 1678.34 339.208 Q1676 336.963 1676 333.213 Q1676 328.838 1678.92 326.616 Q1681.86 324.394 1687.67 324.394 L1693.64 324.394 L1693.64 323.977 Q1693.64 321.037 1691.7 319.44 Q1689.78 317.82 1686.28 317.82 Q1684.06 317.82 1681.95 318.352 Q1679.85 318.884 1677.9 319.949 L1677.9 316.014 Q1680.24 315.111 1682.44 314.671 Q1684.64 314.208 1686.72 314.208 Q1692.35 314.208 1695.12 317.125 Q1697.9 320.042 1697.9 325.968 Z\" fill=\"#000000\" fill-rule=\"evenodd\" fill-opacity=\"1\" /><path clip-path=\"url(#clip720)\" d=\"M 0 0 M1706.67 304.741 L1710.93 304.741 L1710.93 340.759 L1706.67 340.759 L1706.67 304.741 Z\" fill=\"#000000\" fill-rule=\"evenodd\" fill-opacity=\"1\" /><path clip-path=\"url(#clip720)\" d=\"M 0 0 M1742.02 326.732 L1742.02 328.815 L1722.44 328.815 Q1722.72 333.213 1725.08 335.528 Q1727.46 337.819 1731.7 337.819 Q1734.15 337.819 1736.44 337.218 Q1738.76 336.616 1741.03 335.412 L1741.03 339.44 Q1738.73 340.412 1736.33 340.921 Q1733.92 341.431 1731.44 341.431 Q1725.24 341.431 1721.6 337.819 Q1717.99 334.208 1717.99 328.051 Q1717.99 321.685 1721.42 317.958 Q1724.87 314.208 1730.7 314.208 Q1735.93 314.208 1738.97 317.588 Q1742.02 320.945 1742.02 326.732 M1737.76 325.482 Q1737.72 321.986 1735.79 319.903 Q1733.9 317.82 1730.75 317.82 Q1727.18 317.82 1725.03 319.833 Q1722.9 321.847 1722.58 325.505 L1737.76 325.482 Z\" fill=\"#000000\" fill-rule=\"evenodd\" fill-opacity=\"1\" /><path clip-path=\"url(#clip720)\" d=\"M 0 0 M1784.98 307.333 L1784.98 311.894 Q1782.32 310.621 1779.96 309.996 Q1777.6 309.371 1775.4 309.371 Q1771.58 309.371 1769.5 310.852 Q1767.44 312.333 1767.44 315.065 Q1767.44 317.357 1768.8 318.537 Q1770.19 319.695 1774.03 320.412 L1776.86 320.991 Q1782.09 321.986 1784.57 324.509 Q1787.07 327.009 1787.07 331.222 Q1787.07 336.245 1783.69 338.838 Q1780.33 341.431 1773.83 341.431 Q1771.37 341.431 1768.59 340.875 Q1765.84 340.319 1762.88 339.231 L1762.88 334.417 Q1765.72 336.014 1768.46 336.824 Q1771.19 337.634 1773.83 337.634 Q1777.83 337.634 1780.01 336.06 Q1782.18 334.486 1782.18 331.569 Q1782.18 329.023 1780.61 327.588 Q1779.06 326.153 1775.49 325.435 L1772.65 324.88 Q1767.41 323.838 1765.08 321.616 Q1762.74 319.394 1762.74 315.435 Q1762.74 310.852 1765.96 308.213 Q1769.2 305.574 1774.87 305.574 Q1777.3 305.574 1779.82 306.014 Q1782.34 306.454 1784.98 307.333 Z\" fill=\"#000000\" fill-rule=\"evenodd\" fill-opacity=\"1\" /><path clip-path=\"url(#clip720)\" d=\"M 0 0 M1803.27 340.759 L1790.08 306.199 L1794.96 306.199 L1805.91 335.296 L1816.88 306.199 L1821.74 306.199 L1808.57 340.759 L1803.27 340.759 Z\" fill=\"#000000\" fill-rule=\"evenodd\" fill-opacity=\"1\" /><path clip-path=\"url(#clip720)\" d=\"M 0 0 M1831.46 310.042 L1831.46 336.917 L1837.11 336.917 Q1844.27 336.917 1847.58 333.676 Q1850.91 330.435 1850.91 323.445 Q1850.91 316.5 1847.58 313.283 Q1844.27 310.042 1837.11 310.042 L1831.46 310.042 M1826.79 306.199 L1836.4 306.199 Q1846.44 306.199 1851.14 310.389 Q1855.84 314.556 1855.84 323.445 Q1855.84 332.38 1851.12 336.569 Q1846.4 340.759 1836.4 340.759 L1826.79 340.759 L1826.79 306.199 Z\" fill=\"#000000\" fill-rule=\"evenodd\" fill-opacity=\"1\" /></svg>\n"
      ]
     },
     "execution_count": 5,
     "metadata": {},
     "output_type": "execute_result"
    }
   ],
   "source": [
    "graph_experiment(lossEvery,errFs, errSVDs, errMultiSVDs, title=\"d=1, L=27\")"
   ]
  },
  {
   "cell_type": "code",
   "execution_count": 6,
   "metadata": {},
   "outputs": [],
   "source": [
    "savefig(\"lds-1-27.png\")"
   ]
  },
  {
   "cell_type": "code",
   "execution_count": 19,
   "metadata": {},
   "outputs": [
    {
     "data": {
      "text/plain": [
       "1"
      ]
     },
     "metadata": {},
     "output_type": "display_data"
    },
    {
     "data": {
      "text/plain": [
       "35"
      ]
     },
     "metadata": {},
     "output_type": "display_data"
    },
    {
     "data": {
      "text/plain": [
       "(200, 1.522685089324084, 0.5595797387760749, 0.5336338540025656)"
      ]
     },
     "metadata": {},
     "output_type": "display_data"
    },
    {
     "data": {
      "text/plain": [
       "(300, 1.084698833229172, 0.35701216829600696, 0.38183413078704437)"
      ]
     },
     "metadata": {},
     "output_type": "display_data"
    },
    {
     "data": {
      "text/plain": [
       "(400, 0.8951334246899014, 0.29785028611830133, 0.3493755531226334)"
      ]
     },
     "metadata": {},
     "output_type": "display_data"
    },
    {
     "data": {
      "text/plain": [
       "(500, 0.7641618054983308, 0.24044706795872633, 0.28901835719980906)"
      ]
     },
     "metadata": {},
     "output_type": "display_data"
    },
    {
     "data": {
      "text/plain": [
       "(600, 0.6810446198311847, 0.21149397279025395, 0.257397652564841)"
      ]
     },
     "metadata": {},
     "output_type": "display_data"
    },
    {
     "data": {
      "text/plain": [
       "(700, 0.6246008966548489, 0.1907199911910738, 0.24033829107230262)"
      ]
     },
     "metadata": {},
     "output_type": "display_data"
    },
    {
     "data": {
      "text/plain": [
       "(800, 0.5845270774616005, 0.1782931137941158, 0.22709909793707392)"
      ]
     },
     "metadata": {},
     "output_type": "display_data"
    },
    {
     "data": {
      "text/plain": [
       "(900, 0.5482933167593786, 0.1691327453583046, 0.20746965136024093)"
      ]
     },
     "metadata": {},
     "output_type": "display_data"
    },
    {
     "data": {
      "text/plain": [
       "(1000, 0.5145503412186008, 0.15400929725485957, 0.18862625243902975)"
      ]
     },
     "metadata": {},
     "output_type": "display_data"
    },
    {
     "data": {
      "text/plain": [
       "(1100, 0.5016861242072015, 0.1560710300943358, 0.1967313960406435)"
      ]
     },
     "metadata": {},
     "output_type": "display_data"
    },
    {
     "data": {
      "text/plain": [
       "(1200, 0.48215455018356623, 0.14017574855592554, 0.18011532911895237)"
      ]
     },
     "metadata": {},
     "output_type": "display_data"
    },
    {
     "data": {
      "text/plain": [
       "(1300, 0.4596770841032786, 0.13186932044787367, 0.16360533640188388)"
      ]
     },
     "metadata": {},
     "output_type": "display_data"
    },
    {
     "data": {
      "text/plain": [
       "(1400, 0.4529615719340473, 0.13690690348267778, 0.16424129953187472)"
      ]
     },
     "metadata": {},
     "output_type": "display_data"
    },
    {
     "data": {
      "text/plain": [
       "(1500, 0.44031389048368136, 0.13886127337318993, 0.16252063734267233)"
      ]
     },
     "metadata": {},
     "output_type": "display_data"
    },
    {
     "data": {
      "text/plain": [
       "(1600, 0.42101941528447195, 0.1256382341492534, 0.15372217208862926)"
      ]
     },
     "metadata": {},
     "output_type": "display_data"
    },
    {
     "data": {
      "text/plain": [
       "(1700, 0.3958814259133285, 0.11790683754244527, 0.14441646053473056)"
      ]
     },
     "metadata": {},
     "output_type": "display_data"
    },
    {
     "data": {
      "text/plain": [
       "(1800, 0.379406567927105, 0.10131250660708636, 0.134380563839177)"
      ]
     },
     "metadata": {},
     "output_type": "display_data"
    },
    {
     "data": {
      "text/plain": [
       "(1900, 0.3603491334544584, 0.10126646366724082, 0.1299509065576907)"
      ]
     },
     "metadata": {},
     "output_type": "display_data"
    },
    {
     "data": {
      "text/plain": [
       "(2000, 0.3559491101333981, 0.10429041785555336, 0.13369142499952957)"
      ]
     },
     "metadata": {},
     "output_type": "display_data"
    },
    {
     "data": {
      "text/plain": [
       "2"
      ]
     },
     "metadata": {},
     "output_type": "display_data"
    },
    {
     "data": {
      "text/plain": [
       "35"
      ]
     },
     "metadata": {},
     "output_type": "display_data"
    },
    {
     "data": {
      "text/plain": [
       "(200, 1.7338809305486105, 1.2871900269219365, 0.5740442300446046)"
      ]
     },
     "metadata": {},
     "output_type": "display_data"
    },
    {
     "data": {
      "text/plain": [
       "(300, 1.1049071937446735, 0.29818192434746876, 0.36123249052920003)"
      ]
     },
     "metadata": {},
     "output_type": "display_data"
    },
    {
     "data": {
      "text/plain": [
       "(400, 0.8936993824887836, 0.27018853630573, 0.33107737822854066)"
      ]
     },
     "metadata": {},
     "output_type": "display_data"
    },
    {
     "data": {
      "text/plain": [
       "(500, 0.7977042011418908, 0.22818691286636159, 0.30283300134845004)"
      ]
     },
     "metadata": {},
     "output_type": "display_data"
    },
    {
     "data": {
      "text/plain": [
       "(600, 0.7128232186904191, 0.214017149566875, 0.2873166146126197)"
      ]
     },
     "metadata": {},
     "output_type": "display_data"
    },
    {
     "data": {
      "text/plain": [
       "(700, 0.6607618825342961, 0.2093228822697209, 0.2682542668279326)"
      ]
     },
     "metadata": {},
     "output_type": "display_data"
    },
    {
     "data": {
      "text/plain": [
       "(800, 0.6262358415352228, 0.2007054657644253, 0.2626844567690558)"
      ]
     },
     "metadata": {},
     "output_type": "display_data"
    },
    {
     "data": {
      "text/plain": [
       "(900, 0.6034423445810384, 0.1967966067936399, 0.2519428408835029)"
      ]
     },
     "metadata": {},
     "output_type": "display_data"
    },
    {
     "data": {
      "text/plain": [
       "(1000, 0.5819465443839061, 0.1935086540104503, 0.2455107677518996)"
      ]
     },
     "metadata": {},
     "output_type": "display_data"
    },
    {
     "data": {
      "text/plain": [
       "(1100, 0.5373346835413879, 0.1743730052497324, 0.22840112921710473)"
      ]
     },
     "metadata": {},
     "output_type": "display_data"
    },
    {
     "data": {
      "text/plain": [
       "(1200, 0.51138064472092, 0.16112091890123245, 0.21040941581945613)"
      ]
     },
     "metadata": {},
     "output_type": "display_data"
    },
    {
     "data": {
      "text/plain": [
       "(1300, 0.4848641544340882, 0.14983856184362448, 0.2028026696914672)"
      ]
     },
     "metadata": {},
     "output_type": "display_data"
    },
    {
     "data": {
      "text/plain": [
       "(1400, 0.4684384576387114, 0.14150483380774248, 0.1949987216846536)"
      ]
     },
     "metadata": {},
     "output_type": "display_data"
    },
    {
     "data": {
      "text/plain": [
       "(1500, 0.4558329810546589, 0.13545002193246694, 0.1833003149947921)"
      ]
     },
     "metadata": {},
     "output_type": "display_data"
    },
    {
     "data": {
      "text/plain": [
       "(1600, 0.43458361806569606, 0.13534249231216758, 0.18076973541538335)"
      ]
     },
     "metadata": {},
     "output_type": "display_data"
    },
    {
     "data": {
      "text/plain": [
       "(1700, 0.41439743176456617, 0.12140928909637883, 0.1664417268903382)"
      ]
     },
     "metadata": {},
     "output_type": "display_data"
    },
    {
     "data": {
      "text/plain": [
       "(1800, 0.40445044255207296, 0.1246780730363251, 0.16088294283207563)"
      ]
     },
     "metadata": {},
     "output_type": "display_data"
    },
    {
     "data": {
      "text/plain": [
       "(1900, 0.39152094174591884, 0.12350514646826087, 0.15728856358671817)"
      ]
     },
     "metadata": {},
     "output_type": "display_data"
    },
    {
     "data": {
      "text/plain": [
       "(2000, 0.3817444289625487, 0.11924992011326446, 0.15090943914713456)"
      ]
     },
     "metadata": {},
     "output_type": "display_data"
    },
    {
     "data": {
      "text/plain": [
       "3"
      ]
     },
     "metadata": {},
     "output_type": "display_data"
    },
    {
     "data": {
      "text/plain": [
       "35"
      ]
     },
     "metadata": {},
     "output_type": "display_data"
    },
    {
     "data": {
      "text/plain": [
       "(200, 1.9311458156718566, 0.6337082327401784, 0.7457140229530661)"
      ]
     },
     "metadata": {},
     "output_type": "display_data"
    },
    {
     "data": {
      "text/plain": [
       "(300, 1.2747409760900132, 0.48444617591086714, 0.5243960173625977)"
      ]
     },
     "metadata": {},
     "output_type": "display_data"
    },
    {
     "data": {
      "text/plain": [
       "(400, 1.0406993402247053, 0.4349529991638011, 0.441345564337162)"
      ]
     },
     "metadata": {},
     "output_type": "display_data"
    },
    {
     "data": {
      "text/plain": [
       "(500, 0.8855977438197499, 0.37008085014919934, 0.3807353343419471)"
      ]
     },
     "metadata": {},
     "output_type": "display_data"
    },
    {
     "data": {
      "text/plain": [
       "(600, 0.7746536990339767, 0.31119544254388554, 0.3088892010382882)"
      ]
     },
     "metadata": {},
     "output_type": "display_data"
    },
    {
     "data": {
      "text/plain": [
       "(700, 0.6965868943283349, 0.24830872486625027, 0.24993612711186777)"
      ]
     },
     "metadata": {},
     "output_type": "display_data"
    },
    {
     "data": {
      "text/plain": [
       "(800, 0.6249223550311197, 0.22224025001033462, 0.23696052774258733)"
      ]
     },
     "metadata": {},
     "output_type": "display_data"
    },
    {
     "data": {
      "text/plain": [
       "(900, 0.5745788060007354, 0.19985795656100985, 0.21267727098886907)"
      ]
     },
     "metadata": {},
     "output_type": "display_data"
    },
    {
     "data": {
      "text/plain": [
       "(1000, 0.5479992030158247, 0.21027483404411895, 0.22046042567352117)"
      ]
     },
     "metadata": {},
     "output_type": "display_data"
    },
    {
     "data": {
      "text/plain": [
       "(1100, 0.5162225365955713, 0.2127738858464656, 0.22088588718485178)"
      ]
     },
     "metadata": {},
     "output_type": "display_data"
    },
    {
     "data": {
      "text/plain": [
       "(1200, 0.4874016229794464, 0.19537639197518808, 0.20849644556810742)"
      ]
     },
     "metadata": {},
     "output_type": "display_data"
    },
    {
     "data": {
      "text/plain": [
       "(1300, 0.4709426848309918, 0.18591572860369016, 0.19449292199122278)"
      ]
     },
     "metadata": {},
     "output_type": "display_data"
    },
    {
     "data": {
      "text/plain": [
       "(1400, 0.4499393233927027, 0.16963901656084596, 0.18408199993549176)"
      ]
     },
     "metadata": {},
     "output_type": "display_data"
    },
    {
     "data": {
      "text/plain": [
       "(1500, 0.440407300804797, 0.17857921777023567, 0.1845176114375122)"
      ]
     },
     "metadata": {},
     "output_type": "display_data"
    },
    {
     "data": {
      "text/plain": [
       "(1600, 0.42271982083179577, 0.17133700605812202, 0.17613329244593073)"
      ]
     },
     "metadata": {},
     "output_type": "display_data"
    },
    {
     "data": {
      "text/plain": [
       "(1700, 0.39342168847982234, 0.15084172515487126, 0.16351913432891554)"
      ]
     },
     "metadata": {},
     "output_type": "display_data"
    },
    {
     "data": {
      "text/plain": [
       "(1800, 0.39166230023421333, 0.15492373006860882, 0.1606192362677391)"
      ]
     },
     "metadata": {},
     "output_type": "display_data"
    },
    {
     "data": {
      "text/plain": [
       "(1900, 0.38693400375717235, 0.1593410340677458, 0.16245987105487172)"
      ]
     },
     "metadata": {},
     "output_type": "display_data"
    },
    {
     "data": {
      "text/plain": [
       "(2000, 0.37641455051564415, 0.15034048039229259, 0.15198005054501798)"
      ]
     },
     "metadata": {},
     "output_type": "display_data"
    },
    {
     "data": {
      "text/plain": [
       "4"
      ]
     },
     "metadata": {},
     "output_type": "display_data"
    },
    {
     "data": {
      "text/plain": [
       "35"
      ]
     },
     "metadata": {},
     "output_type": "display_data"
    },
    {
     "data": {
      "text/plain": [
       "(200, 1.7082698765597877, 1.2261244450110518, 0.6983367823329577)"
      ]
     },
     "metadata": {},
     "output_type": "display_data"
    },
    {
     "data": {
      "text/plain": [
       "(300, 1.219457762439517, 0.513702695248783, 0.4855418756627089)"
      ]
     },
     "metadata": {},
     "output_type": "display_data"
    },
    {
     "data": {
      "text/plain": [
       "(400, 0.8448236232836693, 0.29012110720148415, 0.31562891401157633)"
      ]
     },
     "metadata": {},
     "output_type": "display_data"
    },
    {
     "data": {
      "text/plain": [
       "(500, 0.7125435897293907, 0.2643262111883579, 0.27750672705648755)"
      ]
     },
     "metadata": {},
     "output_type": "display_data"
    },
    {
     "data": {
      "text/plain": [
       "(600, 0.6669435098456069, 0.2593588041207061, 0.2711024562305585)"
      ]
     },
     "metadata": {},
     "output_type": "display_data"
    },
    {
     "data": {
      "text/plain": [
       "(700, 0.587733501036663, 0.22496174155754217, 0.23675888922326344)"
      ]
     },
     "metadata": {},
     "output_type": "display_data"
    },
    {
     "data": {
      "text/plain": [
       "(800, 0.5348061671937415, 0.18545605971685852, 0.20937135149859784)"
      ]
     },
     "metadata": {},
     "output_type": "display_data"
    },
    {
     "data": {
      "text/plain": [
       "(900, 0.5204527766693852, 0.17247335359540672, 0.197986982812343)"
      ]
     },
     "metadata": {},
     "output_type": "display_data"
    },
    {
     "data": {
      "text/plain": [
       "(1000, 0.5114874518558538, 0.16109655602488518, 0.18545710476208307)"
      ]
     },
     "metadata": {},
     "output_type": "display_data"
    },
    {
     "data": {
      "text/plain": [
       "(1100, 0.4873454438132985, 0.1591043346877893, 0.1836452545614835)"
      ]
     },
     "metadata": {},
     "output_type": "display_data"
    },
    {
     "data": {
      "text/plain": [
       "(1200, 0.48440398268354706, 0.15929313904607975, 0.17823284932703398)"
      ]
     },
     "metadata": {},
     "output_type": "display_data"
    },
    {
     "data": {
      "text/plain": [
       "(1300, 0.47948925691717764, 0.17256401192875512, 0.18657034646599407)"
      ]
     },
     "metadata": {},
     "output_type": "display_data"
    },
    {
     "data": {
      "text/plain": [
       "(1400, 0.4474639218908858, 0.16004812701832374, 0.17819728201864515)"
      ]
     },
     "metadata": {},
     "output_type": "display_data"
    },
    {
     "data": {
      "text/plain": [
       "(1500, 0.42789581419117034, 0.1588625480558127, 0.17493539081631704)"
      ]
     },
     "metadata": {},
     "output_type": "display_data"
    },
    {
     "data": {
      "text/plain": [
       "(1600, 0.40518241229722946, 0.15856160776492506, 0.16818778915095267)"
      ]
     },
     "metadata": {},
     "output_type": "display_data"
    },
    {
     "data": {
      "text/plain": [
       "(1700, 0.3919416783047583, 0.15641354736766352, 0.16624407055424545)"
      ]
     },
     "metadata": {},
     "output_type": "display_data"
    },
    {
     "data": {
      "text/plain": [
       "(1800, 0.3841216308012941, 0.15092175286951554, 0.15753931023317702)"
      ]
     },
     "metadata": {},
     "output_type": "display_data"
    },
    {
     "data": {
      "text/plain": [
       "(1900, 0.3683009055260594, 0.14087370862671456, 0.1470239917542225)"
      ]
     },
     "metadata": {},
     "output_type": "display_data"
    },
    {
     "data": {
      "text/plain": [
       "(2000, 0.3602629047355392, 0.14902565458022157, 0.15414321884679139)"
      ]
     },
     "metadata": {},
     "output_type": "display_data"
    },
    {
     "data": {
      "text/plain": [
       "5"
      ]
     },
     "metadata": {},
     "output_type": "display_data"
    },
    {
     "data": {
      "text/plain": [
       "35"
      ]
     },
     "metadata": {},
     "output_type": "display_data"
    },
    {
     "data": {
      "text/plain": [
       "(200, 1.6308126753863859, 1.0517560685041911, 0.7193820747699232)"
      ]
     },
     "metadata": {},
     "output_type": "display_data"
    },
    {
     "data": {
      "text/plain": [
       "(300, 1.0959190611738643, 0.4166787662937895, 0.43172272153705793)"
      ]
     },
     "metadata": {},
     "output_type": "display_data"
    },
    {
     "data": {
      "text/plain": [
       "(400, 0.8999020215572715, 0.3697987982452632, 0.3753650684773322)"
      ]
     },
     "metadata": {},
     "output_type": "display_data"
    },
    {
     "data": {
      "text/plain": [
       "(500, 0.7968584351783753, 0.3290120365405085, 0.3561714211750499)"
      ]
     },
     "metadata": {},
     "output_type": "display_data"
    },
    {
     "data": {
      "text/plain": [
       "(600, 0.7387867844394567, 0.303869079651488, 0.3300990406526831)"
      ]
     },
     "metadata": {},
     "output_type": "display_data"
    },
    {
     "data": {
      "text/plain": [
       "(700, 0.6835437399699508, 0.27959378086795494, 0.28476297429544967)"
      ]
     },
     "metadata": {},
     "output_type": "display_data"
    },
    {
     "data": {
      "text/plain": [
       "(800, 0.6178447547485372, 0.24575398428943213, 0.25522474654187166)"
      ]
     },
     "metadata": {},
     "output_type": "display_data"
    },
    {
     "data": {
      "text/plain": [
       "(900, 0.5483750701776772, 0.22447183324146247, 0.2301481176176428)"
      ]
     },
     "metadata": {},
     "output_type": "display_data"
    },
    {
     "data": {
      "text/plain": [
       "(1000, 0.5285424141617672, 0.20668217578873382, 0.21298742579921442)"
      ]
     },
     "metadata": {},
     "output_type": "display_data"
    },
    {
     "data": {
      "text/plain": [
       "(1100, 0.48820657132144185, 0.18991066371340706, 0.1985344516342601)"
      ]
     },
     "metadata": {},
     "output_type": "display_data"
    },
    {
     "data": {
      "text/plain": [
       "(1200, 0.4683115916883479, 0.17666634733360706, 0.18010979401167157)"
      ]
     },
     "metadata": {},
     "output_type": "display_data"
    },
    {
     "data": {
      "text/plain": [
       "(1300, 0.44885445165390153, 0.16685702828110616, 0.16847322028112963)"
      ]
     },
     "metadata": {},
     "output_type": "display_data"
    },
    {
     "data": {
      "text/plain": [
       "(1400, 0.41760899240556676, 0.13858395130126097, 0.1407577462833203)"
      ]
     },
     "metadata": {},
     "output_type": "display_data"
    },
    {
     "data": {
      "text/plain": [
       "(1500, 0.4074744253093053, 0.13051884813367448, 0.13731941429151756)"
      ]
     },
     "metadata": {},
     "output_type": "display_data"
    },
    {
     "data": {
      "text/plain": [
       "(1600, 0.40020597207413305, 0.12397368780045437, 0.13380503457449286)"
      ]
     },
     "metadata": {},
     "output_type": "display_data"
    },
    {
     "data": {
      "text/plain": [
       "(1700, 0.37517523312625073, 0.11730828078852734, 0.1276152406759837)"
      ]
     },
     "metadata": {},
     "output_type": "display_data"
    },
    {
     "data": {
      "text/plain": [
       "(1800, 0.36550513417523167, 0.11234071287318541, 0.11813792821250678)"
      ]
     },
     "metadata": {},
     "output_type": "display_data"
    },
    {
     "data": {
      "text/plain": [
       "(1900, 0.36208956866836284, 0.11496625329502999, 0.11984743193588791)"
      ]
     },
     "metadata": {},
     "output_type": "display_data"
    },
    {
     "data": {
      "text/plain": [
       "(2000, 0.3477921986840385, 0.10955772704330996, 0.11239740793401681)"
      ]
     },
     "metadata": {},
     "output_type": "display_data"
    },
    {
     "data": {
      "text/plain": [
       "6"
      ]
     },
     "metadata": {},
     "output_type": "display_data"
    },
    {
     "data": {
      "text/plain": [
       "35"
      ]
     },
     "metadata": {},
     "output_type": "display_data"
    },
    {
     "data": {
      "text/plain": [
       "(200, 1.8027065707661343, 0.7337698159791896, 0.648628811797454)"
      ]
     },
     "metadata": {},
     "output_type": "display_data"
    },
    {
     "data": {
      "text/plain": [
       "(300, 1.135676173745214, 0.37826220108109365, 0.37818447840275543)"
      ]
     },
     "metadata": {},
     "output_type": "display_data"
    },
    {
     "data": {
      "text/plain": [
       "(400, 0.9284179877019987, 0.2956489850613036, 0.31151265032503034)"
      ]
     },
     "metadata": {},
     "output_type": "display_data"
    },
    {
     "data": {
      "text/plain": [
       "(500, 0.8079521585282113, 0.2496205201554584, 0.2723031110349405)"
      ]
     },
     "metadata": {},
     "output_type": "display_data"
    },
    {
     "data": {
      "text/plain": [
       "(600, 0.7361195634504958, 0.23695470982357875, 0.2632535165418314)"
      ]
     },
     "metadata": {},
     "output_type": "display_data"
    },
    {
     "data": {
      "text/plain": [
       "(700, 0.6139481924733492, 0.2042512992482575, 0.22887846637315795)"
      ]
     },
     "metadata": {},
     "output_type": "display_data"
    },
    {
     "data": {
      "text/plain": [
       "(800, 0.6036941245605216, 0.21040084789316482, 0.22588772503048904)"
      ]
     },
     "metadata": {},
     "output_type": "display_data"
    },
    {
     "data": {
      "text/plain": [
       "(900, 0.5779721720974853, 0.1898612053438559, 0.20632771174638423)"
      ]
     },
     "metadata": {},
     "output_type": "display_data"
    },
    {
     "data": {
      "text/plain": [
       "(1000, 0.5485789863668359, 0.17768593037318042, 0.1881097112528543)"
      ]
     },
     "metadata": {},
     "output_type": "display_data"
    },
    {
     "data": {
      "text/plain": [
       "(1100, 0.5308067663776511, 0.1777894886014831, 0.19500734602589284)"
      ]
     },
     "metadata": {},
     "output_type": "display_data"
    },
    {
     "data": {
      "text/plain": [
       "(1200, 0.5086936163409251, 0.16251099805686223, 0.18934244994884178)"
      ]
     },
     "metadata": {},
     "output_type": "display_data"
    },
    {
     "data": {
      "text/plain": [
       "(1300, 0.4954417323145693, 0.1664041414555169, 0.18969228122791518)"
      ]
     },
     "metadata": {},
     "output_type": "display_data"
    },
    {
     "data": {
      "text/plain": [
       "(1400, 0.4716149516948102, 0.15801140947992634, 0.1781301906387026)"
      ]
     },
     "metadata": {},
     "output_type": "display_data"
    },
    {
     "data": {
      "text/plain": [
       "(1500, 0.4300975072858356, 0.1555479108967655, 0.1701639225875283)"
      ]
     },
     "metadata": {},
     "output_type": "display_data"
    },
    {
     "data": {
      "text/plain": [
       "(1600, 0.42078637597625124, 0.15885973139161558, 0.16983096835932565)"
      ]
     },
     "metadata": {},
     "output_type": "display_data"
    },
    {
     "data": {
      "text/plain": [
       "(1700, 0.4137505971115615, 0.15459521226348588, 0.1693815408480809)"
      ]
     },
     "metadata": {},
     "output_type": "display_data"
    },
    {
     "data": {
      "text/plain": [
       "(1800, 0.4084744950441172, 0.1526648230659821, 0.16871201978516998)"
      ]
     },
     "metadata": {},
     "output_type": "display_data"
    },
    {
     "data": {
      "text/plain": [
       "(1900, 0.39639933252160847, 0.14395228369920735, 0.1606227094221756)"
      ]
     },
     "metadata": {},
     "output_type": "display_data"
    },
    {
     "data": {
      "text/plain": [
       "(2000, 0.38366560646661396, 0.13648844873284594, 0.15725987314886394)"
      ]
     },
     "metadata": {},
     "output_type": "display_data"
    },
    {
     "data": {
      "text/plain": [
       "7"
      ]
     },
     "metadata": {},
     "output_type": "display_data"
    },
    {
     "data": {
      "text/plain": [
       "35"
      ]
     },
     "metadata": {},
     "output_type": "display_data"
    },
    {
     "data": {
      "text/plain": [
       "(200, 1.5246219279093158, 0.4180758678399052, 0.4884540602213491)"
      ]
     },
     "metadata": {},
     "output_type": "display_data"
    },
    {
     "data": {
      "text/plain": [
       "(300, 1.1594388223407819, 0.25403546712017566, 0.34059155808609315)"
      ]
     },
     "metadata": {},
     "output_type": "display_data"
    },
    {
     "data": {
      "text/plain": [
       "(400, 0.8558065594806794, 0.2199792555056693, 0.2756306973745502)"
      ]
     },
     "metadata": {},
     "output_type": "display_data"
    },
    {
     "data": {
      "text/plain": [
       "(500, 0.7421627880523481, 0.2132017744915825, 0.2599410709829146)"
      ]
     },
     "metadata": {},
     "output_type": "display_data"
    },
    {
     "data": {
      "text/plain": [
       "(600, 0.6759958386653099, 0.22572061298211765, 0.25830537216935656)"
      ]
     },
     "metadata": {},
     "output_type": "display_data"
    },
    {
     "data": {
      "text/plain": [
       "(700, 0.613977366371342, 0.21142145995871878, 0.24712459073097617)"
      ]
     },
     "metadata": {},
     "output_type": "display_data"
    },
    {
     "data": {
      "text/plain": [
       "(800, 0.5688708340709058, 0.1889240538090884, 0.22248791938021295)"
      ]
     },
     "metadata": {},
     "output_type": "display_data"
    },
    {
     "data": {
      "text/plain": [
       "(900, 0.5418761407396846, 0.16301985385696105, 0.19054305006627925)"
      ]
     },
     "metadata": {},
     "output_type": "display_data"
    },
    {
     "data": {
      "text/plain": [
       "(1000, 0.5249957899928267, 0.16555977436008557, 0.19383176134160235)"
      ]
     },
     "metadata": {},
     "output_type": "display_data"
    },
    {
     "data": {
      "text/plain": [
       "(1100, 0.5083371160446802, 0.16551477455956393, 0.19606444613390853)"
      ]
     },
     "metadata": {},
     "output_type": "display_data"
    },
    {
     "data": {
      "text/plain": [
       "(1200, 0.4779922721171995, 0.15378194669304251, 0.18008670016218228)"
      ]
     },
     "metadata": {},
     "output_type": "display_data"
    },
    {
     "data": {
      "text/plain": [
       "(1300, 0.4662672131711026, 0.16204279439072652, 0.17861173412268808)"
      ]
     },
     "metadata": {},
     "output_type": "display_data"
    },
    {
     "data": {
      "text/plain": [
       "(1400, 0.4431627692070212, 0.14327956741558334, 0.15992357091485995)"
      ]
     },
     "metadata": {},
     "output_type": "display_data"
    },
    {
     "data": {
      "text/plain": [
       "(1500, 0.42000991539799276, 0.1253974515080177, 0.14786574267462058)"
      ]
     },
     "metadata": {},
     "output_type": "display_data"
    },
    {
     "data": {
      "text/plain": [
       "(1600, 0.38945765005786626, 0.12856905425639725, 0.14589518471662571)"
      ]
     },
     "metadata": {},
     "output_type": "display_data"
    },
    {
     "data": {
      "text/plain": [
       "(1700, 0.3875562747811525, 0.1224460316281427, 0.1441966798768652)"
      ]
     },
     "metadata": {},
     "output_type": "display_data"
    },
    {
     "data": {
      "text/plain": [
       "(1800, 0.37230021331294105, 0.11444157587588351, 0.13833984844991867)"
      ]
     },
     "metadata": {},
     "output_type": "display_data"
    },
    {
     "data": {
      "text/plain": [
       "(1900, 0.351645981160215, 0.10538199165433836, 0.12874814077348226)"
      ]
     },
     "metadata": {},
     "output_type": "display_data"
    },
    {
     "data": {
      "text/plain": [
       "(2000, 0.3485446918627551, 0.10244254456509395, 0.12618347817088219)"
      ]
     },
     "metadata": {},
     "output_type": "display_data"
    },
    {
     "data": {
      "text/plain": [
       "8"
      ]
     },
     "metadata": {},
     "output_type": "display_data"
    },
    {
     "data": {
      "text/plain": [
       "35"
      ]
     },
     "metadata": {},
     "output_type": "display_data"
    },
    {
     "data": {
      "text/plain": [
       "(200, 1.6793355254350908, 1.5290607052103604, 0.7794554989786213)"
      ]
     },
     "metadata": {},
     "output_type": "display_data"
    },
    {
     "data": {
      "text/plain": [
       "(300, 1.2048592579862882, 0.601940752712102, 0.4934623762649642)"
      ]
     },
     "metadata": {},
     "output_type": "display_data"
    },
    {
     "data": {
      "text/plain": [
       "(400, 0.9506936852899864, 0.29088543184908117, 0.2925271666808327)"
      ]
     },
     "metadata": {},
     "output_type": "display_data"
    },
    {
     "data": {
      "text/plain": [
       "(500, 0.7783425494737329, 0.25732886035078306, 0.2350864377099039)"
      ]
     },
     "metadata": {},
     "output_type": "display_data"
    },
    {
     "data": {
      "text/plain": [
       "(600, 0.6839381559324872, 0.20744007744326662, 0.20816499322337795)"
      ]
     },
     "metadata": {},
     "output_type": "display_data"
    },
    {
     "data": {
      "text/plain": [
       "(700, 0.6332011088606585, 0.2028452627444595, 0.20792577675711768)"
      ]
     },
     "metadata": {},
     "output_type": "display_data"
    },
    {
     "data": {
      "text/plain": [
       "(800, 0.5777799545157194, 0.17188618434777111, 0.17413888756448712)"
      ]
     },
     "metadata": {},
     "output_type": "display_data"
    },
    {
     "data": {
      "text/plain": [
       "(900, 0.5459567646243801, 0.1642026945212709, 0.16474917598566494)"
      ]
     },
     "metadata": {},
     "output_type": "display_data"
    },
    {
     "data": {
      "text/plain": [
       "(1000, 0.5261386506126378, 0.1599044328995537, 0.16264082298723456)"
      ]
     },
     "metadata": {},
     "output_type": "display_data"
    },
    {
     "data": {
      "text/plain": [
       "(1100, 0.4922379396431679, 0.1401392037023921, 0.1507028865560141)"
      ]
     },
     "metadata": {},
     "output_type": "display_data"
    },
    {
     "data": {
      "text/plain": [
       "(1200, 0.4868629592753664, 0.1403683562655001, 0.1492782057534618)"
      ]
     },
     "metadata": {},
     "output_type": "display_data"
    },
    {
     "data": {
      "text/plain": [
       "(1300, 0.4522498666467136, 0.13624548957639201, 0.1462530068021882)"
      ]
     },
     "metadata": {},
     "output_type": "display_data"
    },
    {
     "data": {
      "text/plain": [
       "(1400, 0.4324540504285505, 0.1260508877216534, 0.136310108566234)"
      ]
     },
     "metadata": {},
     "output_type": "display_data"
    },
    {
     "data": {
      "text/plain": [
       "(1500, 0.4165539025806641, 0.13292529977969758, 0.1382650475076717)"
      ]
     },
     "metadata": {},
     "output_type": "display_data"
    },
    {
     "data": {
      "text/plain": [
       "(1600, 0.39823737724820074, 0.13807737295589545, 0.13993565840250402)"
      ]
     },
     "metadata": {},
     "output_type": "display_data"
    },
    {
     "data": {
      "text/plain": [
       "(1700, 0.38135725043836205, 0.1354514358521718, 0.14310920915646483)"
      ]
     },
     "metadata": {},
     "output_type": "display_data"
    },
    {
     "data": {
      "text/plain": [
       "(1800, 0.36709755335768796, 0.13194142741517223, 0.13996770068979447)"
      ]
     },
     "metadata": {},
     "output_type": "display_data"
    },
    {
     "data": {
      "text/plain": [
       "(1900, 0.3660442014895802, 0.1168214046359726, 0.12540474124568807)"
      ]
     },
     "metadata": {},
     "output_type": "display_data"
    },
    {
     "data": {
      "text/plain": [
       "(2000, 0.35245667214040644, 0.11611486278651922, 0.12030212608356347)"
      ]
     },
     "metadata": {},
     "output_type": "display_data"
    },
    {
     "data": {
      "text/plain": [
       "9"
      ]
     },
     "metadata": {},
     "output_type": "display_data"
    },
    {
     "data": {
      "text/plain": [
       "35"
      ]
     },
     "metadata": {},
     "output_type": "display_data"
    },
    {
     "data": {
      "text/plain": [
       "(200, 1.8496570787206175, 0.8840652825107203, 0.7602668813378836)"
      ]
     },
     "metadata": {},
     "output_type": "display_data"
    },
    {
     "data": {
      "text/plain": [
       "(300, 1.1440980340932967, 0.41750138542595794, 0.49312698790169285)"
      ]
     },
     "metadata": {},
     "output_type": "display_data"
    },
    {
     "data": {
      "text/plain": [
       "(400, 0.9198976135505172, 0.336591278749813, 0.365970681865949)"
      ]
     },
     "metadata": {},
     "output_type": "display_data"
    },
    {
     "data": {
      "text/plain": [
       "(500, 0.80270991308724, 0.24200796652502762, 0.2867242399071558)"
      ]
     },
     "metadata": {},
     "output_type": "display_data"
    },
    {
     "data": {
      "text/plain": [
       "(600, 0.7295755825735852, 0.22794594177284927, 0.2565625869450084)"
      ]
     },
     "metadata": {},
     "output_type": "display_data"
    },
    {
     "data": {
      "text/plain": [
       "(700, 0.6452385122576828, 0.2032882029290885, 0.2314224788358856)"
      ]
     },
     "metadata": {},
     "output_type": "display_data"
    },
    {
     "data": {
      "text/plain": [
       "(800, 0.6185107542955924, 0.18380183816423973, 0.2156442953287983)"
      ]
     },
     "metadata": {},
     "output_type": "display_data"
    },
    {
     "data": {
      "text/plain": [
       "(900, 0.5879606108247799, 0.18390282299607127, 0.21221056648411896)"
      ]
     },
     "metadata": {},
     "output_type": "display_data"
    },
    {
     "data": {
      "text/plain": [
       "(1000, 0.5475281510717385, 0.15824148075239675, 0.19452060551380532)"
      ]
     },
     "metadata": {},
     "output_type": "display_data"
    },
    {
     "data": {
      "text/plain": [
       "(1100, 0.5333239417980008, 0.14483302336423634, 0.18458001763563855)"
      ]
     },
     "metadata": {},
     "output_type": "display_data"
    },
    {
     "data": {
      "text/plain": [
       "(1200, 0.4903886218819667, 0.14061059238341497, 0.17072539663607436)"
      ]
     },
     "metadata": {},
     "output_type": "display_data"
    },
    {
     "data": {
      "text/plain": [
       "(1300, 0.479042139232329, 0.14301037272905862, 0.1680811576406916)"
      ]
     },
     "metadata": {},
     "output_type": "display_data"
    },
    {
     "data": {
      "text/plain": [
       "(1400, 0.453175898217653, 0.13440408832164935, 0.15126948339127297)"
      ]
     },
     "metadata": {},
     "output_type": "display_data"
    },
    {
     "data": {
      "text/plain": [
       "(1500, 0.44806890589398973, 0.13696196286256626, 0.15095632620899455)"
      ]
     },
     "metadata": {},
     "output_type": "display_data"
    },
    {
     "data": {
      "text/plain": [
       "(1600, 0.43324495503740973, 0.13995273206777778, 0.14768242693858968)"
      ]
     },
     "metadata": {},
     "output_type": "display_data"
    },
    {
     "data": {
      "text/plain": [
       "(1700, 0.4246696316916608, 0.14412558127793576, 0.1559117877572428)"
      ]
     },
     "metadata": {},
     "output_type": "display_data"
    },
    {
     "data": {
      "text/plain": [
       "(1800, 0.39956740000630697, 0.13062109510472192, 0.1479557324399181)"
      ]
     },
     "metadata": {},
     "output_type": "display_data"
    },
    {
     "data": {
      "text/plain": [
       "(1900, 0.3845167687137841, 0.12591305973286873, 0.14040962016520575)"
      ]
     },
     "metadata": {},
     "output_type": "display_data"
    },
    {
     "data": {
      "text/plain": [
       "(2000, 0.3774503608749029, 0.11924999430132818, 0.13682578274475954)"
      ]
     },
     "metadata": {},
     "output_type": "display_data"
    },
    {
     "data": {
      "text/plain": [
       "10"
      ]
     },
     "metadata": {},
     "output_type": "display_data"
    },
    {
     "data": {
      "text/plain": [
       "35"
      ]
     },
     "metadata": {},
     "output_type": "display_data"
    },
    {
     "data": {
      "text/plain": [
       "(200, 1.7908835056772943, 0.5907122796230094, 0.6571057441075185)"
      ]
     },
     "metadata": {},
     "output_type": "display_data"
    },
    {
     "data": {
      "text/plain": [
       "(300, 1.1839306092658597, 0.44437365738822837, 0.4680994425764279)"
      ]
     },
     "metadata": {},
     "output_type": "display_data"
    },
    {
     "data": {
      "text/plain": [
       "(400, 0.8841670854962035, 0.277642990455245, 0.34320372118329834)"
      ]
     },
     "metadata": {},
     "output_type": "display_data"
    },
    {
     "data": {
      "text/plain": [
       "(500, 0.7499889631033766, 0.25236187157654794, 0.28439360092499355)"
      ]
     },
     "metadata": {},
     "output_type": "display_data"
    },
    {
     "data": {
      "text/plain": [
       "(600, 0.6744563719067184, 0.23368481028246518, 0.24356260001991326)"
      ]
     },
     "metadata": {},
     "output_type": "display_data"
    },
    {
     "data": {
      "text/plain": [
       "(700, 0.6135058218193038, 0.19714574997987855, 0.21081181497239793)"
      ]
     },
     "metadata": {},
     "output_type": "display_data"
    },
    {
     "data": {
      "text/plain": [
       "(800, 0.5717550957551546, 0.19327318047104727, 0.2036573427050208)"
      ]
     },
     "metadata": {},
     "output_type": "display_data"
    },
    {
     "data": {
      "text/plain": [
       "(900, 0.5233347189663812, 0.16630189033091367, 0.1888593972955208)"
      ]
     },
     "metadata": {},
     "output_type": "display_data"
    },
    {
     "data": {
      "text/plain": [
       "(1000, 0.5073767320524829, 0.16474456106061386, 0.18880746170526747)"
      ]
     },
     "metadata": {},
     "output_type": "display_data"
    },
    {
     "data": {
      "text/plain": [
       "(1100, 0.47992530240498493, 0.14450681056699624, 0.17420673960480598)"
      ]
     },
     "metadata": {},
     "output_type": "display_data"
    },
    {
     "data": {
      "text/plain": [
       "(1200, 0.4651414705881516, 0.13232657759074656, 0.156545375855529)"
      ]
     },
     "metadata": {},
     "output_type": "display_data"
    },
    {
     "data": {
      "text/plain": [
       "(1300, 0.4443377082865892, 0.13239732590493, 0.1447995956188247)"
      ]
     },
     "metadata": {},
     "output_type": "display_data"
    },
    {
     "data": {
      "text/plain": [
       "(1400, 0.4322713153409353, 0.12950472114530306, 0.14679096938132044)"
      ]
     },
     "metadata": {},
     "output_type": "display_data"
    },
    {
     "data": {
      "text/plain": [
       "(1500, 0.4155104987655221, 0.12859542147059427, 0.14415219818593644)"
      ]
     },
     "metadata": {},
     "output_type": "display_data"
    },
    {
     "data": {
      "text/plain": [
       "(1600, 0.39956301332868893, 0.12858986351515825, 0.1440705863542474)"
      ]
     },
     "metadata": {},
     "output_type": "display_data"
    },
    {
     "data": {
      "text/plain": [
       "(1700, 0.39068152319021704, 0.1272919488790486, 0.15041119708812561)"
      ]
     },
     "metadata": {},
     "output_type": "display_data"
    },
    {
     "data": {
      "text/plain": [
       "(1800, 0.38743595312760104, 0.1297401511187814, 0.15029303595295881)"
      ]
     },
     "metadata": {},
     "output_type": "display_data"
    },
    {
     "data": {
      "text/plain": [
       "(1900, 0.37340071695160854, 0.11985610508144653, 0.14388253510075769)"
      ]
     },
     "metadata": {},
     "output_type": "display_data"
    },
    {
     "data": {
      "text/plain": [
       "(2000, 0.3614533904481458, 0.1146010640012409, 0.13646481918105036)"
      ]
     },
     "metadata": {},
     "output_type": "display_data"
    },
    {
     "data": {
      "text/plain": [
       "(100, [1.522685089324084 1.084698833229172 … 0.3603491334544584 0.3559491101333981; 1.7338809305486105 1.1049071937446735 … 0.39152094174591884 0.3817444289625487; … ; 1.8496570787206175 1.1440980340932967 … 0.3845167687137841 0.3774503608749029; 1.7908835056772943 1.1839306092658597 … 0.37340071695160854 0.3614533904481458], [0.5595797387760749 0.35701216829600696 … 0.10126646366724082 0.10429041785555336; 1.2871900269219365 0.29818192434746876 … 0.12350514646826087 0.11924992011326446; … ; 0.8840652825107203 0.41750138542595794 … 0.12591305973286873 0.11924999430132818; 0.5907122796230094 0.44437365738822837 … 0.11985610508144653 0.1146010640012409], [0.5336338540025656 0.38183413078704437 … 0.1299509065576907 0.13369142499952957; 0.5740442300446046 0.36123249052920003 … 0.15728856358671817 0.15090943914713456; … ; 0.7602668813378836 0.49312698790169285 … 0.14040962016520575 0.13682578274475954; 0.6571057441075185 0.4680994425764279 … 0.14388253510075769 0.13646481918105036])"
      ]
     },
     "execution_count": 19,
     "metadata": {},
     "output_type": "execute_result"
    }
   ],
   "source": [
    "Random.seed!(2)\n",
    "(lossEvery,errFs, errSVDs, errMultiSVDs)=average_over_trials(3,3,3,3,0.9,10,2000,100,startAt=100)"
   ]
  },
  {
   "cell_type": "code",
   "execution_count": 20,
   "metadata": {},
   "outputs": [
    {
     "data": {
      "image/svg+xml": [
       "<?xml version=\"1.0\" encoding=\"utf-8\"?>\n",
       "<svg xmlns=\"http://www.w3.org/2000/svg\" xmlns:xlink=\"http://www.w3.org/1999/xlink\" width=\"500\" height=\"280\" viewBox=\"0 0 2000 1120\">\n",
       "<defs>\n",
       "  <clipPath id=\"clip970\">\n",
       "    <rect x=\"0\" y=\"0\" width=\"2000\" height=\"1120\"/>\n",
       "  </clipPath>\n",
       "</defs>\n",
       "<path clip-path=\"url(#clip970)\" d=\"\n",
       "M0 1120 L2000 1120 L2000 0 L0 0  Z\n",
       "  \" fill=\"#ffffff\" fill-rule=\"evenodd\" fill-opacity=\"1\"/>\n",
       "<defs>\n",
       "  <clipPath id=\"clip971\">\n",
       "    <rect x=\"400\" y=\"0\" width=\"1401\" height=\"1120\"/>\n",
       "  </clipPath>\n",
       "</defs>\n",
       "<path clip-path=\"url(#clip970)\" d=\"\n",
       "M207.939 961.113 L1952.76 961.113 L1952.76 113.795 L207.939 113.795  Z\n",
       "  \" fill=\"#ffffff\" fill-rule=\"evenodd\" fill-opacity=\"1\"/>\n",
       "<defs>\n",
       "  <clipPath id=\"clip972\">\n",
       "    <rect x=\"207\" y=\"113\" width=\"1746\" height=\"848\"/>\n",
       "  </clipPath>\n",
       "</defs>\n",
       "<polyline clip-path=\"url(#clip972)\" style=\"stroke:#000000; stroke-width:2; stroke-opacity:0.1; fill:none\" points=\"\n",
       "  531.663,961.113 531.663,113.795 \n",
       "  \"/>\n",
       "<polyline clip-path=\"url(#clip972)\" style=\"stroke:#000000; stroke-width:2; stroke-opacity:0.1; fill:none\" points=\"\n",
       "  988.9,961.113 988.9,113.795 \n",
       "  \"/>\n",
       "<polyline clip-path=\"url(#clip972)\" style=\"stroke:#000000; stroke-width:2; stroke-opacity:0.1; fill:none\" points=\"\n",
       "  1446.14,961.113 1446.14,113.795 \n",
       "  \"/>\n",
       "<polyline clip-path=\"url(#clip972)\" style=\"stroke:#000000; stroke-width:2; stroke-opacity:0.1; fill:none\" points=\"\n",
       "  1903.37,961.113 1903.37,113.795 \n",
       "  \"/>\n",
       "<polyline clip-path=\"url(#clip970)\" style=\"stroke:#000000; stroke-width:4; stroke-opacity:1; fill:none\" points=\"\n",
       "  207.939,961.113 1952.76,961.113 \n",
       "  \"/>\n",
       "<polyline clip-path=\"url(#clip970)\" style=\"stroke:#000000; stroke-width:4; stroke-opacity:1; fill:none\" points=\"\n",
       "  531.663,961.113 531.663,950.945 \n",
       "  \"/>\n",
       "<polyline clip-path=\"url(#clip970)\" style=\"stroke:#000000; stroke-width:4; stroke-opacity:1; fill:none\" points=\"\n",
       "  988.9,961.113 988.9,950.945 \n",
       "  \"/>\n",
       "<polyline clip-path=\"url(#clip970)\" style=\"stroke:#000000; stroke-width:4; stroke-opacity:1; fill:none\" points=\"\n",
       "  1446.14,961.113 1446.14,950.945 \n",
       "  \"/>\n",
       "<polyline clip-path=\"url(#clip970)\" style=\"stroke:#000000; stroke-width:4; stroke-opacity:1; fill:none\" points=\"\n",
       "  1903.37,961.113 1903.37,950.945 \n",
       "  \"/>\n",
       "<path clip-path=\"url(#clip970)\" d=\"M 0 0 M491.281 984.025 L509.638 984.025 L509.638 987.96 L495.564 987.96 L495.564 996.432 Q496.582 996.085 497.601 995.923 Q498.619 995.738 499.638 995.738 Q505.425 995.738 508.804 998.909 Q512.184 1002.08 512.184 1007.5 Q512.184 1013.08 508.712 1016.18 Q505.239 1019.26 498.92 1019.26 Q496.744 1019.26 494.476 1018.89 Q492.23 1018.52 489.823 1017.77 L489.823 1013.08 Q491.906 1014.21 494.128 1014.77 Q496.351 1015.32 498.827 1015.32 Q502.832 1015.32 505.17 1013.21 Q507.508 1011.11 507.508 1007.5 Q507.508 1003.89 505.17 1001.78 Q502.832 999.673 498.827 999.673 Q496.952 999.673 495.077 1000.09 Q493.226 1000.51 491.281 1001.39 L491.281 984.025 Z\" fill=\"#000000\" fill-rule=\"evenodd\" fill-opacity=\"1\" /><path clip-path=\"url(#clip970)\" d=\"M 0 0 M531.397 987.103 Q527.786 987.103 525.957 990.668 Q524.151 994.21 524.151 1001.34 Q524.151 1008.45 525.957 1012.01 Q527.786 1015.55 531.397 1015.55 Q535.031 1015.55 536.836 1012.01 Q538.665 1008.45 538.665 1001.34 Q538.665 994.21 536.836 990.668 Q535.031 987.103 531.397 987.103 M531.397 983.4 Q537.207 983.4 540.262 988.006 Q543.341 992.589 543.341 1001.34 Q543.341 1010.07 540.262 1014.67 Q537.207 1019.26 531.397 1019.26 Q525.587 1019.26 522.508 1014.67 Q519.452 1010.07 519.452 1001.34 Q519.452 992.589 522.508 988.006 Q525.587 983.4 531.397 983.4 Z\" fill=\"#000000\" fill-rule=\"evenodd\" fill-opacity=\"1\" /><path clip-path=\"url(#clip970)\" d=\"M 0 0 M561.559 987.103 Q557.947 987.103 556.119 990.668 Q554.313 994.21 554.313 1001.34 Q554.313 1008.45 556.119 1012.01 Q557.947 1015.55 561.559 1015.55 Q565.193 1015.55 566.998 1012.01 Q568.827 1008.45 568.827 1001.34 Q568.827 994.21 566.998 990.668 Q565.193 987.103 561.559 987.103 M561.559 983.4 Q567.369 983.4 570.424 988.006 Q573.503 992.589 573.503 1001.34 Q573.503 1010.07 570.424 1014.67 Q567.369 1019.26 561.559 1019.26 Q555.748 1019.26 552.67 1014.67 Q549.614 1010.07 549.614 1001.34 Q549.614 992.589 552.67 988.006 Q555.748 983.4 561.559 983.4 Z\" fill=\"#000000\" fill-rule=\"evenodd\" fill-opacity=\"1\" /><path clip-path=\"url(#clip970)\" d=\"M 0 0 M933.426 1014.65 L941.065 1014.65 L941.065 988.284 L932.754 989.951 L932.754 985.691 L941.018 984.025 L945.694 984.025 L945.694 1014.65 L953.333 1014.65 L953.333 1018.58 L933.426 1018.58 L933.426 1014.65 Z\" fill=\"#000000\" fill-rule=\"evenodd\" fill-opacity=\"1\" /><path clip-path=\"url(#clip970)\" d=\"M 0 0 M972.777 987.103 Q969.166 987.103 967.338 990.668 Q965.532 994.21 965.532 1001.34 Q965.532 1008.45 967.338 1012.01 Q969.166 1015.55 972.777 1015.55 Q976.412 1015.55 978.217 1012.01 Q980.046 1008.45 980.046 1001.34 Q980.046 994.21 978.217 990.668 Q976.412 987.103 972.777 987.103 M972.777 983.4 Q978.588 983.4 981.643 988.006 Q984.722 992.589 984.722 1001.34 Q984.722 1010.07 981.643 1014.67 Q978.588 1019.26 972.777 1019.26 Q966.967 1019.26 963.889 1014.67 Q960.833 1010.07 960.833 1001.34 Q960.833 992.589 963.889 988.006 Q966.967 983.4 972.777 983.4 Z\" fill=\"#000000\" fill-rule=\"evenodd\" fill-opacity=\"1\" /><path clip-path=\"url(#clip970)\" d=\"M 0 0 M1002.94 987.103 Q999.328 987.103 997.5 990.668 Q995.694 994.21 995.694 1001.34 Q995.694 1008.45 997.5 1012.01 Q999.328 1015.55 1002.94 1015.55 Q1006.57 1015.55 1008.38 1012.01 Q1010.21 1008.45 1010.21 1001.34 Q1010.21 994.21 1008.38 990.668 Q1006.57 987.103 1002.94 987.103 M1002.94 983.4 Q1008.75 983.4 1011.8 988.006 Q1014.88 992.589 1014.88 1001.34 Q1014.88 1010.07 1011.8 1014.67 Q1008.75 1019.26 1002.94 1019.26 Q997.129 1019.26 994.05 1014.67 Q990.995 1010.07 990.995 1001.34 Q990.995 992.589 994.05 988.006 Q997.129 983.4 1002.94 983.4 Z\" fill=\"#000000\" fill-rule=\"evenodd\" fill-opacity=\"1\" /><path clip-path=\"url(#clip970)\" d=\"M 0 0 M1033.1 987.103 Q1029.49 987.103 1027.66 990.668 Q1025.86 994.21 1025.86 1001.34 Q1025.86 1008.45 1027.66 1012.01 Q1029.49 1015.55 1033.1 1015.55 Q1036.74 1015.55 1038.54 1012.01 Q1040.37 1008.45 1040.37 1001.34 Q1040.37 994.21 1038.54 990.668 Q1036.74 987.103 1033.1 987.103 M1033.1 983.4 Q1038.91 983.4 1041.97 988.006 Q1045.05 992.589 1045.05 1001.34 Q1045.05 1010.07 1041.97 1014.67 Q1038.91 1019.26 1033.1 1019.26 Q1027.29 1019.26 1024.21 1014.67 Q1021.16 1010.07 1021.16 1001.34 Q1021.16 992.589 1024.21 988.006 Q1027.29 983.4 1033.1 983.4 Z\" fill=\"#000000\" fill-rule=\"evenodd\" fill-opacity=\"1\" /><path clip-path=\"url(#clip970)\" d=\"M 0 0 M1390.66 1014.65 L1398.3 1014.65 L1398.3 988.284 L1389.99 989.951 L1389.99 985.691 L1398.26 984.025 L1402.93 984.025 L1402.93 1014.65 L1410.57 1014.65 L1410.57 1018.58 L1390.66 1018.58 L1390.66 1014.65 Z\" fill=\"#000000\" fill-rule=\"evenodd\" fill-opacity=\"1\" /><path clip-path=\"url(#clip970)\" d=\"M 0 0 M1420.06 984.025 L1438.42 984.025 L1438.42 987.96 L1424.34 987.96 L1424.34 996.432 Q1425.36 996.085 1426.38 995.923 Q1427.4 995.738 1428.42 995.738 Q1434.2 995.738 1437.58 998.909 Q1440.96 1002.08 1440.96 1007.5 Q1440.96 1013.08 1437.49 1016.18 Q1434.02 1019.26 1427.7 1019.26 Q1425.52 1019.26 1423.26 1018.89 Q1421.01 1018.52 1418.6 1017.77 L1418.6 1013.08 Q1420.69 1014.21 1422.91 1014.77 Q1425.13 1015.32 1427.61 1015.32 Q1431.61 1015.32 1433.95 1013.21 Q1436.29 1011.11 1436.29 1007.5 Q1436.29 1003.89 1433.95 1001.78 Q1431.61 999.673 1427.61 999.673 Q1425.73 999.673 1423.86 1000.09 Q1422.01 1000.51 1420.06 1001.39 L1420.06 984.025 Z\" fill=\"#000000\" fill-rule=\"evenodd\" fill-opacity=\"1\" /><path clip-path=\"url(#clip970)\" d=\"M 0 0 M1460.18 987.103 Q1456.57 987.103 1454.74 990.668 Q1452.93 994.21 1452.93 1001.34 Q1452.93 1008.45 1454.74 1012.01 Q1456.57 1015.55 1460.18 1015.55 Q1463.81 1015.55 1465.62 1012.01 Q1467.44 1008.45 1467.44 1001.34 Q1467.44 994.21 1465.62 990.668 Q1463.81 987.103 1460.18 987.103 M1460.18 983.4 Q1465.99 983.4 1469.04 988.006 Q1472.12 992.589 1472.12 1001.34 Q1472.12 1010.07 1469.04 1014.67 Q1465.99 1019.26 1460.18 1019.26 Q1454.37 1019.26 1451.29 1014.67 Q1448.23 1010.07 1448.23 1001.34 Q1448.23 992.589 1451.29 988.006 Q1454.37 983.4 1460.18 983.4 Z\" fill=\"#000000\" fill-rule=\"evenodd\" fill-opacity=\"1\" /><path clip-path=\"url(#clip970)\" d=\"M 0 0 M1490.34 987.103 Q1486.73 987.103 1484.9 990.668 Q1483.09 994.21 1483.09 1001.34 Q1483.09 1008.45 1484.9 1012.01 Q1486.73 1015.55 1490.34 1015.55 Q1493.97 1015.55 1495.78 1012.01 Q1497.61 1008.45 1497.61 1001.34 Q1497.61 994.21 1495.78 990.668 Q1493.97 987.103 1490.34 987.103 M1490.34 983.4 Q1496.15 983.4 1499.2 988.006 Q1502.28 992.589 1502.28 1001.34 Q1502.28 1010.07 1499.2 1014.67 Q1496.15 1019.26 1490.34 1019.26 Q1484.53 1019.26 1481.45 1014.67 Q1478.39 1010.07 1478.39 1001.34 Q1478.39 992.589 1481.45 988.006 Q1484.53 983.4 1490.34 983.4 Z\" fill=\"#000000\" fill-rule=\"evenodd\" fill-opacity=\"1\" /><path clip-path=\"url(#clip970)\" d=\"M 0 0 M1851.99 1014.65 L1868.31 1014.65 L1868.31 1018.58 L1846.36 1018.58 L1846.36 1014.65 Q1849.02 1011.89 1853.61 1007.27 Q1858.21 1002.61 1859.39 1001.27 Q1861.64 998.747 1862.52 997.011 Q1863.42 995.251 1863.42 993.562 Q1863.42 990.807 1861.48 989.071 Q1859.56 987.335 1856.45 987.335 Q1854.25 987.335 1851.8 988.099 Q1849.37 988.863 1846.59 990.413 L1846.59 985.691 Q1849.42 984.557 1851.87 983.978 Q1854.32 983.4 1856.36 983.4 Q1861.73 983.4 1864.93 986.085 Q1868.12 988.77 1868.12 993.261 Q1868.12 995.39 1867.31 997.312 Q1866.52 999.21 1864.42 1001.8 Q1863.84 1002.47 1860.74 1005.69 Q1857.63 1008.89 1851.99 1014.65 Z\" fill=\"#000000\" fill-rule=\"evenodd\" fill-opacity=\"1\" /><path clip-path=\"url(#clip970)\" d=\"M 0 0 M1888.12 987.103 Q1884.51 987.103 1882.68 990.668 Q1880.87 994.21 1880.87 1001.34 Q1880.87 1008.45 1882.68 1012.01 Q1884.51 1015.55 1888.12 1015.55 Q1891.75 1015.55 1893.56 1012.01 Q1895.39 1008.45 1895.39 1001.34 Q1895.39 994.21 1893.56 990.668 Q1891.75 987.103 1888.12 987.103 M1888.12 983.4 Q1893.93 983.4 1896.99 988.006 Q1900.06 992.589 1900.06 1001.34 Q1900.06 1010.07 1896.99 1014.67 Q1893.93 1019.26 1888.12 1019.26 Q1882.31 1019.26 1879.23 1014.67 Q1876.18 1010.07 1876.18 1001.34 Q1876.18 992.589 1879.23 988.006 Q1882.31 983.4 1888.12 983.4 Z\" fill=\"#000000\" fill-rule=\"evenodd\" fill-opacity=\"1\" /><path clip-path=\"url(#clip970)\" d=\"M 0 0 M1918.28 987.103 Q1914.67 987.103 1912.84 990.668 Q1911.04 994.21 1911.04 1001.34 Q1911.04 1008.45 1912.84 1012.01 Q1914.67 1015.55 1918.28 1015.55 Q1921.92 1015.55 1923.72 1012.01 Q1925.55 1008.45 1925.55 1001.34 Q1925.55 994.21 1923.72 990.668 Q1921.92 987.103 1918.28 987.103 M1918.28 983.4 Q1924.09 983.4 1927.15 988.006 Q1930.23 992.589 1930.23 1001.34 Q1930.23 1010.07 1927.15 1014.67 Q1924.09 1019.26 1918.28 1019.26 Q1912.47 1019.26 1909.39 1014.67 Q1906.34 1010.07 1906.34 1001.34 Q1906.34 992.589 1909.39 988.006 Q1912.47 983.4 1918.28 983.4 Z\" fill=\"#000000\" fill-rule=\"evenodd\" fill-opacity=\"1\" /><path clip-path=\"url(#clip970)\" d=\"M 0 0 M1948.44 987.103 Q1944.83 987.103 1943 990.668 Q1941.2 994.21 1941.2 1001.34 Q1941.2 1008.45 1943 1012.01 Q1944.83 1015.55 1948.44 1015.55 Q1952.08 1015.55 1953.88 1012.01 Q1955.71 1008.45 1955.71 1001.34 Q1955.71 994.21 1953.88 990.668 Q1952.08 987.103 1948.44 987.103 M1948.44 983.4 Q1954.25 983.4 1957.31 988.006 Q1960.39 992.589 1960.39 1001.34 Q1960.39 1010.07 1957.31 1014.67 Q1954.25 1019.26 1948.44 1019.26 Q1942.63 1019.26 1939.55 1014.67 Q1936.5 1010.07 1936.5 1001.34 Q1936.5 992.589 1939.55 988.006 Q1942.63 983.4 1948.44 983.4 Z\" fill=\"#000000\" fill-rule=\"evenodd\" fill-opacity=\"1\" /><path clip-path=\"url(#clip970)\" d=\"M 0 0 M1019.51 1054.21 L1019.51 1064.33 L1031.57 1064.33 L1031.57 1068.88 L1019.51 1068.88 L1019.51 1088.23 Q1019.51 1092.59 1020.68 1093.83 Q1021.89 1095.08 1025.55 1095.08 L1031.57 1095.08 L1031.57 1099.98 L1025.55 1099.98 Q1018.78 1099.98 1016.2 1097.46 Q1013.62 1094.92 1013.62 1088.23 L1013.62 1068.88 L1009.32 1068.88 L1009.32 1064.33 L1013.62 1064.33 L1013.62 1054.21 L1019.51 1054.21 Z\" fill=\"#000000\" fill-rule=\"evenodd\" fill-opacity=\"1\" /><path clip-path=\"url(#clip970)\" d=\"M 0 0 M1039.27 1064.33 L1045.13 1064.33 L1045.13 1099.98 L1039.27 1099.98 L1039.27 1064.33 M1039.27 1050.45 L1045.13 1050.45 L1045.13 1057.87 L1039.27 1057.87 L1039.27 1050.45 Z\" fill=\"#000000\" fill-rule=\"evenodd\" fill-opacity=\"1\" /><path clip-path=\"url(#clip970)\" d=\"M 0 0 M1085.14 1071.17 Q1087.33 1067.23 1090.39 1065.35 Q1093.44 1063.47 1097.58 1063.47 Q1103.15 1063.47 1106.18 1067.38 Q1109.2 1071.27 1109.2 1078.46 L1109.2 1099.98 L1103.31 1099.98 L1103.31 1078.65 Q1103.31 1073.53 1101.5 1071.04 Q1099.68 1068.56 1095.96 1068.56 Q1091.41 1068.56 1088.77 1071.59 Q1086.12 1074.61 1086.12 1079.83 L1086.12 1099.98 L1080.24 1099.98 L1080.24 1078.65 Q1080.24 1073.5 1078.42 1071.04 Q1076.61 1068.56 1072.82 1068.56 Q1068.33 1068.56 1065.69 1071.62 Q1063.05 1074.64 1063.05 1079.83 L1063.05 1099.98 L1057.16 1099.98 L1057.16 1064.33 L1063.05 1064.33 L1063.05 1069.87 Q1065.05 1066.59 1067.85 1065.03 Q1070.66 1063.47 1074.51 1063.47 Q1078.39 1063.47 1081.1 1065.44 Q1083.83 1067.42 1085.14 1071.17 Z\" fill=\"#000000\" fill-rule=\"evenodd\" fill-opacity=\"1\" /><path clip-path=\"url(#clip970)\" d=\"M 0 0 M1151.37 1080.69 L1151.37 1083.55 L1124.45 1083.55 Q1124.83 1089.6 1128.07 1092.78 Q1131.35 1095.93 1137.18 1095.93 Q1140.55 1095.93 1143.7 1095.11 Q1146.88 1094.28 1150 1092.62 L1150 1098.16 Q1146.85 1099.5 1143.54 1100.2 Q1140.23 1100.9 1136.83 1100.9 Q1128.3 1100.9 1123.3 1095.93 Q1118.33 1090.97 1118.33 1082.5 Q1118.33 1073.75 1123.05 1068.63 Q1127.79 1063.47 1135.81 1063.47 Q1143 1063.47 1147.17 1068.12 Q1151.37 1072.73 1151.37 1080.69 M1145.52 1078.97 Q1145.45 1074.16 1142.81 1071.3 Q1140.2 1068.43 1135.87 1068.43 Q1130.97 1068.43 1128.01 1071.2 Q1125.08 1073.97 1124.64 1079 L1145.52 1078.97 Z\" fill=\"#000000\" fill-rule=\"evenodd\" fill-opacity=\"1\" /><polyline clip-path=\"url(#clip972)\" style=\"stroke:#000000; stroke-width:2; stroke-opacity:0.1; fill:none\" points=\"\n",
       "  207.939,848.008 1952.76,848.008 \n",
       "  \"/>\n",
       "<polyline clip-path=\"url(#clip972)\" style=\"stroke:#000000; stroke-width:2; stroke-opacity:0.1; fill:none\" points=\"\n",
       "  207.939,697.684 1952.76,697.684 \n",
       "  \"/>\n",
       "<polyline clip-path=\"url(#clip972)\" style=\"stroke:#000000; stroke-width:2; stroke-opacity:0.1; fill:none\" points=\"\n",
       "  207.939,547.359 1952.76,547.359 \n",
       "  \"/>\n",
       "<polyline clip-path=\"url(#clip972)\" style=\"stroke:#000000; stroke-width:2; stroke-opacity:0.1; fill:none\" points=\"\n",
       "  207.939,397.035 1952.76,397.035 \n",
       "  \"/>\n",
       "<polyline clip-path=\"url(#clip972)\" style=\"stroke:#000000; stroke-width:2; stroke-opacity:0.1; fill:none\" points=\"\n",
       "  207.939,246.711 1952.76,246.711 \n",
       "  \"/>\n",
       "<polyline clip-path=\"url(#clip970)\" style=\"stroke:#000000; stroke-width:4; stroke-opacity:1; fill:none\" points=\"\n",
       "  207.939,961.113 207.939,113.795 \n",
       "  \"/>\n",
       "<polyline clip-path=\"url(#clip970)\" style=\"stroke:#000000; stroke-width:4; stroke-opacity:1; fill:none\" points=\"\n",
       "  207.939,848.008 228.877,848.008 \n",
       "  \"/>\n",
       "<polyline clip-path=\"url(#clip970)\" style=\"stroke:#000000; stroke-width:4; stroke-opacity:1; fill:none\" points=\"\n",
       "  207.939,697.684 228.877,697.684 \n",
       "  \"/>\n",
       "<polyline clip-path=\"url(#clip970)\" style=\"stroke:#000000; stroke-width:4; stroke-opacity:1; fill:none\" points=\"\n",
       "  207.939,547.359 228.877,547.359 \n",
       "  \"/>\n",
       "<polyline clip-path=\"url(#clip970)\" style=\"stroke:#000000; stroke-width:4; stroke-opacity:1; fill:none\" points=\"\n",
       "  207.939,397.035 228.877,397.035 \n",
       "  \"/>\n",
       "<polyline clip-path=\"url(#clip970)\" style=\"stroke:#000000; stroke-width:4; stroke-opacity:1; fill:none\" points=\"\n",
       "  207.939,246.711 228.877,246.711 \n",
       "  \"/>\n",
       "<path clip-path=\"url(#clip970)\" d=\"M 0 0 M121.412 833.806 Q117.8 833.806 115.972 837.371 Q114.166 840.913 114.166 848.043 Q114.166 855.149 115.972 858.714 Q117.8 862.255 121.412 862.255 Q125.046 862.255 126.851 858.714 Q128.68 855.149 128.68 848.043 Q128.68 840.913 126.851 837.371 Q125.046 833.806 121.412 833.806 M121.412 830.103 Q127.222 830.103 130.277 834.709 Q133.356 839.293 133.356 848.043 Q133.356 856.769 130.277 861.376 Q127.222 865.959 121.412 865.959 Q115.601 865.959 112.523 861.376 Q109.467 856.769 109.467 848.043 Q109.467 839.293 112.523 834.709 Q115.601 830.103 121.412 830.103 Z\" fill=\"#000000\" fill-rule=\"evenodd\" fill-opacity=\"1\" /><path clip-path=\"url(#clip970)\" d=\"M 0 0 M141.573 859.408 L146.458 859.408 L146.458 865.288 L141.573 865.288 L141.573 859.408 Z\" fill=\"#000000\" fill-rule=\"evenodd\" fill-opacity=\"1\" /><path clip-path=\"url(#clip970)\" d=\"M 0 0 M170.809 846.654 Q174.166 847.371 176.041 849.64 Q177.939 851.908 177.939 855.242 Q177.939 860.357 174.42 863.158 Q170.902 865.959 164.421 865.959 Q162.245 865.959 159.93 865.519 Q157.638 865.103 155.184 864.246 L155.184 859.732 Q157.129 860.867 159.444 861.445 Q161.759 862.024 164.282 862.024 Q168.68 862.024 170.971 860.288 Q173.286 858.552 173.286 855.242 Q173.286 852.186 171.133 850.473 Q169.004 848.737 165.184 848.737 L161.157 848.737 L161.157 844.894 L165.37 844.894 Q168.819 844.894 170.647 843.529 Q172.476 842.14 172.476 839.547 Q172.476 836.885 170.578 835.473 Q168.703 834.038 165.184 834.038 Q163.263 834.038 161.064 834.455 Q158.865 834.871 156.226 835.751 L156.226 831.584 Q158.888 830.844 161.203 830.473 Q163.541 830.103 165.601 830.103 Q170.925 830.103 174.027 832.533 Q177.129 834.941 177.129 839.061 Q177.129 841.931 175.485 843.922 Q173.842 845.89 170.809 846.654 Z\" fill=\"#000000\" fill-rule=\"evenodd\" fill-opacity=\"1\" /><path clip-path=\"url(#clip970)\" d=\"M 0 0 M120.601 683.482 Q116.99 683.482 115.162 687.047 Q113.356 690.589 113.356 697.718 Q113.356 704.825 115.162 708.39 Q116.99 711.931 120.601 711.931 Q124.236 711.931 126.041 708.39 Q127.87 704.825 127.87 697.718 Q127.87 690.589 126.041 687.047 Q124.236 683.482 120.601 683.482 M120.601 679.779 Q126.411 679.779 129.467 684.385 Q132.546 688.968 132.546 697.718 Q132.546 706.445 129.467 711.052 Q126.411 715.635 120.601 715.635 Q114.791 715.635 111.712 711.052 Q108.657 706.445 108.657 697.718 Q108.657 688.968 111.712 684.385 Q114.791 679.779 120.601 679.779 Z\" fill=\"#000000\" fill-rule=\"evenodd\" fill-opacity=\"1\" /><path clip-path=\"url(#clip970)\" d=\"M 0 0 M140.763 709.084 L145.648 709.084 L145.648 714.964 L140.763 714.964 L140.763 709.084 Z\" fill=\"#000000\" fill-rule=\"evenodd\" fill-opacity=\"1\" /><path clip-path=\"url(#clip970)\" d=\"M 0 0 M166.411 695.82 Q163.263 695.82 161.411 697.973 Q159.583 700.126 159.583 703.876 Q159.583 707.603 161.411 709.778 Q163.263 711.931 166.411 711.931 Q169.559 711.931 171.388 709.778 Q173.24 707.603 173.24 703.876 Q173.24 700.126 171.388 697.973 Q169.559 695.82 166.411 695.82 M175.694 681.167 L175.694 685.427 Q173.934 684.593 172.129 684.154 Q170.346 683.714 168.587 683.714 Q163.958 683.714 161.504 686.839 Q159.073 689.964 158.726 696.283 Q160.092 694.269 162.152 693.204 Q164.212 692.116 166.689 692.116 Q171.897 692.116 174.907 695.288 Q177.939 698.436 177.939 703.876 Q177.939 709.2 174.791 712.417 Q171.643 715.635 166.411 715.635 Q160.416 715.635 157.245 711.052 Q154.073 706.445 154.073 697.718 Q154.073 689.524 157.962 684.663 Q161.851 679.779 168.402 679.779 Q170.161 679.779 171.944 680.126 Q173.749 680.473 175.694 681.167 Z\" fill=\"#000000\" fill-rule=\"evenodd\" fill-opacity=\"1\" /><path clip-path=\"url(#clip970)\" d=\"M 0 0 M120.949 533.158 Q117.337 533.158 115.509 536.723 Q113.703 540.264 113.703 547.394 Q113.703 554.501 115.509 558.065 Q117.337 561.607 120.949 561.607 Q124.583 561.607 126.388 558.065 Q128.217 554.501 128.217 547.394 Q128.217 540.264 126.388 536.723 Q124.583 533.158 120.949 533.158 M120.949 529.454 Q126.759 529.454 129.814 534.061 Q132.893 538.644 132.893 547.394 Q132.893 556.121 129.814 560.727 Q126.759 565.311 120.949 565.311 Q115.138 565.311 112.06 560.727 Q109.004 556.121 109.004 547.394 Q109.004 538.644 112.06 534.061 Q115.138 529.454 120.949 529.454 Z\" fill=\"#000000\" fill-rule=\"evenodd\" fill-opacity=\"1\" /><path clip-path=\"url(#clip970)\" d=\"M 0 0 M141.11 558.76 L145.995 558.76 L145.995 564.639 L141.11 564.639 L141.11 558.76 Z\" fill=\"#000000\" fill-rule=\"evenodd\" fill-opacity=\"1\" /><path clip-path=\"url(#clip970)\" d=\"M 0 0 M156.319 563.922 L156.319 559.663 Q158.078 560.496 159.884 560.936 Q161.689 561.375 163.425 561.375 Q168.055 561.375 170.485 558.274 Q172.939 555.149 173.286 548.806 Q171.944 550.797 169.883 551.862 Q167.823 552.926 165.323 552.926 Q160.138 552.926 157.106 549.801 Q154.097 546.653 154.097 541.214 Q154.097 535.89 157.245 532.672 Q160.393 529.454 165.624 529.454 Q171.62 529.454 174.768 534.061 Q177.939 538.644 177.939 547.394 Q177.939 555.565 174.05 560.45 Q170.184 565.311 163.634 565.311 Q161.874 565.311 160.069 564.963 Q158.263 564.616 156.319 563.922 M165.624 549.269 Q168.772 549.269 170.601 547.116 Q172.453 544.964 172.453 541.214 Q172.453 537.487 170.601 535.334 Q168.772 533.158 165.624 533.158 Q162.476 533.158 160.624 535.334 Q158.796 537.487 158.796 541.214 Q158.796 544.964 160.624 547.116 Q162.476 549.269 165.624 549.269 Z\" fill=\"#000000\" fill-rule=\"evenodd\" fill-opacity=\"1\" /><path clip-path=\"url(#clip970)\" d=\"M 0 0 M113.171 410.38 L120.81 410.38 L120.81 384.014 L112.5 385.681 L112.5 381.422 L120.763 379.755 L125.439 379.755 L125.439 410.38 L133.078 410.38 L133.078 414.315 L113.171 414.315 L113.171 410.38 Z\" fill=\"#000000\" fill-rule=\"evenodd\" fill-opacity=\"1\" /><path clip-path=\"url(#clip970)\" d=\"M 0 0 M142.523 408.436 L147.407 408.436 L147.407 414.315 L142.523 414.315 L142.523 408.436 Z\" fill=\"#000000\" fill-rule=\"evenodd\" fill-opacity=\"1\" /><path clip-path=\"url(#clip970)\" d=\"M 0 0 M161.62 410.38 L177.939 410.38 L177.939 414.315 L155.995 414.315 L155.995 410.38 Q158.657 407.625 163.24 402.996 Q167.846 398.343 169.027 397 Q171.272 394.477 172.152 392.741 Q173.055 390.982 173.055 389.292 Q173.055 386.538 171.11 384.801 Q169.189 383.065 166.087 383.065 Q163.888 383.065 161.434 383.829 Q159.004 384.593 156.226 386.144 L156.226 381.422 Q159.05 380.288 161.504 379.709 Q163.958 379.13 165.995 379.13 Q171.365 379.13 174.559 381.815 Q177.754 384.5 177.754 388.991 Q177.754 391.121 176.944 393.042 Q176.157 394.94 174.05 397.533 Q173.471 398.204 170.37 401.422 Q167.268 404.616 161.62 410.38 Z\" fill=\"#000000\" fill-rule=\"evenodd\" fill-opacity=\"1\" /><path clip-path=\"url(#clip970)\" d=\"M 0 0 M112.569 260.056 L120.208 260.056 L120.208 233.69 L111.898 235.357 L111.898 231.098 L120.162 229.431 L124.837 229.431 L124.837 260.056 L132.476 260.056 L132.476 263.991 L112.569 263.991 L112.569 260.056 Z\" fill=\"#000000\" fill-rule=\"evenodd\" fill-opacity=\"1\" /><path clip-path=\"url(#clip970)\" d=\"M 0 0 M141.921 258.111 L146.805 258.111 L146.805 263.991 L141.921 263.991 L141.921 258.111 Z\" fill=\"#000000\" fill-rule=\"evenodd\" fill-opacity=\"1\" /><path clip-path=\"url(#clip970)\" d=\"M 0 0 M157.036 229.431 L175.393 229.431 L175.393 233.366 L161.319 233.366 L161.319 241.838 Q162.337 241.491 163.356 241.329 Q164.374 241.144 165.393 241.144 Q171.18 241.144 174.559 244.315 Q177.939 247.486 177.939 252.903 Q177.939 258.482 174.467 261.584 Q170.995 264.662 164.675 264.662 Q162.499 264.662 160.231 264.292 Q157.985 263.921 155.578 263.181 L155.578 258.482 Q157.661 259.616 159.884 260.171 Q162.106 260.727 164.583 260.727 Q168.587 260.727 170.925 258.621 Q173.263 256.514 173.263 252.903 Q173.263 249.292 170.925 247.185 Q168.587 245.079 164.583 245.079 Q162.708 245.079 160.833 245.496 Q158.981 245.912 157.036 246.792 L157.036 229.431 Z\" fill=\"#000000\" fill-rule=\"evenodd\" fill-opacity=\"1\" /><path clip-path=\"url(#clip970)\" d=\"M 0 0 M45.1129 581.521 L47.9774 581.521 L47.9774 608.448 Q54.0249 608.066 57.2077 604.819 Q60.3587 601.541 60.3587 595.716 Q60.3587 592.342 59.5312 589.191 Q58.7037 586.008 57.0486 582.889 L62.5867 582.889 Q63.9235 586.04 64.6238 589.35 Q65.324 592.661 65.324 596.066 Q65.324 604.596 60.3587 609.593 Q55.3935 614.559 46.9271 614.559 Q38.1742 614.559 33.0499 609.848 Q27.8936 605.106 27.8936 597.085 Q27.8936 589.891 32.5406 585.722 Q37.1557 581.521 45.1129 581.521 M43.3941 587.377 Q38.588 587.441 35.7234 590.082 Q32.8589 592.692 32.8589 597.021 Q32.8589 601.923 35.628 604.883 Q38.397 607.811 43.426 608.257 L43.3941 587.377 Z\" fill=\"#000000\" fill-rule=\"evenodd\" fill-opacity=\"1\" /><path clip-path=\"url(#clip970)\" d=\"M 0 0 M34.2275 551.252 Q33.6546 552.238 33.4 553.416 Q33.1135 554.562 33.1135 555.962 Q33.1135 560.928 36.36 563.601 Q39.5747 566.243 45.6221 566.243 L64.401 566.243 L64.401 572.131 L28.753 572.131 L28.753 566.243 L34.2912 566.243 Q31.0447 564.397 29.4851 561.437 Q27.8936 558.477 27.8936 554.244 Q27.8936 553.639 27.9891 552.907 Q28.0528 552.175 28.2119 551.283 L34.2275 551.252 Z\" fill=\"#000000\" fill-rule=\"evenodd\" fill-opacity=\"1\" /><path clip-path=\"url(#clip970)\" d=\"M 0 0 M34.2275 525.598 Q33.6546 526.585 33.4 527.762 Q33.1135 528.908 33.1135 530.308 Q33.1135 535.274 36.36 537.947 Q39.5747 540.589 45.6221 540.589 L64.401 540.589 L64.401 546.477 L28.753 546.477 L28.753 540.589 L34.2912 540.589 Q31.0447 538.743 29.4851 535.783 Q27.8936 532.823 27.8936 528.59 Q27.8936 527.985 27.9891 527.253 Q28.0528 526.521 28.2119 525.63 L34.2275 525.598 Z\" fill=\"#000000\" fill-rule=\"evenodd\" fill-opacity=\"1\" /><path clip-path=\"url(#clip970)\" d=\"M 0 0 M32.8589 507.074 Q32.8589 511.784 36.551 514.522 Q40.2113 517.259 46.6088 517.259 Q53.0063 517.259 56.6985 514.553 Q60.3587 511.816 60.3587 507.074 Q60.3587 502.395 56.6666 499.658 Q52.9745 496.92 46.6088 496.92 Q40.2749 496.92 36.5828 499.658 Q32.8589 502.395 32.8589 507.074 M27.8936 507.074 Q27.8936 499.435 32.8589 495.074 Q37.8241 490.714 46.6088 490.714 Q55.3617 490.714 60.3587 495.074 Q65.324 499.435 65.324 507.074 Q65.324 514.744 60.3587 519.105 Q55.3617 523.434 46.6088 523.434 Q37.8241 523.434 32.8589 519.105 Q27.8936 514.744 27.8936 507.074 Z\" fill=\"#000000\" fill-rule=\"evenodd\" fill-opacity=\"1\" /><path clip-path=\"url(#clip970)\" d=\"M 0 0 M34.2275 460.349 Q33.6546 461.336 33.4 462.514 Q33.1135 463.66 33.1135 465.06 Q33.1135 470.025 36.36 472.699 Q39.5747 475.341 45.6221 475.341 L64.401 475.341 L64.401 481.229 L28.753 481.229 L28.753 475.341 L34.2912 475.341 Q31.0447 473.495 29.4851 470.534 Q27.8936 467.574 27.8936 463.341 Q27.8936 462.737 27.9891 462.004 Q28.0528 461.272 28.2119 460.381 L34.2275 460.349 Z\" fill=\"#000000\" fill-rule=\"evenodd\" fill-opacity=\"1\" /><path clip-path=\"url(#clip970)\" d=\"M 0 0 M894.776 34.0924 L894.776 9.54393 L902.229 9.54393 L902.229 72.576 L894.776 72.576 L894.776 65.7705 Q892.426 69.8214 888.821 71.8063 Q885.256 73.7508 880.233 73.7508 Q872.009 73.7508 866.824 67.1883 Q861.68 60.6258 861.68 49.9314 Q861.68 39.2371 866.824 32.6746 Q872.009 26.1121 880.233 26.1121 Q885.256 26.1121 888.821 28.0971 Q892.426 30.0415 894.776 34.0924 M869.376 49.9314 Q869.376 58.1548 872.739 62.8538 Q876.141 67.5124 882.056 67.5124 Q887.97 67.5124 891.373 62.8538 Q894.776 58.1548 894.776 49.9314 Q894.776 41.7081 891.373 37.0496 Q887.97 32.3505 882.056 32.3505 Q876.141 32.3505 872.739 37.0496 Q869.376 41.7081 869.376 49.9314 Z\" fill=\"#000000\" fill-rule=\"evenodd\" fill-opacity=\"1\" /><path clip-path=\"url(#clip970)\" d=\"M 0 0 M918.554 34.9026 L970.487 34.9026 L970.487 41.7081 L918.554 41.7081 L918.554 34.9026 M918.554 51.4303 L970.487 51.4303 L970.487 58.3168 L918.554 58.3168 L918.554 51.4303 Z\" fill=\"#000000\" fill-rule=\"evenodd\" fill-opacity=\"1\" /><path clip-path=\"url(#clip970)\" d=\"M 0 0 M1012.94 39.9662 Q1018.81 41.222 1022.1 45.1919 Q1025.42 49.1618 1025.42 54.9951 Q1025.42 63.9476 1019.26 68.8492 Q1013.1 73.7508 1001.76 73.7508 Q997.952 73.7508 993.901 72.9811 Q989.891 72.2519 985.597 70.7531 L985.597 62.8538 Q989 64.8388 993.05 65.8515 Q997.101 66.8642 1001.52 66.8642 Q1009.21 66.8642 1013.22 63.826 Q1017.27 60.7879 1017.27 54.9951 Q1017.27 49.6479 1013.51 46.6502 Q1009.78 43.612 1003.1 43.612 L996.048 43.612 L996.048 36.8875 L1003.42 36.8875 Q1009.46 36.8875 1012.66 34.4975 Q1015.86 32.067 1015.86 27.5299 Q1015.86 22.8714 1012.54 20.4004 Q1009.25 17.8888 1003.1 17.8888 Q999.734 17.8888 995.886 18.618 Q992.038 19.3471 987.42 20.8865 L987.42 13.5948 Q992.078 12.2985 996.129 11.6504 Q1000.22 11.0023 1003.83 11.0023 Q1013.14 11.0023 1018.57 15.2557 Q1024 19.4686 1024 26.6793 Q1024 31.7024 1021.12 35.1862 Q1018.25 38.6294 1012.94 39.9662 Z\" fill=\"#000000\" fill-rule=\"evenodd\" fill-opacity=\"1\" /><path clip-path=\"url(#clip970)\" d=\"M 0 0 M1041.78 62.2867 L1050.33 62.2867 L1050.33 69.2543 L1043.69 82.2172 L1038.46 82.2172 L1041.78 69.2543 L1041.78 62.2867 Z\" fill=\"#000000\" fill-rule=\"evenodd\" fill-opacity=\"1\" /><path clip-path=\"url(#clip970)\" d=\"M 0 0 M1092.95 12.096 L1101.13 12.096 L1101.13 65.6895 L1130.58 65.6895 L1130.58 72.576 L1092.95 72.576 L1092.95 12.096 Z\" fill=\"#000000\" fill-rule=\"evenodd\" fill-opacity=\"1\" /><path clip-path=\"url(#clip970)\" d=\"M 0 0 M1139.81 34.9026 L1191.75 34.9026 L1191.75 41.7081 L1139.81 41.7081 L1139.81 34.9026 M1139.81 51.4303 L1191.75 51.4303 L1191.75 58.3168 L1139.81 58.3168 L1139.81 51.4303 Z\" fill=\"#000000\" fill-rule=\"evenodd\" fill-opacity=\"1\" /><path clip-path=\"url(#clip970)\" d=\"M 0 0 M1216.46 65.6895 L1245.02 65.6895 L1245.02 72.576 L1206.61 72.576 L1206.61 65.6895 Q1211.27 60.8689 1219.29 52.7671 Q1227.35 44.6248 1229.42 42.2752 Q1233.35 37.8598 1234.89 34.8216 Q1236.47 31.7429 1236.47 28.7857 Q1236.47 23.9651 1233.07 20.927 Q1229.7 17.8888 1224.28 17.8888 Q1220.43 17.8888 1216.13 19.2256 Q1211.88 20.5624 1207.02 23.2765 L1207.02 15.0127 Q1211.96 13.0277 1216.26 12.015 Q1220.55 11.0023 1224.11 11.0023 Q1233.51 11.0023 1239.1 15.7013 Q1244.69 20.4004 1244.69 28.2591 Q1244.69 31.9859 1243.27 35.3482 Q1241.9 38.6699 1238.21 43.2069 Q1237.2 44.3817 1231.77 50.0125 Q1226.34 55.6027 1216.46 65.6895 Z\" fill=\"#000000\" fill-rule=\"evenodd\" fill-opacity=\"1\" /><path clip-path=\"url(#clip970)\" d=\"M 0 0 M1260.13 12.096 L1299.02 12.096 L1299.02 15.5798 L1277.06 72.576 L1268.51 72.576 L1289.17 18.9825 L1260.13 18.9825 L1260.13 12.096 Z\" fill=\"#000000\" fill-rule=\"evenodd\" fill-opacity=\"1\" /><polyline clip-path=\"url(#clip972)\" style=\"stroke:#009af9; stroke-width:8; stroke-opacity:1; fill:none\" points=\"\n",
       "  257.321,137.776 348.768,416.691 440.215,541.685 531.663,605.584 623.11,643.851 714.558,678.988 806.005,701.244 897.453,719.118 988.9,730.798 1080.35,744.012 \n",
       "  1171.79,754.67 1263.24,763.768 1354.69,774.394 1446.14,782.759 1537.58,791.636 1629.03,799.461 1720.48,804.914 1811.93,810.868 1903.37,815.651 \n",
       "  \"/>\n",
       "<polyline clip-path=\"url(#clip972)\" style=\"stroke:#e26f46; stroke-width:8; stroke-opacity:1; fill:none\" points=\"\n",
       "  257.321,551.667 348.768,789.575 440.215,843.816 531.663,865.717 623.11,876.485 714.558,889.504 806.005,899.081 897.453,906.633 988.9,910.557 1080.35,914.901 \n",
       "  1171.79,920.052 1263.24,920.808 1354.69,926.28 1446.14,927.093 1537.58,927.735 1629.03,930.797 1720.48,933.012 1811.93,935.603 1903.37,937.132 \n",
       "  \"/>\n",
       "<polyline clip-path=\"url(#clip972)\" style=\"stroke:#3da44d; stroke-width:8; stroke-opacity:1; fill:none\" points=\"\n",
       "  257.321,667.367 348.768,779.951 440.215,827.883 531.663,850.778 623.11,863.809 714.558,877.761 806.005,886.433 897.453,894.963 988.9,899.07 1080.35,901.686 \n",
       "  1171.79,907.97 1263.24,910.974 1354.69,916.42 1446.14,918.46 1537.58,920.162 1629.03,921.604 1720.48,924.331 1811.93,927.397 1903.37,929.175 \n",
       "  \"/>\n",
       "<path clip-path=\"url(#clip970)\" d=\"\n",
       "M1350.43 383.959 L1894.6 383.959 L1894.6 142.039 L1350.43 142.039  Z\n",
       "  \" fill=\"#ffffff\" fill-rule=\"evenodd\" fill-opacity=\"1\"/>\n",
       "<polyline clip-path=\"url(#clip970)\" style=\"stroke:#000000; stroke-width:4; stroke-opacity:1; fill:none\" points=\"\n",
       "  1350.43,383.959 1894.6,383.959 1894.6,142.039 1350.43,142.039 1350.43,383.959 \n",
       "  \"/>\n",
       "<polyline clip-path=\"url(#clip970)\" style=\"stroke:#009af9; stroke-width:4; stroke-opacity:1; fill:none\" points=\"\n",
       "  1369.81,202.519 1486.14,202.519 \n",
       "  \"/>\n",
       "<path clip-path=\"url(#clip970)\" d=\"M 0 0 M1505.52 183.781 L1509.78 183.781 L1509.78 219.799 L1505.52 219.799 L1505.52 183.781 Z\" fill=\"#000000\" fill-rule=\"evenodd\" fill-opacity=\"1\" /><path clip-path=\"url(#clip970)\" d=\"M 0 0 M1540.87 205.772 L1540.87 207.855 L1521.29 207.855 Q1521.56 212.253 1523.93 214.568 Q1526.31 216.859 1530.55 216.859 Q1533 216.859 1535.29 216.258 Q1537.61 215.656 1539.87 214.452 L1539.87 218.48 Q1537.58 219.452 1535.18 219.961 Q1532.77 220.471 1530.29 220.471 Q1524.09 220.471 1520.45 216.859 Q1516.84 213.248 1516.84 207.091 Q1516.84 200.725 1520.27 196.998 Q1523.72 193.248 1529.55 193.248 Q1534.78 193.248 1537.81 196.628 Q1540.87 199.985 1540.87 205.772 M1536.61 204.522 Q1536.56 201.026 1534.64 198.943 Q1532.74 196.86 1529.6 196.86 Q1526.03 196.86 1523.88 198.873 Q1521.75 200.887 1521.43 204.545 L1536.61 204.522 Z\" fill=\"#000000\" fill-rule=\"evenodd\" fill-opacity=\"1\" /><path clip-path=\"url(#clip970)\" d=\"M 0 0 M1559.64 206.767 Q1554.48 206.767 1552.49 207.947 Q1550.5 209.128 1550.5 211.975 Q1550.5 214.244 1551.98 215.586 Q1553.49 216.906 1556.05 216.906 Q1559.6 216.906 1561.73 214.406 Q1563.88 211.883 1563.88 207.716 L1563.88 206.767 L1559.64 206.767 M1568.14 205.008 L1568.14 219.799 L1563.88 219.799 L1563.88 215.864 Q1562.42 218.225 1560.24 219.359 Q1558.07 220.471 1554.92 220.471 Q1550.94 220.471 1548.58 218.248 Q1546.24 216.003 1546.24 212.253 Q1546.24 207.878 1549.16 205.656 Q1552.1 203.434 1557.91 203.434 L1563.88 203.434 L1563.88 203.017 Q1563.88 200.077 1561.93 198.48 Q1560.01 196.86 1556.52 196.86 Q1554.3 196.86 1552.19 197.392 Q1550.08 197.924 1548.14 198.989 L1548.14 195.054 Q1550.48 194.151 1552.68 193.711 Q1554.87 193.248 1556.96 193.248 Q1562.58 193.248 1565.36 196.165 Q1568.14 199.082 1568.14 205.008 Z\" fill=\"#000000\" fill-rule=\"evenodd\" fill-opacity=\"1\" /><path clip-path=\"url(#clip970)\" d=\"M 0 0 M1593.44 194.637 L1593.44 198.665 Q1591.63 197.739 1589.69 197.276 Q1587.74 196.813 1585.66 196.813 Q1582.49 196.813 1580.89 197.785 Q1579.32 198.758 1579.32 200.702 Q1579.32 202.184 1580.45 203.04 Q1581.59 203.873 1585.01 204.637 L1586.47 204.961 Q1591.01 205.934 1592.91 207.716 Q1594.83 209.475 1594.83 212.646 Q1594.83 216.258 1591.96 218.364 Q1589.11 220.471 1584.11 220.471 Q1582.03 220.471 1579.76 220.054 Q1577.51 219.66 1575.01 218.85 L1575.01 214.452 Q1577.37 215.679 1579.67 216.304 Q1581.96 216.906 1584.2 216.906 Q1587.21 216.906 1588.83 215.887 Q1590.45 214.846 1590.45 212.971 Q1590.45 211.234 1589.27 210.309 Q1588.11 209.383 1584.16 208.526 L1582.67 208.179 Q1578.72 207.346 1576.96 205.633 Q1575.2 203.897 1575.2 200.887 Q1575.2 197.23 1577.79 195.239 Q1580.38 193.248 1585.15 193.248 Q1587.51 193.248 1589.6 193.596 Q1591.68 193.943 1593.44 194.637 Z\" fill=\"#000000\" fill-rule=\"evenodd\" fill-opacity=\"1\" /><path clip-path=\"url(#clip970)\" d=\"M 0 0 M1605.82 186.512 L1605.82 193.873 L1614.6 193.873 L1614.6 197.184 L1605.82 197.184 L1605.82 211.258 Q1605.82 214.429 1606.68 215.332 Q1607.56 216.234 1610.22 216.234 L1614.6 216.234 L1614.6 219.799 L1610.22 219.799 Q1605.29 219.799 1603.42 217.971 Q1601.54 216.119 1601.54 211.258 L1601.54 197.184 L1598.42 197.184 L1598.42 193.873 L1601.54 193.873 L1601.54 186.512 L1605.82 186.512 Z\" fill=\"#000000\" fill-rule=\"evenodd\" fill-opacity=\"1\" /><path clip-path=\"url(#clip970)\" d=\"M 0 0 M1651.79 194.637 L1651.79 198.665 Q1649.99 197.739 1648.04 197.276 Q1646.1 196.813 1644.02 196.813 Q1640.85 196.813 1639.25 197.785 Q1637.67 198.758 1637.67 200.702 Q1637.67 202.184 1638.81 203.04 Q1639.94 203.873 1643.37 204.637 L1644.83 204.961 Q1649.36 205.934 1651.26 207.716 Q1653.18 209.475 1653.18 212.646 Q1653.18 216.258 1650.31 218.364 Q1647.47 220.471 1642.47 220.471 Q1640.38 220.471 1638.11 220.054 Q1635.87 219.66 1633.37 218.85 L1633.37 214.452 Q1635.73 215.679 1638.02 216.304 Q1640.31 216.906 1642.56 216.906 Q1645.57 216.906 1647.19 215.887 Q1648.81 214.846 1648.81 212.971 Q1648.81 211.234 1647.63 210.309 Q1646.47 209.383 1642.51 208.526 L1641.03 208.179 Q1637.07 207.346 1635.31 205.633 Q1633.55 203.897 1633.55 200.887 Q1633.55 197.23 1636.15 195.239 Q1638.74 193.248 1643.51 193.248 Q1645.87 193.248 1647.95 193.596 Q1650.04 193.943 1651.79 194.637 Z\" fill=\"#000000\" fill-rule=\"evenodd\" fill-opacity=\"1\" /><path clip-path=\"url(#clip970)\" d=\"M 0 0 M1662.51 206.859 Q1662.51 211.559 1664.43 214.244 Q1666.38 216.906 1669.76 216.906 Q1673.14 216.906 1675.08 214.244 Q1677.03 211.559 1677.03 206.859 Q1677.03 202.16 1675.08 199.498 Q1673.14 196.813 1669.76 196.813 Q1666.38 196.813 1664.43 199.498 Q1662.51 202.16 1662.51 206.859 M1677.03 215.91 Q1675.68 218.225 1673.62 219.359 Q1671.59 220.471 1668.72 220.471 Q1664.02 220.471 1661.05 216.721 Q1658.11 212.971 1658.11 206.859 Q1658.11 200.748 1661.05 196.998 Q1664.02 193.248 1668.72 193.248 Q1671.59 193.248 1673.62 194.383 Q1675.68 195.494 1677.03 197.809 L1677.03 193.873 L1681.29 193.873 L1681.29 229.66 L1677.03 229.66 L1677.03 215.91 Z\" fill=\"#000000\" fill-rule=\"evenodd\" fill-opacity=\"1\" /><path clip-path=\"url(#clip970)\" d=\"M 0 0 M1689.62 209.568 L1689.62 193.873 L1693.88 193.873 L1693.88 209.406 Q1693.88 213.086 1695.31 214.938 Q1696.75 216.767 1699.62 216.767 Q1703.07 216.767 1705.06 214.568 Q1707.07 212.369 1707.07 208.572 L1707.07 193.873 L1711.33 193.873 L1711.33 219.799 L1707.07 219.799 L1707.07 215.818 Q1705.52 218.179 1703.46 219.336 Q1701.42 220.471 1698.72 220.471 Q1694.25 220.471 1691.93 217.693 Q1689.62 214.915 1689.62 209.568 M1700.34 193.248 L1700.34 193.248 Z\" fill=\"#000000\" fill-rule=\"evenodd\" fill-opacity=\"1\" /><path clip-path=\"url(#clip970)\" d=\"M 0 0 M1731.89 206.767 Q1726.73 206.767 1724.73 207.947 Q1722.74 209.128 1722.74 211.975 Q1722.74 214.244 1724.23 215.586 Q1725.73 216.906 1728.3 216.906 Q1731.84 216.906 1733.97 214.406 Q1736.12 211.883 1736.12 207.716 L1736.12 206.767 L1731.89 206.767 M1740.38 205.008 L1740.38 219.799 L1736.12 219.799 L1736.12 215.864 Q1734.66 218.225 1732.49 219.359 Q1730.31 220.471 1727.16 220.471 Q1723.18 220.471 1720.82 218.248 Q1718.48 216.003 1718.48 212.253 Q1718.48 207.878 1721.4 205.656 Q1724.34 203.434 1730.15 203.434 L1736.12 203.434 L1736.12 203.017 Q1736.12 200.077 1734.18 198.48 Q1732.26 196.86 1728.76 196.86 Q1726.54 196.86 1724.43 197.392 Q1722.33 197.924 1720.38 198.989 L1720.38 195.054 Q1722.72 194.151 1724.92 193.711 Q1727.12 193.248 1729.2 193.248 Q1734.83 193.248 1737.6 196.165 Q1740.38 199.082 1740.38 205.008 Z\" fill=\"#000000\" fill-rule=\"evenodd\" fill-opacity=\"1\" /><path clip-path=\"url(#clip970)\" d=\"M 0 0 M1764.18 197.855 Q1763.46 197.438 1762.6 197.253 Q1761.77 197.045 1760.75 197.045 Q1757.14 197.045 1755.2 199.406 Q1753.28 201.744 1753.28 206.142 L1753.28 219.799 L1748.99 219.799 L1748.99 193.873 L1753.28 193.873 L1753.28 197.901 Q1754.62 195.54 1756.77 194.406 Q1758.92 193.248 1762 193.248 Q1762.44 193.248 1762.97 193.318 Q1763.51 193.364 1764.16 193.48 L1764.18 197.855 Z\" fill=\"#000000\" fill-rule=\"evenodd\" fill-opacity=\"1\" /><path clip-path=\"url(#clip970)\" d=\"M 0 0 M1789.78 205.772 L1789.78 207.855 L1770.2 207.855 Q1770.47 212.253 1772.84 214.568 Q1775.22 216.859 1779.46 216.859 Q1781.91 216.859 1784.2 216.258 Q1786.52 215.656 1788.78 214.452 L1788.78 218.48 Q1786.49 219.452 1784.09 219.961 Q1781.68 220.471 1779.2 220.471 Q1773 220.471 1769.36 216.859 Q1765.75 213.248 1765.75 207.091 Q1765.75 200.725 1769.18 196.998 Q1772.63 193.248 1778.46 193.248 Q1783.69 193.248 1786.72 196.628 Q1789.78 199.985 1789.78 205.772 M1785.52 204.522 Q1785.47 201.026 1783.55 198.943 Q1781.66 196.86 1778.51 196.86 Q1774.94 196.86 1772.79 198.873 Q1770.66 200.887 1770.34 204.545 L1785.52 204.522 Z\" fill=\"#000000\" fill-rule=\"evenodd\" fill-opacity=\"1\" /><path clip-path=\"url(#clip970)\" d=\"M 0 0 M1813.3 194.637 L1813.3 198.665 Q1811.49 197.739 1809.55 197.276 Q1807.6 196.813 1805.52 196.813 Q1802.35 196.813 1800.75 197.785 Q1799.18 198.758 1799.18 200.702 Q1799.18 202.184 1800.31 203.04 Q1801.45 203.873 1804.87 204.637 L1806.33 204.961 Q1810.87 205.934 1812.77 207.716 Q1814.69 209.475 1814.69 212.646 Q1814.69 216.258 1811.82 218.364 Q1808.97 220.471 1803.97 220.471 Q1801.89 220.471 1799.62 220.054 Q1797.37 219.66 1794.87 218.85 L1794.87 214.452 Q1797.23 215.679 1799.53 216.304 Q1801.82 216.906 1804.06 216.906 Q1807.07 216.906 1808.69 215.887 Q1810.31 214.846 1810.31 212.971 Q1810.31 211.234 1809.13 210.309 Q1807.97 209.383 1804.02 208.526 L1802.53 208.179 Q1798.58 207.346 1796.82 205.633 Q1795.06 203.897 1795.06 200.887 Q1795.06 197.23 1797.65 195.239 Q1800.24 193.248 1805.01 193.248 Q1807.37 193.248 1809.46 193.596 Q1811.54 193.943 1813.3 194.637 Z\" fill=\"#000000\" fill-rule=\"evenodd\" fill-opacity=\"1\" /><polyline clip-path=\"url(#clip970)\" style=\"stroke:#e26f46; stroke-width:4; stroke-opacity:1; fill:none\" points=\"\n",
       "  1369.81,262.999 1486.14,262.999 \n",
       "  \"/>\n",
       "<path clip-path=\"url(#clip970)\" d=\"M 0 0 M1527.77 246.853 L1527.77 251.414 Q1525.11 250.141 1522.74 249.516 Q1520.38 248.891 1518.18 248.891 Q1514.37 248.891 1512.28 250.372 Q1510.22 251.853 1510.22 254.585 Q1510.22 256.877 1511.59 258.057 Q1512.98 259.215 1516.82 259.932 L1519.64 260.511 Q1524.87 261.506 1527.35 264.029 Q1529.85 266.529 1529.85 270.742 Q1529.85 275.765 1526.47 278.358 Q1523.12 280.951 1516.61 280.951 Q1514.16 280.951 1511.38 280.395 Q1508.62 279.839 1505.66 278.751 L1505.66 273.937 Q1508.51 275.534 1511.24 276.344 Q1513.97 277.154 1516.61 277.154 Q1520.62 277.154 1522.79 275.58 Q1524.97 274.006 1524.97 271.089 Q1524.97 268.543 1523.39 267.108 Q1521.84 265.673 1518.28 264.955 L1515.43 264.4 Q1510.2 263.358 1507.86 261.136 Q1505.52 258.914 1505.52 254.955 Q1505.52 250.372 1508.74 247.733 Q1511.98 245.094 1517.65 245.094 Q1520.08 245.094 1522.61 245.534 Q1525.13 245.974 1527.77 246.853 Z\" fill=\"#000000\" fill-rule=\"evenodd\" fill-opacity=\"1\" /><path clip-path=\"url(#clip970)\" d=\"M 0 0 M1546.05 280.279 L1532.86 245.719 L1537.74 245.719 L1548.69 274.816 L1559.67 245.719 L1564.53 245.719 L1551.36 280.279 L1546.05 280.279 Z\" fill=\"#000000\" fill-rule=\"evenodd\" fill-opacity=\"1\" /><path clip-path=\"url(#clip970)\" d=\"M 0 0 M1574.25 249.562 L1574.25 276.437 L1579.9 276.437 Q1587.05 276.437 1590.36 273.196 Q1593.69 269.955 1593.69 262.965 Q1593.69 256.02 1590.36 252.803 Q1587.05 249.562 1579.9 249.562 L1574.25 249.562 M1569.57 245.719 L1579.18 245.719 Q1589.23 245.719 1593.92 249.909 Q1598.62 254.076 1598.62 262.965 Q1598.62 271.9 1593.9 276.089 Q1589.18 280.279 1579.18 280.279 L1569.57 280.279 L1569.57 245.719 Z\" fill=\"#000000\" fill-rule=\"evenodd\" fill-opacity=\"1\" /><polyline clip-path=\"url(#clip970)\" style=\"stroke:#3da44d; stroke-width:4; stroke-opacity:1; fill:none\" points=\"\n",
       "  1369.81,323.479 1486.14,323.479 \n",
       "  \"/>\n",
       "<path clip-path=\"url(#clip970)\" d=\"M 0 0 M1525.87 319.81 Q1527.47 316.94 1529.69 315.574 Q1531.91 314.208 1534.92 314.208 Q1538.97 314.208 1541.17 317.056 Q1543.37 319.88 1543.37 325.111 L1543.37 340.759 L1539.09 340.759 L1539.09 325.25 Q1539.09 321.523 1537.77 319.718 Q1536.45 317.912 1533.74 317.912 Q1530.43 317.912 1528.51 320.111 Q1526.59 322.31 1526.59 326.107 L1526.59 340.759 L1522.3 340.759 L1522.3 325.25 Q1522.3 321.5 1520.99 319.718 Q1519.67 317.912 1516.91 317.912 Q1513.65 317.912 1511.73 320.134 Q1509.8 322.333 1509.8 326.107 L1509.8 340.759 L1505.52 340.759 L1505.52 314.833 L1509.8 314.833 L1509.8 318.861 Q1511.26 316.477 1513.3 315.343 Q1515.34 314.208 1518.14 314.208 Q1520.96 314.208 1522.93 315.644 Q1524.92 317.079 1525.87 319.81 Z\" fill=\"#000000\" fill-rule=\"evenodd\" fill-opacity=\"1\" /><path clip-path=\"url(#clip970)\" d=\"M 0 0 M1551.43 330.528 L1551.43 314.833 L1555.68 314.833 L1555.68 330.366 Q1555.68 334.046 1557.12 335.898 Q1558.55 337.727 1561.43 337.727 Q1564.87 337.727 1566.86 335.528 Q1568.88 333.329 1568.88 329.532 L1568.88 314.833 L1573.14 314.833 L1573.14 340.759 L1568.88 340.759 L1568.88 336.778 Q1567.33 339.139 1565.27 340.296 Q1563.23 341.431 1560.52 341.431 Q1556.05 341.431 1553.74 338.653 Q1551.43 335.875 1551.43 330.528 M1562.14 314.208 L1562.14 314.208 Z\" fill=\"#000000\" fill-rule=\"evenodd\" fill-opacity=\"1\" /><path clip-path=\"url(#clip970)\" d=\"M 0 0 M1581.91 304.741 L1586.17 304.741 L1586.17 340.759 L1581.91 340.759 L1581.91 304.741 Z\" fill=\"#000000\" fill-rule=\"evenodd\" fill-opacity=\"1\" /><path clip-path=\"url(#clip970)\" d=\"M 0 0 M1599.3 307.472 L1599.3 314.833 L1608.07 314.833 L1608.07 318.144 L1599.3 318.144 L1599.3 332.218 Q1599.3 335.389 1600.15 336.292 Q1601.03 337.194 1603.69 337.194 L1608.07 337.194 L1608.07 340.759 L1603.69 340.759 Q1598.76 340.759 1596.89 338.931 Q1595.01 337.079 1595.01 332.218 L1595.01 318.144 L1591.89 318.144 L1591.89 314.833 L1595.01 314.833 L1595.01 307.472 L1599.3 307.472 Z\" fill=\"#000000\" fill-rule=\"evenodd\" fill-opacity=\"1\" /><path clip-path=\"url(#clip970)\" d=\"M 0 0 M1613.67 314.833 L1617.93 314.833 L1617.93 340.759 L1613.67 340.759 L1613.67 314.833 M1613.67 304.741 L1617.93 304.741 L1617.93 310.134 L1613.67 310.134 L1613.67 304.741 Z\" fill=\"#000000\" fill-rule=\"evenodd\" fill-opacity=\"1\" /><path clip-path=\"url(#clip970)\" d=\"M 0 0 M1643.37 315.597 L1643.37 319.625 Q1641.56 318.699 1639.62 318.236 Q1637.67 317.773 1635.59 317.773 Q1632.42 317.773 1630.82 318.745 Q1629.25 319.718 1629.25 321.662 Q1629.25 323.144 1630.38 324 Q1631.52 324.833 1634.94 325.597 L1636.4 325.921 Q1640.94 326.894 1642.84 328.676 Q1644.76 330.435 1644.76 333.606 Q1644.76 337.218 1641.89 339.324 Q1639.04 341.431 1634.04 341.431 Q1631.96 341.431 1629.69 341.014 Q1627.44 340.62 1624.94 339.81 L1624.94 335.412 Q1627.3 336.639 1629.6 337.264 Q1631.89 337.866 1634.13 337.866 Q1637.14 337.866 1638.76 336.847 Q1640.38 335.806 1640.38 333.931 Q1640.38 332.194 1639.2 331.269 Q1638.05 330.343 1634.09 329.486 L1632.61 329.139 Q1628.65 328.306 1626.89 326.593 Q1625.13 324.857 1625.13 321.847 Q1625.13 318.19 1627.72 316.199 Q1630.31 314.208 1635.08 314.208 Q1637.44 314.208 1639.53 314.556 Q1641.61 314.903 1643.37 315.597 Z\" fill=\"#000000\" fill-rule=\"evenodd\" fill-opacity=\"1\" /><path clip-path=\"url(#clip970)\" d=\"M 0 0 M1670.2 315.829 L1670.2 319.81 Q1668.39 318.815 1666.56 318.329 Q1664.76 317.82 1662.91 317.82 Q1658.76 317.82 1656.47 320.458 Q1654.18 323.074 1654.18 327.819 Q1654.18 332.565 1656.47 335.204 Q1658.76 337.819 1662.91 337.819 Q1664.76 337.819 1666.56 337.333 Q1668.39 336.824 1670.2 335.829 L1670.2 339.764 Q1668.42 340.597 1666.49 341.014 Q1664.6 341.431 1662.44 341.431 Q1656.59 341.431 1653.14 337.75 Q1649.69 334.069 1649.69 327.819 Q1649.69 321.477 1653.16 317.843 Q1656.66 314.208 1662.72 314.208 Q1664.69 314.208 1666.56 314.625 Q1668.44 315.019 1670.2 315.829 Z\" fill=\"#000000\" fill-rule=\"evenodd\" fill-opacity=\"1\" /><path clip-path=\"url(#clip970)\" d=\"M 0 0 M1689.39 327.727 Q1684.23 327.727 1682.23 328.907 Q1680.24 330.088 1680.24 332.935 Q1680.24 335.204 1681.73 336.546 Q1683.23 337.866 1685.8 337.866 Q1689.34 337.866 1691.47 335.366 Q1693.62 332.843 1693.62 328.676 L1693.62 327.727 L1689.39 327.727 M1697.88 325.968 L1697.88 340.759 L1693.62 340.759 L1693.62 336.824 Q1692.17 339.185 1689.99 340.319 Q1687.81 341.431 1684.67 341.431 Q1680.68 341.431 1678.32 339.208 Q1675.98 336.963 1675.98 333.213 Q1675.98 328.838 1678.9 326.616 Q1681.84 324.394 1687.65 324.394 L1693.62 324.394 L1693.62 323.977 Q1693.62 321.037 1691.68 319.44 Q1689.76 317.82 1686.26 317.82 Q1684.04 317.82 1681.93 318.352 Q1679.83 318.884 1677.88 319.949 L1677.88 316.014 Q1680.22 315.111 1682.42 314.671 Q1684.62 314.208 1686.7 314.208 Q1692.33 314.208 1695.1 317.125 Q1697.88 320.042 1697.88 325.968 Z\" fill=\"#000000\" fill-rule=\"evenodd\" fill-opacity=\"1\" /><path clip-path=\"url(#clip970)\" d=\"M 0 0 M1706.66 304.741 L1710.92 304.741 L1710.92 340.759 L1706.66 340.759 L1706.66 304.741 Z\" fill=\"#000000\" fill-rule=\"evenodd\" fill-opacity=\"1\" /><path clip-path=\"url(#clip970)\" d=\"M 0 0 M1742 326.732 L1742 328.815 L1722.42 328.815 Q1722.7 333.213 1725.06 335.528 Q1727.44 337.819 1731.68 337.819 Q1734.13 337.819 1736.42 337.218 Q1738.74 336.616 1741.01 335.412 L1741.01 339.44 Q1738.72 340.412 1736.31 340.921 Q1733.9 341.431 1731.42 341.431 Q1725.22 341.431 1721.59 337.819 Q1717.98 334.208 1717.98 328.051 Q1717.98 321.685 1721.4 317.958 Q1724.85 314.208 1730.68 314.208 Q1735.91 314.208 1738.95 317.588 Q1742 320.945 1742 326.732 M1737.74 325.482 Q1737.7 321.986 1735.78 319.903 Q1733.88 317.82 1730.73 317.82 Q1727.16 317.82 1725.01 319.833 Q1722.88 321.847 1722.56 325.505 L1737.74 325.482 Z\" fill=\"#000000\" fill-rule=\"evenodd\" fill-opacity=\"1\" /><path clip-path=\"url(#clip970)\" d=\"M 0 0 M1784.97 307.333 L1784.97 311.894 Q1782.3 310.621 1779.94 309.996 Q1777.58 309.371 1775.38 309.371 Q1771.56 309.371 1769.48 310.852 Q1767.42 312.333 1767.42 315.065 Q1767.42 317.357 1768.79 318.537 Q1770.17 319.695 1774.02 320.412 L1776.84 320.991 Q1782.07 321.986 1784.55 324.509 Q1787.05 327.009 1787.05 331.222 Q1787.05 336.245 1783.67 338.838 Q1780.31 341.431 1773.81 341.431 Q1771.35 341.431 1768.58 340.875 Q1765.82 340.319 1762.86 339.231 L1762.86 334.417 Q1765.71 336.014 1768.44 336.824 Q1771.17 337.634 1773.81 337.634 Q1777.81 337.634 1779.99 336.06 Q1782.16 334.486 1782.16 331.569 Q1782.16 329.023 1780.59 327.588 Q1779.04 326.153 1775.47 325.435 L1772.63 324.88 Q1767.4 323.838 1765.06 321.616 Q1762.72 319.394 1762.72 315.435 Q1762.72 310.852 1765.94 308.213 Q1769.18 305.574 1774.85 305.574 Q1777.28 305.574 1779.8 306.014 Q1782.33 306.454 1784.97 307.333 Z\" fill=\"#000000\" fill-rule=\"evenodd\" fill-opacity=\"1\" /><path clip-path=\"url(#clip970)\" d=\"M 0 0 M1803.25 340.759 L1790.06 306.199 L1794.94 306.199 L1805.89 335.296 L1816.86 306.199 L1821.72 306.199 L1808.55 340.759 L1803.25 340.759 Z\" fill=\"#000000\" fill-rule=\"evenodd\" fill-opacity=\"1\" /><path clip-path=\"url(#clip970)\" d=\"M 0 0 M1831.45 310.042 L1831.45 336.917 L1837.09 336.917 Q1844.25 336.917 1847.56 333.676 Q1850.89 330.435 1850.89 323.445 Q1850.89 316.5 1847.56 313.283 Q1844.25 310.042 1837.09 310.042 L1831.45 310.042 M1826.77 306.199 L1836.38 306.199 Q1846.42 306.199 1851.12 310.389 Q1855.82 314.556 1855.82 323.445 Q1855.82 332.38 1851.1 336.569 Q1846.38 340.759 1836.38 340.759 L1826.77 340.759 L1826.77 306.199 Z\" fill=\"#000000\" fill-rule=\"evenodd\" fill-opacity=\"1\" /></svg>\n"
      ]
     },
     "execution_count": 20,
     "metadata": {},
     "output_type": "execute_result"
    }
   ],
   "source": [
    "graph_experiment(lossEvery,errFs, errSVDs, errMultiSVDs, title=\"d=3, L=27\",startAt=100)"
   ]
  },
  {
   "cell_type": "code",
   "execution_count": 21,
   "metadata": {},
   "outputs": [],
   "source": [
    "savefig(\"lds-3-27.png\")"
   ]
  },
  {
   "cell_type": "code",
   "execution_count": 10,
   "metadata": {},
   "outputs": [
    {
     "data": {
      "text/plain": [
       "1"
      ]
     },
     "metadata": {},
     "output_type": "display_data"
    },
    {
     "data": {
      "text/plain": [
       "107"
      ]
     },
     "metadata": {},
     "output_type": "display_data"
    },
    {
     "data": {
      "text/plain": [
       "(400, 3.14547602884659, 2.1203467554316986, 1.0006909692494417)"
      ]
     },
     "metadata": {},
     "output_type": "display_data"
    },
    {
     "data": {
      "text/plain": [
       "(500, 2.0650274642719366, 1.6388330171340428, 0.5775590488232085)"
      ]
     },
     "metadata": {},
     "output_type": "display_data"
    },
    {
     "data": {
      "text/plain": [
       "(600, 1.6256608454800316, 0.4552413060251124, 0.3790353666307743)"
      ]
     },
     "metadata": {},
     "output_type": "display_data"
    },
    {
     "data": {
      "text/plain": [
       "(700, 1.3905856093765532, 0.3393754562096739, 0.3443778267194819)"
      ]
     },
     "metadata": {},
     "output_type": "display_data"
    },
    {
     "data": {
      "text/plain": [
       "(800, 1.2553195644204007, 0.27947388526031797, 0.2940890425109778)"
      ]
     },
     "metadata": {},
     "output_type": "display_data"
    },
    {
     "data": {
      "text/plain": [
       "(900, 1.137347440360529, 0.2770968075610906, 0.26790371451279316)"
      ]
     },
     "metadata": {},
     "output_type": "display_data"
    },
    {
     "data": {
      "text/plain": [
       "(1000, 1.0320923686320143, 0.27886868081055244, 0.26516818081667576)"
      ]
     },
     "metadata": {},
     "output_type": "display_data"
    },
    {
     "data": {
      "text/plain": [
       "(1100, 0.9685370524983886, 0.25278173226035094, 0.24720282113476783)"
      ]
     },
     "metadata": {},
     "output_type": "display_data"
    },
    {
     "data": {
      "text/plain": [
       "(1200, 0.8967292917820654, 0.2144301664803941, 0.21478216651687293)"
      ]
     },
     "metadata": {},
     "output_type": "display_data"
    },
    {
     "data": {
      "text/plain": [
       "(1300, 0.8615649359476626, 0.18152858089627133, 0.19222566394907023)"
      ]
     },
     "metadata": {},
     "output_type": "display_data"
    },
    {
     "data": {
      "text/plain": [
       "(1400, 0.8158825756382962, 0.1699739128472402, 0.1747556892832159)"
      ]
     },
     "metadata": {},
     "output_type": "display_data"
    },
    {
     "data": {
      "text/plain": [
       "(1500, 0.7753648728763878, 0.1708551473140037, 0.1844766871540096)"
      ]
     },
     "metadata": {},
     "output_type": "display_data"
    },
    {
     "data": {
      "text/plain": [
       "(1600, 0.7669037695508699, 0.16507852746668195, 0.17723524122039647)"
      ]
     },
     "metadata": {},
     "output_type": "display_data"
    },
    {
     "data": {
      "text/plain": [
       "(1700, 0.7400369690720023, 0.15683878980431662, 0.16620907311622068)"
      ]
     },
     "metadata": {},
     "output_type": "display_data"
    },
    {
     "data": {
      "text/plain": [
       "(1800, 0.7183377266322849, 0.1508805559934602, 0.16191616306160186)"
      ]
     },
     "metadata": {},
     "output_type": "display_data"
    },
    {
     "data": {
      "text/plain": [
       "(1900, 0.6865085915507494, 0.1419797005018039, 0.15001870870375078)"
      ]
     },
     "metadata": {},
     "output_type": "display_data"
    },
    {
     "data": {
      "text/plain": [
       "(2000, 0.6605897380247994, 0.13166845544461409, 0.14269552787633433)"
      ]
     },
     "metadata": {},
     "output_type": "display_data"
    },
    {
     "data": {
      "text/plain": [
       "2"
      ]
     },
     "metadata": {},
     "output_type": "display_data"
    },
    {
     "data": {
      "text/plain": [
       "107"
      ]
     },
     "metadata": {},
     "output_type": "display_data"
    },
    {
     "data": {
      "text/plain": [
       "(400, 2.9930666439031492, 2.1581817220086825, 0.8614128303089502)"
      ]
     },
     "metadata": {},
     "output_type": "display_data"
    },
    {
     "data": {
      "text/plain": [
       "(500, 2.0168743282596786, 1.2134599219921955, 0.5090842012179111)"
      ]
     },
     "metadata": {},
     "output_type": "display_data"
    },
    {
     "data": {
      "text/plain": [
       "(600, 1.7069372487484107, 0.8726808013961262, 0.36901354841434625)"
      ]
     },
     "metadata": {},
     "output_type": "display_data"
    },
    {
     "data": {
      "text/plain": [
       "(700, 1.409259098756232, 0.3309901500003725, 0.2974841731886656)"
      ]
     },
     "metadata": {},
     "output_type": "display_data"
    },
    {
     "data": {
      "text/plain": [
       "(800, 1.2492497328359677, 0.31428961060631216, 0.2670984962924664)"
      ]
     },
     "metadata": {},
     "output_type": "display_data"
    },
    {
     "data": {
      "text/plain": [
       "(900, 1.1385221872097164, 0.2514209788228516, 0.2512113683733786)"
      ]
     },
     "metadata": {},
     "output_type": "display_data"
    },
    {
     "data": {
      "text/plain": [
       "(1000, 1.0292972212573313, 0.23918624730761673, 0.2452106007420828)"
      ]
     },
     "metadata": {},
     "output_type": "display_data"
    },
    {
     "data": {
      "text/plain": [
       "(1100, 0.9511888446476697, 0.21792572687842046, 0.22700642930455045)"
      ]
     },
     "metadata": {},
     "output_type": "display_data"
    },
    {
     "data": {
      "text/plain": [
       "(1200, 0.8968696209100794, 0.20545259668403346, 0.2013570885432573)"
      ]
     },
     "metadata": {},
     "output_type": "display_data"
    },
    {
     "data": {
      "text/plain": [
       "(1300, 0.8591677135166007, 0.19575337449206523, 0.19357452905653413)"
      ]
     },
     "metadata": {},
     "output_type": "display_data"
    },
    {
     "data": {
      "text/plain": [
       "(1400, 0.8097587607065971, 0.19616908321472848, 0.20075487401281303)"
      ]
     },
     "metadata": {},
     "output_type": "display_data"
    },
    {
     "data": {
      "text/plain": [
       "(1500, 0.7685964449259279, 0.19693966220355144, 0.19700763783726935)"
      ]
     },
     "metadata": {},
     "output_type": "display_data"
    },
    {
     "data": {
      "text/plain": [
       "(1600, 0.7277639525823784, 0.17332377363496929, 0.17842866251163314)"
      ]
     },
     "metadata": {},
     "output_type": "display_data"
    },
    {
     "data": {
      "text/plain": [
       "(1700, 0.7134186682833169, 0.17334622509936795, 0.17556795280494777)"
      ]
     },
     "metadata": {},
     "output_type": "display_data"
    },
    {
     "data": {
      "text/plain": [
       "(1800, 0.6861304332592021, 0.1594259316899309, 0.16921685159219602)"
      ]
     },
     "metadata": {},
     "output_type": "display_data"
    },
    {
     "data": {
      "text/plain": [
       "(1900, 0.6750051014787636, 0.14195409452056718, 0.15641322390801773)"
      ]
     },
     "metadata": {},
     "output_type": "display_data"
    },
    {
     "data": {
      "text/plain": [
       "(2000, 0.6590705186061002, 0.13684894267746558, 0.14918865810008172)"
      ]
     },
     "metadata": {},
     "output_type": "display_data"
    },
    {
     "data": {
      "text/plain": [
       "3"
      ]
     },
     "metadata": {},
     "output_type": "display_data"
    },
    {
     "data": {
      "text/plain": [
       "107"
      ]
     },
     "metadata": {},
     "output_type": "display_data"
    },
    {
     "data": {
      "text/plain": [
       "(400, 3.1402123788667877, 1.7247275330808234, 1.113322388392611)"
      ]
     },
     "metadata": {},
     "output_type": "display_data"
    },
    {
     "data": {
      "text/plain": [
       "(500, 2.0830842730362473, 1.54496904828186, 0.5821412598735582)"
      ]
     },
     "metadata": {},
     "output_type": "display_data"
    },
    {
     "data": {
      "text/plain": [
       "(600, 1.6649288948183834, 1.4872433287612, 0.47387808515291135)"
      ]
     },
     "metadata": {},
     "output_type": "display_data"
    },
    {
     "data": {
      "text/plain": [
       "(700, 1.4336508333711828, 1.4396309017609605, 0.4357933550373478)"
      ]
     },
     "metadata": {},
     "output_type": "display_data"
    },
    {
     "data": {
      "text/plain": [
       "(800, 1.2691989815181146, 1.4280306637005498, 0.4029209192680171)"
      ]
     },
     "metadata": {},
     "output_type": "display_data"
    },
    {
     "data": {
      "text/plain": [
       "(900, 1.1366444577377277, 1.2972779696728851, 0.33701631496786594)"
      ]
     },
     "metadata": {},
     "output_type": "display_data"
    },
    {
     "data": {
      "text/plain": [
       "(1000, 1.028847495383738, 0.9344099991429531, 0.2774018534621161)"
      ]
     },
     "metadata": {},
     "output_type": "display_data"
    },
    {
     "data": {
      "text/plain": [
       "(1100, 0.9658060549739529, 0.5806251787860899, 0.23973521153156313)"
      ]
     },
     "metadata": {},
     "output_type": "display_data"
    },
    {
     "data": {
      "text/plain": [
       "(1200, 0.9010881076430752, 0.3901117910228741, 0.19379525481761126)"
      ]
     },
     "metadata": {},
     "output_type": "display_data"
    },
    {
     "data": {
      "text/plain": [
       "(1300, 0.8544773165205362, 0.3262915577158953, 0.17823352844048562)"
      ]
     },
     "metadata": {},
     "output_type": "display_data"
    },
    {
     "data": {
      "text/plain": [
       "(1400, 0.814138407832268, 0.21210460224322353, 0.1485090934337788)"
      ]
     },
     "metadata": {},
     "output_type": "display_data"
    },
    {
     "data": {
      "text/plain": [
       "(1500, 0.7662879585936652, 0.15978405241527088, 0.14052459048664612)"
      ]
     },
     "metadata": {},
     "output_type": "display_data"
    },
    {
     "data": {
      "text/plain": [
       "(1600, 0.7326019624147393, 0.14764045817498117, 0.13035664300025915)"
      ]
     },
     "metadata": {},
     "output_type": "display_data"
    },
    {
     "data": {
      "text/plain": [
       "(1700, 0.7065830541866326, 0.14412874447962512, 0.12630664317224075)"
      ]
     },
     "metadata": {},
     "output_type": "display_data"
    },
    {
     "data": {
      "text/plain": [
       "(1800, 0.6848495643226362, 0.1294820519983749, 0.11245150819662289)"
      ]
     },
     "metadata": {},
     "output_type": "display_data"
    },
    {
     "data": {
      "text/plain": [
       "(1900, 0.6549533742689221, 0.1192310777201759, 0.11368383797300814)"
      ]
     },
     "metadata": {},
     "output_type": "display_data"
    },
    {
     "data": {
      "text/plain": [
       "(2000, 0.6353386150834918, 0.1112412913454296, 0.10588918899690297)"
      ]
     },
     "metadata": {},
     "output_type": "display_data"
    },
    {
     "data": {
      "text/plain": [
       "4"
      ]
     },
     "metadata": {},
     "output_type": "display_data"
    },
    {
     "data": {
      "text/plain": [
       "107"
      ]
     },
     "metadata": {},
     "output_type": "display_data"
    },
    {
     "data": {
      "text/plain": [
       "(400, 3.4935232380017234, 2.391060496329761, 1.194820126673724)"
      ]
     },
     "metadata": {},
     "output_type": "display_data"
    },
    {
     "data": {
      "text/plain": [
       "(500, 2.127734322495538, 0.5685024462949605, 0.46862415524951995)"
      ]
     },
     "metadata": {},
     "output_type": "display_data"
    },
    {
     "data": {
      "text/plain": [
       "(600, 1.7407837313261685, 0.4749279182276057, 0.3766329521610739)"
      ]
     },
     "metadata": {},
     "output_type": "display_data"
    },
    {
     "data": {
      "text/plain": [
       "(700, 1.4663441381313653, 0.28749633937494007, 0.3118484603978949)"
      ]
     },
     "metadata": {},
     "output_type": "display_data"
    },
    {
     "data": {
      "text/plain": [
       "(800, 1.2092155429064306, 0.2315725910773754, 0.2852586099802555)"
      ]
     },
     "metadata": {},
     "output_type": "display_data"
    },
    {
     "data": {
      "text/plain": [
       "(900, 1.0699954378669756, 0.2290340564678051, 0.2509650173442588)"
      ]
     },
     "metadata": {},
     "output_type": "display_data"
    },
    {
     "data": {
      "text/plain": [
       "(1000, 0.9791909725507628, 0.20266440206052153, 0.2292589955122998)"
      ]
     },
     "metadata": {},
     "output_type": "display_data"
    },
    {
     "data": {
      "text/plain": [
       "(1100, 0.9088639137263749, 0.1861470781842699, 0.20356985255873067)"
      ]
     },
     "metadata": {},
     "output_type": "display_data"
    },
    {
     "data": {
      "text/plain": [
       "(1200, 0.8568130085951773, 0.1755386639892766, 0.19158940208250338)"
      ]
     },
     "metadata": {},
     "output_type": "display_data"
    },
    {
     "data": {
      "text/plain": [
       "(1300, 0.8356474480700693, 0.1656196581171719, 0.19062421988270406)"
      ]
     },
     "metadata": {},
     "output_type": "display_data"
    },
    {
     "data": {
      "text/plain": [
       "(1400, 0.795225088828957, 0.15618666125322894, 0.171053871759778)"
      ]
     },
     "metadata": {},
     "output_type": "display_data"
    },
    {
     "data": {
      "text/plain": [
       "(1500, 0.7639578859716206, 0.1519060107119759, 0.1587675289541107)"
      ]
     },
     "metadata": {},
     "output_type": "display_data"
    },
    {
     "data": {
      "text/plain": [
       "(1600, 0.7216601358887123, 0.14303982137815865, 0.16011337564981806)"
      ]
     },
     "metadata": {},
     "output_type": "display_data"
    },
    {
     "data": {
      "text/plain": [
       "(1700, 0.6942269394993467, 0.13070817016229452, 0.14837299624805922)"
      ]
     },
     "metadata": {},
     "output_type": "display_data"
    },
    {
     "data": {
      "text/plain": [
       "(1800, 0.6649957593541221, 0.1134854842982823, 0.14285184302488182)"
      ]
     },
     "metadata": {},
     "output_type": "display_data"
    },
    {
     "data": {
      "text/plain": [
       "(1900, 0.6379750265876444, 0.1069512592900148, 0.13051185558567424)"
      ]
     },
     "metadata": {},
     "output_type": "display_data"
    },
    {
     "data": {
      "text/plain": [
       "(2000, 0.6236527246271881, 0.11096938878186999, 0.13100808028718536)"
      ]
     },
     "metadata": {},
     "output_type": "display_data"
    },
    {
     "data": {
      "text/plain": [
       "5"
      ]
     },
     "metadata": {},
     "output_type": "display_data"
    },
    {
     "data": {
      "text/plain": [
       "107"
      ]
     },
     "metadata": {},
     "output_type": "display_data"
    },
    {
     "data": {
      "text/plain": [
       "(400, 3.762487096895602, 2.1420308552140455, 1.3481544143106983)"
      ]
     },
     "metadata": {},
     "output_type": "display_data"
    },
    {
     "data": {
      "text/plain": [
       "(500, 2.0195787316399136, 1.735662302514476, 0.559243731383125)"
      ]
     },
     "metadata": {},
     "output_type": "display_data"
    },
    {
     "data": {
      "text/plain": [
       "(600, 1.598486927485131, 1.1888823323481044, 0.4141751489224742)"
      ]
     },
     "metadata": {},
     "output_type": "display_data"
    },
    {
     "data": {
      "text/plain": [
       "(700, 1.362516615716843, 0.28016827680084905, 0.30619446221442176)"
      ]
     },
     "metadata": {},
     "output_type": "display_data"
    },
    {
     "data": {
      "text/plain": [
       "(800, 1.2207049407693114, 0.24141919643302726, 0.2534231216882289)"
      ]
     },
     "metadata": {},
     "output_type": "display_data"
    },
    {
     "data": {
      "text/plain": [
       "(900, 1.0915352717748406, 0.1871769963578911, 0.2117491457180875)"
      ]
     },
     "metadata": {},
     "output_type": "display_data"
    },
    {
     "data": {
      "text/plain": [
       "(1000, 1.0224449267901636, 0.17687816180962865, 0.17696009357644468)"
      ]
     },
     "metadata": {},
     "output_type": "display_data"
    },
    {
     "data": {
      "text/plain": [
       "(1100, 0.9561219111574011, 0.17508350768897094, 0.1823415355761159)"
      ]
     },
     "metadata": {},
     "output_type": "display_data"
    },
    {
     "data": {
      "text/plain": [
       "(1200, 0.8847047901239794, 0.15591014525270444, 0.16588997873361616)"
      ]
     },
     "metadata": {},
     "output_type": "display_data"
    },
    {
     "data": {
      "text/plain": [
       "(1300, 0.8312358555698205, 0.14993578021233117, 0.16031232940727883)"
      ]
     },
     "metadata": {},
     "output_type": "display_data"
    },
    {
     "data": {
      "text/plain": [
       "(1400, 0.8028028345636569, 0.14428387400790074, 0.1523148901645614)"
      ]
     },
     "metadata": {},
     "output_type": "display_data"
    },
    {
     "data": {
      "text/plain": [
       "(1500, 0.7780760311881332, 0.14761905652163654, 0.15978573504107)"
      ]
     },
     "metadata": {},
     "output_type": "display_data"
    },
    {
     "data": {
      "text/plain": [
       "(1600, 0.7523254648542042, 0.1482574337498798, 0.15982021110271444)"
      ]
     },
     "metadata": {},
     "output_type": "display_data"
    },
    {
     "data": {
      "text/plain": [
       "(1700, 0.7211924935180074, 0.14674290373234747, 0.16097140056934542)"
      ]
     },
     "metadata": {},
     "output_type": "display_data"
    },
    {
     "data": {
      "text/plain": [
       "(1800, 0.6887545225174837, 0.13092567855094142, 0.14557909672677263)"
      ]
     },
     "metadata": {},
     "output_type": "display_data"
    },
    {
     "data": {
      "text/plain": [
       "(1900, 0.6711017531648068, 0.1204929744470163, 0.1374882576141158)"
      ]
     },
     "metadata": {},
     "output_type": "display_data"
    },
    {
     "data": {
      "text/plain": [
       "(2000, 0.6444614588115325, 0.11675791891898886, 0.13060205198833785)"
      ]
     },
     "metadata": {},
     "output_type": "display_data"
    },
    {
     "data": {
      "text/plain": [
       "6"
      ]
     },
     "metadata": {},
     "output_type": "display_data"
    },
    {
     "data": {
      "text/plain": [
       "107"
      ]
     },
     "metadata": {},
     "output_type": "display_data"
    },
    {
     "data": {
      "text/plain": [
       "(400, 3.710315332604086, 2.586317483701578, 1.5247916442943543)"
      ]
     },
     "metadata": {},
     "output_type": "display_data"
    },
    {
     "data": {
      "text/plain": [
       "(500, 2.037822239507426, 1.1440659242858666, 0.500092449120695)"
      ]
     },
     "metadata": {},
     "output_type": "display_data"
    },
    {
     "data": {
      "text/plain": [
       "(600, 1.5673800190143015, 1.2073869808648583, 0.38980257265983376)"
      ]
     },
     "metadata": {},
     "output_type": "display_data"
    },
    {
     "data": {
      "text/plain": [
       "(700, 1.351612633753374, 0.3590057835856484, 0.28014437311443663)"
      ]
     },
     "metadata": {},
     "output_type": "display_data"
    },
    {
     "data": {
      "text/plain": [
       "(800, 1.2332680739903052, 0.2894407303564438, 0.2632091059446382)"
      ]
     },
     "metadata": {},
     "output_type": "display_data"
    },
    {
     "data": {
      "text/plain": [
       "(900, 1.1398585292118177, 0.2669083589164434, 0.237164492309245)"
      ]
     },
     "metadata": {},
     "output_type": "display_data"
    },
    {
     "data": {
      "text/plain": [
       "(1000, 1.03310313275746, 0.20271636037455507, 0.19629728303672433)"
      ]
     },
     "metadata": {},
     "output_type": "display_data"
    },
    {
     "data": {
      "text/plain": [
       "(1100, 0.9715880247350634, 0.1841824754280529, 0.18785782245415772)"
      ]
     },
     "metadata": {},
     "output_type": "display_data"
    },
    {
     "data": {
      "text/plain": [
       "(1200, 0.9012008016230711, 0.18634743484478922, 0.1929116341555898)"
      ]
     },
     "metadata": {},
     "output_type": "display_data"
    },
    {
     "data": {
      "text/plain": [
       "(1300, 0.8600453998716635, 0.16376176982178933, 0.16710524261785253)"
      ]
     },
     "metadata": {},
     "output_type": "display_data"
    },
    {
     "data": {
      "text/plain": [
       "(1400, 0.813237284994, 0.152927154263998, 0.1618936791821935)"
      ]
     },
     "metadata": {},
     "output_type": "display_data"
    },
    {
     "data": {
      "text/plain": [
       "(1500, 0.7732884732674467, 0.1418765706847583, 0.15384144001258204)"
      ]
     },
     "metadata": {},
     "output_type": "display_data"
    },
    {
     "data": {
      "text/plain": [
       "(1600, 0.7314191154175602, 0.13337035217021664, 0.1526455022366889)"
      ]
     },
     "metadata": {},
     "output_type": "display_data"
    },
    {
     "data": {
      "text/plain": [
       "(1700, 0.7021031115943965, 0.13586274638142054, 0.1477594116727683)"
      ]
     },
     "metadata": {},
     "output_type": "display_data"
    },
    {
     "data": {
      "text/plain": [
       "(1800, 0.6792205879345469, 0.12770587255114824, 0.1415322999823281)"
      ]
     },
     "metadata": {},
     "output_type": "display_data"
    },
    {
     "data": {
      "text/plain": [
       "(1900, 0.6611090885730422, 0.1191201631950334, 0.13581489193732366)"
      ]
     },
     "metadata": {},
     "output_type": "display_data"
    },
    {
     "data": {
      "text/plain": [
       "(2000, 0.6362156164553378, 0.12063209718226388, 0.13755266448265757)"
      ]
     },
     "metadata": {},
     "output_type": "display_data"
    },
    {
     "data": {
      "text/plain": [
       "7"
      ]
     },
     "metadata": {},
     "output_type": "display_data"
    },
    {
     "data": {
      "text/plain": [
       "107"
      ]
     },
     "metadata": {},
     "output_type": "display_data"
    },
    {
     "data": {
      "text/plain": [
       "(400, 3.722667353006478, 2.770515814146466, 0.9095882892403984)"
      ]
     },
     "metadata": {},
     "output_type": "display_data"
    },
    {
     "data": {
      "text/plain": [
       "(500, 2.3202562045028725, 0.5985296463777955, 0.5388662143087792)"
      ]
     },
     "metadata": {},
     "output_type": "display_data"
    },
    {
     "data": {
      "text/plain": [
       "(600, 1.846856067802545, 0.4250909322366706, 0.44043681365671716)"
      ]
     },
     "metadata": {},
     "output_type": "display_data"
    },
    {
     "data": {
      "text/plain": [
       "(700, 1.488381284275659, 0.2590147013513372, 0.2992419225606316)"
      ]
     },
     "metadata": {},
     "output_type": "display_data"
    },
    {
     "data": {
      "text/plain": [
       "(800, 1.2419734862466323, 0.22386009165423945, 0.2604452097811366)"
      ]
     },
     "metadata": {},
     "output_type": "display_data"
    },
    {
     "data": {
      "text/plain": [
       "(900, 1.1380089124423725, 0.21672924479223563, 0.25599557881127993)"
      ]
     },
     "metadata": {},
     "output_type": "display_data"
    },
    {
     "data": {
      "text/plain": [
       "(1000, 1.0561074149614498, 0.2088788409580906, 0.24455167851336018)"
      ]
     },
     "metadata": {},
     "output_type": "display_data"
    },
    {
     "data": {
      "text/plain": [
       "(1100, 1.0006376667213177, 0.198772568648387, 0.23561773590104934)"
      ]
     },
     "metadata": {},
     "output_type": "display_data"
    },
    {
     "data": {
      "text/plain": [
       "(1200, 0.9328533829211374, 0.16898073229077115, 0.21465785068151683)"
      ]
     },
     "metadata": {},
     "output_type": "display_data"
    },
    {
     "data": {
      "text/plain": [
       "(1300, 0.8872576945817344, 0.16218019369420447, 0.20439030762605107)"
      ]
     },
     "metadata": {},
     "output_type": "display_data"
    },
    {
     "data": {
      "text/plain": [
       "(1400, 0.8281130465211629, 0.14589924365158946, 0.18375155620095812)"
      ]
     },
     "metadata": {},
     "output_type": "display_data"
    },
    {
     "data": {
      "text/plain": [
       "(1500, 0.7875250051796623, 0.13314142637263354, 0.17515342874301482)"
      ]
     },
     "metadata": {},
     "output_type": "display_data"
    },
    {
     "data": {
      "text/plain": [
       "(1600, 0.7541055608310314, 0.12937773958498897, 0.1635010051551075)"
      ]
     },
     "metadata": {},
     "output_type": "display_data"
    },
    {
     "data": {
      "text/plain": [
       "(1700, 0.7167768650226659, 0.12234397060970521, 0.1576948877657061)"
      ]
     },
     "metadata": {},
     "output_type": "display_data"
    },
    {
     "data": {
      "text/plain": [
       "(1800, 0.6749454829066185, 0.12344269881752785, 0.15108013408802634)"
      ]
     },
     "metadata": {},
     "output_type": "display_data"
    },
    {
     "data": {
      "text/plain": [
       "(1900, 0.6454720233578121, 0.11966096884917451, 0.15056717650064866)"
      ]
     },
     "metadata": {},
     "output_type": "display_data"
    },
    {
     "data": {
      "text/plain": [
       "(2000, 0.6270697884909785, 0.10947665755117804, 0.14074525775636448)"
      ]
     },
     "metadata": {},
     "output_type": "display_data"
    },
    {
     "data": {
      "text/plain": [
       "8"
      ]
     },
     "metadata": {},
     "output_type": "display_data"
    },
    {
     "data": {
      "text/plain": [
       "107"
      ]
     },
     "metadata": {},
     "output_type": "display_data"
    },
    {
     "data": {
      "text/plain": [
       "(400, 3.3373851551182305, 1.6659760104551706, 1.0373451845980202)"
      ]
     },
     "metadata": {},
     "output_type": "display_data"
    },
    {
     "data": {
      "text/plain": [
       "(500, 2.290506202631586, 1.3133396388663772, 0.5764837389317222)"
      ]
     },
     "metadata": {},
     "output_type": "display_data"
    },
    {
     "data": {
      "text/plain": [
       "(600, 1.795588042945703, 0.5876885558199193, 0.4157793157886919)"
      ]
     },
     "metadata": {},
     "output_type": "display_data"
    },
    {
     "data": {
      "text/plain": [
       "(700, 1.5841449213211314, 0.3691503034585397, 0.38475800524653614)"
      ]
     },
     "metadata": {},
     "output_type": "display_data"
    },
    {
     "data": {
      "text/plain": [
       "(800, 1.39833448258718, 0.48496103531149415, 0.3271236379061032)"
      ]
     },
     "metadata": {},
     "output_type": "display_data"
    },
    {
     "data": {
      "text/plain": [
       "(900, 1.2455309973355606, 0.25995271500697054, 0.2976503076945794)"
      ]
     },
     "metadata": {},
     "output_type": "display_data"
    },
    {
     "data": {
      "text/plain": [
       "(1000, 1.104310537097104, 0.2390173765381013, 0.26083561206751754)"
      ]
     },
     "metadata": {},
     "output_type": "display_data"
    },
    {
     "data": {
      "text/plain": [
       "(1100, 1.0262979594018335, 0.21747983193676523, 0.2351224953786033)"
      ]
     },
     "metadata": {},
     "output_type": "display_data"
    },
    {
     "data": {
      "text/plain": [
       "(1200, 0.9297153420872287, 0.21677616144190068, 0.22697559000254475)"
      ]
     },
     "metadata": {},
     "output_type": "display_data"
    },
    {
     "data": {
      "text/plain": [
       "(1300, 0.8869999224829089, 0.20663263006770025, 0.20892213757455708)"
      ]
     },
     "metadata": {},
     "output_type": "display_data"
    },
    {
     "data": {
      "text/plain": [
       "(1400, 0.8474827150291159, 0.186636169633358, 0.19506802192221648)"
      ]
     },
     "metadata": {},
     "output_type": "display_data"
    },
    {
     "data": {
      "text/plain": [
       "(1500, 0.8273763434706132, 0.19511210412355787, 0.20165479504795936)"
      ]
     },
     "metadata": {},
     "output_type": "display_data"
    },
    {
     "data": {
      "text/plain": [
       "(1600, 0.7869695727497706, 0.1722324592371798, 0.1793590131084595)"
      ]
     },
     "metadata": {},
     "output_type": "display_data"
    },
    {
     "data": {
      "text/plain": [
       "(1700, 0.7638084746101034, 0.16572459756721067, 0.1701044716033846)"
      ]
     },
     "metadata": {},
     "output_type": "display_data"
    },
    {
     "data": {
      "text/plain": [
       "(1800, 0.720633107393865, 0.16813309970345885, 0.17314987720897682)"
      ]
     },
     "metadata": {},
     "output_type": "display_data"
    },
    {
     "data": {
      "text/plain": [
       "(1900, 0.6785151983757085, 0.16688435554857925, 0.17099424256580523)"
      ]
     },
     "metadata": {},
     "output_type": "display_data"
    },
    {
     "data": {
      "text/plain": [
       "(2000, 0.6531130210138435, 0.15299019476074996, 0.1611332664265386)"
      ]
     },
     "metadata": {},
     "output_type": "display_data"
    },
    {
     "data": {
      "text/plain": [
       "9"
      ]
     },
     "metadata": {},
     "output_type": "display_data"
    },
    {
     "data": {
      "text/plain": [
       "107"
      ]
     },
     "metadata": {},
     "output_type": "display_data"
    },
    {
     "data": {
      "text/plain": [
       "(400, 3.5902486391457193, 2.5050664530829487, 1.2878905445241708)"
      ]
     },
     "metadata": {},
     "output_type": "display_data"
    },
    {
     "data": {
      "text/plain": [
       "(500, 2.469703639249736, 1.4448076742440559, 0.6249989917218116)"
      ]
     },
     "metadata": {},
     "output_type": "display_data"
    },
    {
     "data": {
      "text/plain": [
       "(600, 1.8882144941291785, 1.2402223518782314, 0.5492922492405755)"
      ]
     },
     "metadata": {},
     "output_type": "display_data"
    },
    {
     "data": {
      "text/plain": [
       "(700, 1.5962656658016738, 1.2024722257290095, 0.45476470583684425)"
      ]
     },
     "metadata": {},
     "output_type": "display_data"
    },
    {
     "data": {
      "text/plain": [
       "(800, 1.3421697690463301, 0.44895321197580135, 0.29092036443724995)"
      ]
     },
     "metadata": {},
     "output_type": "display_data"
    },
    {
     "data": {
      "text/plain": [
       "(900, 1.1348496473305762, 0.31137885360237716, 0.2326030115774629)"
      ]
     },
     "metadata": {},
     "output_type": "display_data"
    },
    {
     "data": {
      "text/plain": [
       "(1000, 1.0568005343059774, 0.21600726652199925, 0.2207981265902496)"
      ]
     },
     "metadata": {},
     "output_type": "display_data"
    },
    {
     "data": {
      "text/plain": [
       "(1100, 0.9916763628395183, 0.19116725980955576, 0.1934568116507375)"
      ]
     },
     "metadata": {},
     "output_type": "display_data"
    },
    {
     "data": {
      "text/plain": [
       "(1200, 0.9317448156550476, 0.1758587999631166, 0.17948720369722437)"
      ]
     },
     "metadata": {},
     "output_type": "display_data"
    },
    {
     "data": {
      "text/plain": [
       "(1300, 0.8973338384144011, 0.1718516370208438, 0.17401083084974595)"
      ]
     },
     "metadata": {},
     "output_type": "display_data"
    },
    {
     "data": {
      "text/plain": [
       "(1400, 0.8535395556545117, 0.1685684748036299, 0.1690130941338886)"
      ]
     },
     "metadata": {},
     "output_type": "display_data"
    },
    {
     "data": {
      "text/plain": [
       "(1500, 0.7993010882613015, 0.14464449932911538, 0.1572513812513781)"
      ]
     },
     "metadata": {},
     "output_type": "display_data"
    },
    {
     "data": {
      "text/plain": [
       "(1600, 0.7855554036452268, 0.14632282539394456, 0.1622989837499312)"
      ]
     },
     "metadata": {},
     "output_type": "display_data"
    },
    {
     "data": {
      "text/plain": [
       "(1700, 0.7404411330270162, 0.14265580262842104, 0.15968094582361114)"
      ]
     },
     "metadata": {},
     "output_type": "display_data"
    },
    {
     "data": {
      "text/plain": [
       "(1800, 0.7068565192215341, 0.13283131378943927, 0.1460666740891708)"
      ]
     },
     "metadata": {},
     "output_type": "display_data"
    },
    {
     "data": {
      "text/plain": [
       "(1900, 0.6807864958402581, 0.1347788660049833, 0.14700964600473748)"
      ]
     },
     "metadata": {},
     "output_type": "display_data"
    },
    {
     "data": {
      "text/plain": [
       "(2000, 0.6597586647904716, 0.12595153970924072, 0.14011732004143496)"
      ]
     },
     "metadata": {},
     "output_type": "display_data"
    },
    {
     "data": {
      "text/plain": [
       "10"
      ]
     },
     "metadata": {},
     "output_type": "display_data"
    },
    {
     "data": {
      "text/plain": [
       "107"
      ]
     },
     "metadata": {},
     "output_type": "display_data"
    },
    {
     "data": {
      "text/plain": [
       "(400, 3.0863917649599952, 2.2925103696412656, 0.8507819974444171)"
      ]
     },
     "metadata": {},
     "output_type": "display_data"
    },
    {
     "data": {
      "text/plain": [
       "(500, 2.1608024403999355, 0.6131937652078413, 0.4873989325998519)"
      ]
     },
     "metadata": {},
     "output_type": "display_data"
    },
    {
     "data": {
      "text/plain": [
       "(600, 1.775409508466113, 0.3717002280039231, 0.41872059389904825)"
      ]
     },
     "metadata": {},
     "output_type": "display_data"
    },
    {
     "data": {
      "text/plain": [
       "(700, 1.5108274915599826, 0.2852313025064152, 0.34127651151273286)"
      ]
     },
     "metadata": {},
     "output_type": "display_data"
    },
    {
     "data": {
      "text/plain": [
       "(800, 1.3487977368376498, 0.2673165994182482, 0.3096871006192161)"
      ]
     },
     "metadata": {},
     "output_type": "display_data"
    },
    {
     "data": {
      "text/plain": [
       "(900, 1.2168301093273886, 0.23891709785038495, 0.29282395899556823)"
      ]
     },
     "metadata": {},
     "output_type": "display_data"
    },
    {
     "data": {
      "text/plain": [
       "(1000, 1.1101746777274977, 0.23048574624662035, 0.2757123868854816)"
      ]
     },
     "metadata": {},
     "output_type": "display_data"
    },
    {
     "data": {
      "text/plain": [
       "(1100, 1.0128796608162665, 0.22800119603224142, 0.2625144128418328)"
      ]
     },
     "metadata": {},
     "output_type": "display_data"
    },
    {
     "data": {
      "text/plain": [
       "(1200, 0.9068828092838823, 0.18902682944847923, 0.21668448149970285)"
      ]
     },
     "metadata": {},
     "output_type": "display_data"
    },
    {
     "data": {
      "text/plain": [
       "(1300, 0.855974380561773, 0.16936512367533207, 0.1965184859418979)"
      ]
     },
     "metadata": {},
     "output_type": "display_data"
    },
    {
     "data": {
      "text/plain": [
       "(1400, 0.8158505826313246, 0.15931061720851977, 0.18838087934958989)"
      ]
     },
     "metadata": {},
     "output_type": "display_data"
    },
    {
     "data": {
      "text/plain": [
       "(1500, 0.7788722508320189, 0.1434396347168368, 0.17810064152097252)"
      ]
     },
     "metadata": {},
     "output_type": "display_data"
    },
    {
     "data": {
      "text/plain": [
       "(1600, 0.7510205058009071, 0.1411835406679922, 0.1809497853664078)"
      ]
     },
     "metadata": {},
     "output_type": "display_data"
    },
    {
     "data": {
      "text/plain": [
       "(1700, 0.7273841364353909, 0.13951013036775806, 0.17979595140358626)"
      ]
     },
     "metadata": {},
     "output_type": "display_data"
    },
    {
     "data": {
      "text/plain": [
       "(1800, 0.7069102106754954, 0.13645446609628228, 0.1785624568930307)"
      ]
     },
     "metadata": {},
     "output_type": "display_data"
    },
    {
     "data": {
      "text/plain": [
       "(1900, 0.6903372607811296, 0.1370697810519072, 0.1761863791193358)"
      ]
     },
     "metadata": {},
     "output_type": "display_data"
    },
    {
     "data": {
      "text/plain": [
       "(2000, 0.670742512205671, 0.14084365103629062, 0.17617544325532916)"
      ]
     },
     "metadata": {},
     "output_type": "display_data"
    },
    {
     "data": {
      "text/plain": [
       "(100, [3.14547602884659 2.0650274642719366 … 0.6865085915507494 0.6605897380247994; 2.9930666439031492 2.0168743282596786 … 0.6750051014787636 0.6590705186061002; … ; 3.5902486391457193 2.469703639249736 … 0.6807864958402581 0.6597586647904716; 3.0863917649599952 2.1608024403999355 … 0.6903372607811296 0.670742512205671], [2.1203467554316986 1.6388330171340428 … 0.1419797005018039 0.13166845544461409; 2.1581817220086825 1.2134599219921955 … 0.14195409452056718 0.13684894267746558; … ; 2.5050664530829487 1.4448076742440559 … 0.1347788660049833 0.12595153970924072; 2.2925103696412656 0.6131937652078413 … 0.1370697810519072 0.14084365103629062], [1.0006909692494417 0.5775590488232085 … 0.15001870870375078 0.14269552787633433; 0.8614128303089502 0.5090842012179111 … 0.15641322390801773 0.14918865810008172; … ; 1.2878905445241708 0.6249989917218116 … 0.14700964600473748 0.14011732004143496; 0.8507819974444171 0.4873989325998519 … 0.1761863791193358 0.17617544325532916])"
      ]
     },
     "execution_count": 10,
     "metadata": {},
     "output_type": "execute_result"
    }
   ],
   "source": [
    "Random.seed!(3)\n",
    "(lossEvery,errFs, errSVDs, errMultiSVDs)=average_over_trials(3,3,3,4,0.95,10,2000,100,startAt=300)"
   ]
  },
  {
   "cell_type": "code",
   "execution_count": 11,
   "metadata": {},
   "outputs": [
    {
     "data": {
      "image/svg+xml": [
       "<?xml version=\"1.0\" encoding=\"utf-8\"?>\n",
       "<svg xmlns=\"http://www.w3.org/2000/svg\" xmlns:xlink=\"http://www.w3.org/1999/xlink\" width=\"500\" height=\"280\" viewBox=\"0 0 2000 1120\">\n",
       "<defs>\n",
       "  <clipPath id=\"clip820\">\n",
       "    <rect x=\"0\" y=\"0\" width=\"2000\" height=\"1120\"/>\n",
       "  </clipPath>\n",
       "</defs>\n",
       "<path clip-path=\"url(#clip820)\" d=\"\n",
       "M0 1120 L2000 1120 L2000 0 L0 0  Z\n",
       "  \" fill=\"#ffffff\" fill-rule=\"evenodd\" fill-opacity=\"1\"/>\n",
       "<defs>\n",
       "  <clipPath id=\"clip821\">\n",
       "    <rect x=\"400\" y=\"0\" width=\"1401\" height=\"1120\"/>\n",
       "  </clipPath>\n",
       "</defs>\n",
       "<path clip-path=\"url(#clip820)\" d=\"\n",
       "M207.43 961.113 L1952.76 961.113 L1952.76 113.795 L207.43 113.795  Z\n",
       "  \" fill=\"#ffffff\" fill-rule=\"evenodd\" fill-opacity=\"1\"/>\n",
       "<defs>\n",
       "  <clipPath id=\"clip822\">\n",
       "    <rect x=\"207\" y=\"113\" width=\"1746\" height=\"848\"/>\n",
       "  </clipPath>\n",
       "</defs>\n",
       "<polyline clip-path=\"url(#clip822)\" style=\"stroke:#000000; stroke-width:2; stroke-opacity:0.1; fill:none\" points=\"\n",
       "  462.643,961.113 462.643,113.795 \n",
       "  \"/>\n",
       "<polyline clip-path=\"url(#clip822)\" style=\"stroke:#000000; stroke-width:2; stroke-opacity:0.1; fill:none\" points=\"\n",
       "  771.368,961.113 771.368,113.795 \n",
       "  \"/>\n",
       "<polyline clip-path=\"url(#clip822)\" style=\"stroke:#000000; stroke-width:2; stroke-opacity:0.1; fill:none\" points=\"\n",
       "  1080.09,961.113 1080.09,113.795 \n",
       "  \"/>\n",
       "<polyline clip-path=\"url(#clip822)\" style=\"stroke:#000000; stroke-width:2; stroke-opacity:0.1; fill:none\" points=\"\n",
       "  1388.82,961.113 1388.82,113.795 \n",
       "  \"/>\n",
       "<polyline clip-path=\"url(#clip822)\" style=\"stroke:#000000; stroke-width:2; stroke-opacity:0.1; fill:none\" points=\"\n",
       "  1697.54,961.113 1697.54,113.795 \n",
       "  \"/>\n",
       "<polyline clip-path=\"url(#clip820)\" style=\"stroke:#000000; stroke-width:4; stroke-opacity:1; fill:none\" points=\"\n",
       "  207.43,961.113 1952.76,961.113 \n",
       "  \"/>\n",
       "<polyline clip-path=\"url(#clip820)\" style=\"stroke:#000000; stroke-width:4; stroke-opacity:1; fill:none\" points=\"\n",
       "  462.643,961.113 462.643,950.945 \n",
       "  \"/>\n",
       "<polyline clip-path=\"url(#clip820)\" style=\"stroke:#000000; stroke-width:4; stroke-opacity:1; fill:none\" points=\"\n",
       "  771.368,961.113 771.368,950.945 \n",
       "  \"/>\n",
       "<polyline clip-path=\"url(#clip820)\" style=\"stroke:#000000; stroke-width:4; stroke-opacity:1; fill:none\" points=\"\n",
       "  1080.09,961.113 1080.09,950.945 \n",
       "  \"/>\n",
       "<polyline clip-path=\"url(#clip820)\" style=\"stroke:#000000; stroke-width:4; stroke-opacity:1; fill:none\" points=\"\n",
       "  1388.82,961.113 1388.82,950.945 \n",
       "  \"/>\n",
       "<polyline clip-path=\"url(#clip820)\" style=\"stroke:#000000; stroke-width:4; stroke-opacity:1; fill:none\" points=\"\n",
       "  1697.54,961.113 1697.54,950.945 \n",
       "  \"/>\n",
       "<path clip-path=\"url(#clip820)\" d=\"M 0 0 M432.967 999.441 Q429.819 999.441 427.967 1001.59 Q426.138 1003.75 426.138 1007.5 Q426.138 1011.22 427.967 1013.4 Q429.819 1015.55 432.967 1015.55 Q436.115 1015.55 437.944 1013.4 Q439.795 1011.22 439.795 1007.5 Q439.795 1003.75 437.944 1001.59 Q436.115 999.441 432.967 999.441 M442.249 984.789 L442.249 989.048 Q440.49 988.214 438.684 987.775 Q436.902 987.335 435.143 987.335 Q430.513 987.335 428.059 990.46 Q425.629 993.585 425.282 999.904 Q426.647 997.89 428.708 996.825 Q430.768 995.738 433.245 995.738 Q438.453 995.738 441.462 998.909 Q444.494 1002.06 444.494 1007.5 Q444.494 1012.82 441.346 1016.04 Q438.198 1019.26 432.967 1019.26 Q426.971 1019.26 423.8 1014.67 Q420.629 1010.07 420.629 1001.34 Q420.629 993.145 424.518 988.284 Q428.407 983.4 434.957 983.4 Q436.717 983.4 438.499 983.747 Q440.305 984.094 442.249 984.789 Z\" fill=\"#000000\" fill-rule=\"evenodd\" fill-opacity=\"1\" /><path clip-path=\"url(#clip820)\" d=\"M 0 0 M462.55 987.103 Q458.939 987.103 457.11 990.668 Q455.305 994.21 455.305 1001.34 Q455.305 1008.45 457.11 1012.01 Q458.939 1015.55 462.55 1015.55 Q466.184 1015.55 467.99 1012.01 Q469.818 1008.45 469.818 1001.34 Q469.818 994.21 467.99 990.668 Q466.184 987.103 462.55 987.103 M462.55 983.4 Q468.36 983.4 471.416 988.006 Q474.494 992.589 474.494 1001.34 Q474.494 1010.07 471.416 1014.67 Q468.36 1019.26 462.55 1019.26 Q456.74 1019.26 453.661 1014.67 Q450.606 1010.07 450.606 1001.34 Q450.606 992.589 453.661 988.006 Q456.74 983.4 462.55 983.4 Z\" fill=\"#000000\" fill-rule=\"evenodd\" fill-opacity=\"1\" /><path clip-path=\"url(#clip820)\" d=\"M 0 0 M492.712 987.103 Q489.101 987.103 487.272 990.668 Q485.466 994.21 485.466 1001.34 Q485.466 1008.45 487.272 1012.01 Q489.101 1015.55 492.712 1015.55 Q496.346 1015.55 498.152 1012.01 Q499.98 1008.45 499.98 1001.34 Q499.98 994.21 498.152 990.668 Q496.346 987.103 492.712 987.103 M492.712 983.4 Q498.522 983.4 501.578 988.006 Q504.656 992.589 504.656 1001.34 Q504.656 1010.07 501.578 1014.67 Q498.522 1019.26 492.712 1019.26 Q486.902 1019.26 483.823 1014.67 Q480.767 1010.07 480.767 1001.34 Q480.767 992.589 483.823 988.006 Q486.902 983.4 492.712 983.4 Z\" fill=\"#000000\" fill-rule=\"evenodd\" fill-opacity=\"1\" /><path clip-path=\"url(#clip820)\" d=\"M 0 0 M731.414 1017.87 L731.414 1013.61 Q733.173 1014.44 734.979 1014.88 Q736.785 1015.32 738.521 1015.32 Q743.15 1015.32 745.581 1012.22 Q748.034 1009.09 748.382 1002.75 Q747.039 1004.74 744.979 1005.81 Q742.919 1006.87 740.419 1006.87 Q735.234 1006.87 732.201 1003.75 Q729.192 1000.6 729.192 995.159 Q729.192 989.835 732.34 986.617 Q735.488 983.4 740.72 983.4 Q746.715 983.4 749.863 988.006 Q753.034 992.589 753.034 1001.34 Q753.034 1009.51 749.146 1014.39 Q745.28 1019.26 738.729 1019.26 Q736.97 1019.26 735.164 1018.91 Q733.359 1018.56 731.414 1017.87 M740.72 1003.21 Q743.868 1003.21 745.697 1001.06 Q747.548 998.909 747.548 995.159 Q747.548 991.432 745.697 989.279 Q743.868 987.103 740.72 987.103 Q737.572 987.103 735.72 989.279 Q733.891 991.432 733.891 995.159 Q733.891 998.909 735.72 1001.06 Q737.572 1003.21 740.72 1003.21 Z\" fill=\"#000000\" fill-rule=\"evenodd\" fill-opacity=\"1\" /><path clip-path=\"url(#clip820)\" d=\"M 0 0 M771.437 987.103 Q767.826 987.103 765.997 990.668 Q764.192 994.21 764.192 1001.34 Q764.192 1008.45 765.997 1012.01 Q767.826 1015.55 771.437 1015.55 Q775.071 1015.55 776.877 1012.01 Q778.706 1008.45 778.706 1001.34 Q778.706 994.21 776.877 990.668 Q775.071 987.103 771.437 987.103 M771.437 983.4 Q777.247 983.4 780.303 988.006 Q783.381 992.589 783.381 1001.34 Q783.381 1010.07 780.303 1014.67 Q777.247 1019.26 771.437 1019.26 Q765.627 1019.26 762.548 1014.67 Q759.493 1010.07 759.493 1001.34 Q759.493 992.589 762.548 988.006 Q765.627 983.4 771.437 983.4 Z\" fill=\"#000000\" fill-rule=\"evenodd\" fill-opacity=\"1\" /><path clip-path=\"url(#clip820)\" d=\"M 0 0 M801.599 987.103 Q797.988 987.103 796.159 990.668 Q794.354 994.21 794.354 1001.34 Q794.354 1008.45 796.159 1012.01 Q797.988 1015.55 801.599 1015.55 Q805.233 1015.55 807.039 1012.01 Q808.867 1008.45 808.867 1001.34 Q808.867 994.21 807.039 990.668 Q805.233 987.103 801.599 987.103 M801.599 983.4 Q807.409 983.4 810.465 988.006 Q813.543 992.589 813.543 1001.34 Q813.543 1010.07 810.465 1014.67 Q807.409 1019.26 801.599 1019.26 Q795.789 1019.26 792.71 1014.67 Q789.655 1010.07 789.655 1001.34 Q789.655 992.589 792.71 988.006 Q795.789 983.4 801.599 983.4 Z\" fill=\"#000000\" fill-rule=\"evenodd\" fill-opacity=\"1\" /><path clip-path=\"url(#clip820)\" d=\"M 0 0 M1024.62 1014.65 L1032.26 1014.65 L1032.26 988.284 L1023.95 989.951 L1023.95 985.691 L1032.21 984.025 L1036.89 984.025 L1036.89 1014.65 L1044.53 1014.65 L1044.53 1018.58 L1024.62 1018.58 L1024.62 1014.65 Z\" fill=\"#000000\" fill-rule=\"evenodd\" fill-opacity=\"1\" /><path clip-path=\"url(#clip820)\" d=\"M 0 0 M1058 1014.65 L1074.32 1014.65 L1074.32 1018.58 L1052.37 1018.58 L1052.37 1014.65 Q1055.04 1011.89 1059.62 1007.27 Q1064.22 1002.61 1065.41 1001.27 Q1067.65 998.747 1068.53 997.011 Q1069.43 995.251 1069.43 993.562 Q1069.43 990.807 1067.49 989.071 Q1065.57 987.335 1062.47 987.335 Q1060.27 987.335 1057.81 988.099 Q1055.38 988.863 1052.6 990.413 L1052.6 985.691 Q1055.43 984.557 1057.88 983.978 Q1060.34 983.4 1062.37 983.4 Q1067.74 983.4 1070.94 986.085 Q1074.13 988.77 1074.13 993.261 Q1074.13 995.39 1073.32 997.312 Q1072.53 999.21 1070.43 1001.8 Q1069.85 1002.47 1066.75 1005.69 Q1063.65 1008.89 1058 1014.65 Z\" fill=\"#000000\" fill-rule=\"evenodd\" fill-opacity=\"1\" /><path clip-path=\"url(#clip820)\" d=\"M 0 0 M1094.13 987.103 Q1090.52 987.103 1088.69 990.668 Q1086.89 994.21 1086.89 1001.34 Q1086.89 1008.45 1088.69 1012.01 Q1090.52 1015.55 1094.13 1015.55 Q1097.77 1015.55 1099.57 1012.01 Q1101.4 1008.45 1101.4 1001.34 Q1101.4 994.21 1099.57 990.668 Q1097.77 987.103 1094.13 987.103 M1094.13 983.4 Q1099.94 983.4 1103 988.006 Q1106.08 992.589 1106.08 1001.34 Q1106.08 1010.07 1103 1014.67 Q1099.94 1019.26 1094.13 1019.26 Q1088.32 1019.26 1085.24 1014.67 Q1082.19 1010.07 1082.19 1001.34 Q1082.19 992.589 1085.24 988.006 Q1088.32 983.4 1094.13 983.4 Z\" fill=\"#000000\" fill-rule=\"evenodd\" fill-opacity=\"1\" /><path clip-path=\"url(#clip820)\" d=\"M 0 0 M1124.29 987.103 Q1120.68 987.103 1118.85 990.668 Q1117.05 994.21 1117.05 1001.34 Q1117.05 1008.45 1118.85 1012.01 Q1120.68 1015.55 1124.29 1015.55 Q1127.93 1015.55 1129.73 1012.01 Q1131.56 1008.45 1131.56 1001.34 Q1131.56 994.21 1129.73 990.668 Q1127.93 987.103 1124.29 987.103 M1124.29 983.4 Q1130.1 983.4 1133.16 988.006 Q1136.24 992.589 1136.24 1001.34 Q1136.24 1010.07 1133.16 1014.67 Q1130.1 1019.26 1124.29 1019.26 Q1118.48 1019.26 1115.41 1014.67 Q1112.35 1010.07 1112.35 1001.34 Q1112.35 992.589 1115.41 988.006 Q1118.48 983.4 1124.29 983.4 Z\" fill=\"#000000\" fill-rule=\"evenodd\" fill-opacity=\"1\" /><path clip-path=\"url(#clip820)\" d=\"M 0 0 M1333.34 1014.65 L1340.98 1014.65 L1340.98 988.284 L1332.67 989.951 L1332.67 985.691 L1340.94 984.025 L1345.61 984.025 L1345.61 1014.65 L1353.25 1014.65 L1353.25 1018.58 L1333.34 1018.58 L1333.34 1014.65 Z\" fill=\"#000000\" fill-rule=\"evenodd\" fill-opacity=\"1\" /><path clip-path=\"url(#clip820)\" d=\"M 0 0 M1362.74 984.025 L1381.1 984.025 L1381.1 987.96 L1367.02 987.96 L1367.02 996.432 Q1368.04 996.085 1369.06 995.923 Q1370.08 995.738 1371.1 995.738 Q1376.89 995.738 1380.26 998.909 Q1383.64 1002.08 1383.64 1007.5 Q1383.64 1013.08 1380.17 1016.18 Q1376.7 1019.26 1370.38 1019.26 Q1368.2 1019.26 1365.94 1018.89 Q1363.69 1018.52 1361.28 1017.77 L1361.28 1013.08 Q1363.37 1014.21 1365.59 1014.77 Q1367.81 1015.32 1370.29 1015.32 Q1374.29 1015.32 1376.63 1013.21 Q1378.97 1011.11 1378.97 1007.5 Q1378.97 1003.89 1376.63 1001.78 Q1374.29 999.673 1370.29 999.673 Q1368.41 999.673 1366.54 1000.09 Q1364.69 1000.51 1362.74 1001.39 L1362.74 984.025 Z\" fill=\"#000000\" fill-rule=\"evenodd\" fill-opacity=\"1\" /><path clip-path=\"url(#clip820)\" d=\"M 0 0 M1402.86 987.103 Q1399.25 987.103 1397.42 990.668 Q1395.61 994.21 1395.61 1001.34 Q1395.61 1008.45 1397.42 1012.01 Q1399.25 1015.55 1402.86 1015.55 Q1406.49 1015.55 1408.3 1012.01 Q1410.13 1008.45 1410.13 1001.34 Q1410.13 994.21 1408.3 990.668 Q1406.49 987.103 1402.86 987.103 M1402.86 983.4 Q1408.67 983.4 1411.72 988.006 Q1414.8 992.589 1414.8 1001.34 Q1414.8 1010.07 1411.72 1014.67 Q1408.67 1019.26 1402.86 1019.26 Q1397.05 1019.26 1393.97 1014.67 Q1390.91 1010.07 1390.91 1001.34 Q1390.91 992.589 1393.97 988.006 Q1397.05 983.4 1402.86 983.4 Z\" fill=\"#000000\" fill-rule=\"evenodd\" fill-opacity=\"1\" /><path clip-path=\"url(#clip820)\" d=\"M 0 0 M1433.02 987.103 Q1429.41 987.103 1427.58 990.668 Q1425.77 994.21 1425.77 1001.34 Q1425.77 1008.45 1427.58 1012.01 Q1429.41 1015.55 1433.02 1015.55 Q1436.65 1015.55 1438.46 1012.01 Q1440.29 1008.45 1440.29 1001.34 Q1440.29 994.21 1438.46 990.668 Q1436.65 987.103 1433.02 987.103 M1433.02 983.4 Q1438.83 983.4 1441.88 988.006 Q1444.96 992.589 1444.96 1001.34 Q1444.96 1010.07 1441.88 1014.67 Q1438.83 1019.26 1433.02 1019.26 Q1427.21 1019.26 1424.13 1014.67 Q1421.07 1010.07 1421.07 1001.34 Q1421.07 992.589 1424.13 988.006 Q1427.21 983.4 1433.02 983.4 Z\" fill=\"#000000\" fill-rule=\"evenodd\" fill-opacity=\"1\" /><path clip-path=\"url(#clip820)\" d=\"M 0 0 M1642.07 1014.65 L1649.71 1014.65 L1649.71 988.284 L1641.4 989.951 L1641.4 985.691 L1649.66 984.025 L1654.34 984.025 L1654.34 1014.65 L1661.98 1014.65 L1661.98 1018.58 L1642.07 1018.58 L1642.07 1014.65 Z\" fill=\"#000000\" fill-rule=\"evenodd\" fill-opacity=\"1\" /><path clip-path=\"url(#clip820)\" d=\"M 0 0 M1681.42 1002.17 Q1678.09 1002.17 1676.17 1003.96 Q1674.27 1005.74 1674.27 1008.86 Q1674.27 1011.99 1676.17 1013.77 Q1678.09 1015.55 1681.42 1015.55 Q1684.75 1015.55 1686.68 1013.77 Q1688.6 1011.96 1688.6 1008.86 Q1688.6 1005.74 1686.68 1003.96 Q1684.78 1002.17 1681.42 1002.17 M1676.74 1000.18 Q1673.74 999.441 1672.05 997.381 Q1670.38 995.321 1670.38 992.358 Q1670.38 988.214 1673.32 985.807 Q1676.28 983.4 1681.42 983.4 Q1686.58 983.4 1689.52 985.807 Q1692.46 988.214 1692.46 992.358 Q1692.46 995.321 1690.77 997.381 Q1689.11 999.441 1686.12 1000.18 Q1689.5 1000.97 1691.37 1003.26 Q1693.27 1005.55 1693.27 1008.86 Q1693.27 1013.89 1690.19 1016.57 Q1687.14 1019.26 1681.42 1019.26 Q1675.7 1019.26 1672.62 1016.57 Q1669.57 1013.89 1669.57 1008.86 Q1669.57 1005.55 1671.47 1003.26 Q1673.37 1000.97 1676.74 1000.18 M1675.03 992.798 Q1675.03 995.483 1676.7 996.988 Q1678.39 998.492 1681.42 998.492 Q1684.43 998.492 1686.12 996.988 Q1687.83 995.483 1687.83 992.798 Q1687.83 990.113 1686.12 988.608 Q1684.43 987.103 1681.42 987.103 Q1678.39 987.103 1676.7 988.608 Q1675.03 990.113 1675.03 992.798 Z\" fill=\"#000000\" fill-rule=\"evenodd\" fill-opacity=\"1\" /><path clip-path=\"url(#clip820)\" d=\"M 0 0 M1711.58 987.103 Q1707.97 987.103 1706.14 990.668 Q1704.34 994.21 1704.34 1001.34 Q1704.34 1008.45 1706.14 1012.01 Q1707.97 1015.55 1711.58 1015.55 Q1715.22 1015.55 1717.02 1012.01 Q1718.85 1008.45 1718.85 1001.34 Q1718.85 994.21 1717.02 990.668 Q1715.22 987.103 1711.58 987.103 M1711.58 983.4 Q1717.39 983.4 1720.45 988.006 Q1723.53 992.589 1723.53 1001.34 Q1723.53 1010.07 1720.45 1014.67 Q1717.39 1019.26 1711.58 1019.26 Q1705.77 1019.26 1702.69 1014.67 Q1699.64 1010.07 1699.64 1001.34 Q1699.64 992.589 1702.69 988.006 Q1705.77 983.4 1711.58 983.4 Z\" fill=\"#000000\" fill-rule=\"evenodd\" fill-opacity=\"1\" /><path clip-path=\"url(#clip820)\" d=\"M 0 0 M1741.74 987.103 Q1738.13 987.103 1736.3 990.668 Q1734.5 994.21 1734.5 1001.34 Q1734.5 1008.45 1736.3 1012.01 Q1738.13 1015.55 1741.74 1015.55 Q1745.38 1015.55 1747.18 1012.01 Q1749.01 1008.45 1749.01 1001.34 Q1749.01 994.21 1747.18 990.668 Q1745.38 987.103 1741.74 987.103 M1741.74 983.4 Q1747.55 983.4 1750.61 988.006 Q1753.69 992.589 1753.69 1001.34 Q1753.69 1010.07 1750.61 1014.67 Q1747.55 1019.26 1741.74 1019.26 Q1735.93 1019.26 1732.86 1014.67 Q1729.8 1010.07 1729.8 1001.34 Q1729.8 992.589 1732.86 988.006 Q1735.93 983.4 1741.74 983.4 Z\" fill=\"#000000\" fill-rule=\"evenodd\" fill-opacity=\"1\" /><path clip-path=\"url(#clip820)\" d=\"M 0 0 M1019.25 1054.21 L1019.25 1064.33 L1031.32 1064.33 L1031.32 1068.88 L1019.25 1068.88 L1019.25 1088.23 Q1019.25 1092.59 1020.43 1093.83 Q1021.64 1095.08 1025.3 1095.08 L1031.32 1095.08 L1031.32 1099.98 L1025.3 1099.98 Q1018.52 1099.98 1015.94 1097.46 Q1013.36 1094.92 1013.36 1088.23 L1013.36 1068.88 L1009.07 1068.88 L1009.07 1064.33 L1013.36 1064.33 L1013.36 1054.21 L1019.25 1054.21 Z\" fill=\"#000000\" fill-rule=\"evenodd\" fill-opacity=\"1\" /><path clip-path=\"url(#clip820)\" d=\"M 0 0 M1039.02 1064.33 L1044.87 1064.33 L1044.87 1099.98 L1039.02 1099.98 L1039.02 1064.33 M1039.02 1050.45 L1044.87 1050.45 L1044.87 1057.87 L1039.02 1057.87 L1039.02 1050.45 Z\" fill=\"#000000\" fill-rule=\"evenodd\" fill-opacity=\"1\" /><path clip-path=\"url(#clip820)\" d=\"M 0 0 M1084.88 1071.17 Q1087.08 1067.23 1090.13 1065.35 Q1093.19 1063.47 1097.33 1063.47 Q1102.9 1063.47 1105.92 1067.38 Q1108.95 1071.27 1108.95 1078.46 L1108.95 1099.98 L1103.06 1099.98 L1103.06 1078.65 Q1103.06 1073.53 1101.24 1071.04 Q1099.43 1068.56 1095.7 1068.56 Q1091.15 1068.56 1088.51 1071.59 Q1085.87 1074.61 1085.87 1079.83 L1085.87 1099.98 L1079.98 1099.98 L1079.98 1078.65 Q1079.98 1073.5 1078.17 1071.04 Q1076.35 1068.56 1072.57 1068.56 Q1068.08 1068.56 1065.44 1071.62 Q1062.79 1074.64 1062.79 1079.83 L1062.79 1099.98 L1056.91 1099.98 L1056.91 1064.33 L1062.79 1064.33 L1062.79 1069.87 Q1064.8 1066.59 1067.6 1065.03 Q1070.4 1063.47 1074.25 1063.47 Q1078.14 1063.47 1080.84 1065.44 Q1083.58 1067.42 1084.88 1071.17 Z\" fill=\"#000000\" fill-rule=\"evenodd\" fill-opacity=\"1\" /><path clip-path=\"url(#clip820)\" d=\"M 0 0 M1151.12 1080.69 L1151.12 1083.55 L1124.19 1083.55 Q1124.57 1089.6 1127.82 1092.78 Q1131.1 1095.93 1136.92 1095.93 Q1140.3 1095.93 1143.45 1095.11 Q1146.63 1094.28 1149.75 1092.62 L1149.75 1098.16 Q1146.6 1099.5 1143.29 1100.2 Q1139.98 1100.9 1136.57 1100.9 Q1128.04 1100.9 1123.05 1095.93 Q1118.08 1090.97 1118.08 1082.5 Q1118.08 1073.75 1122.79 1068.63 Q1127.53 1063.47 1135.55 1063.47 Q1142.75 1063.47 1146.92 1068.12 Q1151.12 1072.73 1151.12 1080.69 M1145.26 1078.97 Q1145.2 1074.16 1142.56 1071.3 Q1139.95 1068.43 1135.62 1068.43 Q1130.72 1068.43 1127.76 1071.2 Q1124.83 1073.97 1124.38 1079 L1145.26 1078.97 Z\" fill=\"#000000\" fill-rule=\"evenodd\" fill-opacity=\"1\" /><polyline clip-path=\"url(#clip822)\" style=\"stroke:#000000; stroke-width:2; stroke-opacity:0.1; fill:none\" points=\"\n",
       "  207.43,845.711 1952.76,845.711 \n",
       "  \"/>\n",
       "<polyline clip-path=\"url(#clip822)\" style=\"stroke:#000000; stroke-width:2; stroke-opacity:0.1; fill:none\" points=\"\n",
       "  207.43,723.577 1952.76,723.577 \n",
       "  \"/>\n",
       "<polyline clip-path=\"url(#clip822)\" style=\"stroke:#000000; stroke-width:2; stroke-opacity:0.1; fill:none\" points=\"\n",
       "  207.43,601.442 1952.76,601.442 \n",
       "  \"/>\n",
       "<polyline clip-path=\"url(#clip822)\" style=\"stroke:#000000; stroke-width:2; stroke-opacity:0.1; fill:none\" points=\"\n",
       "  207.43,479.308 1952.76,479.308 \n",
       "  \"/>\n",
       "<polyline clip-path=\"url(#clip822)\" style=\"stroke:#000000; stroke-width:2; stroke-opacity:0.1; fill:none\" points=\"\n",
       "  207.43,357.173 1952.76,357.173 \n",
       "  \"/>\n",
       "<polyline clip-path=\"url(#clip822)\" style=\"stroke:#000000; stroke-width:2; stroke-opacity:0.1; fill:none\" points=\"\n",
       "  207.43,235.038 1952.76,235.038 \n",
       "  \"/>\n",
       "<polyline clip-path=\"url(#clip820)\" style=\"stroke:#000000; stroke-width:4; stroke-opacity:1; fill:none\" points=\"\n",
       "  207.43,961.113 207.43,113.795 \n",
       "  \"/>\n",
       "<polyline clip-path=\"url(#clip820)\" style=\"stroke:#000000; stroke-width:4; stroke-opacity:1; fill:none\" points=\"\n",
       "  207.43,845.711 228.374,845.711 \n",
       "  \"/>\n",
       "<polyline clip-path=\"url(#clip820)\" style=\"stroke:#000000; stroke-width:4; stroke-opacity:1; fill:none\" points=\"\n",
       "  207.43,723.577 228.374,723.577 \n",
       "  \"/>\n",
       "<polyline clip-path=\"url(#clip820)\" style=\"stroke:#000000; stroke-width:4; stroke-opacity:1; fill:none\" points=\"\n",
       "  207.43,601.442 228.374,601.442 \n",
       "  \"/>\n",
       "<polyline clip-path=\"url(#clip820)\" style=\"stroke:#000000; stroke-width:4; stroke-opacity:1; fill:none\" points=\"\n",
       "  207.43,479.308 228.374,479.308 \n",
       "  \"/>\n",
       "<polyline clip-path=\"url(#clip820)\" style=\"stroke:#000000; stroke-width:4; stroke-opacity:1; fill:none\" points=\"\n",
       "  207.43,357.173 228.374,357.173 \n",
       "  \"/>\n",
       "<polyline clip-path=\"url(#clip820)\" style=\"stroke:#000000; stroke-width:4; stroke-opacity:1; fill:none\" points=\"\n",
       "  207.43,235.038 228.374,235.038 \n",
       "  \"/>\n",
       "<path clip-path=\"url(#clip820)\" d=\"M 0 0 M121.249 831.51 Q117.638 831.51 115.81 835.075 Q114.004 838.616 114.004 845.746 Q114.004 852.852 115.81 856.417 Q117.638 859.959 121.249 859.959 Q124.884 859.959 126.689 856.417 Q128.518 852.852 128.518 845.746 Q128.518 838.616 126.689 835.075 Q124.884 831.51 121.249 831.51 M121.249 827.806 Q127.06 827.806 130.115 832.413 Q133.194 836.996 133.194 845.746 Q133.194 854.473 130.115 859.079 Q127.06 863.663 121.249 863.663 Q115.439 863.663 112.361 859.079 Q109.305 854.473 109.305 845.746 Q109.305 836.996 112.361 832.413 Q115.439 827.806 121.249 827.806 Z\" fill=\"#000000\" fill-rule=\"evenodd\" fill-opacity=\"1\" /><path clip-path=\"url(#clip820)\" d=\"M 0 0 M141.411 857.112 L146.296 857.112 L146.296 862.991 L141.411 862.991 L141.411 857.112 Z\" fill=\"#000000\" fill-rule=\"evenodd\" fill-opacity=\"1\" /><path clip-path=\"url(#clip820)\" d=\"M 0 0 M156.527 828.431 L174.883 828.431 L174.883 832.366 L160.809 832.366 L160.809 840.839 Q161.828 840.491 162.846 840.329 Q163.865 840.144 164.884 840.144 Q170.671 840.144 174.05 843.315 Q177.43 846.487 177.43 851.903 Q177.43 857.482 173.958 860.584 Q170.485 863.663 164.166 863.663 Q161.99 863.663 159.721 863.292 Q157.476 862.922 155.069 862.181 L155.069 857.482 Q157.152 858.616 159.374 859.172 Q161.596 859.727 164.073 859.727 Q168.078 859.727 170.416 857.621 Q172.754 855.514 172.754 851.903 Q172.754 848.292 170.416 846.186 Q168.078 844.079 164.073 844.079 Q162.198 844.079 160.323 844.496 Q158.472 844.913 156.527 845.792 L156.527 828.431 Z\" fill=\"#000000\" fill-rule=\"evenodd\" fill-opacity=\"1\" /><path clip-path=\"url(#clip820)\" d=\"M 0 0 M111.064 736.922 L118.703 736.922 L118.703 710.556 L110.393 712.223 L110.393 707.963 L118.657 706.297 L123.333 706.297 L123.333 736.922 L130.972 736.922 L130.972 740.857 L111.064 740.857 L111.064 736.922 Z\" fill=\"#000000\" fill-rule=\"evenodd\" fill-opacity=\"1\" /><path clip-path=\"url(#clip820)\" d=\"M 0 0 M140.416 734.977 L145.3 734.977 L145.3 740.857 L140.416 740.857 L140.416 734.977 Z\" fill=\"#000000\" fill-rule=\"evenodd\" fill-opacity=\"1\" /><path clip-path=\"url(#clip820)\" d=\"M 0 0 M165.485 709.375 Q161.874 709.375 160.046 712.94 Q158.24 716.482 158.24 723.611 Q158.24 730.718 160.046 734.283 Q161.874 737.824 165.485 737.824 Q169.12 737.824 170.925 734.283 Q172.754 730.718 172.754 723.611 Q172.754 716.482 170.925 712.94 Q169.12 709.375 165.485 709.375 M165.485 705.672 Q171.296 705.672 174.351 710.278 Q177.43 714.862 177.43 723.611 Q177.43 732.338 174.351 736.945 Q171.296 741.528 165.485 741.528 Q159.675 741.528 156.597 736.945 Q153.541 732.338 153.541 723.611 Q153.541 714.862 156.597 710.278 Q159.675 705.672 165.485 705.672 Z\" fill=\"#000000\" fill-rule=\"evenodd\" fill-opacity=\"1\" /><path clip-path=\"url(#clip820)\" d=\"M 0 0 M112.06 614.787 L119.699 614.787 L119.699 588.421 L111.388 590.088 L111.388 585.829 L119.652 584.162 L124.328 584.162 L124.328 614.787 L131.967 614.787 L131.967 618.722 L112.06 618.722 L112.06 614.787 Z\" fill=\"#000000\" fill-rule=\"evenodd\" fill-opacity=\"1\" /><path clip-path=\"url(#clip820)\" d=\"M 0 0 M141.411 612.843 L146.296 612.843 L146.296 618.722 L141.411 618.722 L141.411 612.843 Z\" fill=\"#000000\" fill-rule=\"evenodd\" fill-opacity=\"1\" /><path clip-path=\"url(#clip820)\" d=\"M 0 0 M156.527 584.162 L174.883 584.162 L174.883 588.097 L160.809 588.097 L160.809 596.57 Q161.828 596.222 162.846 596.06 Q163.865 595.875 164.884 595.875 Q170.671 595.875 174.05 599.046 Q177.43 602.218 177.43 607.634 Q177.43 613.213 173.958 616.315 Q170.485 619.393 164.166 619.393 Q161.99 619.393 159.721 619.023 Q157.476 618.653 155.069 617.912 L155.069 613.213 Q157.152 614.347 159.374 614.903 Q161.596 615.458 164.073 615.458 Q168.078 615.458 170.416 613.352 Q172.754 611.245 172.754 607.634 Q172.754 604.023 170.416 601.917 Q168.078 599.81 164.073 599.81 Q162.198 599.81 160.323 600.227 Q158.472 600.644 156.527 601.523 L156.527 584.162 Z\" fill=\"#000000\" fill-rule=\"evenodd\" fill-opacity=\"1\" /><path clip-path=\"url(#clip820)\" d=\"M 0 0 M114.282 492.652 L130.601 492.652 L130.601 496.588 L108.657 496.588 L108.657 492.652 Q111.319 489.898 115.902 485.268 Q120.509 480.615 121.689 479.273 Q123.935 476.75 124.814 475.014 Q125.717 473.254 125.717 471.565 Q125.717 468.81 123.773 467.074 Q121.851 465.338 118.749 465.338 Q116.55 465.338 114.097 466.102 Q111.666 466.866 108.888 468.416 L108.888 463.694 Q111.712 462.56 114.166 461.981 Q116.62 461.403 118.657 461.403 Q124.027 461.403 127.222 464.088 Q130.416 466.773 130.416 471.264 Q130.416 473.393 129.606 475.315 Q128.819 477.213 126.712 479.805 Q126.134 480.477 123.032 483.694 Q119.93 486.889 114.282 492.652 Z\" fill=\"#000000\" fill-rule=\"evenodd\" fill-opacity=\"1\" /><path clip-path=\"url(#clip820)\" d=\"M 0 0 M140.416 490.708 L145.3 490.708 L145.3 496.588 L140.416 496.588 L140.416 490.708 Z\" fill=\"#000000\" fill-rule=\"evenodd\" fill-opacity=\"1\" /><path clip-path=\"url(#clip820)\" d=\"M 0 0 M165.485 465.106 Q161.874 465.106 160.046 468.671 Q158.24 472.213 158.24 479.342 Q158.24 486.449 160.046 490.014 Q161.874 493.555 165.485 493.555 Q169.12 493.555 170.925 490.014 Q172.754 486.449 172.754 479.342 Q172.754 472.213 170.925 468.671 Q169.12 465.106 165.485 465.106 M165.485 461.403 Q171.296 461.403 174.351 466.009 Q177.43 470.592 177.43 479.342 Q177.43 488.069 174.351 492.676 Q171.296 497.259 165.485 497.259 Q159.675 497.259 156.597 492.676 Q153.541 488.069 153.541 479.342 Q153.541 470.592 156.597 466.009 Q159.675 461.403 165.485 461.403 Z\" fill=\"#000000\" fill-rule=\"evenodd\" fill-opacity=\"1\" /><path clip-path=\"url(#clip820)\" d=\"M 0 0 M115.277 370.518 L131.597 370.518 L131.597 374.453 L109.652 374.453 L109.652 370.518 Q112.314 367.763 116.898 363.134 Q121.504 358.481 122.685 357.138 Q124.93 354.615 125.81 352.879 Q126.712 351.12 126.712 349.43 Q126.712 346.675 124.768 344.939 Q122.847 343.203 119.745 343.203 Q117.546 343.203 115.092 343.967 Q112.662 344.731 109.884 346.282 L109.884 341.56 Q112.708 340.425 115.162 339.847 Q117.615 339.268 119.652 339.268 Q125.023 339.268 128.217 341.953 Q131.411 344.638 131.411 349.129 Q131.411 351.259 130.601 353.18 Q129.814 355.078 127.708 357.671 Q127.129 358.342 124.027 361.56 Q120.925 364.754 115.277 370.518 Z\" fill=\"#000000\" fill-rule=\"evenodd\" fill-opacity=\"1\" /><path clip-path=\"url(#clip820)\" d=\"M 0 0 M141.411 368.573 L146.296 368.573 L146.296 374.453 L141.411 374.453 L141.411 368.573 Z\" fill=\"#000000\" fill-rule=\"evenodd\" fill-opacity=\"1\" /><path clip-path=\"url(#clip820)\" d=\"M 0 0 M156.527 339.893 L174.883 339.893 L174.883 343.828 L160.809 343.828 L160.809 352.3 Q161.828 351.953 162.846 351.791 Q163.865 351.606 164.884 351.606 Q170.671 351.606 174.05 354.777 Q177.43 357.948 177.43 363.365 Q177.43 368.944 173.958 372.046 Q170.485 375.124 164.166 375.124 Q161.99 375.124 159.721 374.754 Q157.476 374.384 155.069 373.643 L155.069 368.944 Q157.152 370.078 159.374 370.634 Q161.596 371.189 164.073 371.189 Q168.078 371.189 170.416 369.083 Q172.754 366.976 172.754 363.365 Q172.754 359.754 170.416 357.648 Q168.078 355.541 164.073 355.541 Q162.198 355.541 160.323 355.958 Q158.472 356.374 156.527 357.254 L156.527 339.893 Z\" fill=\"#000000\" fill-rule=\"evenodd\" fill-opacity=\"1\" /><path clip-path=\"url(#clip820)\" d=\"M 0 0 M124.421 233.684 Q127.777 234.402 129.652 236.67 Q131.55 238.939 131.55 242.272 Q131.55 247.388 128.032 250.189 Q124.513 252.99 118.032 252.99 Q115.856 252.99 113.541 252.55 Q111.25 252.133 108.796 251.277 L108.796 246.763 Q110.74 247.897 113.055 248.476 Q115.37 249.055 117.893 249.055 Q122.291 249.055 124.583 247.318 Q126.898 245.582 126.898 242.272 Q126.898 239.217 124.745 237.504 Q122.615 235.768 118.796 235.768 L114.768 235.768 L114.768 231.925 L118.981 231.925 Q122.43 231.925 124.259 230.559 Q126.087 229.17 126.087 226.578 Q126.087 223.916 124.189 222.504 Q122.314 221.069 118.796 221.069 Q116.875 221.069 114.675 221.485 Q112.476 221.902 109.838 222.782 L109.838 218.615 Q112.5 217.874 114.814 217.504 Q117.152 217.133 119.212 217.133 Q124.537 217.133 127.638 219.564 Q130.74 221.971 130.74 226.092 Q130.74 228.962 129.097 230.953 Q127.453 232.92 124.421 233.684 Z\" fill=\"#000000\" fill-rule=\"evenodd\" fill-opacity=\"1\" /><path clip-path=\"url(#clip820)\" d=\"M 0 0 M140.416 246.439 L145.3 246.439 L145.3 252.318 L140.416 252.318 L140.416 246.439 Z\" fill=\"#000000\" fill-rule=\"evenodd\" fill-opacity=\"1\" /><path clip-path=\"url(#clip820)\" d=\"M 0 0 M165.485 220.837 Q161.874 220.837 160.046 224.402 Q158.24 227.944 158.24 235.073 Q158.24 242.18 160.046 245.744 Q161.874 249.286 165.485 249.286 Q169.12 249.286 170.925 245.744 Q172.754 242.18 172.754 235.073 Q172.754 227.944 170.925 224.402 Q169.12 220.837 165.485 220.837 M165.485 217.133 Q171.296 217.133 174.351 221.74 Q177.43 226.323 177.43 235.073 Q177.43 243.8 174.351 248.406 Q171.296 252.99 165.485 252.99 Q159.675 252.99 156.597 248.406 Q153.541 243.8 153.541 235.073 Q153.541 226.323 156.597 221.74 Q159.675 217.133 165.485 217.133 Z\" fill=\"#000000\" fill-rule=\"evenodd\" fill-opacity=\"1\" /><path clip-path=\"url(#clip820)\" d=\"M 0 0 M45.1129 581.521 L47.9774 581.521 L47.9774 608.448 Q54.0249 608.066 57.2077 604.819 Q60.3587 601.541 60.3587 595.716 Q60.3587 592.342 59.5312 589.191 Q58.7037 586.008 57.0486 582.889 L62.5867 582.889 Q63.9235 586.04 64.6238 589.35 Q65.324 592.661 65.324 596.066 Q65.324 604.596 60.3587 609.593 Q55.3935 614.559 46.9271 614.559 Q38.1742 614.559 33.0499 609.848 Q27.8936 605.106 27.8936 597.085 Q27.8936 589.891 32.5406 585.722 Q37.1557 581.521 45.1129 581.521 M43.3941 587.377 Q38.588 587.441 35.7234 590.082 Q32.8589 592.692 32.8589 597.021 Q32.8589 601.923 35.628 604.883 Q38.397 607.811 43.426 608.257 L43.3941 587.377 Z\" fill=\"#000000\" fill-rule=\"evenodd\" fill-opacity=\"1\" /><path clip-path=\"url(#clip820)\" d=\"M 0 0 M34.2275 551.252 Q33.6546 552.238 33.4 553.416 Q33.1135 554.562 33.1135 555.962 Q33.1135 560.928 36.36 563.601 Q39.5747 566.243 45.6221 566.243 L64.401 566.243 L64.401 572.131 L28.753 572.131 L28.753 566.243 L34.2912 566.243 Q31.0447 564.397 29.4851 561.437 Q27.8936 558.477 27.8936 554.244 Q27.8936 553.639 27.9891 552.907 Q28.0528 552.175 28.2119 551.283 L34.2275 551.252 Z\" fill=\"#000000\" fill-rule=\"evenodd\" fill-opacity=\"1\" /><path clip-path=\"url(#clip820)\" d=\"M 0 0 M34.2275 525.598 Q33.6546 526.585 33.4 527.762 Q33.1135 528.908 33.1135 530.308 Q33.1135 535.274 36.36 537.947 Q39.5747 540.589 45.6221 540.589 L64.401 540.589 L64.401 546.477 L28.753 546.477 L28.753 540.589 L34.2912 540.589 Q31.0447 538.743 29.4851 535.783 Q27.8936 532.823 27.8936 528.59 Q27.8936 527.985 27.9891 527.253 Q28.0528 526.521 28.2119 525.63 L34.2275 525.598 Z\" fill=\"#000000\" fill-rule=\"evenodd\" fill-opacity=\"1\" /><path clip-path=\"url(#clip820)\" d=\"M 0 0 M32.8589 507.074 Q32.8589 511.784 36.551 514.522 Q40.2113 517.259 46.6088 517.259 Q53.0063 517.259 56.6985 514.553 Q60.3587 511.816 60.3587 507.074 Q60.3587 502.395 56.6666 499.658 Q52.9745 496.92 46.6088 496.92 Q40.2749 496.92 36.5828 499.658 Q32.8589 502.395 32.8589 507.074 M27.8936 507.074 Q27.8936 499.435 32.8589 495.074 Q37.8241 490.714 46.6088 490.714 Q55.3617 490.714 60.3587 495.074 Q65.324 499.435 65.324 507.074 Q65.324 514.744 60.3587 519.105 Q55.3617 523.434 46.6088 523.434 Q37.8241 523.434 32.8589 519.105 Q27.8936 514.744 27.8936 507.074 Z\" fill=\"#000000\" fill-rule=\"evenodd\" fill-opacity=\"1\" /><path clip-path=\"url(#clip820)\" d=\"M 0 0 M34.2275 460.349 Q33.6546 461.336 33.4 462.514 Q33.1135 463.66 33.1135 465.06 Q33.1135 470.025 36.36 472.699 Q39.5747 475.341 45.6221 475.341 L64.401 475.341 L64.401 481.229 L28.753 481.229 L28.753 475.341 L34.2912 475.341 Q31.0447 473.495 29.4851 470.534 Q27.8936 467.574 27.8936 463.341 Q27.8936 462.737 27.9891 462.004 Q28.0528 461.272 28.2119 460.381 L34.2275 460.349 Z\" fill=\"#000000\" fill-rule=\"evenodd\" fill-opacity=\"1\" /><path clip-path=\"url(#clip820)\" d=\"M 0 0 M894.804 34.0924 L894.804 9.54393 L902.258 9.54393 L902.258 72.576 L894.804 72.576 L894.804 65.7705 Q892.455 69.8214 888.85 71.8063 Q885.285 73.7508 880.262 73.7508 Q872.038 73.7508 866.853 67.1883 Q861.709 60.6258 861.709 49.9314 Q861.709 39.2371 866.853 32.6746 Q872.038 26.1121 880.262 26.1121 Q885.285 26.1121 888.85 28.0971 Q892.455 30.0415 894.804 34.0924 M869.405 49.9314 Q869.405 58.1548 872.768 62.8538 Q876.17 67.5124 882.085 67.5124 Q887.999 67.5124 891.402 62.8538 Q894.804 58.1548 894.804 49.9314 Q894.804 41.7081 891.402 37.0496 Q887.999 32.3505 882.085 32.3505 Q876.17 32.3505 872.768 37.0496 Q869.405 41.7081 869.405 49.9314 Z\" fill=\"#000000\" fill-rule=\"evenodd\" fill-opacity=\"1\" /><path clip-path=\"url(#clip820)\" d=\"M 0 0 M918.583 34.9026 L970.516 34.9026 L970.516 41.7081 L918.583 41.7081 L918.583 34.9026 M918.583 51.4303 L970.516 51.4303 L970.516 58.3168 L918.583 58.3168 L918.583 51.4303 Z\" fill=\"#000000\" fill-rule=\"evenodd\" fill-opacity=\"1\" /><path clip-path=\"url(#clip820)\" d=\"M 0 0 M1012.97 39.9662 Q1018.84 41.222 1022.12 45.1919 Q1025.45 49.1618 1025.45 54.9951 Q1025.45 63.9476 1019.29 68.8492 Q1013.13 73.7508 1001.79 73.7508 Q997.981 73.7508 993.93 72.9811 Q989.92 72.2519 985.626 70.7531 L985.626 62.8538 Q989.028 64.8388 993.079 65.8515 Q997.13 66.8642 1001.55 66.8642 Q1009.24 66.8642 1013.25 63.826 Q1017.3 60.7879 1017.3 54.9951 Q1017.3 49.6479 1013.54 46.6502 Q1009.81 43.612 1003.13 43.612 L996.077 43.612 L996.077 36.8875 L1003.45 36.8875 Q1009.49 36.8875 1012.69 34.4975 Q1015.89 32.067 1015.89 27.5299 Q1015.89 22.8714 1012.56 20.4004 Q1009.28 17.8888 1003.13 17.8888 Q999.763 17.8888 995.915 18.618 Q992.067 19.3471 987.449 20.8865 L987.449 13.5948 Q992.107 12.2985 996.158 11.6504 Q1000.25 11.0023 1003.85 11.0023 Q1013.17 11.0023 1018.6 15.2557 Q1024.03 19.4686 1024.03 26.6793 Q1024.03 31.7024 1021.15 35.1862 Q1018.28 38.6294 1012.97 39.9662 Z\" fill=\"#000000\" fill-rule=\"evenodd\" fill-opacity=\"1\" /><path clip-path=\"url(#clip820)\" d=\"M 0 0 M1041.81 62.2867 L1050.36 62.2867 L1050.36 69.2543 L1043.72 82.2172 L1038.49 82.2172 L1041.81 69.2543 L1041.81 62.2867 Z\" fill=\"#000000\" fill-rule=\"evenodd\" fill-opacity=\"1\" /><path clip-path=\"url(#clip820)\" d=\"M 0 0 M1092.97 12.096 L1101.16 12.096 L1101.16 65.6895 L1130.61 65.6895 L1130.61 72.576 L1092.97 72.576 L1092.97 12.096 Z\" fill=\"#000000\" fill-rule=\"evenodd\" fill-opacity=\"1\" /><path clip-path=\"url(#clip820)\" d=\"M 0 0 M1139.84 34.9026 L1191.78 34.9026 L1191.78 41.7081 L1139.84 41.7081 L1139.84 34.9026 M1139.84 51.4303 L1191.78 51.4303 L1191.78 58.3168 L1139.84 58.3168 L1139.84 51.4303 Z\" fill=\"#000000\" fill-rule=\"evenodd\" fill-opacity=\"1\" /><path clip-path=\"url(#clip820)\" d=\"M 0 0 M1226.94 43.8551 Q1221.1 43.8551 1217.74 46.9743 Q1214.42 50.0935 1214.42 55.5622 Q1214.42 61.0309 1217.74 64.1501 Q1221.1 67.2693 1226.94 67.2693 Q1232.77 67.2693 1236.13 64.1501 Q1239.5 60.9904 1239.5 55.5622 Q1239.5 50.0935 1236.13 46.9743 Q1232.81 43.8551 1226.94 43.8551 M1218.76 40.3713 Q1213.49 39.075 1210.53 35.4697 Q1207.62 31.8644 1207.62 26.6793 Q1207.62 19.4281 1212.76 15.2152 Q1217.95 11.0023 1226.94 11.0023 Q1235.97 11.0023 1241.12 15.2152 Q1246.26 19.4281 1246.26 26.6793 Q1246.26 31.8644 1243.3 35.4697 Q1240.39 39.075 1235.16 40.3713 Q1241.08 41.7486 1244.36 45.759 Q1247.68 49.7694 1247.68 55.5622 Q1247.68 64.3527 1242.29 69.0517 Q1236.94 73.7508 1226.94 73.7508 Q1216.93 73.7508 1211.54 69.0517 Q1206.2 64.3527 1206.2 55.5622 Q1206.2 49.7694 1209.52 45.759 Q1212.84 41.7486 1218.76 40.3713 M1215.76 27.4489 Q1215.76 32.148 1218.67 34.7811 Q1221.63 37.4142 1226.94 37.4142 Q1232.2 37.4142 1235.16 34.7811 Q1238.16 32.148 1238.16 27.4489 Q1238.16 22.7499 1235.16 20.1168 Q1232.2 17.4837 1226.94 17.4837 Q1221.63 17.4837 1218.67 20.1168 Q1215.76 22.7499 1215.76 27.4489 Z\" fill=\"#000000\" fill-rule=\"evenodd\" fill-opacity=\"1\" /><path clip-path=\"url(#clip820)\" d=\"M 0 0 M1263.64 65.6895 L1277.01 65.6895 L1277.01 19.5497 L1262.46 22.4663 L1262.46 15.0127 L1276.93 12.096 L1285.11 12.096 L1285.11 65.6895 L1298.48 65.6895 L1298.48 72.576 L1263.64 72.576 L1263.64 65.6895 Z\" fill=\"#000000\" fill-rule=\"evenodd\" fill-opacity=\"1\" /><polyline clip-path=\"url(#clip822)\" style=\"stroke:#009af9; stroke-width:8; stroke-opacity:1; fill:none\" points=\"\n",
       "  256.826,137.776 359.734,440.435 462.643,547.453 565.551,611.37 668.459,655.957 771.368,688.179 874.276,712.527 977.184,729.596 1080.09,747.061 1183,757.049 \n",
       "  1285.91,767.642 1388.82,776.86 1491.73,784.392 1594.63,791.338 1697.54,798.527 1800.45,804.631 1903.36,809.803 \n",
       "  \"/>\n",
       "<polyline clip-path=\"url(#clip822)\" style=\"stroke:#e26f46; stroke-width:8; stroke-opacity:1; fill:none\" points=\"\n",
       "  256.826,421.74 359.734,679.233 462.643,764.832 565.551,841.985 668.459,865.025 771.368,881.475 874.276,896.297 977.184,908.436 1080.09,917.076 1183,921.608 \n",
       "  1285.91,926.514 1388.82,929.121 1491.73,931.21 1594.63,932.235 1697.54,934.313 1800.45,935.892 1903.36,937.132 \n",
       "  \"/>\n",
       "<polyline clip-path=\"url(#clip822)\" style=\"stroke:#3da44d; stroke-width:8; stroke-opacity:1; fill:none\" points=\"\n",
       "  256.826,696.004 359.734,835.342 462.643,864.599 565.551,883.429 668.459,895.684 771.368,903.479 874.276,909.412 977.184,913.754 1080.09,919.038 1183,922.267 \n",
       "  1285.91,925.209 1388.82,926.16 1491.73,927.671 1594.63,928.947 1697.54,930.658 1800.45,931.97 1903.36,933.279 \n",
       "  \"/>\n",
       "<path clip-path=\"url(#clip820)\" d=\"\n",
       "M1350.35 383.959 L1894.58 383.959 L1894.58 142.039 L1350.35 142.039  Z\n",
       "  \" fill=\"#ffffff\" fill-rule=\"evenodd\" fill-opacity=\"1\"/>\n",
       "<polyline clip-path=\"url(#clip820)\" style=\"stroke:#000000; stroke-width:4; stroke-opacity:1; fill:none\" points=\"\n",
       "  1350.35,383.959 1894.58,383.959 1894.58,142.039 1350.35,142.039 1350.35,383.959 \n",
       "  \"/>\n",
       "<polyline clip-path=\"url(#clip820)\" style=\"stroke:#009af9; stroke-width:4; stroke-opacity:1; fill:none\" points=\"\n",
       "  1369.75,202.519 1486.1,202.519 \n",
       "  \"/>\n",
       "<path clip-path=\"url(#clip820)\" d=\"M 0 0 M1505.49 183.781 L1509.75 183.781 L1509.75 219.799 L1505.49 219.799 L1505.49 183.781 Z\" fill=\"#000000\" fill-rule=\"evenodd\" fill-opacity=\"1\" /><path clip-path=\"url(#clip820)\" d=\"M 0 0 M1540.84 205.772 L1540.84 207.855 L1521.26 207.855 Q1521.54 212.253 1523.9 214.568 Q1526.28 216.859 1530.52 216.859 Q1532.97 216.859 1535.26 216.258 Q1537.58 215.656 1539.85 214.452 L1539.85 218.48 Q1537.55 219.452 1535.15 219.961 Q1532.74 220.471 1530.26 220.471 Q1524.06 220.471 1520.42 216.859 Q1516.81 213.248 1516.81 207.091 Q1516.81 200.725 1520.24 196.998 Q1523.69 193.248 1529.52 193.248 Q1534.75 193.248 1537.79 196.628 Q1540.84 199.985 1540.84 205.772 M1536.58 204.522 Q1536.54 201.026 1534.61 198.943 Q1532.72 196.86 1529.57 196.86 Q1526 196.86 1523.85 198.873 Q1521.72 200.887 1521.4 204.545 L1536.58 204.522 Z\" fill=\"#000000\" fill-rule=\"evenodd\" fill-opacity=\"1\" /><path clip-path=\"url(#clip820)\" d=\"M 0 0 M1559.61 206.767 Q1554.45 206.767 1552.46 207.947 Q1550.47 209.128 1550.47 211.975 Q1550.47 214.244 1551.95 215.586 Q1553.46 216.906 1556.03 216.906 Q1559.57 216.906 1561.7 214.406 Q1563.85 211.883 1563.85 207.716 L1563.85 206.767 L1559.61 206.767 M1568.11 205.008 L1568.11 219.799 L1563.85 219.799 L1563.85 215.864 Q1562.39 218.225 1560.22 219.359 Q1558.04 220.471 1554.89 220.471 Q1550.91 220.471 1548.55 218.248 Q1546.21 216.003 1546.21 212.253 Q1546.21 207.878 1549.13 205.656 Q1552.07 203.434 1557.88 203.434 L1563.85 203.434 L1563.85 203.017 Q1563.85 200.077 1561.91 198.48 Q1559.98 196.86 1556.49 196.86 Q1554.27 196.86 1552.16 197.392 Q1550.05 197.924 1548.11 198.989 L1548.11 195.054 Q1550.45 194.151 1552.65 193.711 Q1554.85 193.248 1556.93 193.248 Q1562.55 193.248 1565.33 196.165 Q1568.11 199.082 1568.11 205.008 Z\" fill=\"#000000\" fill-rule=\"evenodd\" fill-opacity=\"1\" /><path clip-path=\"url(#clip820)\" d=\"M 0 0 M1593.41 194.637 L1593.41 198.665 Q1591.6 197.739 1589.66 197.276 Q1587.72 196.813 1585.63 196.813 Q1582.46 196.813 1580.86 197.785 Q1579.29 198.758 1579.29 200.702 Q1579.29 202.184 1580.42 203.04 Q1581.56 203.873 1584.98 204.637 L1586.44 204.961 Q1590.98 205.934 1592.88 207.716 Q1594.8 209.475 1594.8 212.646 Q1594.8 216.258 1591.93 218.364 Q1589.08 220.471 1584.08 220.471 Q1582 220.471 1579.73 220.054 Q1577.48 219.66 1574.98 218.85 L1574.98 214.452 Q1577.35 215.679 1579.64 216.304 Q1581.93 216.906 1584.17 216.906 Q1587.18 216.906 1588.8 215.887 Q1590.42 214.846 1590.42 212.971 Q1590.42 211.234 1589.24 210.309 Q1588.09 209.383 1584.13 208.526 L1582.65 208.179 Q1578.69 207.346 1576.93 205.633 Q1575.17 203.897 1575.17 200.887 Q1575.17 197.23 1577.76 195.239 Q1580.36 193.248 1585.12 193.248 Q1587.48 193.248 1589.57 193.596 Q1591.65 193.943 1593.41 194.637 Z\" fill=\"#000000\" fill-rule=\"evenodd\" fill-opacity=\"1\" /><path clip-path=\"url(#clip820)\" d=\"M 0 0 M1605.79 186.512 L1605.79 193.873 L1614.57 193.873 L1614.57 197.184 L1605.79 197.184 L1605.79 211.258 Q1605.79 214.429 1606.65 215.332 Q1607.53 216.234 1610.19 216.234 L1614.57 216.234 L1614.57 219.799 L1610.19 219.799 Q1605.26 219.799 1603.39 217.971 Q1601.51 216.119 1601.51 211.258 L1601.51 197.184 L1598.39 197.184 L1598.39 193.873 L1601.51 193.873 L1601.51 186.512 L1605.79 186.512 Z\" fill=\"#000000\" fill-rule=\"evenodd\" fill-opacity=\"1\" /><path clip-path=\"url(#clip820)\" d=\"M 0 0 M1651.77 194.637 L1651.77 198.665 Q1649.96 197.739 1648.02 197.276 Q1646.07 196.813 1643.99 196.813 Q1640.82 196.813 1639.22 197.785 Q1637.65 198.758 1637.65 200.702 Q1637.65 202.184 1638.78 203.04 Q1639.91 203.873 1643.34 204.637 L1644.8 204.961 Q1649.34 205.934 1651.23 207.716 Q1653.16 209.475 1653.16 212.646 Q1653.16 216.258 1650.29 218.364 Q1647.44 220.471 1642.44 220.471 Q1640.35 220.471 1638.09 220.054 Q1635.84 219.66 1633.34 218.85 L1633.34 214.452 Q1635.7 215.679 1637.99 216.304 Q1640.29 216.906 1642.53 216.906 Q1645.54 216.906 1647.16 215.887 Q1648.78 214.846 1648.78 212.971 Q1648.78 211.234 1647.6 210.309 Q1646.44 209.383 1642.48 208.526 L1641 208.179 Q1637.04 207.346 1635.29 205.633 Q1633.53 203.897 1633.53 200.887 Q1633.53 197.23 1636.12 195.239 Q1638.71 193.248 1643.48 193.248 Q1645.84 193.248 1647.92 193.596 Q1650.01 193.943 1651.77 194.637 Z\" fill=\"#000000\" fill-rule=\"evenodd\" fill-opacity=\"1\" /><path clip-path=\"url(#clip820)\" d=\"M 0 0 M1662.48 206.859 Q1662.48 211.559 1664.41 214.244 Q1666.35 216.906 1669.73 216.906 Q1673.11 216.906 1675.05 214.244 Q1677 211.559 1677 206.859 Q1677 202.16 1675.05 199.498 Q1673.11 196.813 1669.73 196.813 Q1666.35 196.813 1664.41 199.498 Q1662.48 202.16 1662.48 206.859 M1677 215.91 Q1675.66 218.225 1673.6 219.359 Q1671.56 220.471 1668.69 220.471 Q1663.99 220.471 1661.03 216.721 Q1658.09 212.971 1658.09 206.859 Q1658.09 200.748 1661.03 196.998 Q1663.99 193.248 1668.69 193.248 Q1671.56 193.248 1673.6 194.383 Q1675.66 195.494 1677 197.809 L1677 193.873 L1681.26 193.873 L1681.26 229.66 L1677 229.66 L1677 215.91 Z\" fill=\"#000000\" fill-rule=\"evenodd\" fill-opacity=\"1\" /><path clip-path=\"url(#clip820)\" d=\"M 0 0 M1689.59 209.568 L1689.59 193.873 L1693.85 193.873 L1693.85 209.406 Q1693.85 213.086 1695.28 214.938 Q1696.72 216.767 1699.59 216.767 Q1703.04 216.767 1705.03 214.568 Q1707.04 212.369 1707.04 208.572 L1707.04 193.873 L1711.3 193.873 L1711.3 219.799 L1707.04 219.799 L1707.04 215.818 Q1705.49 218.179 1703.43 219.336 Q1701.4 220.471 1698.69 220.471 Q1694.22 220.471 1691.91 217.693 Q1689.59 214.915 1689.59 209.568 M1700.31 193.248 L1700.31 193.248 Z\" fill=\"#000000\" fill-rule=\"evenodd\" fill-opacity=\"1\" /><path clip-path=\"url(#clip820)\" d=\"M 0 0 M1731.86 206.767 Q1726.7 206.767 1724.71 207.947 Q1722.72 209.128 1722.72 211.975 Q1722.72 214.244 1724.2 215.586 Q1725.7 216.906 1728.27 216.906 Q1731.81 216.906 1733.94 214.406 Q1736.09 211.883 1736.09 207.716 L1736.09 206.767 L1731.86 206.767 M1740.35 205.008 L1740.35 219.799 L1736.09 219.799 L1736.09 215.864 Q1734.64 218.225 1732.46 219.359 Q1730.28 220.471 1727.14 220.471 Q1723.16 220.471 1720.79 218.248 Q1718.46 216.003 1718.46 212.253 Q1718.46 207.878 1721.37 205.656 Q1724.31 203.434 1730.12 203.434 L1736.09 203.434 L1736.09 203.017 Q1736.09 200.077 1734.15 198.48 Q1732.23 196.86 1728.73 196.86 Q1726.51 196.86 1724.41 197.392 Q1722.3 197.924 1720.35 198.989 L1720.35 195.054 Q1722.69 194.151 1724.89 193.711 Q1727.09 193.248 1729.17 193.248 Q1734.8 193.248 1737.58 196.165 Q1740.35 199.082 1740.35 205.008 Z\" fill=\"#000000\" fill-rule=\"evenodd\" fill-opacity=\"1\" /><path clip-path=\"url(#clip820)\" d=\"M 0 0 M1764.15 197.855 Q1763.43 197.438 1762.58 197.253 Q1761.74 197.045 1760.72 197.045 Q1757.11 197.045 1755.17 199.406 Q1753.25 201.744 1753.25 206.142 L1753.25 219.799 L1748.97 219.799 L1748.97 193.873 L1753.25 193.873 L1753.25 197.901 Q1754.59 195.54 1756.74 194.406 Q1758.9 193.248 1761.97 193.248 Q1762.41 193.248 1762.95 193.318 Q1763.48 193.364 1764.13 193.48 L1764.15 197.855 Z\" fill=\"#000000\" fill-rule=\"evenodd\" fill-opacity=\"1\" /><path clip-path=\"url(#clip820)\" d=\"M 0 0 M1789.75 205.772 L1789.75 207.855 L1770.17 207.855 Q1770.45 212.253 1772.81 214.568 Q1775.19 216.859 1779.43 216.859 Q1781.88 216.859 1784.17 216.258 Q1786.49 215.656 1788.76 214.452 L1788.76 218.48 Q1786.47 219.452 1784.06 219.961 Q1781.65 220.471 1779.17 220.471 Q1772.97 220.471 1769.34 216.859 Q1765.72 213.248 1765.72 207.091 Q1765.72 200.725 1769.15 196.998 Q1772.6 193.248 1778.43 193.248 Q1783.66 193.248 1786.7 196.628 Q1789.75 199.985 1789.75 205.772 M1785.49 204.522 Q1785.45 201.026 1783.53 198.943 Q1781.63 196.86 1778.48 196.86 Q1774.91 196.86 1772.76 198.873 Q1770.63 200.887 1770.31 204.545 L1785.49 204.522 Z\" fill=\"#000000\" fill-rule=\"evenodd\" fill-opacity=\"1\" /><path clip-path=\"url(#clip820)\" d=\"M 0 0 M1813.27 194.637 L1813.27 198.665 Q1811.46 197.739 1809.52 197.276 Q1807.58 196.813 1805.49 196.813 Q1802.32 196.813 1800.72 197.785 Q1799.15 198.758 1799.15 200.702 Q1799.15 202.184 1800.28 203.04 Q1801.42 203.873 1804.84 204.637 L1806.3 204.961 Q1810.84 205.934 1812.74 207.716 Q1814.66 209.475 1814.66 212.646 Q1814.66 216.258 1811.79 218.364 Q1808.94 220.471 1803.94 220.471 Q1801.86 220.471 1799.59 220.054 Q1797.34 219.66 1794.84 218.85 L1794.84 214.452 Q1797.21 215.679 1799.5 216.304 Q1801.79 216.906 1804.03 216.906 Q1807.04 216.906 1808.66 215.887 Q1810.28 214.846 1810.28 212.971 Q1810.28 211.234 1809.1 210.309 Q1807.95 209.383 1803.99 208.526 L1802.51 208.179 Q1798.55 207.346 1796.79 205.633 Q1795.03 203.897 1795.03 200.887 Q1795.03 197.23 1797.62 195.239 Q1800.21 193.248 1804.98 193.248 Q1807.34 193.248 1809.43 193.596 Q1811.51 193.943 1813.27 194.637 Z\" fill=\"#000000\" fill-rule=\"evenodd\" fill-opacity=\"1\" /><polyline clip-path=\"url(#clip820)\" style=\"stroke:#e26f46; stroke-width:4; stroke-opacity:1; fill:none\" points=\"\n",
       "  1369.75,262.999 1486.1,262.999 \n",
       "  \"/>\n",
       "<path clip-path=\"url(#clip820)\" d=\"M 0 0 M1527.74 246.853 L1527.74 251.414 Q1525.08 250.141 1522.72 249.516 Q1520.36 248.891 1518.16 248.891 Q1514.34 248.891 1512.25 250.372 Q1510.19 251.853 1510.19 254.585 Q1510.19 256.877 1511.56 258.057 Q1512.95 259.215 1516.79 259.932 L1519.61 260.511 Q1524.85 261.506 1527.32 264.029 Q1529.82 266.529 1529.82 270.742 Q1529.82 275.765 1526.44 278.358 Q1523.09 280.951 1516.58 280.951 Q1514.13 280.951 1511.35 280.395 Q1508.6 279.839 1505.63 278.751 L1505.63 273.937 Q1508.48 275.534 1511.21 276.344 Q1513.94 277.154 1516.58 277.154 Q1520.59 277.154 1522.76 275.58 Q1524.94 274.006 1524.94 271.089 Q1524.94 268.543 1523.36 267.108 Q1521.81 265.673 1518.25 264.955 L1515.4 264.4 Q1510.17 263.358 1507.83 261.136 Q1505.49 258.914 1505.49 254.955 Q1505.49 250.372 1508.71 247.733 Q1511.95 245.094 1517.62 245.094 Q1520.05 245.094 1522.58 245.534 Q1525.1 245.974 1527.74 246.853 Z\" fill=\"#000000\" fill-rule=\"evenodd\" fill-opacity=\"1\" /><path clip-path=\"url(#clip820)\" d=\"M 0 0 M1546.03 280.279 L1532.83 245.719 L1537.72 245.719 L1548.67 274.816 L1559.64 245.719 L1564.5 245.719 L1551.33 280.279 L1546.03 280.279 Z\" fill=\"#000000\" fill-rule=\"evenodd\" fill-opacity=\"1\" /><path clip-path=\"url(#clip820)\" d=\"M 0 0 M1574.22 249.562 L1574.22 276.437 L1579.87 276.437 Q1587.02 276.437 1590.33 273.196 Q1593.67 269.955 1593.67 262.965 Q1593.67 256.02 1590.33 252.803 Q1587.02 249.562 1579.87 249.562 L1574.22 249.562 M1569.54 245.719 L1579.15 245.719 Q1589.2 245.719 1593.9 249.909 Q1598.6 254.076 1598.6 262.965 Q1598.6 271.9 1593.87 276.089 Q1589.15 280.279 1579.15 280.279 L1569.54 280.279 L1569.54 245.719 Z\" fill=\"#000000\" fill-rule=\"evenodd\" fill-opacity=\"1\" /><polyline clip-path=\"url(#clip820)\" style=\"stroke:#3da44d; stroke-width:4; stroke-opacity:1; fill:none\" points=\"\n",
       "  1369.75,323.479 1486.1,323.479 \n",
       "  \"/>\n",
       "<path clip-path=\"url(#clip820)\" d=\"M 0 0 M1525.84 319.81 Q1527.44 316.94 1529.66 315.574 Q1531.88 314.208 1534.89 314.208 Q1538.94 314.208 1541.14 317.056 Q1543.34 319.88 1543.34 325.111 L1543.34 340.759 L1539.06 340.759 L1539.06 325.25 Q1539.06 321.523 1537.74 319.718 Q1536.42 317.912 1533.71 317.912 Q1530.4 317.912 1528.48 320.111 Q1526.56 322.31 1526.56 326.107 L1526.56 340.759 L1522.28 340.759 L1522.28 325.25 Q1522.28 321.5 1520.96 319.718 Q1519.64 317.912 1516.88 317.912 Q1513.62 317.912 1511.7 320.134 Q1509.78 322.333 1509.78 326.107 L1509.78 340.759 L1505.49 340.759 L1505.49 314.833 L1509.78 314.833 L1509.78 318.861 Q1511.24 316.477 1513.27 315.343 Q1515.31 314.208 1518.11 314.208 Q1520.93 314.208 1522.9 315.644 Q1524.89 317.079 1525.84 319.81 Z\" fill=\"#000000\" fill-rule=\"evenodd\" fill-opacity=\"1\" /><path clip-path=\"url(#clip820)\" d=\"M 0 0 M1551.4 330.528 L1551.4 314.833 L1555.66 314.833 L1555.66 330.366 Q1555.66 334.046 1557.09 335.898 Q1558.53 337.727 1561.4 337.727 Q1564.85 337.727 1566.84 335.528 Q1568.85 333.329 1568.85 329.532 L1568.85 314.833 L1573.11 314.833 L1573.11 340.759 L1568.85 340.759 L1568.85 336.778 Q1567.3 339.139 1565.24 340.296 Q1563.2 341.431 1560.49 341.431 Q1556.03 341.431 1553.71 338.653 Q1551.4 335.875 1551.4 330.528 M1562.11 314.208 L1562.11 314.208 Z\" fill=\"#000000\" fill-rule=\"evenodd\" fill-opacity=\"1\" /><path clip-path=\"url(#clip820)\" d=\"M 0 0 M1581.88 304.741 L1586.14 304.741 L1586.14 340.759 L1581.88 340.759 L1581.88 304.741 Z\" fill=\"#000000\" fill-rule=\"evenodd\" fill-opacity=\"1\" /><path clip-path=\"url(#clip820)\" d=\"M 0 0 M1599.27 307.472 L1599.27 314.833 L1608.04 314.833 L1608.04 318.144 L1599.27 318.144 L1599.27 332.218 Q1599.27 335.389 1600.12 336.292 Q1601 337.194 1603.67 337.194 L1608.04 337.194 L1608.04 340.759 L1603.67 340.759 Q1598.73 340.759 1596.86 338.931 Q1594.98 337.079 1594.98 332.218 L1594.98 318.144 L1591.86 318.144 L1591.86 314.833 L1594.98 314.833 L1594.98 307.472 L1599.27 307.472 Z\" fill=\"#000000\" fill-rule=\"evenodd\" fill-opacity=\"1\" /><path clip-path=\"url(#clip820)\" d=\"M 0 0 M1613.64 314.833 L1617.9 314.833 L1617.9 340.759 L1613.64 340.759 L1613.64 314.833 M1613.64 304.741 L1617.9 304.741 L1617.9 310.134 L1613.64 310.134 L1613.64 304.741 Z\" fill=\"#000000\" fill-rule=\"evenodd\" fill-opacity=\"1\" /><path clip-path=\"url(#clip820)\" d=\"M 0 0 M1643.34 315.597 L1643.34 319.625 Q1641.54 318.699 1639.59 318.236 Q1637.65 317.773 1635.56 317.773 Q1632.39 317.773 1630.79 318.745 Q1629.22 319.718 1629.22 321.662 Q1629.22 323.144 1630.35 324 Q1631.49 324.833 1634.91 325.597 L1636.37 325.921 Q1640.91 326.894 1642.81 328.676 Q1644.73 330.435 1644.73 333.606 Q1644.73 337.218 1641.86 339.324 Q1639.01 341.431 1634.01 341.431 Q1631.93 341.431 1629.66 341.014 Q1627.41 340.62 1624.91 339.81 L1624.91 335.412 Q1627.28 336.639 1629.57 337.264 Q1631.86 337.866 1634.1 337.866 Q1637.11 337.866 1638.73 336.847 Q1640.35 335.806 1640.35 333.931 Q1640.35 332.194 1639.17 331.269 Q1638.02 330.343 1634.06 329.486 L1632.58 329.139 Q1628.62 328.306 1626.86 326.593 Q1625.1 324.857 1625.1 321.847 Q1625.1 318.19 1627.69 316.199 Q1630.29 314.208 1635.05 314.208 Q1637.41 314.208 1639.5 314.556 Q1641.58 314.903 1643.34 315.597 Z\" fill=\"#000000\" fill-rule=\"evenodd\" fill-opacity=\"1\" /><path clip-path=\"url(#clip820)\" d=\"M 0 0 M1670.17 315.829 L1670.17 319.81 Q1668.36 318.815 1666.54 318.329 Q1664.73 317.82 1662.88 317.82 Q1658.73 317.82 1656.44 320.458 Q1654.15 323.074 1654.15 327.819 Q1654.15 332.565 1656.44 335.204 Q1658.73 337.819 1662.88 337.819 Q1664.73 337.819 1666.54 337.333 Q1668.36 336.824 1670.17 335.829 L1670.17 339.764 Q1668.39 340.597 1666.47 341.014 Q1664.57 341.431 1662.41 341.431 Q1656.56 341.431 1653.11 337.75 Q1649.66 334.069 1649.66 327.819 Q1649.66 321.477 1653.13 317.843 Q1656.63 314.208 1662.69 314.208 Q1664.66 314.208 1666.54 314.625 Q1668.41 315.019 1670.17 315.829 Z\" fill=\"#000000\" fill-rule=\"evenodd\" fill-opacity=\"1\" /><path clip-path=\"url(#clip820)\" d=\"M 0 0 M1689.36 327.727 Q1684.2 327.727 1682.21 328.907 Q1680.22 330.088 1680.22 332.935 Q1680.22 335.204 1681.7 336.546 Q1683.2 337.866 1685.77 337.866 Q1689.31 337.866 1691.44 335.366 Q1693.6 332.843 1693.6 328.676 L1693.6 327.727 L1689.36 327.727 M1697.85 325.968 L1697.85 340.759 L1693.6 340.759 L1693.6 336.824 Q1692.14 339.185 1689.96 340.319 Q1687.78 341.431 1684.64 341.431 Q1680.66 341.431 1678.29 339.208 Q1675.96 336.963 1675.96 333.213 Q1675.96 328.838 1678.87 326.616 Q1681.81 324.394 1687.62 324.394 L1693.6 324.394 L1693.6 323.977 Q1693.6 321.037 1691.65 319.44 Q1689.73 317.82 1686.23 317.82 Q1684.01 317.82 1681.91 318.352 Q1679.8 318.884 1677.85 319.949 L1677.85 316.014 Q1680.19 315.111 1682.39 314.671 Q1684.59 314.208 1686.67 314.208 Q1692.3 314.208 1695.08 317.125 Q1697.85 320.042 1697.85 325.968 Z\" fill=\"#000000\" fill-rule=\"evenodd\" fill-opacity=\"1\" /><path clip-path=\"url(#clip820)\" d=\"M 0 0 M1706.63 304.741 L1710.89 304.741 L1710.89 340.759 L1706.63 340.759 L1706.63 304.741 Z\" fill=\"#000000\" fill-rule=\"evenodd\" fill-opacity=\"1\" /><path clip-path=\"url(#clip820)\" d=\"M 0 0 M1741.97 326.732 L1741.97 328.815 L1722.39 328.815 Q1722.67 333.213 1725.03 335.528 Q1727.41 337.819 1731.65 337.819 Q1734.1 337.819 1736.4 337.218 Q1738.71 336.616 1740.98 335.412 L1740.98 339.44 Q1738.69 340.412 1736.28 340.921 Q1733.87 341.431 1731.4 341.431 Q1725.19 341.431 1721.56 337.819 Q1717.95 334.208 1717.95 328.051 Q1717.95 321.685 1721.37 317.958 Q1724.82 314.208 1730.66 314.208 Q1735.89 314.208 1738.92 317.588 Q1741.97 320.945 1741.97 326.732 M1737.72 325.482 Q1737.67 321.986 1735.75 319.903 Q1733.85 317.82 1730.7 317.82 Q1727.14 317.82 1724.98 319.833 Q1722.85 321.847 1722.53 325.505 L1737.72 325.482 Z\" fill=\"#000000\" fill-rule=\"evenodd\" fill-opacity=\"1\" /><path clip-path=\"url(#clip820)\" d=\"M 0 0 M1784.94 307.333 L1784.94 311.894 Q1782.28 310.621 1779.91 309.996 Q1777.55 309.371 1775.35 309.371 Q1771.53 309.371 1769.45 310.852 Q1767.39 312.333 1767.39 315.065 Q1767.39 317.357 1768.76 318.537 Q1770.15 319.695 1773.99 320.412 L1776.81 320.991 Q1782.04 321.986 1784.52 324.509 Q1787.02 327.009 1787.02 331.222 Q1787.02 336.245 1783.64 338.838 Q1780.28 341.431 1773.78 341.431 Q1771.33 341.431 1768.55 340.875 Q1765.79 340.319 1762.83 339.231 L1762.83 334.417 Q1765.68 336.014 1768.41 336.824 Q1771.14 337.634 1773.78 337.634 Q1777.78 337.634 1779.96 336.06 Q1782.14 334.486 1782.14 331.569 Q1782.14 329.023 1780.56 327.588 Q1779.01 326.153 1775.45 325.435 L1772.6 324.88 Q1767.37 323.838 1765.03 321.616 Q1762.69 319.394 1762.69 315.435 Q1762.69 310.852 1765.91 308.213 Q1769.15 305.574 1774.82 305.574 Q1777.25 305.574 1779.78 306.014 Q1782.3 306.454 1784.94 307.333 Z\" fill=\"#000000\" fill-rule=\"evenodd\" fill-opacity=\"1\" /><path clip-path=\"url(#clip820)\" d=\"M 0 0 M1803.22 340.759 L1790.03 306.199 L1794.91 306.199 L1805.86 335.296 L1816.84 306.199 L1821.7 306.199 L1808.53 340.759 L1803.22 340.759 Z\" fill=\"#000000\" fill-rule=\"evenodd\" fill-opacity=\"1\" /><path clip-path=\"url(#clip820)\" d=\"M 0 0 M1831.42 310.042 L1831.42 336.917 L1837.07 336.917 Q1844.22 336.917 1847.53 333.676 Q1850.86 330.435 1850.86 323.445 Q1850.86 316.5 1847.53 313.283 Q1844.22 310.042 1837.07 310.042 L1831.42 310.042 M1826.74 306.199 L1836.35 306.199 Q1846.4 306.199 1851.09 310.389 Q1855.79 314.556 1855.79 323.445 Q1855.79 332.38 1851.07 336.569 Q1846.35 340.759 1836.35 340.759 L1826.74 340.759 L1826.74 306.199 Z\" fill=\"#000000\" fill-rule=\"evenodd\" fill-opacity=\"1\" /></svg>\n"
      ]
     },
     "execution_count": 11,
     "metadata": {},
     "output_type": "execute_result"
    }
   ],
   "source": [
    "graph_experiment(lossEvery,errFs, errSVDs, errMultiSVDs, title=\"d=3, L=81\",startAt=300)"
   ]
  },
  {
   "cell_type": "code",
   "execution_count": 12,
   "metadata": {},
   "outputs": [],
   "source": [
    "savefig(\"lds-3-81.png\")"
   ]
  },
  {
   "cell_type": "code",
   "execution_count": 13,
   "metadata": {},
   "outputs": [
    {
     "data": {
      "text/plain": [
       "1"
      ]
     },
     "metadata": {},
     "output_type": "display_data"
    },
    {
     "data": {
      "text/plain": [
       "107"
      ]
     },
     "metadata": {},
     "output_type": "display_data"
    },
    {
     "data": {
      "text/plain": [
       "(400, 3.202806470723706, 2.4420343583185264, 1.700420977172667)"
      ]
     },
     "metadata": {},
     "output_type": "display_data"
    },
    {
     "data": {
      "text/plain": [
       "(500, 1.99733429732463, 1.431582224043792, 0.7253611533602488)"
      ]
     },
     "metadata": {},
     "output_type": "display_data"
    },
    {
     "data": {
      "text/plain": [
       "(600, 1.6059197884937673, 1.0072433945816137, 0.4724092178334577)"
      ]
     },
     "metadata": {},
     "output_type": "display_data"
    },
    {
     "data": {
      "text/plain": [
       "(700, 1.4108774685719483, 1.094228672008205, 0.525970413164964)"
      ]
     },
     "metadata": {},
     "output_type": "display_data"
    },
    {
     "data": {
      "text/plain": [
       "(800, 1.2579479629659724, 0.9041796865469113, 0.3666281810483708)"
      ]
     },
     "metadata": {},
     "output_type": "display_data"
    },
    {
     "data": {
      "text/plain": [
       "(900, 1.0920556974668971, 0.9411883038279252, 0.3612529327526514)"
      ]
     },
     "metadata": {},
     "output_type": "display_data"
    },
    {
     "data": {
      "text/plain": [
       "(1000, 1.0380341761235201, 0.5717258486218995, 0.2960432296481544)"
      ]
     },
     "metadata": {},
     "output_type": "display_data"
    },
    {
     "data": {
      "text/plain": [
       "(1100, 0.9780365337966901, 0.28427290631918367, 0.25640681597417775)"
      ]
     },
     "metadata": {},
     "output_type": "display_data"
    },
    {
     "data": {
      "text/plain": [
       "(1200, 0.9135212545451373, 0.254261507178908, 0.24770080110773257)"
      ]
     },
     "metadata": {},
     "output_type": "display_data"
    },
    {
     "data": {
      "text/plain": [
       "(1300, 0.8903813720283402, 0.2596995971561628, 0.24999646167375716)"
      ]
     },
     "metadata": {},
     "output_type": "display_data"
    },
    {
     "data": {
      "text/plain": [
       "(1400, 0.8316926303121157, 0.23517146658271998, 0.2319505209899853)"
      ]
     },
     "metadata": {},
     "output_type": "display_data"
    },
    {
     "data": {
      "text/plain": [
       "(1500, 0.7881775823107122, 0.2245380154091508, 0.22262865861949602)"
      ]
     },
     "metadata": {},
     "output_type": "display_data"
    },
    {
     "data": {
      "text/plain": [
       "(1600, 0.7571814039165451, 0.21089714296131268, 0.21069031408919714)"
      ]
     },
     "metadata": {},
     "output_type": "display_data"
    },
    {
     "data": {
      "text/plain": [
       "(1700, 0.7431358735617228, 0.20182789032937087, 0.20327751430819738)"
      ]
     },
     "metadata": {},
     "output_type": "display_data"
    },
    {
     "data": {
      "text/plain": [
       "(1800, 0.7011550616182554, 0.19124023033260704, 0.1974282990411063)"
      ]
     },
     "metadata": {},
     "output_type": "display_data"
    },
    {
     "data": {
      "text/plain": [
       "(1900, 0.6760978323867454, 0.18428986880234868, 0.19393556101599232)"
      ]
     },
     "metadata": {},
     "output_type": "display_data"
    },
    {
     "data": {
      "text/plain": [
       "(2000, 0.6564684294509687, 0.1792158779475812, 0.18851642275603417)"
      ]
     },
     "metadata": {},
     "output_type": "display_data"
    },
    {
     "data": {
      "text/plain": [
       "2"
      ]
     },
     "metadata": {},
     "output_type": "display_data"
    },
    {
     "data": {
      "text/plain": [
       "107"
      ]
     },
     "metadata": {},
     "output_type": "display_data"
    },
    {
     "data": {
      "text/plain": [
       "(400, 3.1709154833982134, 1.4911374956966952, 1.1251756057985496)"
      ]
     },
     "metadata": {},
     "output_type": "display_data"
    },
    {
     "data": {
      "text/plain": [
       "(500, 2.2630139621918666, 1.333322617374043, 0.7622579462092491)"
      ]
     },
     "metadata": {},
     "output_type": "display_data"
    },
    {
     "data": {
      "text/plain": [
       "(600, 1.705345399242462, 1.1696073077399503, 0.711056394909909)"
      ]
     },
     "metadata": {},
     "output_type": "display_data"
    },
    {
     "data": {
      "text/plain": [
       "(700, 1.3762724517695466, 0.6713260916102859, 0.5170121962684915)"
      ]
     },
     "metadata": {},
     "output_type": "display_data"
    },
    {
     "data": {
      "text/plain": [
       "(800, 1.2002240533131825, 0.5722756891162399, 0.4211865746775408)"
      ]
     },
     "metadata": {},
     "output_type": "display_data"
    },
    {
     "data": {
      "text/plain": [
       "(900, 1.0971041731082274, 0.4627512403091005, 0.35678728674768573)"
      ]
     },
     "metadata": {},
     "output_type": "display_data"
    },
    {
     "data": {
      "text/plain": [
       "(1000, 1.0057403856976805, 0.3635827285507536, 0.3163257419800459)"
      ]
     },
     "metadata": {},
     "output_type": "display_data"
    },
    {
     "data": {
      "text/plain": [
       "(1100, 0.9504807662972858, 0.3699912077828704, 0.3091406323272429)"
      ]
     },
     "metadata": {},
     "output_type": "display_data"
    },
    {
     "data": {
      "text/plain": [
       "(1200, 0.8892201982662794, 0.384835010931663, 0.2925094354339017)"
      ]
     },
     "metadata": {},
     "output_type": "display_data"
    },
    {
     "data": {
      "text/plain": [
       "(1300, 0.8630469756564301, 0.43567325662751083, 0.3024481580593358)"
      ]
     },
     "metadata": {},
     "output_type": "display_data"
    },
    {
     "data": {
      "text/plain": [
       "(1400, 0.8278481212715317, 0.41375724913190726, 0.2791562856246269)"
      ]
     },
     "metadata": {},
     "output_type": "display_data"
    },
    {
     "data": {
      "text/plain": [
       "(1500, 0.8196007154959308, 0.43200466031360546, 0.29093648891789475)"
      ]
     },
     "metadata": {},
     "output_type": "display_data"
    },
    {
     "data": {
      "text/plain": [
       "(1600, 0.7884378654076016, 0.4196567077827351, 0.2703844966610455)"
      ]
     },
     "metadata": {},
     "output_type": "display_data"
    },
    {
     "data": {
      "text/plain": [
       "(1700, 0.7632711678026741, 0.4215284742279769, 0.26526204133812126)"
      ]
     },
     "metadata": {},
     "output_type": "display_data"
    },
    {
     "data": {
      "text/plain": [
       "(1800, 0.7307453637427466, 0.42674689334380655, 0.24337683331299018)"
      ]
     },
     "metadata": {},
     "output_type": "display_data"
    },
    {
     "data": {
      "text/plain": [
       "(1900, 0.6948607854839199, 0.4235044866462626, 0.23640823240817108)"
      ]
     },
     "metadata": {},
     "output_type": "display_data"
    },
    {
     "data": {
      "text/plain": [
       "(2000, 0.6728061518375679, 0.4299179485989316, 0.22237740726672361)"
      ]
     },
     "metadata": {},
     "output_type": "display_data"
    },
    {
     "data": {
      "text/plain": [
       "3"
      ]
     },
     "metadata": {},
     "output_type": "display_data"
    },
    {
     "data": {
      "text/plain": [
       "107"
      ]
     },
     "metadata": {},
     "output_type": "display_data"
    },
    {
     "data": {
      "text/plain": [
       "(400, 3.4646332157732123, 1.9612864399289838, 1.4724997079173485)"
      ]
     },
     "metadata": {},
     "output_type": "display_data"
    },
    {
     "data": {
      "text/plain": [
       "(500, 2.0640831820604357, 1.203687092608263, 0.7858499191009584)"
      ]
     },
     "metadata": {},
     "output_type": "display_data"
    },
    {
     "data": {
      "text/plain": [
       "(600, 1.662732804451413, 1.1471180739240627, 0.6221446648187512)"
      ]
     },
     "metadata": {},
     "output_type": "display_data"
    },
    {
     "data": {
      "text/plain": [
       "(700, 1.4162329830165734, 1.0267224978463771, 0.4986805762453478)"
      ]
     },
     "metadata": {},
     "output_type": "display_data"
    },
    {
     "data": {
      "text/plain": [
       "(800, 1.2575851597023582, 1.0796082625187657, 0.44173399802723695)"
      ]
     },
     "metadata": {},
     "output_type": "display_data"
    },
    {
     "data": {
      "text/plain": [
       "(900, 1.1591951737949768, 0.4185057142226966, 0.33418949174934875)"
      ]
     },
     "metadata": {},
     "output_type": "display_data"
    },
    {
     "data": {
      "text/plain": [
       "(1000, 1.0458190465458546, 0.3514915868666319, 0.2973600698295728)"
      ]
     },
     "metadata": {},
     "output_type": "display_data"
    },
    {
     "data": {
      "text/plain": [
       "(1100, 0.9886212507511851, 0.3502808287453035, 0.2662618951500581)"
      ]
     },
     "metadata": {},
     "output_type": "display_data"
    },
    {
     "data": {
      "text/plain": [
       "(1200, 0.9327180998516786, 0.33243687707470465, 0.2541938781583189)"
      ]
     },
     "metadata": {},
     "output_type": "display_data"
    },
    {
     "data": {
      "text/plain": [
       "(1300, 0.8874401674252198, 0.3344501848438996, 0.24563407476242802)"
      ]
     },
     "metadata": {},
     "output_type": "display_data"
    },
    {
     "data": {
      "text/plain": [
       "(1400, 0.8498864887855961, 0.32350487046066806, 0.23585642423481484)"
      ]
     },
     "metadata": {},
     "output_type": "display_data"
    },
    {
     "data": {
      "text/plain": [
       "(1500, 0.8196292204489888, 0.3095928428023845, 0.22481281987196594)"
      ]
     },
     "metadata": {},
     "output_type": "display_data"
    },
    {
     "data": {
      "text/plain": [
       "(1600, 0.779923280910997, 0.3020124295611303, 0.2126711998343563)"
      ]
     },
     "metadata": {},
     "output_type": "display_data"
    },
    {
     "data": {
      "text/plain": [
       "(1700, 0.7431725770519836, 0.29186094681636154, 0.20119669817007424)"
      ]
     },
     "metadata": {},
     "output_type": "display_data"
    },
    {
     "data": {
      "text/plain": [
       "(1800, 0.7138295389344231, 0.2844705413331751, 0.19854127235955357)"
      ]
     },
     "metadata": {},
     "output_type": "display_data"
    },
    {
     "data": {
      "text/plain": [
       "(1900, 0.6886928682446772, 0.27718968719704506, 0.1933416068348199)"
      ]
     },
     "metadata": {},
     "output_type": "display_data"
    },
    {
     "data": {
      "text/plain": [
       "(2000, 0.6606703836155281, 0.2736845434979305, 0.18393206272971305)"
      ]
     },
     "metadata": {},
     "output_type": "display_data"
    },
    {
     "data": {
      "text/plain": [
       "4"
      ]
     },
     "metadata": {},
     "output_type": "display_data"
    },
    {
     "data": {
      "text/plain": [
       "107"
      ]
     },
     "metadata": {},
     "output_type": "display_data"
    },
    {
     "data": {
      "text/plain": [
       "(400, 3.1034084867836143, 1.6596166126039777, 1.3381679426586532)"
      ]
     },
     "metadata": {},
     "output_type": "display_data"
    },
    {
     "data": {
      "text/plain": [
       "(500, 2.0317352701550426, 1.258788781344942, 0.8725176992589214)"
      ]
     },
     "metadata": {},
     "output_type": "display_data"
    },
    {
     "data": {
      "text/plain": [
       "(600, 1.67724168653486, 1.197896442861287, 0.7228687046531649)"
      ]
     },
     "metadata": {},
     "output_type": "display_data"
    },
    {
     "data": {
      "text/plain": [
       "(700, 1.3759946811620625, 0.8283746671184034, 0.5068245753861237)"
      ]
     },
     "metadata": {},
     "output_type": "display_data"
    },
    {
     "data": {
      "text/plain": [
       "(800, 1.2196062923807158, 0.8495523182671391, 0.47883578503407287)"
      ]
     },
     "metadata": {},
     "output_type": "display_data"
    },
    {
     "data": {
      "text/plain": [
       "(900, 1.1086244484134862, 0.461559836289781, 0.3923026893676168)"
      ]
     },
     "metadata": {},
     "output_type": "display_data"
    },
    {
     "data": {
      "text/plain": [
       "(1000, 1.0187685690952708, 0.4408744869871702, 0.37240293679206077)"
      ]
     },
     "metadata": {},
     "output_type": "display_data"
    },
    {
     "data": {
      "text/plain": [
       "(1100, 0.9513781675755555, 0.44590894272139736, 0.3537118094760704)"
      ]
     },
     "metadata": {},
     "output_type": "display_data"
    },
    {
     "data": {
      "text/plain": [
       "(1200, 0.8888270801186952, 0.4070794301833194, 0.32977794239654984)"
      ]
     },
     "metadata": {},
     "output_type": "display_data"
    },
    {
     "data": {
      "text/plain": [
       "(1300, 0.8138342679754895, 0.36865324935866356, 0.2892533038356915)"
      ]
     },
     "metadata": {},
     "output_type": "display_data"
    },
    {
     "data": {
      "text/plain": [
       "(1400, 0.7918931133533148, 0.32887876016509393, 0.26539906950253356)"
      ]
     },
     "metadata": {},
     "output_type": "display_data"
    },
    {
     "data": {
      "text/plain": [
       "(1500, 0.7500129638413915, 0.3107532824855337, 0.24779467463509497)"
      ]
     },
     "metadata": {},
     "output_type": "display_data"
    },
    {
     "data": {
      "text/plain": [
       "(1600, 0.7155901145305472, 0.3097699735691456, 0.2436399495099562)"
      ]
     },
     "metadata": {},
     "output_type": "display_data"
    },
    {
     "data": {
      "text/plain": [
       "(1700, 0.6831809264615486, 0.2897488373289841, 0.2287074968579826)"
      ]
     },
     "metadata": {},
     "output_type": "display_data"
    },
    {
     "data": {
      "text/plain": [
       "(1800, 0.6638500349252616, 0.24809872531814808, 0.20326219671151255)"
      ]
     },
     "metadata": {},
     "output_type": "display_data"
    },
    {
     "data": {
      "text/plain": [
       "(1900, 0.6433200722444705, 0.20785442573681337, 0.1949942980382836)"
      ]
     },
     "metadata": {},
     "output_type": "display_data"
    },
    {
     "data": {
      "text/plain": [
       "(2000, 0.6221617923096673, 0.19112393569045233, 0.19067179084510125)"
      ]
     },
     "metadata": {},
     "output_type": "display_data"
    },
    {
     "data": {
      "text/plain": [
       "5"
      ]
     },
     "metadata": {},
     "output_type": "display_data"
    },
    {
     "data": {
      "text/plain": [
       "107"
      ]
     },
     "metadata": {},
     "output_type": "display_data"
    },
    {
     "data": {
      "text/plain": [
       "(400, 3.786980687243694, 2.033898240234159, 1.4460815123000965)"
      ]
     },
     "metadata": {},
     "output_type": "display_data"
    },
    {
     "data": {
      "text/plain": [
       "(500, 2.4441474590832746, 1.5753020961244224, 0.9273682484098127)"
      ]
     },
     "metadata": {},
     "output_type": "display_data"
    },
    {
     "data": {
      "text/plain": [
       "(600, 1.716798652081498, 1.1349381122388653, 0.5434269212797391)"
      ]
     },
     "metadata": {},
     "output_type": "display_data"
    },
    {
     "data": {
      "text/plain": [
       "(700, 1.4503408322625748, 1.055233375883563, 0.4492322781384522)"
      ]
     },
     "metadata": {},
     "output_type": "display_data"
    },
    {
     "data": {
      "text/plain": [
       "(800, 1.3007910373807885, 0.8658332595604131, 0.39465037278530696)"
      ]
     },
     "metadata": {},
     "output_type": "display_data"
    },
    {
     "data": {
      "text/plain": [
       "(900, 1.1323170811798842, 0.7016517852375358, 0.3636630780860472)"
      ]
     },
     "metadata": {},
     "output_type": "display_data"
    },
    {
     "data": {
      "text/plain": [
       "(1000, 1.0497876861108841, 0.6206415261366925, 0.3290955960678405)"
      ]
     },
     "metadata": {},
     "output_type": "display_data"
    },
    {
     "data": {
      "text/plain": [
       "(1100, 0.97473798268415, 0.6142971392841161, 0.30800019805579215)"
      ]
     },
     "metadata": {},
     "output_type": "display_data"
    },
    {
     "data": {
      "text/plain": [
       "(1200, 0.9211445483102668, 0.6566918773534176, 0.2625458735502493)"
      ]
     },
     "metadata": {},
     "output_type": "display_data"
    },
    {
     "data": {
      "text/plain": [
       "(1300, 0.8916602707146164, 0.6388769421049216, 0.2752549705762285)"
      ]
     },
     "metadata": {},
     "output_type": "display_data"
    },
    {
     "data": {
      "text/plain": [
       "(1400, 0.8506419643597505, 0.566897149919693, 0.2492602193967091)"
      ]
     },
     "metadata": {},
     "output_type": "display_data"
    },
    {
     "data": {
      "text/plain": [
       "(1500, 0.7992583861028381, 0.5551041922284229, 0.2429544334029937)"
      ]
     },
     "metadata": {},
     "output_type": "display_data"
    },
    {
     "data": {
      "text/plain": [
       "(1600, 0.7684232971727913, 0.33752168190493126, 0.22783963111850764)"
      ]
     },
     "metadata": {},
     "output_type": "display_data"
    },
    {
     "data": {
      "text/plain": [
       "(1700, 0.7450075203025798, 0.29359669906009517, 0.2231412287950758)"
      ]
     },
     "metadata": {},
     "output_type": "display_data"
    },
    {
     "data": {
      "text/plain": [
       "(1800, 0.724219028879764, 0.2662763051782511, 0.21730043311182423)"
      ]
     },
     "metadata": {},
     "output_type": "display_data"
    },
    {
     "data": {
      "text/plain": [
       "(1900, 0.7010961582255334, 0.21093017827891888, 0.21189166803214973)"
      ]
     },
     "metadata": {},
     "output_type": "display_data"
    },
    {
     "data": {
      "text/plain": [
       "(2000, 0.6751628456928804, 0.19090285749050856, 0.19950587578878629)"
      ]
     },
     "metadata": {},
     "output_type": "display_data"
    },
    {
     "data": {
      "text/plain": [
       "6"
      ]
     },
     "metadata": {},
     "output_type": "display_data"
    },
    {
     "data": {
      "text/plain": [
       "107"
      ]
     },
     "metadata": {},
     "output_type": "display_data"
    },
    {
     "data": {
      "text/plain": [
       "(400, 3.406330180158996, 2.475753623168081, 1.5376196372544002)"
      ]
     },
     "metadata": {},
     "output_type": "display_data"
    },
    {
     "data": {
      "text/plain": [
       "(500, 2.1266272690113097, 1.7531919876546855, 0.8067232436740974)"
      ]
     },
     "metadata": {},
     "output_type": "display_data"
    },
    {
     "data": {
      "text/plain": [
       "(600, 1.7894200041190758, 0.9864520766142141, 0.6377477918365142)"
      ]
     },
     "metadata": {},
     "output_type": "display_data"
    },
    {
     "data": {
      "text/plain": [
       "(700, 1.4671582045373708, 0.45446670523613564, 0.45041320007396174)"
      ]
     },
     "metadata": {},
     "output_type": "display_data"
    },
    {
     "data": {
      "text/plain": [
       "(800, 1.3269209503203752, 0.38965792312972214, 0.40768854009789)"
      ]
     },
     "metadata": {},
     "output_type": "display_data"
    },
    {
     "data": {
      "text/plain": [
       "(900, 1.1692876849617748, 0.35372745282226004, 0.36268038681527603)"
      ]
     },
     "metadata": {},
     "output_type": "display_data"
    },
    {
     "data": {
      "text/plain": [
       "(1000, 1.0615577306632986, 0.31144932109461243, 0.32376391495400775)"
      ]
     },
     "metadata": {},
     "output_type": "display_data"
    },
    {
     "data": {
      "text/plain": [
       "(1100, 0.9959773475948658, 0.28226357980238215, 0.29169091628279675)"
      ]
     },
     "metadata": {},
     "output_type": "display_data"
    },
    {
     "data": {
      "text/plain": [
       "(1200, 0.9309458991812335, 0.27487606134951714, 0.2820904002799861)"
      ]
     },
     "metadata": {},
     "output_type": "display_data"
    },
    {
     "data": {
      "text/plain": [
       "(1300, 0.8849751539865397, 0.2655373055344457, 0.2726700625599496)"
      ]
     },
     "metadata": {},
     "output_type": "display_data"
    },
    {
     "data": {
      "text/plain": [
       "(1400, 0.8425786464256649, 0.242448574740408, 0.2557080400525412)"
      ]
     },
     "metadata": {},
     "output_type": "display_data"
    },
    {
     "data": {
      "text/plain": [
       "(1500, 0.804802057936836, 0.23368053492389046, 0.2380700215446018)"
      ]
     },
     "metadata": {},
     "output_type": "display_data"
    },
    {
     "data": {
      "text/plain": [
       "(1600, 0.7608398553696613, 0.2200335726032712, 0.22279440256973954)"
      ]
     },
     "metadata": {},
     "output_type": "display_data"
    },
    {
     "data": {
      "text/plain": [
       "(1700, 0.7209483374369303, 0.20903786210856343, 0.2147636601996325)"
      ]
     },
     "metadata": {},
     "output_type": "display_data"
    },
    {
     "data": {
      "text/plain": [
       "(1800, 0.6964700048159319, 0.19950377519811796, 0.20541649356812866)"
      ]
     },
     "metadata": {},
     "output_type": "display_data"
    },
    {
     "data": {
      "text/plain": [
       "(1900, 0.6751333133610351, 0.1943185925885929, 0.20178827395183627)"
      ]
     },
     "metadata": {},
     "output_type": "display_data"
    },
    {
     "data": {
      "text/plain": [
       "(2000, 0.6423612212875003, 0.18309875213627122, 0.19105667075402707)"
      ]
     },
     "metadata": {},
     "output_type": "display_data"
    },
    {
     "data": {
      "text/plain": [
       "7"
      ]
     },
     "metadata": {},
     "output_type": "display_data"
    },
    {
     "data": {
      "text/plain": [
       "107"
      ]
     },
     "metadata": {},
     "output_type": "display_data"
    },
    {
     "data": {
      "text/plain": [
       "(400, 3.7156348065724347, 2.3140494287778277, 1.657554434134844)"
      ]
     },
     "metadata": {},
     "output_type": "display_data"
    },
    {
     "data": {
      "text/plain": [
       "(500, 2.2144859877016976, 0.9250203574342726, 0.6875292799208625)"
      ]
     },
     "metadata": {},
     "output_type": "display_data"
    },
    {
     "data": {
      "text/plain": [
       "(600, 1.7398955114313193, 0.8841540758319315, 0.5520591890388736)"
      ]
     },
     "metadata": {},
     "output_type": "display_data"
    },
    {
     "data": {
      "text/plain": [
       "(700, 1.4846163656100846, 0.5855622323273327, 0.43630890757457597)"
      ]
     },
     "metadata": {},
     "output_type": "display_data"
    },
    {
     "data": {
      "text/plain": [
       "(800, 1.2457453786414447, 0.428109928987387, 0.3614804445213613)"
      ]
     },
     "metadata": {},
     "output_type": "display_data"
    },
    {
     "data": {
      "text/plain": [
       "(900, 1.1694996312545984, 0.539122518515022, 0.368249834336953)"
      ]
     },
     "metadata": {},
     "output_type": "display_data"
    },
    {
     "data": {
      "text/plain": [
       "(1000, 1.0763066529018348, 0.35682902317277077, 0.32926870037124295)"
      ]
     },
     "metadata": {},
     "output_type": "display_data"
    },
    {
     "data": {
      "text/plain": [
       "(1100, 1.0135320928683593, 0.3017715218838543, 0.3164399383958433)"
      ]
     },
     "metadata": {},
     "output_type": "display_data"
    },
    {
     "data": {
      "text/plain": [
       "(1200, 0.9502187380718308, 0.2490680195049132, 0.27964399048517485)"
      ]
     },
     "metadata": {},
     "output_type": "display_data"
    },
    {
     "data": {
      "text/plain": [
       "(1300, 0.9101529270873203, 0.2572458900246072, 0.26153661128321903)"
      ]
     },
     "metadata": {},
     "output_type": "display_data"
    },
    {
     "data": {
      "text/plain": [
       "(1400, 0.8728481920320866, 0.2554124257216677, 0.26248890689254784)"
      ]
     },
     "metadata": {},
     "output_type": "display_data"
    },
    {
     "data": {
      "text/plain": [
       "(1500, 0.8119759960677626, 0.2381996343179625, 0.25446650718272357)"
      ]
     },
     "metadata": {},
     "output_type": "display_data"
    },
    {
     "data": {
      "text/plain": [
       "(1600, 0.7554302152740892, 0.21868891568026555, 0.24198457047833247)"
      ]
     },
     "metadata": {},
     "output_type": "display_data"
    },
    {
     "data": {
      "text/plain": [
       "(1700, 0.7299483032799124, 0.2130103814592049, 0.2365349782302019)"
      ]
     },
     "metadata": {},
     "output_type": "display_data"
    },
    {
     "data": {
      "text/plain": [
       "(1800, 0.7035026224853731, 0.1965154234996093, 0.22537623432159487)"
      ]
     },
     "metadata": {},
     "output_type": "display_data"
    },
    {
     "data": {
      "text/plain": [
       "(1900, 0.6656381552841739, 0.17683700017709464, 0.2047984777147264)"
      ]
     },
     "metadata": {},
     "output_type": "display_data"
    },
    {
     "data": {
      "text/plain": [
       "(2000, 0.6399204760870134, 0.16631432897617998, 0.1945503214575279)"
      ]
     },
     "metadata": {},
     "output_type": "display_data"
    },
    {
     "data": {
      "text/plain": [
       "8"
      ]
     },
     "metadata": {},
     "output_type": "display_data"
    },
    {
     "data": {
      "text/plain": [
       "107"
      ]
     },
     "metadata": {},
     "output_type": "display_data"
    },
    {
     "data": {
      "text/plain": [
       "(400, 3.1118175174887353, 2.2687400995728555, 0.8832625742627055)"
      ]
     },
     "metadata": {},
     "output_type": "display_data"
    },
    {
     "data": {
      "text/plain": [
       "(500, 2.0777470179833806, 1.1771901110330418, 0.5971260187885935)"
      ]
     },
     "metadata": {},
     "output_type": "display_data"
    },
    {
     "data": {
      "text/plain": [
       "(600, 1.5842281047706837, 0.4257292702782109, 0.4101373705294503)"
      ]
     },
     "metadata": {},
     "output_type": "display_data"
    },
    {
     "data": {
      "text/plain": [
       "(700, 1.3768571315602027, 0.3582737261395376, 0.34573614750835185)"
      ]
     },
     "metadata": {},
     "output_type": "display_data"
    },
    {
     "data": {
      "text/plain": [
       "(800, 1.2480767718841403, 0.3265628777544206, 0.33436577751643526)"
      ]
     },
     "metadata": {},
     "output_type": "display_data"
    },
    {
     "data": {
      "text/plain": [
       "(900, 1.1531149534447556, 0.295360581872565, 0.32733667874643935)"
      ]
     },
     "metadata": {},
     "output_type": "display_data"
    },
    {
     "data": {
      "text/plain": [
       "(1000, 1.052395901892394, 0.26577267958339357, 0.2943635278511372)"
      ]
     },
     "metadata": {},
     "output_type": "display_data"
    },
    {
     "data": {
      "text/plain": [
       "(1100, 0.9633339413420938, 0.2573550835686871, 0.27349129717764475)"
      ]
     },
     "metadata": {},
     "output_type": "display_data"
    },
    {
     "data": {
      "text/plain": [
       "(1200, 0.8811586903046446, 0.22052428743841787, 0.23911410216574638)"
      ]
     },
     "metadata": {},
     "output_type": "display_data"
    },
    {
     "data": {
      "text/plain": [
       "(1300, 0.8715494657746709, 0.2277227032294079, 0.24135977539172204)"
      ]
     },
     "metadata": {},
     "output_type": "display_data"
    },
    {
     "data": {
      "text/plain": [
       "(1400, 0.8396632925832246, 0.22521229896223063, 0.2408839750082907)"
      ]
     },
     "metadata": {},
     "output_type": "display_data"
    },
    {
     "data": {
      "text/plain": [
       "(1500, 0.8080478163026268, 0.21556910376253766, 0.2248696660073411)"
      ]
     },
     "metadata": {},
     "output_type": "display_data"
    },
    {
     "data": {
      "text/plain": [
       "(1600, 0.7664334444295521, 0.1888385848539289, 0.20841672534078798)"
      ]
     },
     "metadata": {},
     "output_type": "display_data"
    },
    {
     "data": {
      "text/plain": [
       "(1700, 0.7445618259507283, 0.18562719483209955, 0.20515010656404953)"
      ]
     },
     "metadata": {},
     "output_type": "display_data"
    },
    {
     "data": {
      "text/plain": [
       "(1800, 0.7161645739952847, 0.16202136175079285, 0.18574476443324028)"
      ]
     },
     "metadata": {},
     "output_type": "display_data"
    },
    {
     "data": {
      "text/plain": [
       "(1900, 0.6916791833307298, 0.1618458156559952, 0.18500963350271904)"
      ]
     },
     "metadata": {},
     "output_type": "display_data"
    },
    {
     "data": {
      "text/plain": [
       "(2000, 0.6735326062246285, 0.16775546308930137, 0.1871360849417573)"
      ]
     },
     "metadata": {},
     "output_type": "display_data"
    },
    {
     "data": {
      "text/plain": [
       "9"
      ]
     },
     "metadata": {},
     "output_type": "display_data"
    },
    {
     "data": {
      "text/plain": [
       "107"
      ]
     },
     "metadata": {},
     "output_type": "display_data"
    },
    {
     "data": {
      "text/plain": [
       "(400, 3.342691979350366, 1.8576313249149907, 1.419922711402614)"
      ]
     },
     "metadata": {},
     "output_type": "display_data"
    },
    {
     "data": {
      "text/plain": [
       "(500, 2.3299268347698012, 1.6557218509013916, 0.8661835032655829)"
      ]
     },
     "metadata": {},
     "output_type": "display_data"
    },
    {
     "data": {
      "text/plain": [
       "(600, 1.7177381903398075, 0.8982895576070576, 0.5926870269567229)"
      ]
     },
     "metadata": {},
     "output_type": "display_data"
    },
    {
     "data": {
      "text/plain": [
       "(700, 1.5393602628157879, 0.8101054447139812, 0.4871749756550893)"
      ]
     },
     "metadata": {},
     "output_type": "display_data"
    },
    {
     "data": {
      "text/plain": [
       "(800, 1.314267846386617, 0.7014245651678372, 0.4075579501509505)"
      ]
     },
     "metadata": {},
     "output_type": "display_data"
    },
    {
     "data": {
      "text/plain": [
       "(900, 1.1613253662952647, 0.4918783639508836, 0.3711595125630146)"
      ]
     },
     "metadata": {},
     "output_type": "display_data"
    },
    {
     "data": {
      "text/plain": [
       "(1000, 1.0853367578799005, 0.4109320159639594, 0.3373073096510741)"
      ]
     },
     "metadata": {},
     "output_type": "display_data"
    },
    {
     "data": {
      "text/plain": [
       "(1100, 1.0307399611067976, 0.4873655481557525, 0.34684212625981814)"
      ]
     },
     "metadata": {},
     "output_type": "display_data"
    },
    {
     "data": {
      "text/plain": [
       "(1200, 0.9610302780482095, 0.33655183546728196, 0.30894433891284556)"
      ]
     },
     "metadata": {},
     "output_type": "display_data"
    },
    {
     "data": {
      "text/plain": [
       "(1300, 0.8836869636896642, 0.26921723082509685, 0.2844699479498943)"
      ]
     },
     "metadata": {},
     "output_type": "display_data"
    },
    {
     "data": {
      "text/plain": [
       "(1400, 0.853372986907366, 0.2739110587379902, 0.30030336813902625)"
      ]
     },
     "metadata": {},
     "output_type": "display_data"
    },
    {
     "data": {
      "text/plain": [
       "(1500, 0.8122723391828771, 0.26633115055534357, 0.3017362998251338)"
      ]
     },
     "metadata": {},
     "output_type": "display_data"
    },
    {
     "data": {
      "text/plain": [
       "(1600, 0.7813632680919494, 0.25319436539506956, 0.28462725550127077)"
      ]
     },
     "metadata": {},
     "output_type": "display_data"
    },
    {
     "data": {
      "text/plain": [
       "(1700, 0.7399010187773164, 0.22895095988749112, 0.24408587570166165)"
      ]
     },
     "metadata": {},
     "output_type": "display_data"
    },
    {
     "data": {
      "text/plain": [
       "(1800, 0.7201059556711997, 0.22451806496675397, 0.24846930767399156)"
      ]
     },
     "metadata": {},
     "output_type": "display_data"
    },
    {
     "data": {
      "text/plain": [
       "(1900, 0.6969961686821657, 0.22115439357094846, 0.2425486714121607)"
      ]
     },
     "metadata": {},
     "output_type": "display_data"
    },
    {
     "data": {
      "text/plain": [
       "(2000, 0.6741332461893333, 0.21642240971307905, 0.23081298427389593)"
      ]
     },
     "metadata": {},
     "output_type": "display_data"
    },
    {
     "data": {
      "text/plain": [
       "10"
      ]
     },
     "metadata": {},
     "output_type": "display_data"
    },
    {
     "data": {
      "text/plain": [
       "107"
      ]
     },
     "metadata": {},
     "output_type": "display_data"
    },
    {
     "data": {
      "text/plain": [
       "(400, 3.5505504679499666, 2.028652751033057, 1.733448504585137)"
      ]
     },
     "metadata": {},
     "output_type": "display_data"
    },
    {
     "data": {
      "text/plain": [
       "(500, 2.3856480125321857, 1.6362284889558643, 0.9223993587799945)"
      ]
     },
     "metadata": {},
     "output_type": "display_data"
    },
    {
     "data": {
      "text/plain": [
       "(600, 1.8675491795951373, 1.50911375668849, 0.7021081288876551)"
      ]
     },
     "metadata": {},
     "output_type": "display_data"
    },
    {
     "data": {
      "text/plain": [
       "(700, 1.5402076906037028, 1.085421770132375, 0.4736084209050845)"
      ]
     },
     "metadata": {},
     "output_type": "display_data"
    },
    {
     "data": {
      "text/plain": [
       "(800, 1.3594937328439642, 0.8734349702704072, 0.4308518225168629)"
      ]
     },
     "metadata": {},
     "output_type": "display_data"
    },
    {
     "data": {
      "text/plain": [
       "(900, 1.2281949098307083, 0.5337244266775708, 0.3232699694243586)"
      ]
     },
     "metadata": {},
     "output_type": "display_data"
    },
    {
     "data": {
      "text/plain": [
       "(1000, 1.1122924691858138, 0.3507635862703749, 0.2970609003369762)"
      ]
     },
     "metadata": {},
     "output_type": "display_data"
    },
    {
     "data": {
      "text/plain": [
       "(1100, 1.029828863521839, 0.2840910098740958, 0.2937924563131569)"
      ]
     },
     "metadata": {},
     "output_type": "display_data"
    },
    {
     "data": {
      "text/plain": [
       "(1200, 0.9444566475069053, 0.27633928664921303, 0.27262157464494685)"
      ]
     },
     "metadata": {},
     "output_type": "display_data"
    },
    {
     "data": {
      "text/plain": [
       "(1300, 0.8894967882947493, 0.26987701101987993, 0.265353044609778)"
      ]
     },
     "metadata": {},
     "output_type": "display_data"
    },
    {
     "data": {
      "text/plain": [
       "(1400, 0.8326523812840447, 0.25067289542332033, 0.24273410608219678)"
      ]
     },
     "metadata": {},
     "output_type": "display_data"
    },
    {
     "data": {
      "text/plain": [
       "(1500, 0.803528724787914, 0.24074317854483623, 0.23906853332611622)"
      ]
     },
     "metadata": {},
     "output_type": "display_data"
    },
    {
     "data": {
      "text/plain": [
       "(1600, 0.7724348783895052, 0.20754213291567067, 0.23111422727484293)"
      ]
     },
     "metadata": {},
     "output_type": "display_data"
    },
    {
     "data": {
      "text/plain": [
       "(1700, 0.7347657036347872, 0.21152721322625734, 0.2282782312790067)"
      ]
     },
     "metadata": {},
     "output_type": "display_data"
    },
    {
     "data": {
      "text/plain": [
       "(1800, 0.6963161901046225, 0.19564877840735426, 0.20378915553947202)"
      ]
     },
     "metadata": {},
     "output_type": "display_data"
    },
    {
     "data": {
      "text/plain": [
       "(1900, 0.6728852049894322, 0.1917797022043353, 0.19944605870831306)"
      ]
     },
     "metadata": {},
     "output_type": "display_data"
    },
    {
     "data": {
      "text/plain": [
       "(2000, 0.6534251825009064, 0.1959024440557391, 0.20789560021497394)"
      ]
     },
     "metadata": {},
     "output_type": "display_data"
    },
    {
     "data": {
      "text/plain": [
       "(100, [3.202806470723706 1.99733429732463 … 0.6760978323867454 0.6564684294509687; 3.1709154833982134 2.2630139621918666 … 0.6948607854839199 0.6728061518375679; … ; 3.342691979350366 2.3299268347698012 … 0.6969961686821657 0.6741332461893333; 3.5505504679499666 2.3856480125321857 … 0.6728852049894322 0.6534251825009064], [2.4420343583185264 1.431582224043792 … 0.18428986880234868 0.1792158779475812; 1.4911374956966952 1.333322617374043 … 0.4235044866462626 0.4299179485989316; … ; 1.8576313249149907 1.6557218509013916 … 0.22115439357094846 0.21642240971307905; 2.028652751033057 1.6362284889558643 … 0.1917797022043353 0.1959024440557391], [1.700420977172667 0.7253611533602488 … 0.19393556101599232 0.18851642275603417; 1.1251756057985496 0.7622579462092491 … 0.23640823240817108 0.22237740726672361; … ; 1.419922711402614 0.8661835032655829 … 0.2425486714121607 0.23081298427389593; 1.733448504585137 0.9223993587799945 … 0.19944605870831306 0.20789560021497394])"
      ]
     },
     "execution_count": 13,
     "metadata": {},
     "output_type": "execute_result"
    }
   ],
   "source": [
    "Random.seed!(4)\n",
    "(lossEvery,errFs, errSVDs, errMultiSVDs)=average_over_trials(3,5,3,4,0.95,10,2000,100,startAt=300)"
   ]
  },
  {
   "cell_type": "code",
   "execution_count": 14,
   "metadata": {},
   "outputs": [
    {
     "data": {
      "image/svg+xml": [
       "<?xml version=\"1.0\" encoding=\"utf-8\"?>\n",
       "<svg xmlns=\"http://www.w3.org/2000/svg\" xmlns:xlink=\"http://www.w3.org/1999/xlink\" width=\"500\" height=\"280\" viewBox=\"0 0 2000 1120\">\n",
       "<defs>\n",
       "  <clipPath id=\"clip870\">\n",
       "    <rect x=\"0\" y=\"0\" width=\"2000\" height=\"1120\"/>\n",
       "  </clipPath>\n",
       "</defs>\n",
       "<path clip-path=\"url(#clip870)\" d=\"\n",
       "M0 1120 L2000 1120 L2000 0 L0 0  Z\n",
       "  \" fill=\"#ffffff\" fill-rule=\"evenodd\" fill-opacity=\"1\"/>\n",
       "<defs>\n",
       "  <clipPath id=\"clip871\">\n",
       "    <rect x=\"400\" y=\"0\" width=\"1401\" height=\"1120\"/>\n",
       "  </clipPath>\n",
       "</defs>\n",
       "<path clip-path=\"url(#clip870)\" d=\"\n",
       "M207.43 961.113 L1952.76 961.113 L1952.76 113.795 L207.43 113.795  Z\n",
       "  \" fill=\"#ffffff\" fill-rule=\"evenodd\" fill-opacity=\"1\"/>\n",
       "<defs>\n",
       "  <clipPath id=\"clip872\">\n",
       "    <rect x=\"207\" y=\"113\" width=\"1746\" height=\"848\"/>\n",
       "  </clipPath>\n",
       "</defs>\n",
       "<polyline clip-path=\"url(#clip872)\" style=\"stroke:#000000; stroke-width:2; stroke-opacity:0.1; fill:none\" points=\"\n",
       "  462.643,961.113 462.643,113.795 \n",
       "  \"/>\n",
       "<polyline clip-path=\"url(#clip872)\" style=\"stroke:#000000; stroke-width:2; stroke-opacity:0.1; fill:none\" points=\"\n",
       "  771.368,961.113 771.368,113.795 \n",
       "  \"/>\n",
       "<polyline clip-path=\"url(#clip872)\" style=\"stroke:#000000; stroke-width:2; stroke-opacity:0.1; fill:none\" points=\"\n",
       "  1080.09,961.113 1080.09,113.795 \n",
       "  \"/>\n",
       "<polyline clip-path=\"url(#clip872)\" style=\"stroke:#000000; stroke-width:2; stroke-opacity:0.1; fill:none\" points=\"\n",
       "  1388.82,961.113 1388.82,113.795 \n",
       "  \"/>\n",
       "<polyline clip-path=\"url(#clip872)\" style=\"stroke:#000000; stroke-width:2; stroke-opacity:0.1; fill:none\" points=\"\n",
       "  1697.54,961.113 1697.54,113.795 \n",
       "  \"/>\n",
       "<polyline clip-path=\"url(#clip870)\" style=\"stroke:#000000; stroke-width:4; stroke-opacity:1; fill:none\" points=\"\n",
       "  207.43,961.113 1952.76,961.113 \n",
       "  \"/>\n",
       "<polyline clip-path=\"url(#clip870)\" style=\"stroke:#000000; stroke-width:4; stroke-opacity:1; fill:none\" points=\"\n",
       "  462.643,961.113 462.643,950.945 \n",
       "  \"/>\n",
       "<polyline clip-path=\"url(#clip870)\" style=\"stroke:#000000; stroke-width:4; stroke-opacity:1; fill:none\" points=\"\n",
       "  771.368,961.113 771.368,950.945 \n",
       "  \"/>\n",
       "<polyline clip-path=\"url(#clip870)\" style=\"stroke:#000000; stroke-width:4; stroke-opacity:1; fill:none\" points=\"\n",
       "  1080.09,961.113 1080.09,950.945 \n",
       "  \"/>\n",
       "<polyline clip-path=\"url(#clip870)\" style=\"stroke:#000000; stroke-width:4; stroke-opacity:1; fill:none\" points=\"\n",
       "  1388.82,961.113 1388.82,950.945 \n",
       "  \"/>\n",
       "<polyline clip-path=\"url(#clip870)\" style=\"stroke:#000000; stroke-width:4; stroke-opacity:1; fill:none\" points=\"\n",
       "  1697.54,961.113 1697.54,950.945 \n",
       "  \"/>\n",
       "<path clip-path=\"url(#clip870)\" d=\"M 0 0 M432.967 999.441 Q429.819 999.441 427.967 1001.59 Q426.138 1003.75 426.138 1007.5 Q426.138 1011.22 427.967 1013.4 Q429.819 1015.55 432.967 1015.55 Q436.115 1015.55 437.944 1013.4 Q439.795 1011.22 439.795 1007.5 Q439.795 1003.75 437.944 1001.59 Q436.115 999.441 432.967 999.441 M442.249 984.789 L442.249 989.048 Q440.49 988.214 438.684 987.775 Q436.902 987.335 435.143 987.335 Q430.513 987.335 428.059 990.46 Q425.629 993.585 425.282 999.904 Q426.647 997.89 428.708 996.825 Q430.768 995.738 433.245 995.738 Q438.453 995.738 441.462 998.909 Q444.494 1002.06 444.494 1007.5 Q444.494 1012.82 441.346 1016.04 Q438.198 1019.26 432.967 1019.26 Q426.971 1019.26 423.8 1014.67 Q420.629 1010.07 420.629 1001.34 Q420.629 993.145 424.518 988.284 Q428.407 983.4 434.957 983.4 Q436.717 983.4 438.499 983.747 Q440.305 984.094 442.249 984.789 Z\" fill=\"#000000\" fill-rule=\"evenodd\" fill-opacity=\"1\" /><path clip-path=\"url(#clip870)\" d=\"M 0 0 M462.55 987.103 Q458.939 987.103 457.11 990.668 Q455.305 994.21 455.305 1001.34 Q455.305 1008.45 457.11 1012.01 Q458.939 1015.55 462.55 1015.55 Q466.184 1015.55 467.99 1012.01 Q469.818 1008.45 469.818 1001.34 Q469.818 994.21 467.99 990.668 Q466.184 987.103 462.55 987.103 M462.55 983.4 Q468.36 983.4 471.416 988.006 Q474.494 992.589 474.494 1001.34 Q474.494 1010.07 471.416 1014.67 Q468.36 1019.26 462.55 1019.26 Q456.74 1019.26 453.661 1014.67 Q450.606 1010.07 450.606 1001.34 Q450.606 992.589 453.661 988.006 Q456.74 983.4 462.55 983.4 Z\" fill=\"#000000\" fill-rule=\"evenodd\" fill-opacity=\"1\" /><path clip-path=\"url(#clip870)\" d=\"M 0 0 M492.712 987.103 Q489.101 987.103 487.272 990.668 Q485.466 994.21 485.466 1001.34 Q485.466 1008.45 487.272 1012.01 Q489.101 1015.55 492.712 1015.55 Q496.346 1015.55 498.152 1012.01 Q499.98 1008.45 499.98 1001.34 Q499.98 994.21 498.152 990.668 Q496.346 987.103 492.712 987.103 M492.712 983.4 Q498.522 983.4 501.578 988.006 Q504.656 992.589 504.656 1001.34 Q504.656 1010.07 501.578 1014.67 Q498.522 1019.26 492.712 1019.26 Q486.902 1019.26 483.823 1014.67 Q480.767 1010.07 480.767 1001.34 Q480.767 992.589 483.823 988.006 Q486.902 983.4 492.712 983.4 Z\" fill=\"#000000\" fill-rule=\"evenodd\" fill-opacity=\"1\" /><path clip-path=\"url(#clip870)\" d=\"M 0 0 M731.414 1017.87 L731.414 1013.61 Q733.173 1014.44 734.979 1014.88 Q736.785 1015.32 738.521 1015.32 Q743.15 1015.32 745.581 1012.22 Q748.034 1009.09 748.382 1002.75 Q747.039 1004.74 744.979 1005.81 Q742.919 1006.87 740.419 1006.87 Q735.234 1006.87 732.201 1003.75 Q729.192 1000.6 729.192 995.159 Q729.192 989.835 732.34 986.617 Q735.488 983.4 740.72 983.4 Q746.715 983.4 749.863 988.006 Q753.034 992.589 753.034 1001.34 Q753.034 1009.51 749.146 1014.39 Q745.28 1019.26 738.729 1019.26 Q736.97 1019.26 735.164 1018.91 Q733.359 1018.56 731.414 1017.87 M740.72 1003.21 Q743.868 1003.21 745.697 1001.06 Q747.548 998.909 747.548 995.159 Q747.548 991.432 745.697 989.279 Q743.868 987.103 740.72 987.103 Q737.572 987.103 735.72 989.279 Q733.891 991.432 733.891 995.159 Q733.891 998.909 735.72 1001.06 Q737.572 1003.21 740.72 1003.21 Z\" fill=\"#000000\" fill-rule=\"evenodd\" fill-opacity=\"1\" /><path clip-path=\"url(#clip870)\" d=\"M 0 0 M771.437 987.103 Q767.826 987.103 765.997 990.668 Q764.192 994.21 764.192 1001.34 Q764.192 1008.45 765.997 1012.01 Q767.826 1015.55 771.437 1015.55 Q775.071 1015.55 776.877 1012.01 Q778.706 1008.45 778.706 1001.34 Q778.706 994.21 776.877 990.668 Q775.071 987.103 771.437 987.103 M771.437 983.4 Q777.247 983.4 780.303 988.006 Q783.381 992.589 783.381 1001.34 Q783.381 1010.07 780.303 1014.67 Q777.247 1019.26 771.437 1019.26 Q765.627 1019.26 762.548 1014.67 Q759.493 1010.07 759.493 1001.34 Q759.493 992.589 762.548 988.006 Q765.627 983.4 771.437 983.4 Z\" fill=\"#000000\" fill-rule=\"evenodd\" fill-opacity=\"1\" /><path clip-path=\"url(#clip870)\" d=\"M 0 0 M801.599 987.103 Q797.988 987.103 796.159 990.668 Q794.354 994.21 794.354 1001.34 Q794.354 1008.45 796.159 1012.01 Q797.988 1015.55 801.599 1015.55 Q805.233 1015.55 807.039 1012.01 Q808.867 1008.45 808.867 1001.34 Q808.867 994.21 807.039 990.668 Q805.233 987.103 801.599 987.103 M801.599 983.4 Q807.409 983.4 810.465 988.006 Q813.543 992.589 813.543 1001.34 Q813.543 1010.07 810.465 1014.67 Q807.409 1019.26 801.599 1019.26 Q795.789 1019.26 792.71 1014.67 Q789.655 1010.07 789.655 1001.34 Q789.655 992.589 792.71 988.006 Q795.789 983.4 801.599 983.4 Z\" fill=\"#000000\" fill-rule=\"evenodd\" fill-opacity=\"1\" /><path clip-path=\"url(#clip870)\" d=\"M 0 0 M1024.62 1014.65 L1032.26 1014.65 L1032.26 988.284 L1023.95 989.951 L1023.95 985.691 L1032.21 984.025 L1036.89 984.025 L1036.89 1014.65 L1044.53 1014.65 L1044.53 1018.58 L1024.62 1018.58 L1024.62 1014.65 Z\" fill=\"#000000\" fill-rule=\"evenodd\" fill-opacity=\"1\" /><path clip-path=\"url(#clip870)\" d=\"M 0 0 M1058 1014.65 L1074.32 1014.65 L1074.32 1018.58 L1052.37 1018.58 L1052.37 1014.65 Q1055.04 1011.89 1059.62 1007.27 Q1064.22 1002.61 1065.41 1001.27 Q1067.65 998.747 1068.53 997.011 Q1069.43 995.251 1069.43 993.562 Q1069.43 990.807 1067.49 989.071 Q1065.57 987.335 1062.47 987.335 Q1060.27 987.335 1057.81 988.099 Q1055.38 988.863 1052.6 990.413 L1052.6 985.691 Q1055.43 984.557 1057.88 983.978 Q1060.34 983.4 1062.37 983.4 Q1067.74 983.4 1070.94 986.085 Q1074.13 988.77 1074.13 993.261 Q1074.13 995.39 1073.32 997.312 Q1072.53 999.21 1070.43 1001.8 Q1069.85 1002.47 1066.75 1005.69 Q1063.65 1008.89 1058 1014.65 Z\" fill=\"#000000\" fill-rule=\"evenodd\" fill-opacity=\"1\" /><path clip-path=\"url(#clip870)\" d=\"M 0 0 M1094.13 987.103 Q1090.52 987.103 1088.69 990.668 Q1086.89 994.21 1086.89 1001.34 Q1086.89 1008.45 1088.69 1012.01 Q1090.52 1015.55 1094.13 1015.55 Q1097.77 1015.55 1099.57 1012.01 Q1101.4 1008.45 1101.4 1001.34 Q1101.4 994.21 1099.57 990.668 Q1097.77 987.103 1094.13 987.103 M1094.13 983.4 Q1099.94 983.4 1103 988.006 Q1106.08 992.589 1106.08 1001.34 Q1106.08 1010.07 1103 1014.67 Q1099.94 1019.26 1094.13 1019.26 Q1088.32 1019.26 1085.24 1014.67 Q1082.19 1010.07 1082.19 1001.34 Q1082.19 992.589 1085.24 988.006 Q1088.32 983.4 1094.13 983.4 Z\" fill=\"#000000\" fill-rule=\"evenodd\" fill-opacity=\"1\" /><path clip-path=\"url(#clip870)\" d=\"M 0 0 M1124.29 987.103 Q1120.68 987.103 1118.85 990.668 Q1117.05 994.21 1117.05 1001.34 Q1117.05 1008.45 1118.85 1012.01 Q1120.68 1015.55 1124.29 1015.55 Q1127.93 1015.55 1129.73 1012.01 Q1131.56 1008.45 1131.56 1001.34 Q1131.56 994.21 1129.73 990.668 Q1127.93 987.103 1124.29 987.103 M1124.29 983.4 Q1130.1 983.4 1133.16 988.006 Q1136.24 992.589 1136.24 1001.34 Q1136.24 1010.07 1133.16 1014.67 Q1130.1 1019.26 1124.29 1019.26 Q1118.48 1019.26 1115.41 1014.67 Q1112.35 1010.07 1112.35 1001.34 Q1112.35 992.589 1115.41 988.006 Q1118.48 983.4 1124.29 983.4 Z\" fill=\"#000000\" fill-rule=\"evenodd\" fill-opacity=\"1\" /><path clip-path=\"url(#clip870)\" d=\"M 0 0 M1333.34 1014.65 L1340.98 1014.65 L1340.98 988.284 L1332.67 989.951 L1332.67 985.691 L1340.94 984.025 L1345.61 984.025 L1345.61 1014.65 L1353.25 1014.65 L1353.25 1018.58 L1333.34 1018.58 L1333.34 1014.65 Z\" fill=\"#000000\" fill-rule=\"evenodd\" fill-opacity=\"1\" /><path clip-path=\"url(#clip870)\" d=\"M 0 0 M1362.74 984.025 L1381.1 984.025 L1381.1 987.96 L1367.02 987.96 L1367.02 996.432 Q1368.04 996.085 1369.06 995.923 Q1370.08 995.738 1371.1 995.738 Q1376.89 995.738 1380.26 998.909 Q1383.64 1002.08 1383.64 1007.5 Q1383.64 1013.08 1380.17 1016.18 Q1376.7 1019.26 1370.38 1019.26 Q1368.2 1019.26 1365.94 1018.89 Q1363.69 1018.52 1361.28 1017.77 L1361.28 1013.08 Q1363.37 1014.21 1365.59 1014.77 Q1367.81 1015.32 1370.29 1015.32 Q1374.29 1015.32 1376.63 1013.21 Q1378.97 1011.11 1378.97 1007.5 Q1378.97 1003.89 1376.63 1001.78 Q1374.29 999.673 1370.29 999.673 Q1368.41 999.673 1366.54 1000.09 Q1364.69 1000.51 1362.74 1001.39 L1362.74 984.025 Z\" fill=\"#000000\" fill-rule=\"evenodd\" fill-opacity=\"1\" /><path clip-path=\"url(#clip870)\" d=\"M 0 0 M1402.86 987.103 Q1399.25 987.103 1397.42 990.668 Q1395.61 994.21 1395.61 1001.34 Q1395.61 1008.45 1397.42 1012.01 Q1399.25 1015.55 1402.86 1015.55 Q1406.49 1015.55 1408.3 1012.01 Q1410.13 1008.45 1410.13 1001.34 Q1410.13 994.21 1408.3 990.668 Q1406.49 987.103 1402.86 987.103 M1402.86 983.4 Q1408.67 983.4 1411.72 988.006 Q1414.8 992.589 1414.8 1001.34 Q1414.8 1010.07 1411.72 1014.67 Q1408.67 1019.26 1402.86 1019.26 Q1397.05 1019.26 1393.97 1014.67 Q1390.91 1010.07 1390.91 1001.34 Q1390.91 992.589 1393.97 988.006 Q1397.05 983.4 1402.86 983.4 Z\" fill=\"#000000\" fill-rule=\"evenodd\" fill-opacity=\"1\" /><path clip-path=\"url(#clip870)\" d=\"M 0 0 M1433.02 987.103 Q1429.41 987.103 1427.58 990.668 Q1425.77 994.21 1425.77 1001.34 Q1425.77 1008.45 1427.58 1012.01 Q1429.41 1015.55 1433.02 1015.55 Q1436.65 1015.55 1438.46 1012.01 Q1440.29 1008.45 1440.29 1001.34 Q1440.29 994.21 1438.46 990.668 Q1436.65 987.103 1433.02 987.103 M1433.02 983.4 Q1438.83 983.4 1441.88 988.006 Q1444.96 992.589 1444.96 1001.34 Q1444.96 1010.07 1441.88 1014.67 Q1438.83 1019.26 1433.02 1019.26 Q1427.21 1019.26 1424.13 1014.67 Q1421.07 1010.07 1421.07 1001.34 Q1421.07 992.589 1424.13 988.006 Q1427.21 983.4 1433.02 983.4 Z\" fill=\"#000000\" fill-rule=\"evenodd\" fill-opacity=\"1\" /><path clip-path=\"url(#clip870)\" d=\"M 0 0 M1642.07 1014.65 L1649.71 1014.65 L1649.71 988.284 L1641.4 989.951 L1641.4 985.691 L1649.66 984.025 L1654.34 984.025 L1654.34 1014.65 L1661.98 1014.65 L1661.98 1018.58 L1642.07 1018.58 L1642.07 1014.65 Z\" fill=\"#000000\" fill-rule=\"evenodd\" fill-opacity=\"1\" /><path clip-path=\"url(#clip870)\" d=\"M 0 0 M1681.42 1002.17 Q1678.09 1002.17 1676.17 1003.96 Q1674.27 1005.74 1674.27 1008.86 Q1674.27 1011.99 1676.17 1013.77 Q1678.09 1015.55 1681.42 1015.55 Q1684.75 1015.55 1686.68 1013.77 Q1688.6 1011.96 1688.6 1008.86 Q1688.6 1005.74 1686.68 1003.96 Q1684.78 1002.17 1681.42 1002.17 M1676.74 1000.18 Q1673.74 999.441 1672.05 997.381 Q1670.38 995.321 1670.38 992.358 Q1670.38 988.214 1673.32 985.807 Q1676.28 983.4 1681.42 983.4 Q1686.58 983.4 1689.52 985.807 Q1692.46 988.214 1692.46 992.358 Q1692.46 995.321 1690.77 997.381 Q1689.11 999.441 1686.12 1000.18 Q1689.5 1000.97 1691.37 1003.26 Q1693.27 1005.55 1693.27 1008.86 Q1693.27 1013.89 1690.19 1016.57 Q1687.14 1019.26 1681.42 1019.26 Q1675.7 1019.26 1672.62 1016.57 Q1669.57 1013.89 1669.57 1008.86 Q1669.57 1005.55 1671.47 1003.26 Q1673.37 1000.97 1676.74 1000.18 M1675.03 992.798 Q1675.03 995.483 1676.7 996.988 Q1678.39 998.492 1681.42 998.492 Q1684.43 998.492 1686.12 996.988 Q1687.83 995.483 1687.83 992.798 Q1687.83 990.113 1686.12 988.608 Q1684.43 987.103 1681.42 987.103 Q1678.39 987.103 1676.7 988.608 Q1675.03 990.113 1675.03 992.798 Z\" fill=\"#000000\" fill-rule=\"evenodd\" fill-opacity=\"1\" /><path clip-path=\"url(#clip870)\" d=\"M 0 0 M1711.58 987.103 Q1707.97 987.103 1706.14 990.668 Q1704.34 994.21 1704.34 1001.34 Q1704.34 1008.45 1706.14 1012.01 Q1707.97 1015.55 1711.58 1015.55 Q1715.22 1015.55 1717.02 1012.01 Q1718.85 1008.45 1718.85 1001.34 Q1718.85 994.21 1717.02 990.668 Q1715.22 987.103 1711.58 987.103 M1711.58 983.4 Q1717.39 983.4 1720.45 988.006 Q1723.53 992.589 1723.53 1001.34 Q1723.53 1010.07 1720.45 1014.67 Q1717.39 1019.26 1711.58 1019.26 Q1705.77 1019.26 1702.69 1014.67 Q1699.64 1010.07 1699.64 1001.34 Q1699.64 992.589 1702.69 988.006 Q1705.77 983.4 1711.58 983.4 Z\" fill=\"#000000\" fill-rule=\"evenodd\" fill-opacity=\"1\" /><path clip-path=\"url(#clip870)\" d=\"M 0 0 M1741.74 987.103 Q1738.13 987.103 1736.3 990.668 Q1734.5 994.21 1734.5 1001.34 Q1734.5 1008.45 1736.3 1012.01 Q1738.13 1015.55 1741.74 1015.55 Q1745.38 1015.55 1747.18 1012.01 Q1749.01 1008.45 1749.01 1001.34 Q1749.01 994.21 1747.18 990.668 Q1745.38 987.103 1741.74 987.103 M1741.74 983.4 Q1747.55 983.4 1750.61 988.006 Q1753.69 992.589 1753.69 1001.34 Q1753.69 1010.07 1750.61 1014.67 Q1747.55 1019.26 1741.74 1019.26 Q1735.93 1019.26 1732.86 1014.67 Q1729.8 1010.07 1729.8 1001.34 Q1729.8 992.589 1732.86 988.006 Q1735.93 983.4 1741.74 983.4 Z\" fill=\"#000000\" fill-rule=\"evenodd\" fill-opacity=\"1\" /><path clip-path=\"url(#clip870)\" d=\"M 0 0 M1019.25 1054.21 L1019.25 1064.33 L1031.32 1064.33 L1031.32 1068.88 L1019.25 1068.88 L1019.25 1088.23 Q1019.25 1092.59 1020.43 1093.83 Q1021.64 1095.08 1025.3 1095.08 L1031.32 1095.08 L1031.32 1099.98 L1025.3 1099.98 Q1018.52 1099.98 1015.94 1097.46 Q1013.36 1094.92 1013.36 1088.23 L1013.36 1068.88 L1009.07 1068.88 L1009.07 1064.33 L1013.36 1064.33 L1013.36 1054.21 L1019.25 1054.21 Z\" fill=\"#000000\" fill-rule=\"evenodd\" fill-opacity=\"1\" /><path clip-path=\"url(#clip870)\" d=\"M 0 0 M1039.02 1064.33 L1044.87 1064.33 L1044.87 1099.98 L1039.02 1099.98 L1039.02 1064.33 M1039.02 1050.45 L1044.87 1050.45 L1044.87 1057.87 L1039.02 1057.87 L1039.02 1050.45 Z\" fill=\"#000000\" fill-rule=\"evenodd\" fill-opacity=\"1\" /><path clip-path=\"url(#clip870)\" d=\"M 0 0 M1084.88 1071.17 Q1087.08 1067.23 1090.13 1065.35 Q1093.19 1063.47 1097.33 1063.47 Q1102.9 1063.47 1105.92 1067.38 Q1108.95 1071.27 1108.95 1078.46 L1108.95 1099.98 L1103.06 1099.98 L1103.06 1078.65 Q1103.06 1073.53 1101.24 1071.04 Q1099.43 1068.56 1095.7 1068.56 Q1091.15 1068.56 1088.51 1071.59 Q1085.87 1074.61 1085.87 1079.83 L1085.87 1099.98 L1079.98 1099.98 L1079.98 1078.65 Q1079.98 1073.5 1078.17 1071.04 Q1076.35 1068.56 1072.57 1068.56 Q1068.08 1068.56 1065.44 1071.62 Q1062.79 1074.64 1062.79 1079.83 L1062.79 1099.98 L1056.91 1099.98 L1056.91 1064.33 L1062.79 1064.33 L1062.79 1069.87 Q1064.8 1066.59 1067.6 1065.03 Q1070.4 1063.47 1074.25 1063.47 Q1078.14 1063.47 1080.84 1065.44 Q1083.58 1067.42 1084.88 1071.17 Z\" fill=\"#000000\" fill-rule=\"evenodd\" fill-opacity=\"1\" /><path clip-path=\"url(#clip870)\" d=\"M 0 0 M1151.12 1080.69 L1151.12 1083.55 L1124.19 1083.55 Q1124.57 1089.6 1127.82 1092.78 Q1131.1 1095.93 1136.92 1095.93 Q1140.3 1095.93 1143.45 1095.11 Q1146.63 1094.28 1149.75 1092.62 L1149.75 1098.16 Q1146.6 1099.5 1143.29 1100.2 Q1139.98 1100.9 1136.57 1100.9 Q1128.04 1100.9 1123.05 1095.93 Q1118.08 1090.97 1118.08 1082.5 Q1118.08 1073.75 1122.79 1068.63 Q1127.53 1063.47 1135.55 1063.47 Q1142.75 1063.47 1146.92 1068.12 Q1151.12 1072.73 1151.12 1080.69 M1145.26 1078.97 Q1145.2 1074.16 1142.56 1071.3 Q1139.95 1068.43 1135.62 1068.43 Q1130.72 1068.43 1127.76 1071.2 Q1124.83 1073.97 1124.38 1079 L1145.26 1078.97 Z\" fill=\"#000000\" fill-rule=\"evenodd\" fill-opacity=\"1\" /><polyline clip-path=\"url(#clip872)\" style=\"stroke:#000000; stroke-width:2; stroke-opacity:0.1; fill:none\" points=\"\n",
       "  207.43,861.772 1952.76,861.772 \n",
       "  \"/>\n",
       "<polyline clip-path=\"url(#clip872)\" style=\"stroke:#000000; stroke-width:2; stroke-opacity:0.1; fill:none\" points=\"\n",
       "  207.43,736.322 1952.76,736.322 \n",
       "  \"/>\n",
       "<polyline clip-path=\"url(#clip872)\" style=\"stroke:#000000; stroke-width:2; stroke-opacity:0.1; fill:none\" points=\"\n",
       "  207.43,610.871 1952.76,610.871 \n",
       "  \"/>\n",
       "<polyline clip-path=\"url(#clip872)\" style=\"stroke:#000000; stroke-width:2; stroke-opacity:0.1; fill:none\" points=\"\n",
       "  207.43,485.42 1952.76,485.42 \n",
       "  \"/>\n",
       "<polyline clip-path=\"url(#clip872)\" style=\"stroke:#000000; stroke-width:2; stroke-opacity:0.1; fill:none\" points=\"\n",
       "  207.43,359.969 1952.76,359.969 \n",
       "  \"/>\n",
       "<polyline clip-path=\"url(#clip872)\" style=\"stroke:#000000; stroke-width:2; stroke-opacity:0.1; fill:none\" points=\"\n",
       "  207.43,234.518 1952.76,234.518 \n",
       "  \"/>\n",
       "<polyline clip-path=\"url(#clip870)\" style=\"stroke:#000000; stroke-width:4; stroke-opacity:1; fill:none\" points=\"\n",
       "  207.43,961.113 207.43,113.795 \n",
       "  \"/>\n",
       "<polyline clip-path=\"url(#clip870)\" style=\"stroke:#000000; stroke-width:4; stroke-opacity:1; fill:none\" points=\"\n",
       "  207.43,861.772 228.374,861.772 \n",
       "  \"/>\n",
       "<polyline clip-path=\"url(#clip870)\" style=\"stroke:#000000; stroke-width:4; stroke-opacity:1; fill:none\" points=\"\n",
       "  207.43,736.322 228.374,736.322 \n",
       "  \"/>\n",
       "<polyline clip-path=\"url(#clip870)\" style=\"stroke:#000000; stroke-width:4; stroke-opacity:1; fill:none\" points=\"\n",
       "  207.43,610.871 228.374,610.871 \n",
       "  \"/>\n",
       "<polyline clip-path=\"url(#clip870)\" style=\"stroke:#000000; stroke-width:4; stroke-opacity:1; fill:none\" points=\"\n",
       "  207.43,485.42 228.374,485.42 \n",
       "  \"/>\n",
       "<polyline clip-path=\"url(#clip870)\" style=\"stroke:#000000; stroke-width:4; stroke-opacity:1; fill:none\" points=\"\n",
       "  207.43,359.969 228.374,359.969 \n",
       "  \"/>\n",
       "<polyline clip-path=\"url(#clip870)\" style=\"stroke:#000000; stroke-width:4; stroke-opacity:1; fill:none\" points=\"\n",
       "  207.43,234.518 228.374,234.518 \n",
       "  \"/>\n",
       "<path clip-path=\"url(#clip870)\" d=\"M 0 0 M121.249 847.571 Q117.638 847.571 115.81 851.136 Q114.004 854.678 114.004 861.807 Q114.004 868.914 115.81 872.478 Q117.638 876.02 121.249 876.02 Q124.884 876.02 126.689 872.478 Q128.518 868.914 128.518 861.807 Q128.518 854.678 126.689 851.136 Q124.884 847.571 121.249 847.571 M121.249 843.867 Q127.06 843.867 130.115 848.474 Q133.194 853.057 133.194 861.807 Q133.194 870.534 130.115 875.14 Q127.06 879.724 121.249 879.724 Q115.439 879.724 112.361 875.14 Q109.305 870.534 109.305 861.807 Q109.305 853.057 112.361 848.474 Q115.439 843.867 121.249 843.867 Z\" fill=\"#000000\" fill-rule=\"evenodd\" fill-opacity=\"1\" /><path clip-path=\"url(#clip870)\" d=\"M 0 0 M141.411 873.173 L146.296 873.173 L146.296 879.052 L141.411 879.052 L141.411 873.173 Z\" fill=\"#000000\" fill-rule=\"evenodd\" fill-opacity=\"1\" /><path clip-path=\"url(#clip870)\" d=\"M 0 0 M156.527 844.492 L174.883 844.492 L174.883 848.428 L160.809 848.428 L160.809 856.9 Q161.828 856.553 162.846 856.391 Q163.865 856.205 164.884 856.205 Q170.671 856.205 174.05 859.377 Q177.43 862.548 177.43 867.965 Q177.43 873.543 173.958 876.645 Q170.485 879.724 164.166 879.724 Q161.99 879.724 159.721 879.353 Q157.476 878.983 155.069 878.242 L155.069 873.543 Q157.152 874.678 159.374 875.233 Q161.596 875.789 164.073 875.789 Q168.078 875.789 170.416 873.682 Q172.754 871.576 172.754 867.965 Q172.754 864.353 170.416 862.247 Q168.078 860.141 164.073 860.141 Q162.198 860.141 160.323 860.557 Q158.472 860.974 156.527 861.853 L156.527 844.492 Z\" fill=\"#000000\" fill-rule=\"evenodd\" fill-opacity=\"1\" /><path clip-path=\"url(#clip870)\" d=\"M 0 0 M111.064 749.666 L118.703 749.666 L118.703 723.301 L110.393 724.967 L110.393 720.708 L118.657 719.042 L123.333 719.042 L123.333 749.666 L130.972 749.666 L130.972 753.602 L111.064 753.602 L111.064 749.666 Z\" fill=\"#000000\" fill-rule=\"evenodd\" fill-opacity=\"1\" /><path clip-path=\"url(#clip870)\" d=\"M 0 0 M140.416 747.722 L145.3 747.722 L145.3 753.602 L140.416 753.602 L140.416 747.722 Z\" fill=\"#000000\" fill-rule=\"evenodd\" fill-opacity=\"1\" /><path clip-path=\"url(#clip870)\" d=\"M 0 0 M165.485 722.12 Q161.874 722.12 160.046 725.685 Q158.24 729.227 158.24 736.356 Q158.24 743.463 160.046 747.028 Q161.874 750.569 165.485 750.569 Q169.12 750.569 170.925 747.028 Q172.754 743.463 172.754 736.356 Q172.754 729.227 170.925 725.685 Q169.12 722.12 165.485 722.12 M165.485 718.417 Q171.296 718.417 174.351 723.023 Q177.43 727.606 177.43 736.356 Q177.43 745.083 174.351 749.69 Q171.296 754.273 165.485 754.273 Q159.675 754.273 156.597 749.69 Q153.541 745.083 153.541 736.356 Q153.541 727.606 156.597 723.023 Q159.675 718.417 165.485 718.417 Z\" fill=\"#000000\" fill-rule=\"evenodd\" fill-opacity=\"1\" /><path clip-path=\"url(#clip870)\" d=\"M 0 0 M112.06 624.216 L119.699 624.216 L119.699 597.85 L111.388 599.517 L111.388 595.257 L119.652 593.591 L124.328 593.591 L124.328 624.216 L131.967 624.216 L131.967 628.151 L112.06 628.151 L112.06 624.216 Z\" fill=\"#000000\" fill-rule=\"evenodd\" fill-opacity=\"1\" /><path clip-path=\"url(#clip870)\" d=\"M 0 0 M141.411 622.271 L146.296 622.271 L146.296 628.151 L141.411 628.151 L141.411 622.271 Z\" fill=\"#000000\" fill-rule=\"evenodd\" fill-opacity=\"1\" /><path clip-path=\"url(#clip870)\" d=\"M 0 0 M156.527 593.591 L174.883 593.591 L174.883 597.526 L160.809 597.526 L160.809 605.998 Q161.828 605.651 162.846 605.489 Q163.865 605.304 164.884 605.304 Q170.671 605.304 174.05 608.475 Q177.43 611.646 177.43 617.063 Q177.43 622.641 173.958 625.743 Q170.485 628.822 164.166 628.822 Q161.99 628.822 159.721 628.452 Q157.476 628.081 155.069 627.34 L155.069 622.641 Q157.152 623.776 159.374 624.331 Q161.596 624.887 164.073 624.887 Q168.078 624.887 170.416 622.78 Q172.754 620.674 172.754 617.063 Q172.754 613.452 170.416 611.345 Q168.078 609.239 164.073 609.239 Q162.198 609.239 160.323 609.655 Q158.472 610.072 156.527 610.952 L156.527 593.591 Z\" fill=\"#000000\" fill-rule=\"evenodd\" fill-opacity=\"1\" /><path clip-path=\"url(#clip870)\" d=\"M 0 0 M114.282 498.765 L130.601 498.765 L130.601 502.7 L108.657 502.7 L108.657 498.765 Q111.319 496.01 115.902 491.38 Q120.509 486.728 121.689 485.385 Q123.935 482.862 124.814 481.126 Q125.717 479.367 125.717 477.677 Q125.717 474.922 123.773 473.186 Q121.851 471.45 118.749 471.45 Q116.55 471.45 114.097 472.214 Q111.666 472.978 108.888 474.529 L108.888 469.806 Q111.712 468.672 114.166 468.093 Q116.62 467.515 118.657 467.515 Q124.027 467.515 127.222 470.2 Q130.416 472.885 130.416 477.376 Q130.416 479.505 129.606 481.427 Q128.819 483.325 126.712 485.917 Q126.134 486.589 123.032 489.806 Q119.93 493.001 114.282 498.765 Z\" fill=\"#000000\" fill-rule=\"evenodd\" fill-opacity=\"1\" /><path clip-path=\"url(#clip870)\" d=\"M 0 0 M140.416 496.82 L145.3 496.82 L145.3 502.7 L140.416 502.7 L140.416 496.82 Z\" fill=\"#000000\" fill-rule=\"evenodd\" fill-opacity=\"1\" /><path clip-path=\"url(#clip870)\" d=\"M 0 0 M165.485 471.218 Q161.874 471.218 160.046 474.783 Q158.24 478.325 158.24 485.454 Q158.24 492.561 160.046 496.126 Q161.874 499.667 165.485 499.667 Q169.12 499.667 170.925 496.126 Q172.754 492.561 172.754 485.454 Q172.754 478.325 170.925 474.783 Q169.12 471.218 165.485 471.218 M165.485 467.515 Q171.296 467.515 174.351 472.121 Q177.43 476.705 177.43 485.454 Q177.43 494.181 174.351 498.788 Q171.296 503.371 165.485 503.371 Q159.675 503.371 156.597 498.788 Q153.541 494.181 153.541 485.454 Q153.541 476.705 156.597 472.121 Q159.675 467.515 165.485 467.515 Z\" fill=\"#000000\" fill-rule=\"evenodd\" fill-opacity=\"1\" /><path clip-path=\"url(#clip870)\" d=\"M 0 0 M115.277 373.314 L131.597 373.314 L131.597 377.249 L109.652 377.249 L109.652 373.314 Q112.314 370.559 116.898 365.929 Q121.504 361.277 122.685 359.934 Q124.93 357.411 125.81 355.675 Q126.712 353.916 126.712 352.226 Q126.712 349.471 124.768 347.735 Q122.847 345.999 119.745 345.999 Q117.546 345.999 115.092 346.763 Q112.662 347.527 109.884 349.078 L109.884 344.356 Q112.708 343.221 115.162 342.643 Q117.615 342.064 119.652 342.064 Q125.023 342.064 128.217 344.749 Q131.411 347.434 131.411 351.925 Q131.411 354.055 130.601 355.976 Q129.814 357.874 127.708 360.467 Q127.129 361.138 124.027 364.355 Q120.925 367.55 115.277 373.314 Z\" fill=\"#000000\" fill-rule=\"evenodd\" fill-opacity=\"1\" /><path clip-path=\"url(#clip870)\" d=\"M 0 0 M141.411 371.369 L146.296 371.369 L146.296 377.249 L141.411 377.249 L141.411 371.369 Z\" fill=\"#000000\" fill-rule=\"evenodd\" fill-opacity=\"1\" /><path clip-path=\"url(#clip870)\" d=\"M 0 0 M156.527 342.689 L174.883 342.689 L174.883 346.624 L160.809 346.624 L160.809 355.096 Q161.828 354.749 162.846 354.587 Q163.865 354.402 164.884 354.402 Q170.671 354.402 174.05 357.573 Q177.43 360.744 177.43 366.161 Q177.43 371.74 173.958 374.841 Q170.485 377.92 164.166 377.92 Q161.99 377.92 159.721 377.55 Q157.476 377.179 155.069 376.439 L155.069 371.74 Q157.152 372.874 159.374 373.429 Q161.596 373.985 164.073 373.985 Q168.078 373.985 170.416 371.879 Q172.754 369.772 172.754 366.161 Q172.754 362.55 170.416 360.443 Q168.078 358.337 164.073 358.337 Q162.198 358.337 160.323 358.754 Q158.472 359.17 156.527 360.05 L156.527 342.689 Z\" fill=\"#000000\" fill-rule=\"evenodd\" fill-opacity=\"1\" /><path clip-path=\"url(#clip870)\" d=\"M 0 0 M124.421 233.164 Q127.777 233.881 129.652 236.15 Q131.55 238.418 131.55 241.752 Q131.55 246.867 128.032 249.668 Q124.513 252.469 118.032 252.469 Q115.856 252.469 113.541 252.029 Q111.25 251.613 108.796 250.756 L108.796 246.242 Q110.74 247.377 113.055 247.955 Q115.37 248.534 117.893 248.534 Q122.291 248.534 124.583 246.798 Q126.898 245.062 126.898 241.752 Q126.898 238.696 124.745 236.983 Q122.615 235.247 118.796 235.247 L114.768 235.247 L114.768 231.405 L118.981 231.405 Q122.43 231.405 124.259 230.039 Q126.087 228.65 126.087 226.057 Q126.087 223.395 124.189 221.983 Q122.314 220.548 118.796 220.548 Q116.875 220.548 114.675 220.965 Q112.476 221.381 109.838 222.261 L109.838 218.094 Q112.5 217.354 114.814 216.983 Q117.152 216.613 119.212 216.613 Q124.537 216.613 127.638 219.044 Q130.74 221.451 130.74 225.571 Q130.74 228.442 129.097 230.432 Q127.453 232.4 124.421 233.164 Z\" fill=\"#000000\" fill-rule=\"evenodd\" fill-opacity=\"1\" /><path clip-path=\"url(#clip870)\" d=\"M 0 0 M140.416 245.918 L145.3 245.918 L145.3 251.798 L140.416 251.798 L140.416 245.918 Z\" fill=\"#000000\" fill-rule=\"evenodd\" fill-opacity=\"1\" /><path clip-path=\"url(#clip870)\" d=\"M 0 0 M165.485 220.317 Q161.874 220.317 160.046 223.881 Q158.24 227.423 158.24 234.553 Q158.24 241.659 160.046 245.224 Q161.874 248.766 165.485 248.766 Q169.12 248.766 170.925 245.224 Q172.754 241.659 172.754 234.553 Q172.754 227.423 170.925 223.881 Q169.12 220.317 165.485 220.317 M165.485 216.613 Q171.296 216.613 174.351 221.219 Q177.43 225.803 177.43 234.553 Q177.43 243.279 174.351 247.886 Q171.296 252.469 165.485 252.469 Q159.675 252.469 156.597 247.886 Q153.541 243.279 153.541 234.553 Q153.541 225.803 156.597 221.219 Q159.675 216.613 165.485 216.613 Z\" fill=\"#000000\" fill-rule=\"evenodd\" fill-opacity=\"1\" /><path clip-path=\"url(#clip870)\" d=\"M 0 0 M45.1129 581.521 L47.9774 581.521 L47.9774 608.448 Q54.0249 608.066 57.2077 604.819 Q60.3587 601.541 60.3587 595.716 Q60.3587 592.342 59.5312 589.191 Q58.7037 586.008 57.0486 582.889 L62.5867 582.889 Q63.9235 586.04 64.6238 589.35 Q65.324 592.661 65.324 596.066 Q65.324 604.596 60.3587 609.593 Q55.3935 614.559 46.9271 614.559 Q38.1742 614.559 33.0499 609.848 Q27.8936 605.106 27.8936 597.085 Q27.8936 589.891 32.5406 585.722 Q37.1557 581.521 45.1129 581.521 M43.3941 587.377 Q38.588 587.441 35.7234 590.082 Q32.8589 592.692 32.8589 597.021 Q32.8589 601.923 35.628 604.883 Q38.397 607.811 43.426 608.257 L43.3941 587.377 Z\" fill=\"#000000\" fill-rule=\"evenodd\" fill-opacity=\"1\" /><path clip-path=\"url(#clip870)\" d=\"M 0 0 M34.2275 551.252 Q33.6546 552.238 33.4 553.416 Q33.1135 554.562 33.1135 555.962 Q33.1135 560.928 36.36 563.601 Q39.5747 566.243 45.6221 566.243 L64.401 566.243 L64.401 572.131 L28.753 572.131 L28.753 566.243 L34.2912 566.243 Q31.0447 564.397 29.4851 561.437 Q27.8936 558.477 27.8936 554.244 Q27.8936 553.639 27.9891 552.907 Q28.0528 552.175 28.2119 551.283 L34.2275 551.252 Z\" fill=\"#000000\" fill-rule=\"evenodd\" fill-opacity=\"1\" /><path clip-path=\"url(#clip870)\" d=\"M 0 0 M34.2275 525.598 Q33.6546 526.585 33.4 527.762 Q33.1135 528.908 33.1135 530.308 Q33.1135 535.274 36.36 537.947 Q39.5747 540.589 45.6221 540.589 L64.401 540.589 L64.401 546.477 L28.753 546.477 L28.753 540.589 L34.2912 540.589 Q31.0447 538.743 29.4851 535.783 Q27.8936 532.823 27.8936 528.59 Q27.8936 527.985 27.9891 527.253 Q28.0528 526.521 28.2119 525.63 L34.2275 525.598 Z\" fill=\"#000000\" fill-rule=\"evenodd\" fill-opacity=\"1\" /><path clip-path=\"url(#clip870)\" d=\"M 0 0 M32.8589 507.074 Q32.8589 511.784 36.551 514.522 Q40.2113 517.259 46.6088 517.259 Q53.0063 517.259 56.6985 514.553 Q60.3587 511.816 60.3587 507.074 Q60.3587 502.395 56.6666 499.658 Q52.9745 496.92 46.6088 496.92 Q40.2749 496.92 36.5828 499.658 Q32.8589 502.395 32.8589 507.074 M27.8936 507.074 Q27.8936 499.435 32.8589 495.074 Q37.8241 490.714 46.6088 490.714 Q55.3617 490.714 60.3587 495.074 Q65.324 499.435 65.324 507.074 Q65.324 514.744 60.3587 519.105 Q55.3617 523.434 46.6088 523.434 Q37.8241 523.434 32.8589 519.105 Q27.8936 514.744 27.8936 507.074 Z\" fill=\"#000000\" fill-rule=\"evenodd\" fill-opacity=\"1\" /><path clip-path=\"url(#clip870)\" d=\"M 0 0 M34.2275 460.349 Q33.6546 461.336 33.4 462.514 Q33.1135 463.66 33.1135 465.06 Q33.1135 470.025 36.36 472.699 Q39.5747 475.341 45.6221 475.341 L64.401 475.341 L64.401 481.229 L28.753 481.229 L28.753 475.341 L34.2912 475.341 Q31.0447 473.495 29.4851 470.534 Q27.8936 467.574 27.8936 463.341 Q27.8936 462.737 27.9891 462.004 Q28.0528 461.272 28.2119 460.381 L34.2275 460.349 Z\" fill=\"#000000\" fill-rule=\"evenodd\" fill-opacity=\"1\" /><path clip-path=\"url(#clip870)\" d=\"M 0 0 M894.804 34.0924 L894.804 9.54393 L902.258 9.54393 L902.258 72.576 L894.804 72.576 L894.804 65.7705 Q892.455 69.8214 888.85 71.8063 Q885.285 73.7508 880.262 73.7508 Q872.038 73.7508 866.853 67.1883 Q861.709 60.6258 861.709 49.9314 Q861.709 39.2371 866.853 32.6746 Q872.038 26.1121 880.262 26.1121 Q885.285 26.1121 888.85 28.0971 Q892.455 30.0415 894.804 34.0924 M869.405 49.9314 Q869.405 58.1548 872.768 62.8538 Q876.17 67.5124 882.085 67.5124 Q887.999 67.5124 891.402 62.8538 Q894.804 58.1548 894.804 49.9314 Q894.804 41.7081 891.402 37.0496 Q887.999 32.3505 882.085 32.3505 Q876.17 32.3505 872.768 37.0496 Q869.405 41.7081 869.405 49.9314 Z\" fill=\"#000000\" fill-rule=\"evenodd\" fill-opacity=\"1\" /><path clip-path=\"url(#clip870)\" d=\"M 0 0 M918.583 34.9026 L970.516 34.9026 L970.516 41.7081 L918.583 41.7081 L918.583 34.9026 M918.583 51.4303 L970.516 51.4303 L970.516 58.3168 L918.583 58.3168 L918.583 51.4303 Z\" fill=\"#000000\" fill-rule=\"evenodd\" fill-opacity=\"1\" /><path clip-path=\"url(#clip870)\" d=\"M 0 0 M988.259 12.096 L1020.38 12.096 L1020.38 18.9825 L995.753 18.9825 L995.753 33.8088 Q997.535 33.2012 999.318 32.9176 Q1001.1 32.5936 1002.88 32.5936 Q1013.01 32.5936 1018.92 38.1433 Q1024.84 43.6931 1024.84 53.1722 Q1024.84 62.9348 1018.76 68.3631 Q1012.69 73.7508 1001.63 73.7508 Q997.819 73.7508 993.849 73.1026 Q989.92 72.4545 985.707 71.1582 L985.707 62.9348 Q989.353 64.9198 993.241 65.892 Q997.13 66.8642 1001.46 66.8642 Q1008.47 66.8642 1012.56 63.1779 Q1016.66 59.4916 1016.66 53.1722 Q1016.66 46.8528 1012.56 43.1664 Q1008.47 39.4801 1001.46 39.4801 Q998.184 39.4801 994.902 40.2093 Q991.662 40.9384 988.259 42.4778 L988.259 12.096 Z\" fill=\"#000000\" fill-rule=\"evenodd\" fill-opacity=\"1\" /><path clip-path=\"url(#clip870)\" d=\"M 0 0 M1041.81 62.2867 L1050.36 62.2867 L1050.36 69.2543 L1043.72 82.2172 L1038.49 82.2172 L1041.81 69.2543 L1041.81 62.2867 Z\" fill=\"#000000\" fill-rule=\"evenodd\" fill-opacity=\"1\" /><path clip-path=\"url(#clip870)\" d=\"M 0 0 M1092.97 12.096 L1101.16 12.096 L1101.16 65.6895 L1130.61 65.6895 L1130.61 72.576 L1092.97 72.576 L1092.97 12.096 Z\" fill=\"#000000\" fill-rule=\"evenodd\" fill-opacity=\"1\" /><path clip-path=\"url(#clip870)\" d=\"M 0 0 M1139.84 34.9026 L1191.78 34.9026 L1191.78 41.7081 L1139.84 41.7081 L1139.84 34.9026 M1139.84 51.4303 L1191.78 51.4303 L1191.78 58.3168 L1139.84 58.3168 L1139.84 51.4303 Z\" fill=\"#000000\" fill-rule=\"evenodd\" fill-opacity=\"1\" /><path clip-path=\"url(#clip870)\" d=\"M 0 0 M1226.94 43.8551 Q1221.1 43.8551 1217.74 46.9743 Q1214.42 50.0935 1214.42 55.5622 Q1214.42 61.0309 1217.74 64.1501 Q1221.1 67.2693 1226.94 67.2693 Q1232.77 67.2693 1236.13 64.1501 Q1239.5 60.9904 1239.5 55.5622 Q1239.5 50.0935 1236.13 46.9743 Q1232.81 43.8551 1226.94 43.8551 M1218.76 40.3713 Q1213.49 39.075 1210.53 35.4697 Q1207.62 31.8644 1207.62 26.6793 Q1207.62 19.4281 1212.76 15.2152 Q1217.95 11.0023 1226.94 11.0023 Q1235.97 11.0023 1241.12 15.2152 Q1246.26 19.4281 1246.26 26.6793 Q1246.26 31.8644 1243.3 35.4697 Q1240.39 39.075 1235.16 40.3713 Q1241.08 41.7486 1244.36 45.759 Q1247.68 49.7694 1247.68 55.5622 Q1247.68 64.3527 1242.29 69.0517 Q1236.94 73.7508 1226.94 73.7508 Q1216.93 73.7508 1211.54 69.0517 Q1206.2 64.3527 1206.2 55.5622 Q1206.2 49.7694 1209.52 45.759 Q1212.84 41.7486 1218.76 40.3713 M1215.76 27.4489 Q1215.76 32.148 1218.67 34.7811 Q1221.63 37.4142 1226.94 37.4142 Q1232.2 37.4142 1235.16 34.7811 Q1238.16 32.148 1238.16 27.4489 Q1238.16 22.7499 1235.16 20.1168 Q1232.2 17.4837 1226.94 17.4837 Q1221.63 17.4837 1218.67 20.1168 Q1215.76 22.7499 1215.76 27.4489 Z\" fill=\"#000000\" fill-rule=\"evenodd\" fill-opacity=\"1\" /><path clip-path=\"url(#clip870)\" d=\"M 0 0 M1263.64 65.6895 L1277.01 65.6895 L1277.01 19.5497 L1262.46 22.4663 L1262.46 15.0127 L1276.93 12.096 L1285.11 12.096 L1285.11 65.6895 L1298.48 65.6895 L1298.48 72.576 L1263.64 72.576 L1263.64 65.6895 Z\" fill=\"#000000\" fill-rule=\"evenodd\" fill-opacity=\"1\" /><polyline clip-path=\"url(#clip872)\" style=\"stroke:#009af9; stroke-width:8; stroke-opacity:1; fill:none\" points=\"\n",
       "  256.826,137.776 359.734,436.877 462.643,559.013 565.551,624.973 668.459,667.809 771.368,699.421 874.276,722.621 977.184,739.416 1080.09,756.061 1183,766.775 \n",
       "  1285.91,776.64 1388.82,786.068 1491.73,795.382 1594.63,802.863 1697.54,809.927 1800.45,816.45 1903.36,822.365 \n",
       "  \"/>\n",
       "<polyline clip-path=\"url(#clip872)\" style=\"stroke:#e26f46; stroke-width:8; stroke-opacity:1; fill:none\" points=\"\n",
       "  256.826,472.052 359.734,637.214 462.643,727.276 565.551,787.262 668.459,811.827 771.368,856.768 874.276,885.757 977.184,894.952 1080.09,902.101 1183,903.75 \n",
       "  1285.91,909.046 1388.82,911.288 1491.73,920.279 1594.63,923.326 1697.54,927.131 1800.45,930.778 1903.36,932.167 \n",
       "  \"/>\n",
       "<polyline clip-path=\"url(#clip872)\" style=\"stroke:#3da44d; stroke-width:8; stroke-opacity:1; fill:none\" points=\"\n",
       "  256.826,628.079 359.734,787.673 462.643,837.519 565.551,869.526 668.459,885.734 771.368,897.88 874.276,907.111 977.184,911.557 1080.09,917.745 1183,919.782 \n",
       "  1285.91,922.899 1388.82,924.816 1491.73,928.157 1594.63,930.76 1697.54,933.814 1800.45,935.433 1903.36,937.132 \n",
       "  \"/>\n",
       "<path clip-path=\"url(#clip870)\" d=\"\n",
       "M1350.35 383.959 L1894.58 383.959 L1894.58 142.039 L1350.35 142.039  Z\n",
       "  \" fill=\"#ffffff\" fill-rule=\"evenodd\" fill-opacity=\"1\"/>\n",
       "<polyline clip-path=\"url(#clip870)\" style=\"stroke:#000000; stroke-width:4; stroke-opacity:1; fill:none\" points=\"\n",
       "  1350.35,383.959 1894.58,383.959 1894.58,142.039 1350.35,142.039 1350.35,383.959 \n",
       "  \"/>\n",
       "<polyline clip-path=\"url(#clip870)\" style=\"stroke:#009af9; stroke-width:4; stroke-opacity:1; fill:none\" points=\"\n",
       "  1369.75,202.519 1486.1,202.519 \n",
       "  \"/>\n",
       "<path clip-path=\"url(#clip870)\" d=\"M 0 0 M1505.49 183.781 L1509.75 183.781 L1509.75 219.799 L1505.49 219.799 L1505.49 183.781 Z\" fill=\"#000000\" fill-rule=\"evenodd\" fill-opacity=\"1\" /><path clip-path=\"url(#clip870)\" d=\"M 0 0 M1540.84 205.772 L1540.84 207.855 L1521.26 207.855 Q1521.54 212.253 1523.9 214.568 Q1526.28 216.859 1530.52 216.859 Q1532.97 216.859 1535.26 216.258 Q1537.58 215.656 1539.85 214.452 L1539.85 218.48 Q1537.55 219.452 1535.15 219.961 Q1532.74 220.471 1530.26 220.471 Q1524.06 220.471 1520.42 216.859 Q1516.81 213.248 1516.81 207.091 Q1516.81 200.725 1520.24 196.998 Q1523.69 193.248 1529.52 193.248 Q1534.75 193.248 1537.79 196.628 Q1540.84 199.985 1540.84 205.772 M1536.58 204.522 Q1536.54 201.026 1534.61 198.943 Q1532.72 196.86 1529.57 196.86 Q1526 196.86 1523.85 198.873 Q1521.72 200.887 1521.4 204.545 L1536.58 204.522 Z\" fill=\"#000000\" fill-rule=\"evenodd\" fill-opacity=\"1\" /><path clip-path=\"url(#clip870)\" d=\"M 0 0 M1559.61 206.767 Q1554.45 206.767 1552.46 207.947 Q1550.47 209.128 1550.47 211.975 Q1550.47 214.244 1551.95 215.586 Q1553.46 216.906 1556.03 216.906 Q1559.57 216.906 1561.7 214.406 Q1563.85 211.883 1563.85 207.716 L1563.85 206.767 L1559.61 206.767 M1568.11 205.008 L1568.11 219.799 L1563.85 219.799 L1563.85 215.864 Q1562.39 218.225 1560.22 219.359 Q1558.04 220.471 1554.89 220.471 Q1550.91 220.471 1548.55 218.248 Q1546.21 216.003 1546.21 212.253 Q1546.21 207.878 1549.13 205.656 Q1552.07 203.434 1557.88 203.434 L1563.85 203.434 L1563.85 203.017 Q1563.85 200.077 1561.91 198.48 Q1559.98 196.86 1556.49 196.86 Q1554.27 196.86 1552.16 197.392 Q1550.05 197.924 1548.11 198.989 L1548.11 195.054 Q1550.45 194.151 1552.65 193.711 Q1554.85 193.248 1556.93 193.248 Q1562.55 193.248 1565.33 196.165 Q1568.11 199.082 1568.11 205.008 Z\" fill=\"#000000\" fill-rule=\"evenodd\" fill-opacity=\"1\" /><path clip-path=\"url(#clip870)\" d=\"M 0 0 M1593.41 194.637 L1593.41 198.665 Q1591.6 197.739 1589.66 197.276 Q1587.72 196.813 1585.63 196.813 Q1582.46 196.813 1580.86 197.785 Q1579.29 198.758 1579.29 200.702 Q1579.29 202.184 1580.42 203.04 Q1581.56 203.873 1584.98 204.637 L1586.44 204.961 Q1590.98 205.934 1592.88 207.716 Q1594.8 209.475 1594.8 212.646 Q1594.8 216.258 1591.93 218.364 Q1589.08 220.471 1584.08 220.471 Q1582 220.471 1579.73 220.054 Q1577.48 219.66 1574.98 218.85 L1574.98 214.452 Q1577.35 215.679 1579.64 216.304 Q1581.93 216.906 1584.17 216.906 Q1587.18 216.906 1588.8 215.887 Q1590.42 214.846 1590.42 212.971 Q1590.42 211.234 1589.24 210.309 Q1588.09 209.383 1584.13 208.526 L1582.65 208.179 Q1578.69 207.346 1576.93 205.633 Q1575.17 203.897 1575.17 200.887 Q1575.17 197.23 1577.76 195.239 Q1580.36 193.248 1585.12 193.248 Q1587.48 193.248 1589.57 193.596 Q1591.65 193.943 1593.41 194.637 Z\" fill=\"#000000\" fill-rule=\"evenodd\" fill-opacity=\"1\" /><path clip-path=\"url(#clip870)\" d=\"M 0 0 M1605.79 186.512 L1605.79 193.873 L1614.57 193.873 L1614.57 197.184 L1605.79 197.184 L1605.79 211.258 Q1605.79 214.429 1606.65 215.332 Q1607.53 216.234 1610.19 216.234 L1614.57 216.234 L1614.57 219.799 L1610.19 219.799 Q1605.26 219.799 1603.39 217.971 Q1601.51 216.119 1601.51 211.258 L1601.51 197.184 L1598.39 197.184 L1598.39 193.873 L1601.51 193.873 L1601.51 186.512 L1605.79 186.512 Z\" fill=\"#000000\" fill-rule=\"evenodd\" fill-opacity=\"1\" /><path clip-path=\"url(#clip870)\" d=\"M 0 0 M1651.77 194.637 L1651.77 198.665 Q1649.96 197.739 1648.02 197.276 Q1646.07 196.813 1643.99 196.813 Q1640.82 196.813 1639.22 197.785 Q1637.65 198.758 1637.65 200.702 Q1637.65 202.184 1638.78 203.04 Q1639.91 203.873 1643.34 204.637 L1644.8 204.961 Q1649.34 205.934 1651.23 207.716 Q1653.16 209.475 1653.16 212.646 Q1653.16 216.258 1650.29 218.364 Q1647.44 220.471 1642.44 220.471 Q1640.35 220.471 1638.09 220.054 Q1635.84 219.66 1633.34 218.85 L1633.34 214.452 Q1635.7 215.679 1637.99 216.304 Q1640.29 216.906 1642.53 216.906 Q1645.54 216.906 1647.16 215.887 Q1648.78 214.846 1648.78 212.971 Q1648.78 211.234 1647.6 210.309 Q1646.44 209.383 1642.48 208.526 L1641 208.179 Q1637.04 207.346 1635.29 205.633 Q1633.53 203.897 1633.53 200.887 Q1633.53 197.23 1636.12 195.239 Q1638.71 193.248 1643.48 193.248 Q1645.84 193.248 1647.92 193.596 Q1650.01 193.943 1651.77 194.637 Z\" fill=\"#000000\" fill-rule=\"evenodd\" fill-opacity=\"1\" /><path clip-path=\"url(#clip870)\" d=\"M 0 0 M1662.48 206.859 Q1662.48 211.559 1664.41 214.244 Q1666.35 216.906 1669.73 216.906 Q1673.11 216.906 1675.05 214.244 Q1677 211.559 1677 206.859 Q1677 202.16 1675.05 199.498 Q1673.11 196.813 1669.73 196.813 Q1666.35 196.813 1664.41 199.498 Q1662.48 202.16 1662.48 206.859 M1677 215.91 Q1675.66 218.225 1673.6 219.359 Q1671.56 220.471 1668.69 220.471 Q1663.99 220.471 1661.03 216.721 Q1658.09 212.971 1658.09 206.859 Q1658.09 200.748 1661.03 196.998 Q1663.99 193.248 1668.69 193.248 Q1671.56 193.248 1673.6 194.383 Q1675.66 195.494 1677 197.809 L1677 193.873 L1681.26 193.873 L1681.26 229.66 L1677 229.66 L1677 215.91 Z\" fill=\"#000000\" fill-rule=\"evenodd\" fill-opacity=\"1\" /><path clip-path=\"url(#clip870)\" d=\"M 0 0 M1689.59 209.568 L1689.59 193.873 L1693.85 193.873 L1693.85 209.406 Q1693.85 213.086 1695.28 214.938 Q1696.72 216.767 1699.59 216.767 Q1703.04 216.767 1705.03 214.568 Q1707.04 212.369 1707.04 208.572 L1707.04 193.873 L1711.3 193.873 L1711.3 219.799 L1707.04 219.799 L1707.04 215.818 Q1705.49 218.179 1703.43 219.336 Q1701.4 220.471 1698.69 220.471 Q1694.22 220.471 1691.91 217.693 Q1689.59 214.915 1689.59 209.568 M1700.31 193.248 L1700.31 193.248 Z\" fill=\"#000000\" fill-rule=\"evenodd\" fill-opacity=\"1\" /><path clip-path=\"url(#clip870)\" d=\"M 0 0 M1731.86 206.767 Q1726.7 206.767 1724.71 207.947 Q1722.72 209.128 1722.72 211.975 Q1722.72 214.244 1724.2 215.586 Q1725.7 216.906 1728.27 216.906 Q1731.81 216.906 1733.94 214.406 Q1736.09 211.883 1736.09 207.716 L1736.09 206.767 L1731.86 206.767 M1740.35 205.008 L1740.35 219.799 L1736.09 219.799 L1736.09 215.864 Q1734.64 218.225 1732.46 219.359 Q1730.28 220.471 1727.14 220.471 Q1723.16 220.471 1720.79 218.248 Q1718.46 216.003 1718.46 212.253 Q1718.46 207.878 1721.37 205.656 Q1724.31 203.434 1730.12 203.434 L1736.09 203.434 L1736.09 203.017 Q1736.09 200.077 1734.15 198.48 Q1732.23 196.86 1728.73 196.86 Q1726.51 196.86 1724.41 197.392 Q1722.3 197.924 1720.35 198.989 L1720.35 195.054 Q1722.69 194.151 1724.89 193.711 Q1727.09 193.248 1729.17 193.248 Q1734.8 193.248 1737.58 196.165 Q1740.35 199.082 1740.35 205.008 Z\" fill=\"#000000\" fill-rule=\"evenodd\" fill-opacity=\"1\" /><path clip-path=\"url(#clip870)\" d=\"M 0 0 M1764.15 197.855 Q1763.43 197.438 1762.58 197.253 Q1761.74 197.045 1760.72 197.045 Q1757.11 197.045 1755.17 199.406 Q1753.25 201.744 1753.25 206.142 L1753.25 219.799 L1748.97 219.799 L1748.97 193.873 L1753.25 193.873 L1753.25 197.901 Q1754.59 195.54 1756.74 194.406 Q1758.9 193.248 1761.97 193.248 Q1762.41 193.248 1762.95 193.318 Q1763.48 193.364 1764.13 193.48 L1764.15 197.855 Z\" fill=\"#000000\" fill-rule=\"evenodd\" fill-opacity=\"1\" /><path clip-path=\"url(#clip870)\" d=\"M 0 0 M1789.75 205.772 L1789.75 207.855 L1770.17 207.855 Q1770.45 212.253 1772.81 214.568 Q1775.19 216.859 1779.43 216.859 Q1781.88 216.859 1784.17 216.258 Q1786.49 215.656 1788.76 214.452 L1788.76 218.48 Q1786.47 219.452 1784.06 219.961 Q1781.65 220.471 1779.17 220.471 Q1772.97 220.471 1769.34 216.859 Q1765.72 213.248 1765.72 207.091 Q1765.72 200.725 1769.15 196.998 Q1772.6 193.248 1778.43 193.248 Q1783.66 193.248 1786.7 196.628 Q1789.75 199.985 1789.75 205.772 M1785.49 204.522 Q1785.45 201.026 1783.53 198.943 Q1781.63 196.86 1778.48 196.86 Q1774.91 196.86 1772.76 198.873 Q1770.63 200.887 1770.31 204.545 L1785.49 204.522 Z\" fill=\"#000000\" fill-rule=\"evenodd\" fill-opacity=\"1\" /><path clip-path=\"url(#clip870)\" d=\"M 0 0 M1813.27 194.637 L1813.27 198.665 Q1811.46 197.739 1809.52 197.276 Q1807.58 196.813 1805.49 196.813 Q1802.32 196.813 1800.72 197.785 Q1799.15 198.758 1799.15 200.702 Q1799.15 202.184 1800.28 203.04 Q1801.42 203.873 1804.84 204.637 L1806.3 204.961 Q1810.84 205.934 1812.74 207.716 Q1814.66 209.475 1814.66 212.646 Q1814.66 216.258 1811.79 218.364 Q1808.94 220.471 1803.94 220.471 Q1801.86 220.471 1799.59 220.054 Q1797.34 219.66 1794.84 218.85 L1794.84 214.452 Q1797.21 215.679 1799.5 216.304 Q1801.79 216.906 1804.03 216.906 Q1807.04 216.906 1808.66 215.887 Q1810.28 214.846 1810.28 212.971 Q1810.28 211.234 1809.1 210.309 Q1807.95 209.383 1803.99 208.526 L1802.51 208.179 Q1798.55 207.346 1796.79 205.633 Q1795.03 203.897 1795.03 200.887 Q1795.03 197.23 1797.62 195.239 Q1800.21 193.248 1804.98 193.248 Q1807.34 193.248 1809.43 193.596 Q1811.51 193.943 1813.27 194.637 Z\" fill=\"#000000\" fill-rule=\"evenodd\" fill-opacity=\"1\" /><polyline clip-path=\"url(#clip870)\" style=\"stroke:#e26f46; stroke-width:4; stroke-opacity:1; fill:none\" points=\"\n",
       "  1369.75,262.999 1486.1,262.999 \n",
       "  \"/>\n",
       "<path clip-path=\"url(#clip870)\" d=\"M 0 0 M1527.74 246.853 L1527.74 251.414 Q1525.08 250.141 1522.72 249.516 Q1520.36 248.891 1518.16 248.891 Q1514.34 248.891 1512.25 250.372 Q1510.19 251.853 1510.19 254.585 Q1510.19 256.877 1511.56 258.057 Q1512.95 259.215 1516.79 259.932 L1519.61 260.511 Q1524.85 261.506 1527.32 264.029 Q1529.82 266.529 1529.82 270.742 Q1529.82 275.765 1526.44 278.358 Q1523.09 280.951 1516.58 280.951 Q1514.13 280.951 1511.35 280.395 Q1508.6 279.839 1505.63 278.751 L1505.63 273.937 Q1508.48 275.534 1511.21 276.344 Q1513.94 277.154 1516.58 277.154 Q1520.59 277.154 1522.76 275.58 Q1524.94 274.006 1524.94 271.089 Q1524.94 268.543 1523.36 267.108 Q1521.81 265.673 1518.25 264.955 L1515.4 264.4 Q1510.17 263.358 1507.83 261.136 Q1505.49 258.914 1505.49 254.955 Q1505.49 250.372 1508.71 247.733 Q1511.95 245.094 1517.62 245.094 Q1520.05 245.094 1522.58 245.534 Q1525.1 245.974 1527.74 246.853 Z\" fill=\"#000000\" fill-rule=\"evenodd\" fill-opacity=\"1\" /><path clip-path=\"url(#clip870)\" d=\"M 0 0 M1546.03 280.279 L1532.83 245.719 L1537.72 245.719 L1548.67 274.816 L1559.64 245.719 L1564.5 245.719 L1551.33 280.279 L1546.03 280.279 Z\" fill=\"#000000\" fill-rule=\"evenodd\" fill-opacity=\"1\" /><path clip-path=\"url(#clip870)\" d=\"M 0 0 M1574.22 249.562 L1574.22 276.437 L1579.87 276.437 Q1587.02 276.437 1590.33 273.196 Q1593.67 269.955 1593.67 262.965 Q1593.67 256.02 1590.33 252.803 Q1587.02 249.562 1579.87 249.562 L1574.22 249.562 M1569.54 245.719 L1579.15 245.719 Q1589.2 245.719 1593.9 249.909 Q1598.6 254.076 1598.6 262.965 Q1598.6 271.9 1593.87 276.089 Q1589.15 280.279 1579.15 280.279 L1569.54 280.279 L1569.54 245.719 Z\" fill=\"#000000\" fill-rule=\"evenodd\" fill-opacity=\"1\" /><polyline clip-path=\"url(#clip870)\" style=\"stroke:#3da44d; stroke-width:4; stroke-opacity:1; fill:none\" points=\"\n",
       "  1369.75,323.479 1486.1,323.479 \n",
       "  \"/>\n",
       "<path clip-path=\"url(#clip870)\" d=\"M 0 0 M1525.84 319.81 Q1527.44 316.94 1529.66 315.574 Q1531.88 314.208 1534.89 314.208 Q1538.94 314.208 1541.14 317.056 Q1543.34 319.88 1543.34 325.111 L1543.34 340.759 L1539.06 340.759 L1539.06 325.25 Q1539.06 321.523 1537.74 319.718 Q1536.42 317.912 1533.71 317.912 Q1530.4 317.912 1528.48 320.111 Q1526.56 322.31 1526.56 326.107 L1526.56 340.759 L1522.28 340.759 L1522.28 325.25 Q1522.28 321.5 1520.96 319.718 Q1519.64 317.912 1516.88 317.912 Q1513.62 317.912 1511.7 320.134 Q1509.78 322.333 1509.78 326.107 L1509.78 340.759 L1505.49 340.759 L1505.49 314.833 L1509.78 314.833 L1509.78 318.861 Q1511.24 316.477 1513.27 315.343 Q1515.31 314.208 1518.11 314.208 Q1520.93 314.208 1522.9 315.644 Q1524.89 317.079 1525.84 319.81 Z\" fill=\"#000000\" fill-rule=\"evenodd\" fill-opacity=\"1\" /><path clip-path=\"url(#clip870)\" d=\"M 0 0 M1551.4 330.528 L1551.4 314.833 L1555.66 314.833 L1555.66 330.366 Q1555.66 334.046 1557.09 335.898 Q1558.53 337.727 1561.4 337.727 Q1564.85 337.727 1566.84 335.528 Q1568.85 333.329 1568.85 329.532 L1568.85 314.833 L1573.11 314.833 L1573.11 340.759 L1568.85 340.759 L1568.85 336.778 Q1567.3 339.139 1565.24 340.296 Q1563.2 341.431 1560.49 341.431 Q1556.03 341.431 1553.71 338.653 Q1551.4 335.875 1551.4 330.528 M1562.11 314.208 L1562.11 314.208 Z\" fill=\"#000000\" fill-rule=\"evenodd\" fill-opacity=\"1\" /><path clip-path=\"url(#clip870)\" d=\"M 0 0 M1581.88 304.741 L1586.14 304.741 L1586.14 340.759 L1581.88 340.759 L1581.88 304.741 Z\" fill=\"#000000\" fill-rule=\"evenodd\" fill-opacity=\"1\" /><path clip-path=\"url(#clip870)\" d=\"M 0 0 M1599.27 307.472 L1599.27 314.833 L1608.04 314.833 L1608.04 318.144 L1599.27 318.144 L1599.27 332.218 Q1599.27 335.389 1600.12 336.292 Q1601 337.194 1603.67 337.194 L1608.04 337.194 L1608.04 340.759 L1603.67 340.759 Q1598.73 340.759 1596.86 338.931 Q1594.98 337.079 1594.98 332.218 L1594.98 318.144 L1591.86 318.144 L1591.86 314.833 L1594.98 314.833 L1594.98 307.472 L1599.27 307.472 Z\" fill=\"#000000\" fill-rule=\"evenodd\" fill-opacity=\"1\" /><path clip-path=\"url(#clip870)\" d=\"M 0 0 M1613.64 314.833 L1617.9 314.833 L1617.9 340.759 L1613.64 340.759 L1613.64 314.833 M1613.64 304.741 L1617.9 304.741 L1617.9 310.134 L1613.64 310.134 L1613.64 304.741 Z\" fill=\"#000000\" fill-rule=\"evenodd\" fill-opacity=\"1\" /><path clip-path=\"url(#clip870)\" d=\"M 0 0 M1643.34 315.597 L1643.34 319.625 Q1641.54 318.699 1639.59 318.236 Q1637.65 317.773 1635.56 317.773 Q1632.39 317.773 1630.79 318.745 Q1629.22 319.718 1629.22 321.662 Q1629.22 323.144 1630.35 324 Q1631.49 324.833 1634.91 325.597 L1636.37 325.921 Q1640.91 326.894 1642.81 328.676 Q1644.73 330.435 1644.73 333.606 Q1644.73 337.218 1641.86 339.324 Q1639.01 341.431 1634.01 341.431 Q1631.93 341.431 1629.66 341.014 Q1627.41 340.62 1624.91 339.81 L1624.91 335.412 Q1627.28 336.639 1629.57 337.264 Q1631.86 337.866 1634.1 337.866 Q1637.11 337.866 1638.73 336.847 Q1640.35 335.806 1640.35 333.931 Q1640.35 332.194 1639.17 331.269 Q1638.02 330.343 1634.06 329.486 L1632.58 329.139 Q1628.62 328.306 1626.86 326.593 Q1625.1 324.857 1625.1 321.847 Q1625.1 318.19 1627.69 316.199 Q1630.29 314.208 1635.05 314.208 Q1637.41 314.208 1639.5 314.556 Q1641.58 314.903 1643.34 315.597 Z\" fill=\"#000000\" fill-rule=\"evenodd\" fill-opacity=\"1\" /><path clip-path=\"url(#clip870)\" d=\"M 0 0 M1670.17 315.829 L1670.17 319.81 Q1668.36 318.815 1666.54 318.329 Q1664.73 317.82 1662.88 317.82 Q1658.73 317.82 1656.44 320.458 Q1654.15 323.074 1654.15 327.819 Q1654.15 332.565 1656.44 335.204 Q1658.73 337.819 1662.88 337.819 Q1664.73 337.819 1666.54 337.333 Q1668.36 336.824 1670.17 335.829 L1670.17 339.764 Q1668.39 340.597 1666.47 341.014 Q1664.57 341.431 1662.41 341.431 Q1656.56 341.431 1653.11 337.75 Q1649.66 334.069 1649.66 327.819 Q1649.66 321.477 1653.13 317.843 Q1656.63 314.208 1662.69 314.208 Q1664.66 314.208 1666.54 314.625 Q1668.41 315.019 1670.17 315.829 Z\" fill=\"#000000\" fill-rule=\"evenodd\" fill-opacity=\"1\" /><path clip-path=\"url(#clip870)\" d=\"M 0 0 M1689.36 327.727 Q1684.2 327.727 1682.21 328.907 Q1680.22 330.088 1680.22 332.935 Q1680.22 335.204 1681.7 336.546 Q1683.2 337.866 1685.77 337.866 Q1689.31 337.866 1691.44 335.366 Q1693.6 332.843 1693.6 328.676 L1693.6 327.727 L1689.36 327.727 M1697.85 325.968 L1697.85 340.759 L1693.6 340.759 L1693.6 336.824 Q1692.14 339.185 1689.96 340.319 Q1687.78 341.431 1684.64 341.431 Q1680.66 341.431 1678.29 339.208 Q1675.96 336.963 1675.96 333.213 Q1675.96 328.838 1678.87 326.616 Q1681.81 324.394 1687.62 324.394 L1693.6 324.394 L1693.6 323.977 Q1693.6 321.037 1691.65 319.44 Q1689.73 317.82 1686.23 317.82 Q1684.01 317.82 1681.91 318.352 Q1679.8 318.884 1677.85 319.949 L1677.85 316.014 Q1680.19 315.111 1682.39 314.671 Q1684.59 314.208 1686.67 314.208 Q1692.3 314.208 1695.08 317.125 Q1697.85 320.042 1697.85 325.968 Z\" fill=\"#000000\" fill-rule=\"evenodd\" fill-opacity=\"1\" /><path clip-path=\"url(#clip870)\" d=\"M 0 0 M1706.63 304.741 L1710.89 304.741 L1710.89 340.759 L1706.63 340.759 L1706.63 304.741 Z\" fill=\"#000000\" fill-rule=\"evenodd\" fill-opacity=\"1\" /><path clip-path=\"url(#clip870)\" d=\"M 0 0 M1741.97 326.732 L1741.97 328.815 L1722.39 328.815 Q1722.67 333.213 1725.03 335.528 Q1727.41 337.819 1731.65 337.819 Q1734.1 337.819 1736.4 337.218 Q1738.71 336.616 1740.98 335.412 L1740.98 339.44 Q1738.69 340.412 1736.28 340.921 Q1733.87 341.431 1731.4 341.431 Q1725.19 341.431 1721.56 337.819 Q1717.95 334.208 1717.95 328.051 Q1717.95 321.685 1721.37 317.958 Q1724.82 314.208 1730.66 314.208 Q1735.89 314.208 1738.92 317.588 Q1741.97 320.945 1741.97 326.732 M1737.72 325.482 Q1737.67 321.986 1735.75 319.903 Q1733.85 317.82 1730.7 317.82 Q1727.14 317.82 1724.98 319.833 Q1722.85 321.847 1722.53 325.505 L1737.72 325.482 Z\" fill=\"#000000\" fill-rule=\"evenodd\" fill-opacity=\"1\" /><path clip-path=\"url(#clip870)\" d=\"M 0 0 M1784.94 307.333 L1784.94 311.894 Q1782.28 310.621 1779.91 309.996 Q1777.55 309.371 1775.35 309.371 Q1771.53 309.371 1769.45 310.852 Q1767.39 312.333 1767.39 315.065 Q1767.39 317.357 1768.76 318.537 Q1770.15 319.695 1773.99 320.412 L1776.81 320.991 Q1782.04 321.986 1784.52 324.509 Q1787.02 327.009 1787.02 331.222 Q1787.02 336.245 1783.64 338.838 Q1780.28 341.431 1773.78 341.431 Q1771.33 341.431 1768.55 340.875 Q1765.79 340.319 1762.83 339.231 L1762.83 334.417 Q1765.68 336.014 1768.41 336.824 Q1771.14 337.634 1773.78 337.634 Q1777.78 337.634 1779.96 336.06 Q1782.14 334.486 1782.14 331.569 Q1782.14 329.023 1780.56 327.588 Q1779.01 326.153 1775.45 325.435 L1772.6 324.88 Q1767.37 323.838 1765.03 321.616 Q1762.69 319.394 1762.69 315.435 Q1762.69 310.852 1765.91 308.213 Q1769.15 305.574 1774.82 305.574 Q1777.25 305.574 1779.78 306.014 Q1782.3 306.454 1784.94 307.333 Z\" fill=\"#000000\" fill-rule=\"evenodd\" fill-opacity=\"1\" /><path clip-path=\"url(#clip870)\" d=\"M 0 0 M1803.22 340.759 L1790.03 306.199 L1794.91 306.199 L1805.86 335.296 L1816.84 306.199 L1821.7 306.199 L1808.53 340.759 L1803.22 340.759 Z\" fill=\"#000000\" fill-rule=\"evenodd\" fill-opacity=\"1\" /><path clip-path=\"url(#clip870)\" d=\"M 0 0 M1831.42 310.042 L1831.42 336.917 L1837.07 336.917 Q1844.22 336.917 1847.53 333.676 Q1850.86 330.435 1850.86 323.445 Q1850.86 316.5 1847.53 313.283 Q1844.22 310.042 1837.07 310.042 L1831.42 310.042 M1826.74 306.199 L1836.35 306.199 Q1846.4 306.199 1851.09 310.389 Q1855.79 314.556 1855.79 323.445 Q1855.79 332.38 1851.07 336.569 Q1846.35 340.759 1836.35 340.759 L1826.74 340.759 L1826.74 306.199 Z\" fill=\"#000000\" fill-rule=\"evenodd\" fill-opacity=\"1\" /></svg>\n"
      ]
     },
     "execution_count": 14,
     "metadata": {},
     "output_type": "execute_result"
    }
   ],
   "source": [
    "graph_experiment(lossEvery,errFs, errSVDs, errMultiSVDs, title=\"d=5, L=81\",startAt=300)"
   ]
  },
  {
   "cell_type": "code",
   "execution_count": 15,
   "metadata": {},
   "outputs": [],
   "source": [
    "savefig(\"lds-5-81.png\")"
   ]
  },
  {
   "cell_type": "code",
   "execution_count": 25,
   "metadata": {},
   "outputs": [
    {
     "data": {
      "text/plain": [
       "1"
      ]
     },
     "metadata": {},
     "output_type": "display_data"
    },
    {
     "data": {
      "text/plain": [
       "107"
      ]
     },
     "metadata": {},
     "output_type": "display_data"
    },
    {
     "data": {
      "text/plain": [
       "(400, 3.6462980572463657, 2.523551873502674, 2.3843604515038006)"
      ]
     },
     "metadata": {},
     "output_type": "display_data"
    },
    {
     "data": {
      "text/plain": [
       "(500, 2.2950895399175306, 1.3969884966000472, 1.2841815739306504)"
      ]
     },
     "metadata": {},
     "output_type": "display_data"
    },
    {
     "data": {
      "text/plain": [
       "(600, 1.6165584943868372, 0.8409236129084185, 0.7980381207570266)"
      ]
     },
     "metadata": {},
     "output_type": "display_data"
    },
    {
     "data": {
      "text/plain": [
       "(700, 1.4219175187902984, 0.7618577921157693, 0.6904757165184299)"
      ]
     },
     "metadata": {},
     "output_type": "display_data"
    },
    {
     "data": {
      "text/plain": [
       "(800, 1.3053722898704836, 0.7633446055209813, 0.7021699107109249)"
      ]
     },
     "metadata": {},
     "output_type": "display_data"
    },
    {
     "data": {
      "text/plain": [
       "(900, 1.2159835675096589, 0.8112046145405513, 0.6618664886530635)"
      ]
     },
     "metadata": {},
     "output_type": "display_data"
    },
    {
     "data": {
      "text/plain": [
       "(1000, 1.0936751240053162, 0.7608006996711651, 0.5950047773269663)"
      ]
     },
     "metadata": {},
     "output_type": "display_data"
    },
    {
     "data": {
      "text/plain": [
       "(1100, 1.0286892297286776, 0.7136660123869322, 0.5623411894057108)"
      ]
     },
     "metadata": {},
     "output_type": "display_data"
    },
    {
     "data": {
      "text/plain": [
       "(1200, 0.9514759337564086, 0.69786673685871, 0.5123632203675694)"
      ]
     },
     "metadata": {},
     "output_type": "display_data"
    },
    {
     "data": {
      "text/plain": [
       "(1300, 0.8904074468103735, 0.597803707304813, 0.4733803051799999)"
      ]
     },
     "metadata": {},
     "output_type": "display_data"
    },
    {
     "data": {
      "text/plain": [
       "(1400, 0.8291010475969585, 0.5233241438430515, 0.43982862507344656)"
      ]
     },
     "metadata": {},
     "output_type": "display_data"
    },
    {
     "data": {
      "text/plain": [
       "(1500, 0.7842873469093111, 0.43618800810033626, 0.39255113093843125)"
      ]
     },
     "metadata": {},
     "output_type": "display_data"
    },
    {
     "data": {
      "text/plain": [
       "(1600, 0.7519420002859988, 0.3751396241315338, 0.36330104951748304)"
      ]
     },
     "metadata": {},
     "output_type": "display_data"
    },
    {
     "data": {
      "text/plain": [
       "(1700, 0.716412527669026, 0.363857455255187, 0.33061380371785115)"
      ]
     },
     "metadata": {},
     "output_type": "display_data"
    },
    {
     "data": {
      "text/plain": [
       "(1800, 0.6798999427472974, 0.3450274551453519, 0.32335451806230964)"
      ]
     },
     "metadata": {},
     "output_type": "display_data"
    },
    {
     "data": {
      "text/plain": [
       "(1900, 0.6569477618247449, 0.3118250610279192, 0.31278130836051593)"
      ]
     },
     "metadata": {},
     "output_type": "display_data"
    },
    {
     "data": {
      "text/plain": [
       "(2000, 0.6517760540359914, 0.308678628672428, 0.3114368779554675)"
      ]
     },
     "metadata": {},
     "output_type": "display_data"
    },
    {
     "data": {
      "text/plain": [
       "2"
      ]
     },
     "metadata": {},
     "output_type": "display_data"
    },
    {
     "data": {
      "text/plain": [
       "107"
      ]
     },
     "metadata": {},
     "output_type": "display_data"
    },
    {
     "data": {
      "text/plain": [
       "(400, 3.735153491836088, 2.5572704889687703, 2.313113009639411)"
      ]
     },
     "metadata": {},
     "output_type": "display_data"
    },
    {
     "data": {
      "text/plain": [
       "(500, 2.4392558491012077, 1.771832029472171, 1.393939470062565)"
      ]
     },
     "metadata": {},
     "output_type": "display_data"
    },
    {
     "data": {
      "text/plain": [
       "(600, 1.684125461682471, 0.9821247103037725, 0.9357243599209719)"
      ]
     },
     "metadata": {},
     "output_type": "display_data"
    },
    {
     "data": {
      "text/plain": [
       "(700, 1.3528880952046876, 0.7201229047971212, 0.674134872434184)"
      ]
     },
     "metadata": {},
     "output_type": "display_data"
    },
    {
     "data": {
      "text/plain": [
       "(800, 1.2097038738224852, 0.6995337097820531, 0.616831193069151)"
      ]
     },
     "metadata": {},
     "output_type": "display_data"
    },
    {
     "data": {
      "text/plain": [
       "(900, 1.1293813200719531, 0.6517885220298593, 0.5691646450197346)"
      ]
     },
     "metadata": {},
     "output_type": "display_data"
    },
    {
     "data": {
      "text/plain": [
       "(1000, 1.0418960391189096, 0.5699186605141223, 0.5179772171343822)"
      ]
     },
     "metadata": {},
     "output_type": "display_data"
    },
    {
     "data": {
      "text/plain": [
       "(1100, 1.0226522395313542, 0.5370644969771337, 0.48851591887546597)"
      ]
     },
     "metadata": {},
     "output_type": "display_data"
    },
    {
     "data": {
      "text/plain": [
       "(1200, 0.985439007817426, 0.5453329405808965, 0.4777567644116474)"
      ]
     },
     "metadata": {},
     "output_type": "display_data"
    },
    {
     "data": {
      "text/plain": [
       "(1300, 0.9365619058552886, 0.47348686214713476, 0.44041133643841623)"
      ]
     },
     "metadata": {},
     "output_type": "display_data"
    },
    {
     "data": {
      "text/plain": [
       "(1400, 0.8833078785926264, 0.42305321565784915, 0.4197917222396898)"
      ]
     },
     "metadata": {},
     "output_type": "display_data"
    },
    {
     "data": {
      "text/plain": [
       "(1500, 0.8221696443353118, 0.4082346176270685, 0.38641136507500307)"
      ]
     },
     "metadata": {},
     "output_type": "display_data"
    },
    {
     "data": {
      "text/plain": [
       "(1600, 0.7888089659029094, 0.37037154892554325, 0.37946091736038706)"
      ]
     },
     "metadata": {},
     "output_type": "display_data"
    },
    {
     "data": {
      "text/plain": [
       "(1700, 0.7419106019254779, 0.3583904462652985, 0.3606175607812683)"
      ]
     },
     "metadata": {},
     "output_type": "display_data"
    },
    {
     "data": {
      "text/plain": [
       "(1800, 0.7135572075695736, 0.3291681954254708, 0.3320400407570628)"
      ]
     },
     "metadata": {},
     "output_type": "display_data"
    },
    {
     "data": {
      "text/plain": [
       "(1900, 0.6934451754320651, 0.33284841593273795, 0.3288075743989481)"
      ]
     },
     "metadata": {},
     "output_type": "display_data"
    },
    {
     "data": {
      "text/plain": [
       "(2000, 0.6682390537618671, 0.3345353880251571, 0.32643305508711323)"
      ]
     },
     "metadata": {},
     "output_type": "display_data"
    },
    {
     "data": {
      "text/plain": [
       "3"
      ]
     },
     "metadata": {},
     "output_type": "display_data"
    },
    {
     "data": {
      "text/plain": [
       "107"
      ]
     },
     "metadata": {},
     "output_type": "display_data"
    },
    {
     "data": {
      "text/plain": [
       "(400, 4.112749525412487, 2.73957982418598, 2.7829942077656367)"
      ]
     },
     "metadata": {},
     "output_type": "display_data"
    },
    {
     "data": {
      "text/plain": [
       "(500, 2.2422089685751394, 1.4171818171393118, 1.2668440575037034)"
      ]
     },
     "metadata": {},
     "output_type": "display_data"
    },
    {
     "data": {
      "text/plain": [
       "(600, 1.703989672597448, 1.0163065631589714, 0.8915367725904765)"
      ]
     },
     "metadata": {},
     "output_type": "display_data"
    },
    {
     "data": {
      "text/plain": [
       "(700, 1.4658685884835585, 0.8166281964002063, 0.776446196634438)"
      ]
     },
     "metadata": {},
     "output_type": "display_data"
    },
    {
     "data": {
      "text/plain": [
       "(800, 1.341793901942535, 0.7334994015441227, 0.7168203774347451)"
      ]
     },
     "metadata": {},
     "output_type": "display_data"
    },
    {
     "data": {
      "text/plain": [
       "(900, 1.1719307786853352, 0.5643584787905029, 0.5364052009595444)"
      ]
     },
     "metadata": {},
     "output_type": "display_data"
    },
    {
     "data": {
      "text/plain": [
       "(1000, 1.0563601721722187, 0.47218542585841117, 0.4680169320209131)"
      ]
     },
     "metadata": {},
     "output_type": "display_data"
    },
    {
     "data": {
      "text/plain": [
       "(1100, 1.0023092829069553, 0.43658223812727326, 0.4407212741952434)"
      ]
     },
     "metadata": {},
     "output_type": "display_data"
    },
    {
     "data": {
      "text/plain": [
       "(1200, 0.9193668539031727, 0.42334848086010324, 0.40974868647832746)"
      ]
     },
     "metadata": {},
     "output_type": "display_data"
    },
    {
     "data": {
      "text/plain": [
       "(1300, 0.8698223289836932, 0.4062686007274035, 0.37244567174735255)"
      ]
     },
     "metadata": {},
     "output_type": "display_data"
    },
    {
     "data": {
      "text/plain": [
       "(1400, 0.8467100092721851, 0.3888325695385435, 0.3613353720182535)"
      ]
     },
     "metadata": {},
     "output_type": "display_data"
    },
    {
     "data": {
      "text/plain": [
       "(1500, 0.8153061578984815, 0.3722730090454894, 0.3415639704474031)"
      ]
     },
     "metadata": {},
     "output_type": "display_data"
    },
    {
     "data": {
      "text/plain": [
       "(1600, 0.7915955810743279, 0.3710659568181416, 0.33066663278978087)"
      ]
     },
     "metadata": {},
     "output_type": "display_data"
    },
    {
     "data": {
      "text/plain": [
       "(1700, 0.7554722258767413, 0.3616932053244621, 0.32061634441523956)"
      ]
     },
     "metadata": {},
     "output_type": "display_data"
    },
    {
     "data": {
      "text/plain": [
       "(1800, 0.7306764849009674, 0.34042100619971244, 0.30770864655346486)"
      ]
     },
     "metadata": {},
     "output_type": "display_data"
    },
    {
     "data": {
      "text/plain": [
       "(1900, 0.6946652574654012, 0.3657175815820594, 0.3153847365157113)"
      ]
     },
     "metadata": {},
     "output_type": "display_data"
    },
    {
     "data": {
      "text/plain": [
       "(2000, 0.6818798278732218, 0.3538404702787658, 0.3009622570644184)"
      ]
     },
     "metadata": {},
     "output_type": "display_data"
    },
    {
     "data": {
      "text/plain": [
       "4"
      ]
     },
     "metadata": {},
     "output_type": "display_data"
    },
    {
     "data": {
      "text/plain": [
       "107"
      ]
     },
     "metadata": {},
     "output_type": "display_data"
    },
    {
     "data": {
      "text/plain": [
       "(400, 3.1129366032697035, 1.6177321237326878, 1.4291734127130327)"
      ]
     },
     "metadata": {},
     "output_type": "display_data"
    },
    {
     "data": {
      "text/plain": [
       "(500, 2.2512306292271997, 1.1593132540671842, 1.0716086425428266)"
      ]
     },
     "metadata": {},
     "output_type": "display_data"
    },
    {
     "data": {
      "text/plain": [
       "(600, 1.7010054930384602, 0.7230238444486274, 0.7836844637722191)"
      ]
     },
     "metadata": {},
     "output_type": "display_data"
    },
    {
     "data": {
      "text/plain": [
       "(700, 1.4178800261531657, 0.5564721906427832, 0.6136575673934246)"
      ]
     },
     "metadata": {},
     "output_type": "display_data"
    },
    {
     "data": {
      "text/plain": [
       "(800, 1.241380205989969, 0.464974255883254, 0.4859927178015283)"
      ]
     },
     "metadata": {},
     "output_type": "display_data"
    },
    {
     "data": {
      "text/plain": [
       "(900, 1.1359399316204908, 0.4316462227526608, 0.48309283363318034)"
      ]
     },
     "metadata": {},
     "output_type": "display_data"
    },
    {
     "data": {
      "text/plain": [
       "(1000, 1.0598893930497402, 0.4187680641691405, 0.44070930566738825)"
      ]
     },
     "metadata": {},
     "output_type": "display_data"
    },
    {
     "data": {
      "text/plain": [
       "(1100, 0.9919182192414349, 0.3976691163544172, 0.410400965940083)"
      ]
     },
     "metadata": {},
     "output_type": "display_data"
    },
    {
     "data": {
      "text/plain": [
       "(1200, 0.9446223331609892, 0.37721309462059643, 0.395147174635185)"
      ]
     },
     "metadata": {},
     "output_type": "display_data"
    },
    {
     "data": {
      "text/plain": [
       "(1300, 0.8922605343376687, 0.3490546187896898, 0.36406245861846354)"
      ]
     },
     "metadata": {},
     "output_type": "display_data"
    },
    {
     "data": {
      "text/plain": [
       "(1400, 0.8420715872491288, 0.33163850060853295, 0.34521452302928163)"
      ]
     },
     "metadata": {},
     "output_type": "display_data"
    },
    {
     "data": {
      "text/plain": [
       "(1500, 0.8154039548585791, 0.32343891879990855, 0.33750205708432224)"
      ]
     },
     "metadata": {},
     "output_type": "display_data"
    },
    {
     "data": {
      "text/plain": [
       "(1600, 0.772789868704594, 0.30897955625732887, 0.31914025446137956)"
      ]
     },
     "metadata": {},
     "output_type": "display_data"
    },
    {
     "data": {
      "text/plain": [
       "(1700, 0.744806832978273, 0.2984059951889903, 0.31578394809375604)"
      ]
     },
     "metadata": {},
     "output_type": "display_data"
    },
    {
     "data": {
      "text/plain": [
       "(1800, 0.727893958675577, 0.2929727337409504, 0.3069582267036286)"
      ]
     },
     "metadata": {},
     "output_type": "display_data"
    },
    {
     "data": {
      "text/plain": [
       "(1900, 0.708056734973316, 0.2831523879847712, 0.2945504620354319)"
      ]
     },
     "metadata": {},
     "output_type": "display_data"
    },
    {
     "data": {
      "text/plain": [
       "(2000, 0.6766882382623978, 0.2750148698857833, 0.2805812640250674)"
      ]
     },
     "metadata": {},
     "output_type": "display_data"
    },
    {
     "data": {
      "text/plain": [
       "5"
      ]
     },
     "metadata": {},
     "output_type": "display_data"
    },
    {
     "data": {
      "text/plain": [
       "107"
      ]
     },
     "metadata": {},
     "output_type": "display_data"
    },
    {
     "data": {
      "text/plain": [
       "(400, 3.8379983400764344, 2.542687759429999, 2.392353972827173)"
      ]
     },
     "metadata": {},
     "output_type": "display_data"
    },
    {
     "data": {
      "text/plain": [
       "(500, 2.4450879294222405, 1.7784472128114526, 1.4113379148100669)"
      ]
     },
     "metadata": {},
     "output_type": "display_data"
    },
    {
     "data": {
      "text/plain": [
       "(600, 1.871893262430935, 1.3759255047478591, 1.036139716685118)"
      ]
     },
     "metadata": {},
     "output_type": "display_data"
    },
    {
     "data": {
      "text/plain": [
       "(700, 1.5349391338004013, 1.1223674320387542, 0.8246000195558418)"
      ]
     },
     "metadata": {},
     "output_type": "display_data"
    },
    {
     "data": {
      "text/plain": [
       "(800, 1.3071860236480572, 0.7452563616243355, 0.6546216054628428)"
      ]
     },
     "metadata": {},
     "output_type": "display_data"
    },
    {
     "data": {
      "text/plain": [
       "(900, 1.16602927742344, 0.6451235518130802, 0.5833624626538096)"
      ]
     },
     "metadata": {},
     "output_type": "display_data"
    },
    {
     "data": {
      "text/plain": [
       "(1000, 1.103011641646774, 0.5581464369893854, 0.5331323234681311)"
      ]
     },
     "metadata": {},
     "output_type": "display_data"
    },
    {
     "data": {
      "text/plain": [
       "(1100, 1.0313185621064127, 0.49820362464597095, 0.47885246159947586)"
      ]
     },
     "metadata": {},
     "output_type": "display_data"
    },
    {
     "data": {
      "text/plain": [
       "(1200, 0.9271442588633605, 0.4170543039950269, 0.42111484697923635)"
      ]
     },
     "metadata": {},
     "output_type": "display_data"
    },
    {
     "data": {
      "text/plain": [
       "(1300, 0.8862592389309889, 0.3941948526775014, 0.39965734596521285)"
      ]
     },
     "metadata": {},
     "output_type": "display_data"
    },
    {
     "data": {
      "text/plain": [
       "(1400, 0.8352150132057157, 0.3846047375204383, 0.38353727124043396)"
      ]
     },
     "metadata": {},
     "output_type": "display_data"
    },
    {
     "data": {
      "text/plain": [
       "(1500, 0.8006987925618131, 0.3562001265389124, 0.37398158607088505)"
      ]
     },
     "metadata": {},
     "output_type": "display_data"
    },
    {
     "data": {
      "text/plain": [
       "(1600, 0.7575106306957271, 0.34744269838870995, 0.3563391641350325)"
      ]
     },
     "metadata": {},
     "output_type": "display_data"
    },
    {
     "data": {
      "text/plain": [
       "(1700, 0.7211563794284747, 0.31549245749676724, 0.32669232346825033)"
      ]
     },
     "metadata": {},
     "output_type": "display_data"
    },
    {
     "data": {
      "text/plain": [
       "(1800, 0.688997640394468, 0.3015825235079876, 0.3123117957170163)"
      ]
     },
     "metadata": {},
     "output_type": "display_data"
    },
    {
     "data": {
      "text/plain": [
       "(1900, 0.6668300302917984, 0.2841921183546309, 0.29807113783721634)"
      ]
     },
     "metadata": {},
     "output_type": "display_data"
    },
    {
     "data": {
      "text/plain": [
       "(2000, 0.6439353027816299, 0.2681064523929817, 0.29074033009061195)"
      ]
     },
     "metadata": {},
     "output_type": "display_data"
    },
    {
     "data": {
      "text/plain": [
       "6"
      ]
     },
     "metadata": {},
     "output_type": "display_data"
    },
    {
     "data": {
      "text/plain": [
       "107"
      ]
     },
     "metadata": {},
     "output_type": "display_data"
    },
    {
     "data": {
      "text/plain": [
       "(400, 3.5817949175193284, 2.5599234807148887, 2.388106982740335)"
      ]
     },
     "metadata": {},
     "output_type": "display_data"
    },
    {
     "data": {
      "text/plain": [
       "(500, 2.118231709090324, 1.421347146285287, 1.2610387605298767)"
      ]
     },
     "metadata": {},
     "output_type": "display_data"
    },
    {
     "data": {
      "text/plain": [
       "(600, 1.7414215607625962, 1.131575554719108, 0.959658514757103)"
      ]
     },
     "metadata": {},
     "output_type": "display_data"
    },
    {
     "data": {
      "text/plain": [
       "(700, 1.476016433499136, 1.008812612488822, 0.7975023708140535)"
      ]
     },
     "metadata": {},
     "output_type": "display_data"
    },
    {
     "data": {
      "text/plain": [
       "(800, 1.318258925163851, 0.9402367106912843, 0.6830483954378791)"
      ]
     },
     "metadata": {},
     "output_type": "display_data"
    },
    {
     "data": {
      "text/plain": [
       "(900, 1.171445551324849, 0.7822251711352821, 0.5775008000713413)"
      ]
     },
     "metadata": {},
     "output_type": "display_data"
    },
    {
     "data": {
      "text/plain": [
       "(1000, 1.050575995229226, 0.5750333977309731, 0.4954317631034519)"
      ]
     },
     "metadata": {},
     "output_type": "display_data"
    },
    {
     "data": {
      "text/plain": [
       "(1100, 0.9724075691188173, 0.5400137003658882, 0.4462783421570202)"
      ]
     },
     "metadata": {},
     "output_type": "display_data"
    },
    {
     "data": {
      "text/plain": [
       "(1200, 0.9060663234409818, 0.4919125330248703, 0.4194362808186572)"
      ]
     },
     "metadata": {},
     "output_type": "display_data"
    },
    {
     "data": {
      "text/plain": [
       "(1300, 0.8435917772532487, 0.4431468573059523, 0.40505575079887085)"
      ]
     },
     "metadata": {},
     "output_type": "display_data"
    },
    {
     "data": {
      "text/plain": [
       "(1400, 0.8095950845674349, 0.42142018809620535, 0.4036808051673293)"
      ]
     },
     "metadata": {},
     "output_type": "display_data"
    },
    {
     "data": {
      "text/plain": [
       "(1500, 0.7766713590269679, 0.37528670313311474, 0.37141573974916314)"
      ]
     },
     "metadata": {},
     "output_type": "display_data"
    },
    {
     "data": {
      "text/plain": [
       "(1600, 0.7684375242607745, 0.36760440821242746, 0.3749608892306278)"
      ]
     },
     "metadata": {},
     "output_type": "display_data"
    },
    {
     "data": {
      "text/plain": [
       "(1700, 0.746099280828485, 0.3825299743489779, 0.3628543041486032)"
      ]
     },
     "metadata": {},
     "output_type": "display_data"
    },
    {
     "data": {
      "text/plain": [
       "(1800, 0.7146288270274702, 0.3570227037139246, 0.34657817353334186)"
      ]
     },
     "metadata": {},
     "output_type": "display_data"
    },
    {
     "data": {
      "text/plain": [
       "(1900, 0.6693921136515704, 0.3430213368027676, 0.3308288385391493)"
      ]
     },
     "metadata": {},
     "output_type": "display_data"
    },
    {
     "data": {
      "text/plain": [
       "(2000, 0.6423711964361439, 0.3221906250226003, 0.31249804595848235)"
      ]
     },
     "metadata": {},
     "output_type": "display_data"
    },
    {
     "data": {
      "text/plain": [
       "7"
      ]
     },
     "metadata": {},
     "output_type": "display_data"
    },
    {
     "data": {
      "text/plain": [
       "107"
      ]
     },
     "metadata": {},
     "output_type": "display_data"
    },
    {
     "data": {
      "text/plain": [
       "(400, 3.179713106704725, 1.829557742586236, 1.8127507832444023)"
      ]
     },
     "metadata": {},
     "output_type": "display_data"
    },
    {
     "data": {
      "text/plain": [
       "(500, 2.294392852308223, 1.3839075650802803, 1.3098160272445285)"
      ]
     },
     "metadata": {},
     "output_type": "display_data"
    },
    {
     "data": {
      "text/plain": [
       "(600, 1.7193369672448982, 1.1412246453728894, 0.9134829989470424)"
      ]
     },
     "metadata": {},
     "output_type": "display_data"
    },
    {
     "data": {
      "text/plain": [
       "(700, 1.4719630232961822, 0.920729155078245, 0.7725473502572638)"
      ]
     },
     "metadata": {},
     "output_type": "display_data"
    },
    {
     "data": {
      "text/plain": [
       "(800, 1.3055767288716684, 0.7075456017526245, 0.619526910332549)"
      ]
     },
     "metadata": {},
     "output_type": "display_data"
    },
    {
     "data": {
      "text/plain": [
       "(900, 1.1797344021135134, 0.6540324934849835, 0.5636993703724577)"
      ]
     },
     "metadata": {},
     "output_type": "display_data"
    },
    {
     "data": {
      "text/plain": [
       "(1000, 1.0887995256439407, 0.6636401407509261, 0.5360912740295094)"
      ]
     },
     "metadata": {},
     "output_type": "display_data"
    },
    {
     "data": {
      "text/plain": [
       "(1100, 0.9932108473113257, 0.6078070142264101, 0.4754496143278312)"
      ]
     },
     "metadata": {},
     "output_type": "display_data"
    },
    {
     "data": {
      "text/plain": [
       "(1200, 0.9508997564796123, 0.5864648875905984, 0.44494825810086563)"
      ]
     },
     "metadata": {},
     "output_type": "display_data"
    },
    {
     "data": {
      "text/plain": [
       "(1300, 0.9014585609020052, 0.5001775932632528, 0.3961681296716353)"
      ]
     },
     "metadata": {},
     "output_type": "display_data"
    },
    {
     "data": {
      "text/plain": [
       "(1400, 0.8559416842627232, 0.5294156384811878, 0.3691933117926716)"
      ]
     },
     "metadata": {},
     "output_type": "display_data"
    },
    {
     "data": {
      "text/plain": [
       "(1500, 0.8243696399480229, 0.4894575761100625, 0.35209314433459926)"
      ]
     },
     "metadata": {},
     "output_type": "display_data"
    },
    {
     "data": {
      "text/plain": [
       "(1600, 0.77904625164228, 0.42660127215660765, 0.3204003984376592)"
      ]
     },
     "metadata": {},
     "output_type": "display_data"
    },
    {
     "data": {
      "text/plain": [
       "(1700, 0.748081513404228, 0.37442936347990513, 0.31171319409915144)"
      ]
     },
     "metadata": {},
     "output_type": "display_data"
    },
    {
     "data": {
      "text/plain": [
       "(1800, 0.7156879283964741, 0.37613349918454636, 0.29240150223070677)"
      ]
     },
     "metadata": {},
     "output_type": "display_data"
    },
    {
     "data": {
      "text/plain": [
       "(1900, 0.6837514277492113, 0.38704040762197467, 0.2895751738027846)"
      ]
     },
     "metadata": {},
     "output_type": "display_data"
    },
    {
     "data": {
      "text/plain": [
       "(2000, 0.6689904824484806, 0.36407113325948276, 0.2882166025574359)"
      ]
     },
     "metadata": {},
     "output_type": "display_data"
    },
    {
     "data": {
      "text/plain": [
       "8"
      ]
     },
     "metadata": {},
     "output_type": "display_data"
    },
    {
     "data": {
      "text/plain": [
       "107"
      ]
     },
     "metadata": {},
     "output_type": "display_data"
    },
    {
     "data": {
      "text/plain": [
       "(400, 3.581950818694508, 2.3220067502307553, 2.0550470118157094)"
      ]
     },
     "metadata": {},
     "output_type": "display_data"
    },
    {
     "data": {
      "text/plain": [
       "(500, 2.1444686041277503, 1.48560867033698, 1.1806777324808952)"
      ]
     },
     "metadata": {},
     "output_type": "display_data"
    },
    {
     "data": {
      "text/plain": [
       "(600, 1.6122534057106201, 1.0310019895517732, 0.8092253695708498)"
      ]
     },
     "metadata": {},
     "output_type": "display_data"
    },
    {
     "data": {
      "text/plain": [
       "(700, 1.417079185290337, 0.9097883272266832, 0.6566362424234521)"
      ]
     },
     "metadata": {},
     "output_type": "display_data"
    },
    {
     "data": {
      "text/plain": [
       "(800, 1.2448791486278148, 0.7054060811457482, 0.5611717063973226)"
      ]
     },
     "metadata": {},
     "output_type": "display_data"
    },
    {
     "data": {
      "text/plain": [
       "(900, 1.119612078221322, 0.6519252567411294, 0.5087509797995048)"
      ]
     },
     "metadata": {},
     "output_type": "display_data"
    },
    {
     "data": {
      "text/plain": [
       "(1000, 1.0469675313629496, 0.6190945410475335, 0.4682094387256692)"
      ]
     },
     "metadata": {},
     "output_type": "display_data"
    },
    {
     "data": {
      "text/plain": [
       "(1100, 0.9728334805989067, 0.6027199999228756, 0.4503312831068854)"
      ]
     },
     "metadata": {},
     "output_type": "display_data"
    },
    {
     "data": {
      "text/plain": [
       "(1200, 0.8890876986826677, 0.5408564743606933, 0.4173011853317996)"
      ]
     },
     "metadata": {},
     "output_type": "display_data"
    },
    {
     "data": {
      "text/plain": [
       "(1300, 0.8404540432866004, 0.4928048985853137, 0.37684191421233054)"
      ]
     },
     "metadata": {},
     "output_type": "display_data"
    },
    {
     "data": {
      "text/plain": [
       "(1400, 0.7924688453503331, 0.3619500474556451, 0.34176612770358555)"
      ]
     },
     "metadata": {},
     "output_type": "display_data"
    },
    {
     "data": {
      "text/plain": [
       "(1500, 0.7600842760570105, 0.38633894904329713, 0.33421875833066655)"
      ]
     },
     "metadata": {},
     "output_type": "display_data"
    },
    {
     "data": {
      "text/plain": [
       "(1600, 0.7392670414395248, 0.32051575038377117, 0.3129221923544152)"
      ]
     },
     "metadata": {},
     "output_type": "display_data"
    },
    {
     "data": {
      "text/plain": [
       "(1700, 0.7105882102215971, 0.30052471940872827, 0.29809546239234763)"
      ]
     },
     "metadata": {},
     "output_type": "display_data"
    },
    {
     "data": {
      "text/plain": [
       "(1800, 0.6779243475138651, 0.27752025769057387, 0.2857049222070514)"
      ]
     },
     "metadata": {},
     "output_type": "display_data"
    },
    {
     "data": {
      "text/plain": [
       "(1900, 0.6659955514932248, 0.276294692387548, 0.2839692853049139)"
      ]
     },
     "metadata": {},
     "output_type": "display_data"
    },
    {
     "data": {
      "text/plain": [
       "(2000, 0.6582831968003034, 0.2727875034761649, 0.27940028666225364)"
      ]
     },
     "metadata": {},
     "output_type": "display_data"
    },
    {
     "data": {
      "text/plain": [
       "9"
      ]
     },
     "metadata": {},
     "output_type": "display_data"
    },
    {
     "data": {
      "text/plain": [
       "107"
      ]
     },
     "metadata": {},
     "output_type": "display_data"
    },
    {
     "data": {
      "text/plain": [
       "(400, 3.115142712954285, 1.9032654745618711, 1.7792476315152626)"
      ]
     },
     "metadata": {},
     "output_type": "display_data"
    },
    {
     "data": {
      "text/plain": [
       "(500, 2.284479408344356, 1.4605709998489, 1.2691135643351716)"
      ]
     },
     "metadata": {},
     "output_type": "display_data"
    },
    {
     "data": {
      "text/plain": [
       "(600, 1.710415809656823, 1.1124548657178783, 0.8674202901380837)"
      ]
     },
     "metadata": {},
     "output_type": "display_data"
    },
    {
     "data": {
      "text/plain": [
       "(700, 1.4095506091520986, 0.8810943012280203, 0.6578515833369748)"
      ]
     },
     "metadata": {},
     "output_type": "display_data"
    },
    {
     "data": {
      "text/plain": [
       "(800, 1.22484985232347, 0.6604440380980992, 0.5671379144475875)"
      ]
     },
     "metadata": {},
     "output_type": "display_data"
    },
    {
     "data": {
      "text/plain": [
       "(900, 1.1082028473733385, 0.5595200007996961, 0.5153871512372795)"
      ]
     },
     "metadata": {},
     "output_type": "display_data"
    },
    {
     "data": {
      "text/plain": [
       "(1000, 1.0718428223439291, 0.5511697113146357, 0.5194254492729099)"
      ]
     },
     "metadata": {},
     "output_type": "display_data"
    },
    {
     "data": {
      "text/plain": [
       "(1100, 0.9869485601138775, 0.466220510570216, 0.444344604971771)"
      ]
     },
     "metadata": {},
     "output_type": "display_data"
    },
    {
     "data": {
      "text/plain": [
       "(1200, 0.9289656109729054, 0.42678818671918184, 0.4143927059800678)"
      ]
     },
     "metadata": {},
     "output_type": "display_data"
    },
    {
     "data": {
      "text/plain": [
       "(1300, 0.8826614949951128, 0.3885409701996136, 0.3861272992756989)"
      ]
     },
     "metadata": {},
     "output_type": "display_data"
    },
    {
     "data": {
      "text/plain": [
       "(1400, 0.8289783292453703, 0.37967580558515945, 0.36458348093921816)"
      ]
     },
     "metadata": {},
     "output_type": "display_data"
    },
    {
     "data": {
      "text/plain": [
       "(1500, 0.7949573442846383, 0.390241710294005, 0.35281352264858495)"
      ]
     },
     "metadata": {},
     "output_type": "display_data"
    },
    {
     "data": {
      "text/plain": [
       "(1600, 0.7596371278779365, 0.3684683722838436, 0.3383287087574922)"
      ]
     },
     "metadata": {},
     "output_type": "display_data"
    },
    {
     "data": {
      "text/plain": [
       "(1700, 0.7295674634042205, 0.3410423581147201, 0.32040988958328354)"
      ]
     },
     "metadata": {},
     "output_type": "display_data"
    },
    {
     "data": {
      "text/plain": [
       "(1800, 0.7087554404305968, 0.3564413956689325, 0.319982432665515)"
      ]
     },
     "metadata": {},
     "output_type": "display_data"
    },
    {
     "data": {
      "text/plain": [
       "(1900, 0.6807141879092029, 0.3442998804556149, 0.29784612318271025)"
      ]
     },
     "metadata": {},
     "output_type": "display_data"
    },
    {
     "data": {
      "text/plain": [
       "(2000, 0.6570638345077036, 0.30410684915093544, 0.28381500448635183)"
      ]
     },
     "metadata": {},
     "output_type": "display_data"
    },
    {
     "data": {
      "text/plain": [
       "10"
      ]
     },
     "metadata": {},
     "output_type": "display_data"
    },
    {
     "data": {
      "text/plain": [
       "107"
      ]
     },
     "metadata": {},
     "output_type": "display_data"
    },
    {
     "data": {
      "text/plain": [
       "(400, 3.1295745990202177, 1.8795753755520976, 1.7321425526179508)"
      ]
     },
     "metadata": {},
     "output_type": "display_data"
    },
    {
     "data": {
      "text/plain": [
       "(500, 2.124792973816694, 1.3971699112451108, 1.164790341367345)"
      ]
     },
     "metadata": {},
     "output_type": "display_data"
    },
    {
     "data": {
      "text/plain": [
       "(600, 1.7101574531133463, 0.8803069336074485, 0.8296092368962392)"
      ]
     },
     "metadata": {},
     "output_type": "display_data"
    },
    {
     "data": {
      "text/plain": [
       "(700, 1.4460370557087994, 0.7291704642157508, 0.7209273414928778)"
      ]
     },
     "metadata": {},
     "output_type": "display_data"
    },
    {
     "data": {
      "text/plain": [
       "(800, 1.2704881859473587, 0.689102786578974, 0.6289869987499193)"
      ]
     },
     "metadata": {},
     "output_type": "display_data"
    },
    {
     "data": {
      "text/plain": [
       "(900, 1.1747458033929388, 0.625223426904941, 0.5677262762761892)"
      ]
     },
     "metadata": {},
     "output_type": "display_data"
    },
    {
     "data": {
      "text/plain": [
       "(1000, 1.0639489662009434, 0.5107566221794523, 0.47266832772858247)"
      ]
     },
     "metadata": {},
     "output_type": "display_data"
    },
    {
     "data": {
      "text/plain": [
       "(1100, 0.977248672684297, 0.48889807730590534, 0.40623385712765187)"
      ]
     },
     "metadata": {},
     "output_type": "display_data"
    },
    {
     "data": {
      "text/plain": [
       "(1200, 0.909998130444745, 0.4988912251998674, 0.40627575175305086)"
      ]
     },
     "metadata": {},
     "output_type": "display_data"
    },
    {
     "data": {
      "text/plain": [
       "(1300, 0.8477324515912207, 0.399564717728426, 0.35664424994018207)"
      ]
     },
     "metadata": {},
     "output_type": "display_data"
    },
    {
     "data": {
      "text/plain": [
       "(1400, 0.8138661494026256, 0.3971712791315099, 0.367529667549909)"
      ]
     },
     "metadata": {},
     "output_type": "display_data"
    },
    {
     "data": {
      "text/plain": [
       "(1500, 0.7830357718035538, 0.3783873731450752, 0.36509557638945817)"
      ]
     },
     "metadata": {},
     "output_type": "display_data"
    },
    {
     "data": {
      "text/plain": [
       "(1600, 0.7616846532142573, 0.35958445504510433, 0.350536070735071)"
      ]
     },
     "metadata": {},
     "output_type": "display_data"
    },
    {
     "data": {
      "text/plain": [
       "(1700, 0.742112380965967, 0.34602738029352464, 0.33351900016543934)"
      ]
     },
     "metadata": {},
     "output_type": "display_data"
    },
    {
     "data": {
      "text/plain": [
       "(1800, 0.7233126989189956, 0.3409243435837932, 0.33036710035863925)"
      ]
     },
     "metadata": {},
     "output_type": "display_data"
    },
    {
     "data": {
      "text/plain": [
       "(1900, 0.7093570198324797, 0.29780522046466745, 0.3044328876860355)"
      ]
     },
     "metadata": {},
     "output_type": "display_data"
    },
    {
     "data": {
      "text/plain": [
       "(2000, 0.6919984107082549, 0.3206327938985959, 0.3196986480732637)"
      ]
     },
     "metadata": {},
     "output_type": "display_data"
    },
    {
     "data": {
      "text/plain": [
       "(100, [3.6462980572463657 2.2950895399175306 … 0.6569477618247449 0.6517760540359914; 3.735153491836088 2.4392558491012077 … 0.6934451754320651 0.6682390537618671; … ; 3.115142712954285 2.284479408344356 … 0.6807141879092029 0.6570638345077036; 3.1295745990202177 2.124792973816694 … 0.7093570198324797 0.6919984107082549], [2.523551873502674 1.3969884966000472 … 0.3118250610279192 0.308678628672428; 2.5572704889687703 1.771832029472171 … 0.33284841593273795 0.3345353880251571; … ; 1.9032654745618711 1.4605709998489 … 0.3442998804556149 0.30410684915093544; 1.8795753755520976 1.3971699112451108 … 0.29780522046466745 0.3206327938985959], [2.3843604515038006 1.2841815739306504 … 0.31278130836051593 0.3114368779554675; 2.313113009639411 1.393939470062565 … 0.3288075743989481 0.32643305508711323; … ; 1.7792476315152626 1.2691135643351716 … 0.29784612318271025 0.28381500448635183; 1.7321425526179508 1.164790341367345 … 0.3044328876860355 0.3196986480732637])"
      ]
     },
     "execution_count": 25,
     "metadata": {},
     "output_type": "execute_result"
    }
   ],
   "source": [
    "Random.seed!(5)\n",
    "(lossEvery,errFs, errSVDs, errMultiSVDs)=average_over_trials(3,10,3,4,0.95,10,2000,100,startAt=300)"
   ]
  },
  {
   "cell_type": "code",
   "execution_count": 26,
   "metadata": {},
   "outputs": [
    {
     "data": {
      "image/svg+xml": [
       "<?xml version=\"1.0\" encoding=\"utf-8\"?>\n",
       "<svg xmlns=\"http://www.w3.org/2000/svg\" xmlns:xlink=\"http://www.w3.org/1999/xlink\" width=\"500\" height=\"280\" viewBox=\"0 0 2000 1120\">\n",
       "<defs>\n",
       "  <clipPath id=\"clip070\">\n",
       "    <rect x=\"0\" y=\"0\" width=\"2000\" height=\"1120\"/>\n",
       "  </clipPath>\n",
       "</defs>\n",
       "<path clip-path=\"url(#clip070)\" d=\"\n",
       "M0 1120 L2000 1120 L2000 0 L0 0  Z\n",
       "  \" fill=\"#ffffff\" fill-rule=\"evenodd\" fill-opacity=\"1\"/>\n",
       "<defs>\n",
       "  <clipPath id=\"clip071\">\n",
       "    <rect x=\"400\" y=\"0\" width=\"1401\" height=\"1120\"/>\n",
       "  </clipPath>\n",
       "</defs>\n",
       "<path clip-path=\"url(#clip070)\" d=\"\n",
       "M207.43 961.113 L1952.76 961.113 L1952.76 113.795 L207.43 113.795  Z\n",
       "  \" fill=\"#ffffff\" fill-rule=\"evenodd\" fill-opacity=\"1\"/>\n",
       "<defs>\n",
       "  <clipPath id=\"clip072\">\n",
       "    <rect x=\"207\" y=\"113\" width=\"1746\" height=\"848\"/>\n",
       "  </clipPath>\n",
       "</defs>\n",
       "<polyline clip-path=\"url(#clip072)\" style=\"stroke:#000000; stroke-width:2; stroke-opacity:0.1; fill:none\" points=\"\n",
       "  462.643,961.113 462.643,113.795 \n",
       "  \"/>\n",
       "<polyline clip-path=\"url(#clip072)\" style=\"stroke:#000000; stroke-width:2; stroke-opacity:0.1; fill:none\" points=\"\n",
       "  771.368,961.113 771.368,113.795 \n",
       "  \"/>\n",
       "<polyline clip-path=\"url(#clip072)\" style=\"stroke:#000000; stroke-width:2; stroke-opacity:0.1; fill:none\" points=\"\n",
       "  1080.09,961.113 1080.09,113.795 \n",
       "  \"/>\n",
       "<polyline clip-path=\"url(#clip072)\" style=\"stroke:#000000; stroke-width:2; stroke-opacity:0.1; fill:none\" points=\"\n",
       "  1388.82,961.113 1388.82,113.795 \n",
       "  \"/>\n",
       "<polyline clip-path=\"url(#clip072)\" style=\"stroke:#000000; stroke-width:2; stroke-opacity:0.1; fill:none\" points=\"\n",
       "  1697.54,961.113 1697.54,113.795 \n",
       "  \"/>\n",
       "<polyline clip-path=\"url(#clip070)\" style=\"stroke:#000000; stroke-width:4; stroke-opacity:1; fill:none\" points=\"\n",
       "  207.43,961.113 1952.76,961.113 \n",
       "  \"/>\n",
       "<polyline clip-path=\"url(#clip070)\" style=\"stroke:#000000; stroke-width:4; stroke-opacity:1; fill:none\" points=\"\n",
       "  462.643,961.113 462.643,950.945 \n",
       "  \"/>\n",
       "<polyline clip-path=\"url(#clip070)\" style=\"stroke:#000000; stroke-width:4; stroke-opacity:1; fill:none\" points=\"\n",
       "  771.368,961.113 771.368,950.945 \n",
       "  \"/>\n",
       "<polyline clip-path=\"url(#clip070)\" style=\"stroke:#000000; stroke-width:4; stroke-opacity:1; fill:none\" points=\"\n",
       "  1080.09,961.113 1080.09,950.945 \n",
       "  \"/>\n",
       "<polyline clip-path=\"url(#clip070)\" style=\"stroke:#000000; stroke-width:4; stroke-opacity:1; fill:none\" points=\"\n",
       "  1388.82,961.113 1388.82,950.945 \n",
       "  \"/>\n",
       "<polyline clip-path=\"url(#clip070)\" style=\"stroke:#000000; stroke-width:4; stroke-opacity:1; fill:none\" points=\"\n",
       "  1697.54,961.113 1697.54,950.945 \n",
       "  \"/>\n",
       "<path clip-path=\"url(#clip070)\" d=\"M 0 0 M432.967 999.441 Q429.819 999.441 427.967 1001.59 Q426.138 1003.75 426.138 1007.5 Q426.138 1011.22 427.967 1013.4 Q429.819 1015.55 432.967 1015.55 Q436.115 1015.55 437.944 1013.4 Q439.795 1011.22 439.795 1007.5 Q439.795 1003.75 437.944 1001.59 Q436.115 999.441 432.967 999.441 M442.249 984.789 L442.249 989.048 Q440.49 988.214 438.684 987.775 Q436.902 987.335 435.143 987.335 Q430.513 987.335 428.059 990.46 Q425.629 993.585 425.282 999.904 Q426.647 997.89 428.708 996.825 Q430.768 995.738 433.245 995.738 Q438.453 995.738 441.462 998.909 Q444.494 1002.06 444.494 1007.5 Q444.494 1012.82 441.346 1016.04 Q438.198 1019.26 432.967 1019.26 Q426.971 1019.26 423.8 1014.67 Q420.629 1010.07 420.629 1001.34 Q420.629 993.145 424.518 988.284 Q428.407 983.4 434.957 983.4 Q436.717 983.4 438.499 983.747 Q440.305 984.094 442.249 984.789 Z\" fill=\"#000000\" fill-rule=\"evenodd\" fill-opacity=\"1\" /><path clip-path=\"url(#clip070)\" d=\"M 0 0 M462.55 987.103 Q458.939 987.103 457.11 990.668 Q455.305 994.21 455.305 1001.34 Q455.305 1008.45 457.11 1012.01 Q458.939 1015.55 462.55 1015.55 Q466.184 1015.55 467.99 1012.01 Q469.818 1008.45 469.818 1001.34 Q469.818 994.21 467.99 990.668 Q466.184 987.103 462.55 987.103 M462.55 983.4 Q468.36 983.4 471.416 988.006 Q474.494 992.589 474.494 1001.34 Q474.494 1010.07 471.416 1014.67 Q468.36 1019.26 462.55 1019.26 Q456.74 1019.26 453.661 1014.67 Q450.606 1010.07 450.606 1001.34 Q450.606 992.589 453.661 988.006 Q456.74 983.4 462.55 983.4 Z\" fill=\"#000000\" fill-rule=\"evenodd\" fill-opacity=\"1\" /><path clip-path=\"url(#clip070)\" d=\"M 0 0 M492.712 987.103 Q489.101 987.103 487.272 990.668 Q485.466 994.21 485.466 1001.34 Q485.466 1008.45 487.272 1012.01 Q489.101 1015.55 492.712 1015.55 Q496.346 1015.55 498.152 1012.01 Q499.98 1008.45 499.98 1001.34 Q499.98 994.21 498.152 990.668 Q496.346 987.103 492.712 987.103 M492.712 983.4 Q498.522 983.4 501.578 988.006 Q504.656 992.589 504.656 1001.34 Q504.656 1010.07 501.578 1014.67 Q498.522 1019.26 492.712 1019.26 Q486.902 1019.26 483.823 1014.67 Q480.767 1010.07 480.767 1001.34 Q480.767 992.589 483.823 988.006 Q486.902 983.4 492.712 983.4 Z\" fill=\"#000000\" fill-rule=\"evenodd\" fill-opacity=\"1\" /><path clip-path=\"url(#clip070)\" d=\"M 0 0 M731.414 1017.87 L731.414 1013.61 Q733.173 1014.44 734.979 1014.88 Q736.785 1015.32 738.521 1015.32 Q743.15 1015.32 745.581 1012.22 Q748.034 1009.09 748.382 1002.75 Q747.039 1004.74 744.979 1005.81 Q742.919 1006.87 740.419 1006.87 Q735.234 1006.87 732.201 1003.75 Q729.192 1000.6 729.192 995.159 Q729.192 989.835 732.34 986.617 Q735.488 983.4 740.72 983.4 Q746.715 983.4 749.863 988.006 Q753.034 992.589 753.034 1001.34 Q753.034 1009.51 749.146 1014.39 Q745.28 1019.26 738.729 1019.26 Q736.97 1019.26 735.164 1018.91 Q733.359 1018.56 731.414 1017.87 M740.72 1003.21 Q743.868 1003.21 745.697 1001.06 Q747.548 998.909 747.548 995.159 Q747.548 991.432 745.697 989.279 Q743.868 987.103 740.72 987.103 Q737.572 987.103 735.72 989.279 Q733.891 991.432 733.891 995.159 Q733.891 998.909 735.72 1001.06 Q737.572 1003.21 740.72 1003.21 Z\" fill=\"#000000\" fill-rule=\"evenodd\" fill-opacity=\"1\" /><path clip-path=\"url(#clip070)\" d=\"M 0 0 M771.437 987.103 Q767.826 987.103 765.997 990.668 Q764.192 994.21 764.192 1001.34 Q764.192 1008.45 765.997 1012.01 Q767.826 1015.55 771.437 1015.55 Q775.071 1015.55 776.877 1012.01 Q778.706 1008.45 778.706 1001.34 Q778.706 994.21 776.877 990.668 Q775.071 987.103 771.437 987.103 M771.437 983.4 Q777.247 983.4 780.303 988.006 Q783.381 992.589 783.381 1001.34 Q783.381 1010.07 780.303 1014.67 Q777.247 1019.26 771.437 1019.26 Q765.627 1019.26 762.548 1014.67 Q759.493 1010.07 759.493 1001.34 Q759.493 992.589 762.548 988.006 Q765.627 983.4 771.437 983.4 Z\" fill=\"#000000\" fill-rule=\"evenodd\" fill-opacity=\"1\" /><path clip-path=\"url(#clip070)\" d=\"M 0 0 M801.599 987.103 Q797.988 987.103 796.159 990.668 Q794.354 994.21 794.354 1001.34 Q794.354 1008.45 796.159 1012.01 Q797.988 1015.55 801.599 1015.55 Q805.233 1015.55 807.039 1012.01 Q808.867 1008.45 808.867 1001.34 Q808.867 994.21 807.039 990.668 Q805.233 987.103 801.599 987.103 M801.599 983.4 Q807.409 983.4 810.465 988.006 Q813.543 992.589 813.543 1001.34 Q813.543 1010.07 810.465 1014.67 Q807.409 1019.26 801.599 1019.26 Q795.789 1019.26 792.71 1014.67 Q789.655 1010.07 789.655 1001.34 Q789.655 992.589 792.71 988.006 Q795.789 983.4 801.599 983.4 Z\" fill=\"#000000\" fill-rule=\"evenodd\" fill-opacity=\"1\" /><path clip-path=\"url(#clip070)\" d=\"M 0 0 M1024.62 1014.65 L1032.26 1014.65 L1032.26 988.284 L1023.95 989.951 L1023.95 985.691 L1032.21 984.025 L1036.89 984.025 L1036.89 1014.65 L1044.53 1014.65 L1044.53 1018.58 L1024.62 1018.58 L1024.62 1014.65 Z\" fill=\"#000000\" fill-rule=\"evenodd\" fill-opacity=\"1\" /><path clip-path=\"url(#clip070)\" d=\"M 0 0 M1058 1014.65 L1074.32 1014.65 L1074.32 1018.58 L1052.37 1018.58 L1052.37 1014.65 Q1055.04 1011.89 1059.62 1007.27 Q1064.22 1002.61 1065.41 1001.27 Q1067.65 998.747 1068.53 997.011 Q1069.43 995.251 1069.43 993.562 Q1069.43 990.807 1067.49 989.071 Q1065.57 987.335 1062.47 987.335 Q1060.27 987.335 1057.81 988.099 Q1055.38 988.863 1052.6 990.413 L1052.6 985.691 Q1055.43 984.557 1057.88 983.978 Q1060.34 983.4 1062.37 983.4 Q1067.74 983.4 1070.94 986.085 Q1074.13 988.77 1074.13 993.261 Q1074.13 995.39 1073.32 997.312 Q1072.53 999.21 1070.43 1001.8 Q1069.85 1002.47 1066.75 1005.69 Q1063.65 1008.89 1058 1014.65 Z\" fill=\"#000000\" fill-rule=\"evenodd\" fill-opacity=\"1\" /><path clip-path=\"url(#clip070)\" d=\"M 0 0 M1094.13 987.103 Q1090.52 987.103 1088.69 990.668 Q1086.89 994.21 1086.89 1001.34 Q1086.89 1008.45 1088.69 1012.01 Q1090.52 1015.55 1094.13 1015.55 Q1097.77 1015.55 1099.57 1012.01 Q1101.4 1008.45 1101.4 1001.34 Q1101.4 994.21 1099.57 990.668 Q1097.77 987.103 1094.13 987.103 M1094.13 983.4 Q1099.94 983.4 1103 988.006 Q1106.08 992.589 1106.08 1001.34 Q1106.08 1010.07 1103 1014.67 Q1099.94 1019.26 1094.13 1019.26 Q1088.32 1019.26 1085.24 1014.67 Q1082.19 1010.07 1082.19 1001.34 Q1082.19 992.589 1085.24 988.006 Q1088.32 983.4 1094.13 983.4 Z\" fill=\"#000000\" fill-rule=\"evenodd\" fill-opacity=\"1\" /><path clip-path=\"url(#clip070)\" d=\"M 0 0 M1124.29 987.103 Q1120.68 987.103 1118.85 990.668 Q1117.05 994.21 1117.05 1001.34 Q1117.05 1008.45 1118.85 1012.01 Q1120.68 1015.55 1124.29 1015.55 Q1127.93 1015.55 1129.73 1012.01 Q1131.56 1008.45 1131.56 1001.34 Q1131.56 994.21 1129.73 990.668 Q1127.93 987.103 1124.29 987.103 M1124.29 983.4 Q1130.1 983.4 1133.16 988.006 Q1136.24 992.589 1136.24 1001.34 Q1136.24 1010.07 1133.16 1014.67 Q1130.1 1019.26 1124.29 1019.26 Q1118.48 1019.26 1115.41 1014.67 Q1112.35 1010.07 1112.35 1001.34 Q1112.35 992.589 1115.41 988.006 Q1118.48 983.4 1124.29 983.4 Z\" fill=\"#000000\" fill-rule=\"evenodd\" fill-opacity=\"1\" /><path clip-path=\"url(#clip070)\" d=\"M 0 0 M1333.34 1014.65 L1340.98 1014.65 L1340.98 988.284 L1332.67 989.951 L1332.67 985.691 L1340.94 984.025 L1345.61 984.025 L1345.61 1014.65 L1353.25 1014.65 L1353.25 1018.58 L1333.34 1018.58 L1333.34 1014.65 Z\" fill=\"#000000\" fill-rule=\"evenodd\" fill-opacity=\"1\" /><path clip-path=\"url(#clip070)\" d=\"M 0 0 M1362.74 984.025 L1381.1 984.025 L1381.1 987.96 L1367.02 987.96 L1367.02 996.432 Q1368.04 996.085 1369.06 995.923 Q1370.08 995.738 1371.1 995.738 Q1376.89 995.738 1380.26 998.909 Q1383.64 1002.08 1383.64 1007.5 Q1383.64 1013.08 1380.17 1016.18 Q1376.7 1019.26 1370.38 1019.26 Q1368.2 1019.26 1365.94 1018.89 Q1363.69 1018.52 1361.28 1017.77 L1361.28 1013.08 Q1363.37 1014.21 1365.59 1014.77 Q1367.81 1015.32 1370.29 1015.32 Q1374.29 1015.32 1376.63 1013.21 Q1378.97 1011.11 1378.97 1007.5 Q1378.97 1003.89 1376.63 1001.78 Q1374.29 999.673 1370.29 999.673 Q1368.41 999.673 1366.54 1000.09 Q1364.69 1000.51 1362.74 1001.39 L1362.74 984.025 Z\" fill=\"#000000\" fill-rule=\"evenodd\" fill-opacity=\"1\" /><path clip-path=\"url(#clip070)\" d=\"M 0 0 M1402.86 987.103 Q1399.25 987.103 1397.42 990.668 Q1395.61 994.21 1395.61 1001.34 Q1395.61 1008.45 1397.42 1012.01 Q1399.25 1015.55 1402.86 1015.55 Q1406.49 1015.55 1408.3 1012.01 Q1410.13 1008.45 1410.13 1001.34 Q1410.13 994.21 1408.3 990.668 Q1406.49 987.103 1402.86 987.103 M1402.86 983.4 Q1408.67 983.4 1411.72 988.006 Q1414.8 992.589 1414.8 1001.34 Q1414.8 1010.07 1411.72 1014.67 Q1408.67 1019.26 1402.86 1019.26 Q1397.05 1019.26 1393.97 1014.67 Q1390.91 1010.07 1390.91 1001.34 Q1390.91 992.589 1393.97 988.006 Q1397.05 983.4 1402.86 983.4 Z\" fill=\"#000000\" fill-rule=\"evenodd\" fill-opacity=\"1\" /><path clip-path=\"url(#clip070)\" d=\"M 0 0 M1433.02 987.103 Q1429.41 987.103 1427.58 990.668 Q1425.77 994.21 1425.77 1001.34 Q1425.77 1008.45 1427.58 1012.01 Q1429.41 1015.55 1433.02 1015.55 Q1436.65 1015.55 1438.46 1012.01 Q1440.29 1008.45 1440.29 1001.34 Q1440.29 994.21 1438.46 990.668 Q1436.65 987.103 1433.02 987.103 M1433.02 983.4 Q1438.83 983.4 1441.88 988.006 Q1444.96 992.589 1444.96 1001.34 Q1444.96 1010.07 1441.88 1014.67 Q1438.83 1019.26 1433.02 1019.26 Q1427.21 1019.26 1424.13 1014.67 Q1421.07 1010.07 1421.07 1001.34 Q1421.07 992.589 1424.13 988.006 Q1427.21 983.4 1433.02 983.4 Z\" fill=\"#000000\" fill-rule=\"evenodd\" fill-opacity=\"1\" /><path clip-path=\"url(#clip070)\" d=\"M 0 0 M1642.07 1014.65 L1649.71 1014.65 L1649.71 988.284 L1641.4 989.951 L1641.4 985.691 L1649.66 984.025 L1654.34 984.025 L1654.34 1014.65 L1661.98 1014.65 L1661.98 1018.58 L1642.07 1018.58 L1642.07 1014.65 Z\" fill=\"#000000\" fill-rule=\"evenodd\" fill-opacity=\"1\" /><path clip-path=\"url(#clip070)\" d=\"M 0 0 M1681.42 1002.17 Q1678.09 1002.17 1676.17 1003.96 Q1674.27 1005.74 1674.27 1008.86 Q1674.27 1011.99 1676.17 1013.77 Q1678.09 1015.55 1681.42 1015.55 Q1684.75 1015.55 1686.68 1013.77 Q1688.6 1011.96 1688.6 1008.86 Q1688.6 1005.74 1686.68 1003.96 Q1684.78 1002.17 1681.42 1002.17 M1676.74 1000.18 Q1673.74 999.441 1672.05 997.381 Q1670.38 995.321 1670.38 992.358 Q1670.38 988.214 1673.32 985.807 Q1676.28 983.4 1681.42 983.4 Q1686.58 983.4 1689.52 985.807 Q1692.46 988.214 1692.46 992.358 Q1692.46 995.321 1690.77 997.381 Q1689.11 999.441 1686.12 1000.18 Q1689.5 1000.97 1691.37 1003.26 Q1693.27 1005.55 1693.27 1008.86 Q1693.27 1013.89 1690.19 1016.57 Q1687.14 1019.26 1681.42 1019.26 Q1675.7 1019.26 1672.62 1016.57 Q1669.57 1013.89 1669.57 1008.86 Q1669.57 1005.55 1671.47 1003.26 Q1673.37 1000.97 1676.74 1000.18 M1675.03 992.798 Q1675.03 995.483 1676.7 996.988 Q1678.39 998.492 1681.42 998.492 Q1684.43 998.492 1686.12 996.988 Q1687.83 995.483 1687.83 992.798 Q1687.83 990.113 1686.12 988.608 Q1684.43 987.103 1681.42 987.103 Q1678.39 987.103 1676.7 988.608 Q1675.03 990.113 1675.03 992.798 Z\" fill=\"#000000\" fill-rule=\"evenodd\" fill-opacity=\"1\" /><path clip-path=\"url(#clip070)\" d=\"M 0 0 M1711.58 987.103 Q1707.97 987.103 1706.14 990.668 Q1704.34 994.21 1704.34 1001.34 Q1704.34 1008.45 1706.14 1012.01 Q1707.97 1015.55 1711.58 1015.55 Q1715.22 1015.55 1717.02 1012.01 Q1718.85 1008.45 1718.85 1001.34 Q1718.85 994.21 1717.02 990.668 Q1715.22 987.103 1711.58 987.103 M1711.58 983.4 Q1717.39 983.4 1720.45 988.006 Q1723.53 992.589 1723.53 1001.34 Q1723.53 1010.07 1720.45 1014.67 Q1717.39 1019.26 1711.58 1019.26 Q1705.77 1019.26 1702.69 1014.67 Q1699.64 1010.07 1699.64 1001.34 Q1699.64 992.589 1702.69 988.006 Q1705.77 983.4 1711.58 983.4 Z\" fill=\"#000000\" fill-rule=\"evenodd\" fill-opacity=\"1\" /><path clip-path=\"url(#clip070)\" d=\"M 0 0 M1741.74 987.103 Q1738.13 987.103 1736.3 990.668 Q1734.5 994.21 1734.5 1001.34 Q1734.5 1008.45 1736.3 1012.01 Q1738.13 1015.55 1741.74 1015.55 Q1745.38 1015.55 1747.18 1012.01 Q1749.01 1008.45 1749.01 1001.34 Q1749.01 994.21 1747.18 990.668 Q1745.38 987.103 1741.74 987.103 M1741.74 983.4 Q1747.55 983.4 1750.61 988.006 Q1753.69 992.589 1753.69 1001.34 Q1753.69 1010.07 1750.61 1014.67 Q1747.55 1019.26 1741.74 1019.26 Q1735.93 1019.26 1732.86 1014.67 Q1729.8 1010.07 1729.8 1001.34 Q1729.8 992.589 1732.86 988.006 Q1735.93 983.4 1741.74 983.4 Z\" fill=\"#000000\" fill-rule=\"evenodd\" fill-opacity=\"1\" /><path clip-path=\"url(#clip070)\" d=\"M 0 0 M1019.25 1054.21 L1019.25 1064.33 L1031.32 1064.33 L1031.32 1068.88 L1019.25 1068.88 L1019.25 1088.23 Q1019.25 1092.59 1020.43 1093.83 Q1021.64 1095.08 1025.3 1095.08 L1031.32 1095.08 L1031.32 1099.98 L1025.3 1099.98 Q1018.52 1099.98 1015.94 1097.46 Q1013.36 1094.92 1013.36 1088.23 L1013.36 1068.88 L1009.07 1068.88 L1009.07 1064.33 L1013.36 1064.33 L1013.36 1054.21 L1019.25 1054.21 Z\" fill=\"#000000\" fill-rule=\"evenodd\" fill-opacity=\"1\" /><path clip-path=\"url(#clip070)\" d=\"M 0 0 M1039.02 1064.33 L1044.87 1064.33 L1044.87 1099.98 L1039.02 1099.98 L1039.02 1064.33 M1039.02 1050.45 L1044.87 1050.45 L1044.87 1057.87 L1039.02 1057.87 L1039.02 1050.45 Z\" fill=\"#000000\" fill-rule=\"evenodd\" fill-opacity=\"1\" /><path clip-path=\"url(#clip070)\" d=\"M 0 0 M1084.88 1071.17 Q1087.08 1067.23 1090.13 1065.35 Q1093.19 1063.47 1097.33 1063.47 Q1102.9 1063.47 1105.92 1067.38 Q1108.95 1071.27 1108.95 1078.46 L1108.95 1099.98 L1103.06 1099.98 L1103.06 1078.65 Q1103.06 1073.53 1101.24 1071.04 Q1099.43 1068.56 1095.7 1068.56 Q1091.15 1068.56 1088.51 1071.59 Q1085.87 1074.61 1085.87 1079.83 L1085.87 1099.98 L1079.98 1099.98 L1079.98 1078.65 Q1079.98 1073.5 1078.17 1071.04 Q1076.35 1068.56 1072.57 1068.56 Q1068.08 1068.56 1065.44 1071.62 Q1062.79 1074.64 1062.79 1079.83 L1062.79 1099.98 L1056.91 1099.98 L1056.91 1064.33 L1062.79 1064.33 L1062.79 1069.87 Q1064.8 1066.59 1067.6 1065.03 Q1070.4 1063.47 1074.25 1063.47 Q1078.14 1063.47 1080.84 1065.44 Q1083.58 1067.42 1084.88 1071.17 Z\" fill=\"#000000\" fill-rule=\"evenodd\" fill-opacity=\"1\" /><path clip-path=\"url(#clip070)\" d=\"M 0 0 M1151.12 1080.69 L1151.12 1083.55 L1124.19 1083.55 Q1124.57 1089.6 1127.82 1092.78 Q1131.1 1095.93 1136.92 1095.93 Q1140.3 1095.93 1143.45 1095.11 Q1146.63 1094.28 1149.75 1092.62 L1149.75 1098.16 Q1146.6 1099.5 1143.29 1100.2 Q1139.98 1100.9 1136.57 1100.9 Q1128.04 1100.9 1123.05 1095.93 Q1118.08 1090.97 1118.08 1082.5 Q1118.08 1073.75 1122.79 1068.63 Q1127.53 1063.47 1135.55 1063.47 Q1142.75 1063.47 1146.92 1068.12 Q1151.12 1072.73 1151.12 1080.69 M1145.26 1078.97 Q1145.2 1074.16 1142.56 1071.3 Q1139.95 1068.43 1135.62 1068.43 Q1130.72 1068.43 1127.76 1071.2 Q1124.83 1073.97 1124.38 1079 L1145.26 1078.97 Z\" fill=\"#000000\" fill-rule=\"evenodd\" fill-opacity=\"1\" /><polyline clip-path=\"url(#clip072)\" style=\"stroke:#000000; stroke-width:2; stroke-opacity:0.1; fill:none\" points=\"\n",
       "  207.43,887.079 1952.76,887.079 \n",
       "  \"/>\n",
       "<polyline clip-path=\"url(#clip072)\" style=\"stroke:#000000; stroke-width:2; stroke-opacity:0.1; fill:none\" points=\"\n",
       "  207.43,762.333 1952.76,762.333 \n",
       "  \"/>\n",
       "<polyline clip-path=\"url(#clip072)\" style=\"stroke:#000000; stroke-width:2; stroke-opacity:0.1; fill:none\" points=\"\n",
       "  207.43,637.588 1952.76,637.588 \n",
       "  \"/>\n",
       "<polyline clip-path=\"url(#clip072)\" style=\"stroke:#000000; stroke-width:2; stroke-opacity:0.1; fill:none\" points=\"\n",
       "  207.43,512.843 1952.76,512.843 \n",
       "  \"/>\n",
       "<polyline clip-path=\"url(#clip072)\" style=\"stroke:#000000; stroke-width:2; stroke-opacity:0.1; fill:none\" points=\"\n",
       "  207.43,388.098 1952.76,388.098 \n",
       "  \"/>\n",
       "<polyline clip-path=\"url(#clip072)\" style=\"stroke:#000000; stroke-width:2; stroke-opacity:0.1; fill:none\" points=\"\n",
       "  207.43,263.352 1952.76,263.352 \n",
       "  \"/>\n",
       "<polyline clip-path=\"url(#clip072)\" style=\"stroke:#000000; stroke-width:2; stroke-opacity:0.1; fill:none\" points=\"\n",
       "  207.43,138.607 1952.76,138.607 \n",
       "  \"/>\n",
       "<polyline clip-path=\"url(#clip070)\" style=\"stroke:#000000; stroke-width:4; stroke-opacity:1; fill:none\" points=\"\n",
       "  207.43,961.113 207.43,113.795 \n",
       "  \"/>\n",
       "<polyline clip-path=\"url(#clip070)\" style=\"stroke:#000000; stroke-width:4; stroke-opacity:1; fill:none\" points=\"\n",
       "  207.43,887.079 228.374,887.079 \n",
       "  \"/>\n",
       "<polyline clip-path=\"url(#clip070)\" style=\"stroke:#000000; stroke-width:4; stroke-opacity:1; fill:none\" points=\"\n",
       "  207.43,762.333 228.374,762.333 \n",
       "  \"/>\n",
       "<polyline clip-path=\"url(#clip070)\" style=\"stroke:#000000; stroke-width:4; stroke-opacity:1; fill:none\" points=\"\n",
       "  207.43,637.588 228.374,637.588 \n",
       "  \"/>\n",
       "<polyline clip-path=\"url(#clip070)\" style=\"stroke:#000000; stroke-width:4; stroke-opacity:1; fill:none\" points=\"\n",
       "  207.43,512.843 228.374,512.843 \n",
       "  \"/>\n",
       "<polyline clip-path=\"url(#clip070)\" style=\"stroke:#000000; stroke-width:4; stroke-opacity:1; fill:none\" points=\"\n",
       "  207.43,388.098 228.374,388.098 \n",
       "  \"/>\n",
       "<polyline clip-path=\"url(#clip070)\" style=\"stroke:#000000; stroke-width:4; stroke-opacity:1; fill:none\" points=\"\n",
       "  207.43,263.352 228.374,263.352 \n",
       "  \"/>\n",
       "<polyline clip-path=\"url(#clip070)\" style=\"stroke:#000000; stroke-width:4; stroke-opacity:1; fill:none\" points=\"\n",
       "  207.43,138.607 228.374,138.607 \n",
       "  \"/>\n",
       "<path clip-path=\"url(#clip070)\" d=\"M 0 0 M121.249 872.877 Q117.638 872.877 115.81 876.442 Q114.004 879.984 114.004 887.113 Q114.004 894.22 115.81 897.785 Q117.638 901.326 121.249 901.326 Q124.884 901.326 126.689 897.785 Q128.518 894.22 128.518 887.113 Q128.518 879.984 126.689 876.442 Q124.884 872.877 121.249 872.877 M121.249 869.174 Q127.06 869.174 130.115 873.78 Q133.194 878.364 133.194 887.113 Q133.194 895.84 130.115 900.447 Q127.06 905.03 121.249 905.03 Q115.439 905.03 112.361 900.447 Q109.305 895.84 109.305 887.113 Q109.305 878.364 112.361 873.78 Q115.439 869.174 121.249 869.174 Z\" fill=\"#000000\" fill-rule=\"evenodd\" fill-opacity=\"1\" /><path clip-path=\"url(#clip070)\" d=\"M 0 0 M141.411 898.479 L146.296 898.479 L146.296 904.359 L141.411 904.359 L141.411 898.479 Z\" fill=\"#000000\" fill-rule=\"evenodd\" fill-opacity=\"1\" /><path clip-path=\"url(#clip070)\" d=\"M 0 0 M156.527 869.799 L174.883 869.799 L174.883 873.734 L160.809 873.734 L160.809 882.206 Q161.828 881.859 162.846 881.697 Q163.865 881.512 164.884 881.512 Q170.671 881.512 174.05 884.683 Q177.43 887.854 177.43 893.271 Q177.43 898.85 173.958 901.951 Q170.485 905.03 164.166 905.03 Q161.99 905.03 159.721 904.66 Q157.476 904.289 155.069 903.549 L155.069 898.85 Q157.152 899.984 159.374 900.539 Q161.596 901.095 164.073 901.095 Q168.078 901.095 170.416 898.988 Q172.754 896.882 172.754 893.271 Q172.754 889.66 170.416 887.553 Q168.078 885.447 164.073 885.447 Q162.198 885.447 160.323 885.863 Q158.472 886.28 156.527 887.16 L156.527 869.799 Z\" fill=\"#000000\" fill-rule=\"evenodd\" fill-opacity=\"1\" /><path clip-path=\"url(#clip070)\" d=\"M 0 0 M111.064 775.678 L118.703 775.678 L118.703 749.313 L110.393 750.979 L110.393 746.72 L118.657 745.053 L123.333 745.053 L123.333 775.678 L130.972 775.678 L130.972 779.613 L111.064 779.613 L111.064 775.678 Z\" fill=\"#000000\" fill-rule=\"evenodd\" fill-opacity=\"1\" /><path clip-path=\"url(#clip070)\" d=\"M 0 0 M140.416 773.734 L145.3 773.734 L145.3 779.613 L140.416 779.613 L140.416 773.734 Z\" fill=\"#000000\" fill-rule=\"evenodd\" fill-opacity=\"1\" /><path clip-path=\"url(#clip070)\" d=\"M 0 0 M165.485 748.132 Q161.874 748.132 160.046 751.697 Q158.24 755.239 158.24 762.368 Q158.24 769.475 160.046 773.039 Q161.874 776.581 165.485 776.581 Q169.12 776.581 170.925 773.039 Q172.754 769.475 172.754 762.368 Q172.754 755.239 170.925 751.697 Q169.12 748.132 165.485 748.132 M165.485 744.428 Q171.296 744.428 174.351 749.035 Q177.43 753.618 177.43 762.368 Q177.43 771.095 174.351 775.701 Q171.296 780.285 165.485 780.285 Q159.675 780.285 156.597 775.701 Q153.541 771.095 153.541 762.368 Q153.541 753.618 156.597 749.035 Q159.675 744.428 165.485 744.428 Z\" fill=\"#000000\" fill-rule=\"evenodd\" fill-opacity=\"1\" /><path clip-path=\"url(#clip070)\" d=\"M 0 0 M112.06 650.933 L119.699 650.933 L119.699 624.567 L111.388 626.234 L111.388 621.975 L119.652 620.308 L124.328 620.308 L124.328 650.933 L131.967 650.933 L131.967 654.868 L112.06 654.868 L112.06 650.933 Z\" fill=\"#000000\" fill-rule=\"evenodd\" fill-opacity=\"1\" /><path clip-path=\"url(#clip070)\" d=\"M 0 0 M141.411 648.989 L146.296 648.989 L146.296 654.868 L141.411 654.868 L141.411 648.989 Z\" fill=\"#000000\" fill-rule=\"evenodd\" fill-opacity=\"1\" /><path clip-path=\"url(#clip070)\" d=\"M 0 0 M156.527 620.308 L174.883 620.308 L174.883 624.243 L160.809 624.243 L160.809 632.716 Q161.828 632.368 162.846 632.206 Q163.865 632.021 164.884 632.021 Q170.671 632.021 174.05 635.192 Q177.43 638.364 177.43 643.78 Q177.43 649.359 173.958 652.461 Q170.485 655.539 164.166 655.539 Q161.99 655.539 159.721 655.169 Q157.476 654.799 155.069 654.058 L155.069 649.359 Q157.152 650.493 159.374 651.049 Q161.596 651.604 164.073 651.604 Q168.078 651.604 170.416 649.498 Q172.754 647.391 172.754 643.78 Q172.754 640.169 170.416 638.063 Q168.078 635.956 164.073 635.956 Q162.198 635.956 160.323 636.373 Q158.472 636.79 156.527 637.669 L156.527 620.308 Z\" fill=\"#000000\" fill-rule=\"evenodd\" fill-opacity=\"1\" /><path clip-path=\"url(#clip070)\" d=\"M 0 0 M114.282 526.188 L130.601 526.188 L130.601 530.123 L108.657 530.123 L108.657 526.188 Q111.319 523.433 115.902 518.804 Q120.509 514.151 121.689 512.808 Q123.935 510.285 124.814 508.549 Q125.717 506.79 125.717 505.1 Q125.717 502.345 123.773 500.609 Q121.851 498.873 118.749 498.873 Q116.55 498.873 114.097 499.637 Q111.666 500.401 108.888 501.952 L108.888 497.23 Q111.712 496.095 114.166 495.517 Q116.62 494.938 118.657 494.938 Q124.027 494.938 127.222 497.623 Q130.416 500.308 130.416 504.799 Q130.416 506.929 129.606 508.85 Q128.819 510.748 126.712 513.341 Q126.134 514.012 123.032 517.229 Q119.93 520.424 114.282 526.188 Z\" fill=\"#000000\" fill-rule=\"evenodd\" fill-opacity=\"1\" /><path clip-path=\"url(#clip070)\" d=\"M 0 0 M140.416 524.243 L145.3 524.243 L145.3 530.123 L140.416 530.123 L140.416 524.243 Z\" fill=\"#000000\" fill-rule=\"evenodd\" fill-opacity=\"1\" /><path clip-path=\"url(#clip070)\" d=\"M 0 0 M165.485 498.642 Q161.874 498.642 160.046 502.206 Q158.24 505.748 158.24 512.878 Q158.24 519.984 160.046 523.549 Q161.874 527.091 165.485 527.091 Q169.12 527.091 170.925 523.549 Q172.754 519.984 172.754 512.878 Q172.754 505.748 170.925 502.206 Q169.12 498.642 165.485 498.642 M165.485 494.938 Q171.296 494.938 174.351 499.544 Q177.43 504.128 177.43 512.878 Q177.43 521.604 174.351 526.211 Q171.296 530.794 165.485 530.794 Q159.675 530.794 156.597 526.211 Q153.541 521.604 153.541 512.878 Q153.541 504.128 156.597 499.544 Q159.675 494.938 165.485 494.938 Z\" fill=\"#000000\" fill-rule=\"evenodd\" fill-opacity=\"1\" /><path clip-path=\"url(#clip070)\" d=\"M 0 0 M115.277 401.442 L131.597 401.442 L131.597 405.378 L109.652 405.378 L109.652 401.442 Q112.314 398.688 116.898 394.058 Q121.504 389.406 122.685 388.063 Q124.93 385.54 125.81 383.804 Q126.712 382.044 126.712 380.355 Q126.712 377.6 124.768 375.864 Q122.847 374.128 119.745 374.128 Q117.546 374.128 115.092 374.892 Q112.662 375.656 109.884 377.207 L109.884 372.484 Q112.708 371.35 115.162 370.771 Q117.615 370.193 119.652 370.193 Q125.023 370.193 128.217 372.878 Q131.411 375.563 131.411 380.054 Q131.411 382.183 130.601 384.105 Q129.814 386.003 127.708 388.595 Q127.129 389.267 124.027 392.484 Q120.925 395.679 115.277 401.442 Z\" fill=\"#000000\" fill-rule=\"evenodd\" fill-opacity=\"1\" /><path clip-path=\"url(#clip070)\" d=\"M 0 0 M141.411 399.498 L146.296 399.498 L146.296 405.378 L141.411 405.378 L141.411 399.498 Z\" fill=\"#000000\" fill-rule=\"evenodd\" fill-opacity=\"1\" /><path clip-path=\"url(#clip070)\" d=\"M 0 0 M156.527 370.818 L174.883 370.818 L174.883 374.753 L160.809 374.753 L160.809 383.225 Q161.828 382.878 162.846 382.716 Q163.865 382.531 164.884 382.531 Q170.671 382.531 174.05 385.702 Q177.43 388.873 177.43 394.29 Q177.43 399.868 173.958 402.97 Q170.485 406.049 164.166 406.049 Q161.99 406.049 159.721 405.679 Q157.476 405.308 155.069 404.567 L155.069 399.868 Q157.152 401.003 159.374 401.558 Q161.596 402.114 164.073 402.114 Q168.078 402.114 170.416 400.007 Q172.754 397.901 172.754 394.29 Q172.754 390.679 170.416 388.572 Q168.078 386.466 164.073 386.466 Q162.198 386.466 160.323 386.882 Q158.472 387.299 156.527 388.179 L156.527 370.818 Z\" fill=\"#000000\" fill-rule=\"evenodd\" fill-opacity=\"1\" /><path clip-path=\"url(#clip070)\" d=\"M 0 0 M124.421 261.998 Q127.777 262.716 129.652 264.984 Q131.55 267.253 131.55 270.586 Q131.55 275.702 128.032 278.503 Q124.513 281.304 118.032 281.304 Q115.856 281.304 113.541 280.864 Q111.25 280.447 108.796 279.591 L108.796 275.077 Q110.74 276.211 113.055 276.79 Q115.37 277.369 117.893 277.369 Q122.291 277.369 124.583 275.632 Q126.898 273.896 126.898 270.586 Q126.898 267.531 124.745 265.818 Q122.615 264.082 118.796 264.082 L114.768 264.082 L114.768 260.239 L118.981 260.239 Q122.43 260.239 124.259 258.873 Q126.087 257.484 126.087 254.892 Q126.087 252.23 124.189 250.818 Q122.314 249.383 118.796 249.383 Q116.875 249.383 114.675 249.799 Q112.476 250.216 109.838 251.096 L109.838 246.929 Q112.5 246.188 114.814 245.818 Q117.152 245.447 119.212 245.447 Q124.537 245.447 127.638 247.878 Q130.74 250.285 130.74 254.406 Q130.74 257.276 129.097 259.267 Q127.453 261.234 124.421 261.998 Z\" fill=\"#000000\" fill-rule=\"evenodd\" fill-opacity=\"1\" /><path clip-path=\"url(#clip070)\" d=\"M 0 0 M140.416 274.753 L145.3 274.753 L145.3 280.632 L140.416 280.632 L140.416 274.753 Z\" fill=\"#000000\" fill-rule=\"evenodd\" fill-opacity=\"1\" /><path clip-path=\"url(#clip070)\" d=\"M 0 0 M165.485 249.151 Q161.874 249.151 160.046 252.716 Q158.24 256.258 158.24 263.387 Q158.24 270.494 160.046 274.058 Q161.874 277.6 165.485 277.6 Q169.12 277.6 170.925 274.058 Q172.754 270.494 172.754 263.387 Q172.754 256.258 170.925 252.716 Q169.12 249.151 165.485 249.151 M165.485 245.447 Q171.296 245.447 174.351 250.054 Q177.43 254.637 177.43 263.387 Q177.43 272.114 174.351 276.72 Q171.296 281.304 165.485 281.304 Q159.675 281.304 156.597 276.72 Q153.541 272.114 153.541 263.387 Q153.541 254.637 156.597 250.054 Q159.675 245.447 165.485 245.447 Z\" fill=\"#000000\" fill-rule=\"evenodd\" fill-opacity=\"1\" /><path clip-path=\"url(#clip070)\" d=\"M 0 0 M125.416 137.253 Q128.773 137.971 130.648 140.239 Q132.546 142.508 132.546 145.841 Q132.546 150.957 129.027 153.757 Q125.509 156.558 119.027 156.558 Q116.851 156.558 114.537 156.119 Q112.245 155.702 109.791 154.845 L109.791 150.332 Q111.736 151.466 114.05 152.045 Q116.365 152.623 118.888 152.623 Q123.287 152.623 125.578 150.887 Q127.893 149.151 127.893 145.841 Q127.893 142.785 125.74 141.072 Q123.611 139.336 119.791 139.336 L115.763 139.336 L115.763 135.494 L119.976 135.494 Q123.425 135.494 125.254 134.128 Q127.083 132.739 127.083 130.147 Q127.083 127.484 125.185 126.072 Q123.31 124.637 119.791 124.637 Q117.87 124.637 115.671 125.054 Q113.472 125.471 110.833 126.35 L110.833 122.184 Q113.495 121.443 115.81 121.072 Q118.148 120.702 120.208 120.702 Q125.532 120.702 128.634 123.133 Q131.736 125.54 131.736 129.66 Q131.736 132.531 130.092 134.521 Q128.449 136.489 125.416 137.253 Z\" fill=\"#000000\" fill-rule=\"evenodd\" fill-opacity=\"1\" /><path clip-path=\"url(#clip070)\" d=\"M 0 0 M141.411 150.008 L146.296 150.008 L146.296 155.887 L141.411 155.887 L141.411 150.008 Z\" fill=\"#000000\" fill-rule=\"evenodd\" fill-opacity=\"1\" /><path clip-path=\"url(#clip070)\" d=\"M 0 0 M156.527 121.327 L174.883 121.327 L174.883 125.262 L160.809 125.262 L160.809 133.734 Q161.828 133.387 162.846 133.225 Q163.865 133.04 164.884 133.04 Q170.671 133.04 174.05 136.211 Q177.43 139.383 177.43 144.799 Q177.43 150.378 173.958 153.48 Q170.485 156.558 164.166 156.558 Q161.99 156.558 159.721 156.188 Q157.476 155.818 155.069 155.077 L155.069 150.378 Q157.152 151.512 159.374 152.068 Q161.596 152.623 164.073 152.623 Q168.078 152.623 170.416 150.517 Q172.754 148.41 172.754 144.799 Q172.754 141.188 170.416 139.082 Q168.078 136.975 164.073 136.975 Q162.198 136.975 160.323 137.392 Q158.472 137.809 156.527 138.688 L156.527 121.327 Z\" fill=\"#000000\" fill-rule=\"evenodd\" fill-opacity=\"1\" /><path clip-path=\"url(#clip070)\" d=\"M 0 0 M45.1129 581.521 L47.9774 581.521 L47.9774 608.448 Q54.0249 608.066 57.2077 604.819 Q60.3587 601.541 60.3587 595.716 Q60.3587 592.342 59.5312 589.191 Q58.7037 586.008 57.0486 582.889 L62.5867 582.889 Q63.9235 586.04 64.6238 589.35 Q65.324 592.661 65.324 596.066 Q65.324 604.596 60.3587 609.593 Q55.3935 614.559 46.9271 614.559 Q38.1742 614.559 33.0499 609.848 Q27.8936 605.106 27.8936 597.085 Q27.8936 589.891 32.5406 585.722 Q37.1557 581.521 45.1129 581.521 M43.3941 587.377 Q38.588 587.441 35.7234 590.082 Q32.8589 592.692 32.8589 597.021 Q32.8589 601.923 35.628 604.883 Q38.397 607.811 43.426 608.257 L43.3941 587.377 Z\" fill=\"#000000\" fill-rule=\"evenodd\" fill-opacity=\"1\" /><path clip-path=\"url(#clip070)\" d=\"M 0 0 M34.2275 551.252 Q33.6546 552.238 33.4 553.416 Q33.1135 554.562 33.1135 555.962 Q33.1135 560.928 36.36 563.601 Q39.5747 566.243 45.6221 566.243 L64.401 566.243 L64.401 572.131 L28.753 572.131 L28.753 566.243 L34.2912 566.243 Q31.0447 564.397 29.4851 561.437 Q27.8936 558.477 27.8936 554.244 Q27.8936 553.639 27.9891 552.907 Q28.0528 552.175 28.2119 551.283 L34.2275 551.252 Z\" fill=\"#000000\" fill-rule=\"evenodd\" fill-opacity=\"1\" /><path clip-path=\"url(#clip070)\" d=\"M 0 0 M34.2275 525.598 Q33.6546 526.585 33.4 527.762 Q33.1135 528.908 33.1135 530.308 Q33.1135 535.274 36.36 537.947 Q39.5747 540.589 45.6221 540.589 L64.401 540.589 L64.401 546.477 L28.753 546.477 L28.753 540.589 L34.2912 540.589 Q31.0447 538.743 29.4851 535.783 Q27.8936 532.823 27.8936 528.59 Q27.8936 527.985 27.9891 527.253 Q28.0528 526.521 28.2119 525.63 L34.2275 525.598 Z\" fill=\"#000000\" fill-rule=\"evenodd\" fill-opacity=\"1\" /><path clip-path=\"url(#clip070)\" d=\"M 0 0 M32.8589 507.074 Q32.8589 511.784 36.551 514.522 Q40.2113 517.259 46.6088 517.259 Q53.0063 517.259 56.6985 514.553 Q60.3587 511.816 60.3587 507.074 Q60.3587 502.395 56.6666 499.658 Q52.9745 496.92 46.6088 496.92 Q40.2749 496.92 36.5828 499.658 Q32.8589 502.395 32.8589 507.074 M27.8936 507.074 Q27.8936 499.435 32.8589 495.074 Q37.8241 490.714 46.6088 490.714 Q55.3617 490.714 60.3587 495.074 Q65.324 499.435 65.324 507.074 Q65.324 514.744 60.3587 519.105 Q55.3617 523.434 46.6088 523.434 Q37.8241 523.434 32.8589 519.105 Q27.8936 514.744 27.8936 507.074 Z\" fill=\"#000000\" fill-rule=\"evenodd\" fill-opacity=\"1\" /><path clip-path=\"url(#clip070)\" d=\"M 0 0 M34.2275 460.349 Q33.6546 461.336 33.4 462.514 Q33.1135 463.66 33.1135 465.06 Q33.1135 470.025 36.36 472.699 Q39.5747 475.341 45.6221 475.341 L64.401 475.341 L64.401 481.229 L28.753 481.229 L28.753 475.341 L34.2912 475.341 Q31.0447 473.495 29.4851 470.534 Q27.8936 467.574 27.8936 463.341 Q27.8936 462.737 27.9891 462.004 Q28.0528 461.272 28.2119 460.381 L34.2275 460.349 Z\" fill=\"#000000\" fill-rule=\"evenodd\" fill-opacity=\"1\" /><path clip-path=\"url(#clip070)\" d=\"M 0 0 M868.413 34.0924 L868.413 9.54393 L875.866 9.54393 L875.866 72.576 L868.413 72.576 L868.413 65.7705 Q866.063 69.8214 862.458 71.8063 Q858.893 73.7508 853.87 73.7508 Q845.647 73.7508 840.462 67.1883 Q835.317 60.6258 835.317 49.9314 Q835.317 39.2371 840.462 32.6746 Q845.647 26.1121 853.87 26.1121 Q858.893 26.1121 862.458 28.0971 Q866.063 30.0415 868.413 34.0924 M843.014 49.9314 Q843.014 58.1548 846.376 62.8538 Q849.779 67.5124 855.693 67.5124 Q861.607 67.5124 865.01 62.8538 Q868.413 58.1548 868.413 49.9314 Q868.413 41.7081 865.01 37.0496 Q861.607 32.3505 855.693 32.3505 Q849.779 32.3505 846.376 37.0496 Q843.014 41.7081 843.014 49.9314 Z\" fill=\"#000000\" fill-rule=\"evenodd\" fill-opacity=\"1\" /><path clip-path=\"url(#clip070)\" d=\"M 0 0 M892.192 34.9026 L944.124 34.9026 L944.124 41.7081 L892.192 41.7081 L892.192 34.9026 M892.192 51.4303 L944.124 51.4303 L944.124 58.3168 L892.192 58.3168 L892.192 51.4303 Z\" fill=\"#000000\" fill-rule=\"evenodd\" fill-opacity=\"1\" /><path clip-path=\"url(#clip070)\" d=\"M 0 0 M963.204 65.6895 L976.572 65.6895 L976.572 19.5497 L962.029 22.4663 L962.029 15.0127 L976.491 12.096 L984.674 12.096 L984.674 65.6895 L998.042 65.6895 L998.042 72.576 L963.204 72.576 L963.204 65.6895 Z\" fill=\"#000000\" fill-rule=\"evenodd\" fill-opacity=\"1\" /><path clip-path=\"url(#clip070)\" d=\"M 0 0 M1032.07 17.4837 Q1025.75 17.4837 1022.55 23.7221 Q1019.39 29.92 1019.39 42.3968 Q1019.39 54.833 1022.55 61.0714 Q1025.75 67.2693 1032.07 67.2693 Q1038.43 67.2693 1041.59 61.0714 Q1044.79 54.833 1044.79 42.3968 Q1044.79 29.92 1041.59 23.7221 Q1038.43 17.4837 1032.07 17.4837 M1032.07 11.0023 Q1042.24 11.0023 1047.58 19.0636 Q1052.97 27.0843 1052.97 42.3968 Q1052.97 57.6687 1047.58 65.73 Q1042.24 73.7508 1032.07 73.7508 Q1021.9 73.7508 1016.51 65.73 Q1011.17 57.6687 1011.17 42.3968 Q1011.17 27.0843 1016.51 19.0636 Q1021.9 11.0023 1032.07 11.0023 Z\" fill=\"#000000\" fill-rule=\"evenodd\" fill-opacity=\"1\" /><path clip-path=\"url(#clip070)\" d=\"M 0 0 M1068.2 62.2867 L1076.75 62.2867 L1076.75 69.2543 L1070.11 82.2172 L1064.88 82.2172 L1068.2 69.2543 L1068.2 62.2867 Z\" fill=\"#000000\" fill-rule=\"evenodd\" fill-opacity=\"1\" /><path clip-path=\"url(#clip070)\" d=\"M 0 0 M1119.37 12.096 L1127.55 12.096 L1127.55 65.6895 L1157 65.6895 L1157 72.576 L1119.37 72.576 L1119.37 12.096 Z\" fill=\"#000000\" fill-rule=\"evenodd\" fill-opacity=\"1\" /><path clip-path=\"url(#clip070)\" d=\"M 0 0 M1166.24 34.9026 L1218.17 34.9026 L1218.17 41.7081 L1166.24 41.7081 L1166.24 34.9026 M1166.24 51.4303 L1218.17 51.4303 L1218.17 58.3168 L1166.24 58.3168 L1166.24 51.4303 Z\" fill=\"#000000\" fill-rule=\"evenodd\" fill-opacity=\"1\" /><path clip-path=\"url(#clip070)\" d=\"M 0 0 M1253.33 43.8551 Q1247.5 43.8551 1244.13 46.9743 Q1240.81 50.0935 1240.81 55.5622 Q1240.81 61.0309 1244.13 64.1501 Q1247.5 67.2693 1253.33 67.2693 Q1259.16 67.2693 1262.53 64.1501 Q1265.89 60.9904 1265.89 55.5622 Q1265.89 50.0935 1262.53 46.9743 Q1259.2 43.8551 1253.33 43.8551 M1245.15 40.3713 Q1239.88 39.075 1236.92 35.4697 Q1234.01 31.8644 1234.01 26.6793 Q1234.01 19.4281 1239.15 15.2152 Q1244.34 11.0023 1253.33 11.0023 Q1262.36 11.0023 1267.51 15.2152 Q1272.65 19.4281 1272.65 26.6793 Q1272.65 31.8644 1269.7 35.4697 Q1266.78 39.075 1261.55 40.3713 Q1267.47 41.7486 1270.75 45.759 Q1274.07 49.7694 1274.07 55.5622 Q1274.07 64.3527 1268.68 69.0517 Q1263.34 73.7508 1253.33 73.7508 Q1243.32 73.7508 1237.94 69.0517 Q1232.59 64.3527 1232.59 55.5622 Q1232.59 49.7694 1235.91 45.759 Q1239.23 41.7486 1245.15 40.3713 M1242.15 27.4489 Q1242.15 32.148 1245.07 34.7811 Q1248.02 37.4142 1253.33 37.4142 Q1258.6 37.4142 1261.55 34.7811 Q1264.55 32.148 1264.55 27.4489 Q1264.55 22.7499 1261.55 20.1168 Q1258.6 17.4837 1253.33 17.4837 Q1248.02 17.4837 1245.07 20.1168 Q1242.15 22.7499 1242.15 27.4489 Z\" fill=\"#000000\" fill-rule=\"evenodd\" fill-opacity=\"1\" /><path clip-path=\"url(#clip070)\" d=\"M 0 0 M1290.03 65.6895 L1303.4 65.6895 L1303.4 19.5497 L1288.86 22.4663 L1288.86 15.0127 L1303.32 12.096 L1311.5 12.096 L1311.5 65.6895 L1324.87 65.6895 L1324.87 72.576 L1290.03 72.576 L1290.03 65.6895 Z\" fill=\"#000000\" fill-rule=\"evenodd\" fill-opacity=\"1\" /><polyline clip-path=\"url(#clip072)\" style=\"stroke:#009af9; stroke-width:8; stroke-opacity:1; fill:none\" points=\"\n",
       "  256.826,137.776 359.734,446.996 462.643,585.915 565.551,652.205 668.459,693.237 771.368,723.088 874.276,745.444 977.184,762.844 1080.09,779.472 1183,792.492 \n",
       "  1285.91,803.817 1388.82,812.806 1491.73,820.447 1594.63,828.294 1697.54,835.151 1800.45,841.443 1903.36,846.132 \n",
       "  \"/>\n",
       "<polyline clip-path=\"url(#clip072)\" style=\"stroke:#e26f46; stroke-width:8; stroke-opacity:1; fill:none\" points=\"\n",
       "  256.826,451.09 359.734,645.762 462.643,756.474 565.551,801.577 668.459,834.453 771.368,852.723 874.276,869.627 977.184,879.872 1080.09,886.936 1183,900.924 \n",
       "  1285.91,908.508 1388.82,914.122 1491.73,921.614 1594.63,925.94 1697.54,929.063 1800.45,931.333 1903.36,933.884 \n",
       "  \"/>\n",
       "<polyline clip-path=\"url(#clip072)\" style=\"stroke:#3da44d; stroke-width:8; stroke-opacity:1; fill:none\" points=\"\n",
       "  256.826,486.165 359.734,697.133 462.643,791.661 565.551,832.571 668.459,856.234 771.368,872.934 874.276,885.914 977.184,896.972 1080.09,904.082 1183,912.756 \n",
       "  1285.91,917.106 1388.82,921.817 1491.73,925.848 1594.63,929.968 1697.54,933.05 1800.45,935.574 1903.36,937.132 \n",
       "  \"/>\n",
       "<path clip-path=\"url(#clip070)\" d=\"\n",
       "M1350.35 383.959 L1894.58 383.959 L1894.58 142.039 L1350.35 142.039  Z\n",
       "  \" fill=\"#ffffff\" fill-rule=\"evenodd\" fill-opacity=\"1\"/>\n",
       "<polyline clip-path=\"url(#clip070)\" style=\"stroke:#000000; stroke-width:4; stroke-opacity:1; fill:none\" points=\"\n",
       "  1350.35,383.959 1894.58,383.959 1894.58,142.039 1350.35,142.039 1350.35,383.959 \n",
       "  \"/>\n",
       "<polyline clip-path=\"url(#clip070)\" style=\"stroke:#009af9; stroke-width:4; stroke-opacity:1; fill:none\" points=\"\n",
       "  1369.75,202.519 1486.1,202.519 \n",
       "  \"/>\n",
       "<path clip-path=\"url(#clip070)\" d=\"M 0 0 M1505.49 183.781 L1509.75 183.781 L1509.75 219.799 L1505.49 219.799 L1505.49 183.781 Z\" fill=\"#000000\" fill-rule=\"evenodd\" fill-opacity=\"1\" /><path clip-path=\"url(#clip070)\" d=\"M 0 0 M1540.84 205.772 L1540.84 207.855 L1521.26 207.855 Q1521.54 212.253 1523.9 214.568 Q1526.28 216.859 1530.52 216.859 Q1532.97 216.859 1535.26 216.258 Q1537.58 215.656 1539.85 214.452 L1539.85 218.48 Q1537.55 219.452 1535.15 219.961 Q1532.74 220.471 1530.26 220.471 Q1524.06 220.471 1520.42 216.859 Q1516.81 213.248 1516.81 207.091 Q1516.81 200.725 1520.24 196.998 Q1523.69 193.248 1529.52 193.248 Q1534.75 193.248 1537.79 196.628 Q1540.84 199.985 1540.84 205.772 M1536.58 204.522 Q1536.54 201.026 1534.61 198.943 Q1532.72 196.86 1529.57 196.86 Q1526 196.86 1523.85 198.873 Q1521.72 200.887 1521.4 204.545 L1536.58 204.522 Z\" fill=\"#000000\" fill-rule=\"evenodd\" fill-opacity=\"1\" /><path clip-path=\"url(#clip070)\" d=\"M 0 0 M1559.61 206.767 Q1554.45 206.767 1552.46 207.947 Q1550.47 209.128 1550.47 211.975 Q1550.47 214.244 1551.95 215.586 Q1553.46 216.906 1556.03 216.906 Q1559.57 216.906 1561.7 214.406 Q1563.85 211.883 1563.85 207.716 L1563.85 206.767 L1559.61 206.767 M1568.11 205.008 L1568.11 219.799 L1563.85 219.799 L1563.85 215.864 Q1562.39 218.225 1560.22 219.359 Q1558.04 220.471 1554.89 220.471 Q1550.91 220.471 1548.55 218.248 Q1546.21 216.003 1546.21 212.253 Q1546.21 207.878 1549.13 205.656 Q1552.07 203.434 1557.88 203.434 L1563.85 203.434 L1563.85 203.017 Q1563.85 200.077 1561.91 198.48 Q1559.98 196.86 1556.49 196.86 Q1554.27 196.86 1552.16 197.392 Q1550.05 197.924 1548.11 198.989 L1548.11 195.054 Q1550.45 194.151 1552.65 193.711 Q1554.85 193.248 1556.93 193.248 Q1562.55 193.248 1565.33 196.165 Q1568.11 199.082 1568.11 205.008 Z\" fill=\"#000000\" fill-rule=\"evenodd\" fill-opacity=\"1\" /><path clip-path=\"url(#clip070)\" d=\"M 0 0 M1593.41 194.637 L1593.41 198.665 Q1591.6 197.739 1589.66 197.276 Q1587.72 196.813 1585.63 196.813 Q1582.46 196.813 1580.86 197.785 Q1579.29 198.758 1579.29 200.702 Q1579.29 202.184 1580.42 203.04 Q1581.56 203.873 1584.98 204.637 L1586.44 204.961 Q1590.98 205.934 1592.88 207.716 Q1594.8 209.475 1594.8 212.646 Q1594.8 216.258 1591.93 218.364 Q1589.08 220.471 1584.08 220.471 Q1582 220.471 1579.73 220.054 Q1577.48 219.66 1574.98 218.85 L1574.98 214.452 Q1577.35 215.679 1579.64 216.304 Q1581.93 216.906 1584.17 216.906 Q1587.18 216.906 1588.8 215.887 Q1590.42 214.846 1590.42 212.971 Q1590.42 211.234 1589.24 210.309 Q1588.09 209.383 1584.13 208.526 L1582.65 208.179 Q1578.69 207.346 1576.93 205.633 Q1575.17 203.897 1575.17 200.887 Q1575.17 197.23 1577.76 195.239 Q1580.36 193.248 1585.12 193.248 Q1587.48 193.248 1589.57 193.596 Q1591.65 193.943 1593.41 194.637 Z\" fill=\"#000000\" fill-rule=\"evenodd\" fill-opacity=\"1\" /><path clip-path=\"url(#clip070)\" d=\"M 0 0 M1605.79 186.512 L1605.79 193.873 L1614.57 193.873 L1614.57 197.184 L1605.79 197.184 L1605.79 211.258 Q1605.79 214.429 1606.65 215.332 Q1607.53 216.234 1610.19 216.234 L1614.57 216.234 L1614.57 219.799 L1610.19 219.799 Q1605.26 219.799 1603.39 217.971 Q1601.51 216.119 1601.51 211.258 L1601.51 197.184 L1598.39 197.184 L1598.39 193.873 L1601.51 193.873 L1601.51 186.512 L1605.79 186.512 Z\" fill=\"#000000\" fill-rule=\"evenodd\" fill-opacity=\"1\" /><path clip-path=\"url(#clip070)\" d=\"M 0 0 M1651.77 194.637 L1651.77 198.665 Q1649.96 197.739 1648.02 197.276 Q1646.07 196.813 1643.99 196.813 Q1640.82 196.813 1639.22 197.785 Q1637.65 198.758 1637.65 200.702 Q1637.65 202.184 1638.78 203.04 Q1639.91 203.873 1643.34 204.637 L1644.8 204.961 Q1649.34 205.934 1651.23 207.716 Q1653.16 209.475 1653.16 212.646 Q1653.16 216.258 1650.29 218.364 Q1647.44 220.471 1642.44 220.471 Q1640.35 220.471 1638.09 220.054 Q1635.84 219.66 1633.34 218.85 L1633.34 214.452 Q1635.7 215.679 1637.99 216.304 Q1640.29 216.906 1642.53 216.906 Q1645.54 216.906 1647.16 215.887 Q1648.78 214.846 1648.78 212.971 Q1648.78 211.234 1647.6 210.309 Q1646.44 209.383 1642.48 208.526 L1641 208.179 Q1637.04 207.346 1635.29 205.633 Q1633.53 203.897 1633.53 200.887 Q1633.53 197.23 1636.12 195.239 Q1638.71 193.248 1643.48 193.248 Q1645.84 193.248 1647.92 193.596 Q1650.01 193.943 1651.77 194.637 Z\" fill=\"#000000\" fill-rule=\"evenodd\" fill-opacity=\"1\" /><path clip-path=\"url(#clip070)\" d=\"M 0 0 M1662.48 206.859 Q1662.48 211.559 1664.41 214.244 Q1666.35 216.906 1669.73 216.906 Q1673.11 216.906 1675.05 214.244 Q1677 211.559 1677 206.859 Q1677 202.16 1675.05 199.498 Q1673.11 196.813 1669.73 196.813 Q1666.35 196.813 1664.41 199.498 Q1662.48 202.16 1662.48 206.859 M1677 215.91 Q1675.66 218.225 1673.6 219.359 Q1671.56 220.471 1668.69 220.471 Q1663.99 220.471 1661.03 216.721 Q1658.09 212.971 1658.09 206.859 Q1658.09 200.748 1661.03 196.998 Q1663.99 193.248 1668.69 193.248 Q1671.56 193.248 1673.6 194.383 Q1675.66 195.494 1677 197.809 L1677 193.873 L1681.26 193.873 L1681.26 229.66 L1677 229.66 L1677 215.91 Z\" fill=\"#000000\" fill-rule=\"evenodd\" fill-opacity=\"1\" /><path clip-path=\"url(#clip070)\" d=\"M 0 0 M1689.59 209.568 L1689.59 193.873 L1693.85 193.873 L1693.85 209.406 Q1693.85 213.086 1695.28 214.938 Q1696.72 216.767 1699.59 216.767 Q1703.04 216.767 1705.03 214.568 Q1707.04 212.369 1707.04 208.572 L1707.04 193.873 L1711.3 193.873 L1711.3 219.799 L1707.04 219.799 L1707.04 215.818 Q1705.49 218.179 1703.43 219.336 Q1701.4 220.471 1698.69 220.471 Q1694.22 220.471 1691.91 217.693 Q1689.59 214.915 1689.59 209.568 M1700.31 193.248 L1700.31 193.248 Z\" fill=\"#000000\" fill-rule=\"evenodd\" fill-opacity=\"1\" /><path clip-path=\"url(#clip070)\" d=\"M 0 0 M1731.86 206.767 Q1726.7 206.767 1724.71 207.947 Q1722.72 209.128 1722.72 211.975 Q1722.72 214.244 1724.2 215.586 Q1725.7 216.906 1728.27 216.906 Q1731.81 216.906 1733.94 214.406 Q1736.09 211.883 1736.09 207.716 L1736.09 206.767 L1731.86 206.767 M1740.35 205.008 L1740.35 219.799 L1736.09 219.799 L1736.09 215.864 Q1734.64 218.225 1732.46 219.359 Q1730.28 220.471 1727.14 220.471 Q1723.16 220.471 1720.79 218.248 Q1718.46 216.003 1718.46 212.253 Q1718.46 207.878 1721.37 205.656 Q1724.31 203.434 1730.12 203.434 L1736.09 203.434 L1736.09 203.017 Q1736.09 200.077 1734.15 198.48 Q1732.23 196.86 1728.73 196.86 Q1726.51 196.86 1724.41 197.392 Q1722.3 197.924 1720.35 198.989 L1720.35 195.054 Q1722.69 194.151 1724.89 193.711 Q1727.09 193.248 1729.17 193.248 Q1734.8 193.248 1737.58 196.165 Q1740.35 199.082 1740.35 205.008 Z\" fill=\"#000000\" fill-rule=\"evenodd\" fill-opacity=\"1\" /><path clip-path=\"url(#clip070)\" d=\"M 0 0 M1764.15 197.855 Q1763.43 197.438 1762.58 197.253 Q1761.74 197.045 1760.72 197.045 Q1757.11 197.045 1755.17 199.406 Q1753.25 201.744 1753.25 206.142 L1753.25 219.799 L1748.97 219.799 L1748.97 193.873 L1753.25 193.873 L1753.25 197.901 Q1754.59 195.54 1756.74 194.406 Q1758.9 193.248 1761.97 193.248 Q1762.41 193.248 1762.95 193.318 Q1763.48 193.364 1764.13 193.48 L1764.15 197.855 Z\" fill=\"#000000\" fill-rule=\"evenodd\" fill-opacity=\"1\" /><path clip-path=\"url(#clip070)\" d=\"M 0 0 M1789.75 205.772 L1789.75 207.855 L1770.17 207.855 Q1770.45 212.253 1772.81 214.568 Q1775.19 216.859 1779.43 216.859 Q1781.88 216.859 1784.17 216.258 Q1786.49 215.656 1788.76 214.452 L1788.76 218.48 Q1786.47 219.452 1784.06 219.961 Q1781.65 220.471 1779.17 220.471 Q1772.97 220.471 1769.34 216.859 Q1765.72 213.248 1765.72 207.091 Q1765.72 200.725 1769.15 196.998 Q1772.6 193.248 1778.43 193.248 Q1783.66 193.248 1786.7 196.628 Q1789.75 199.985 1789.75 205.772 M1785.49 204.522 Q1785.45 201.026 1783.53 198.943 Q1781.63 196.86 1778.48 196.86 Q1774.91 196.86 1772.76 198.873 Q1770.63 200.887 1770.31 204.545 L1785.49 204.522 Z\" fill=\"#000000\" fill-rule=\"evenodd\" fill-opacity=\"1\" /><path clip-path=\"url(#clip070)\" d=\"M 0 0 M1813.27 194.637 L1813.27 198.665 Q1811.46 197.739 1809.52 197.276 Q1807.58 196.813 1805.49 196.813 Q1802.32 196.813 1800.72 197.785 Q1799.15 198.758 1799.15 200.702 Q1799.15 202.184 1800.28 203.04 Q1801.42 203.873 1804.84 204.637 L1806.3 204.961 Q1810.84 205.934 1812.74 207.716 Q1814.66 209.475 1814.66 212.646 Q1814.66 216.258 1811.79 218.364 Q1808.94 220.471 1803.94 220.471 Q1801.86 220.471 1799.59 220.054 Q1797.34 219.66 1794.84 218.85 L1794.84 214.452 Q1797.21 215.679 1799.5 216.304 Q1801.79 216.906 1804.03 216.906 Q1807.04 216.906 1808.66 215.887 Q1810.28 214.846 1810.28 212.971 Q1810.28 211.234 1809.1 210.309 Q1807.95 209.383 1803.99 208.526 L1802.51 208.179 Q1798.55 207.346 1796.79 205.633 Q1795.03 203.897 1795.03 200.887 Q1795.03 197.23 1797.62 195.239 Q1800.21 193.248 1804.98 193.248 Q1807.34 193.248 1809.43 193.596 Q1811.51 193.943 1813.27 194.637 Z\" fill=\"#000000\" fill-rule=\"evenodd\" fill-opacity=\"1\" /><polyline clip-path=\"url(#clip070)\" style=\"stroke:#e26f46; stroke-width:4; stroke-opacity:1; fill:none\" points=\"\n",
       "  1369.75,262.999 1486.1,262.999 \n",
       "  \"/>\n",
       "<path clip-path=\"url(#clip070)\" d=\"M 0 0 M1527.74 246.853 L1527.74 251.414 Q1525.08 250.141 1522.72 249.516 Q1520.36 248.891 1518.16 248.891 Q1514.34 248.891 1512.25 250.372 Q1510.19 251.853 1510.19 254.585 Q1510.19 256.877 1511.56 258.057 Q1512.95 259.215 1516.79 259.932 L1519.61 260.511 Q1524.85 261.506 1527.32 264.029 Q1529.82 266.529 1529.82 270.742 Q1529.82 275.765 1526.44 278.358 Q1523.09 280.951 1516.58 280.951 Q1514.13 280.951 1511.35 280.395 Q1508.6 279.839 1505.63 278.751 L1505.63 273.937 Q1508.48 275.534 1511.21 276.344 Q1513.94 277.154 1516.58 277.154 Q1520.59 277.154 1522.76 275.58 Q1524.94 274.006 1524.94 271.089 Q1524.94 268.543 1523.36 267.108 Q1521.81 265.673 1518.25 264.955 L1515.4 264.4 Q1510.17 263.358 1507.83 261.136 Q1505.49 258.914 1505.49 254.955 Q1505.49 250.372 1508.71 247.733 Q1511.95 245.094 1517.62 245.094 Q1520.05 245.094 1522.58 245.534 Q1525.1 245.974 1527.74 246.853 Z\" fill=\"#000000\" fill-rule=\"evenodd\" fill-opacity=\"1\" /><path clip-path=\"url(#clip070)\" d=\"M 0 0 M1546.03 280.279 L1532.83 245.719 L1537.72 245.719 L1548.67 274.816 L1559.64 245.719 L1564.5 245.719 L1551.33 280.279 L1546.03 280.279 Z\" fill=\"#000000\" fill-rule=\"evenodd\" fill-opacity=\"1\" /><path clip-path=\"url(#clip070)\" d=\"M 0 0 M1574.22 249.562 L1574.22 276.437 L1579.87 276.437 Q1587.02 276.437 1590.33 273.196 Q1593.67 269.955 1593.67 262.965 Q1593.67 256.02 1590.33 252.803 Q1587.02 249.562 1579.87 249.562 L1574.22 249.562 M1569.54 245.719 L1579.15 245.719 Q1589.2 245.719 1593.9 249.909 Q1598.6 254.076 1598.6 262.965 Q1598.6 271.9 1593.87 276.089 Q1589.15 280.279 1579.15 280.279 L1569.54 280.279 L1569.54 245.719 Z\" fill=\"#000000\" fill-rule=\"evenodd\" fill-opacity=\"1\" /><polyline clip-path=\"url(#clip070)\" style=\"stroke:#3da44d; stroke-width:4; stroke-opacity:1; fill:none\" points=\"\n",
       "  1369.75,323.479 1486.1,323.479 \n",
       "  \"/>\n",
       "<path clip-path=\"url(#clip070)\" d=\"M 0 0 M1525.84 319.81 Q1527.44 316.94 1529.66 315.574 Q1531.88 314.208 1534.89 314.208 Q1538.94 314.208 1541.14 317.056 Q1543.34 319.88 1543.34 325.111 L1543.34 340.759 L1539.06 340.759 L1539.06 325.25 Q1539.06 321.523 1537.74 319.718 Q1536.42 317.912 1533.71 317.912 Q1530.4 317.912 1528.48 320.111 Q1526.56 322.31 1526.56 326.107 L1526.56 340.759 L1522.28 340.759 L1522.28 325.25 Q1522.28 321.5 1520.96 319.718 Q1519.64 317.912 1516.88 317.912 Q1513.62 317.912 1511.7 320.134 Q1509.78 322.333 1509.78 326.107 L1509.78 340.759 L1505.49 340.759 L1505.49 314.833 L1509.78 314.833 L1509.78 318.861 Q1511.24 316.477 1513.27 315.343 Q1515.31 314.208 1518.11 314.208 Q1520.93 314.208 1522.9 315.644 Q1524.89 317.079 1525.84 319.81 Z\" fill=\"#000000\" fill-rule=\"evenodd\" fill-opacity=\"1\" /><path clip-path=\"url(#clip070)\" d=\"M 0 0 M1551.4 330.528 L1551.4 314.833 L1555.66 314.833 L1555.66 330.366 Q1555.66 334.046 1557.09 335.898 Q1558.53 337.727 1561.4 337.727 Q1564.85 337.727 1566.84 335.528 Q1568.85 333.329 1568.85 329.532 L1568.85 314.833 L1573.11 314.833 L1573.11 340.759 L1568.85 340.759 L1568.85 336.778 Q1567.3 339.139 1565.24 340.296 Q1563.2 341.431 1560.49 341.431 Q1556.03 341.431 1553.71 338.653 Q1551.4 335.875 1551.4 330.528 M1562.11 314.208 L1562.11 314.208 Z\" fill=\"#000000\" fill-rule=\"evenodd\" fill-opacity=\"1\" /><path clip-path=\"url(#clip070)\" d=\"M 0 0 M1581.88 304.741 L1586.14 304.741 L1586.14 340.759 L1581.88 340.759 L1581.88 304.741 Z\" fill=\"#000000\" fill-rule=\"evenodd\" fill-opacity=\"1\" /><path clip-path=\"url(#clip070)\" d=\"M 0 0 M1599.27 307.472 L1599.27 314.833 L1608.04 314.833 L1608.04 318.144 L1599.27 318.144 L1599.27 332.218 Q1599.27 335.389 1600.12 336.292 Q1601 337.194 1603.67 337.194 L1608.04 337.194 L1608.04 340.759 L1603.67 340.759 Q1598.73 340.759 1596.86 338.931 Q1594.98 337.079 1594.98 332.218 L1594.98 318.144 L1591.86 318.144 L1591.86 314.833 L1594.98 314.833 L1594.98 307.472 L1599.27 307.472 Z\" fill=\"#000000\" fill-rule=\"evenodd\" fill-opacity=\"1\" /><path clip-path=\"url(#clip070)\" d=\"M 0 0 M1613.64 314.833 L1617.9 314.833 L1617.9 340.759 L1613.64 340.759 L1613.64 314.833 M1613.64 304.741 L1617.9 304.741 L1617.9 310.134 L1613.64 310.134 L1613.64 304.741 Z\" fill=\"#000000\" fill-rule=\"evenodd\" fill-opacity=\"1\" /><path clip-path=\"url(#clip070)\" d=\"M 0 0 M1643.34 315.597 L1643.34 319.625 Q1641.54 318.699 1639.59 318.236 Q1637.65 317.773 1635.56 317.773 Q1632.39 317.773 1630.79 318.745 Q1629.22 319.718 1629.22 321.662 Q1629.22 323.144 1630.35 324 Q1631.49 324.833 1634.91 325.597 L1636.37 325.921 Q1640.91 326.894 1642.81 328.676 Q1644.73 330.435 1644.73 333.606 Q1644.73 337.218 1641.86 339.324 Q1639.01 341.431 1634.01 341.431 Q1631.93 341.431 1629.66 341.014 Q1627.41 340.62 1624.91 339.81 L1624.91 335.412 Q1627.28 336.639 1629.57 337.264 Q1631.86 337.866 1634.1 337.866 Q1637.11 337.866 1638.73 336.847 Q1640.35 335.806 1640.35 333.931 Q1640.35 332.194 1639.17 331.269 Q1638.02 330.343 1634.06 329.486 L1632.58 329.139 Q1628.62 328.306 1626.86 326.593 Q1625.1 324.857 1625.1 321.847 Q1625.1 318.19 1627.69 316.199 Q1630.29 314.208 1635.05 314.208 Q1637.41 314.208 1639.5 314.556 Q1641.58 314.903 1643.34 315.597 Z\" fill=\"#000000\" fill-rule=\"evenodd\" fill-opacity=\"1\" /><path clip-path=\"url(#clip070)\" d=\"M 0 0 M1670.17 315.829 L1670.17 319.81 Q1668.36 318.815 1666.54 318.329 Q1664.73 317.82 1662.88 317.82 Q1658.73 317.82 1656.44 320.458 Q1654.15 323.074 1654.15 327.819 Q1654.15 332.565 1656.44 335.204 Q1658.73 337.819 1662.88 337.819 Q1664.73 337.819 1666.54 337.333 Q1668.36 336.824 1670.17 335.829 L1670.17 339.764 Q1668.39 340.597 1666.47 341.014 Q1664.57 341.431 1662.41 341.431 Q1656.56 341.431 1653.11 337.75 Q1649.66 334.069 1649.66 327.819 Q1649.66 321.477 1653.13 317.843 Q1656.63 314.208 1662.69 314.208 Q1664.66 314.208 1666.54 314.625 Q1668.41 315.019 1670.17 315.829 Z\" fill=\"#000000\" fill-rule=\"evenodd\" fill-opacity=\"1\" /><path clip-path=\"url(#clip070)\" d=\"M 0 0 M1689.36 327.727 Q1684.2 327.727 1682.21 328.907 Q1680.22 330.088 1680.22 332.935 Q1680.22 335.204 1681.7 336.546 Q1683.2 337.866 1685.77 337.866 Q1689.31 337.866 1691.44 335.366 Q1693.6 332.843 1693.6 328.676 L1693.6 327.727 L1689.36 327.727 M1697.85 325.968 L1697.85 340.759 L1693.6 340.759 L1693.6 336.824 Q1692.14 339.185 1689.96 340.319 Q1687.78 341.431 1684.64 341.431 Q1680.66 341.431 1678.29 339.208 Q1675.96 336.963 1675.96 333.213 Q1675.96 328.838 1678.87 326.616 Q1681.81 324.394 1687.62 324.394 L1693.6 324.394 L1693.6 323.977 Q1693.6 321.037 1691.65 319.44 Q1689.73 317.82 1686.23 317.82 Q1684.01 317.82 1681.91 318.352 Q1679.8 318.884 1677.85 319.949 L1677.85 316.014 Q1680.19 315.111 1682.39 314.671 Q1684.59 314.208 1686.67 314.208 Q1692.3 314.208 1695.08 317.125 Q1697.85 320.042 1697.85 325.968 Z\" fill=\"#000000\" fill-rule=\"evenodd\" fill-opacity=\"1\" /><path clip-path=\"url(#clip070)\" d=\"M 0 0 M1706.63 304.741 L1710.89 304.741 L1710.89 340.759 L1706.63 340.759 L1706.63 304.741 Z\" fill=\"#000000\" fill-rule=\"evenodd\" fill-opacity=\"1\" /><path clip-path=\"url(#clip070)\" d=\"M 0 0 M1741.97 326.732 L1741.97 328.815 L1722.39 328.815 Q1722.67 333.213 1725.03 335.528 Q1727.41 337.819 1731.65 337.819 Q1734.1 337.819 1736.4 337.218 Q1738.71 336.616 1740.98 335.412 L1740.98 339.44 Q1738.69 340.412 1736.28 340.921 Q1733.87 341.431 1731.4 341.431 Q1725.19 341.431 1721.56 337.819 Q1717.95 334.208 1717.95 328.051 Q1717.95 321.685 1721.37 317.958 Q1724.82 314.208 1730.66 314.208 Q1735.89 314.208 1738.92 317.588 Q1741.97 320.945 1741.97 326.732 M1737.72 325.482 Q1737.67 321.986 1735.75 319.903 Q1733.85 317.82 1730.7 317.82 Q1727.14 317.82 1724.98 319.833 Q1722.85 321.847 1722.53 325.505 L1737.72 325.482 Z\" fill=\"#000000\" fill-rule=\"evenodd\" fill-opacity=\"1\" /><path clip-path=\"url(#clip070)\" d=\"M 0 0 M1784.94 307.333 L1784.94 311.894 Q1782.28 310.621 1779.91 309.996 Q1777.55 309.371 1775.35 309.371 Q1771.53 309.371 1769.45 310.852 Q1767.39 312.333 1767.39 315.065 Q1767.39 317.357 1768.76 318.537 Q1770.15 319.695 1773.99 320.412 L1776.81 320.991 Q1782.04 321.986 1784.52 324.509 Q1787.02 327.009 1787.02 331.222 Q1787.02 336.245 1783.64 338.838 Q1780.28 341.431 1773.78 341.431 Q1771.33 341.431 1768.55 340.875 Q1765.79 340.319 1762.83 339.231 L1762.83 334.417 Q1765.68 336.014 1768.41 336.824 Q1771.14 337.634 1773.78 337.634 Q1777.78 337.634 1779.96 336.06 Q1782.14 334.486 1782.14 331.569 Q1782.14 329.023 1780.56 327.588 Q1779.01 326.153 1775.45 325.435 L1772.6 324.88 Q1767.37 323.838 1765.03 321.616 Q1762.69 319.394 1762.69 315.435 Q1762.69 310.852 1765.91 308.213 Q1769.15 305.574 1774.82 305.574 Q1777.25 305.574 1779.78 306.014 Q1782.3 306.454 1784.94 307.333 Z\" fill=\"#000000\" fill-rule=\"evenodd\" fill-opacity=\"1\" /><path clip-path=\"url(#clip070)\" d=\"M 0 0 M1803.22 340.759 L1790.03 306.199 L1794.91 306.199 L1805.86 335.296 L1816.84 306.199 L1821.7 306.199 L1808.53 340.759 L1803.22 340.759 Z\" fill=\"#000000\" fill-rule=\"evenodd\" fill-opacity=\"1\" /><path clip-path=\"url(#clip070)\" d=\"M 0 0 M1831.42 310.042 L1831.42 336.917 L1837.07 336.917 Q1844.22 336.917 1847.53 333.676 Q1850.86 330.435 1850.86 323.445 Q1850.86 316.5 1847.53 313.283 Q1844.22 310.042 1837.07 310.042 L1831.42 310.042 M1826.74 306.199 L1836.35 306.199 Q1846.4 306.199 1851.09 310.389 Q1855.79 314.556 1855.79 323.445 Q1855.79 332.38 1851.07 336.569 Q1846.35 340.759 1836.35 340.759 L1826.74 340.759 L1826.74 306.199 Z\" fill=\"#000000\" fill-rule=\"evenodd\" fill-opacity=\"1\" /></svg>\n"
      ]
     },
     "execution_count": 26,
     "metadata": {},
     "output_type": "execute_result"
    }
   ],
   "source": [
    "graph_experiment(lossEvery,errFs, errSVDs, errMultiSVDs, title=\"d=10, L=81\",startAt=300)"
   ]
  },
  {
   "cell_type": "code",
   "execution_count": 27,
   "metadata": {},
   "outputs": [],
   "source": [
    "savefig(\"lds-10-81.png\")"
   ]
  },
  {
   "cell_type": "code",
   "execution_count": 41,
   "metadata": {},
   "outputs": [
    {
     "data": {
      "text/plain": [
       "1"
      ]
     },
     "metadata": {},
     "output_type": "display_data"
    },
    {
     "data": {
      "text/plain": [
       "107"
      ]
     },
     "metadata": {},
     "output_type": "display_data"
    },
    {
     "data": {
      "text/plain": [
       "(400, 3.6791869224685745, 2.729862094626959, 1.9128096339225216)"
      ]
     },
     "metadata": {},
     "output_type": "display_data"
    },
    {
     "data": {
      "text/plain": [
       "(500, 2.339119294665248, 1.3733123745239553, 0.8734391226721557)"
      ]
     },
     "metadata": {},
     "output_type": "display_data"
    },
    {
     "data": {
      "text/plain": [
       "(600, 1.7336790922921255, 0.7855135982608649, 0.5909723709626481)"
      ]
     },
     "metadata": {},
     "output_type": "display_data"
    },
    {
     "data": {
      "text/plain": [
       "(700, 1.4064428286900235, 0.4699483586242868, 0.4923973110778161)"
      ]
     },
     "metadata": {},
     "output_type": "display_data"
    },
    {
     "data": {
      "text/plain": [
       "(800, 1.2544649242524437, 0.4168225396969642, 0.42988347429306756)"
      ]
     },
     "metadata": {},
     "output_type": "display_data"
    },
    {
     "data": {
      "text/plain": [
       "(900, 1.1314170474611451, 0.3811444742436204, 0.3953274741632258)"
      ]
     },
     "metadata": {},
     "output_type": "display_data"
    },
    {
     "data": {
      "text/plain": [
       "(1000, 1.039234112337101, 0.2983680077458322, 0.3552623212596464)"
      ]
     },
     "metadata": {},
     "output_type": "display_data"
    },
    {
     "data": {
      "text/plain": [
       "(1100, 0.9988375977813676, 0.3190273713998962, 0.36824622302938775)"
      ]
     },
     "metadata": {},
     "output_type": "display_data"
    },
    {
     "data": {
      "text/plain": [
       "(1200, 0.926953976161559, 0.294222624154357, 0.34045399353233463)"
      ]
     },
     "metadata": {},
     "output_type": "display_data"
    },
    {
     "data": {
      "text/plain": [
       "(1300, 0.8684778826067736, 0.26835923463472544, 0.30866746606659146)"
      ]
     },
     "metadata": {},
     "output_type": "display_data"
    },
    {
     "data": {
      "text/plain": [
       "(1400, 0.847673187269697, 0.26463710470077895, 0.3062554548970445)"
      ]
     },
     "metadata": {},
     "output_type": "display_data"
    },
    {
     "data": {
      "text/plain": [
       "(1500, 0.8055228827816573, 0.23371146810569857, 0.283242843458023)"
      ]
     },
     "metadata": {},
     "output_type": "display_data"
    },
    {
     "data": {
      "text/plain": [
       "(1600, 0.7706515459230602, 0.2139945333923716, 0.2510377541695587)"
      ]
     },
     "metadata": {},
     "output_type": "display_data"
    },
    {
     "data": {
      "text/plain": [
       "(1700, 0.7437729339098414, 0.20902942478323355, 0.24719290875673594)"
      ]
     },
     "metadata": {},
     "output_type": "display_data"
    },
    {
     "data": {
      "text/plain": [
       "(1800, 0.7156466598755501, 0.21829866942060294, 0.24470653653166047)"
      ]
     },
     "metadata": {},
     "output_type": "display_data"
    },
    {
     "data": {
      "text/plain": [
       "(1900, 0.6936767245820314, 0.22548698844963108, 0.24726123376069598)"
      ]
     },
     "metadata": {},
     "output_type": "display_data"
    },
    {
     "data": {
      "text/plain": [
       "(2000, 0.6813412726187102, 0.2227907366583847, 0.2505115828616688)"
      ]
     },
     "metadata": {},
     "output_type": "display_data"
    }
   ],
   "source": [
    "Random.seed!(6)\n",
    "\n",
    "trials=1\n",
    "T=2000\n",
    "lossEvery=100\n",
    "startAt=300\n",
    "pts = Integer((T-startAt)/lossEvery)\n",
    "errFs = fill(0.0,trials,pts)\n",
    "errSVDs = fill(0.0,trials,pts)\n",
    "errMultiSVDs = fill(0.0,trials,pts)\n",
    "d=3\n",
    "d_y=3\n",
    "d_u=3\n",
    "for trial=1:trials\n",
    "    display(trial)\n",
    "    lds = LDS(\n",
    "        3, #inputDim\n",
    "        3, #stateDim\n",
    "        3, #outputDim\n",
    "        zeros(d), #x\n",
    "        zeros(d,d), #stateCovar\n",
    "        Matrix{Float64}(I,d_y,d_y), #outputCovar\n",
    "        Diagonal([.95,-.8,-.5]), #A\n",
    "        Diagonal([1.0,1.0,1.0]), #B\n",
    "        Diagonal([1.0,1.0,1.0]), #C\n",
    "        zeros(d_y,d_u)) #D\n",
    "    (F, Ftilde2, Ftilde, errF, errSVD, errMultiSVD) = run_experiment_on(lds,T, lossEvery, 4, 5,startAt=startAt)\n",
    "    errFs[trial,:]=errF\n",
    "    errSVDs[trial,:]=errSVD\n",
    "    errMultiSVDs[trial,:]=errMultiSVD\n",
    "end\n"
   ]
  },
  {
   "cell_type": "code",
   "execution_count": 42,
   "metadata": {},
   "outputs": [
    {
     "data": {
      "image/svg+xml": [
       "<?xml version=\"1.0\" encoding=\"utf-8\"?>\n",
       "<svg xmlns=\"http://www.w3.org/2000/svg\" xmlns:xlink=\"http://www.w3.org/1999/xlink\" width=\"500\" height=\"280\" viewBox=\"0 0 2000 1120\">\n",
       "<defs>\n",
       "  <clipPath id=\"clip360\">\n",
       "    <rect x=\"0\" y=\"0\" width=\"2000\" height=\"1120\"/>\n",
       "  </clipPath>\n",
       "</defs>\n",
       "<path clip-path=\"url(#clip360)\" d=\"\n",
       "M0 1120 L2000 1120 L2000 0 L0 0  Z\n",
       "  \" fill=\"#ffffff\" fill-rule=\"evenodd\" fill-opacity=\"1\"/>\n",
       "<defs>\n",
       "  <clipPath id=\"clip361\">\n",
       "    <rect x=\"400\" y=\"0\" width=\"1401\" height=\"1120\"/>\n",
       "  </clipPath>\n",
       "</defs>\n",
       "<path clip-path=\"url(#clip360)\" d=\"\n",
       "M207.43 961.113 L1952.76 961.113 L1952.76 113.795 L207.43 113.795  Z\n",
       "  \" fill=\"#ffffff\" fill-rule=\"evenodd\" fill-opacity=\"1\"/>\n",
       "<defs>\n",
       "  <clipPath id=\"clip362\">\n",
       "    <rect x=\"207\" y=\"113\" width=\"1746\" height=\"848\"/>\n",
       "  </clipPath>\n",
       "</defs>\n",
       "<polyline clip-path=\"url(#clip362)\" style=\"stroke:#000000; stroke-width:2; stroke-opacity:0.1; fill:none\" points=\"\n",
       "  462.643,961.113 462.643,113.795 \n",
       "  \"/>\n",
       "<polyline clip-path=\"url(#clip362)\" style=\"stroke:#000000; stroke-width:2; stroke-opacity:0.1; fill:none\" points=\"\n",
       "  771.368,961.113 771.368,113.795 \n",
       "  \"/>\n",
       "<polyline clip-path=\"url(#clip362)\" style=\"stroke:#000000; stroke-width:2; stroke-opacity:0.1; fill:none\" points=\"\n",
       "  1080.09,961.113 1080.09,113.795 \n",
       "  \"/>\n",
       "<polyline clip-path=\"url(#clip362)\" style=\"stroke:#000000; stroke-width:2; stroke-opacity:0.1; fill:none\" points=\"\n",
       "  1388.82,961.113 1388.82,113.795 \n",
       "  \"/>\n",
       "<polyline clip-path=\"url(#clip362)\" style=\"stroke:#000000; stroke-width:2; stroke-opacity:0.1; fill:none\" points=\"\n",
       "  1697.54,961.113 1697.54,113.795 \n",
       "  \"/>\n",
       "<polyline clip-path=\"url(#clip360)\" style=\"stroke:#000000; stroke-width:4; stroke-opacity:1; fill:none\" points=\"\n",
       "  207.43,961.113 1952.76,961.113 \n",
       "  \"/>\n",
       "<polyline clip-path=\"url(#clip360)\" style=\"stroke:#000000; stroke-width:4; stroke-opacity:1; fill:none\" points=\"\n",
       "  462.643,961.113 462.643,950.945 \n",
       "  \"/>\n",
       "<polyline clip-path=\"url(#clip360)\" style=\"stroke:#000000; stroke-width:4; stroke-opacity:1; fill:none\" points=\"\n",
       "  771.368,961.113 771.368,950.945 \n",
       "  \"/>\n",
       "<polyline clip-path=\"url(#clip360)\" style=\"stroke:#000000; stroke-width:4; stroke-opacity:1; fill:none\" points=\"\n",
       "  1080.09,961.113 1080.09,950.945 \n",
       "  \"/>\n",
       "<polyline clip-path=\"url(#clip360)\" style=\"stroke:#000000; stroke-width:4; stroke-opacity:1; fill:none\" points=\"\n",
       "  1388.82,961.113 1388.82,950.945 \n",
       "  \"/>\n",
       "<polyline clip-path=\"url(#clip360)\" style=\"stroke:#000000; stroke-width:4; stroke-opacity:1; fill:none\" points=\"\n",
       "  1697.54,961.113 1697.54,950.945 \n",
       "  \"/>\n",
       "<path clip-path=\"url(#clip360)\" d=\"M 0 0 M432.967 999.441 Q429.819 999.441 427.967 1001.59 Q426.138 1003.75 426.138 1007.5 Q426.138 1011.22 427.967 1013.4 Q429.819 1015.55 432.967 1015.55 Q436.115 1015.55 437.944 1013.4 Q439.795 1011.22 439.795 1007.5 Q439.795 1003.75 437.944 1001.59 Q436.115 999.441 432.967 999.441 M442.249 984.789 L442.249 989.048 Q440.49 988.214 438.684 987.775 Q436.902 987.335 435.143 987.335 Q430.513 987.335 428.059 990.46 Q425.629 993.585 425.282 999.904 Q426.647 997.89 428.708 996.825 Q430.768 995.738 433.245 995.738 Q438.453 995.738 441.462 998.909 Q444.494 1002.06 444.494 1007.5 Q444.494 1012.82 441.346 1016.04 Q438.198 1019.26 432.967 1019.26 Q426.971 1019.26 423.8 1014.67 Q420.629 1010.07 420.629 1001.34 Q420.629 993.145 424.518 988.284 Q428.407 983.4 434.957 983.4 Q436.717 983.4 438.499 983.747 Q440.305 984.094 442.249 984.789 Z\" fill=\"#000000\" fill-rule=\"evenodd\" fill-opacity=\"1\" /><path clip-path=\"url(#clip360)\" d=\"M 0 0 M462.55 987.103 Q458.939 987.103 457.11 990.668 Q455.305 994.21 455.305 1001.34 Q455.305 1008.45 457.11 1012.01 Q458.939 1015.55 462.55 1015.55 Q466.184 1015.55 467.99 1012.01 Q469.818 1008.45 469.818 1001.34 Q469.818 994.21 467.99 990.668 Q466.184 987.103 462.55 987.103 M462.55 983.4 Q468.36 983.4 471.416 988.006 Q474.494 992.589 474.494 1001.34 Q474.494 1010.07 471.416 1014.67 Q468.36 1019.26 462.55 1019.26 Q456.74 1019.26 453.661 1014.67 Q450.606 1010.07 450.606 1001.34 Q450.606 992.589 453.661 988.006 Q456.74 983.4 462.55 983.4 Z\" fill=\"#000000\" fill-rule=\"evenodd\" fill-opacity=\"1\" /><path clip-path=\"url(#clip360)\" d=\"M 0 0 M492.712 987.103 Q489.101 987.103 487.272 990.668 Q485.466 994.21 485.466 1001.34 Q485.466 1008.45 487.272 1012.01 Q489.101 1015.55 492.712 1015.55 Q496.346 1015.55 498.152 1012.01 Q499.98 1008.45 499.98 1001.34 Q499.98 994.21 498.152 990.668 Q496.346 987.103 492.712 987.103 M492.712 983.4 Q498.522 983.4 501.578 988.006 Q504.656 992.589 504.656 1001.34 Q504.656 1010.07 501.578 1014.67 Q498.522 1019.26 492.712 1019.26 Q486.902 1019.26 483.823 1014.67 Q480.767 1010.07 480.767 1001.34 Q480.767 992.589 483.823 988.006 Q486.902 983.4 492.712 983.4 Z\" fill=\"#000000\" fill-rule=\"evenodd\" fill-opacity=\"1\" /><path clip-path=\"url(#clip360)\" d=\"M 0 0 M731.414 1017.87 L731.414 1013.61 Q733.173 1014.44 734.979 1014.88 Q736.785 1015.32 738.521 1015.32 Q743.15 1015.32 745.581 1012.22 Q748.034 1009.09 748.382 1002.75 Q747.039 1004.74 744.979 1005.81 Q742.919 1006.87 740.419 1006.87 Q735.234 1006.87 732.201 1003.75 Q729.192 1000.6 729.192 995.159 Q729.192 989.835 732.34 986.617 Q735.488 983.4 740.72 983.4 Q746.715 983.4 749.863 988.006 Q753.034 992.589 753.034 1001.34 Q753.034 1009.51 749.146 1014.39 Q745.28 1019.26 738.729 1019.26 Q736.97 1019.26 735.164 1018.91 Q733.359 1018.56 731.414 1017.87 M740.72 1003.21 Q743.868 1003.21 745.697 1001.06 Q747.548 998.909 747.548 995.159 Q747.548 991.432 745.697 989.279 Q743.868 987.103 740.72 987.103 Q737.572 987.103 735.72 989.279 Q733.891 991.432 733.891 995.159 Q733.891 998.909 735.72 1001.06 Q737.572 1003.21 740.72 1003.21 Z\" fill=\"#000000\" fill-rule=\"evenodd\" fill-opacity=\"1\" /><path clip-path=\"url(#clip360)\" d=\"M 0 0 M771.437 987.103 Q767.826 987.103 765.997 990.668 Q764.192 994.21 764.192 1001.34 Q764.192 1008.45 765.997 1012.01 Q767.826 1015.55 771.437 1015.55 Q775.071 1015.55 776.877 1012.01 Q778.706 1008.45 778.706 1001.34 Q778.706 994.21 776.877 990.668 Q775.071 987.103 771.437 987.103 M771.437 983.4 Q777.247 983.4 780.303 988.006 Q783.381 992.589 783.381 1001.34 Q783.381 1010.07 780.303 1014.67 Q777.247 1019.26 771.437 1019.26 Q765.627 1019.26 762.548 1014.67 Q759.493 1010.07 759.493 1001.34 Q759.493 992.589 762.548 988.006 Q765.627 983.4 771.437 983.4 Z\" fill=\"#000000\" fill-rule=\"evenodd\" fill-opacity=\"1\" /><path clip-path=\"url(#clip360)\" d=\"M 0 0 M801.599 987.103 Q797.988 987.103 796.159 990.668 Q794.354 994.21 794.354 1001.34 Q794.354 1008.45 796.159 1012.01 Q797.988 1015.55 801.599 1015.55 Q805.233 1015.55 807.039 1012.01 Q808.867 1008.45 808.867 1001.34 Q808.867 994.21 807.039 990.668 Q805.233 987.103 801.599 987.103 M801.599 983.4 Q807.409 983.4 810.465 988.006 Q813.543 992.589 813.543 1001.34 Q813.543 1010.07 810.465 1014.67 Q807.409 1019.26 801.599 1019.26 Q795.789 1019.26 792.71 1014.67 Q789.655 1010.07 789.655 1001.34 Q789.655 992.589 792.71 988.006 Q795.789 983.4 801.599 983.4 Z\" fill=\"#000000\" fill-rule=\"evenodd\" fill-opacity=\"1\" /><path clip-path=\"url(#clip360)\" d=\"M 0 0 M1024.62 1014.65 L1032.26 1014.65 L1032.26 988.284 L1023.95 989.951 L1023.95 985.691 L1032.21 984.025 L1036.89 984.025 L1036.89 1014.65 L1044.53 1014.65 L1044.53 1018.58 L1024.62 1018.58 L1024.62 1014.65 Z\" fill=\"#000000\" fill-rule=\"evenodd\" fill-opacity=\"1\" /><path clip-path=\"url(#clip360)\" d=\"M 0 0 M1058 1014.65 L1074.32 1014.65 L1074.32 1018.58 L1052.37 1018.58 L1052.37 1014.65 Q1055.04 1011.89 1059.62 1007.27 Q1064.22 1002.61 1065.41 1001.27 Q1067.65 998.747 1068.53 997.011 Q1069.43 995.251 1069.43 993.562 Q1069.43 990.807 1067.49 989.071 Q1065.57 987.335 1062.47 987.335 Q1060.27 987.335 1057.81 988.099 Q1055.38 988.863 1052.6 990.413 L1052.6 985.691 Q1055.43 984.557 1057.88 983.978 Q1060.34 983.4 1062.37 983.4 Q1067.74 983.4 1070.94 986.085 Q1074.13 988.77 1074.13 993.261 Q1074.13 995.39 1073.32 997.312 Q1072.53 999.21 1070.43 1001.8 Q1069.85 1002.47 1066.75 1005.69 Q1063.65 1008.89 1058 1014.65 Z\" fill=\"#000000\" fill-rule=\"evenodd\" fill-opacity=\"1\" /><path clip-path=\"url(#clip360)\" d=\"M 0 0 M1094.13 987.103 Q1090.52 987.103 1088.69 990.668 Q1086.89 994.21 1086.89 1001.34 Q1086.89 1008.45 1088.69 1012.01 Q1090.52 1015.55 1094.13 1015.55 Q1097.77 1015.55 1099.57 1012.01 Q1101.4 1008.45 1101.4 1001.34 Q1101.4 994.21 1099.57 990.668 Q1097.77 987.103 1094.13 987.103 M1094.13 983.4 Q1099.94 983.4 1103 988.006 Q1106.08 992.589 1106.08 1001.34 Q1106.08 1010.07 1103 1014.67 Q1099.94 1019.26 1094.13 1019.26 Q1088.32 1019.26 1085.24 1014.67 Q1082.19 1010.07 1082.19 1001.34 Q1082.19 992.589 1085.24 988.006 Q1088.32 983.4 1094.13 983.4 Z\" fill=\"#000000\" fill-rule=\"evenodd\" fill-opacity=\"1\" /><path clip-path=\"url(#clip360)\" d=\"M 0 0 M1124.29 987.103 Q1120.68 987.103 1118.85 990.668 Q1117.05 994.21 1117.05 1001.34 Q1117.05 1008.45 1118.85 1012.01 Q1120.68 1015.55 1124.29 1015.55 Q1127.93 1015.55 1129.73 1012.01 Q1131.56 1008.45 1131.56 1001.34 Q1131.56 994.21 1129.73 990.668 Q1127.93 987.103 1124.29 987.103 M1124.29 983.4 Q1130.1 983.4 1133.16 988.006 Q1136.24 992.589 1136.24 1001.34 Q1136.24 1010.07 1133.16 1014.67 Q1130.1 1019.26 1124.29 1019.26 Q1118.48 1019.26 1115.41 1014.67 Q1112.35 1010.07 1112.35 1001.34 Q1112.35 992.589 1115.41 988.006 Q1118.48 983.4 1124.29 983.4 Z\" fill=\"#000000\" fill-rule=\"evenodd\" fill-opacity=\"1\" /><path clip-path=\"url(#clip360)\" d=\"M 0 0 M1333.34 1014.65 L1340.98 1014.65 L1340.98 988.284 L1332.67 989.951 L1332.67 985.691 L1340.94 984.025 L1345.61 984.025 L1345.61 1014.65 L1353.25 1014.65 L1353.25 1018.58 L1333.34 1018.58 L1333.34 1014.65 Z\" fill=\"#000000\" fill-rule=\"evenodd\" fill-opacity=\"1\" /><path clip-path=\"url(#clip360)\" d=\"M 0 0 M1362.74 984.025 L1381.1 984.025 L1381.1 987.96 L1367.02 987.96 L1367.02 996.432 Q1368.04 996.085 1369.06 995.923 Q1370.08 995.738 1371.1 995.738 Q1376.89 995.738 1380.26 998.909 Q1383.64 1002.08 1383.64 1007.5 Q1383.64 1013.08 1380.17 1016.18 Q1376.7 1019.26 1370.38 1019.26 Q1368.2 1019.26 1365.94 1018.89 Q1363.69 1018.52 1361.28 1017.77 L1361.28 1013.08 Q1363.37 1014.21 1365.59 1014.77 Q1367.81 1015.32 1370.29 1015.32 Q1374.29 1015.32 1376.63 1013.21 Q1378.97 1011.11 1378.97 1007.5 Q1378.97 1003.89 1376.63 1001.78 Q1374.29 999.673 1370.29 999.673 Q1368.41 999.673 1366.54 1000.09 Q1364.69 1000.51 1362.74 1001.39 L1362.74 984.025 Z\" fill=\"#000000\" fill-rule=\"evenodd\" fill-opacity=\"1\" /><path clip-path=\"url(#clip360)\" d=\"M 0 0 M1402.86 987.103 Q1399.25 987.103 1397.42 990.668 Q1395.61 994.21 1395.61 1001.34 Q1395.61 1008.45 1397.42 1012.01 Q1399.25 1015.55 1402.86 1015.55 Q1406.49 1015.55 1408.3 1012.01 Q1410.13 1008.45 1410.13 1001.34 Q1410.13 994.21 1408.3 990.668 Q1406.49 987.103 1402.86 987.103 M1402.86 983.4 Q1408.67 983.4 1411.72 988.006 Q1414.8 992.589 1414.8 1001.34 Q1414.8 1010.07 1411.72 1014.67 Q1408.67 1019.26 1402.86 1019.26 Q1397.05 1019.26 1393.97 1014.67 Q1390.91 1010.07 1390.91 1001.34 Q1390.91 992.589 1393.97 988.006 Q1397.05 983.4 1402.86 983.4 Z\" fill=\"#000000\" fill-rule=\"evenodd\" fill-opacity=\"1\" /><path clip-path=\"url(#clip360)\" d=\"M 0 0 M1433.02 987.103 Q1429.41 987.103 1427.58 990.668 Q1425.77 994.21 1425.77 1001.34 Q1425.77 1008.45 1427.58 1012.01 Q1429.41 1015.55 1433.02 1015.55 Q1436.65 1015.55 1438.46 1012.01 Q1440.29 1008.45 1440.29 1001.34 Q1440.29 994.21 1438.46 990.668 Q1436.65 987.103 1433.02 987.103 M1433.02 983.4 Q1438.83 983.4 1441.88 988.006 Q1444.96 992.589 1444.96 1001.34 Q1444.96 1010.07 1441.88 1014.67 Q1438.83 1019.26 1433.02 1019.26 Q1427.21 1019.26 1424.13 1014.67 Q1421.07 1010.07 1421.07 1001.34 Q1421.07 992.589 1424.13 988.006 Q1427.21 983.4 1433.02 983.4 Z\" fill=\"#000000\" fill-rule=\"evenodd\" fill-opacity=\"1\" /><path clip-path=\"url(#clip360)\" d=\"M 0 0 M1642.07 1014.65 L1649.71 1014.65 L1649.71 988.284 L1641.4 989.951 L1641.4 985.691 L1649.66 984.025 L1654.34 984.025 L1654.34 1014.65 L1661.98 1014.65 L1661.98 1018.58 L1642.07 1018.58 L1642.07 1014.65 Z\" fill=\"#000000\" fill-rule=\"evenodd\" fill-opacity=\"1\" /><path clip-path=\"url(#clip360)\" d=\"M 0 0 M1681.42 1002.17 Q1678.09 1002.17 1676.17 1003.96 Q1674.27 1005.74 1674.27 1008.86 Q1674.27 1011.99 1676.17 1013.77 Q1678.09 1015.55 1681.42 1015.55 Q1684.75 1015.55 1686.68 1013.77 Q1688.6 1011.96 1688.6 1008.86 Q1688.6 1005.74 1686.68 1003.96 Q1684.78 1002.17 1681.42 1002.17 M1676.74 1000.18 Q1673.74 999.441 1672.05 997.381 Q1670.38 995.321 1670.38 992.358 Q1670.38 988.214 1673.32 985.807 Q1676.28 983.4 1681.42 983.4 Q1686.58 983.4 1689.52 985.807 Q1692.46 988.214 1692.46 992.358 Q1692.46 995.321 1690.77 997.381 Q1689.11 999.441 1686.12 1000.18 Q1689.5 1000.97 1691.37 1003.26 Q1693.27 1005.55 1693.27 1008.86 Q1693.27 1013.89 1690.19 1016.57 Q1687.14 1019.26 1681.42 1019.26 Q1675.7 1019.26 1672.62 1016.57 Q1669.57 1013.89 1669.57 1008.86 Q1669.57 1005.55 1671.47 1003.26 Q1673.37 1000.97 1676.74 1000.18 M1675.03 992.798 Q1675.03 995.483 1676.7 996.988 Q1678.39 998.492 1681.42 998.492 Q1684.43 998.492 1686.12 996.988 Q1687.83 995.483 1687.83 992.798 Q1687.83 990.113 1686.12 988.608 Q1684.43 987.103 1681.42 987.103 Q1678.39 987.103 1676.7 988.608 Q1675.03 990.113 1675.03 992.798 Z\" fill=\"#000000\" fill-rule=\"evenodd\" fill-opacity=\"1\" /><path clip-path=\"url(#clip360)\" d=\"M 0 0 M1711.58 987.103 Q1707.97 987.103 1706.14 990.668 Q1704.34 994.21 1704.34 1001.34 Q1704.34 1008.45 1706.14 1012.01 Q1707.97 1015.55 1711.58 1015.55 Q1715.22 1015.55 1717.02 1012.01 Q1718.85 1008.45 1718.85 1001.34 Q1718.85 994.21 1717.02 990.668 Q1715.22 987.103 1711.58 987.103 M1711.58 983.4 Q1717.39 983.4 1720.45 988.006 Q1723.53 992.589 1723.53 1001.34 Q1723.53 1010.07 1720.45 1014.67 Q1717.39 1019.26 1711.58 1019.26 Q1705.77 1019.26 1702.69 1014.67 Q1699.64 1010.07 1699.64 1001.34 Q1699.64 992.589 1702.69 988.006 Q1705.77 983.4 1711.58 983.4 Z\" fill=\"#000000\" fill-rule=\"evenodd\" fill-opacity=\"1\" /><path clip-path=\"url(#clip360)\" d=\"M 0 0 M1741.74 987.103 Q1738.13 987.103 1736.3 990.668 Q1734.5 994.21 1734.5 1001.34 Q1734.5 1008.45 1736.3 1012.01 Q1738.13 1015.55 1741.74 1015.55 Q1745.38 1015.55 1747.18 1012.01 Q1749.01 1008.45 1749.01 1001.34 Q1749.01 994.21 1747.18 990.668 Q1745.38 987.103 1741.74 987.103 M1741.74 983.4 Q1747.55 983.4 1750.61 988.006 Q1753.69 992.589 1753.69 1001.34 Q1753.69 1010.07 1750.61 1014.67 Q1747.55 1019.26 1741.74 1019.26 Q1735.93 1019.26 1732.86 1014.67 Q1729.8 1010.07 1729.8 1001.34 Q1729.8 992.589 1732.86 988.006 Q1735.93 983.4 1741.74 983.4 Z\" fill=\"#000000\" fill-rule=\"evenodd\" fill-opacity=\"1\" /><path clip-path=\"url(#clip360)\" d=\"M 0 0 M1019.25 1054.21 L1019.25 1064.33 L1031.32 1064.33 L1031.32 1068.88 L1019.25 1068.88 L1019.25 1088.23 Q1019.25 1092.59 1020.43 1093.83 Q1021.64 1095.08 1025.3 1095.08 L1031.32 1095.08 L1031.32 1099.98 L1025.3 1099.98 Q1018.52 1099.98 1015.94 1097.46 Q1013.36 1094.92 1013.36 1088.23 L1013.36 1068.88 L1009.07 1068.88 L1009.07 1064.33 L1013.36 1064.33 L1013.36 1054.21 L1019.25 1054.21 Z\" fill=\"#000000\" fill-rule=\"evenodd\" fill-opacity=\"1\" /><path clip-path=\"url(#clip360)\" d=\"M 0 0 M1039.02 1064.33 L1044.87 1064.33 L1044.87 1099.98 L1039.02 1099.98 L1039.02 1064.33 M1039.02 1050.45 L1044.87 1050.45 L1044.87 1057.87 L1039.02 1057.87 L1039.02 1050.45 Z\" fill=\"#000000\" fill-rule=\"evenodd\" fill-opacity=\"1\" /><path clip-path=\"url(#clip360)\" d=\"M 0 0 M1084.88 1071.17 Q1087.08 1067.23 1090.13 1065.35 Q1093.19 1063.47 1097.33 1063.47 Q1102.9 1063.47 1105.92 1067.38 Q1108.95 1071.27 1108.95 1078.46 L1108.95 1099.98 L1103.06 1099.98 L1103.06 1078.65 Q1103.06 1073.53 1101.24 1071.04 Q1099.43 1068.56 1095.7 1068.56 Q1091.15 1068.56 1088.51 1071.59 Q1085.87 1074.61 1085.87 1079.83 L1085.87 1099.98 L1079.98 1099.98 L1079.98 1078.65 Q1079.98 1073.5 1078.17 1071.04 Q1076.35 1068.56 1072.57 1068.56 Q1068.08 1068.56 1065.44 1071.62 Q1062.79 1074.64 1062.79 1079.83 L1062.79 1099.98 L1056.91 1099.98 L1056.91 1064.33 L1062.79 1064.33 L1062.79 1069.87 Q1064.8 1066.59 1067.6 1065.03 Q1070.4 1063.47 1074.25 1063.47 Q1078.14 1063.47 1080.84 1065.44 Q1083.58 1067.42 1084.88 1071.17 Z\" fill=\"#000000\" fill-rule=\"evenodd\" fill-opacity=\"1\" /><path clip-path=\"url(#clip360)\" d=\"M 0 0 M1151.12 1080.69 L1151.12 1083.55 L1124.19 1083.55 Q1124.57 1089.6 1127.82 1092.78 Q1131.1 1095.93 1136.92 1095.93 Q1140.3 1095.93 1143.45 1095.11 Q1146.63 1094.28 1149.75 1092.62 L1149.75 1098.16 Q1146.6 1099.5 1143.29 1100.2 Q1139.98 1100.9 1136.57 1100.9 Q1128.04 1100.9 1123.05 1095.93 Q1118.08 1090.97 1118.08 1082.5 Q1118.08 1073.75 1122.79 1068.63 Q1127.53 1063.47 1135.55 1063.47 Q1142.75 1063.47 1146.92 1068.12 Q1151.12 1072.73 1151.12 1080.69 M1145.26 1078.97 Q1145.2 1074.16 1142.56 1071.3 Q1139.95 1068.43 1135.62 1068.43 Q1130.72 1068.43 1127.76 1071.2 Q1124.83 1073.97 1124.38 1079 L1145.26 1078.97 Z\" fill=\"#000000\" fill-rule=\"evenodd\" fill-opacity=\"1\" /><polyline clip-path=\"url(#clip362)\" style=\"stroke:#000000; stroke-width:2; stroke-opacity:0.1; fill:none\" points=\"\n",
       "  207.43,870.106 1952.76,870.106 \n",
       "  \"/>\n",
       "<polyline clip-path=\"url(#clip362)\" style=\"stroke:#000000; stroke-width:2; stroke-opacity:0.1; fill:none\" points=\"\n",
       "  207.43,754.931 1952.76,754.931 \n",
       "  \"/>\n",
       "<polyline clip-path=\"url(#clip362)\" style=\"stroke:#000000; stroke-width:2; stroke-opacity:0.1; fill:none\" points=\"\n",
       "  207.43,639.755 1952.76,639.755 \n",
       "  \"/>\n",
       "<polyline clip-path=\"url(#clip362)\" style=\"stroke:#000000; stroke-width:2; stroke-opacity:0.1; fill:none\" points=\"\n",
       "  207.43,524.579 1952.76,524.579 \n",
       "  \"/>\n",
       "<polyline clip-path=\"url(#clip362)\" style=\"stroke:#000000; stroke-width:2; stroke-opacity:0.1; fill:none\" points=\"\n",
       "  207.43,409.403 1952.76,409.403 \n",
       "  \"/>\n",
       "<polyline clip-path=\"url(#clip362)\" style=\"stroke:#000000; stroke-width:2; stroke-opacity:0.1; fill:none\" points=\"\n",
       "  207.43,294.228 1952.76,294.228 \n",
       "  \"/>\n",
       "<polyline clip-path=\"url(#clip362)\" style=\"stroke:#000000; stroke-width:2; stroke-opacity:0.1; fill:none\" points=\"\n",
       "  207.43,179.052 1952.76,179.052 \n",
       "  \"/>\n",
       "<polyline clip-path=\"url(#clip360)\" style=\"stroke:#000000; stroke-width:4; stroke-opacity:1; fill:none\" points=\"\n",
       "  207.43,961.113 207.43,113.795 \n",
       "  \"/>\n",
       "<polyline clip-path=\"url(#clip360)\" style=\"stroke:#000000; stroke-width:4; stroke-opacity:1; fill:none\" points=\"\n",
       "  207.43,870.106 228.374,870.106 \n",
       "  \"/>\n",
       "<polyline clip-path=\"url(#clip360)\" style=\"stroke:#000000; stroke-width:4; stroke-opacity:1; fill:none\" points=\"\n",
       "  207.43,754.931 228.374,754.931 \n",
       "  \"/>\n",
       "<polyline clip-path=\"url(#clip360)\" style=\"stroke:#000000; stroke-width:4; stroke-opacity:1; fill:none\" points=\"\n",
       "  207.43,639.755 228.374,639.755 \n",
       "  \"/>\n",
       "<polyline clip-path=\"url(#clip360)\" style=\"stroke:#000000; stroke-width:4; stroke-opacity:1; fill:none\" points=\"\n",
       "  207.43,524.579 228.374,524.579 \n",
       "  \"/>\n",
       "<polyline clip-path=\"url(#clip360)\" style=\"stroke:#000000; stroke-width:4; stroke-opacity:1; fill:none\" points=\"\n",
       "  207.43,409.403 228.374,409.403 \n",
       "  \"/>\n",
       "<polyline clip-path=\"url(#clip360)\" style=\"stroke:#000000; stroke-width:4; stroke-opacity:1; fill:none\" points=\"\n",
       "  207.43,294.228 228.374,294.228 \n",
       "  \"/>\n",
       "<polyline clip-path=\"url(#clip360)\" style=\"stroke:#000000; stroke-width:4; stroke-opacity:1; fill:none\" points=\"\n",
       "  207.43,179.052 228.374,179.052 \n",
       "  \"/>\n",
       "<path clip-path=\"url(#clip360)\" d=\"M 0 0 M121.249 855.905 Q117.638 855.905 115.81 859.47 Q114.004 863.012 114.004 870.141 Q114.004 877.248 115.81 880.812 Q117.638 884.354 121.249 884.354 Q124.884 884.354 126.689 880.812 Q128.518 877.248 128.518 870.141 Q128.518 863.012 126.689 859.47 Q124.884 855.905 121.249 855.905 M121.249 852.201 Q127.06 852.201 130.115 856.808 Q133.194 861.391 133.194 870.141 Q133.194 878.868 130.115 883.474 Q127.06 888.058 121.249 888.058 Q115.439 888.058 112.361 883.474 Q109.305 878.868 109.305 870.141 Q109.305 861.391 112.361 856.808 Q115.439 852.201 121.249 852.201 Z\" fill=\"#000000\" fill-rule=\"evenodd\" fill-opacity=\"1\" /><path clip-path=\"url(#clip360)\" d=\"M 0 0 M141.411 881.507 L146.296 881.507 L146.296 887.386 L141.411 887.386 L141.411 881.507 Z\" fill=\"#000000\" fill-rule=\"evenodd\" fill-opacity=\"1\" /><path clip-path=\"url(#clip360)\" d=\"M 0 0 M156.527 852.826 L174.883 852.826 L174.883 856.762 L160.809 856.762 L160.809 865.234 Q161.828 864.887 162.846 864.725 Q163.865 864.539 164.884 864.539 Q170.671 864.539 174.05 867.711 Q177.43 870.882 177.43 876.299 Q177.43 881.877 173.958 884.979 Q170.485 888.058 164.166 888.058 Q161.99 888.058 159.721 887.687 Q157.476 887.317 155.069 886.576 L155.069 881.877 Q157.152 883.011 159.374 883.567 Q161.596 884.123 164.073 884.123 Q168.078 884.123 170.416 882.016 Q172.754 879.91 172.754 876.299 Q172.754 872.687 170.416 870.581 Q168.078 868.475 164.073 868.475 Q162.198 868.475 160.323 868.891 Q158.472 869.308 156.527 870.187 L156.527 852.826 Z\" fill=\"#000000\" fill-rule=\"evenodd\" fill-opacity=\"1\" /><path clip-path=\"url(#clip360)\" d=\"M 0 0 M111.064 768.276 L118.703 768.276 L118.703 741.91 L110.393 743.577 L110.393 739.317 L118.657 737.651 L123.333 737.651 L123.333 768.276 L130.972 768.276 L130.972 772.211 L111.064 772.211 L111.064 768.276 Z\" fill=\"#000000\" fill-rule=\"evenodd\" fill-opacity=\"1\" /><path clip-path=\"url(#clip360)\" d=\"M 0 0 M140.416 766.331 L145.3 766.331 L145.3 772.211 L140.416 772.211 L140.416 766.331 Z\" fill=\"#000000\" fill-rule=\"evenodd\" fill-opacity=\"1\" /><path clip-path=\"url(#clip360)\" d=\"M 0 0 M165.485 740.729 Q161.874 740.729 160.046 744.294 Q158.24 747.836 158.24 754.965 Q158.24 762.072 160.046 765.637 Q161.874 769.178 165.485 769.178 Q169.12 769.178 170.925 765.637 Q172.754 762.072 172.754 754.965 Q172.754 747.836 170.925 744.294 Q169.12 740.729 165.485 740.729 M165.485 737.026 Q171.296 737.026 174.351 741.632 Q177.43 746.215 177.43 754.965 Q177.43 763.692 174.351 768.299 Q171.296 772.882 165.485 772.882 Q159.675 772.882 156.597 768.299 Q153.541 763.692 153.541 754.965 Q153.541 746.215 156.597 741.632 Q159.675 737.026 165.485 737.026 Z\" fill=\"#000000\" fill-rule=\"evenodd\" fill-opacity=\"1\" /><path clip-path=\"url(#clip360)\" d=\"M 0 0 M112.06 653.1 L119.699 653.1 L119.699 626.734 L111.388 628.401 L111.388 624.142 L119.652 622.475 L124.328 622.475 L124.328 653.1 L131.967 653.1 L131.967 657.035 L112.06 657.035 L112.06 653.1 Z\" fill=\"#000000\" fill-rule=\"evenodd\" fill-opacity=\"1\" /><path clip-path=\"url(#clip360)\" d=\"M 0 0 M141.411 651.155 L146.296 651.155 L146.296 657.035 L141.411 657.035 L141.411 651.155 Z\" fill=\"#000000\" fill-rule=\"evenodd\" fill-opacity=\"1\" /><path clip-path=\"url(#clip360)\" d=\"M 0 0 M156.527 622.475 L174.883 622.475 L174.883 626.41 L160.809 626.41 L160.809 634.882 Q161.828 634.535 162.846 634.373 Q163.865 634.188 164.884 634.188 Q170.671 634.188 174.05 637.359 Q177.43 640.53 177.43 645.947 Q177.43 651.526 173.958 654.628 Q170.485 657.706 164.166 657.706 Q161.99 657.706 159.721 657.336 Q157.476 656.966 155.069 656.225 L155.069 651.526 Q157.152 652.66 159.374 653.216 Q161.596 653.771 164.073 653.771 Q168.078 653.771 170.416 651.665 Q172.754 649.558 172.754 645.947 Q172.754 642.336 170.416 640.229 Q168.078 638.123 164.073 638.123 Q162.198 638.123 160.323 638.54 Q158.472 638.956 156.527 639.836 L156.527 622.475 Z\" fill=\"#000000\" fill-rule=\"evenodd\" fill-opacity=\"1\" /><path clip-path=\"url(#clip360)\" d=\"M 0 0 M114.282 537.924 L130.601 537.924 L130.601 541.859 L108.657 541.859 L108.657 537.924 Q111.319 535.169 115.902 530.54 Q120.509 525.887 121.689 524.544 Q123.935 522.021 124.814 520.285 Q125.717 518.526 125.717 516.836 Q125.717 514.082 123.773 512.345 Q121.851 510.609 118.749 510.609 Q116.55 510.609 114.097 511.373 Q111.666 512.137 108.888 513.688 L108.888 508.966 Q111.712 507.832 114.166 507.253 Q116.62 506.674 118.657 506.674 Q124.027 506.674 127.222 509.359 Q130.416 512.045 130.416 516.535 Q130.416 518.665 129.606 520.586 Q128.819 522.484 126.712 525.077 Q126.134 525.748 123.032 528.966 Q119.93 532.16 114.282 537.924 Z\" fill=\"#000000\" fill-rule=\"evenodd\" fill-opacity=\"1\" /><path clip-path=\"url(#clip360)\" d=\"M 0 0 M140.416 535.98 L145.3 535.98 L145.3 541.859 L140.416 541.859 L140.416 535.98 Z\" fill=\"#000000\" fill-rule=\"evenodd\" fill-opacity=\"1\" /><path clip-path=\"url(#clip360)\" d=\"M 0 0 M165.485 510.378 Q161.874 510.378 160.046 513.943 Q158.24 517.484 158.24 524.614 Q158.24 531.72 160.046 535.285 Q161.874 538.827 165.485 538.827 Q169.12 538.827 170.925 535.285 Q172.754 531.72 172.754 524.614 Q172.754 517.484 170.925 513.943 Q169.12 510.378 165.485 510.378 M165.485 506.674 Q171.296 506.674 174.351 511.281 Q177.43 515.864 177.43 524.614 Q177.43 533.341 174.351 537.947 Q171.296 542.531 165.485 542.531 Q159.675 542.531 156.597 537.947 Q153.541 533.341 153.541 524.614 Q153.541 515.864 156.597 511.281 Q159.675 506.674 165.485 506.674 Z\" fill=\"#000000\" fill-rule=\"evenodd\" fill-opacity=\"1\" /><path clip-path=\"url(#clip360)\" d=\"M 0 0 M115.277 422.748 L131.597 422.748 L131.597 426.683 L109.652 426.683 L109.652 422.748 Q112.314 419.994 116.898 415.364 Q121.504 410.711 122.685 409.369 Q124.93 406.846 125.81 405.11 Q126.712 403.35 126.712 401.66 Q126.712 398.906 124.768 397.17 Q122.847 395.434 119.745 395.434 Q117.546 395.434 115.092 396.198 Q112.662 396.961 109.884 398.512 L109.884 393.79 Q112.708 392.656 115.162 392.077 Q117.615 391.498 119.652 391.498 Q125.023 391.498 128.217 394.184 Q131.411 396.869 131.411 401.36 Q131.411 403.489 130.601 405.41 Q129.814 407.309 127.708 409.901 Q127.129 410.572 124.027 413.79 Q120.925 416.984 115.277 422.748 Z\" fill=\"#000000\" fill-rule=\"evenodd\" fill-opacity=\"1\" /><path clip-path=\"url(#clip360)\" d=\"M 0 0 M141.411 420.804 L146.296 420.804 L146.296 426.683 L141.411 426.683 L141.411 420.804 Z\" fill=\"#000000\" fill-rule=\"evenodd\" fill-opacity=\"1\" /><path clip-path=\"url(#clip360)\" d=\"M 0 0 M156.527 392.123 L174.883 392.123 L174.883 396.059 L160.809 396.059 L160.809 404.531 Q161.828 404.184 162.846 404.022 Q163.865 403.836 164.884 403.836 Q170.671 403.836 174.05 407.008 Q177.43 410.179 177.43 415.596 Q177.43 421.174 173.958 424.276 Q170.485 427.355 164.166 427.355 Q161.99 427.355 159.721 426.984 Q157.476 426.614 155.069 425.873 L155.069 421.174 Q157.152 422.308 159.374 422.864 Q161.596 423.42 164.073 423.42 Q168.078 423.42 170.416 421.313 Q172.754 419.207 172.754 415.596 Q172.754 411.984 170.416 409.878 Q168.078 407.772 164.073 407.772 Q162.198 407.772 160.323 408.188 Q158.472 408.605 156.527 409.484 L156.527 392.123 Z\" fill=\"#000000\" fill-rule=\"evenodd\" fill-opacity=\"1\" /><path clip-path=\"url(#clip360)\" d=\"M 0 0 M124.421 292.874 Q127.777 293.591 129.652 295.86 Q131.55 298.128 131.55 301.461 Q131.55 306.577 128.032 309.378 Q124.513 312.179 118.032 312.179 Q115.856 312.179 113.541 311.739 Q111.25 311.323 108.796 310.466 L108.796 305.952 Q110.74 307.086 113.055 307.665 Q115.37 308.244 117.893 308.244 Q122.291 308.244 124.583 306.508 Q126.898 304.772 126.898 301.461 Q126.898 298.406 124.745 296.693 Q122.615 294.957 118.796 294.957 L114.768 294.957 L114.768 291.114 L118.981 291.114 Q122.43 291.114 124.259 289.749 Q126.087 288.36 126.087 285.767 Q126.087 283.105 124.189 281.693 Q122.314 280.258 118.796 280.258 Q116.875 280.258 114.675 280.675 Q112.476 281.091 109.838 281.971 L109.838 277.804 Q112.5 277.063 114.814 276.693 Q117.152 276.323 119.212 276.323 Q124.537 276.323 127.638 278.753 Q130.74 281.161 130.74 285.281 Q130.74 288.151 129.097 290.142 Q127.453 292.11 124.421 292.874 Z\" fill=\"#000000\" fill-rule=\"evenodd\" fill-opacity=\"1\" /><path clip-path=\"url(#clip360)\" d=\"M 0 0 M140.416 305.628 L145.3 305.628 L145.3 311.508 L140.416 311.508 L140.416 305.628 Z\" fill=\"#000000\" fill-rule=\"evenodd\" fill-opacity=\"1\" /><path clip-path=\"url(#clip360)\" d=\"M 0 0 M165.485 280.026 Q161.874 280.026 160.046 283.591 Q158.24 287.133 158.24 294.262 Q158.24 301.369 160.046 304.934 Q161.874 308.475 165.485 308.475 Q169.12 308.475 170.925 304.934 Q172.754 301.369 172.754 294.262 Q172.754 287.133 170.925 283.591 Q169.12 280.026 165.485 280.026 M165.485 276.323 Q171.296 276.323 174.351 280.929 Q177.43 285.512 177.43 294.262 Q177.43 302.989 174.351 307.596 Q171.296 312.179 165.485 312.179 Q159.675 312.179 156.597 307.596 Q153.541 302.989 153.541 294.262 Q153.541 285.512 156.597 280.929 Q159.675 276.323 165.485 276.323 Z\" fill=\"#000000\" fill-rule=\"evenodd\" fill-opacity=\"1\" /><path clip-path=\"url(#clip360)\" d=\"M 0 0 M125.416 177.698 Q128.773 178.415 130.648 180.684 Q132.546 182.952 132.546 186.286 Q132.546 191.401 129.027 194.202 Q125.509 197.003 119.027 197.003 Q116.851 197.003 114.537 196.563 Q112.245 196.147 109.791 195.29 L109.791 190.776 Q111.736 191.911 114.05 192.489 Q116.365 193.068 118.888 193.068 Q123.287 193.068 125.578 191.332 Q127.893 189.596 127.893 186.286 Q127.893 183.23 125.74 181.517 Q123.611 179.781 119.791 179.781 L115.763 179.781 L115.763 175.939 L119.976 175.939 Q123.425 175.939 125.254 174.573 Q127.083 173.184 127.083 170.591 Q127.083 167.929 125.185 166.517 Q123.31 165.082 119.791 165.082 Q117.87 165.082 115.671 165.499 Q113.472 165.915 110.833 166.795 L110.833 162.628 Q113.495 161.888 115.81 161.517 Q118.148 161.147 120.208 161.147 Q125.532 161.147 128.634 163.578 Q131.736 165.985 131.736 170.105 Q131.736 172.976 130.092 174.966 Q128.449 176.934 125.416 177.698 Z\" fill=\"#000000\" fill-rule=\"evenodd\" fill-opacity=\"1\" /><path clip-path=\"url(#clip360)\" d=\"M 0 0 M141.411 190.452 L146.296 190.452 L146.296 196.332 L141.411 196.332 L141.411 190.452 Z\" fill=\"#000000\" fill-rule=\"evenodd\" fill-opacity=\"1\" /><path clip-path=\"url(#clip360)\" d=\"M 0 0 M156.527 161.772 L174.883 161.772 L174.883 165.707 L160.809 165.707 L160.809 174.179 Q161.828 173.832 162.846 173.67 Q163.865 173.485 164.884 173.485 Q170.671 173.485 174.05 176.656 Q177.43 179.827 177.43 185.244 Q177.43 190.823 173.958 193.925 Q170.485 197.003 164.166 197.003 Q161.99 197.003 159.721 196.633 Q157.476 196.263 155.069 195.522 L155.069 190.823 Q157.152 191.957 159.374 192.513 Q161.596 193.068 164.073 193.068 Q168.078 193.068 170.416 190.962 Q172.754 188.855 172.754 185.244 Q172.754 181.633 170.416 179.527 Q168.078 177.42 164.073 177.42 Q162.198 177.42 160.323 177.837 Q158.472 178.253 156.527 179.133 L156.527 161.772 Z\" fill=\"#000000\" fill-rule=\"evenodd\" fill-opacity=\"1\" /><path clip-path=\"url(#clip360)\" d=\"M 0 0 M45.1129 581.521 L47.9774 581.521 L47.9774 608.448 Q54.0249 608.066 57.2077 604.819 Q60.3587 601.541 60.3587 595.716 Q60.3587 592.342 59.5312 589.191 Q58.7037 586.008 57.0486 582.889 L62.5867 582.889 Q63.9235 586.04 64.6238 589.35 Q65.324 592.661 65.324 596.066 Q65.324 604.596 60.3587 609.593 Q55.3935 614.559 46.9271 614.559 Q38.1742 614.559 33.0499 609.848 Q27.8936 605.106 27.8936 597.085 Q27.8936 589.891 32.5406 585.722 Q37.1557 581.521 45.1129 581.521 M43.3941 587.377 Q38.588 587.441 35.7234 590.082 Q32.8589 592.692 32.8589 597.021 Q32.8589 601.923 35.628 604.883 Q38.397 607.811 43.426 608.257 L43.3941 587.377 Z\" fill=\"#000000\" fill-rule=\"evenodd\" fill-opacity=\"1\" /><path clip-path=\"url(#clip360)\" d=\"M 0 0 M34.2275 551.252 Q33.6546 552.238 33.4 553.416 Q33.1135 554.562 33.1135 555.962 Q33.1135 560.928 36.36 563.601 Q39.5747 566.243 45.6221 566.243 L64.401 566.243 L64.401 572.131 L28.753 572.131 L28.753 566.243 L34.2912 566.243 Q31.0447 564.397 29.4851 561.437 Q27.8936 558.477 27.8936 554.244 Q27.8936 553.639 27.9891 552.907 Q28.0528 552.175 28.2119 551.283 L34.2275 551.252 Z\" fill=\"#000000\" fill-rule=\"evenodd\" fill-opacity=\"1\" /><path clip-path=\"url(#clip360)\" d=\"M 0 0 M34.2275 525.598 Q33.6546 526.585 33.4 527.762 Q33.1135 528.908 33.1135 530.308 Q33.1135 535.274 36.36 537.947 Q39.5747 540.589 45.6221 540.589 L64.401 540.589 L64.401 546.477 L28.753 546.477 L28.753 540.589 L34.2912 540.589 Q31.0447 538.743 29.4851 535.783 Q27.8936 532.823 27.8936 528.59 Q27.8936 527.985 27.9891 527.253 Q28.0528 526.521 28.2119 525.63 L34.2275 525.598 Z\" fill=\"#000000\" fill-rule=\"evenodd\" fill-opacity=\"1\" /><path clip-path=\"url(#clip360)\" d=\"M 0 0 M32.8589 507.074 Q32.8589 511.784 36.551 514.522 Q40.2113 517.259 46.6088 517.259 Q53.0063 517.259 56.6985 514.553 Q60.3587 511.816 60.3587 507.074 Q60.3587 502.395 56.6666 499.658 Q52.9745 496.92 46.6088 496.92 Q40.2749 496.92 36.5828 499.658 Q32.8589 502.395 32.8589 507.074 M27.8936 507.074 Q27.8936 499.435 32.8589 495.074 Q37.8241 490.714 46.6088 490.714 Q55.3617 490.714 60.3587 495.074 Q65.324 499.435 65.324 507.074 Q65.324 514.744 60.3587 519.105 Q55.3617 523.434 46.6088 523.434 Q37.8241 523.434 32.8589 519.105 Q27.8936 514.744 27.8936 507.074 Z\" fill=\"#000000\" fill-rule=\"evenodd\" fill-opacity=\"1\" /><path clip-path=\"url(#clip360)\" d=\"M 0 0 M34.2275 460.349 Q33.6546 461.336 33.4 462.514 Q33.1135 463.66 33.1135 465.06 Q33.1135 470.025 36.36 472.699 Q39.5747 475.341 45.6221 475.341 L64.401 475.341 L64.401 481.229 L28.753 481.229 L28.753 475.341 L34.2912 475.341 Q31.0447 473.495 29.4851 470.534 Q27.8936 467.574 27.8936 463.341 Q27.8936 462.737 27.9891 462.004 Q28.0528 461.272 28.2119 460.381 L34.2275 460.349 Z\" fill=\"#000000\" fill-rule=\"evenodd\" fill-opacity=\"1\" /><path clip-path=\"url(#clip360)\" d=\"M 0 0 M480.255 12.096 L488.438 12.096 L488.438 65.6895 L517.888 65.6895 L517.888 72.576 L480.255 72.576 L480.255 12.096 Z\" fill=\"#000000\" fill-rule=\"evenodd\" fill-opacity=\"1\" /><path clip-path=\"url(#clip360)\" d=\"M 0 0 M534.659 18.8205 L534.659 65.8515 L544.543 65.8515 Q557.06 65.8515 562.853 60.1802 Q568.686 54.509 568.686 42.2752 Q568.686 30.1225 562.853 24.4918 Q557.06 18.8205 544.543 18.8205 L534.659 18.8205 M526.476 12.096 L543.287 12.096 Q560.868 12.096 569.092 19.4281 Q577.315 26.7198 577.315 42.2752 Q577.315 57.9117 569.051 65.2439 Q560.787 72.576 543.287 72.576 L526.476 72.576 L526.476 12.096 Z\" fill=\"#000000\" fill-rule=\"evenodd\" fill-opacity=\"1\" /><path clip-path=\"url(#clip360)\" d=\"M 0 0 M626.614 14.0809 L626.614 22.0612 Q621.956 19.8332 617.824 18.7395 Q613.692 17.6457 609.844 17.6457 Q603.16 17.6457 599.514 20.2383 Q595.908 22.8309 595.908 27.611 Q595.908 31.6214 598.299 33.6873 Q600.729 35.7128 607.454 36.9686 L612.396 37.9813 Q621.551 39.7232 625.885 44.1387 Q630.26 48.5136 630.26 55.8863 Q630.26 64.6767 624.346 69.2137 Q618.472 73.7508 607.089 73.7508 Q602.795 73.7508 597.934 72.7785 Q593.113 71.8063 587.928 69.9024 L587.928 61.4765 Q592.911 64.2716 597.691 65.6895 Q602.471 67.1073 607.089 67.1073 Q614.097 67.1073 617.905 64.3527 Q621.713 61.598 621.713 56.4939 Q621.713 52.0379 618.958 49.5264 Q616.244 47.0148 610.006 45.759 L605.023 44.7868 Q595.868 42.9639 591.777 39.075 Q587.685 35.1862 587.685 28.2591 Q587.685 20.2383 593.316 15.6203 Q598.987 11.0023 608.912 11.0023 Q613.165 11.0023 617.581 11.7719 Q621.996 12.5416 626.614 14.0809 Z\" fill=\"#000000\" fill-rule=\"evenodd\" fill-opacity=\"1\" /><path clip-path=\"url(#clip360)\" d=\"M 0 0 M664.733 27.2059 L672.187 27.2059 L681.504 62.6108 L690.781 27.2059 L699.571 27.2059 L708.888 62.6108 L718.165 27.2059 L725.618 27.2059 L713.749 72.576 L704.959 72.576 L695.196 35.3887 L685.393 72.576 L676.603 72.576 L664.733 27.2059 Z\" fill=\"#000000\" fill-rule=\"evenodd\" fill-opacity=\"1\" /><path clip-path=\"url(#clip360)\" d=\"M 0 0 M736.92 27.2059 L744.374 27.2059 L744.374 72.576 L736.92 72.576 L736.92 27.2059 M736.92 9.54393 L744.374 9.54393 L744.374 18.9825 L736.92 18.9825 L736.92 9.54393 Z\" fill=\"#000000\" fill-rule=\"evenodd\" fill-opacity=\"1\" /><path clip-path=\"url(#clip360)\" d=\"M 0 0 M767.343 14.324 L767.343 27.2059 L782.696 27.2059 L782.696 32.9987 L767.343 32.9987 L767.343 57.6282 Q767.343 63.1779 768.842 64.7578 Q770.381 66.3376 775.039 66.3376 L782.696 66.3376 L782.696 72.576 L775.039 72.576 Q766.411 72.576 763.13 69.3758 Q759.849 66.1351 759.849 57.6282 L759.849 32.9987 L754.38 32.9987 L754.38 27.2059 L759.849 27.2059 L759.849 14.324 L767.343 14.324 Z\" fill=\"#000000\" fill-rule=\"evenodd\" fill-opacity=\"1\" /><path clip-path=\"url(#clip360)\" d=\"M 0 0 M830.213 45.1919 L830.213 72.576 L822.759 72.576 L822.759 45.4349 Q822.759 38.994 820.248 35.7938 Q817.736 32.5936 812.713 32.5936 Q806.677 32.5936 803.193 36.4419 Q799.709 40.2903 799.709 46.9338 L799.709 72.576 L792.215 72.576 L792.215 9.54393 L799.709 9.54393 L799.709 34.2544 Q802.383 30.163 805.988 28.1376 Q809.634 26.1121 814.374 26.1121 Q822.192 26.1121 826.202 30.9732 Q830.213 35.7938 830.213 45.1919 Z\" fill=\"#000000\" fill-rule=\"evenodd\" fill-opacity=\"1\" /><path clip-path=\"url(#clip360)\" d=\"M 0 0 M906.775 35.9153 Q909.57 30.8922 913.459 28.5022 Q917.348 26.1121 922.614 26.1121 Q929.703 26.1121 933.551 31.0947 Q937.4 36.0368 937.4 45.1919 L937.4 72.576 L929.906 72.576 L929.906 45.4349 Q929.906 38.913 927.597 35.7533 Q925.288 32.5936 920.548 32.5936 Q914.755 32.5936 911.393 36.4419 Q908.031 40.2903 908.031 46.9338 L908.031 72.576 L900.536 72.576 L900.536 45.4349 Q900.536 38.8725 898.227 35.7533 Q895.918 32.5936 891.098 32.5936 Q885.386 32.5936 882.024 36.4824 Q878.662 40.3308 878.662 46.9338 L878.662 72.576 L871.167 72.576 L871.167 27.2059 L878.662 27.2059 L878.662 34.2544 Q881.214 30.082 884.778 28.0971 Q888.343 26.1121 893.245 26.1121 Q898.187 26.1121 901.63 28.6237 Q905.114 31.1352 906.775 35.9153 Z\" fill=\"#000000\" fill-rule=\"evenodd\" fill-opacity=\"1\" /><path clip-path=\"url(#clip360)\" d=\"M 0 0 M951.497 54.671 L951.497 27.2059 L958.951 27.2059 L958.951 54.3874 Q958.951 60.8284 961.462 64.0691 Q963.974 67.2693 968.997 67.2693 Q975.033 67.2693 978.516 63.421 Q982.041 59.5726 982.041 52.9291 L982.041 27.2059 L989.494 27.2059 L989.494 72.576 L982.041 72.576 L982.041 65.6084 Q979.327 69.7404 975.721 71.7658 Q972.156 73.7508 967.417 73.7508 Q959.599 73.7508 955.548 68.8897 Q951.497 64.0286 951.497 54.671 M970.253 26.1121 L970.253 26.1121 Z\" fill=\"#000000\" fill-rule=\"evenodd\" fill-opacity=\"1\" /><path clip-path=\"url(#clip360)\" d=\"M 0 0 M1004.85 9.54393 L1012.3 9.54393 L1012.3 72.576 L1004.85 72.576 L1004.85 9.54393 Z\" fill=\"#000000\" fill-rule=\"evenodd\" fill-opacity=\"1\" /><path clip-path=\"url(#clip360)\" d=\"M 0 0 M1035.27 14.324 L1035.27 27.2059 L1050.62 27.2059 L1050.62 32.9987 L1035.27 32.9987 L1035.27 57.6282 Q1035.27 63.1779 1036.77 64.7578 Q1038.31 66.3376 1042.97 66.3376 L1050.62 66.3376 L1050.62 72.576 L1042.97 72.576 Q1034.34 72.576 1031.06 69.3758 Q1027.78 66.1351 1027.78 57.6282 L1027.78 32.9987 L1022.31 32.9987 L1022.31 27.2059 L1027.78 27.2059 L1027.78 14.324 L1035.27 14.324 Z\" fill=\"#000000\" fill-rule=\"evenodd\" fill-opacity=\"1\" /><path clip-path=\"url(#clip360)\" d=\"M 0 0 M1060.43 27.2059 L1067.88 27.2059 L1067.88 72.576 L1060.43 72.576 L1060.43 27.2059 M1060.43 9.54393 L1067.88 9.54393 L1067.88 18.9825 L1060.43 18.9825 L1060.43 9.54393 Z\" fill=\"#000000\" fill-rule=\"evenodd\" fill-opacity=\"1\" /><path clip-path=\"url(#clip360)\" d=\"M 0 0 M1112.4 28.5427 L1112.4 35.5912 Q1109.24 33.9709 1105.84 33.1607 Q1102.43 32.3505 1098.79 32.3505 Q1093.24 32.3505 1090.44 34.0519 Q1087.69 35.7533 1087.69 39.156 Q1087.69 41.7486 1089.67 43.2475 Q1091.66 44.7058 1097.65 46.0426 L1100.21 46.6097 Q1108.15 48.3111 1111.47 51.4303 Q1114.83 54.509 1114.83 60.0587 Q1114.83 66.3781 1109.81 70.0644 Q1104.82 73.7508 1096.07 73.7508 Q1092.43 73.7508 1088.46 73.0216 Q1084.53 72.3329 1080.15 70.9151 L1080.15 63.2184 Q1084.29 65.3654 1088.3 66.4591 Q1092.31 67.5124 1096.24 67.5124 Q1101.5 67.5124 1104.34 65.73 Q1107.17 63.9071 1107.17 60.6258 Q1107.17 57.5877 1105.11 55.9673 Q1103.08 54.3469 1096.15 52.8481 L1093.56 52.2405 Q1086.64 50.7821 1083.56 47.7845 Q1080.48 44.7463 1080.48 39.4801 Q1080.48 33.0797 1085.01 29.5959 Q1089.55 26.1121 1097.9 26.1121 Q1102.03 26.1121 1105.67 26.7198 Q1109.32 27.3274 1112.4 28.5427 Z\" fill=\"#000000\" fill-rule=\"evenodd\" fill-opacity=\"1\" /><path clip-path=\"url(#clip360)\" d=\"M 0 0 M1159.35 28.9478 L1159.35 35.9153 Q1156.19 34.1734 1152.99 33.3227 Q1149.83 32.4315 1146.59 32.4315 Q1139.34 32.4315 1135.33 37.0496 Q1131.32 41.6271 1131.32 49.9314 Q1131.32 58.2358 1135.33 62.8538 Q1139.34 67.4314 1146.59 67.4314 Q1149.83 67.4314 1152.99 66.5807 Q1156.19 65.6895 1159.35 63.9476 L1159.35 70.8341 Q1156.23 72.2924 1152.87 73.0216 Q1149.55 73.7508 1145.78 73.7508 Q1135.53 73.7508 1129.49 67.3098 Q1123.46 60.8689 1123.46 49.9314 Q1123.46 38.832 1129.53 32.472 Q1135.65 26.1121 1146.26 26.1121 Q1149.71 26.1121 1152.99 26.8413 Q1156.27 27.5299 1159.35 28.9478 Z\" fill=\"#000000\" fill-rule=\"evenodd\" fill-opacity=\"1\" /><path clip-path=\"url(#clip360)\" d=\"M 0 0 M1192.93 49.7694 Q1183.9 49.7694 1180.41 51.8354 Q1176.93 53.9013 1176.93 58.8839 Q1176.93 62.8538 1179.52 65.2034 Q1182.16 67.5124 1186.65 67.5124 Q1192.85 67.5124 1196.58 63.1374 Q1200.34 58.7219 1200.34 51.4303 L1200.34 49.7694 L1192.93 49.7694 M1207.8 46.6907 L1207.8 72.576 L1200.34 72.576 L1200.34 65.6895 Q1197.79 69.8214 1193.98 71.8063 Q1190.18 73.7508 1184.67 73.7508 Q1177.7 73.7508 1173.57 69.8619 Q1169.48 65.9325 1169.48 59.3701 Q1169.48 51.7138 1174.58 47.825 Q1179.72 43.9361 1189.89 43.9361 L1200.34 43.9361 L1200.34 43.2069 Q1200.34 38.0623 1196.94 35.2672 Q1193.58 32.4315 1187.46 32.4315 Q1183.57 32.4315 1179.89 33.3632 Q1176.2 34.295 1172.8 36.1584 L1172.8 29.2718 Q1176.89 27.692 1180.74 26.9223 Q1184.59 26.1121 1188.23 26.1121 Q1198.08 26.1121 1202.94 31.2163 Q1207.8 36.3204 1207.8 46.6907 Z\" fill=\"#000000\" fill-rule=\"evenodd\" fill-opacity=\"1\" /><path clip-path=\"url(#clip360)\" d=\"M 0 0 M1223.15 9.54393 L1230.6 9.54393 L1230.6 72.576 L1223.15 72.576 L1223.15 9.54393 Z\" fill=\"#000000\" fill-rule=\"evenodd\" fill-opacity=\"1\" /><path clip-path=\"url(#clip360)\" d=\"M 0 0 M1285.01 48.0275 L1285.01 51.6733 L1250.74 51.6733 Q1251.22 59.3701 1255.36 63.421 Q1259.53 67.4314 1266.94 67.4314 Q1271.23 67.4314 1275.25 66.3781 Q1279.3 65.3249 1283.27 63.2184 L1283.27 70.267 Q1279.26 71.9684 1275.04 72.8596 Q1270.83 73.7508 1266.5 73.7508 Q1255.64 73.7508 1249.28 67.4314 Q1242.96 61.1119 1242.96 50.3365 Q1242.96 39.1965 1248.95 32.6746 Q1254.99 26.1121 1265.2 26.1121 Q1274.35 26.1121 1279.66 32.0264 Q1285.01 37.9003 1285.01 48.0275 M1277.55 45.84 Q1277.47 39.7232 1274.11 36.0774 Q1270.79 32.4315 1265.28 32.4315 Q1259.04 32.4315 1255.27 35.9558 Q1251.55 39.4801 1250.98 45.8805 L1277.55 45.84 Z\" fill=\"#000000\" fill-rule=\"evenodd\" fill-opacity=\"1\" /><path clip-path=\"url(#clip360)\" d=\"M 0 0 M1356.18 49.9314 Q1356.18 41.7081 1352.78 37.0496 Q1349.42 32.3505 1343.5 32.3505 Q1337.59 32.3505 1334.19 37.0496 Q1330.82 41.7081 1330.82 49.9314 Q1330.82 58.1548 1334.19 62.8538 Q1337.59 67.5124 1343.5 67.5124 Q1349.42 67.5124 1352.78 62.8538 Q1356.18 58.1548 1356.18 49.9314 M1330.82 34.0924 Q1333.17 30.0415 1336.74 28.0971 Q1340.34 26.1121 1345.33 26.1121 Q1353.59 26.1121 1358.73 32.6746 Q1363.92 39.2371 1363.92 49.9314 Q1363.92 60.6258 1358.73 67.1883 Q1353.59 73.7508 1345.33 73.7508 Q1340.34 73.7508 1336.74 71.8063 Q1333.17 69.8214 1330.82 65.7705 L1330.82 72.576 L1323.33 72.576 L1323.33 9.54393 L1330.82 9.54393 L1330.82 34.0924 Z\" fill=\"#000000\" fill-rule=\"evenodd\" fill-opacity=\"1\" /><path clip-path=\"url(#clip360)\" d=\"M 0 0 M1415.08 48.0275 L1415.08 51.6733 L1380.81 51.6733 Q1381.3 59.3701 1385.43 63.421 Q1389.6 67.4314 1397.02 67.4314 Q1401.31 67.4314 1405.32 66.3781 Q1409.37 65.3249 1413.34 63.2184 L1413.34 70.267 Q1409.33 71.9684 1405.12 72.8596 Q1400.9 73.7508 1396.57 73.7508 Q1385.71 73.7508 1379.35 67.4314 Q1373.03 61.1119 1373.03 50.3365 Q1373.03 39.1965 1379.03 32.6746 Q1385.07 26.1121 1395.27 26.1121 Q1404.43 26.1121 1409.74 32.0264 Q1415.08 37.9003 1415.08 48.0275 M1407.63 45.84 Q1407.55 39.7232 1404.19 36.0774 Q1400.86 32.4315 1395.35 32.4315 Q1389.12 32.4315 1385.35 35.9558 Q1381.62 39.4801 1381.05 45.8805 L1407.63 45.84 Z\" fill=\"#000000\" fill-rule=\"evenodd\" fill-opacity=\"1\" /><path clip-path=\"url(#clip360)\" d=\"M 0 0 M1465.03 45.1919 L1465.03 72.576 L1457.58 72.576 L1457.58 45.4349 Q1457.58 38.994 1455.06 35.7938 Q1452.55 32.5936 1447.53 32.5936 Q1441.49 32.5936 1438.01 36.4419 Q1434.53 40.2903 1434.53 46.9338 L1434.53 72.576 L1427.03 72.576 L1427.03 9.54393 L1434.53 9.54393 L1434.53 34.2544 Q1437.2 30.163 1440.81 28.1376 Q1444.45 26.1121 1449.19 26.1121 Q1457.01 26.1121 1461.02 30.9732 Q1465.03 35.7938 1465.03 45.1919 Z\" fill=\"#000000\" fill-rule=\"evenodd\" fill-opacity=\"1\" /><path clip-path=\"url(#clip360)\" d=\"M 0 0 M1500.52 49.7694 Q1491.48 49.7694 1488 51.8354 Q1484.51 53.9013 1484.51 58.8839 Q1484.51 62.8538 1487.11 65.2034 Q1489.74 67.5124 1494.24 67.5124 Q1500.43 67.5124 1504.16 63.1374 Q1507.93 58.7219 1507.93 51.4303 L1507.93 49.7694 L1500.52 49.7694 M1515.38 46.6907 L1515.38 72.576 L1507.93 72.576 L1507.93 65.6895 Q1505.38 69.8214 1501.57 71.8063 Q1497.76 73.7508 1492.25 73.7508 Q1485.28 73.7508 1481.15 69.8619 Q1477.06 65.9325 1477.06 59.3701 Q1477.06 51.7138 1482.17 47.825 Q1487.31 43.9361 1497.48 43.9361 L1507.93 43.9361 L1507.93 43.2069 Q1507.93 38.0623 1504.53 35.2672 Q1501.16 32.4315 1495.05 32.4315 Q1491.16 32.4315 1487.47 33.3632 Q1483.79 34.295 1480.38 36.1584 L1480.38 29.2718 Q1484.47 27.692 1488.32 26.9223 Q1492.17 26.1121 1495.82 26.1121 Q1505.66 26.1121 1510.52 31.2163 Q1515.38 36.3204 1515.38 46.6907 Z\" fill=\"#000000\" fill-rule=\"evenodd\" fill-opacity=\"1\" /><path clip-path=\"url(#clip360)\" d=\"M 0 0 M1525.39 27.2059 L1533.29 27.2059 L1547.47 65.2844 L1561.64 27.2059 L1569.54 27.2059 L1552.53 72.576 L1542.4 72.576 L1525.39 27.2059 Z\" fill=\"#000000\" fill-rule=\"evenodd\" fill-opacity=\"1\" /><path clip-path=\"url(#clip360)\" d=\"M 0 0 M1579.83 27.2059 L1587.29 27.2059 L1587.29 72.576 L1579.83 72.576 L1579.83 27.2059 M1579.83 9.54393 L1587.29 9.54393 L1587.29 18.9825 L1579.83 18.9825 L1579.83 9.54393 Z\" fill=\"#000000\" fill-rule=\"evenodd\" fill-opacity=\"1\" /><path clip-path=\"url(#clip360)\" d=\"M 0 0 M1620.46 32.4315 Q1614.47 32.4315 1610.98 37.1306 Q1607.5 41.7891 1607.5 49.9314 Q1607.5 58.0738 1610.94 62.7728 Q1614.43 67.4314 1620.46 67.4314 Q1626.42 67.4314 1629.9 62.7323 Q1633.39 58.0333 1633.39 49.9314 Q1633.39 41.8701 1629.9 37.1711 Q1626.42 32.4315 1620.46 32.4315 M1620.46 26.1121 Q1630.19 26.1121 1635.74 32.4315 Q1641.28 38.7509 1641.28 49.9314 Q1641.28 61.0714 1635.74 67.4314 Q1630.19 73.7508 1620.46 73.7508 Q1610.7 73.7508 1605.15 67.4314 Q1599.64 61.0714 1599.64 49.9314 Q1599.64 38.7509 1605.15 32.4315 Q1610.7 26.1121 1620.46 26.1121 Z\" fill=\"#000000\" fill-rule=\"evenodd\" fill-opacity=\"1\" /><path clip-path=\"url(#clip360)\" d=\"M 0 0 M1679.93 34.1734 Q1678.67 33.4443 1677.18 33.1202 Q1675.72 32.7556 1673.94 32.7556 Q1667.62 32.7556 1664.21 36.8875 Q1660.85 40.9789 1660.85 48.6757 L1660.85 72.576 L1653.36 72.576 L1653.36 27.2059 L1660.85 27.2059 L1660.85 34.2544 Q1663.2 30.1225 1666.97 28.1376 Q1670.73 26.1121 1676.12 26.1121 Q1676.89 26.1121 1677.82 26.2337 Q1678.76 26.3147 1679.89 26.5172 L1679.93 34.1734 Z\" fill=\"#000000\" fill-rule=\"evenodd\" fill-opacity=\"1\" /><polyline clip-path=\"url(#clip362)\" style=\"stroke:#009af9; stroke-width:8; stroke-opacity:1; fill:none\" points=\"\n",
       "  256.826,137.776 359.734,446.463 462.643,585.927 565.551,661.306 668.459,696.314 771.368,724.659 874.276,745.893 977.184,755.198 1080.09,771.757 1183,785.227 \n",
       "  1285.91,790.019 1388.82,799.729 1491.73,807.761 1594.63,813.953 1697.54,820.432 1800.45,825.493 1903.36,828.334 \n",
       "  \"/>\n",
       "<polyline clip-path=\"url(#clip362)\" style=\"stroke:#e26f46; stroke-width:8; stroke-opacity:1; fill:none\" points=\"\n",
       "  256.826,356.454 359.734,668.938 462.643,804.338 565.551,877.029 668.459,889.267 771.368,897.485 874.276,916.553 977.184,911.794 1080.09,917.508 1183,923.465 \n",
       "  1285.91,924.323 1388.82,931.446 1491.73,935.988 1594.63,937.132 1697.54,934.997 1800.45,933.341 1903.36,933.962 \n",
       "  \"/>\n",
       "<polyline clip-path=\"url(#clip362)\" style=\"stroke:#3da44d; stroke-width:8; stroke-opacity:1; fill:none\" points=\"\n",
       "  256.826,544.664 359.734,784.084 462.643,849.151 565.551,871.858 668.459,886.258 771.368,894.218 874.276,903.447 977.184,900.456 1080.09,906.858 1183,914.18 \n",
       "  1285.91,914.736 1388.82,920.037 1491.73,927.455 1594.63,928.341 1697.54,928.914 1800.45,928.325 1903.36,927.576 \n",
       "  \"/>\n",
       "<path clip-path=\"url(#clip360)\" d=\"\n",
       "M1350.35 383.959 L1894.58 383.959 L1894.58 142.039 L1350.35 142.039  Z\n",
       "  \" fill=\"#ffffff\" fill-rule=\"evenodd\" fill-opacity=\"1\"/>\n",
       "<polyline clip-path=\"url(#clip360)\" style=\"stroke:#000000; stroke-width:4; stroke-opacity:1; fill:none\" points=\"\n",
       "  1350.35,383.959 1894.58,383.959 1894.58,142.039 1350.35,142.039 1350.35,383.959 \n",
       "  \"/>\n",
       "<polyline clip-path=\"url(#clip360)\" style=\"stroke:#009af9; stroke-width:4; stroke-opacity:1; fill:none\" points=\"\n",
       "  1369.75,202.519 1486.1,202.519 \n",
       "  \"/>\n",
       "<path clip-path=\"url(#clip360)\" d=\"M 0 0 M1505.49 183.781 L1509.75 183.781 L1509.75 219.799 L1505.49 219.799 L1505.49 183.781 Z\" fill=\"#000000\" fill-rule=\"evenodd\" fill-opacity=\"1\" /><path clip-path=\"url(#clip360)\" d=\"M 0 0 M1540.84 205.772 L1540.84 207.855 L1521.26 207.855 Q1521.54 212.253 1523.9 214.568 Q1526.28 216.859 1530.52 216.859 Q1532.97 216.859 1535.26 216.258 Q1537.58 215.656 1539.85 214.452 L1539.85 218.48 Q1537.55 219.452 1535.15 219.961 Q1532.74 220.471 1530.26 220.471 Q1524.06 220.471 1520.42 216.859 Q1516.81 213.248 1516.81 207.091 Q1516.81 200.725 1520.24 196.998 Q1523.69 193.248 1529.52 193.248 Q1534.75 193.248 1537.79 196.628 Q1540.84 199.985 1540.84 205.772 M1536.58 204.522 Q1536.54 201.026 1534.61 198.943 Q1532.72 196.86 1529.57 196.86 Q1526 196.86 1523.85 198.873 Q1521.72 200.887 1521.4 204.545 L1536.58 204.522 Z\" fill=\"#000000\" fill-rule=\"evenodd\" fill-opacity=\"1\" /><path clip-path=\"url(#clip360)\" d=\"M 0 0 M1559.61 206.767 Q1554.45 206.767 1552.46 207.947 Q1550.47 209.128 1550.47 211.975 Q1550.47 214.244 1551.95 215.586 Q1553.46 216.906 1556.03 216.906 Q1559.57 216.906 1561.7 214.406 Q1563.85 211.883 1563.85 207.716 L1563.85 206.767 L1559.61 206.767 M1568.11 205.008 L1568.11 219.799 L1563.85 219.799 L1563.85 215.864 Q1562.39 218.225 1560.22 219.359 Q1558.04 220.471 1554.89 220.471 Q1550.91 220.471 1548.55 218.248 Q1546.21 216.003 1546.21 212.253 Q1546.21 207.878 1549.13 205.656 Q1552.07 203.434 1557.88 203.434 L1563.85 203.434 L1563.85 203.017 Q1563.85 200.077 1561.91 198.48 Q1559.98 196.86 1556.49 196.86 Q1554.27 196.86 1552.16 197.392 Q1550.05 197.924 1548.11 198.989 L1548.11 195.054 Q1550.45 194.151 1552.65 193.711 Q1554.85 193.248 1556.93 193.248 Q1562.55 193.248 1565.33 196.165 Q1568.11 199.082 1568.11 205.008 Z\" fill=\"#000000\" fill-rule=\"evenodd\" fill-opacity=\"1\" /><path clip-path=\"url(#clip360)\" d=\"M 0 0 M1593.41 194.637 L1593.41 198.665 Q1591.6 197.739 1589.66 197.276 Q1587.72 196.813 1585.63 196.813 Q1582.46 196.813 1580.86 197.785 Q1579.29 198.758 1579.29 200.702 Q1579.29 202.184 1580.42 203.04 Q1581.56 203.873 1584.98 204.637 L1586.44 204.961 Q1590.98 205.934 1592.88 207.716 Q1594.8 209.475 1594.8 212.646 Q1594.8 216.258 1591.93 218.364 Q1589.08 220.471 1584.08 220.471 Q1582 220.471 1579.73 220.054 Q1577.48 219.66 1574.98 218.85 L1574.98 214.452 Q1577.35 215.679 1579.64 216.304 Q1581.93 216.906 1584.17 216.906 Q1587.18 216.906 1588.8 215.887 Q1590.42 214.846 1590.42 212.971 Q1590.42 211.234 1589.24 210.309 Q1588.09 209.383 1584.13 208.526 L1582.65 208.179 Q1578.69 207.346 1576.93 205.633 Q1575.17 203.897 1575.17 200.887 Q1575.17 197.23 1577.76 195.239 Q1580.36 193.248 1585.12 193.248 Q1587.48 193.248 1589.57 193.596 Q1591.65 193.943 1593.41 194.637 Z\" fill=\"#000000\" fill-rule=\"evenodd\" fill-opacity=\"1\" /><path clip-path=\"url(#clip360)\" d=\"M 0 0 M1605.79 186.512 L1605.79 193.873 L1614.57 193.873 L1614.57 197.184 L1605.79 197.184 L1605.79 211.258 Q1605.79 214.429 1606.65 215.332 Q1607.53 216.234 1610.19 216.234 L1614.57 216.234 L1614.57 219.799 L1610.19 219.799 Q1605.26 219.799 1603.39 217.971 Q1601.51 216.119 1601.51 211.258 L1601.51 197.184 L1598.39 197.184 L1598.39 193.873 L1601.51 193.873 L1601.51 186.512 L1605.79 186.512 Z\" fill=\"#000000\" fill-rule=\"evenodd\" fill-opacity=\"1\" /><path clip-path=\"url(#clip360)\" d=\"M 0 0 M1651.77 194.637 L1651.77 198.665 Q1649.96 197.739 1648.02 197.276 Q1646.07 196.813 1643.99 196.813 Q1640.82 196.813 1639.22 197.785 Q1637.65 198.758 1637.65 200.702 Q1637.65 202.184 1638.78 203.04 Q1639.91 203.873 1643.34 204.637 L1644.8 204.961 Q1649.34 205.934 1651.23 207.716 Q1653.16 209.475 1653.16 212.646 Q1653.16 216.258 1650.29 218.364 Q1647.44 220.471 1642.44 220.471 Q1640.35 220.471 1638.09 220.054 Q1635.84 219.66 1633.34 218.85 L1633.34 214.452 Q1635.7 215.679 1637.99 216.304 Q1640.29 216.906 1642.53 216.906 Q1645.54 216.906 1647.16 215.887 Q1648.78 214.846 1648.78 212.971 Q1648.78 211.234 1647.6 210.309 Q1646.44 209.383 1642.48 208.526 L1641 208.179 Q1637.04 207.346 1635.29 205.633 Q1633.53 203.897 1633.53 200.887 Q1633.53 197.23 1636.12 195.239 Q1638.71 193.248 1643.48 193.248 Q1645.84 193.248 1647.92 193.596 Q1650.01 193.943 1651.77 194.637 Z\" fill=\"#000000\" fill-rule=\"evenodd\" fill-opacity=\"1\" /><path clip-path=\"url(#clip360)\" d=\"M 0 0 M1662.48 206.859 Q1662.48 211.559 1664.41 214.244 Q1666.35 216.906 1669.73 216.906 Q1673.11 216.906 1675.05 214.244 Q1677 211.559 1677 206.859 Q1677 202.16 1675.05 199.498 Q1673.11 196.813 1669.73 196.813 Q1666.35 196.813 1664.41 199.498 Q1662.48 202.16 1662.48 206.859 M1677 215.91 Q1675.66 218.225 1673.6 219.359 Q1671.56 220.471 1668.69 220.471 Q1663.99 220.471 1661.03 216.721 Q1658.09 212.971 1658.09 206.859 Q1658.09 200.748 1661.03 196.998 Q1663.99 193.248 1668.69 193.248 Q1671.56 193.248 1673.6 194.383 Q1675.66 195.494 1677 197.809 L1677 193.873 L1681.26 193.873 L1681.26 229.66 L1677 229.66 L1677 215.91 Z\" fill=\"#000000\" fill-rule=\"evenodd\" fill-opacity=\"1\" /><path clip-path=\"url(#clip360)\" d=\"M 0 0 M1689.59 209.568 L1689.59 193.873 L1693.85 193.873 L1693.85 209.406 Q1693.85 213.086 1695.28 214.938 Q1696.72 216.767 1699.59 216.767 Q1703.04 216.767 1705.03 214.568 Q1707.04 212.369 1707.04 208.572 L1707.04 193.873 L1711.3 193.873 L1711.3 219.799 L1707.04 219.799 L1707.04 215.818 Q1705.49 218.179 1703.43 219.336 Q1701.4 220.471 1698.69 220.471 Q1694.22 220.471 1691.91 217.693 Q1689.59 214.915 1689.59 209.568 M1700.31 193.248 L1700.31 193.248 Z\" fill=\"#000000\" fill-rule=\"evenodd\" fill-opacity=\"1\" /><path clip-path=\"url(#clip360)\" d=\"M 0 0 M1731.86 206.767 Q1726.7 206.767 1724.71 207.947 Q1722.72 209.128 1722.72 211.975 Q1722.72 214.244 1724.2 215.586 Q1725.7 216.906 1728.27 216.906 Q1731.81 216.906 1733.94 214.406 Q1736.09 211.883 1736.09 207.716 L1736.09 206.767 L1731.86 206.767 M1740.35 205.008 L1740.35 219.799 L1736.09 219.799 L1736.09 215.864 Q1734.64 218.225 1732.46 219.359 Q1730.28 220.471 1727.14 220.471 Q1723.16 220.471 1720.79 218.248 Q1718.46 216.003 1718.46 212.253 Q1718.46 207.878 1721.37 205.656 Q1724.31 203.434 1730.12 203.434 L1736.09 203.434 L1736.09 203.017 Q1736.09 200.077 1734.15 198.48 Q1732.23 196.86 1728.73 196.86 Q1726.51 196.86 1724.41 197.392 Q1722.3 197.924 1720.35 198.989 L1720.35 195.054 Q1722.69 194.151 1724.89 193.711 Q1727.09 193.248 1729.17 193.248 Q1734.8 193.248 1737.58 196.165 Q1740.35 199.082 1740.35 205.008 Z\" fill=\"#000000\" fill-rule=\"evenodd\" fill-opacity=\"1\" /><path clip-path=\"url(#clip360)\" d=\"M 0 0 M1764.15 197.855 Q1763.43 197.438 1762.58 197.253 Q1761.74 197.045 1760.72 197.045 Q1757.11 197.045 1755.17 199.406 Q1753.25 201.744 1753.25 206.142 L1753.25 219.799 L1748.97 219.799 L1748.97 193.873 L1753.25 193.873 L1753.25 197.901 Q1754.59 195.54 1756.74 194.406 Q1758.9 193.248 1761.97 193.248 Q1762.41 193.248 1762.95 193.318 Q1763.48 193.364 1764.13 193.48 L1764.15 197.855 Z\" fill=\"#000000\" fill-rule=\"evenodd\" fill-opacity=\"1\" /><path clip-path=\"url(#clip360)\" d=\"M 0 0 M1789.75 205.772 L1789.75 207.855 L1770.17 207.855 Q1770.45 212.253 1772.81 214.568 Q1775.19 216.859 1779.43 216.859 Q1781.88 216.859 1784.17 216.258 Q1786.49 215.656 1788.76 214.452 L1788.76 218.48 Q1786.47 219.452 1784.06 219.961 Q1781.65 220.471 1779.17 220.471 Q1772.97 220.471 1769.34 216.859 Q1765.72 213.248 1765.72 207.091 Q1765.72 200.725 1769.15 196.998 Q1772.6 193.248 1778.43 193.248 Q1783.66 193.248 1786.7 196.628 Q1789.75 199.985 1789.75 205.772 M1785.49 204.522 Q1785.45 201.026 1783.53 198.943 Q1781.63 196.86 1778.48 196.86 Q1774.91 196.86 1772.76 198.873 Q1770.63 200.887 1770.31 204.545 L1785.49 204.522 Z\" fill=\"#000000\" fill-rule=\"evenodd\" fill-opacity=\"1\" /><path clip-path=\"url(#clip360)\" d=\"M 0 0 M1813.27 194.637 L1813.27 198.665 Q1811.46 197.739 1809.52 197.276 Q1807.58 196.813 1805.49 196.813 Q1802.32 196.813 1800.72 197.785 Q1799.15 198.758 1799.15 200.702 Q1799.15 202.184 1800.28 203.04 Q1801.42 203.873 1804.84 204.637 L1806.3 204.961 Q1810.84 205.934 1812.74 207.716 Q1814.66 209.475 1814.66 212.646 Q1814.66 216.258 1811.79 218.364 Q1808.94 220.471 1803.94 220.471 Q1801.86 220.471 1799.59 220.054 Q1797.34 219.66 1794.84 218.85 L1794.84 214.452 Q1797.21 215.679 1799.5 216.304 Q1801.79 216.906 1804.03 216.906 Q1807.04 216.906 1808.66 215.887 Q1810.28 214.846 1810.28 212.971 Q1810.28 211.234 1809.1 210.309 Q1807.95 209.383 1803.99 208.526 L1802.51 208.179 Q1798.55 207.346 1796.79 205.633 Q1795.03 203.897 1795.03 200.887 Q1795.03 197.23 1797.62 195.239 Q1800.21 193.248 1804.98 193.248 Q1807.34 193.248 1809.43 193.596 Q1811.51 193.943 1813.27 194.637 Z\" fill=\"#000000\" fill-rule=\"evenodd\" fill-opacity=\"1\" /><polyline clip-path=\"url(#clip360)\" style=\"stroke:#e26f46; stroke-width:4; stroke-opacity:1; fill:none\" points=\"\n",
       "  1369.75,262.999 1486.1,262.999 \n",
       "  \"/>\n",
       "<path clip-path=\"url(#clip360)\" d=\"M 0 0 M1527.74 246.853 L1527.74 251.414 Q1525.08 250.141 1522.72 249.516 Q1520.36 248.891 1518.16 248.891 Q1514.34 248.891 1512.25 250.372 Q1510.19 251.853 1510.19 254.585 Q1510.19 256.877 1511.56 258.057 Q1512.95 259.215 1516.79 259.932 L1519.61 260.511 Q1524.85 261.506 1527.32 264.029 Q1529.82 266.529 1529.82 270.742 Q1529.82 275.765 1526.44 278.358 Q1523.09 280.951 1516.58 280.951 Q1514.13 280.951 1511.35 280.395 Q1508.6 279.839 1505.63 278.751 L1505.63 273.937 Q1508.48 275.534 1511.21 276.344 Q1513.94 277.154 1516.58 277.154 Q1520.59 277.154 1522.76 275.58 Q1524.94 274.006 1524.94 271.089 Q1524.94 268.543 1523.36 267.108 Q1521.81 265.673 1518.25 264.955 L1515.4 264.4 Q1510.17 263.358 1507.83 261.136 Q1505.49 258.914 1505.49 254.955 Q1505.49 250.372 1508.71 247.733 Q1511.95 245.094 1517.62 245.094 Q1520.05 245.094 1522.58 245.534 Q1525.1 245.974 1527.74 246.853 Z\" fill=\"#000000\" fill-rule=\"evenodd\" fill-opacity=\"1\" /><path clip-path=\"url(#clip360)\" d=\"M 0 0 M1546.03 280.279 L1532.83 245.719 L1537.72 245.719 L1548.67 274.816 L1559.64 245.719 L1564.5 245.719 L1551.33 280.279 L1546.03 280.279 Z\" fill=\"#000000\" fill-rule=\"evenodd\" fill-opacity=\"1\" /><path clip-path=\"url(#clip360)\" d=\"M 0 0 M1574.22 249.562 L1574.22 276.437 L1579.87 276.437 Q1587.02 276.437 1590.33 273.196 Q1593.67 269.955 1593.67 262.965 Q1593.67 256.02 1590.33 252.803 Q1587.02 249.562 1579.87 249.562 L1574.22 249.562 M1569.54 245.719 L1579.15 245.719 Q1589.2 245.719 1593.9 249.909 Q1598.6 254.076 1598.6 262.965 Q1598.6 271.9 1593.87 276.089 Q1589.15 280.279 1579.15 280.279 L1569.54 280.279 L1569.54 245.719 Z\" fill=\"#000000\" fill-rule=\"evenodd\" fill-opacity=\"1\" /><polyline clip-path=\"url(#clip360)\" style=\"stroke:#3da44d; stroke-width:4; stroke-opacity:1; fill:none\" points=\"\n",
       "  1369.75,323.479 1486.1,323.479 \n",
       "  \"/>\n",
       "<path clip-path=\"url(#clip360)\" d=\"M 0 0 M1525.84 319.81 Q1527.44 316.94 1529.66 315.574 Q1531.88 314.208 1534.89 314.208 Q1538.94 314.208 1541.14 317.056 Q1543.34 319.88 1543.34 325.111 L1543.34 340.759 L1539.06 340.759 L1539.06 325.25 Q1539.06 321.523 1537.74 319.718 Q1536.42 317.912 1533.71 317.912 Q1530.4 317.912 1528.48 320.111 Q1526.56 322.31 1526.56 326.107 L1526.56 340.759 L1522.28 340.759 L1522.28 325.25 Q1522.28 321.5 1520.96 319.718 Q1519.64 317.912 1516.88 317.912 Q1513.62 317.912 1511.7 320.134 Q1509.78 322.333 1509.78 326.107 L1509.78 340.759 L1505.49 340.759 L1505.49 314.833 L1509.78 314.833 L1509.78 318.861 Q1511.24 316.477 1513.27 315.343 Q1515.31 314.208 1518.11 314.208 Q1520.93 314.208 1522.9 315.644 Q1524.89 317.079 1525.84 319.81 Z\" fill=\"#000000\" fill-rule=\"evenodd\" fill-opacity=\"1\" /><path clip-path=\"url(#clip360)\" d=\"M 0 0 M1551.4 330.528 L1551.4 314.833 L1555.66 314.833 L1555.66 330.366 Q1555.66 334.046 1557.09 335.898 Q1558.53 337.727 1561.4 337.727 Q1564.85 337.727 1566.84 335.528 Q1568.85 333.329 1568.85 329.532 L1568.85 314.833 L1573.11 314.833 L1573.11 340.759 L1568.85 340.759 L1568.85 336.778 Q1567.3 339.139 1565.24 340.296 Q1563.2 341.431 1560.49 341.431 Q1556.03 341.431 1553.71 338.653 Q1551.4 335.875 1551.4 330.528 M1562.11 314.208 L1562.11 314.208 Z\" fill=\"#000000\" fill-rule=\"evenodd\" fill-opacity=\"1\" /><path clip-path=\"url(#clip360)\" d=\"M 0 0 M1581.88 304.741 L1586.14 304.741 L1586.14 340.759 L1581.88 340.759 L1581.88 304.741 Z\" fill=\"#000000\" fill-rule=\"evenodd\" fill-opacity=\"1\" /><path clip-path=\"url(#clip360)\" d=\"M 0 0 M1599.27 307.472 L1599.27 314.833 L1608.04 314.833 L1608.04 318.144 L1599.27 318.144 L1599.27 332.218 Q1599.27 335.389 1600.12 336.292 Q1601 337.194 1603.67 337.194 L1608.04 337.194 L1608.04 340.759 L1603.67 340.759 Q1598.73 340.759 1596.86 338.931 Q1594.98 337.079 1594.98 332.218 L1594.98 318.144 L1591.86 318.144 L1591.86 314.833 L1594.98 314.833 L1594.98 307.472 L1599.27 307.472 Z\" fill=\"#000000\" fill-rule=\"evenodd\" fill-opacity=\"1\" /><path clip-path=\"url(#clip360)\" d=\"M 0 0 M1613.64 314.833 L1617.9 314.833 L1617.9 340.759 L1613.64 340.759 L1613.64 314.833 M1613.64 304.741 L1617.9 304.741 L1617.9 310.134 L1613.64 310.134 L1613.64 304.741 Z\" fill=\"#000000\" fill-rule=\"evenodd\" fill-opacity=\"1\" /><path clip-path=\"url(#clip360)\" d=\"M 0 0 M1643.34 315.597 L1643.34 319.625 Q1641.54 318.699 1639.59 318.236 Q1637.65 317.773 1635.56 317.773 Q1632.39 317.773 1630.79 318.745 Q1629.22 319.718 1629.22 321.662 Q1629.22 323.144 1630.35 324 Q1631.49 324.833 1634.91 325.597 L1636.37 325.921 Q1640.91 326.894 1642.81 328.676 Q1644.73 330.435 1644.73 333.606 Q1644.73 337.218 1641.86 339.324 Q1639.01 341.431 1634.01 341.431 Q1631.93 341.431 1629.66 341.014 Q1627.41 340.62 1624.91 339.81 L1624.91 335.412 Q1627.28 336.639 1629.57 337.264 Q1631.86 337.866 1634.1 337.866 Q1637.11 337.866 1638.73 336.847 Q1640.35 335.806 1640.35 333.931 Q1640.35 332.194 1639.17 331.269 Q1638.02 330.343 1634.06 329.486 L1632.58 329.139 Q1628.62 328.306 1626.86 326.593 Q1625.1 324.857 1625.1 321.847 Q1625.1 318.19 1627.69 316.199 Q1630.29 314.208 1635.05 314.208 Q1637.41 314.208 1639.5 314.556 Q1641.58 314.903 1643.34 315.597 Z\" fill=\"#000000\" fill-rule=\"evenodd\" fill-opacity=\"1\" /><path clip-path=\"url(#clip360)\" d=\"M 0 0 M1670.17 315.829 L1670.17 319.81 Q1668.36 318.815 1666.54 318.329 Q1664.73 317.82 1662.88 317.82 Q1658.73 317.82 1656.44 320.458 Q1654.15 323.074 1654.15 327.819 Q1654.15 332.565 1656.44 335.204 Q1658.73 337.819 1662.88 337.819 Q1664.73 337.819 1666.54 337.333 Q1668.36 336.824 1670.17 335.829 L1670.17 339.764 Q1668.39 340.597 1666.47 341.014 Q1664.57 341.431 1662.41 341.431 Q1656.56 341.431 1653.11 337.75 Q1649.66 334.069 1649.66 327.819 Q1649.66 321.477 1653.13 317.843 Q1656.63 314.208 1662.69 314.208 Q1664.66 314.208 1666.54 314.625 Q1668.41 315.019 1670.17 315.829 Z\" fill=\"#000000\" fill-rule=\"evenodd\" fill-opacity=\"1\" /><path clip-path=\"url(#clip360)\" d=\"M 0 0 M1689.36 327.727 Q1684.2 327.727 1682.21 328.907 Q1680.22 330.088 1680.22 332.935 Q1680.22 335.204 1681.7 336.546 Q1683.2 337.866 1685.77 337.866 Q1689.31 337.866 1691.44 335.366 Q1693.6 332.843 1693.6 328.676 L1693.6 327.727 L1689.36 327.727 M1697.85 325.968 L1697.85 340.759 L1693.6 340.759 L1693.6 336.824 Q1692.14 339.185 1689.96 340.319 Q1687.78 341.431 1684.64 341.431 Q1680.66 341.431 1678.29 339.208 Q1675.96 336.963 1675.96 333.213 Q1675.96 328.838 1678.87 326.616 Q1681.81 324.394 1687.62 324.394 L1693.6 324.394 L1693.6 323.977 Q1693.6 321.037 1691.65 319.44 Q1689.73 317.82 1686.23 317.82 Q1684.01 317.82 1681.91 318.352 Q1679.8 318.884 1677.85 319.949 L1677.85 316.014 Q1680.19 315.111 1682.39 314.671 Q1684.59 314.208 1686.67 314.208 Q1692.3 314.208 1695.08 317.125 Q1697.85 320.042 1697.85 325.968 Z\" fill=\"#000000\" fill-rule=\"evenodd\" fill-opacity=\"1\" /><path clip-path=\"url(#clip360)\" d=\"M 0 0 M1706.63 304.741 L1710.89 304.741 L1710.89 340.759 L1706.63 340.759 L1706.63 304.741 Z\" fill=\"#000000\" fill-rule=\"evenodd\" fill-opacity=\"1\" /><path clip-path=\"url(#clip360)\" d=\"M 0 0 M1741.97 326.732 L1741.97 328.815 L1722.39 328.815 Q1722.67 333.213 1725.03 335.528 Q1727.41 337.819 1731.65 337.819 Q1734.1 337.819 1736.4 337.218 Q1738.71 336.616 1740.98 335.412 L1740.98 339.44 Q1738.69 340.412 1736.28 340.921 Q1733.87 341.431 1731.4 341.431 Q1725.19 341.431 1721.56 337.819 Q1717.95 334.208 1717.95 328.051 Q1717.95 321.685 1721.37 317.958 Q1724.82 314.208 1730.66 314.208 Q1735.89 314.208 1738.92 317.588 Q1741.97 320.945 1741.97 326.732 M1737.72 325.482 Q1737.67 321.986 1735.75 319.903 Q1733.85 317.82 1730.7 317.82 Q1727.14 317.82 1724.98 319.833 Q1722.85 321.847 1722.53 325.505 L1737.72 325.482 Z\" fill=\"#000000\" fill-rule=\"evenodd\" fill-opacity=\"1\" /><path clip-path=\"url(#clip360)\" d=\"M 0 0 M1784.94 307.333 L1784.94 311.894 Q1782.28 310.621 1779.91 309.996 Q1777.55 309.371 1775.35 309.371 Q1771.53 309.371 1769.45 310.852 Q1767.39 312.333 1767.39 315.065 Q1767.39 317.357 1768.76 318.537 Q1770.15 319.695 1773.99 320.412 L1776.81 320.991 Q1782.04 321.986 1784.52 324.509 Q1787.02 327.009 1787.02 331.222 Q1787.02 336.245 1783.64 338.838 Q1780.28 341.431 1773.78 341.431 Q1771.33 341.431 1768.55 340.875 Q1765.79 340.319 1762.83 339.231 L1762.83 334.417 Q1765.68 336.014 1768.41 336.824 Q1771.14 337.634 1773.78 337.634 Q1777.78 337.634 1779.96 336.06 Q1782.14 334.486 1782.14 331.569 Q1782.14 329.023 1780.56 327.588 Q1779.01 326.153 1775.45 325.435 L1772.6 324.88 Q1767.37 323.838 1765.03 321.616 Q1762.69 319.394 1762.69 315.435 Q1762.69 310.852 1765.91 308.213 Q1769.15 305.574 1774.82 305.574 Q1777.25 305.574 1779.78 306.014 Q1782.3 306.454 1784.94 307.333 Z\" fill=\"#000000\" fill-rule=\"evenodd\" fill-opacity=\"1\" /><path clip-path=\"url(#clip360)\" d=\"M 0 0 M1803.22 340.759 L1790.03 306.199 L1794.91 306.199 L1805.86 335.296 L1816.84 306.199 L1821.7 306.199 L1808.53 340.759 L1803.22 340.759 Z\" fill=\"#000000\" fill-rule=\"evenodd\" fill-opacity=\"1\" /><path clip-path=\"url(#clip360)\" d=\"M 0 0 M1831.42 310.042 L1831.42 336.917 L1837.07 336.917 Q1844.22 336.917 1847.53 333.676 Q1850.86 330.435 1850.86 323.445 Q1850.86 316.5 1847.53 313.283 Q1844.22 310.042 1837.07 310.042 L1831.42 310.042 M1826.74 306.199 L1836.35 306.199 Q1846.4 306.199 1851.09 310.389 Q1855.79 314.556 1855.79 323.445 Q1855.79 332.38 1851.07 336.569 Q1846.35 340.759 1836.35 340.759 L1826.74 340.759 L1826.74 306.199 Z\" fill=\"#000000\" fill-rule=\"evenodd\" fill-opacity=\"1\" /></svg>\n"
      ]
     },
     "execution_count": 42,
     "metadata": {},
     "output_type": "execute_result"
    }
   ],
   "source": [
    "graph_experiment(lossEvery,errFs, errSVDs, errMultiSVDs, title=\"LDS with multiscale behavior\",startAt=300)"
   ]
  },
  {
   "cell_type": "code",
   "execution_count": 43,
   "metadata": {},
   "outputs": [
    {
     "data": {
      "text/plain": [
       "1"
      ]
     },
     "metadata": {},
     "output_type": "display_data"
    },
    {
     "data": {
      "text/plain": [
       "107"
      ]
     },
     "metadata": {},
     "output_type": "display_data"
    },
    {
     "data": {
      "text/plain": [
       "(400, 0.530641244834892, 0.1382141256367587, 0.13731520915613898)"
      ]
     },
     "metadata": {},
     "output_type": "display_data"
    },
    {
     "data": {
      "text/plain": [
       "(500, 0.47941294412807833, 0.1295911554663025, 0.13237089508122515)"
      ]
     },
     "metadata": {},
     "output_type": "display_data"
    },
    {
     "data": {
      "text/plain": [
       "(600, 0.4465835891379843, 0.12937090944988003, 0.11337713516989006)"
      ]
     },
     "metadata": {},
     "output_type": "display_data"
    },
    {
     "data": {
      "text/plain": [
       "(700, 0.3940627955733579, 0.14454646928288137, 0.13115084106208513)"
      ]
     },
     "metadata": {},
     "output_type": "display_data"
    },
    {
     "data": {
      "text/plain": [
       "(800, 0.3702012016372823, 0.11663190205312912, 0.10158573504254577)"
      ]
     },
     "metadata": {},
     "output_type": "display_data"
    },
    {
     "data": {
      "text/plain": [
       "(900, 0.36260877882425113, 0.1283045475323472, 0.10419674954546276)"
      ]
     },
     "metadata": {},
     "output_type": "display_data"
    },
    {
     "data": {
      "text/plain": [
       "(1000, 0.33236277579470985, 0.12645473310547523, 0.10329571015581525)"
      ]
     },
     "metadata": {},
     "output_type": "display_data"
    },
    {
     "data": {
      "text/plain": [
       "(1100, 0.29867790119449966, 0.06846446179559142, 0.055002195113667086)"
      ]
     },
     "metadata": {},
     "output_type": "display_data"
    },
    {
     "data": {
      "text/plain": [
       "(1200, 0.28211720315632255, 0.05377561165048357, 0.05182065846233108)"
      ]
     },
     "metadata": {},
     "output_type": "display_data"
    },
    {
     "data": {
      "text/plain": [
       "(1300, 0.26633832852272793, 0.06098409504851389, 0.06135266382693288)"
      ]
     },
     "metadata": {},
     "output_type": "display_data"
    },
    {
     "data": {
      "text/plain": [
       "(1400, 0.24551394537106216, 0.054292021683100954, 0.05999240618622095)"
      ]
     },
     "metadata": {},
     "output_type": "display_data"
    },
    {
     "data": {
      "text/plain": [
       "(1500, 0.24312506866345715, 0.0549722877150695, 0.06299352569385536)"
      ]
     },
     "metadata": {},
     "output_type": "display_data"
    },
    {
     "data": {
      "text/plain": [
       "(1600, 0.22968719726204762, 0.05352975800537178, 0.0570904297904132)"
      ]
     },
     "metadata": {},
     "output_type": "display_data"
    },
    {
     "data": {
      "text/plain": [
       "(1700, 0.22467925786974283, 0.05727819697476161, 0.05876876514262529)"
      ]
     },
     "metadata": {},
     "output_type": "display_data"
    },
    {
     "data": {
      "text/plain": [
       "(1800, 0.21674218003100085, 0.05856713844375932, 0.05985475710732728)"
      ]
     },
     "metadata": {},
     "output_type": "display_data"
    },
    {
     "data": {
      "text/plain": [
       "(1900, 0.21274778634513217, 0.05512338142208359, 0.056699654424368105)"
      ]
     },
     "metadata": {},
     "output_type": "display_data"
    },
    {
     "data": {
      "text/plain": [
       "(2000, 0.20469918091755196, 0.05726087713958733, 0.0594796299588024)"
      ]
     },
     "metadata": {},
     "output_type": "display_data"
    },
    {
     "data": {
      "text/plain": [
       "2"
      ]
     },
     "metadata": {},
     "output_type": "display_data"
    },
    {
     "data": {
      "text/plain": [
       "107"
      ]
     },
     "metadata": {},
     "output_type": "display_data"
    },
    {
     "data": {
      "text/plain": [
       "(400, 0.5748121109870966, 0.08780884547697791, 0.18975741572870808)"
      ]
     },
     "metadata": {},
     "output_type": "display_data"
    },
    {
     "data": {
      "text/plain": [
       "(500, 0.5211927595967649, 0.0790680176508972, 0.16617852835305955)"
      ]
     },
     "metadata": {},
     "output_type": "display_data"
    },
    {
     "data": {
      "text/plain": [
       "(600, 0.4695722260397009, 0.0587225515336086, 0.12512012751566012)"
      ]
     },
     "metadata": {},
     "output_type": "display_data"
    },
    {
     "data": {
      "text/plain": [
       "(700, 0.4130730450667213, 0.025122942860296947, 0.11711965306388945)"
      ]
     },
     "metadata": {},
     "output_type": "display_data"
    },
    {
     "data": {
      "text/plain": [
       "(800, 0.33575059983028066, 0.02295135724338187, 0.11135328354917796)"
      ]
     },
     "metadata": {},
     "output_type": "display_data"
    },
    {
     "data": {
      "text/plain": [
       "(900, 0.306425768146985, 0.024135984920621866, 0.09772624612951361)"
      ]
     },
     "metadata": {},
     "output_type": "display_data"
    },
    {
     "data": {
      "text/plain": [
       "(1000, 0.28325935397208796, 0.03098471731646763, 0.09412515390613474)"
      ]
     },
     "metadata": {},
     "output_type": "display_data"
    },
    {
     "data": {
      "text/plain": [
       "(1100, 0.27734035940062873, 0.036715613491228774, 0.09527973750610347)"
      ]
     },
     "metadata": {},
     "output_type": "display_data"
    },
    {
     "data": {
      "text/plain": [
       "(1200, 0.26603779357396207, 0.034334294532007585, 0.09003341563125046)"
      ]
     },
     "metadata": {},
     "output_type": "display_data"
    },
    {
     "data": {
      "text/plain": [
       "(1300, 0.24971026366295862, 0.03302946535287512, 0.09698235801958627)"
      ]
     },
     "metadata": {},
     "output_type": "display_data"
    },
    {
     "data": {
      "text/plain": [
       "(1400, 0.24866509217405472, 0.030501318519851696, 0.09236995033522857)"
      ]
     },
     "metadata": {},
     "output_type": "display_data"
    },
    {
     "data": {
      "text/plain": [
       "(1500, 0.25229813861346895, 0.03473815815472506, 0.09687230339383979)"
      ]
     },
     "metadata": {},
     "output_type": "display_data"
    },
    {
     "data": {
      "text/plain": [
       "(1600, 0.23702165251952084, 0.036389653564327586, 0.09569052370998898)"
      ]
     },
     "metadata": {},
     "output_type": "display_data"
    },
    {
     "data": {
      "text/plain": [
       "(1700, 0.22880891732324218, 0.034166545660838384, 0.09767561741604233)"
      ]
     },
     "metadata": {},
     "output_type": "display_data"
    },
    {
     "data": {
      "text/plain": [
       "(1800, 0.2110249716890123, 0.03399689970421908, 0.07776613186992884)"
      ]
     },
     "metadata": {},
     "output_type": "display_data"
    },
    {
     "data": {
      "text/plain": [
       "(1900, 0.2049900877874923, 0.03185793892396914, 0.06966250196863755)"
      ]
     },
     "metadata": {},
     "output_type": "display_data"
    },
    {
     "data": {
      "text/plain": [
       "(2000, 0.20442636049044396, 0.028265009963434336, 0.05980148264046849)"
      ]
     },
     "metadata": {},
     "output_type": "display_data"
    },
    {
     "data": {
      "text/plain": [
       "3"
      ]
     },
     "metadata": {},
     "output_type": "display_data"
    },
    {
     "data": {
      "text/plain": [
       "107"
      ]
     },
     "metadata": {},
     "output_type": "display_data"
    },
    {
     "data": {
      "text/plain": [
       "(400, 0.5855727664660849, 0.10923108892176142, 0.1503188518880173)"
      ]
     },
     "metadata": {},
     "output_type": "display_data"
    },
    {
     "data": {
      "text/plain": [
       "(500, 0.4611668657850955, 0.06196364771345835, 0.1189606489150968)"
      ]
     },
     "metadata": {},
     "output_type": "display_data"
    },
    {
     "data": {
      "text/plain": [
       "(600, 0.42483395654421574, 0.06258490309499093, 0.11391304756784101)"
      ]
     },
     "metadata": {},
     "output_type": "display_data"
    },
    {
     "data": {
      "text/plain": [
       "(700, 0.34219592452860226, 0.051857638001590455, 0.1031851807149572)"
      ]
     },
     "metadata": {},
     "output_type": "display_data"
    },
    {
     "data": {
      "text/plain": [
       "(800, 0.3233755460653172, 0.04612570128457783, 0.11704563031654847)"
      ]
     },
     "metadata": {},
     "output_type": "display_data"
    },
    {
     "data": {
      "text/plain": [
       "(900, 0.3007728003176093, 0.04592086006794659, 0.10110618547491455)"
      ]
     },
     "metadata": {},
     "output_type": "display_data"
    },
    {
     "data": {
      "text/plain": [
       "(1000, 0.2906704855509781, 0.02633072910103508, 0.09460949890378596)"
      ]
     },
     "metadata": {},
     "output_type": "display_data"
    },
    {
     "data": {
      "text/plain": [
       "(1100, 0.2828007677943188, 0.02641960822707581, 0.10086508284999678)"
      ]
     },
     "metadata": {},
     "output_type": "display_data"
    },
    {
     "data": {
      "text/plain": [
       "(1200, 0.2710940623801463, 0.02497310241575868, 0.0974797528436825)"
      ]
     },
     "metadata": {},
     "output_type": "display_data"
    },
    {
     "data": {
      "text/plain": [
       "(1300, 0.25038405020566673, 0.02650588629814427, 0.07897249237242987)"
      ]
     },
     "metadata": {},
     "output_type": "display_data"
    },
    {
     "data": {
      "text/plain": [
       "(1400, 0.23837529281857173, 0.025735987470949778, 0.07482698210310625)"
      ]
     },
     "metadata": {},
     "output_type": "display_data"
    },
    {
     "data": {
      "text/plain": [
       "(1500, 0.2277672477328582, 0.019324035320766125, 0.06089061375406217)"
      ]
     },
     "metadata": {},
     "output_type": "display_data"
    },
    {
     "data": {
      "text/plain": [
       "(1600, 0.20650883127183514, 0.02592107140512203, 0.055101622451196576)"
      ]
     },
     "metadata": {},
     "output_type": "display_data"
    },
    {
     "data": {
      "text/plain": [
       "(1700, 0.20267426844936404, 0.03118875823506952, 0.05026261290390001)"
      ]
     },
     "metadata": {},
     "output_type": "display_data"
    },
    {
     "data": {
      "text/plain": [
       "(1800, 0.18991479945036113, 0.03554564887328793, 0.0445250553545869)"
      ]
     },
     "metadata": {},
     "output_type": "display_data"
    },
    {
     "data": {
      "text/plain": [
       "(1900, 0.1918225117565311, 0.0342723245151171, 0.044506304437664346)"
      ]
     },
     "metadata": {},
     "output_type": "display_data"
    },
    {
     "data": {
      "text/plain": [
       "(2000, 0.18381346026543297, 0.036904827394164154, 0.04682588382154127)"
      ]
     },
     "metadata": {},
     "output_type": "display_data"
    },
    {
     "data": {
      "text/plain": [
       "4"
      ]
     },
     "metadata": {},
     "output_type": "display_data"
    },
    {
     "data": {
      "text/plain": [
       "107"
      ]
     },
     "metadata": {},
     "output_type": "display_data"
    },
    {
     "data": {
      "text/plain": [
       "(400, 0.632545986109116, 0.07070085966499569, 0.1382299030451429)"
      ]
     },
     "metadata": {},
     "output_type": "display_data"
    },
    {
     "data": {
      "text/plain": [
       "(500, 0.5521362510906666, 0.10469940089033503, 0.1522661437876251)"
      ]
     },
     "metadata": {},
     "output_type": "display_data"
    },
    {
     "data": {
      "text/plain": [
       "(600, 0.41530089889617644, 0.07560339877433123, 0.1095227555403803)"
      ]
     },
     "metadata": {},
     "output_type": "display_data"
    },
    {
     "data": {
      "text/plain": [
       "(700, 0.3793394104660788, 0.060694353832388984, 0.09761379404250177)"
      ]
     },
     "metadata": {},
     "output_type": "display_data"
    },
    {
     "data": {
      "text/plain": [
       "(800, 0.3551547898630453, 0.030367667491153178, 0.06397423702327738)"
      ]
     },
     "metadata": {},
     "output_type": "display_data"
    },
    {
     "data": {
      "text/plain": [
       "(900, 0.3452059015078345, 0.035546858750829344, 0.06978630175927988)"
      ]
     },
     "metadata": {},
     "output_type": "display_data"
    },
    {
     "data": {
      "text/plain": [
       "(1000, 0.31462091831289046, 0.03203904252366156, 0.046532510590461276)"
      ]
     },
     "metadata": {},
     "output_type": "display_data"
    },
    {
     "data": {
      "text/plain": [
       "(1100, 0.2965094907684924, 0.03486876111086558, 0.05353968796498593)"
      ]
     },
     "metadata": {},
     "output_type": "display_data"
    },
    {
     "data": {
      "text/plain": [
       "(1200, 0.2695169274477834, 0.02824744077069664, 0.053915346465898385)"
      ]
     },
     "metadata": {},
     "output_type": "display_data"
    },
    {
     "data": {
      "text/plain": [
       "(1300, 0.26266163499023076, 0.030046203070866705, 0.04378778430190224)"
      ]
     },
     "metadata": {},
     "output_type": "display_data"
    },
    {
     "data": {
      "text/plain": [
       "(1400, 0.2549625690740379, 0.03753713945219226, 0.04950708121533563)"
      ]
     },
     "metadata": {},
     "output_type": "display_data"
    },
    {
     "data": {
      "text/plain": [
       "(1500, 0.25501796183760544, 0.039552983909535155, 0.05543741318870201)"
      ]
     },
     "metadata": {},
     "output_type": "display_data"
    },
    {
     "data": {
      "text/plain": [
       "(1600, 0.24800999588019443, 0.042511127409627356, 0.052233635628341525)"
      ]
     },
     "metadata": {},
     "output_type": "display_data"
    },
    {
     "data": {
      "text/plain": [
       "(1700, 0.23238039593889304, 0.04783884106954646, 0.052074193627085846)"
      ]
     },
     "metadata": {},
     "output_type": "display_data"
    },
    {
     "data": {
      "text/plain": [
       "(1800, 0.22574862014543554, 0.05132555453996611, 0.05190964457711017)"
      ]
     },
     "metadata": {},
     "output_type": "display_data"
    },
    {
     "data": {
      "text/plain": [
       "(1900, 0.22063678158129235, 0.057884169795769595, 0.05833060066947392)"
      ]
     },
     "metadata": {},
     "output_type": "display_data"
    },
    {
     "data": {
      "text/plain": [
       "(2000, 0.20173388336600534, 0.049573601287786595, 0.05427043190921103)"
      ]
     },
     "metadata": {},
     "output_type": "display_data"
    },
    {
     "data": {
      "text/plain": [
       "5"
      ]
     },
     "metadata": {},
     "output_type": "display_data"
    },
    {
     "data": {
      "text/plain": [
       "107"
      ]
     },
     "metadata": {},
     "output_type": "display_data"
    },
    {
     "data": {
      "text/plain": [
       "(400, 0.5592165861797564, 0.05261446893980608, 0.0957125885724947)"
      ]
     },
     "metadata": {},
     "output_type": "display_data"
    },
    {
     "data": {
      "text/plain": [
       "(500, 0.49825198409925586, 0.05819630870167215, 0.12216634682294668)"
      ]
     },
     "metadata": {},
     "output_type": "display_data"
    },
    {
     "data": {
      "text/plain": [
       "(600, 0.3413792923009052, 0.05802949148961971, 0.07629020454718903)"
      ]
     },
     "metadata": {},
     "output_type": "display_data"
    },
    {
     "data": {
      "text/plain": [
       "(700, 0.3082423701227396, 0.04795339827673563, 0.055004239255742354)"
      ]
     },
     "metadata": {},
     "output_type": "display_data"
    },
    {
     "data": {
      "text/plain": [
       "(800, 0.29837163060940336, 0.04268301518235327, 0.05652618172765209)"
      ]
     },
     "metadata": {},
     "output_type": "display_data"
    },
    {
     "data": {
      "text/plain": [
       "(900, 0.2666725894271285, 0.04541746992933948, 0.06388302447965508)"
      ]
     },
     "metadata": {},
     "output_type": "display_data"
    },
    {
     "data": {
      "text/plain": [
       "(1000, 0.2515279649278742, 0.04708945598500712, 0.06205547871721716)"
      ]
     },
     "metadata": {},
     "output_type": "display_data"
    },
    {
     "data": {
      "text/plain": [
       "(1100, 0.23864957721513028, 0.04825602217854682, 0.05938418243718744)"
      ]
     },
     "metadata": {},
     "output_type": "display_data"
    },
    {
     "data": {
      "text/plain": [
       "(1200, 0.24211227263495455, 0.04658516666395626, 0.04853461893647187)"
      ]
     },
     "metadata": {},
     "output_type": "display_data"
    },
    {
     "data": {
      "text/plain": [
       "(1300, 0.23591674037660493, 0.054121343348479, 0.054070495786798366)"
      ]
     },
     "metadata": {},
     "output_type": "display_data"
    },
    {
     "data": {
      "text/plain": [
       "(1400, 0.23177757895684795, 0.05011436044405747, 0.0531697611340347)"
      ]
     },
     "metadata": {},
     "output_type": "display_data"
    },
    {
     "data": {
      "text/plain": [
       "(1500, 0.23613782460276087, 0.05237107027580992, 0.05786838057008277)"
      ]
     },
     "metadata": {},
     "output_type": "display_data"
    },
    {
     "data": {
      "text/plain": [
       "(1600, 0.23802509482361547, 0.052431098955987195, 0.057741276373123755)"
      ]
     },
     "metadata": {},
     "output_type": "display_data"
    },
    {
     "data": {
      "text/plain": [
       "(1700, 0.23673728234886868, 0.041413335531679106, 0.04787330469411754)"
      ]
     },
     "metadata": {},
     "output_type": "display_data"
    },
    {
     "data": {
      "text/plain": [
       "(1800, 0.23002211230329964, 0.03526207978896299, 0.04083418962447137)"
      ]
     },
     "metadata": {},
     "output_type": "display_data"
    },
    {
     "data": {
      "text/plain": [
       "(1900, 0.22164723182792095, 0.03080335759771, 0.037853725875590695)"
      ]
     },
     "metadata": {},
     "output_type": "display_data"
    },
    {
     "data": {
      "text/plain": [
       "(2000, 0.2154120038430742, 0.02996165062753696, 0.03853427299443146)"
      ]
     },
     "metadata": {},
     "output_type": "display_data"
    },
    {
     "data": {
      "text/plain": [
       "6"
      ]
     },
     "metadata": {},
     "output_type": "display_data"
    },
    {
     "data": {
      "text/plain": [
       "107"
      ]
     },
     "metadata": {},
     "output_type": "display_data"
    },
    {
     "data": {
      "text/plain": [
       "(400, 0.5750156683655611, 0.06684673244188781, 0.1009628433375263)"
      ]
     },
     "metadata": {},
     "output_type": "display_data"
    },
    {
     "data": {
      "text/plain": [
       "(500, 0.4504598401204597, 0.05499460862231593, 0.09685607955748057)"
      ]
     },
     "metadata": {},
     "output_type": "display_data"
    },
    {
     "data": {
      "text/plain": [
       "(600, 0.4455631653474301, 0.043142149116891605, 0.09821584999142598)"
      ]
     },
     "metadata": {},
     "output_type": "display_data"
    },
    {
     "data": {
      "text/plain": [
       "(700, 0.40598929140604245, 0.04053698404160295, 0.08082622405723512)"
      ]
     },
     "metadata": {},
     "output_type": "display_data"
    },
    {
     "data": {
      "text/plain": [
       "(800, 0.37071897975626006, 0.03576714079039703, 0.0652965982112001)"
      ]
     },
     "metadata": {},
     "output_type": "display_data"
    },
    {
     "data": {
      "text/plain": [
       "(900, 0.3323181980400976, 0.030489845110676775, 0.056977874263823884)"
      ]
     },
     "metadata": {},
     "output_type": "display_data"
    },
    {
     "data": {
      "text/plain": [
       "(1000, 0.2980297740626692, 0.03904172396479654, 0.049313308667325244)"
      ]
     },
     "metadata": {},
     "output_type": "display_data"
    },
    {
     "data": {
      "text/plain": [
       "(1100, 0.2882593301072591, 0.03658802404693104, 0.054887283727641824)"
      ]
     },
     "metadata": {},
     "output_type": "display_data"
    },
    {
     "data": {
      "text/plain": [
       "(1200, 0.3045433461868649, 0.035107143578838575, 0.05949516002130238)"
      ]
     },
     "metadata": {},
     "output_type": "display_data"
    },
    {
     "data": {
      "text/plain": [
       "(1300, 0.2899892767024817, 0.02653966686765045, 0.05448230524973512)"
      ]
     },
     "metadata": {},
     "output_type": "display_data"
    },
    {
     "data": {
      "text/plain": [
       "(1400, 0.2907415041233879, 0.01885563633694885, 0.04301010817873688)"
      ]
     },
     "metadata": {},
     "output_type": "display_data"
    },
    {
     "data": {
      "text/plain": [
       "(1500, 0.2810878632982621, 0.014662526753837866, 0.03410457319158324)"
      ]
     },
     "metadata": {},
     "output_type": "display_data"
    },
    {
     "data": {
      "text/plain": [
       "(1600, 0.28153069269830655, 0.019201416761902075, 0.04351844691936944)"
      ]
     },
     "metadata": {},
     "output_type": "display_data"
    },
    {
     "data": {
      "text/plain": [
       "(1700, 0.2622396378361577, 0.023725984873147064, 0.04673642695068478)"
      ]
     },
     "metadata": {},
     "output_type": "display_data"
    },
    {
     "data": {
      "text/plain": [
       "(1800, 0.2549977678342736, 0.02459390531314644, 0.03815413290403101)"
      ]
     },
     "metadata": {},
     "output_type": "display_data"
    },
    {
     "data": {
      "text/plain": [
       "(1900, 0.24666131180749828, 0.022650509361463556, 0.029336355487592475)"
      ]
     },
     "metadata": {},
     "output_type": "display_data"
    },
    {
     "data": {
      "text/plain": [
       "(2000, 0.2372629330320698, 0.023249610160886114, 0.02511195318001713)"
      ]
     },
     "metadata": {},
     "output_type": "display_data"
    },
    {
     "data": {
      "text/plain": [
       "7"
      ]
     },
     "metadata": {},
     "output_type": "display_data"
    },
    {
     "data": {
      "text/plain": [
       "107"
      ]
     },
     "metadata": {},
     "output_type": "display_data"
    },
    {
     "data": {
      "text/plain": [
       "(400, 0.5847426088376309, 0.13506088098891772, 0.1332334251860473)"
      ]
     },
     "metadata": {},
     "output_type": "display_data"
    },
    {
     "data": {
      "text/plain": [
       "(500, 0.5077661975468866, 0.07353511911524584, 0.08124209006512788)"
      ]
     },
     "metadata": {},
     "output_type": "display_data"
    },
    {
     "data": {
      "text/plain": [
       "(600, 0.44394020408925533, 0.04588290663515838, 0.05904637022812017)"
      ]
     },
     "metadata": {},
     "output_type": "display_data"
    },
    {
     "data": {
      "text/plain": [
       "(700, 0.3653622836387211, 0.04392576312667726, 0.04806327326975329)"
      ]
     },
     "metadata": {},
     "output_type": "display_data"
    },
    {
     "data": {
      "text/plain": [
       "(800, 0.33333964037371944, 0.06315001851852275, 0.057233305609258295)"
      ]
     },
     "metadata": {},
     "output_type": "display_data"
    },
    {
     "data": {
      "text/plain": [
       "(900, 0.3124314038165453, 0.057388258840541405, 0.0535372174660908)"
      ]
     },
     "metadata": {},
     "output_type": "display_data"
    },
    {
     "data": {
      "text/plain": [
       "(1000, 0.29482065943977964, 0.05300328469276572, 0.05980018168685113)"
      ]
     },
     "metadata": {},
     "output_type": "display_data"
    },
    {
     "data": {
      "text/plain": [
       "(1100, 0.29928621789196713, 0.055005745541294615, 0.06290484736459409)"
      ]
     },
     "metadata": {},
     "output_type": "display_data"
    },
    {
     "data": {
      "text/plain": [
       "(1200, 0.28856947843149855, 0.047200826268022265, 0.050386717250700014)"
      ]
     },
     "metadata": {},
     "output_type": "display_data"
    },
    {
     "data": {
      "text/plain": [
       "(1300, 0.24956239322307988, 0.03404007564464695, 0.04333153997798789)"
      ]
     },
     "metadata": {},
     "output_type": "display_data"
    },
    {
     "data": {
      "text/plain": [
       "(1400, 0.24252662539544814, 0.03610111080002326, 0.04639328488512678)"
      ]
     },
     "metadata": {},
     "output_type": "display_data"
    },
    {
     "data": {
      "text/plain": [
       "(1500, 0.22655749200890785, 0.032095822276936, 0.03786245632276382)"
      ]
     },
     "metadata": {},
     "output_type": "display_data"
    },
    {
     "data": {
      "text/plain": [
       "(1600, 0.21941722753860526, 0.03437201080957068, 0.0391224822095447)"
      ]
     },
     "metadata": {},
     "output_type": "display_data"
    },
    {
     "data": {
      "text/plain": [
       "(1700, 0.22125555218133955, 0.03779052445720009, 0.04478551461655427)"
      ]
     },
     "metadata": {},
     "output_type": "display_data"
    },
    {
     "data": {
      "text/plain": [
       "(1800, 0.20599977213165604, 0.03825981874783706, 0.0431615506407321)"
      ]
     },
     "metadata": {},
     "output_type": "display_data"
    },
    {
     "data": {
      "text/plain": [
       "(1900, 0.18867029213218806, 0.024706290800072053, 0.03619229808259264)"
      ]
     },
     "metadata": {},
     "output_type": "display_data"
    },
    {
     "data": {
      "text/plain": [
       "(2000, 0.19258152153681443, 0.020934675099668412, 0.036450654586537914)"
      ]
     },
     "metadata": {},
     "output_type": "display_data"
    },
    {
     "data": {
      "text/plain": [
       "8"
      ]
     },
     "metadata": {},
     "output_type": "display_data"
    },
    {
     "data": {
      "text/plain": [
       "107"
      ]
     },
     "metadata": {},
     "output_type": "display_data"
    },
    {
     "data": {
      "text/plain": [
       "(400, 0.584060931379505, 0.040795327819671344, 0.0781218496293531)"
      ]
     },
     "metadata": {},
     "output_type": "display_data"
    },
    {
     "data": {
      "text/plain": [
       "(500, 0.5248696267257313, 0.05003112435916527, 0.10314330841885629)"
      ]
     },
     "metadata": {},
     "output_type": "display_data"
    },
    {
     "data": {
      "text/plain": [
       "(600, 0.4465175517573164, 0.022164062756005392, 0.05527313699582642)"
      ]
     },
     "metadata": {},
     "output_type": "display_data"
    },
    {
     "data": {
      "text/plain": [
       "(700, 0.43110613813452264, 0.02321232492322772, 0.04701774142730768)"
      ]
     },
     "metadata": {},
     "output_type": "display_data"
    },
    {
     "data": {
      "text/plain": [
       "(800, 0.38866853491603087, 0.021218438472637026, 0.049225751370771155)"
      ]
     },
     "metadata": {},
     "output_type": "display_data"
    },
    {
     "data": {
      "text/plain": [
       "(900, 0.3780514191973436, 0.02417075897202439, 0.06857279519885257)"
      ]
     },
     "metadata": {},
     "output_type": "display_data"
    },
    {
     "data": {
      "text/plain": [
       "(1000, 0.3554037405665198, 0.0207713100866542, 0.058464982320731815)"
      ]
     },
     "metadata": {},
     "output_type": "display_data"
    },
    {
     "data": {
      "text/plain": [
       "(1100, 0.3476381857972983, 0.038074578199396976, 0.04663871593995764)"
      ]
     },
     "metadata": {},
     "output_type": "display_data"
    },
    {
     "data": {
      "text/plain": [
       "(1200, 0.3173903915892035, 0.036162813168278636, 0.04232879237366193)"
      ]
     },
     "metadata": {},
     "output_type": "display_data"
    },
    {
     "data": {
      "text/plain": [
       "(1300, 0.29957851276087005, 0.03533146551119867, 0.04317490095881898)"
      ]
     },
     "metadata": {},
     "output_type": "display_data"
    },
    {
     "data": {
      "text/plain": [
       "(1400, 0.2872181730159855, 0.03335575898892432, 0.04314214669507517)"
      ]
     },
     "metadata": {},
     "output_type": "display_data"
    },
    {
     "data": {
      "text/plain": [
       "(1500, 0.25565125750922274, 0.038252716869135776, 0.0464722816795677)"
      ]
     },
     "metadata": {},
     "output_type": "display_data"
    },
    {
     "data": {
      "text/plain": [
       "(1600, 0.2549466310885986, 0.03882732808067098, 0.0497997851484812)"
      ]
     },
     "metadata": {},
     "output_type": "display_data"
    },
    {
     "data": {
      "text/plain": [
       "(1700, 0.2513920820437501, 0.047868244482520084, 0.05306969373702871)"
      ]
     },
     "metadata": {},
     "output_type": "display_data"
    },
    {
     "data": {
      "text/plain": [
       "(1800, 0.22890176988502553, 0.03481339622310124, 0.044043792895295135)"
      ]
     },
     "metadata": {},
     "output_type": "display_data"
    },
    {
     "data": {
      "text/plain": [
       "(1900, 0.22183439860832582, 0.03506985019468839, 0.04902284322825584)"
      ]
     },
     "metadata": {},
     "output_type": "display_data"
    },
    {
     "data": {
      "text/plain": [
       "(2000, 0.21477049908697163, 0.050187918204951235, 0.06088714611277843)"
      ]
     },
     "metadata": {},
     "output_type": "display_data"
    },
    {
     "data": {
      "text/plain": [
       "9"
      ]
     },
     "metadata": {},
     "output_type": "display_data"
    },
    {
     "data": {
      "text/plain": [
       "107"
      ]
     },
     "metadata": {},
     "output_type": "display_data"
    },
    {
     "data": {
      "text/plain": [
       "(400, 0.5643310402203153, 0.1347835380078585, 0.1316788063429379)"
      ]
     },
     "metadata": {},
     "output_type": "display_data"
    },
    {
     "data": {
      "text/plain": [
       "(500, 0.4967480530908097, 0.1434354878315358, 0.13561892904533002)"
      ]
     },
     "metadata": {},
     "output_type": "display_data"
    },
    {
     "data": {
      "text/plain": [
       "(600, 0.46859720545611067, 0.14197913691328976, 0.13133316672090603)"
      ]
     },
     "metadata": {},
     "output_type": "display_data"
    },
    {
     "data": {
      "text/plain": [
       "(700, 0.39745457598900485, 0.13476494278618362, 0.11948130468586064)"
      ]
     },
     "metadata": {},
     "output_type": "display_data"
    },
    {
     "data": {
      "text/plain": [
       "(800, 0.39658166778604664, 0.12295372507887269, 0.10459078014083495)"
      ]
     },
     "metadata": {},
     "output_type": "display_data"
    },
    {
     "data": {
      "text/plain": [
       "(900, 0.35493200615326836, 0.09758995073365974, 0.07901351874363813)"
      ]
     },
     "metadata": {},
     "output_type": "display_data"
    },
    {
     "data": {
      "text/plain": [
       "(1000, 0.3482107250320632, 0.09057175612142075, 0.07802230228973472)"
      ]
     },
     "metadata": {},
     "output_type": "display_data"
    },
    {
     "data": {
      "text/plain": [
       "(1100, 0.34452544705396015, 0.08271878768153519, 0.07326370957639546)"
      ]
     },
     "metadata": {},
     "output_type": "display_data"
    },
    {
     "data": {
      "text/plain": [
       "(1200, 0.3157409659003153, 0.0786929862986918, 0.07061194454084235)"
      ]
     },
     "metadata": {},
     "output_type": "display_data"
    },
    {
     "data": {
      "text/plain": [
       "(1300, 0.29502506156241104, 0.07385921577191094, 0.057635549964320215)"
      ]
     },
     "metadata": {},
     "output_type": "display_data"
    },
    {
     "data": {
      "text/plain": [
       "(1400, 0.28349227670680466, 0.0739272877505917, 0.05714320236667781)"
      ]
     },
     "metadata": {},
     "output_type": "display_data"
    },
    {
     "data": {
      "text/plain": [
       "(1500, 0.2663207195487753, 0.07557453764002924, 0.05884485426977714)"
      ]
     },
     "metadata": {},
     "output_type": "display_data"
    },
    {
     "data": {
      "text/plain": [
       "(1600, 0.2565656603863006, 0.06739422910195378, 0.05319931033672775)"
      ]
     },
     "metadata": {},
     "output_type": "display_data"
    },
    {
     "data": {
      "text/plain": [
       "(1700, 0.24833136956804425, 0.049069714938183344, 0.04387793798467045)"
      ]
     },
     "metadata": {},
     "output_type": "display_data"
    },
    {
     "data": {
      "text/plain": [
       "(1800, 0.24027640645531295, 0.04764681836346155, 0.04242414999966999)"
      ]
     },
     "metadata": {},
     "output_type": "display_data"
    },
    {
     "data": {
      "text/plain": [
       "(1900, 0.23225797939687604, 0.04452510640292912, 0.04188102710628799)"
      ]
     },
     "metadata": {},
     "output_type": "display_data"
    },
    {
     "data": {
      "text/plain": [
       "(2000, 0.2220484064337967, 0.042674526584310264, 0.03702725550276004)"
      ]
     },
     "metadata": {},
     "output_type": "display_data"
    },
    {
     "data": {
      "text/plain": [
       "10"
      ]
     },
     "metadata": {},
     "output_type": "display_data"
    },
    {
     "data": {
      "text/plain": [
       "107"
      ]
     },
     "metadata": {},
     "output_type": "display_data"
    },
    {
     "data": {
      "text/plain": [
       "(400, 0.5117720687982998, 0.15588722765542565, 0.13900238475031176)"
      ]
     },
     "metadata": {},
     "output_type": "display_data"
    },
    {
     "data": {
      "text/plain": [
       "(500, 0.4669630481749199, 0.1276147632357618, 0.1153201963887573)"
      ]
     },
     "metadata": {},
     "output_type": "display_data"
    },
    {
     "data": {
      "text/plain": [
       "(600, 0.3791495595858712, 0.09336300179022121, 0.09013778681819379)"
      ]
     },
     "metadata": {},
     "output_type": "display_data"
    },
    {
     "data": {
      "text/plain": [
       "(700, 0.36443526855723934, 0.062407660838490794, 0.08483773877746416)"
      ]
     },
     "metadata": {},
     "output_type": "display_data"
    },
    {
     "data": {
      "text/plain": [
       "(800, 0.36433992393576153, 0.04487244056633696, 0.08458558300899643)"
      ]
     },
     "metadata": {},
     "output_type": "display_data"
    },
    {
     "data": {
      "text/plain": [
       "(900, 0.3395958481944326, 0.046718047075732676, 0.10137032919208387)"
      ]
     },
     "metadata": {},
     "output_type": "display_data"
    },
    {
     "data": {
      "text/plain": [
       "(1000, 0.32034690704145696, 0.04925884791513105, 0.0977988997748567)"
      ]
     },
     "metadata": {},
     "output_type": "display_data"
    },
    {
     "data": {
      "text/plain": [
       "(1100, 0.28329187080045093, 0.0558386516867568, 0.07680253451594214)"
      ]
     },
     "metadata": {},
     "output_type": "display_data"
    },
    {
     "data": {
      "text/plain": [
       "(1200, 0.274267699323966, 0.053693069545349095, 0.0813842778891858)"
      ]
     },
     "metadata": {},
     "output_type": "display_data"
    },
    {
     "data": {
      "text/plain": [
       "(1300, 0.26043286004084876, 0.04264355091222276, 0.07068591948004764)"
      ]
     },
     "metadata": {},
     "output_type": "display_data"
    },
    {
     "data": {
      "text/plain": [
       "(1400, 0.24293031291925507, 0.030278575687047515, 0.05323239368871136)"
      ]
     },
     "metadata": {},
     "output_type": "display_data"
    },
    {
     "data": {
      "text/plain": [
       "(1500, 0.23860452383582542, 0.030899582303854894, 0.06385500638847492)"
      ]
     },
     "metadata": {},
     "output_type": "display_data"
    },
    {
     "data": {
      "text/plain": [
       "(1600, 0.2241310074377727, 0.03115885321878211, 0.05861366961925041)"
      ]
     },
     "metadata": {},
     "output_type": "display_data"
    },
    {
     "data": {
      "text/plain": [
       "(1700, 0.21966627113006792, 0.030495429667352716, 0.049901231665632165)"
      ]
     },
     "metadata": {},
     "output_type": "display_data"
    },
    {
     "data": {
      "text/plain": [
       "(1800, 0.22543954375577904, 0.02587604778883527, 0.04693396030001958)"
      ]
     },
     "metadata": {},
     "output_type": "display_data"
    },
    {
     "data": {
      "text/plain": [
       "(1900, 0.22105699432816123, 0.023799599086089824, 0.04889906777866895)"
      ]
     },
     "metadata": {},
     "output_type": "display_data"
    },
    {
     "data": {
      "text/plain": [
       "(2000, 0.21240619792226254, 0.021608770688999298, 0.040792112487610326)"
      ]
     },
     "metadata": {},
     "output_type": "display_data"
    },
    {
     "data": {
      "text/plain": [
       "(100, [0.530641244834892 0.47941294412807833 … 0.21274778634513217 0.20469918091755196; 0.5748121109870966 0.5211927595967649 … 0.2049900877874923 0.20442636049044396; … ; 0.5643310402203153 0.4967480530908097 … 0.23225797939687604 0.2220484064337967; 0.5117720687982998 0.4669630481749199 … 0.22105699432816123 0.21240619792226254], [0.1382141256367587 0.1295911554663025 … 0.05512338142208359 0.05726087713958733; 0.08780884547697791 0.0790680176508972 … 0.03185793892396914 0.028265009963434336; … ; 0.1347835380078585 0.1434354878315358 … 0.04452510640292912 0.042674526584310264; 0.15588722765542565 0.1276147632357618 … 0.023799599086089824 0.021608770688999298], [0.13731520915613898 0.13237089508122515 … 0.056699654424368105 0.0594796299588024; 0.18975741572870808 0.16617852835305955 … 0.06966250196863755 0.05980148264046849; … ; 0.1316788063429379 0.13561892904533002 … 0.04188102710628799 0.03702725550276004; 0.13900238475031176 0.1153201963887573 … 0.04889906777866895 0.040792112487610326])"
      ]
     },
     "execution_count": 43,
     "metadata": {},
     "output_type": "execute_result"
    }
   ],
   "source": [
    "Random.seed!(1)\n",
    "#average_over_trials(d_u,d,d_y,levels,maxEV,trials,T,lossEvery;startAt=0)\n",
    "(lossEvery,errFs, errSVDs, errMultiSVDs)=average_over_trials(1,1,1,4,0.95,10,2000,100;startAt=300)"
   ]
  },
  {
   "cell_type": "code",
   "execution_count": 44,
   "metadata": {},
   "outputs": [
    {
     "data": {
      "image/svg+xml": [
       "<?xml version=\"1.0\" encoding=\"utf-8\"?>\n",
       "<svg xmlns=\"http://www.w3.org/2000/svg\" xmlns:xlink=\"http://www.w3.org/1999/xlink\" width=\"500\" height=\"280\" viewBox=\"0 0 2000 1120\">\n",
       "<defs>\n",
       "  <clipPath id=\"clip400\">\n",
       "    <rect x=\"0\" y=\"0\" width=\"2000\" height=\"1120\"/>\n",
       "  </clipPath>\n",
       "</defs>\n",
       "<path clip-path=\"url(#clip400)\" d=\"\n",
       "M0 1120 L2000 1120 L2000 0 L0 0  Z\n",
       "  \" fill=\"#ffffff\" fill-rule=\"evenodd\" fill-opacity=\"1\"/>\n",
       "<defs>\n",
       "  <clipPath id=\"clip401\">\n",
       "    <rect x=\"400\" y=\"0\" width=\"1401\" height=\"1120\"/>\n",
       "  </clipPath>\n",
       "</defs>\n",
       "<path clip-path=\"url(#clip400)\" d=\"\n",
       "M208.263 961.113 L1952.76 961.113 L1952.76 113.795 L208.263 113.795  Z\n",
       "  \" fill=\"#ffffff\" fill-rule=\"evenodd\" fill-opacity=\"1\"/>\n",
       "<defs>\n",
       "  <clipPath id=\"clip402\">\n",
       "    <rect x=\"208\" y=\"113\" width=\"1745\" height=\"848\"/>\n",
       "  </clipPath>\n",
       "</defs>\n",
       "<polyline clip-path=\"url(#clip402)\" style=\"stroke:#000000; stroke-width:2; stroke-opacity:0.1; fill:none\" points=\"\n",
       "  463.354,961.113 463.354,113.795 \n",
       "  \"/>\n",
       "<polyline clip-path=\"url(#clip402)\" style=\"stroke:#000000; stroke-width:2; stroke-opacity:0.1; fill:none\" points=\"\n",
       "  771.932,961.113 771.932,113.795 \n",
       "  \"/>\n",
       "<polyline clip-path=\"url(#clip402)\" style=\"stroke:#000000; stroke-width:2; stroke-opacity:0.1; fill:none\" points=\"\n",
       "  1080.51,961.113 1080.51,113.795 \n",
       "  \"/>\n",
       "<polyline clip-path=\"url(#clip402)\" style=\"stroke:#000000; stroke-width:2; stroke-opacity:0.1; fill:none\" points=\"\n",
       "  1389.09,961.113 1389.09,113.795 \n",
       "  \"/>\n",
       "<polyline clip-path=\"url(#clip402)\" style=\"stroke:#000000; stroke-width:2; stroke-opacity:0.1; fill:none\" points=\"\n",
       "  1697.66,961.113 1697.66,113.795 \n",
       "  \"/>\n",
       "<polyline clip-path=\"url(#clip400)\" style=\"stroke:#000000; stroke-width:4; stroke-opacity:1; fill:none\" points=\"\n",
       "  208.263,961.113 1952.76,961.113 \n",
       "  \"/>\n",
       "<polyline clip-path=\"url(#clip400)\" style=\"stroke:#000000; stroke-width:4; stroke-opacity:1; fill:none\" points=\"\n",
       "  463.354,961.113 463.354,950.945 \n",
       "  \"/>\n",
       "<polyline clip-path=\"url(#clip400)\" style=\"stroke:#000000; stroke-width:4; stroke-opacity:1; fill:none\" points=\"\n",
       "  771.932,961.113 771.932,950.945 \n",
       "  \"/>\n",
       "<polyline clip-path=\"url(#clip400)\" style=\"stroke:#000000; stroke-width:4; stroke-opacity:1; fill:none\" points=\"\n",
       "  1080.51,961.113 1080.51,950.945 \n",
       "  \"/>\n",
       "<polyline clip-path=\"url(#clip400)\" style=\"stroke:#000000; stroke-width:4; stroke-opacity:1; fill:none\" points=\"\n",
       "  1389.09,961.113 1389.09,950.945 \n",
       "  \"/>\n",
       "<polyline clip-path=\"url(#clip400)\" style=\"stroke:#000000; stroke-width:4; stroke-opacity:1; fill:none\" points=\"\n",
       "  1697.66,961.113 1697.66,950.945 \n",
       "  \"/>\n",
       "<path clip-path=\"url(#clip400)\" d=\"M 0 0 M437.116 999.95 Q440.472 1000.67 442.347 1002.94 Q444.245 1005.21 444.245 1008.54 Q444.245 1013.65 440.727 1016.46 Q437.208 1019.26 430.727 1019.26 Q428.551 1019.26 426.236 1018.82 Q423.944 1018.4 421.491 1017.54 L421.491 1013.03 Q423.435 1014.16 425.75 1014.74 Q428.065 1015.32 430.588 1015.32 Q434.986 1015.32 437.278 1013.58 Q439.593 1011.85 439.593 1008.54 Q439.593 1005.48 437.44 1003.77 Q435.31 1002.03 431.491 1002.03 L427.463 1002.03 L427.463 998.191 L431.676 998.191 Q435.125 998.191 436.954 996.825 Q438.782 995.437 438.782 992.844 Q438.782 990.182 436.884 988.77 Q435.009 987.335 431.491 987.335 Q429.569 987.335 427.37 987.751 Q425.171 988.168 422.532 989.048 L422.532 984.881 Q425.194 984.14 427.509 983.77 Q429.847 983.4 431.907 983.4 Q437.231 983.4 440.333 985.83 Q443.435 988.238 443.435 992.358 Q443.435 995.228 441.792 997.219 Q440.148 999.187 437.116 999.95 Z\" fill=\"#000000\" fill-rule=\"evenodd\" fill-opacity=\"1\" /><path clip-path=\"url(#clip400)\" d=\"M 0 0 M463.111 987.103 Q459.5 987.103 457.671 990.668 Q455.866 994.21 455.866 1001.34 Q455.866 1008.45 457.671 1012.01 Q459.5 1015.55 463.111 1015.55 Q466.745 1015.55 468.551 1012.01 Q470.379 1008.45 470.379 1001.34 Q470.379 994.21 468.551 990.668 Q466.745 987.103 463.111 987.103 M463.111 983.4 Q468.921 983.4 471.977 988.006 Q475.055 992.589 475.055 1001.34 Q475.055 1010.07 471.977 1014.67 Q468.921 1019.26 463.111 1019.26 Q457.301 1019.26 454.222 1014.67 Q451.167 1010.07 451.167 1001.34 Q451.167 992.589 454.222 988.006 Q457.301 983.4 463.111 983.4 Z\" fill=\"#000000\" fill-rule=\"evenodd\" fill-opacity=\"1\" /><path clip-path=\"url(#clip400)\" d=\"M 0 0 M493.273 987.103 Q489.662 987.103 487.833 990.668 Q486.027 994.21 486.027 1001.34 Q486.027 1008.45 487.833 1012.01 Q489.662 1015.55 493.273 1015.55 Q496.907 1015.55 498.713 1012.01 Q500.541 1008.45 500.541 1001.34 Q500.541 994.21 498.713 990.668 Q496.907 987.103 493.273 987.103 M493.273 983.4 Q499.083 983.4 502.139 988.006 Q505.217 992.589 505.217 1001.34 Q505.217 1010.07 502.139 1014.67 Q499.083 1019.26 493.273 1019.26 Q487.463 1019.26 484.384 1014.67 Q481.328 1010.07 481.328 1001.34 Q481.328 992.589 484.384 988.006 Q487.463 983.4 493.273 983.4 Z\" fill=\"#000000\" fill-rule=\"evenodd\" fill-opacity=\"1\" /><path clip-path=\"url(#clip400)\" d=\"M 0 0 M742.256 999.441 Q739.108 999.441 737.256 1001.59 Q735.427 1003.75 735.427 1007.5 Q735.427 1011.22 737.256 1013.4 Q739.108 1015.55 742.256 1015.55 Q745.404 1015.55 747.233 1013.4 Q749.085 1011.22 749.085 1007.5 Q749.085 1003.75 747.233 1001.59 Q745.404 999.441 742.256 999.441 M751.538 984.789 L751.538 989.048 Q749.779 988.214 747.974 987.775 Q746.191 987.335 744.432 987.335 Q739.802 987.335 737.349 990.46 Q734.918 993.585 734.571 999.904 Q735.937 997.89 737.997 996.825 Q740.057 995.738 742.534 995.738 Q747.742 995.738 750.751 998.909 Q753.784 1002.06 753.784 1007.5 Q753.784 1012.82 750.636 1016.04 Q747.487 1019.26 742.256 1019.26 Q736.261 1019.26 733.089 1014.67 Q729.918 1010.07 729.918 1001.34 Q729.918 993.145 733.807 988.284 Q737.696 983.4 744.247 983.4 Q746.006 983.4 747.788 983.747 Q749.594 984.094 751.538 984.789 Z\" fill=\"#000000\" fill-rule=\"evenodd\" fill-opacity=\"1\" /><path clip-path=\"url(#clip400)\" d=\"M 0 0 M771.839 987.103 Q768.228 987.103 766.399 990.668 Q764.594 994.21 764.594 1001.34 Q764.594 1008.45 766.399 1012.01 Q768.228 1015.55 771.839 1015.55 Q775.473 1015.55 777.279 1012.01 Q779.108 1008.45 779.108 1001.34 Q779.108 994.21 777.279 990.668 Q775.473 987.103 771.839 987.103 M771.839 983.4 Q777.649 983.4 780.705 988.006 Q783.784 992.589 783.784 1001.34 Q783.784 1010.07 780.705 1014.67 Q777.649 1019.26 771.839 1019.26 Q766.029 1019.26 762.95 1014.67 Q759.895 1010.07 759.895 1001.34 Q759.895 992.589 762.95 988.006 Q766.029 983.4 771.839 983.4 Z\" fill=\"#000000\" fill-rule=\"evenodd\" fill-opacity=\"1\" /><path clip-path=\"url(#clip400)\" d=\"M 0 0 M802.001 987.103 Q798.39 987.103 796.561 990.668 Q794.756 994.21 794.756 1001.34 Q794.756 1008.45 796.561 1012.01 Q798.39 1015.55 802.001 1015.55 Q805.635 1015.55 807.441 1012.01 Q809.27 1008.45 809.27 1001.34 Q809.27 994.21 807.441 990.668 Q805.635 987.103 802.001 987.103 M802.001 983.4 Q807.811 983.4 810.867 988.006 Q813.945 992.589 813.945 1001.34 Q813.945 1010.07 810.867 1014.67 Q807.811 1019.26 802.001 1019.26 Q796.191 1019.26 793.112 1014.67 Q790.057 1010.07 790.057 1001.34 Q790.057 992.589 793.112 988.006 Q796.191 983.4 802.001 983.4 Z\" fill=\"#000000\" fill-rule=\"evenodd\" fill-opacity=\"1\" /><path clip-path=\"url(#clip400)\" d=\"M 0 0 M1040.56 1017.87 L1040.56 1013.61 Q1042.32 1014.44 1044.12 1014.88 Q1045.93 1015.32 1047.66 1015.32 Q1052.29 1015.32 1054.72 1012.22 Q1057.18 1009.09 1057.52 1002.75 Q1056.18 1004.74 1054.12 1005.81 Q1052.06 1006.87 1049.56 1006.87 Q1044.38 1006.87 1041.34 1003.75 Q1038.33 1000.6 1038.33 995.159 Q1038.33 989.835 1041.48 986.617 Q1044.63 983.4 1049.86 983.4 Q1055.86 983.4 1059 988.006 Q1062.18 992.589 1062.18 1001.34 Q1062.18 1009.51 1058.29 1014.39 Q1054.42 1019.26 1047.87 1019.26 Q1046.11 1019.26 1044.31 1018.91 Q1042.5 1018.56 1040.56 1017.87 M1049.86 1003.21 Q1053.01 1003.21 1054.84 1001.06 Q1056.69 998.909 1056.69 995.159 Q1056.69 991.432 1054.84 989.279 Q1053.01 987.103 1049.86 987.103 Q1046.71 987.103 1044.86 989.279 Q1043.03 991.432 1043.03 995.159 Q1043.03 998.909 1044.86 1001.06 Q1046.71 1003.21 1049.86 1003.21 Z\" fill=\"#000000\" fill-rule=\"evenodd\" fill-opacity=\"1\" /><path clip-path=\"url(#clip400)\" d=\"M 0 0 M1080.58 987.103 Q1076.97 987.103 1075.14 990.668 Q1073.33 994.21 1073.33 1001.34 Q1073.33 1008.45 1075.14 1012.01 Q1076.97 1015.55 1080.58 1015.55 Q1084.21 1015.55 1086.02 1012.01 Q1087.85 1008.45 1087.85 1001.34 Q1087.85 994.21 1086.02 990.668 Q1084.21 987.103 1080.58 987.103 M1080.58 983.4 Q1086.39 983.4 1089.44 988.006 Q1092.52 992.589 1092.52 1001.34 Q1092.52 1010.07 1089.44 1014.67 Q1086.39 1019.26 1080.58 1019.26 Q1074.77 1019.26 1071.69 1014.67 Q1068.63 1010.07 1068.63 1001.34 Q1068.63 992.589 1071.69 988.006 Q1074.77 983.4 1080.58 983.4 Z\" fill=\"#000000\" fill-rule=\"evenodd\" fill-opacity=\"1\" /><path clip-path=\"url(#clip400)\" d=\"M 0 0 M1110.74 987.103 Q1107.13 987.103 1105.3 990.668 Q1103.5 994.21 1103.5 1001.34 Q1103.5 1008.45 1105.3 1012.01 Q1107.13 1015.55 1110.74 1015.55 Q1114.38 1015.55 1116.18 1012.01 Q1118.01 1008.45 1118.01 1001.34 Q1118.01 994.21 1116.18 990.668 Q1114.38 987.103 1110.74 987.103 M1110.74 983.4 Q1116.55 983.4 1119.61 988.006 Q1122.69 992.589 1122.69 1001.34 Q1122.69 1010.07 1119.61 1014.67 Q1116.55 1019.26 1110.74 1019.26 Q1104.93 1019.26 1101.85 1014.67 Q1098.8 1010.07 1098.8 1001.34 Q1098.8 992.589 1101.85 988.006 Q1104.93 983.4 1110.74 983.4 Z\" fill=\"#000000\" fill-rule=\"evenodd\" fill-opacity=\"1\" /><path clip-path=\"url(#clip400)\" d=\"M 0 0 M1333.61 1014.65 L1341.25 1014.65 L1341.25 988.284 L1332.94 989.951 L1332.94 985.691 L1341.21 984.025 L1345.88 984.025 L1345.88 1014.65 L1353.52 1014.65 L1353.52 1018.58 L1333.61 1018.58 L1333.61 1014.65 Z\" fill=\"#000000\" fill-rule=\"evenodd\" fill-opacity=\"1\" /><path clip-path=\"url(#clip400)\" d=\"M 0 0 M1366.99 1014.65 L1383.31 1014.65 L1383.31 1018.58 L1361.37 1018.58 L1361.37 1014.65 Q1364.03 1011.89 1368.61 1007.27 Q1373.22 1002.61 1374.4 1001.27 Q1376.65 998.747 1377.52 997.011 Q1378.43 995.251 1378.43 993.562 Q1378.43 990.807 1376.48 989.071 Q1374.56 987.335 1371.46 987.335 Q1369.26 987.335 1366.81 988.099 Q1364.38 988.863 1361.6 990.413 L1361.6 985.691 Q1364.42 984.557 1366.88 983.978 Q1369.33 983.4 1371.37 983.4 Q1376.74 983.4 1379.93 986.085 Q1383.13 988.77 1383.13 993.261 Q1383.13 995.39 1382.32 997.312 Q1381.53 999.21 1379.42 1001.8 Q1378.84 1002.47 1375.74 1005.69 Q1372.64 1008.89 1366.99 1014.65 Z\" fill=\"#000000\" fill-rule=\"evenodd\" fill-opacity=\"1\" /><path clip-path=\"url(#clip400)\" d=\"M 0 0 M1403.13 987.103 Q1399.52 987.103 1397.69 990.668 Q1395.88 994.21 1395.88 1001.34 Q1395.88 1008.45 1397.69 1012.01 Q1399.52 1015.55 1403.13 1015.55 Q1406.76 1015.55 1408.57 1012.01 Q1410.39 1008.45 1410.39 1001.34 Q1410.39 994.21 1408.57 990.668 Q1406.76 987.103 1403.13 987.103 M1403.13 983.4 Q1408.94 983.4 1411.99 988.006 Q1415.07 992.589 1415.07 1001.34 Q1415.07 1010.07 1411.99 1014.67 Q1408.94 1019.26 1403.13 1019.26 Q1397.32 1019.26 1394.24 1014.67 Q1391.18 1010.07 1391.18 1001.34 Q1391.18 992.589 1394.24 988.006 Q1397.32 983.4 1403.13 983.4 Z\" fill=\"#000000\" fill-rule=\"evenodd\" fill-opacity=\"1\" /><path clip-path=\"url(#clip400)\" d=\"M 0 0 M1433.29 987.103 Q1429.68 987.103 1427.85 990.668 Q1426.04 994.21 1426.04 1001.34 Q1426.04 1008.45 1427.85 1012.01 Q1429.68 1015.55 1433.29 1015.55 Q1436.92 1015.55 1438.73 1012.01 Q1440.56 1008.45 1440.56 1001.34 Q1440.56 994.21 1438.73 990.668 Q1436.92 987.103 1433.29 987.103 M1433.29 983.4 Q1439.1 983.4 1442.15 988.006 Q1445.23 992.589 1445.23 1001.34 Q1445.23 1010.07 1442.15 1014.67 Q1439.1 1019.26 1433.29 1019.26 Q1427.48 1019.26 1424.4 1014.67 Q1421.34 1010.07 1421.34 1001.34 Q1421.34 992.589 1424.4 988.006 Q1427.48 983.4 1433.29 983.4 Z\" fill=\"#000000\" fill-rule=\"evenodd\" fill-opacity=\"1\" /><path clip-path=\"url(#clip400)\" d=\"M 0 0 M1642.19 1014.65 L1649.83 1014.65 L1649.83 988.284 L1641.52 989.951 L1641.52 985.691 L1649.78 984.025 L1654.46 984.025 L1654.46 1014.65 L1662.1 1014.65 L1662.1 1018.58 L1642.19 1018.58 L1642.19 1014.65 Z\" fill=\"#000000\" fill-rule=\"evenodd\" fill-opacity=\"1\" /><path clip-path=\"url(#clip400)\" d=\"M 0 0 M1671.59 984.025 L1689.95 984.025 L1689.95 987.96 L1675.87 987.96 L1675.87 996.432 Q1676.89 996.085 1677.91 995.923 Q1678.93 995.738 1679.95 995.738 Q1685.73 995.738 1689.11 998.909 Q1692.49 1002.08 1692.49 1007.5 Q1692.49 1013.08 1689.02 1016.18 Q1685.55 1019.26 1679.23 1019.26 Q1677.05 1019.26 1674.78 1018.89 Q1672.54 1018.52 1670.13 1017.77 L1670.13 1013.08 Q1672.21 1014.21 1674.44 1014.77 Q1676.66 1015.32 1679.13 1015.32 Q1683.14 1015.32 1685.48 1013.21 Q1687.82 1011.11 1687.82 1007.5 Q1687.82 1003.89 1685.48 1001.78 Q1683.14 999.673 1679.13 999.673 Q1677.26 999.673 1675.38 1000.09 Q1673.53 1000.51 1671.59 1001.39 L1671.59 984.025 Z\" fill=\"#000000\" fill-rule=\"evenodd\" fill-opacity=\"1\" /><path clip-path=\"url(#clip400)\" d=\"M 0 0 M1711.7 987.103 Q1708.09 987.103 1706.26 990.668 Q1704.46 994.21 1704.46 1001.34 Q1704.46 1008.45 1706.26 1012.01 Q1708.09 1015.55 1711.7 1015.55 Q1715.34 1015.55 1717.14 1012.01 Q1718.97 1008.45 1718.97 1001.34 Q1718.97 994.21 1717.14 990.668 Q1715.34 987.103 1711.7 987.103 M1711.7 983.4 Q1717.51 983.4 1720.57 988.006 Q1723.65 992.589 1723.65 1001.34 Q1723.65 1010.07 1720.57 1014.67 Q1717.51 1019.26 1711.7 1019.26 Q1705.89 1019.26 1702.82 1014.67 Q1699.76 1010.07 1699.76 1001.34 Q1699.76 992.589 1702.82 988.006 Q1705.89 983.4 1711.7 983.4 Z\" fill=\"#000000\" fill-rule=\"evenodd\" fill-opacity=\"1\" /><path clip-path=\"url(#clip400)\" d=\"M 0 0 M1741.87 987.103 Q1738.26 987.103 1736.43 990.668 Q1734.62 994.21 1734.62 1001.34 Q1734.62 1008.45 1736.43 1012.01 Q1738.26 1015.55 1741.87 1015.55 Q1745.5 1015.55 1747.31 1012.01 Q1749.13 1008.45 1749.13 1001.34 Q1749.13 994.21 1747.31 990.668 Q1745.5 987.103 1741.87 987.103 M1741.87 983.4 Q1747.68 983.4 1750.73 988.006 Q1753.81 992.589 1753.81 1001.34 Q1753.81 1010.07 1750.73 1014.67 Q1747.68 1019.26 1741.87 1019.26 Q1736.06 1019.26 1732.98 1014.67 Q1729.92 1010.07 1729.92 1001.34 Q1729.92 992.589 1732.98 988.006 Q1736.06 983.4 1741.87 983.4 Z\" fill=\"#000000\" fill-rule=\"evenodd\" fill-opacity=\"1\" /><path clip-path=\"url(#clip400)\" d=\"M 0 0 M1019.67 1054.21 L1019.67 1064.33 L1031.73 1064.33 L1031.73 1068.88 L1019.67 1068.88 L1019.67 1088.23 Q1019.67 1092.59 1020.85 1093.83 Q1022.06 1095.08 1025.72 1095.08 L1031.73 1095.08 L1031.73 1099.98 L1025.72 1099.98 Q1018.94 1099.98 1016.36 1097.46 Q1013.78 1094.92 1013.78 1088.23 L1013.78 1068.88 L1009.48 1068.88 L1009.48 1064.33 L1013.78 1064.33 L1013.78 1054.21 L1019.67 1054.21 Z\" fill=\"#000000\" fill-rule=\"evenodd\" fill-opacity=\"1\" /><path clip-path=\"url(#clip400)\" d=\"M 0 0 M1039.43 1064.33 L1045.29 1064.33 L1045.29 1099.98 L1039.43 1099.98 L1039.43 1064.33 M1039.43 1050.45 L1045.29 1050.45 L1045.29 1057.87 L1039.43 1057.87 L1039.43 1050.45 Z\" fill=\"#000000\" fill-rule=\"evenodd\" fill-opacity=\"1\" /><path clip-path=\"url(#clip400)\" d=\"M 0 0 M1085.3 1071.17 Q1087.5 1067.23 1090.55 1065.35 Q1093.61 1063.47 1097.74 1063.47 Q1103.31 1063.47 1106.34 1067.38 Q1109.36 1071.27 1109.36 1078.46 L1109.36 1099.98 L1103.47 1099.98 L1103.47 1078.65 Q1103.47 1073.53 1101.66 1071.04 Q1099.85 1068.56 1096.12 1068.56 Q1091.57 1068.56 1088.93 1071.59 Q1086.29 1074.61 1086.29 1079.83 L1086.29 1099.98 L1080.4 1099.98 L1080.4 1078.65 Q1080.4 1073.5 1078.58 1071.04 Q1076.77 1068.56 1072.98 1068.56 Q1068.49 1068.56 1065.85 1071.62 Q1063.21 1074.64 1063.21 1079.83 L1063.21 1099.98 L1057.32 1099.98 L1057.32 1064.33 L1063.21 1064.33 L1063.21 1069.87 Q1065.22 1066.59 1068.02 1065.03 Q1070.82 1063.47 1074.67 1063.47 Q1078.55 1063.47 1081.26 1065.44 Q1083.99 1067.42 1085.3 1071.17 Z\" fill=\"#000000\" fill-rule=\"evenodd\" fill-opacity=\"1\" /><path clip-path=\"url(#clip400)\" d=\"M 0 0 M1151.53 1080.69 L1151.53 1083.55 L1124.61 1083.55 Q1124.99 1089.6 1128.24 1092.78 Q1131.51 1095.93 1137.34 1095.93 Q1140.71 1095.93 1143.86 1095.11 Q1147.05 1094.28 1150.17 1092.62 L1150.17 1098.16 Q1147.02 1099.5 1143.71 1100.2 Q1140.39 1100.9 1136.99 1100.9 Q1128.46 1100.9 1123.46 1095.93 Q1118.5 1090.97 1118.5 1082.5 Q1118.5 1073.75 1123.21 1068.63 Q1127.95 1063.47 1135.97 1063.47 Q1143.16 1063.47 1147.33 1068.12 Q1151.53 1072.73 1151.53 1080.69 M1145.68 1078.97 Q1145.61 1074.16 1142.97 1071.3 Q1140.36 1068.43 1136.03 1068.43 Q1131.13 1068.43 1128.17 1071.2 Q1125.24 1073.97 1124.8 1079 L1145.68 1078.97 Z\" fill=\"#000000\" fill-rule=\"evenodd\" fill-opacity=\"1\" /><polyline clip-path=\"url(#clip402)\" style=\"stroke:#000000; stroke-width:2; stroke-opacity:0.1; fill:none\" points=\"\n",
       "  208.263,841.459 1952.76,841.459 \n",
       "  \"/>\n",
       "<polyline clip-path=\"url(#clip402)\" style=\"stroke:#000000; stroke-width:2; stroke-opacity:0.1; fill:none\" points=\"\n",
       "  208.263,691.826 1952.76,691.826 \n",
       "  \"/>\n",
       "<polyline clip-path=\"url(#clip402)\" style=\"stroke:#000000; stroke-width:2; stroke-opacity:0.1; fill:none\" points=\"\n",
       "  208.263,542.192 1952.76,542.192 \n",
       "  \"/>\n",
       "<polyline clip-path=\"url(#clip402)\" style=\"stroke:#000000; stroke-width:2; stroke-opacity:0.1; fill:none\" points=\"\n",
       "  208.263,392.559 1952.76,392.559 \n",
       "  \"/>\n",
       "<polyline clip-path=\"url(#clip402)\" style=\"stroke:#000000; stroke-width:2; stroke-opacity:0.1; fill:none\" points=\"\n",
       "  208.263,242.925 1952.76,242.925 \n",
       "  \"/>\n",
       "<polyline clip-path=\"url(#clip400)\" style=\"stroke:#000000; stroke-width:4; stroke-opacity:1; fill:none\" points=\"\n",
       "  208.263,961.113 208.263,113.795 \n",
       "  \"/>\n",
       "<polyline clip-path=\"url(#clip400)\" style=\"stroke:#000000; stroke-width:4; stroke-opacity:1; fill:none\" points=\"\n",
       "  208.263,841.459 229.197,841.459 \n",
       "  \"/>\n",
       "<polyline clip-path=\"url(#clip400)\" style=\"stroke:#000000; stroke-width:4; stroke-opacity:1; fill:none\" points=\"\n",
       "  208.263,691.826 229.197,691.826 \n",
       "  \"/>\n",
       "<polyline clip-path=\"url(#clip400)\" style=\"stroke:#000000; stroke-width:4; stroke-opacity:1; fill:none\" points=\"\n",
       "  208.263,542.192 229.197,542.192 \n",
       "  \"/>\n",
       "<polyline clip-path=\"url(#clip400)\" style=\"stroke:#000000; stroke-width:4; stroke-opacity:1; fill:none\" points=\"\n",
       "  208.263,392.559 229.197,392.559 \n",
       "  \"/>\n",
       "<polyline clip-path=\"url(#clip400)\" style=\"stroke:#000000; stroke-width:4; stroke-opacity:1; fill:none\" points=\"\n",
       "  208.263,242.925 229.197,242.925 \n",
       "  \"/>\n",
       "<path clip-path=\"url(#clip400)\" d=\"M 0 0 M122.314 827.258 Q118.703 827.258 116.875 830.823 Q115.069 834.365 115.069 841.494 Q115.069 848.601 116.875 852.165 Q118.703 855.707 122.314 855.707 Q125.949 855.707 127.754 852.165 Q129.583 848.601 129.583 841.494 Q129.583 834.365 127.754 830.823 Q125.949 827.258 122.314 827.258 M122.314 823.554 Q128.124 823.554 131.18 828.161 Q134.259 832.744 134.259 841.494 Q134.259 850.221 131.18 854.827 Q128.124 859.411 122.314 859.411 Q116.504 859.411 113.425 854.827 Q110.37 850.221 110.37 841.494 Q110.37 832.744 113.425 828.161 Q116.504 823.554 122.314 823.554 Z\" fill=\"#000000\" fill-rule=\"evenodd\" fill-opacity=\"1\" /><path clip-path=\"url(#clip400)\" d=\"M 0 0 M142.476 852.86 L147.36 852.86 L147.36 858.739 L142.476 858.739 L142.476 852.86 Z\" fill=\"#000000\" fill-rule=\"evenodd\" fill-opacity=\"1\" /><path clip-path=\"url(#clip400)\" d=\"M 0 0 M158.356 854.804 L165.995 854.804 L165.995 828.439 L157.684 830.105 L157.684 825.846 L165.948 824.179 L170.624 824.179 L170.624 854.804 L178.263 854.804 L178.263 858.739 L158.356 858.739 L158.356 854.804 Z\" fill=\"#000000\" fill-rule=\"evenodd\" fill-opacity=\"1\" /><path clip-path=\"url(#clip400)\" d=\"M 0 0 M122.685 677.625 Q119.074 677.625 117.245 681.189 Q115.439 684.731 115.439 691.861 Q115.439 698.967 117.245 702.532 Q119.074 706.074 122.685 706.074 Q126.319 706.074 128.124 702.532 Q129.953 698.967 129.953 691.861 Q129.953 684.731 128.124 681.189 Q126.319 677.625 122.685 677.625 M122.685 673.921 Q128.495 673.921 131.55 678.527 Q134.629 683.111 134.629 691.861 Q134.629 700.587 131.55 705.194 Q128.495 709.777 122.685 709.777 Q116.875 709.777 113.796 705.194 Q110.74 700.587 110.74 691.861 Q110.74 683.111 113.796 678.527 Q116.875 673.921 122.685 673.921 Z\" fill=\"#000000\" fill-rule=\"evenodd\" fill-opacity=\"1\" /><path clip-path=\"url(#clip400)\" d=\"M 0 0 M142.847 703.226 L147.731 703.226 L147.731 709.106 L142.847 709.106 L142.847 703.226 Z\" fill=\"#000000\" fill-rule=\"evenodd\" fill-opacity=\"1\" /><path clip-path=\"url(#clip400)\" d=\"M 0 0 M161.944 705.171 L178.263 705.171 L178.263 709.106 L156.319 709.106 L156.319 705.171 Q158.981 702.416 163.564 697.787 Q168.171 693.134 169.351 691.791 Q171.596 689.268 172.476 687.532 Q173.379 685.773 173.379 684.083 Q173.379 681.328 171.434 679.592 Q169.513 677.856 166.411 677.856 Q164.212 677.856 161.759 678.62 Q159.328 679.384 156.55 680.935 L156.55 676.213 Q159.374 675.078 161.828 674.5 Q164.282 673.921 166.319 673.921 Q171.689 673.921 174.883 676.606 Q178.078 679.291 178.078 683.782 Q178.078 685.912 177.268 687.833 Q176.481 689.731 174.374 692.324 Q173.795 692.995 170.694 696.212 Q167.592 699.407 161.944 705.171 Z\" fill=\"#000000\" fill-rule=\"evenodd\" fill-opacity=\"1\" /><path clip-path=\"url(#clip400)\" d=\"M 0 0 M121.736 527.991 Q118.124 527.991 116.296 531.556 Q114.49 535.097 114.49 542.227 Q114.49 549.333 116.296 552.898 Q118.124 556.44 121.736 556.44 Q125.37 556.44 127.175 552.898 Q129.004 549.333 129.004 542.227 Q129.004 535.097 127.175 531.556 Q125.37 527.991 121.736 527.991 M121.736 524.287 Q127.546 524.287 130.601 528.894 Q133.68 533.477 133.68 542.227 Q133.68 550.954 130.601 555.56 Q127.546 560.144 121.736 560.144 Q115.925 560.144 112.847 555.56 Q109.791 550.954 109.791 542.227 Q109.791 533.477 112.847 528.894 Q115.925 524.287 121.736 524.287 Z\" fill=\"#000000\" fill-rule=\"evenodd\" fill-opacity=\"1\" /><path clip-path=\"url(#clip400)\" d=\"M 0 0 M141.898 553.593 L146.782 553.593 L146.782 559.472 L141.898 559.472 L141.898 553.593 Z\" fill=\"#000000\" fill-rule=\"evenodd\" fill-opacity=\"1\" /><path clip-path=\"url(#clip400)\" d=\"M 0 0 M171.133 540.838 Q174.49 541.556 176.365 543.824 Q178.263 546.093 178.263 549.426 Q178.263 554.542 174.745 557.343 Q171.226 560.144 164.745 560.144 Q162.569 560.144 160.254 559.704 Q157.962 559.287 155.509 558.431 L155.509 553.917 Q157.453 555.051 159.768 555.63 Q162.083 556.208 164.606 556.208 Q169.004 556.208 171.296 554.472 Q173.61 552.736 173.61 549.426 Q173.61 546.371 171.458 544.658 Q169.328 542.921 165.509 542.921 L161.481 542.921 L161.481 539.079 L165.694 539.079 Q169.143 539.079 170.971 537.713 Q172.8 536.324 172.8 533.732 Q172.8 531.07 170.902 529.658 Q169.027 528.222 165.509 528.222 Q163.587 528.222 161.388 528.639 Q159.189 529.056 156.55 529.935 L156.55 525.769 Q159.212 525.028 161.527 524.658 Q163.865 524.287 165.925 524.287 Q171.249 524.287 174.351 526.718 Q177.453 529.125 177.453 533.246 Q177.453 536.116 175.809 538.107 Q174.166 540.074 171.133 540.838 Z\" fill=\"#000000\" fill-rule=\"evenodd\" fill-opacity=\"1\" /><path clip-path=\"url(#clip400)\" d=\"M 0 0 M120.601 378.357 Q116.99 378.357 115.162 381.922 Q113.356 385.464 113.356 392.593 Q113.356 399.7 115.162 403.265 Q116.99 406.806 120.601 406.806 Q124.236 406.806 126.041 403.265 Q127.87 399.7 127.87 392.593 Q127.87 385.464 126.041 381.922 Q124.236 378.357 120.601 378.357 M120.601 374.654 Q126.411 374.654 129.467 379.26 Q132.546 383.844 132.546 392.593 Q132.546 401.32 129.467 405.927 Q126.411 410.51 120.601 410.51 Q114.791 410.51 111.712 405.927 Q108.657 401.32 108.657 392.593 Q108.657 383.844 111.712 379.26 Q114.791 374.654 120.601 374.654 Z\" fill=\"#000000\" fill-rule=\"evenodd\" fill-opacity=\"1\" /><path clip-path=\"url(#clip400)\" d=\"M 0 0 M140.763 403.959 L145.648 403.959 L145.648 409.839 L140.763 409.839 L140.763 403.959 Z\" fill=\"#000000\" fill-rule=\"evenodd\" fill-opacity=\"1\" /><path clip-path=\"url(#clip400)\" d=\"M 0 0 M168.68 379.353 L156.874 397.802 L168.68 397.802 L168.68 379.353 M167.453 375.279 L173.333 375.279 L173.333 397.802 L178.263 397.802 L178.263 401.691 L173.333 401.691 L173.333 409.839 L168.68 409.839 L168.68 401.691 L153.078 401.691 L153.078 397.177 L167.453 375.279 Z\" fill=\"#000000\" fill-rule=\"evenodd\" fill-opacity=\"1\" /><path clip-path=\"url(#clip400)\" d=\"M 0 0 M122.083 228.724 Q118.472 228.724 116.643 232.289 Q114.837 235.83 114.837 242.96 Q114.837 250.066 116.643 253.631 Q118.472 257.173 122.083 257.173 Q125.717 257.173 127.523 253.631 Q129.351 250.066 129.351 242.96 Q129.351 235.83 127.523 232.289 Q125.717 228.724 122.083 228.724 M122.083 225.02 Q127.893 225.02 130.949 229.627 Q134.027 234.21 134.027 242.96 Q134.027 251.687 130.949 256.293 Q127.893 260.876 122.083 260.876 Q116.273 260.876 113.194 256.293 Q110.138 251.687 110.138 242.96 Q110.138 234.21 113.194 229.627 Q116.273 225.02 122.083 225.02 Z\" fill=\"#000000\" fill-rule=\"evenodd\" fill-opacity=\"1\" /><path clip-path=\"url(#clip400)\" d=\"M 0 0 M142.245 254.326 L147.129 254.326 L147.129 260.205 L142.245 260.205 L142.245 254.326 Z\" fill=\"#000000\" fill-rule=\"evenodd\" fill-opacity=\"1\" /><path clip-path=\"url(#clip400)\" d=\"M 0 0 M157.36 225.645 L175.717 225.645 L175.717 229.58 L161.643 229.58 L161.643 238.053 Q162.661 237.705 163.68 237.543 Q164.698 237.358 165.717 237.358 Q171.504 237.358 174.883 240.529 Q178.263 243.701 178.263 249.117 Q178.263 254.696 174.791 257.798 Q171.319 260.876 164.999 260.876 Q162.823 260.876 160.555 260.506 Q158.309 260.136 155.902 259.395 L155.902 254.696 Q157.985 255.83 160.208 256.386 Q162.43 256.941 164.907 256.941 Q168.911 256.941 171.249 254.835 Q173.587 252.728 173.587 249.117 Q173.587 245.506 171.249 243.4 Q168.911 241.293 164.907 241.293 Q163.032 241.293 161.157 241.71 Q159.305 242.127 157.36 243.006 L157.36 225.645 Z\" fill=\"#000000\" fill-rule=\"evenodd\" fill-opacity=\"1\" /><path clip-path=\"url(#clip400)\" d=\"M 0 0 M45.1129 581.521 L47.9774 581.521 L47.9774 608.448 Q54.0249 608.066 57.2077 604.819 Q60.3587 601.541 60.3587 595.716 Q60.3587 592.342 59.5312 589.191 Q58.7037 586.008 57.0486 582.889 L62.5867 582.889 Q63.9235 586.04 64.6238 589.35 Q65.324 592.661 65.324 596.066 Q65.324 604.596 60.3587 609.593 Q55.3935 614.559 46.9271 614.559 Q38.1742 614.559 33.0499 609.848 Q27.8936 605.106 27.8936 597.085 Q27.8936 589.891 32.5406 585.722 Q37.1557 581.521 45.1129 581.521 M43.3941 587.377 Q38.588 587.441 35.7234 590.082 Q32.8589 592.692 32.8589 597.021 Q32.8589 601.923 35.628 604.883 Q38.397 607.811 43.426 608.257 L43.3941 587.377 Z\" fill=\"#000000\" fill-rule=\"evenodd\" fill-opacity=\"1\" /><path clip-path=\"url(#clip400)\" d=\"M 0 0 M34.2275 551.252 Q33.6546 552.238 33.4 553.416 Q33.1135 554.562 33.1135 555.962 Q33.1135 560.928 36.36 563.601 Q39.5747 566.243 45.6221 566.243 L64.401 566.243 L64.401 572.131 L28.753 572.131 L28.753 566.243 L34.2912 566.243 Q31.0447 564.397 29.4851 561.437 Q27.8936 558.477 27.8936 554.244 Q27.8936 553.639 27.9891 552.907 Q28.0528 552.175 28.2119 551.283 L34.2275 551.252 Z\" fill=\"#000000\" fill-rule=\"evenodd\" fill-opacity=\"1\" /><path clip-path=\"url(#clip400)\" d=\"M 0 0 M34.2275 525.598 Q33.6546 526.585 33.4 527.762 Q33.1135 528.908 33.1135 530.308 Q33.1135 535.274 36.36 537.947 Q39.5747 540.589 45.6221 540.589 L64.401 540.589 L64.401 546.477 L28.753 546.477 L28.753 540.589 L34.2912 540.589 Q31.0447 538.743 29.4851 535.783 Q27.8936 532.823 27.8936 528.59 Q27.8936 527.985 27.9891 527.253 Q28.0528 526.521 28.2119 525.63 L34.2275 525.598 Z\" fill=\"#000000\" fill-rule=\"evenodd\" fill-opacity=\"1\" /><path clip-path=\"url(#clip400)\" d=\"M 0 0 M32.8589 507.074 Q32.8589 511.784 36.551 514.522 Q40.2113 517.259 46.6088 517.259 Q53.0063 517.259 56.6985 514.553 Q60.3587 511.816 60.3587 507.074 Q60.3587 502.395 56.6666 499.658 Q52.9745 496.92 46.6088 496.92 Q40.2749 496.92 36.5828 499.658 Q32.8589 502.395 32.8589 507.074 M27.8936 507.074 Q27.8936 499.435 32.8589 495.074 Q37.8241 490.714 46.6088 490.714 Q55.3617 490.714 60.3587 495.074 Q65.324 499.435 65.324 507.074 Q65.324 514.744 60.3587 519.105 Q55.3617 523.434 46.6088 523.434 Q37.8241 523.434 32.8589 519.105 Q27.8936 514.744 27.8936 507.074 Z\" fill=\"#000000\" fill-rule=\"evenodd\" fill-opacity=\"1\" /><path clip-path=\"url(#clip400)\" d=\"M 0 0 M34.2275 460.349 Q33.6546 461.336 33.4 462.514 Q33.1135 463.66 33.1135 465.06 Q33.1135 470.025 36.36 472.699 Q39.5747 475.341 45.6221 475.341 L64.401 475.341 L64.401 481.229 L28.753 481.229 L28.753 475.341 L34.2912 475.341 Q31.0447 473.495 29.4851 470.534 Q27.8936 467.574 27.8936 463.341 Q27.8936 462.737 27.9891 462.004 Q28.0528 461.272 28.2119 460.381 L34.2275 460.349 Z\" fill=\"#000000\" fill-rule=\"evenodd\" fill-opacity=\"1\" /><path clip-path=\"url(#clip400)\" d=\"M 0 0 M895.221 34.0924 L895.221 9.54393 L902.675 9.54393 L902.675 72.576 L895.221 72.576 L895.221 65.7705 Q892.872 69.8214 889.266 71.8063 Q885.702 73.7508 880.678 73.7508 Q872.455 73.7508 867.27 67.1883 Q862.125 60.6258 862.125 49.9314 Q862.125 39.2371 867.27 32.6746 Q872.455 26.1121 880.678 26.1121 Q885.702 26.1121 889.266 28.0971 Q892.872 30.0415 895.221 34.0924 M869.822 49.9314 Q869.822 58.1548 873.184 62.8538 Q876.587 67.5124 882.501 67.5124 Q888.416 67.5124 891.818 62.8538 Q895.221 58.1548 895.221 49.9314 Q895.221 41.7081 891.818 37.0496 Q888.416 32.3505 882.501 32.3505 Q876.587 32.3505 873.184 37.0496 Q869.822 41.7081 869.822 49.9314 Z\" fill=\"#000000\" fill-rule=\"evenodd\" fill-opacity=\"1\" /><path clip-path=\"url(#clip400)\" d=\"M 0 0 M919 34.9026 L970.933 34.9026 L970.933 41.7081 L919 41.7081 L919 34.9026 M919 51.4303 L970.933 51.4303 L970.933 58.3168 L919 58.3168 L919 51.4303 Z\" fill=\"#000000\" fill-rule=\"evenodd\" fill-opacity=\"1\" /><path clip-path=\"url(#clip400)\" d=\"M 0 0 M990.012 65.6895 L1003.38 65.6895 L1003.38 19.5497 L988.838 22.4663 L988.838 15.0127 L1003.3 12.096 L1011.48 12.096 L1011.48 65.6895 L1024.85 65.6895 L1024.85 72.576 L990.012 72.576 L990.012 65.6895 Z\" fill=\"#000000\" fill-rule=\"evenodd\" fill-opacity=\"1\" /><path clip-path=\"url(#clip400)\" d=\"M 0 0 M1042.23 62.2867 L1050.78 62.2867 L1050.78 69.2543 L1044.13 82.2172 L1038.91 82.2172 L1042.23 69.2543 L1042.23 62.2867 Z\" fill=\"#000000\" fill-rule=\"evenodd\" fill-opacity=\"1\" /><path clip-path=\"url(#clip400)\" d=\"M 0 0 M1093.39 12.096 L1101.57 12.096 L1101.57 65.6895 L1131.02 65.6895 L1131.02 72.576 L1093.39 72.576 L1093.39 12.096 Z\" fill=\"#000000\" fill-rule=\"evenodd\" fill-opacity=\"1\" /><path clip-path=\"url(#clip400)\" d=\"M 0 0 M1140.26 34.9026 L1192.19 34.9026 L1192.19 41.7081 L1140.26 41.7081 L1140.26 34.9026 M1140.26 51.4303 L1192.19 51.4303 L1192.19 58.3168 L1140.26 58.3168 L1140.26 51.4303 Z\" fill=\"#000000\" fill-rule=\"evenodd\" fill-opacity=\"1\" /><path clip-path=\"url(#clip400)\" d=\"M 0 0 M1227.35 43.8551 Q1221.52 43.8551 1218.16 46.9743 Q1214.84 50.0935 1214.84 55.5622 Q1214.84 61.0309 1218.16 64.1501 Q1221.52 67.2693 1227.35 67.2693 Q1233.19 67.2693 1236.55 64.1501 Q1239.91 60.9904 1239.91 55.5622 Q1239.91 50.0935 1236.55 46.9743 Q1233.23 43.8551 1227.35 43.8551 M1219.17 40.3713 Q1213.91 39.075 1210.95 35.4697 Q1208.03 31.8644 1208.03 26.6793 Q1208.03 19.4281 1213.18 15.2152 Q1218.36 11.0023 1227.35 11.0023 Q1236.39 11.0023 1241.53 15.2152 Q1246.68 19.4281 1246.68 26.6793 Q1246.68 31.8644 1243.72 35.4697 Q1240.8 39.075 1235.58 40.3713 Q1241.49 41.7486 1244.77 45.759 Q1248.1 49.7694 1248.1 55.5622 Q1248.1 64.3527 1242.71 69.0517 Q1237.36 73.7508 1227.35 73.7508 Q1217.35 73.7508 1211.96 69.0517 Q1206.61 64.3527 1206.61 55.5622 Q1206.61 49.7694 1209.94 45.759 Q1213.26 41.7486 1219.17 40.3713 M1216.17 27.4489 Q1216.17 32.148 1219.09 34.7811 Q1222.05 37.4142 1227.35 37.4142 Q1232.62 37.4142 1235.58 34.7811 Q1238.58 32.148 1238.58 27.4489 Q1238.58 22.7499 1235.58 20.1168 Q1232.62 17.4837 1227.35 17.4837 Q1222.05 17.4837 1219.09 20.1168 Q1216.17 22.7499 1216.17 27.4489 Z\" fill=\"#000000\" fill-rule=\"evenodd\" fill-opacity=\"1\" /><path clip-path=\"url(#clip400)\" d=\"M 0 0 M1264.06 65.6895 L1277.42 65.6895 L1277.42 19.5497 L1262.88 22.4663 L1262.88 15.0127 L1277.34 12.096 L1285.53 12.096 L1285.53 65.6895 L1298.89 65.6895 L1298.89 72.576 L1264.06 72.576 L1264.06 65.6895 Z\" fill=\"#000000\" fill-rule=\"evenodd\" fill-opacity=\"1\" /><polyline clip-path=\"url(#clip402)\" style=\"stroke:#009af9; stroke-width:8; stroke-opacity:1; fill:none\" points=\"\n",
       "  257.636,137.776 360.495,249.065 463.354,350.446 566.213,422.297 669.072,461.914 771.932,497.45 874.791,528.837 977.65,548.63 1080.51,567.422 1183.37,593.128 \n",
       "  1286.23,607.103 1389.09,619.618 1491.95,632.594 1594.81,642.721 1697.66,657.55 1800.52,667.537 1903.38,678.485 \n",
       "  \"/>\n",
       "<polyline clip-path=\"url(#clip402)\" style=\"stroke:#e26f46; stroke-width:8; stroke-opacity:1; fill:none\" points=\"\n",
       "  257.636,842.665 360.495,858.947 463.354,881.734 566.213,896.072 669.072,909.285 771.932,910.937 874.791,913.95 977.65,918.827 1080.51,925.438 1183.37,928.681 \n",
       "  1286.23,932.631 1389.09,932.37 1491.95,930.98 1594.81,931.115 1697.66,933.351 1800.52,937.121 1903.38,937.132 \n",
       "  \"/>\n",
       "<polyline clip-path=\"url(#clip402)\" style=\"stroke:#3da44d; stroke-width:8; stroke-opacity:1; fill:none\" points=\"\n",
       "  257.636,797.417 360.495,807.923 463.354,845.615 566.213,858.772 669.072,869.678 771.932,871.959 874.791,879.763 977.65,889.556 1080.51,894.431 1183.37,900.643 \n",
       "  1286.23,905.385 1389.09,905.024 1491.95,906.982 1594.81,909.539 1697.66,917.831 1800.52,920.408 1903.38,922.384 \n",
       "  \"/>\n",
       "<path clip-path=\"url(#clip400)\" d=\"\n",
       "M1350.47 383.959 L1894.61 383.959 L1894.61 142.039 L1350.47 142.039  Z\n",
       "  \" fill=\"#ffffff\" fill-rule=\"evenodd\" fill-opacity=\"1\"/>\n",
       "<polyline clip-path=\"url(#clip400)\" style=\"stroke:#000000; stroke-width:4; stroke-opacity:1; fill:none\" points=\"\n",
       "  1350.47,383.959 1894.61,383.959 1894.61,142.039 1350.47,142.039 1350.47,383.959 \n",
       "  \"/>\n",
       "<polyline clip-path=\"url(#clip400)\" style=\"stroke:#009af9; stroke-width:4; stroke-opacity:1; fill:none\" points=\"\n",
       "  1369.86,202.519 1486.16,202.519 \n",
       "  \"/>\n",
       "<path clip-path=\"url(#clip400)\" d=\"M 0 0 M1505.54 183.781 L1509.8 183.781 L1509.8 219.799 L1505.54 219.799 L1505.54 183.781 Z\" fill=\"#000000\" fill-rule=\"evenodd\" fill-opacity=\"1\" /><path clip-path=\"url(#clip400)\" d=\"M 0 0 M1540.89 205.772 L1540.89 207.855 L1521.3 207.855 Q1521.58 212.253 1523.94 214.568 Q1526.33 216.859 1530.56 216.859 Q1533.02 216.859 1535.31 216.258 Q1537.62 215.656 1539.89 214.452 L1539.89 218.48 Q1537.6 219.452 1535.19 219.961 Q1532.79 220.471 1530.31 220.471 Q1524.11 220.471 1520.47 216.859 Q1516.86 213.248 1516.86 207.091 Q1516.86 200.725 1520.29 196.998 Q1523.73 193.248 1529.57 193.248 Q1534.8 193.248 1537.83 196.628 Q1540.89 199.985 1540.89 205.772 M1536.63 204.522 Q1536.58 201.026 1534.66 198.943 Q1532.76 196.86 1529.61 196.86 Q1526.05 196.86 1523.9 198.873 Q1521.77 200.887 1521.44 204.545 L1536.63 204.522 Z\" fill=\"#000000\" fill-rule=\"evenodd\" fill-opacity=\"1\" /><path clip-path=\"url(#clip400)\" d=\"M 0 0 M1559.66 206.767 Q1554.5 206.767 1552.51 207.947 Q1550.52 209.128 1550.52 211.975 Q1550.52 214.244 1552 215.586 Q1553.5 216.906 1556.07 216.906 Q1559.61 216.906 1561.74 214.406 Q1563.9 211.883 1563.9 207.716 L1563.9 206.767 L1559.66 206.767 M1568.16 205.008 L1568.16 219.799 L1563.9 219.799 L1563.9 215.864 Q1562.44 218.225 1560.26 219.359 Q1558.09 220.471 1554.94 220.471 Q1550.96 220.471 1548.6 218.248 Q1546.26 216.003 1546.26 212.253 Q1546.26 207.878 1549.17 205.656 Q1552.11 203.434 1557.92 203.434 L1563.9 203.434 L1563.9 203.017 Q1563.9 200.077 1561.95 198.48 Q1560.03 196.86 1556.54 196.86 Q1554.31 196.86 1552.21 197.392 Q1550.1 197.924 1548.16 198.989 L1548.16 195.054 Q1550.49 194.151 1552.69 193.711 Q1554.89 193.248 1556.98 193.248 Q1562.6 193.248 1565.38 196.165 Q1568.16 199.082 1568.16 205.008 Z\" fill=\"#000000\" fill-rule=\"evenodd\" fill-opacity=\"1\" /><path clip-path=\"url(#clip400)\" d=\"M 0 0 M1593.46 194.637 L1593.46 198.665 Q1591.65 197.739 1589.71 197.276 Q1587.76 196.813 1585.68 196.813 Q1582.51 196.813 1580.91 197.785 Q1579.34 198.758 1579.34 200.702 Q1579.34 202.184 1580.47 203.04 Q1581.6 203.873 1585.03 204.637 L1586.49 204.961 Q1591.03 205.934 1592.92 207.716 Q1594.85 209.475 1594.85 212.646 Q1594.85 216.258 1591.98 218.364 Q1589.13 220.471 1584.13 220.471 Q1582.04 220.471 1579.78 220.054 Q1577.53 219.66 1575.03 218.85 L1575.03 214.452 Q1577.39 215.679 1579.68 216.304 Q1581.98 216.906 1584.22 216.906 Q1587.23 216.906 1588.85 215.887 Q1590.47 214.846 1590.47 212.971 Q1590.47 211.234 1589.29 210.309 Q1588.13 209.383 1584.17 208.526 L1582.69 208.179 Q1578.73 207.346 1576.98 205.633 Q1575.22 203.897 1575.22 200.887 Q1575.22 197.23 1577.81 195.239 Q1580.4 193.248 1585.17 193.248 Q1587.53 193.248 1589.61 193.596 Q1591.7 193.943 1593.46 194.637 Z\" fill=\"#000000\" fill-rule=\"evenodd\" fill-opacity=\"1\" /><path clip-path=\"url(#clip400)\" d=\"M 0 0 M1605.84 186.512 L1605.84 193.873 L1614.61 193.873 L1614.61 197.184 L1605.84 197.184 L1605.84 211.258 Q1605.84 214.429 1606.7 215.332 Q1607.58 216.234 1610.24 216.234 L1614.61 216.234 L1614.61 219.799 L1610.24 219.799 Q1605.31 219.799 1603.43 217.971 Q1601.56 216.119 1601.56 211.258 L1601.56 197.184 L1598.43 197.184 L1598.43 193.873 L1601.56 193.873 L1601.56 186.512 L1605.84 186.512 Z\" fill=\"#000000\" fill-rule=\"evenodd\" fill-opacity=\"1\" /><path clip-path=\"url(#clip400)\" d=\"M 0 0 M1651.81 194.637 L1651.81 198.665 Q1650.01 197.739 1648.06 197.276 Q1646.12 196.813 1644.04 196.813 Q1640.86 196.813 1639.27 197.785 Q1637.69 198.758 1637.69 200.702 Q1637.69 202.184 1638.83 203.04 Q1639.96 203.873 1643.39 204.637 L1644.85 204.961 Q1649.38 205.934 1651.28 207.716 Q1653.2 209.475 1653.2 212.646 Q1653.2 216.258 1650.33 218.364 Q1647.48 220.471 1642.48 220.471 Q1640.4 220.471 1638.13 220.054 Q1635.89 219.66 1633.39 218.85 L1633.39 214.452 Q1635.75 215.679 1638.04 216.304 Q1640.33 216.906 1642.58 216.906 Q1645.59 216.906 1647.21 215.887 Q1648.83 214.846 1648.83 212.971 Q1648.83 211.234 1647.65 210.309 Q1646.49 209.383 1642.53 208.526 L1641.05 208.179 Q1637.09 207.346 1635.33 205.633 Q1633.57 203.897 1633.57 200.887 Q1633.57 197.23 1636.16 195.239 Q1638.76 193.248 1643.53 193.248 Q1645.89 193.248 1647.97 193.596 Q1650.05 193.943 1651.81 194.637 Z\" fill=\"#000000\" fill-rule=\"evenodd\" fill-opacity=\"1\" /><path clip-path=\"url(#clip400)\" d=\"M 0 0 M1662.53 206.859 Q1662.53 211.559 1664.45 214.244 Q1666.4 216.906 1669.78 216.906 Q1673.16 216.906 1675.1 214.244 Q1677.04 211.559 1677.04 206.859 Q1677.04 202.16 1675.1 199.498 Q1673.16 196.813 1669.78 196.813 Q1666.4 196.813 1664.45 199.498 Q1662.53 202.16 1662.53 206.859 M1677.04 215.91 Q1675.7 218.225 1673.64 219.359 Q1671.6 220.471 1668.73 220.471 Q1664.04 220.471 1661.07 216.721 Q1658.13 212.971 1658.13 206.859 Q1658.13 200.748 1661.07 196.998 Q1664.04 193.248 1668.73 193.248 Q1671.6 193.248 1673.64 194.383 Q1675.7 195.494 1677.04 197.809 L1677.04 193.873 L1681.3 193.873 L1681.3 229.66 L1677.04 229.66 L1677.04 215.91 Z\" fill=\"#000000\" fill-rule=\"evenodd\" fill-opacity=\"1\" /><path clip-path=\"url(#clip400)\" d=\"M 0 0 M1689.64 209.568 L1689.64 193.873 L1693.9 193.873 L1693.9 209.406 Q1693.9 213.086 1695.33 214.938 Q1696.77 216.767 1699.64 216.767 Q1703.09 216.767 1705.08 214.568 Q1707.09 212.369 1707.09 208.572 L1707.09 193.873 L1711.35 193.873 L1711.35 219.799 L1707.09 219.799 L1707.09 215.818 Q1705.54 218.179 1703.48 219.336 Q1701.44 220.471 1698.73 220.471 Q1694.27 220.471 1691.95 217.693 Q1689.64 214.915 1689.64 209.568 M1700.35 193.248 L1700.35 193.248 Z\" fill=\"#000000\" fill-rule=\"evenodd\" fill-opacity=\"1\" /><path clip-path=\"url(#clip400)\" d=\"M 0 0 M1731.91 206.767 Q1726.74 206.767 1724.75 207.947 Q1722.76 209.128 1722.76 211.975 Q1722.76 214.244 1724.24 215.586 Q1725.75 216.906 1728.32 216.906 Q1731.86 216.906 1733.99 214.406 Q1736.14 211.883 1736.14 207.716 L1736.14 206.767 L1731.91 206.767 M1740.4 205.008 L1740.4 219.799 L1736.14 219.799 L1736.14 215.864 Q1734.68 218.225 1732.51 219.359 Q1730.33 220.471 1727.18 220.471 Q1723.2 220.471 1720.84 218.248 Q1718.5 216.003 1718.5 212.253 Q1718.5 207.878 1721.42 205.656 Q1724.36 203.434 1730.17 203.434 L1736.14 203.434 L1736.14 203.017 Q1736.14 200.077 1734.2 198.48 Q1732.28 196.86 1728.78 196.86 Q1726.56 196.86 1724.45 197.392 Q1722.34 197.924 1720.4 198.989 L1720.4 195.054 Q1722.74 194.151 1724.94 193.711 Q1727.14 193.248 1729.22 193.248 Q1734.84 193.248 1737.62 196.165 Q1740.4 199.082 1740.4 205.008 Z\" fill=\"#000000\" fill-rule=\"evenodd\" fill-opacity=\"1\" /><path clip-path=\"url(#clip400)\" d=\"M 0 0 M1764.2 197.855 Q1763.48 197.438 1762.62 197.253 Q1761.79 197.045 1760.77 197.045 Q1757.16 197.045 1755.22 199.406 Q1753.29 201.744 1753.29 206.142 L1753.29 219.799 L1749.01 219.799 L1749.01 193.873 L1753.29 193.873 L1753.29 197.901 Q1754.64 195.54 1756.79 194.406 Q1758.94 193.248 1762.02 193.248 Q1762.46 193.248 1762.99 193.318 Q1763.53 193.364 1764.17 193.48 L1764.2 197.855 Z\" fill=\"#000000\" fill-rule=\"evenodd\" fill-opacity=\"1\" /><path clip-path=\"url(#clip400)\" d=\"M 0 0 M1789.8 205.772 L1789.8 207.855 L1770.22 207.855 Q1770.49 212.253 1772.85 214.568 Q1775.24 216.859 1779.47 216.859 Q1781.93 216.859 1784.22 216.258 Q1786.53 215.656 1788.8 214.452 L1788.8 218.48 Q1786.51 219.452 1784.1 219.961 Q1781.7 220.471 1779.22 220.471 Q1773.02 220.471 1769.38 216.859 Q1765.77 213.248 1765.77 207.091 Q1765.77 200.725 1769.2 196.998 Q1772.65 193.248 1778.48 193.248 Q1783.71 193.248 1786.74 196.628 Q1789.8 199.985 1789.8 205.772 M1785.54 204.522 Q1785.49 201.026 1783.57 198.943 Q1781.67 196.86 1778.53 196.86 Q1774.96 196.86 1772.81 198.873 Q1770.68 200.887 1770.35 204.545 L1785.54 204.522 Z\" fill=\"#000000\" fill-rule=\"evenodd\" fill-opacity=\"1\" /><path clip-path=\"url(#clip400)\" d=\"M 0 0 M1813.32 194.637 L1813.32 198.665 Q1811.51 197.739 1809.57 197.276 Q1807.62 196.813 1805.54 196.813 Q1802.37 196.813 1800.77 197.785 Q1799.2 198.758 1799.2 200.702 Q1799.2 202.184 1800.33 203.04 Q1801.46 203.873 1804.89 204.637 L1806.35 204.961 Q1810.89 205.934 1812.78 207.716 Q1814.71 209.475 1814.71 212.646 Q1814.71 216.258 1811.84 218.364 Q1808.99 220.471 1803.99 220.471 Q1801.9 220.471 1799.64 220.054 Q1797.39 219.66 1794.89 218.85 L1794.89 214.452 Q1797.25 215.679 1799.54 216.304 Q1801.84 216.906 1804.08 216.906 Q1807.09 216.906 1808.71 215.887 Q1810.33 214.846 1810.33 212.971 Q1810.33 211.234 1809.15 210.309 Q1807.99 209.383 1804.03 208.526 L1802.55 208.179 Q1798.59 207.346 1796.84 205.633 Q1795.08 203.897 1795.08 200.887 Q1795.08 197.23 1797.67 195.239 Q1800.26 193.248 1805.03 193.248 Q1807.39 193.248 1809.47 193.596 Q1811.56 193.943 1813.32 194.637 Z\" fill=\"#000000\" fill-rule=\"evenodd\" fill-opacity=\"1\" /><polyline clip-path=\"url(#clip400)\" style=\"stroke:#e26f46; stroke-width:4; stroke-opacity:1; fill:none\" points=\"\n",
       "  1369.86,262.999 1486.16,262.999 \n",
       "  \"/>\n",
       "<path clip-path=\"url(#clip400)\" d=\"M 0 0 M1527.79 246.853 L1527.79 251.414 Q1525.12 250.141 1522.76 249.516 Q1520.4 248.891 1518.2 248.891 Q1514.38 248.891 1512.3 250.372 Q1510.24 251.853 1510.24 254.585 Q1510.24 256.877 1511.61 258.057 Q1512.99 259.215 1516.84 259.932 L1519.66 260.511 Q1524.89 261.506 1527.37 264.029 Q1529.87 266.529 1529.87 270.742 Q1529.87 275.765 1526.49 278.358 Q1523.13 280.951 1516.63 280.951 Q1514.17 280.951 1511.4 280.395 Q1508.64 279.839 1505.68 278.751 L1505.68 273.937 Q1508.53 275.534 1511.26 276.344 Q1513.99 277.154 1516.63 277.154 Q1520.63 277.154 1522.81 275.58 Q1524.98 274.006 1524.98 271.089 Q1524.98 268.543 1523.41 267.108 Q1521.86 265.673 1518.3 264.955 L1515.45 264.4 Q1510.22 263.358 1507.88 261.136 Q1505.54 258.914 1505.54 254.955 Q1505.54 250.372 1508.76 247.733 Q1512 245.094 1517.67 245.094 Q1520.1 245.094 1522.62 245.534 Q1525.15 245.974 1527.79 246.853 Z\" fill=\"#000000\" fill-rule=\"evenodd\" fill-opacity=\"1\" /><path clip-path=\"url(#clip400)\" d=\"M 0 0 M1546.07 280.279 L1532.88 245.719 L1537.76 245.719 L1548.71 274.816 L1559.68 245.719 L1564.54 245.719 L1551.37 280.279 L1546.07 280.279 Z\" fill=\"#000000\" fill-rule=\"evenodd\" fill-opacity=\"1\" /><path clip-path=\"url(#clip400)\" d=\"M 0 0 M1574.27 249.562 L1574.27 276.437 L1579.92 276.437 Q1587.07 276.437 1590.38 273.196 Q1593.71 269.955 1593.71 262.965 Q1593.71 256.02 1590.38 252.803 Q1587.07 249.562 1579.92 249.562 L1574.27 249.562 M1569.59 245.719 L1579.2 245.719 Q1589.24 245.719 1593.94 249.909 Q1598.64 254.076 1598.64 262.965 Q1598.64 271.9 1593.92 276.089 Q1589.2 280.279 1579.2 280.279 L1569.59 280.279 L1569.59 245.719 Z\" fill=\"#000000\" fill-rule=\"evenodd\" fill-opacity=\"1\" /><polyline clip-path=\"url(#clip400)\" style=\"stroke:#3da44d; stroke-width:4; stroke-opacity:1; fill:none\" points=\"\n",
       "  1369.86,323.479 1486.16,323.479 \n",
       "  \"/>\n",
       "<path clip-path=\"url(#clip400)\" d=\"M 0 0 M1525.89 319.81 Q1527.48 316.94 1529.71 315.574 Q1531.93 314.208 1534.94 314.208 Q1538.99 314.208 1541.19 317.056 Q1543.39 319.88 1543.39 325.111 L1543.39 340.759 L1539.11 340.759 L1539.11 325.25 Q1539.11 321.523 1537.79 319.718 Q1536.47 317.912 1533.76 317.912 Q1530.45 317.912 1528.53 320.111 Q1526.61 322.31 1526.61 326.107 L1526.61 340.759 L1522.32 340.759 L1522.32 325.25 Q1522.32 321.5 1521 319.718 Q1519.68 317.912 1516.93 317.912 Q1513.67 317.912 1511.74 320.134 Q1509.82 322.333 1509.82 326.107 L1509.82 340.759 L1505.54 340.759 L1505.54 314.833 L1509.82 314.833 L1509.82 318.861 Q1511.28 316.477 1513.32 315.343 Q1515.36 314.208 1518.16 314.208 Q1520.98 314.208 1522.95 315.644 Q1524.94 317.079 1525.89 319.81 Z\" fill=\"#000000\" fill-rule=\"evenodd\" fill-opacity=\"1\" /><path clip-path=\"url(#clip400)\" d=\"M 0 0 M1551.44 330.528 L1551.44 314.833 L1555.7 314.833 L1555.7 330.366 Q1555.7 334.046 1557.14 335.898 Q1558.57 337.727 1561.44 337.727 Q1564.89 337.727 1566.88 335.528 Q1568.9 333.329 1568.9 329.532 L1568.9 314.833 L1573.16 314.833 L1573.16 340.759 L1568.9 340.759 L1568.9 336.778 Q1567.35 339.139 1565.29 340.296 Q1563.25 341.431 1560.54 341.431 Q1556.07 341.431 1553.76 338.653 Q1551.44 335.875 1551.44 330.528 M1562.16 314.208 L1562.16 314.208 Z\" fill=\"#000000\" fill-rule=\"evenodd\" fill-opacity=\"1\" /><path clip-path=\"url(#clip400)\" d=\"M 0 0 M1581.93 304.741 L1586.19 304.741 L1586.19 340.759 L1581.93 340.759 L1581.93 304.741 Z\" fill=\"#000000\" fill-rule=\"evenodd\" fill-opacity=\"1\" /><path clip-path=\"url(#clip400)\" d=\"M 0 0 M1599.31 307.472 L1599.31 314.833 L1608.09 314.833 L1608.09 318.144 L1599.31 318.144 L1599.31 332.218 Q1599.31 335.389 1600.17 336.292 Q1601.05 337.194 1603.71 337.194 L1608.09 337.194 L1608.09 340.759 L1603.71 340.759 Q1598.78 340.759 1596.91 338.931 Q1595.03 337.079 1595.03 332.218 L1595.03 318.144 L1591.91 318.144 L1591.91 314.833 L1595.03 314.833 L1595.03 307.472 L1599.31 307.472 Z\" fill=\"#000000\" fill-rule=\"evenodd\" fill-opacity=\"1\" /><path clip-path=\"url(#clip400)\" d=\"M 0 0 M1613.69 314.833 L1617.95 314.833 L1617.95 340.759 L1613.69 340.759 L1613.69 314.833 M1613.69 304.741 L1617.95 304.741 L1617.95 310.134 L1613.69 310.134 L1613.69 304.741 Z\" fill=\"#000000\" fill-rule=\"evenodd\" fill-opacity=\"1\" /><path clip-path=\"url(#clip400)\" d=\"M 0 0 M1643.39 315.597 L1643.39 319.625 Q1641.58 318.699 1639.64 318.236 Q1637.69 317.773 1635.61 317.773 Q1632.44 317.773 1630.84 318.745 Q1629.27 319.718 1629.27 321.662 Q1629.27 323.144 1630.4 324 Q1631.54 324.833 1634.96 325.597 L1636.42 325.921 Q1640.96 326.894 1642.85 328.676 Q1644.78 330.435 1644.78 333.606 Q1644.78 337.218 1641.91 339.324 Q1639.06 341.431 1634.06 341.431 Q1631.98 341.431 1629.71 341.014 Q1627.46 340.62 1624.96 339.81 L1624.96 335.412 Q1627.32 336.639 1629.61 337.264 Q1631.91 337.866 1634.15 337.866 Q1637.16 337.866 1638.78 336.847 Q1640.4 335.806 1640.4 333.931 Q1640.4 332.194 1639.22 331.269 Q1638.06 330.343 1634.1 329.486 L1632.62 329.139 Q1628.66 328.306 1626.91 326.593 Q1625.15 324.857 1625.15 321.847 Q1625.15 318.19 1627.74 316.199 Q1630.33 314.208 1635.1 314.208 Q1637.46 314.208 1639.54 314.556 Q1641.63 314.903 1643.39 315.597 Z\" fill=\"#000000\" fill-rule=\"evenodd\" fill-opacity=\"1\" /><path clip-path=\"url(#clip400)\" d=\"M 0 0 M1670.22 315.829 L1670.22 319.81 Q1668.41 318.815 1666.58 318.329 Q1664.78 317.82 1662.92 317.82 Q1658.78 317.82 1656.49 320.458 Q1654.2 323.074 1654.2 327.819 Q1654.2 332.565 1656.49 335.204 Q1658.78 337.819 1662.92 337.819 Q1664.78 337.819 1666.58 337.333 Q1668.41 336.824 1670.22 335.829 L1670.22 339.764 Q1668.43 340.597 1666.51 341.014 Q1664.61 341.431 1662.46 341.431 Q1656.6 341.431 1653.16 337.75 Q1649.71 334.069 1649.71 327.819 Q1649.71 321.477 1653.18 317.843 Q1656.67 314.208 1662.74 314.208 Q1664.71 314.208 1666.58 314.625 Q1668.46 315.019 1670.22 315.829 Z\" fill=\"#000000\" fill-rule=\"evenodd\" fill-opacity=\"1\" /><path clip-path=\"url(#clip400)\" d=\"M 0 0 M1689.41 327.727 Q1684.24 327.727 1682.25 328.907 Q1680.26 330.088 1680.26 332.935 Q1680.26 335.204 1681.74 336.546 Q1683.25 337.866 1685.82 337.866 Q1689.36 337.866 1691.49 335.366 Q1693.64 332.843 1693.64 328.676 L1693.64 327.727 L1689.41 327.727 M1697.9 325.968 L1697.9 340.759 L1693.64 340.759 L1693.64 336.824 Q1692.18 339.185 1690.01 340.319 Q1687.83 341.431 1684.68 341.431 Q1680.7 341.431 1678.34 339.208 Q1676 336.963 1676 333.213 Q1676 328.838 1678.92 326.616 Q1681.86 324.394 1687.67 324.394 L1693.64 324.394 L1693.64 323.977 Q1693.64 321.037 1691.7 319.44 Q1689.78 317.82 1686.28 317.82 Q1684.06 317.82 1681.95 318.352 Q1679.85 318.884 1677.9 319.949 L1677.9 316.014 Q1680.24 315.111 1682.44 314.671 Q1684.64 314.208 1686.72 314.208 Q1692.35 314.208 1695.12 317.125 Q1697.9 320.042 1697.9 325.968 Z\" fill=\"#000000\" fill-rule=\"evenodd\" fill-opacity=\"1\" /><path clip-path=\"url(#clip400)\" d=\"M 0 0 M1706.67 304.741 L1710.93 304.741 L1710.93 340.759 L1706.67 340.759 L1706.67 304.741 Z\" fill=\"#000000\" fill-rule=\"evenodd\" fill-opacity=\"1\" /><path clip-path=\"url(#clip400)\" d=\"M 0 0 M1742.02 326.732 L1742.02 328.815 L1722.44 328.815 Q1722.72 333.213 1725.08 335.528 Q1727.46 337.819 1731.7 337.819 Q1734.15 337.819 1736.44 337.218 Q1738.76 336.616 1741.03 335.412 L1741.03 339.44 Q1738.73 340.412 1736.33 340.921 Q1733.92 341.431 1731.44 341.431 Q1725.24 341.431 1721.6 337.819 Q1717.99 334.208 1717.99 328.051 Q1717.99 321.685 1721.42 317.958 Q1724.87 314.208 1730.7 314.208 Q1735.93 314.208 1738.97 317.588 Q1742.02 320.945 1742.02 326.732 M1737.76 325.482 Q1737.72 321.986 1735.79 319.903 Q1733.9 317.82 1730.75 317.82 Q1727.18 317.82 1725.03 319.833 Q1722.9 321.847 1722.58 325.505 L1737.76 325.482 Z\" fill=\"#000000\" fill-rule=\"evenodd\" fill-opacity=\"1\" /><path clip-path=\"url(#clip400)\" d=\"M 0 0 M1784.98 307.333 L1784.98 311.894 Q1782.32 310.621 1779.96 309.996 Q1777.6 309.371 1775.4 309.371 Q1771.58 309.371 1769.5 310.852 Q1767.44 312.333 1767.44 315.065 Q1767.44 317.357 1768.8 318.537 Q1770.19 319.695 1774.03 320.412 L1776.86 320.991 Q1782.09 321.986 1784.57 324.509 Q1787.07 327.009 1787.07 331.222 Q1787.07 336.245 1783.69 338.838 Q1780.33 341.431 1773.83 341.431 Q1771.37 341.431 1768.59 340.875 Q1765.84 340.319 1762.88 339.231 L1762.88 334.417 Q1765.72 336.014 1768.46 336.824 Q1771.19 337.634 1773.83 337.634 Q1777.83 337.634 1780.01 336.06 Q1782.18 334.486 1782.18 331.569 Q1782.18 329.023 1780.61 327.588 Q1779.06 326.153 1775.49 325.435 L1772.65 324.88 Q1767.41 323.838 1765.08 321.616 Q1762.74 319.394 1762.74 315.435 Q1762.74 310.852 1765.96 308.213 Q1769.2 305.574 1774.87 305.574 Q1777.3 305.574 1779.82 306.014 Q1782.34 306.454 1784.98 307.333 Z\" fill=\"#000000\" fill-rule=\"evenodd\" fill-opacity=\"1\" /><path clip-path=\"url(#clip400)\" d=\"M 0 0 M1803.27 340.759 L1790.08 306.199 L1794.96 306.199 L1805.91 335.296 L1816.88 306.199 L1821.74 306.199 L1808.57 340.759 L1803.27 340.759 Z\" fill=\"#000000\" fill-rule=\"evenodd\" fill-opacity=\"1\" /><path clip-path=\"url(#clip400)\" d=\"M 0 0 M1831.46 310.042 L1831.46 336.917 L1837.11 336.917 Q1844.27 336.917 1847.58 333.676 Q1850.91 330.435 1850.91 323.445 Q1850.91 316.5 1847.58 313.283 Q1844.27 310.042 1837.11 310.042 L1831.46 310.042 M1826.79 306.199 L1836.4 306.199 Q1846.44 306.199 1851.14 310.389 Q1855.84 314.556 1855.84 323.445 Q1855.84 332.38 1851.12 336.569 Q1846.4 340.759 1836.4 340.759 L1826.79 340.759 L1826.79 306.199 Z\" fill=\"#000000\" fill-rule=\"evenodd\" fill-opacity=\"1\" /></svg>\n"
      ]
     },
     "execution_count": 44,
     "metadata": {},
     "output_type": "execute_result"
    }
   ],
   "source": [
    "graph_experiment(lossEvery,errFs, errSVDs, errMultiSVDs, title=\"d=1, L=81\")"
   ]
  },
  {
   "cell_type": "code",
   "execution_count": null,
   "metadata": {},
   "outputs": [],
   "source": []
  }
 ],
 "metadata": {
  "kernelspec": {
   "display_name": "Julia 1.5.3",
   "language": "julia",
   "name": "julia-1.5"
  },
  "language_info": {
   "file_extension": ".jl",
   "mimetype": "application/julia",
   "name": "julia",
   "version": "1.5.3"
  }
 },
 "nbformat": 4,
 "nbformat_minor": 4
}
